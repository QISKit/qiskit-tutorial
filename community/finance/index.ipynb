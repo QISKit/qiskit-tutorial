{
 "cells": [
  {
   "cell_type": "markdown",
   "metadata": {},
   "source": [
    "# Qiskit Finance Community Tutorials"
   ]
  },
  {
   "cell_type": "markdown",
   "metadata": {},
   "source": [
    "Welcome Qiskitters to the Qiskit Finance community tutorials.\n",
    "\n",
    "Qiskit Finance is a set of tools, algorithms and software for use with quantum computers to carry out research and investigate how to take advantage of quantum computing power to solve problems in the Financial domain.\n",
    "\n",
    "In the following, you'll find a list of currently available community tutorials.\n",
    "Please also see the [Qiskit Finance Tutorials](../../qiskit/finance/index.ipynb) for more examples.\n",
    "\n",
    "Further contributions to simulation or other use cases in finance, such as optimization or machine learning, are very welcome!"
   ]
  },
  {
   "cell_type": "markdown",
   "metadata": {},
   "source": [
    "### Option pricing on a quantum computer:\n",
    "- <a href=\"simulation/long_butterfly.ipynb\">Long Butterfly</a> (univariate, payoff with 4 segments)\n",
    "- <a href=\"simulation/short_butterfly.ipynb\">Short Butterfly</a> (univariate, payoff with 4 segments)\n",
    "- <a href=\"simulation/iron_condor.ipynb\">Iron Condor</a> (univariate, payoff with 5 segments)"
   ]
  },
  {
   "cell_type": "code",
   "execution_count": null,
   "metadata": {},
   "outputs": [],
   "source": []
  }
 ],
 "metadata": {
  "kernelspec": {
   "display_name": "qiskit_master",
   "language": "python",
   "name": "qiskit_master"
  },
  "language_info": {
   "codemirror_mode": {
    "name": "ipython",
    "version": 3
   },
   "file_extension": ".py",
   "mimetype": "text/x-python",
   "name": "python",
   "nbconvert_exporter": "python",
   "pygments_lexer": "ipython3",
   "version": "3.6.1"
  }
 },
 "nbformat": 4,
 "nbformat_minor": 2
}
