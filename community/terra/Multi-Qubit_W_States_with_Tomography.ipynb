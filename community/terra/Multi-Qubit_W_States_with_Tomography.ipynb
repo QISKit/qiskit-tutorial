{
 "cells": [
  {
   "cell_type": "markdown",
   "metadata": {},
   "source": [
    "<img src=\"../../images/qiskit-heading.gif\" alt=\"Note: In order for images to show up in this jupyter notebook you need to select File => Trusted Notebook\" width=\"500 px\" align=\"left\">"
   ]
  },
  {
   "cell_type": "markdown",
   "metadata": {},
   "source": [
    "# Deterministic Creation of Multi-Qubit W State Systems\n",
    "\n",
    "## _*Benchmarking Competing Algorithms by Quantum Tomography*_ \n",
    "\n",
    "\n",
    "***\n",
    "### Contributors\n",
    "Pierre Decoodt\n"
   ]
  },
  {
   "cell_type": "markdown",
   "metadata": {},
   "source": [
    "A generalized $n$-qubit W state system can be written as$^{[1]}$:\n",
    "$$ |W_{n}\\rangle \\; = \\; \\sqrt{\\frac{1}{n}} \\: (\\:|10...0\\rangle \\: +  |01...0\\rangle \\: +...+ |00...1\\rangle \\:) $$\n",
    "\n",
    "A specific compact algorithm allows the deterministic creation of W states of any size $n$., as described here:\n",
    "\n",
    "https://nbviewer.jupyter.org/github/Qiskit/qiskit-tutorial/blob/master/community/teach_me_qiskit_2018/w_state/W%20State%201%20-%20Multi-Qubit%20Systems.ipynb\n",
    "\n",
    "This algorithm is inspired by Diker's theoretical proposition$^{[2]}$, but is characterized by a linear rather than quadratic progression of the number of gates needed when  $ n $ increases.\n",
    "\n",
    "In many cases, the QISKit compiler is so smart that it allows safely the programming of circuits without taking into account the architecture of the different final real target devices. This is the approach that is presented here with realization of a compact multi-qubit W state generation program.\n",
    "\n",
    "For the creation of such states, an other approach is to use a general algorithm of arbitrary initialization, as described _at the end_ of the following tutorial:\n",
    "\n",
    "https://nbviewer.jupyter.org/github/Qiskit/qiskit-tutorial/blob/master/qiskit/terra/using_different_gates.ipynb\n",
    "\n",
    "\n",
    "Therefore, why worry about using a specific algorithm, sophisticated on the theoretical level, while a ready-made alternative, valid for any entangled state, is at our disposal?\n",
    "\n",
    "For this reason, it seemed interesting to compare the two approaches by using quantum fidelity as a benchmark, with the help of the methodology presented here:\n",
    "\n",
    "https://nbviewer.jupyter.org/github/Qiskit/qiskit-tutorial/blob/master/qiskit/ignis/state_tomography.ipynb (the code to calculate the quantum fidelity used here comes mostly from this last tutorial).\n",
    "\n",
    "As you will see at the end of the notebook in the \"results\" section, one of the algorithms in competition clearly outperforms the other...\n",
    "\n",
    "NB : This version for qiskit-terra 0.6 (QuantumProgram removed)"
   ]
  },
  {
   "cell_type": "code",
   "execution_count": 1,
   "metadata": {},
   "outputs": [],
   "source": [
    "#Importing packages\n",
    "\n",
    "import numpy as np\n",
    "import time\n",
    "import matplotlib.pyplot as plt\n",
    "%matplotlib inline\n",
    "\n",
    "\n",
    "# importing from qiskit\n",
    "from qiskit import QuantumCircuit, QuantumRegister, ClassicalRegister, execute\n",
    "from qiskit import Aer, IBMQ\n",
    "\n",
    "# import tomography library\n",
    "import qiskit.tools.qcvv.tomography as tomo\n",
    "\n",
    "# useful additional packages \n",
    "from qiskit.tools.visualization import plot_state, plot_histogram        \n",
    "from qiskit.tools.qi.qi import state_fidelity, outer\n",
    "from qiskit.tools.visualization import matplotlib_circuit_drawer as drawer, qx_color_scheme \n",
    "%config InlineBackend.figure_format = 'png'"
   ]
  },
  {
   "cell_type": "code",
   "execution_count": 2,
   "metadata": {},
   "outputs": [],
   "source": [
    "# You may skip this if you don't have a credential. It will work locally on simulators from Aer\n",
    "IBMQ.load_accounts()"
   ]
  },
  {
   "cell_type": "code",
   "execution_count": 3,
   "metadata": {},
   "outputs": [
    {
     "data": {
      "text/plain": [
       "[<IBMQBackend('ibmqx4') from IBMQ()>,\n",
       " <IBMQBackend('ibmqx5') from IBMQ()>,\n",
       " <IBMQBackend('ibmqx2') from IBMQ()>,\n",
       " <IBMQBackend('ibmq_16_melbourne') from IBMQ()>,\n",
       " <IBMQBackend('ibmq_qasm_simulator') from IBMQ()>]"
      ]
     },
     "execution_count": 3,
     "metadata": {},
     "output_type": "execute_result"
    }
   ],
   "source": [
    "IBMQ.backends() #for info"
   ]
  },
  {
   "cell_type": "code",
   "execution_count": 4,
   "metadata": {},
   "outputs": [
    {
     "name": "stdout",
     "output_type": "stream",
     "text": [
      "{'pending_jobs': 199, 'name': 'ibmqx4', 'operational': True}\n",
      "{'pending_jobs': 8, 'name': 'ibmqx5', 'operational': False}\n",
      "{'pending_jobs': 0, 'name': 'ibmqx2', 'operational': False}\n",
      "{'pending_jobs': 1, 'name': 'ibmq_16_melbourne', 'operational': True}\n",
      "{'pending_jobs': 0, 'name': 'ibmq_qasm_simulator', 'operational': True}\n"
     ]
    }
   ],
   "source": [
    "# You may skip this if you want\n",
    "for backend in IBMQ.backends():\n",
    "    print(backend.status())"
   ]
  },
  {
   "cell_type": "code",
   "execution_count": 5,
   "metadata": {},
   "outputs": [
    {
     "data": {
      "text/plain": [
       "[<QasmSimulator('qasm_simulator') from Aer()>,\n",
       " <QasmSimulatorPy('qasm_simulator_py') from Aer()>,\n",
       " <StatevectorSimulator('statevector_simulator') from Aer()>,\n",
       " <StatevectorSimulatorPy('statevector_simulator_py') from Aer()>,\n",
       " <UnitarySimulator('unitary_simulator') from Aer()>,\n",
       " <CliffordSimulator('clifford_simulator') from Aer()>]"
      ]
     },
     "execution_count": 5,
     "metadata": {},
     "output_type": "execute_result"
    }
   ],
   "source": [
    "Aer.backends() #for info"
   ]
  },
  {
   "cell_type": "code",
   "execution_count": 6,
   "metadata": {},
   "outputs": [
    {
     "name": "stdout",
     "output_type": "stream",
     "text": [
      "type number of qubits + enter: 3\n",
      "Do you want to use the specific method?\n",
      "    Answer by (y/n) + enter\n",
      "y\n"
     ]
    }
   ],
   "source": [
    "# Determining the job\n",
    "n = int(input(\"type number of qubits + enter: \"))\n",
    "\n",
    "# Creating a n-qubit quantum register\n",
    "qr = QuantumRegister(n)\n",
    "cr = ClassicalRegister(n)\n",
    "my_state = QuantumCircuit(qr, cr, name='my_state')\n",
    "\n",
    "# Desired vector for a n-qubit W state\n",
    "desired_vector = []\n",
    "qr_vector = []\n",
    "n_vector = 2**n\n",
    "for i in range(n_vector):\n",
    "        desired_vector.append(0)\n",
    "for j in range(n) :           \n",
    "        desired_vector[2**j] = 1/np.sqrt(n)\n",
    "\n",
    "        \n",
    "# Choice of the circuit building method (arbitrary or specific)        \n",
    "print(\"Do you want to use the specific method?\")\n",
    "W_state_circuit = input(\"    Answer by (y/n) + enter\\n\").upper()\n",
    "\n",
    "if (W_state_circuit == \"N\") :\n",
    "# Initializing a n-qubit W quantum state using the arbitrary method   \n",
    "    for j in range(n) :                   \n",
    "        qr_vector.append(qr[j])\n",
    "    my_state.initialize(desired_vector, qr_vector)\n",
    "    \n",
    "else:\n",
    "# Quantum circuit to make a n-qubit W state using the specific method\n",
    "    my_state.x(qr[n-1]) #start is |10...0>\n",
    "    for i in range(1,n) :\n",
    "        theta = np.arccos(np.sqrt(1/(n-i+1)))\n",
    "        my_state.ry(-theta,qr[n-i-1])       \n",
    "        my_state.cz(qr[n-i],qr[n-i-1])\n",
    "        my_state.ry(theta,qr[n-i-1])\n",
    "    for i in range(1,n) :\n",
    "        my_state.cx(qr[n-i-1],qr[n-i])"
   ]
  },
  {
   "cell_type": "code",
   "execution_count": 7,
   "metadata": {
    "scrolled": false
   },
   "outputs": [],
   "source": [
    "#Test circuit \"my_state\"  : Measurements\n",
    "measuring = QuantumCircuit(qr, cr, name='measuring')\n",
    "for i in range(n) :\n",
    "    measuring.measure(qr[i] , cr[i])\n",
    "test = my_state+measuring"
   ]
  },
  {
   "cell_type": "code",
   "execution_count": 8,
   "metadata": {
    "scrolled": false
   },
   "outputs": [
    {
     "name": "stdout",
     "output_type": "stream",
     "text": [
      "start executing test, specific: Y qubits: 3 backend: qasm_simulator shots: 1024 09/10/2018 16:55:41\n",
      "<bound method AerJob.status of <qiskit.backends.aer.aerjob.AerJob object at 0x0000021861C64A20>>\n"
     ]
    },
    {
     "data": {
      "image/png": "[encoded data removed]",
      "text/plain": [
       "<Figure size 432x288 with 1 Axes>"
      ]
     },
     "metadata": {},
     "output_type": "display_data"
    },
    {
     "name": "stdout",
     "output_type": "stream",
     "text": [
      "{'001': 339, '010': 343, '100': 342}\n"
     ]
    }
   ],
   "source": [
    "#Test circuit \"my_state\" : Local simulator\n",
    "backend_sim = Aer.get_backend('qasm_simulator')\n",
    "shots = 1024\n",
    "time_exp = time.strftime('%d/%m/%Y %H:%M:%S')\n",
    "print('start executing test, specific:', W_state_circuit, \"qubits:\",n,'backend:',backend_sim, \"shots:\", shots,time_exp)\n",
    "job = execute(test, backend_sim, shots=shots, max_credits=5)\n",
    "print(job.status)\n",
    "plot_histogram(job.result().get_counts(test))\n",
    "print(job.result().get_counts(test))"
   ]
  },
  {
   "cell_type": "code",
   "execution_count": 11,
   "metadata": {},
   "outputs": [
    {
     "name": "stdout",
     "output_type": "stream",
     "text": [
      "OPENQASM 2.0;\n",
      "include \"qelib1.inc\";\n",
      "qreg q0[3];\n",
      "creg c0[3];\n",
      "x q0[2];\n",
      "ry(-0.955316618124509) q0[1];\n",
      "cz q0[2],q0[1];\n",
      "ry(0.955316618124509) q0[1];\n",
      "ry(-0.785398163397448) q0[0];\n",
      "cz q0[1],q0[0];\n",
      "ry(0.785398163397448) q0[0];\n",
      "cx q0[1],q0[2];\n",
      "cx q0[0],q0[1];\n",
      "measure q0[0] -> c0[0];\n",
      "measure q0[1] -> c0[1];\n",
      "measure q0[2] -> c0[2];\n",
      "\n"
     ]
    }
   ],
   "source": [
    "# QASM from test\n",
    "QASM_source = test.qasm()\n",
    "print(QASM_source)"
   ]
  },
  {
   "cell_type": "code",
   "execution_count": 12,
   "metadata": {},
   "outputs": [
    {
     "data": {
      "image/png": "[encoded data removed]",
      "text/plain": [
       "<Figure size 782.6x258.86 with 1 Axes>"
      ]
     },
     "metadata": {},
     "output_type": "display_data"
    }
   ],
   "source": [
    "# Draw the circuit (At time of publishing for Qiskit 0.6.1, it doesn't work for arbitrary initialization circuit)\n",
    "my_style = {'latexdrawerstyle': True, 'cregbundle': True}\n",
    "if W_state_circuit == \"Y\" :\n",
    "    drawer(test, style=my_style)"
   ]
  },
  {
   "cell_type": "code",
   "execution_count": 13,
   "metadata": {},
   "outputs": [
    {
     "name": "stdout",
     "output_type": "stream",
     "text": [
      "start executing test, specific: Y qubits: 3 backend: qasm_simulator shots: 1024 09/10/2018 16:56:11\n",
      "<bound method IBMQJob.status of <qiskit.backends.ibmq.ibmqjob.IBMQJobPreQobj object at 0x00000218621F32B0>>\n"
     ]
    },
    {
     "data": {
      "image/png": "[encoded data removed]",
      "text/plain": [
       "<Figure size 432x288 with 1 Axes>"
      ]
     },
     "metadata": {},
     "output_type": "display_data"
    },
    {
     "name": "stdout",
     "output_type": "stream",
     "text": [
      "{'000': 136, '001': 333, '010': 300, '011': 22, '100': 148, '101': 28, '110': 39, '111': 18}\n"
     ]
    }
   ],
   "source": [
    "#Test circuit \"my_state\" : Real Quantum Computer (You may skip this if necessary)\n",
    "\n",
    "#Choosing the backend\n",
    "#backend_IBMQ = IBMQ.get_backend('ibmqx4') # for using this real device\n",
    "backend_IBMQ = IBMQ.get_backend('ibmq_16_melbourne')\n",
    "#backend_IBMQ = IBMQ.get_backend('ibmq_qasm_simulator') # if the real devices are too busy or as a final precautionary test\n",
    "shots = 1024\n",
    "\n",
    "time_exp = time.strftime('%d/%m/%Y %H:%M:%S')\n",
    "print('start executing test, specific:', W_state_circuit, \"qubits:\",n,'backend:',backend_sim, \"shots:\", shots,time_exp)\n",
    "job = execute(test, backend_IBMQ, shots=shots, max_credits=5)\n",
    "print(job.status)\n",
    "plot_histogram(job.result().get_counts(test))\n",
    "print(job.result().get_counts(test))"
   ]
  },
  {
   "cell_type": "code",
   "execution_count": 16,
   "metadata": {},
   "outputs": [
    {
     "name": "stdout",
     "output_type": "stream",
     "text": [
      "<bound method IBMQJob.status of <qiskit.backends.ibmq.ibmqjob.IBMQJobPreQobj object at 0x00000218620FE7B8>>\n",
      "COMPLETED\n",
      "my state 3 - qubit on ibmq_16_melbourne N= 1024 09/10/2018 17:33:44\n",
      "Fidelity with ideal state\n",
      "F = 0.690766711127575\n"
     ]
    }
   ],
   "source": [
    "# Quantum fidelity\n",
    "\n",
    "# Obtaining the final state vector\n",
    "backend_stvct = Aer.get_backend('statevector_simulator')\n",
    "job = execute(my_state, backend_stvct)\n",
    "my_state_psi = job.result().get_statevector(my_state)\n",
    "\n",
    "# Construct state tomography set for measurement of qubits [0, ..., n-1] in the Pauli basis\n",
    "qubit_set = []\n",
    "for i in range(0,n) :\n",
    "    qubit_set.append(i)\n",
    "\n",
    "my_state_tomo_set = tomo.state_tomography_set(qubit_set) # default value for meas_basis ='Pauli'.\n",
    "\n",
    "# Add the state tomography measurement circuits to the Quantum Program\n",
    "my_state_tomo_circuits = tomo.create_tomography_circuits(my_state, qr, cr, my_state_tomo_set)\n",
    "\n",
    "#Choosing the backend\n",
    "#backend_tomo = IBMQ.get_backend('ibmqx4') # for using this real device\n",
    "#backend_tomo = IBMQ.get_backend('ibmq_16_melbourne') # for using this real device\n",
    "#backend_tomo = IBMQ.get_backend('ibmq_qasm_simulator') # if the real devices are too busy or as a final precautionary test\n",
    "backend_tomo = Aer.get_backend('qasm_simulator') # for remaining local\n",
    "\n",
    "# Take 1024 shots for each measurement basis\n",
    "# Note: reduce this number for larger number of qubits\n",
    "shots = 1024\n",
    "# set max credits\n",
    "max_credits = 4\n",
    "\n",
    "# Run the experiment\n",
    "my_state_job = execute(my_state_tomo_circuits, backend_tomo, shots=shots)\n",
    "print(my_state_job.status)\n",
    "my_state_tomo_result = my_state_job.result()\n",
    "\n",
    "print(my_state_tomo_result)\n",
    "\n",
    "# Extracting tomography data from results\n",
    "my_state_tomo_data = tomo.tomography_data(my_state_tomo_result, my_state.name, my_state_tomo_set)\n",
    "\n",
    "# Reconstruct experimentally measured density matrix \n",
    "rho_fit = tomo.fit_tomography_data(my_state_tomo_data)\n",
    "\n",
    "# calculate fidelity of fitted state:\n",
    "time_exp = time.strftime('%d/%m/%Y %H:%M:%S')\n",
    "print('my state',n, '- qubit on', backend_tomo, \"N=\", shots,time_exp)\n",
    "F_fit = state_fidelity(rho_fit, my_state_psi)\n",
    "print('Fidelity with ideal state')\n",
    "print('F =', F_fit)"
   ]
  },
  {
   "cell_type": "markdown",
   "metadata": {},
   "source": [
    "### Results: ###\n",
    "\n",
    "The following results were obtained on the ibmqx4 using 1024 shots in each experiment:"
   ]
  },
  {
   "cell_type": "code",
   "execution_count": 17,
   "metadata": {},
   "outputs": [
    {
     "data": {
      "image/png": "[encoded data removed]",
      "text/plain": [
       "<Figure size 432x288 with 1 Axes>"
      ]
     },
     "metadata": {},
     "output_type": "display_data"
    }
   ],
   "source": [
    "plt.xlabel('Number of Entangled Qubits')\n",
    "plt.ylabel('Quantum Fidelity')\n",
    "plt.axis([1.4, 6, 0, 1])\n",
    "plt.grid()\n",
    "plt.plot([2,3,4,5], [0.812,0.735,0.592,0.457], 'ro-', label=\"Specific Algorithm\")\n",
    "plt.plot([2,3,4,5], [0.838,0.539,0.144,0.060], 'bs-', label=\"Arbitrary Initialization\")\n",
    "plt.legend()\n",
    "plt.show()"
   ]
  },
  {
   "cell_type": "markdown",
   "metadata": {},
   "source": [
    "### Concluding remark:\n",
    "\n",
    "\n",
    "The efficiency of the more compact specific algorithm as a deterministic $ |W_{n}\\rangle$ production tool, when estimated from the quantum fidelity, is clearly related to the linear progression of the number of required gates when n increases. On the other hand, the arbitrary initialization requires a number of gate increasing geometrically.\n",
    "This can be appreciated by looking at the qasm source of the respective circuits. "
   ]
  },
  {
   "cell_type": "markdown",
   "metadata": {},
   "source": [
    "### References:\n",
    "\n",
    "[1] Dür, W., Vidal, G., & Cirac, J. I. (2000). Three qubits can be entangled in two inequivalent ways. Physical Review A, 62(6), 062314. \n",
    "\n",
    "[2] Diker, F. (2016). Deterministic construction of arbitrary W states with quadratically increasing number of two-qubit gates. arXiv preprint arXiv:1606.09290\n"
   ]
  }
 ],
 "metadata": {
  "anaconda-cloud": {},
  "kernelspec": {
   "display_name": "Python 3",
   "language": "python",
   "name": "python3"
  },
  "language_info": {
   "codemirror_mode": {
    "name": "ipython",
    "version": 3
   },
   "file_extension": ".py",
   "mimetype": "text/x-python",
   "name": "python",
   "nbconvert_exporter": "python",
   "pygments_lexer": "ipython3",
   "version": "3.6.6"
  }
 },
 "nbformat": 4,
 "nbformat_minor": 2
}
