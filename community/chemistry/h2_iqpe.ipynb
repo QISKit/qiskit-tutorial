{
 "cells": [
  {
   "cell_type": "markdown",
   "metadata": {},
   "source": [
    "## _*H2 ground state energy computation using Iterative QPE*_\n",
    "\n",
    "This notebook demonstrates using Qiskit Chemistry to plot graphs of the ground state energy of the Hydrogen (H2) molecule over a range of inter-atomic distances using IQPE (Iterative Quantum Phase Estimation) algorithm. It is compared to the same energies as computed by the ExactEigensolver\n",
    "\n",
    "This notebook populates a dictionary, that is a progammatic representation of an input file, in order to drive the qiskit_chemistry stack. Such a dictionary can be manipulated programmatically and this is indeed the case here where we alter the molecule supplied to the driver in each loop.\n",
    "\n",
    "This notebook has been written to use the PYSCF chemistry driver. See the PYSCF chemistry driver readme if you need to install the external PySCF library that this driver requires."
   ]
  },
  {
   "cell_type": "code",
   "execution_count": 1,
   "metadata": {},
   "outputs": [],
   "source": [
    "import numpy as np\n",
    "import pylab\n",
    "from qiskit import Aer\n",
    "from qiskit.chemistry import QiskitChemistry\n",
    "import time\n",
    "\n",
    "# Input dictionary to configure Qiskit Chemistry for the chemistry problem.\n",
    "qiskit_chemistry_dict = {\n",
    "    'driver': {'name': 'PYSCF'},\n",
    "    'PYSCF': {'atom': '', 'basis': 'sto3g'},\n",
    "    'operator': {'name': 'hamiltonian', 'transformation': 'full', 'qubit_mapping': 'parity'},\n",
    "    'algorithm': {'name': ''},\n",
    "    'initial_state': {'name': 'HartreeFock'},\n",
    "}\n",
    "molecule = 'H .0 .0 -{0}; H .0 .0 {0}'\n",
    "algorithms = [\n",
    "    {\n",
    "        'name': 'IQPE',\n",
    "        'num_iterations': 16,\n",
    "        'num_time_slices': 3000,\n",
    "        'expansion_mode': 'trotter',\n",
    "        'expansion_order': 1,\n",
    "    },\n",
    "    {\n",
    "        'name': 'ExactEigensolver'\n",
    "    }\n",
    "]\n",
    "\n",
    "backends = [\n",
    "    Aer.get_backend('qasm_simulator'),\n",
    "    None\n",
    "]\n",
    "\n",
    "start = 0.5  # Start distance\n",
    "by    = 0.5  # How much to increase distance by\n",
    "steps = 20   # Number of steps to increase by\n",
    "energies = np.empty([len(algorithms), steps+1])\n",
    "hf_energies = np.empty(steps+1)\n",
    "distances = np.empty(steps+1)"
   ]
  },
  {
   "cell_type": "code",
   "execution_count": null,
   "metadata": {},
   "outputs": [],
   "source": [
    "import concurrent.futures\n",
    "import multiprocessing as mp\n",
    "import copy\n",
    "\n",
    "def subrountine(i, qiskit_chemistry_dict, d, backend, algorithm):\n",
    "    solver = QiskitChemistry()\n",
    "    qiskit_chemistry_dict['PYSCF']['atom'] = molecule.format(d/2) \n",
    "    qiskit_chemistry_dict['algorithm'] = algorithm\n",
    "    result = solver.run(qiskit_chemistry_dict, backend=backend)\n",
    "    return i, d, result['energy'], result['hf_energy']"
   ]
  },
  {
   "cell_type": "code",
   "execution_count": null,
   "metadata": {},
   "outputs": [],
   "source": [
    "start_time = time.time()\n",
    "max_workers = max(4, mp.cpu_count())\n",
    "with concurrent.futures.ProcessPoolExecutor(max_workers=max_workers) as executor:\n",
    "    futures = []\n",
    "    for j in range(len(algorithms)):\n",
    "        algorithm = algorithms[j]\n",
    "        backend = backends[j]\n",
    "        for i in range(steps+1):\n",
    "            d = start + i*by/steps\n",
    "            future = executor.submit(\n",
    "                subrountine, \n",
    "                i, \n",
    "                copy.deepcopy(qiskit_chemistry_dict), \n",
    "                d, \n",
    "                backend, \n",
    "                algorithm\n",
    "            )\n",
    "            futures.append(future)\n",
    "        for future in concurrent.futures.as_completed(futures):\n",
    "            i, d, energy, hf_energy = future.result()\n",
    "            energies[j][i] = energy\n",
    "            hf_energies[i] = hf_energy\n",
    "            distances[i] = d\n",
    "        \n",
    "print(' --- complete')\n",
    "\n",
    "print('Distances: ', distances)\n",
    "print('Energies:', energies)\n",
    "print('Hartree-Fock energies:', hf_energies)\n",
    "\n",
    "print(\"--- %s seconds ---\" % (time.time() - start_time))"
   ]
  },
  {
   "cell_type": "code",
   "execution_count": null,
   "metadata": {},
   "outputs": [],
   "source": [
    "pylab.plot(distances, hf_energies, label='Hartree-Fock')\n",
    "for j in range(len(algorithms)):\n",
    "    pylab.plot(distances, energies[j], label=algorithms[j]['name'])\n",
    "pylab.xlabel('Interatomic distance')\n",
    "pylab.ylabel('Energy')\n",
    "pylab.title('H2 Ground State Energy')\n",
    "pylab.legend(loc='upper right')\n",
    "pylab.show()"
   ]
  },
  {
   "cell_type": "code",
   "execution_count": null,
   "metadata": {},
   "outputs": [],
   "source": [
    "pylab.plot(distances, np.subtract(hf_energies, energies[1]), label='Hartree-Fock')\n",
    "pylab.plot(distances, np.subtract(energies[0], energies[1]), label='IQPE')\n",
    "pylab.xlabel('Interatomic distance')\n",
    "pylab.ylabel('Energy')\n",
    "pylab.title('Energy difference from ExactEigensolver')\n",
    "pylab.legend(loc='upper right')\n",
    "pylab.show()"
   ]
  }
 ],
 "metadata": {
  "kernelspec": {
   "display_name": "Python 3",
   "language": "python",
   "name": "python3"
  },
  "language_info": {
   "codemirror_mode": {
    "name": "ipython",
    "version": 3
   },
   "file_extension": ".py",
   "mimetype": "text/x-python",
   "name": "python",
   "nbconvert_exporter": "python",
   "pygments_lexer": "ipython3",
   "version": "3.6.7"
  }
 },
 "nbformat": 4,
 "nbformat_minor": 1
}
