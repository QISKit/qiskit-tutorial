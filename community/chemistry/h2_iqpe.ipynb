{
 "cells": [
  {
   "cell_type": "markdown",
   "metadata": {},
   "source": [
    "## _*H2 ground state energy computation using Iterative QPE*_\n",
    "\n",
    "This notebook demonstrates using Qiskit Chemistry to plot graphs of the ground state energy of the Hydrogen (H2) molecule over a range of inter-atomic distances using IQPE (Iterative Quantum Phase Estimation) algorithm. It is compared to the same energies as computed by the ExactEigensolver\n",
    "\n",
    "This notebook populates a dictionary, that is a progammatic representation of an input file, in order to drive the qiskit_chemistry stack. Such a dictionary can be manipulated programmatically and this is indeed the case here where we alter the molecule supplied to the driver in each loop.\n",
    "\n",
    "This notebook has been written to use the PYSCF chemistry driver. See the PYSCF chemistry driver readme if you need to install the external PySCF library that this driver requires."
   ]
  },
  {
   "cell_type": "code",
   "execution_count": 5,
   "metadata": {},
   "outputs": [],
   "source": [
    "import unittest\n",
    "\n",
    "import numpy as np\n",
    "import qiskit\n",
    "from qiskit.transpiler import PassManager\n",
    "from qiskit.aqua.utils import decimal_to_binary\n",
    "from qiskit.aqua import QuantumInstance\n",
    "from qiskit.aqua.algorithms.single_sample import IQPE\n",
    "from qiskit.aqua.algorithms.classical import ExactEigensolver\n",
    "from qiskit.chemistry.drivers import PySCFDriver, UnitsType\n",
    "from qiskit.chemistry import FermionicOperator, QiskitChemistryError\n",
    "from qiskit.chemistry.aqua_extensions.components.initial_states import HartreeFock\n",
    "import pylab\n",
    "from qiskit import Aer\n",
    "from qiskit.chemistry import QiskitChemistry\n",
    "import time\n",
    "import multiprocessing as mp\n",
    "\n",
    "def compute_energy(i, distance, algorithm):\n",
    "    try:\n",
    "        driver = PySCFDriver(\n",
    "            atom='H .0 .0 .0; H .0 .0 {}'.format(distance),\n",
    "            unit=UnitsType.ANGSTROM,\n",
    "            charge=0,\n",
    "            spin=0,\n",
    "            basis='sto3g'\n",
    "        )\n",
    "    except QiskitChemistryError:\n",
    "        raise AquaError('PYSCF driver does not appear to be installed')\n",
    "    molecule = driver.run()\n",
    "    qubit_mapping = 'parity'\n",
    "    fer_op = FermionicOperator(h1=molecule.one_body_integrals, h2=molecule.two_body_integrals)\n",
    "    qubit_op = fer_op.mapping(map_type=qubit_mapping, threshold=1e-10).two_qubit_reduced_operator(2)\n",
    "\n",
    "    if algorithm.lower() == 'exacteigensolver':\n",
    "        exact_eigensolver = ExactEigensolver(qubit_op, k=1)\n",
    "        result = exact_eigensolver.run()\n",
    "        reference_energy = result['energy']\n",
    "    elif algorithm.lower() == 'iqpe':\n",
    "        num_particles = molecule.num_alpha + molecule.num_beta\n",
    "        two_qubit_reduction = True\n",
    "        num_orbitals = qubit_op.num_qubits + (2 if two_qubit_reduction else 0)\n",
    "\n",
    "        num_time_slices = 50\n",
    "        num_iterations = 12\n",
    "        state_in = HartreeFock(qubit_op.num_qubits, num_orbitals,\n",
    "                               num_particles, qubit_mapping, two_qubit_reduction)\n",
    "        iqpe = IQPE(qubit_op, state_in, num_time_slices, num_iterations,\n",
    "                    expansion_mode='suzuki', expansion_order=2,\n",
    "                    shallow_circuit_concat=True)\n",
    "        backend = qiskit.BasicAer.get_backend('qasm_simulator')\n",
    "        quantum_instance = QuantumInstance(backend, shots=100, pass_manager=PassManager())\n",
    "\n",
    "        result = iqpe.run(quantum_instance)\n",
    "    else:\n",
    "        raise AquaError('Unrecognized algorithm.')\n",
    "    return i, distance, result['energy'] + molecule.nuclear_repulsion_energy, molecule.hf_energy"
   ]
  },
  {
   "cell_type": "code",
   "execution_count": 6,
   "metadata": {},
   "outputs": [
    {
     "name": "stdout",
     "output_type": "stream",
     "text": [
      "-1.101128242267701 0.8819620182000001\n",
      "-1.0790507361774568 0.962140383490909\n",
      "-1.1129965456691684 0.8141187860307693\n",
      "-1.042996274540095 1.05835442184\n",
      "-1.117349034990279 0.7559674441714287\n",
      "-1.1161514489386013 0.70556961456\n",
      "-1.1108503974765953 0.66147151365\n",
      "-1.1025105539245947 0.6225614246117648\n",
      "-1.0796369282103728 0.5570286430736843\n",
      "-1.066108649317937 0.52917721092\n",
      "-1.0919140410200567 0.5879746788\n",
      "-1.042996274540095 1.05835442184\n",
      "-1.1129965456691684 0.8141187860307693\n",
      "-1.101128242267701 0.8819620182000001\n",
      "-1.0790507361774568 0.962140383490909\n",
      "-1.1161514489386013 0.70556961456\n",
      "-1.117349034990279 0.7559674441714287\n",
      "-1.1108503974765953 0.66147151365\n",
      "-1.1025105539245947 0.6225614246117648\n",
      "-1.0919140410200567 0.5879746788\n",
      "-1.0796369282103728 0.5570286430736843\n",
      "-1.066108649317937 0.52917721092\n",
      " --- complete\n",
      "Distances:  [0.5  0.55 0.6  0.65 0.7  0.75 0.8  0.85 0.9  0.95 1.  ]\n",
      "Energies: [[-1.06430704 -1.10340441 -1.13179572 -1.11870203 -1.12480205 -1.15112697\n",
      "  -1.14416516 -1.11735113 -1.11227643 -1.11350223 -1.09974169]\n",
      " [-1.05515979 -1.09262991 -1.11628601 -1.12990478 -1.13618945 -1.13711707\n",
      "  -1.13414767 -1.12836188 -1.12056028 -1.11133942 -1.10115033]]\n",
      "Hartree-Fock energies: [-1.04299627 -1.07905074 -1.10112824 -1.11299655 -1.11734903 -1.11615145\n",
      " -1.1108504  -1.10251055 -1.09191404 -1.07963693 -1.06610865]\n",
      "--- 54.17791390419006 seconds ---\n"
     ]
    }
   ],
   "source": [
    "import concurrent.futures\n",
    "import multiprocessing as mp\n",
    "\n",
    "# print(compute_energy(1, 0.735, 'iqpe'))\n",
    "algorithms = ['iqpe', 'exacteigensolver']\n",
    "start = 0.5  # Start distance\n",
    "by    = 0.5  # How much to increase distance by\n",
    "steps = 10   # Number of steps to increase by\n",
    "energies = np.empty([len(algorithms), steps+1])\n",
    "hf_energies = np.empty(steps+1)\n",
    "distances = np.empty(steps+1)\n",
    "\n",
    "start_time = time.time()\n",
    "max_workers = max(4, mp.cpu_count())\n",
    "with concurrent.futures.ProcessPoolExecutor(max_workers=max_workers) as executor:\n",
    "    futures = []\n",
    "    for j in range(len(algorithms)):\n",
    "        algorithm = algorithms[j]\n",
    "        for i in range(steps+1):\n",
    "            d = start + i*by/steps\n",
    "            future = executor.submit(\n",
    "                compute_energy, \n",
    "                i, \n",
    "                d, \n",
    "                algorithm\n",
    "            )\n",
    "            futures.append(future)\n",
    "        for future in concurrent.futures.as_completed(futures):\n",
    "            i, d, energy, hf_energy = future.result()\n",
    "            energies[j][i] = energy\n",
    "            hf_energies[i] = hf_energy\n",
    "            distances[i] = d\n",
    "        \n",
    "print(' --- complete')\n",
    "\n",
    "print('Distances: ', distances)\n",
    "print('Energies:', energies)\n",
    "print('Hartree-Fock energies:', hf_energies)\n",
    "\n",
    "print(\"--- %s seconds ---\" % (time.time() - start_time))"
   ]
  },
  {
   "cell_type": "code",
   "execution_count": 4,
   "metadata": {},
   "outputs": [
    {
     "data": {
      "image/png": "[encoded data removed]",
      "text/plain": [
       "<Figure size 432x288 with 1 Axes>"
      ]
     },
     "metadata": {
      "needs_background": "light"
     },
     "output_type": "display_data"
    }
   ],
   "source": [
    "pylab.plot(distances, hf_energies, label='Hartree-Fock')\n",
    "for j in range(len(algorithms)):\n",
    "    pylab.plot(distances, energies[j], label=algorithms[j])\n",
    "pylab.xlabel('Interatomic distance')\n",
    "pylab.ylabel('Energy')\n",
    "pylab.title('H2 Ground State Energy')\n",
    "pylab.legend(loc='upper right')\n",
    "pylab.show()"
   ]
  },
  {
   "cell_type": "code",
   "execution_count": null,
   "metadata": {},
   "outputs": [],
   "source": [
    "pylab.plot(distances, np.subtract(hf_energies, energies[1]), label='Hartree-Fock')\n",
    "pylab.plot(distances, np.subtract(energies[0], energies[1]), label='IQPE')\n",
    "pylab.xlabel('Interatomic distance')\n",
    "pylab.ylabel('Energy')\n",
    "pylab.title('Energy difference from ExactEigensolver')\n",
    "pylab.legend(loc='upper right')\n",
    "pylab.show()"
   ]
  }
 ],
 "metadata": {
  "kernelspec": {
   "display_name": "Python 3",
   "language": "python",
   "name": "python3"
  },
  "language_info": {
   "codemirror_mode": {
    "name": "ipython",
    "version": 3
   },
   "file_extension": ".py",
   "mimetype": "text/x-python",
   "name": "python",
   "nbconvert_exporter": "python",
   "pygments_lexer": "ipython3",
   "version": "3.7.2"
  }
 },
 "nbformat": 4,
 "nbformat_minor": 1
}
