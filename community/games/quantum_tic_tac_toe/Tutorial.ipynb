{
 "cells": [
  {
   "cell_type": "markdown",
   "metadata": {},
   "source": [
    "# Quantum tic tac toe game tutorial\n",
    "An example quantum tic tac toe game is provided below, with explenations of the game workings following after. In this example, X wins overall. Despite the ability to superimpose moves, a winning strategy still exists for both players (meaning the game will be a draw if both implement it). See if you can work it out."
   ]
  },
  {
   "cell_type": "code",
   "execution_count": 1,
   "metadata": {
    "collapsed": true
   },
   "outputs": [],
   "source": [
    "#Import the game!\n",
    "from q_tic_tac_toe import Board"
   ]
  },
  {
   "cell_type": "code",
   "execution_count": 4,
   "metadata": {
    "collapsed": true
   },
   "outputs": [],
   "source": [
    "#inputs are (X,Y,print_info).\n",
    "#X,Y are the dimensions of the board. print_info boolean controls if to print instructions at game launch.\n",
    "B = Board(3,3,True)"
   ]
  },
  {
   "cell_type": "code",
   "execution_count": null,
   "metadata": {
    "scrolled": false
   },
   "outputs": [],
   "source": [
    "B.run()"
   ]
  },
  {
   "cell_type": "markdown",
   "metadata": {},
   "source": [
    "When playing the game, the two players are asked in turn if to make a classical (1 cell) or quantum move (1 or 2 cells at most, for now). When making any move there are several scenarios that can happen, they are explained below. The terminology used:\n",
    "\n",
    "- Each turn a \"move\" is made\n",
    "- Each move consists of one or two \"cells\", the location(s) where the move is made. It is a superposition of classical moves.\n",
    "\n",
    "\n",
    "Quantum moves are restricted to two cells only due to them requiring an increasing number of qubits, which is slow to simulate."
   ]
  },
  {
   "cell_type": "markdown",
   "metadata": {},
   "source": [
    "## One move on an empty cell "
   ]
  },
  {
   "cell_type": "markdown",
   "metadata": {},
   "source": [
    "This is the simplest move, it is a \"classical\" move. The game registers this move as a set of coordinates, and the player who made the move. No qubits are used here. \n",
    "It is registered as such:  \n",
    "`Play in one or two cells?1\n",
    "x index: 0\n",
    "y index: 0`  \n",
    "And the board registers it as  \n",
    "`\n",
    "[['O1','',''],\n",
    " ['','',''],\n",
    " ['','','']]\n",
    "`  \n",
    "This move is *always* present at the end of the game."
   ]
  },
  {
   "cell_type": "markdown",
   "metadata": {},
   "source": [
    "## Two-cell moves in empty cells\n",
    "This is a quantum move, the game stores a move that is in a superposition of being played at *two* cells. Ordered coordinates for the two cells to be occupied need to be provided. A row in the board with a superposition move would look like so  \n",
    "`[X1,X1,'']`   \n",
    "Two qubits were used in order to register this move. They are in a state $|10>+|01>$, if the first qubit is measured to be 1 then the board becomes `[X1,'','']` and vice versa. Why can we not use just one qubit to record this? We can, and the qubit would have to be put into a state $|0>+|1>$ but I did not implement this yet since this is easier (you will soon see why!)."
   ]
  },
  {
   "cell_type": "code",
   "execution_count": null,
   "metadata": {},
   "outputs": [],
   "source": [
    "B = Board(3,3)\n",
    "B.run()"
   ]
  },
  {
   "cell_type": "markdown",
   "metadata": {},
   "source": [
    "The game outcome is almost 50% in each cell, as we would expect. There is a redundant bit at the end of the bit code (to be removed soon!). And note that the bit strings are the inversed order to what we write here, this is because the quantum register in qiskit has positions $|q_n,...,q_0>$."
   ]
  },
  {
   "cell_type": "markdown",
   "metadata": {},
   "source": [
    "## One-cell move plyed in a maybe-occupied cell\n",
    "It is possible that after the game is in state `[X1,X1,'']` one would definitely want to make a move at position (0,0). This could be when the game is completely full perhaps, since it is not a very good strategy. Such a move can be erased! Let us see how it is recorded. The first row of the board is now \n",
    "`[X1 O2,X1,'']`  \n",
    "and the state of the game qubits is  \n",
    "$$ |100>+|011> $$  \n",
    "with the first qubit recording sucess of the first move at cell (0,0), the second qubit is the success of the first move in cell (0,1) and the third qubit is the move by player O, which is anti correlated with the move by X at cell (0,0).  \n",
    "Notice that this move can be completely erased!"
   ]
  },
  {
   "cell_type": "code",
   "execution_count": 2,
   "metadata": {},
   "outputs": [
    {
     "name": "stdout",
     "output_type": "stream",
     "text": [
      "[['X1' 'X1' '']\n",
      " ['' '' '']\n",
      " ['' '' '']]\n",
      "[['X1 O2' 'X1' '']\n",
      " ['' '' '']\n",
      " ['' '' '']]\n",
      "simulation:  COMPLETED\n",
      "{'0010': 67, '1100': 33}\n",
      "X wins: 0\n",
      "O wins: 0\n",
      "Shots: 67\n",
      "[['x' '' '']\n",
      " ['' '' '']\n",
      " ['' '' '']]\n",
      "X wins: 0\n",
      "O wins: 0\n",
      "Shots: 33\n",
      "[['o' 'x' '']\n",
      " ['' '' '']\n",
      " ['' '' '']]\n"
     ]
    }
   ],
   "source": [
    "B = Board(3,3)\n",
    "B.add_move([[0,0],[0,1]],0) #Directly adding moves, ([indx1,indx2],player) 0=X, 1=O.\n",
    "B.add_move([[0,0]],1)\n",
    "B.compute_winner()"
   ]
  },
  {
   "cell_type": "markdown",
   "metadata": {},
   "source": [
    "Once again note that the move could be erased completely! In fact this happens 50% of the time. Notice how the bit string output from QISKIT is translated into a board state."
   ]
  },
  {
   "cell_type": "markdown",
   "metadata": {},
   "source": [
    "## Two-cell moves in maybe-occupied cells\n",
    "Instead of the above, player O might like to choose a better strategy. Perhaps O is interested in a quantum move on cells (0,0) and (0,2). In such a case the game record the two moves in the order they are entered.\n",
    "\n",
    "- In order (0,0) then (0,2): The state of the game is first made into $ |100>+|011> $ as above, with the third qubit recording the sucess of player O getting position (0,0). Then the (0,2) position is registered, anti-correlated with suceeding in position (0,0) $|1001>+|0110>$. Now, unlike before, player O suceeds i registering a move regardless of the outcome. \n",
    "- In order (0,2) then (0,0): Now playing at (0,2) is not dependent on anything, and so the game state is $(|10>+|01>)\\otimes (|1>+|0>) = |101>+|100>+|011>+|010>$. And when the move in position (0,0) is added too, it is anti correlated with BOTH the move in (0,2) AND the pre-existing move in (0,0). So qubit state becomes $|1010>+|1000>+|0110>+|0101>$. Notice how now the move could be erased, so order does matter!"
   ]
  },
  {
   "cell_type": "code",
   "execution_count": 3,
   "metadata": {},
   "outputs": [
    {
     "name": "stdout",
     "output_type": "stream",
     "text": [
      "[['X1' 'X1' '']\n",
      " ['' '' '']\n",
      " ['' '' '']]\n",
      "[['X1 O2' 'X1' 'O2']\n",
      " ['' '' '']\n",
      " ['' '' '']]\n",
      "simulation:  COMPLETED\n",
      "{'01100': 59, '10010': 41}\n",
      "X wins: 0\n",
      "O wins: 0\n",
      "Shots: 59\n",
      "[['o' 'x' '']\n",
      " ['' '' '']\n",
      " ['' '' '']]\n",
      "X wins: 0\n",
      "O wins: 0\n",
      "Shots: 41\n",
      "[['x' '' 'o']\n",
      " ['' '' '']\n",
      " ['' '' '']]\n"
     ]
    }
   ],
   "source": [
    "B = Board(3,3)\n",
    "B.add_move([[0,0],[0,1]],0) #Directly adding moves, ([[y1,x1],[x2,y2]],player) with player=0->X, 1->O.\n",
    "B.add_move([[0,0],[0,2]],1)\n",
    "B.compute_winner()"
   ]
  },
  {
   "cell_type": "markdown",
   "metadata": {},
   "source": [
    "### Exercise: what if player O chose coordinates (x=0,y=0) and (x=1,y=0) instead?"
   ]
  },
  {
   "cell_type": "markdown",
   "metadata": {},
   "source": [
    "### Exercise: Can player X ensure that no matter what O plays, both  (x=0,y=0) and (x=1,y=0) are occupied by X?"
   ]
  }
 ],
 "metadata": {
  "kernelspec": {
   "display_name": "Python 3",
   "language": "python",
   "name": "python3"
  },
  "language_info": {
   "codemirror_mode": {
    "name": "ipython",
    "version": 3
   },
   "file_extension": ".py",
   "mimetype": "text/x-python",
   "name": "python",
   "nbconvert_exporter": "python",
   "pygments_lexer": "ipython3",
   "version": "3.7.0"
  }
 },
 "nbformat": 4,
 "nbformat_minor": 2
}
