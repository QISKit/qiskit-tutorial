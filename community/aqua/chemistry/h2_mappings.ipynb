{
 "cells": [
  {
   "cell_type": "markdown",
   "metadata": {
    "collapsed": true
   },
   "source": [
    "## _*H2 ground state energy plot using different qubit mappings*_\n",
    "\n",
    "This notebook demonstrates using Qiskit Chemistry to plot graphs of the ground state energy of the Hydrogen (H2) molecule over a range of inter-atomic distances with different fermionic mappings to quantum qubits.\n",
    "\n",
    "This notebook populates a dictionary, that is a progammatic representation of an input file, in order to drive the Qiskit Chemistry stack. Such a dictionary can be manipulated programmatically and this is indeed the case here where we alter the molecule supplied to the driver in each loop.\n",
    "\n",
    "This notebook has been written to use the PYSCF chemistry driver. See the PYSCF chemistry driver readme if you need to install the external PySCF library that this driver requires."
   ]
  },
  {
   "cell_type": "code",
   "execution_count": null,
   "metadata": {},
   "outputs": [
    {
     "name": "stdout",
     "output_type": "stream",
     "text": [
      "Processing step __\b\b 0"
     ]
    }
   ],
   "source": [
    "import numpy as np\n",
    "import pylab\n",
    "from qiskit.chemistry import QiskitChemistry\n",
    "\n",
    "# Input dictionary to configure Qiskit Chemistry for the chemistry problem.\n",
    "qiskit_chemistry_dict = {\n",
    "    'problem': {'random_seed': 50},\n",
    "    'driver': {'name': 'PYSCF'},\n",
    "    'PYSCF': {'atom': '', 'basis': 'sto3g'},\n",
    "    'operator': {'name': 'hamiltonian', 'qubit_mapping': '', 'two_qubit_reduction': False},\n",
    "    'algorithm': {'name': ''}\n",
    "}\n",
    "molecule = 'H .0 .0 -{0}; H .0 .0 {0}'\n",
    "\n",
    "algorithms = ['VQE', 'ExactEigensolver']\n",
    "mappings   = ['jordan_wigner', 'parity', 'bravyi_kitaev']\n",
    "start = 0.5  # Start distance\n",
    "by    = 0.5  # How much to increase distance by\n",
    "steps = 20   # Number of steps to increase by\n",
    "energies  = np.empty([len(mappings), len(algorithms), steps+1])\n",
    "hf_energies = np.empty(steps+1)\n",
    "distances = np.empty(steps+1)\n",
    "\n",
    "print('Processing step __', end='')\n",
    "for i in range(steps+1):\n",
    "    print('\\b\\b{:2d}'.format(i), end='', flush=True)\n",
    "    d = start + i*by/steps\n",
    "    qiskit_chemistry_dict['PYSCF']['atom'] = molecule.format(d/2) \n",
    "    for j in range(len(algorithms)):\n",
    "        qiskit_chemistry_dict['algorithm']['name'] = algorithms[j] \n",
    "        if algorithms[j] == 'ExactEigensolver':\n",
    "            if 'optimizer' in qiskit_chemistry_dict:\n",
    "                del qiskit_chemistry_dict['optimizer']\n",
    "            if 'variational_form' in qiskit_chemistry_dict:\n",
    "                del qiskit_chemistry_dict['variational_form']\n",
    "        else:\n",
    "            qiskit_chemistry_dict['optimizer'] = {'name': 'L_BFGS_B', 'maxfun': 2500}\n",
    "            qiskit_chemistry_dict['variational_form'] = {'name': 'RYRZ', 'depth': 5}\n",
    "        \n",
    "        for k in range(len(mappings)):\n",
    "            qiskit_chemistry_dict['operator']['qubit_mapping'] = mappings[k] \n",
    "            solver = QiskitChemistry()\n",
    "            result = solver.run(qiskit_chemistry_dict)\n",
    "            energies[k][j][i] = result['energy']\n",
    "            hf_energies[i] = result['hf_energy']  # Independent of algorithm & mapping\n",
    "    distances[i] = d\n",
    "print(' --- complete')\n",
    "\n",
    "print('Distances: ', distances)\n",
    "print('Energies:', energies)\n",
    "print('Hartree-Fock energies:', hf_energies)\n"
   ]
  },
  {
   "cell_type": "code",
   "execution_count": null,
   "metadata": {},
   "outputs": [],
   "source": [
    "pylab.rcParams['figure.figsize'] = (12, 8)\n",
    "pylab.ylim(-1.14, -1.04)\n",
    "pylab.plot(distances, hf_energies, label='Hartree-Fock')\n",
    "for j in range(len(algorithms)):\n",
    "    for k in range(len(mappings)):\n",
    "        pylab.plot(distances, energies[k][j], label=algorithms[j] + \", \" + mappings[k])\n",
    "pylab.xlabel('Interatomic distance')\n",
    "pylab.ylabel('Energy')\n",
    "pylab.title('H2 Ground State Energy in different mappings')\n",
    "pylab.legend(loc='upper right')\n",
    "pylab.show()"
   ]
  },
  {
   "cell_type": "code",
   "execution_count": null,
   "metadata": {},
   "outputs": [],
   "source": [
    "pylab.rcParams['figure.figsize'] = (6, 4)\n",
    "for k in range(len(mappings)):\n",
    "    pylab.ylim(-1.14, -1.04)\n",
    "    pylab.plot(distances, hf_energies, label='Hartree-Fock')\n",
    "    for j in range(len(algorithms)):\n",
    "        pylab.plot(distances, energies[k][j], label=algorithms[j])\n",
    "    pylab.xlabel('Interatomic distance')\n",
    "    pylab.ylabel('Energy')\n",
    "    pylab.title('H2 Ground State Energy with {} mapping'.format(mappings[k]))\n",
    "    pylab.legend(loc='upper right')\n",
    "    pylab.show()\n",
    "    \n",
    "    #pylab.plot(distances, np.subtract(hf_energies, energies[k][1]), label='Hartree-Fock')\n",
    "    pylab.plot(distances, np.subtract(energies[k][0], energies[k][1]), color=[0.8500, 0.3250, 0.0980], label='VQE')\n",
    "    pylab.xlabel('Interatomic distance')\n",
    "    pylab.ylabel('Energy')\n",
    "    pylab.yscale('log')\n",
    "    pylab.title('Energy difference from ExactEigensolver with {} mapping'.format(mappings[k]))\n",
    "    pylab.legend(loc='upper right')\n",
    "    pylab.show()"
   ]
  },
  {
   "cell_type": "code",
   "execution_count": null,
   "metadata": {},
   "outputs": [],
   "source": []
  }
 ],
 "metadata": {
  "kernelspec": {
   "display_name": "Python 3",
   "language": "python",
   "name": "python3"
  },
  "language_info": {
   "codemirror_mode": {
    "name": "ipython",
    "version": 3
   },
   "file_extension": ".py",
   "mimetype": "text/x-python",
   "name": "python",
   "nbconvert_exporter": "python",
   "pygments_lexer": "ipython3",
   "version": "3.6.7"
  }
 },
 "nbformat": 4,
 "nbformat_minor": 1
}
