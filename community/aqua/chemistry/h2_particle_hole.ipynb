{
 "cells": [
  {
   "cell_type": "markdown",
   "metadata": {},
   "source": [
    "## _*H2 energy plot comparing full to particle hole transformations*_\n",
    "\n",
    "This notebook demonstrates using Qiskit Chemistry to plot graphs of the ground state energy of the Hydrogen (H2) molecule over a range of inter-atomic distances using VQE and UCCSD with full and particle hole transformations. It is compared to the same energies as computed by the ExactEigensolver\n",
    "\n",
    "This notebook populates a dictionary, that is a progammatic representation of an input file, in order to drive the Qiskit Chemistry stack. Such a dictionary can be manipulated programmatically and this is indeed the case here where we alter the molecule supplied to the driver in each loop.\n",
    "\n",
    "This notebook has been written to use the PYQUANTE chemistry driver. See the PYQUANTE chemistry driver readme if you need to install the external PyQuante2 library that this driver requires."
   ]
  },
  {
   "cell_type": "code",
   "execution_count": null,
   "metadata": {
    "scrolled": true
   },
   "outputs": [
    {
     "name": "stdout",
     "output_type": "stream",
     "text": [
      "Processing step  9"
     ]
    }
   ],
   "source": [
    "import numpy as np\n",
    "import pylab\n",
    "from qiskit.chemistry import QiskitChemistry\n",
    "\n",
    "# Input dictionary to configure Qiskit Chemistry for the chemistry problem.\n",
    "qiskit_chemistry_dict = {\n",
    "    'problem': {'random_seed': 50},\n",
    "    'driver': {'name': 'PYQUANTE'},\n",
    "    'PYQUANTE': {'atoms': '', 'basis': 'sto3g'},\n",
    "    'operator': {'name': 'hamiltonian', 'qubit_mapping': 'jordan_wigner',\n",
    "                 'two_qubit_reduction': False},\n",
    "    'algorithm': {'name': ''}\n",
    "}\n",
    "molecule = 'H .0 .0 -{0}; H .0 .0 {0}'\n",
    "algorithms = ['VQE', 'ExactEigensolver']\n",
    "transformations = ['full', 'particle_hole']\n",
    "\n",
    "start = 0.5  # Start distance\n",
    "by    = 0.5  # How much to increase distance by\n",
    "steps = 20   # Number of steps to increase by\n",
    "energies = np.empty([len(transformations), len(algorithms), steps+1])\n",
    "hf_energies = np.empty(steps+1)\n",
    "distances = np.empty(steps+1)\n",
    "eval_counts = np.empty([len(transformations), steps+1])\n",
    "\n",
    "print('Processing step __', end='')\n",
    "for i in range(steps+1):\n",
    "    print('\\b\\b{:2d}'.format(i), end='', flush=True)\n",
    "    d = start + i*by/steps\n",
    "    qiskit_chemistry_dict['PYQUANTE']['atoms'] = molecule.format(d/2) \n",
    "    for j in range(len(algorithms)):\n",
    "        qiskit_chemistry_dict['algorithm']['name'] = algorithms[j] \n",
    "        if algorithms[j] == 'ExactEigensolver':\n",
    "            if 'optimizer' in qiskit_chemistry_dict:\n",
    "                del qiskit_chemistry_dict['optimizer']\n",
    "            if 'variational_form' in qiskit_chemistry_dict:\n",
    "                del qiskit_chemistry_dict['variational_form']\n",
    "            if 'initial_state' in qiskit_chemistry_dict:\n",
    "                del qiskit_chemistry_dict['initial_state']\n",
    "        else:\n",
    "            qiskit_chemistry_dict['optimizer'] = {'name': 'COBYLA', 'maxiter': 10000 }\n",
    "            qiskit_chemistry_dict['variational_form'] = {'name': 'UCCSD'}\n",
    "            qiskit_chemistry_dict['initial_state'] = {'name': 'HartreeFock'}\n",
    "            \n",
    "        for k in range(len(transformations)):\n",
    "            qiskit_chemistry_dict['operator']['transformation'] = transformations[k] \n",
    "            solver = QiskitChemistry()\n",
    "            result = solver.run(qiskit_chemistry_dict)\n",
    "            energies[k][j][i] = result['energy']\n",
    "            hf_energies[i] = result['hf_energy']\n",
    "            if algorithms[j] == 'VQE':\n",
    "                eval_counts[k][i] = result['algorithm_retvals']['eval_count']\n",
    "    distances[i] = d\n",
    "print(' --- complete')\n",
    "\n",
    "print('Distances: ', distances)\n",
    "print('Energies:', energies)\n",
    "print('Hartree-Fock energies:', hf_energies)\n",
    "print('VQE num evaluations:', eval_counts)\n"
   ]
  },
  {
   "cell_type": "code",
   "execution_count": null,
   "metadata": {},
   "outputs": [],
   "source": [
    "pylab.plot(distances, hf_energies, label='Hartree-Fock')\n",
    "for j in range(len(algorithms)):\n",
    "    for k in range(len(transformations)):\n",
    "        pylab.plot(distances, energies[k][j], label=algorithms[j]+' + '+transformations[k])\n",
    "pylab.xlabel('Interatomic distance')\n",
    "pylab.ylabel('Energy')\n",
    "pylab.title('H2 Ground State Energy')\n",
    "pylab.legend(loc='upper right')"
   ]
  },
  {
   "cell_type": "code",
   "execution_count": null,
   "metadata": {},
   "outputs": [],
   "source": [
    "pylab.plot(distances, np.subtract(hf_energies, energies[0][1]), label='Hartree-Fock')\n",
    "for k in range(len(transformations)):\n",
    "    pylab.plot(distances, np.subtract(energies[k][0], energies[k][1]), label='VQE + '+transformations[k])\n",
    "pylab.xlabel('Interatomic distance')\n",
    "pylab.ylabel('Energy')\n",
    "pylab.title('Energy difference from ExactEigensolver')\n",
    "pylab.legend(loc='upper left')"
   ]
  },
  {
   "cell_type": "code",
   "execution_count": null,
   "metadata": {},
   "outputs": [],
   "source": [
    "for k in range(len(transformations)):\n",
    "    pylab.plot(distances, eval_counts[k], '-o', label='VQE + ' + transformations[k])\n",
    "pylab.xlabel('Interatomic distance')\n",
    "pylab.ylabel('Evaluations')\n",
    "pylab.title('VQE number of evaluations')\n",
    "pylab.legend(loc='upper left')"
   ]
  },
  {
   "cell_type": "code",
   "execution_count": null,
   "metadata": {},
   "outputs": [],
   "source": []
  }
 ],
 "metadata": {
  "kernelspec": {
   "display_name": "Python 3",
   "language": "python",
   "name": "python3"
  },
  "language_info": {
   "codemirror_mode": {
    "name": "ipython",
    "version": 3
   },
   "file_extension": ".py",
   "mimetype": "text/x-python",
   "name": "python",
   "nbconvert_exporter": "python",
   "pygments_lexer": "ipython3",
   "version": "3.6.7"
  }
 },
 "nbformat": 4,
 "nbformat_minor": 1
}
