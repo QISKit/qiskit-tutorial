{
 "cells": [
  {
   "cell_type": "markdown",
   "metadata": {},
   "source": [
    "## _*H2 energy plot computed using SWAPRZ variational form*_\n",
    "\n",
    "This notebook demonstrates using Qiskit Chemistry to plot graphs of the ground state energy of the Hydrogen (H2) molecule over a range of inter-atomic distances using VQE and SWAPRZ. It is compared to the same energies as computed by the ExactEigensolver\n",
    "\n",
    "This notebook populates a dictionary, that is a progammatic representation of an input file, in order to drive the Qiskit Chemistry stack. Such a dictionary can be manipulated programmatically and this is indeed the case here where we alter the molecule supplied to the driver in each loop.\n",
    "\n",
    "This notebook has been written to use the PYQUANTE chemistry driver. See the PYQUANTE chemistry driver readme if you need to install the external PyQuante2 library that this driver requires."
   ]
  },
  {
   "cell_type": "code",
   "execution_count": null,
   "metadata": {
    "scrolled": true
   },
   "outputs": [
    {
     "name": "stdout",
     "output_type": "stream",
     "text": [
      "Processing step __\b\b 0"
     ]
    }
   ],
   "source": [
    "import numpy as np\n",
    "import pylab\n",
    "import copy\n",
    "from qiskit.chemistry import QiskitChemistry\n",
    "\n",
    "# Input dictionary to configure qiskit chemistry for the chemistry problem.\n",
    "qiskit_chemistry_dict = {\n",
    "    'problem': {'random_seed': 50},\n",
    "    'driver': {'name': 'PYQUANTE'},\n",
    "    'PYQUANTE': {'atoms': '', 'basis': 'sto3g'},\n",
    "    'operator': {'name': 'hamiltonian', 'qubit_mapping': 'jordan_wigner',\n",
    "                 'two_qubit_reduction': False},\n",
    "    'algorithm': {'name': ''},\n",
    "    'optimizer': {'name': 'COBYLA', 'maxiter': 10000 },\n",
    "    'variational_form': {'name': 'SWAPRZ'},\n",
    "    'initial_state': {'name': 'HartreeFock'}\n",
    "}\n",
    "molecule = 'H .0 .0 -{0}; H .0 .0 {0}'\n",
    "algorithms = ['VQE', 'ExactEigensolver']\n",
    "\n",
    "start = 0.5  # Start distance\n",
    "by    = 0.5  # How much to increase distance by\n",
    "steps = 20   # Number of steps to increase by\n",
    "energies = np.empty([len(algorithms), steps+1])\n",
    "hf_energies = np.empty(steps+1)\n",
    "distances = np.empty(steps+1)\n",
    "eval_counts = np.empty(steps+1)\n",
    "\n",
    "print('Processing step __', end='')\n",
    "for i in range(steps+1):\n",
    "    print('\\b\\b{:2d}'.format(i), end='', flush=True)\n",
    "    d = start + i*by/steps\n",
    "    qiskit_chemistry_dict['PYQUANTE']['atoms'] = molecule.format(d/2) \n",
    "    for j in range(len(algorithms)):\n",
    "        dict = copy.deepcopy(qiskit_chemistry_dict)\n",
    "        dict['algorithm']['name'] = algorithms[j]\n",
    "        if algorithms[j] == 'ExactEigensolver':\n",
    "            del dict['optimizer']\n",
    "            del dict['variational_form']\n",
    "            del dict['initial_state']\n",
    "        solver = QiskitChemistry()\n",
    "        result = solver.run(dict)\n",
    "        energies[j][i] = result['energy']\n",
    "        hf_energies[i] = result['hf_energy']\n",
    "        if algorithms[j] == 'VQE':\n",
    "            eval_counts[i] = result['algorithm_retvals']['eval_count']\n",
    "    distances[i] = d\n",
    "print(' --- complete')\n",
    "\n",
    "print('Distances: ', distances)\n",
    "print('Energies:', energies)\n",
    "print('Hartree-Fock energies:', hf_energies)\n",
    "print('VQE num evaluations:', eval_counts)\n"
   ]
  },
  {
   "cell_type": "code",
   "execution_count": null,
   "metadata": {},
   "outputs": [],
   "source": [
    "pylab.plot(distances, hf_energies, label='Hartree-Fock')\n",
    "for j in range(len(algorithms)):\n",
    "    pylab.plot(distances, energies[j], label=algorithms[j])\n",
    "pylab.xlabel('Interatomic distance')\n",
    "pylab.ylabel('Energy')\n",
    "pylab.title('H2 Ground State Energy')\n",
    "pylab.legend(loc='upper right')"
   ]
  },
  {
   "cell_type": "code",
   "execution_count": null,
   "metadata": {},
   "outputs": [],
   "source": [
    "pylab.plot(distances, np.subtract(hf_energies, energies[1]), label='Hartree-Fock')\n",
    "pylab.plot(distances, np.subtract(energies[0], energies[1]), label='VQE')\n",
    "pylab.xlabel('Interatomic distance')\n",
    "pylab.ylabel('Energy')\n",
    "pylab.yscale('log')\n",
    "pylab.title('Energy difference from ExactEigensolver')\n",
    "pylab.legend(loc='center right')"
   ]
  },
  {
   "cell_type": "code",
   "execution_count": null,
   "metadata": {},
   "outputs": [],
   "source": [
    "pylab.plot(distances, eval_counts, '-o', color=[0.8500, 0.3250, 0.0980], label='VQE')\n",
    "pylab.xlabel('Interatomic distance')\n",
    "pylab.ylabel('Evaluations')\n",
    "pylab.title('VQE number of evaluations')\n",
    "pylab.legend(loc='upper left')"
   ]
  },
  {
   "cell_type": "code",
   "execution_count": null,
   "metadata": {},
   "outputs": [],
   "source": []
  }
 ],
 "metadata": {
  "kernelspec": {
   "display_name": "Python 3",
   "language": "python",
   "name": "python3"
  },
  "language_info": {
   "codemirror_mode": {
    "name": "ipython",
    "version": 3
   },
   "file_extension": ".py",
   "mimetype": "text/x-python",
   "name": "python",
   "nbconvert_exporter": "python",
   "pygments_lexer": "ipython3",
   "version": "3.6.7"
  }
 },
 "nbformat": 4,
 "nbformat_minor": 1
}
