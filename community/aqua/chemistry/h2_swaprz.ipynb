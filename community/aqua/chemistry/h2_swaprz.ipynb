{
 "cells": [
  {
   "cell_type": "markdown",
   "metadata": {},
   "source": [
    "## _*H2 energy plot computed using SWAPRZ variational form*_\n",
    "\n",
    "This notebook demonstrates using Qiskit Aqua Chemistry to plot graphs of the ground state energy of the Hydrogen (H2) molecule over a range of inter-atomic distances using VQE and SWAPRZ. It is compared to the same energies as computed by the ExactEigensolver\n",
    "\n",
    "This notebook populates a dictionary, that is a progammatic representation of an input file, in order to drive the Qiskit Aqua Chemistry stack. Such a dictionary can be manipulated programmatically and this is indeed the case here where we alter the molecule supplied to the driver in each loop.\n",
    "\n",
    "This notebook has been written to use the PYQUANTE chemistry driver. See the PYQUANTE chemistry driver readme if you need to install the external PyQuante2 library that this driver requires."
   ]
  },
  {
   "cell_type": "code",
   "execution_count": 1,
   "metadata": {
    "scrolled": true
   },
   "outputs": [
    {
     "name": "stdout",
     "output_type": "stream",
     "text": [
      "Processing step 20 --- complete\n",
      "Distances:  [0.5   0.525 0.55  0.575 0.6   0.625 0.65  0.675 0.7   0.725 0.75  0.775\n",
      " 0.8   0.825 0.85  0.875 0.9   0.925 0.95  0.975 1.   ]\n",
      "Energies: [[-1.05515973 -1.07591361 -1.09262987 -1.10591801 -1.11628597 -1.12416089\n",
      "  -1.12990475 -1.1338262  -1.13618943 -1.13722136 -1.13711706 -1.13604435\n",
      "  -1.13414767 -1.1315512  -1.12836188 -1.12467173 -1.12056028 -1.11609624\n",
      "  -1.11133942 -1.10634211 -1.10115033]\n",
      " [-1.05515974 -1.07591361 -1.09262987 -1.10591802 -1.11628599 -1.12416089\n",
      "  -1.12990476 -1.1338262  -1.13618944 -1.13722136 -1.13711707 -1.13604436\n",
      "  -1.13414767 -1.13155121 -1.12836188 -1.12467175 -1.12056028 -1.11609624\n",
      "  -1.11133943 -1.10634212 -1.10115034]]\n",
      "Hartree-Fock energies: [-1.04299622 -1.0630621  -1.0790507  -1.09157046 -1.10112822 -1.10814997\n",
      " -1.11299652 -1.11597525 -1.11734902 -1.11734325 -1.11615145 -1.11393966\n",
      " -1.1108504  -1.10700581 -1.10251056 -1.09745432 -1.09191405 -1.08595588\n",
      " -1.07963694 -1.07300677 -1.06610866]\n",
      "VQE num evaluations: [ 685.  687.  707.  717.  666.  755.  828.  668.  750.  786.  645.  875.\n",
      "  649.  788.  832. 2379.  938.  875.  816.  917.  757.]\n"
     ]
    }
   ],
   "source": [
    "import numpy as np\n",
    "import pylab\n",
    "from qiskit_aqua_chemistry import AquaChemistry\n",
    "\n",
    "# Input dictionary to configure qischem for the chemistry problem.\n",
    "aqua_chemistry_dict = {\n",
    "    'problem': {'random_seed': 50},\n",
    "    'driver': {'name': 'PYQUANTE'},\n",
    "    'PYQUANTE': {'atoms': '', 'basis': 'sto3g'},\n",
    "    'operator': {'name': 'hamiltonian', 'qubit_mapping': 'jordan_wigner',\n",
    "                 'two_qubit_reduction': False},\n",
    "    'algorithm': {'name': ''},\n",
    "    'optimizer': {'name': 'COBYLA', 'maxiter': 10000 },\n",
    "    'variational_form': {'name': 'SWAPRZ'},\n",
    "    'initial_state': {'name': 'HartreeFock'}\n",
    "}\n",
    "molecule = 'H .0 .0 -{0}; H .0 .0 {0}'\n",
    "algorithms = ['VQE', 'ExactEigensolver']\n",
    "\n",
    "start = 0.5  # Start distance\n",
    "by    = 0.5  # How much to increase distance by\n",
    "steps = 20   # Number of steps to increase by\n",
    "energies = np.empty([len(algorithms), steps+1])\n",
    "hf_energies = np.empty(steps+1)\n",
    "distances = np.empty(steps+1)\n",
    "eval_counts = np.empty(steps+1)\n",
    "\n",
    "print('Processing step __', end='')\n",
    "for i in range(steps+1):\n",
    "    print('\\b\\b{:2d}'.format(i), end='', flush=True)\n",
    "    d = start + i*by/steps\n",
    "    aqua_chemistry_dict['PYQUANTE']['atoms'] = molecule.format(d/2) \n",
    "    for j in range(len(algorithms)):\n",
    "        aqua_chemistry_dict['algorithm']['name'] = algorithms[j] \n",
    "        solver = AquaChemistry()\n",
    "        result = solver.run(aqua_chemistry_dict)\n",
    "        energies[j][i] = result['energy']\n",
    "        hf_energies[i] = result['hf_energy']\n",
    "        if algorithms[j] == 'VQE':\n",
    "            eval_counts[i] = result['algorithm_retvals']['eval_count']\n",
    "    distances[i] = d\n",
    "print(' --- complete')\n",
    "\n",
    "print('Distances: ', distances)\n",
    "print('Energies:', energies)\n",
    "print('Hartree-Fock energies:', hf_energies)\n",
    "print('VQE num evaluations:', eval_counts)\n"
   ]
  },
  {
   "cell_type": "code",
   "execution_count": 2,
   "metadata": {},
   "outputs": [
    {
     "data": {
      "text/plain": [
       "<matplotlib.legend.Legend at 0x10e44e4a8>"
      ]
     },
     "execution_count": 2,
     "metadata": {},
     "output_type": "execute_result"
    },
    {
     "data": {
      "image/png": "iVBORw0KGgoAAAANSUhEUgAAAZQAAAEWCAYAAABBvWFzAAAABHNCSVQICAgIfAhkiAAAAAlwSFlzAAALEgAACxIB0t1+/AAAADl0RVh0U29mdHdhcmUAbWF0cGxvdGxpYiB2ZXJzaW9uIDIuMS4yLCBodHRwOi8vbWF0cGxvdGxpYi5vcmcvNQv5yAAAIABJREFUeJzs3Xd4VMXXwPHvSScQQgstoZdQA4EQSijSpApEmoAFFFFE5GfHAoiKFVFpKlhA6YL0UFWkCwFCCAmh9wChpRBSd94/dpM3YBpkN5syn+fZx9175957doN7dmbuzIhSCk3TNE3LLRtrB6BpmqYVDjqhaJqmaWahE4qmaZpmFjqhaJqmaWahE4qmaZpmFjqhaJqmaWahE4qmWYiIDBeRndaOQ9Pyik4oWp4QkbMi0uW+bWlfuCLiKCI/icg5EYkRkSAR6ZHNOSuJyFwRuSwisSJyWkTmiUg9S74XcxGR50TkmOn9XhWRABFxMe2bJyIfP8C5cpW8TMenmD7H9I/KD3tOrejRCUXLL+yAC0AHwBV4H1gmItUzKiwiZYHdgDPQDnABmgH/AF0zOcbO3EE/LBHpAHwCDFFKuQD1gaXWjYo9SqkS9z0um/MC+elvoJmfTihavqCUuqOU+kApdVYpZVBKrQPOAM0zOeRVIBp4Sil1ShndVkr9opSaASAi1UVEmWoC54G/TNv7iMhREbktIttEpH7qSU3la6d7nVZTEJFHROSiiLwuItdEJEJERqQrW1ZE1ohItIjsA2pl8ZZbYPwCP2R6/zeVUvOVUjEiMgoYBrxlqiWsNZ1/vIicMtVoQkXE37S9PvA90NpU/rZpu6OITBWR86Ya0PciUizHf5R0TDXMN0QkWESiRGSpiDil29/bVKu8LSK7RcTrvmPfFpFg4I6I2IlIMxE5ZHovv5vOl/o5h4jIY+mOtxeR6yLi/TCxa3lHJxQtXxKRCkBd4GgmRboAK5VShhycrgPGGkA3EakLLAb+B7gBAcBaEXHIYWgVMdag3IHngFkiUtq0bxYQD1QCnjU9MvOvKZ7JIuInIo6pO5RSc4CFwBemWkLql+spjLUxV2AysEBEKimlwoAX+f8aRilT+c8wfoZNgdqmmCfm8H1mZBDQHagBeAHDAUxf9D8DLwBlgR+ANenfEzAE6AWUwvi9sxKYB5TB+PfwT1f2V+DJdK97AhGpyVfLv3RC0fLSKtMv2NumX9GzMyokIvYYv1DnK6WOZXKucsCVdMf0MZ03RkQ231f2A1MN6C4wGFivlNqilEoCpgLFgDY5fA9JwIdKqSSlVAAQC3iKiC3QH5houlYIMD+zkyildgCPY2ymWw/cEJFppvNkdszvSqnLphrcUuAE4JtRWRERYBTwqqn2E4Oxie2JLN5bq/R/HxE5dd/+6abr3wTWYkxUmK7zg1LqX6VUilJqPpAAtLrv2Aumv0ErjE2c002f4x/AvnRlFwA9RaSk6fVTwG9ZxK3lEzqhaHmpn1KqVOoDeOn+AiJig/HLIxF4OYtz3cBYEwBAKbXGdM5XgftrGxfSPa8MnEt3nMG03z2H7+GGUio53es4oATG2k5qP1Cqc2RBKbXBVPsoA/TF+It/ZGblReTpdM1Kt4FGGBNrRtww9i8dSFd+o2l7Zvam//sope5vsruS7nnq+waoBrx+34+FKhg/61T3/w0uqXtnpk3bb+q32QX0F5FSQA+MPzC0fE4nFC3fMP2q/gmoAPQ31SAy8yfQz5SAspP+i+syxi/A9NesAlwybYrD+EWcqmIOzg8QCSSbzpWqak4ONNU4/sTYx9Mog5gRkWrAXIxJtqwpeYYAklF54DpwF2iYLkG4KqVKYH4XgCn3JSNnpdTidGXSxxcBuJs++1TpPzcw1u6eBAZibMq7hJbv6YSi5SffYezreMzUNJKVaUBp4DcRqSVGLvx/M0xmlgG9RKSzqWntdYzNM7tN+4OAoSJiKyLdMfa/ZEsplQL8AXwgIs4i0gB4JrPyItJXRJ4QkdKm2H1N19prKnIVqJnukOIYv5QjTceP4P+TT2p5j9S+IFPNay7wtYiUNx3jLiLdcvJ+HtBc4EURaWl6L8VFpJfp75GRPUAK8LKpg74v/226W4WxOXAcxj4VrQDQCUXLF0y/wF/AmBCuyP+PgxiWUXml1HWMbfHxwE4gBmMycAFGZ3YdpVQ4xl++MzD+in8MYwJLNBUZZ9p2G+OdVqse4G28jLEZ6ArGDudfsih7C3geYz9INMZ+gy+VUqlNOz8BDUxNSKuUUqHAVxi/jK8CjTE2C6X6C+MNDFdE5Lpp29vASWCviEQDWwHPLGJqLf8dh9IiuzetlAo0vZeZpvd1ElOHfSblEzH2Hz2H8XN+EliHMbGnlrkLrMB4A8Af2cWg5Q+iF9jSNM3aRORf4Hul1C/ptk0E6iqlnsz8SC0/0TUUTdPynIh0EJGKpiavZzDehrwx3f4yGGswc6wVo/bgdELRNM0aPIHDGJu8XgcGKKUiAETkeYwd/RuUUtutF6L2oHSTl6ZpmmYWuoaiaZqmmUWRmqitXLlyqnr16tYOQ9M0rUA5cODAdaVUVoNiASsmFBEZCHyAcdyBr+nWw4zKdQe+BWyBH5VSn923fzrwbE4GbFWvXp3AwAwvo2mapmVCRLKc9SGVNZu8QjDei55pp5tpXqNZGKdeaAAMMQ0YS93vg3Fwm6ZpmmZlVksoSqkw0yCzrPgCJ5VSp02DoZZgnPMoNdl8Cbxl2Ug1TdO0nMjvnfLu3Dup3EX+fxK/l4E1qbcaZkZERolIoIgERkZGWihMTdM0zaJ9KCKylYwn13tPKbU6F+etjHHSuEeyK2taW2IOgI+Pj75HWtMeUlJSEhcvXiQ+Pt7aoWgW4uTkhIeHB/b29g91vEUTilKqS/alsnSJe2ch9TBt88a4YNBJ04SlziJyUilV+7+n0DTNHC5evIiLiwvVq1fn3omCtcJAKcWNGze4ePEiNWrUeKhz5Pcmr/1AHRGpYZpF9QmMzVzrlVIVlVLVlVLVgTidTDTNsuLj4ylbtqxOJoWUiFC2bNlc1UCtllBExF9ELgKtgfUissm0vbKIBACYFjJ6GdgEhAHLlFKZLQmraZqF6WRSuOX272u1cShKqZUY15W+f/tljGtIp74OwLjud1bnssSiQWm2H48k5HIULz2iK0GapmmZye9NXvnCrpPXmbb5ODfvJGZfWNM0iylR4t7fjvPmzePll7NaKfq/goKCCAjI8jdqrsybNw83NzeaNm1K06ZNefrppx/4HNu2baN3794WiM6ydELJgX7e7iQbFOuCL1s7FE3TciE5OTnLhJKcnGyW6wwePJigoCCCgoL49deis+CkTig5UL9SSepVdGHlIb2stablV2vXrqVly5Z4e3vTpUsXrl69CsAHH3zAU089hZ+fH0899RQTJ05k6dKlNG3alKVLl/5nf0pKCm+++SYtWrTAy8uLH374Ie0aX375Zdr2SZMmPVB8QUFBtGrVCi8vL/z9/bl16xYAJ0+epEuXLjRp0oRmzZpx6tSpe47bv38/3t7e/9meHxWpySFzw9/bnU83HOPM9TvUKFfc2uFomlVNXnuU0MvRZj1ng8olmfRYwyzL3L17l6ZNm6a9vnnzJn369AGgbdu27N27FxHhxx9/5IsvvuCrr74CIDQ0lJ07d1KsWDHmzZtHYGAgM2fOBIwJJ/3+OXPm4Orqyv79+0lISMDPz49HH32UEydOcOLECfbt24dSij59+rB9+3bat2//nziXLl3Kzp07ARg3bhwjRozg6aefZsaMGXTo0IGJEycyefJkvvnmG4YNG8b48ePx9/cnPj4eg8HAhQvG8dy7d+9m7NixrF69mqpVq+b+Q7YwnVByqG9Tdz7beIxVhy7xate61g5H04qkYsWKERQUlPY6NTmAcZzM4MGDiYiIIDEx8Z6xFH369KFYsWKZnjf9/s2bNxMcHMzy5csBiIqK4sSJE2zevJnNmzfj7e0NQGxsLCdOnMgwoQwePDgtYaWe4/bt23To0AGAZ555hoEDBxITE8OlS5fw9/cHjAMLU4WFhTFq1Cg2b95M5cqVH+yDshKdUHKooqsTbWqVZVXQJf7XpY6+fVIr0rKrSVjD2LFjee211+jTpw/btm3jgw8+SNtXvHjWrQrp9yulmDFjBt26dbunzKZNm3jnnXd44YUX7tk+a9Ys5s6dC2DWzv5KlSoRHx/PoUOHCkxC0X0oD8Df24NzN+I4eP6WtUPRNO0+UVFRuLsbp/qbP39+puVcXFyIiYnJdH+3bt347rvvSEpKAuD48ePcuXOHbt268fPPPxMbGwvApUuXuHbtGmPGjEnrgM/si9/V1ZXSpUuzY8cOAH777Tc6dOiAi4sLHh4erFq1CoCEhATi4uIAKFWqFOvXr+edd95h27ZtD/ZhWIlOKA+ge6OKONnb6M55TcuHPvjgAwYOHEjz5s0pV65cpuU6duxIaGhoWqf8/UaOHEmDBg1o1qwZjRo14oUXXiA5OZlHH32UoUOH0rp1axo3bsyAAQOyTEz3mz9/Pm+++SZeXl4EBQUxceJEwJhcpk+fjpeXF23atOHKlStpx1SoUIF169YxZswY/v333wf4NKyjSK0p7+Pjo3K7wNYriw+x/UQk+97tgoOdzsda0REWFkb9+vWtHYZmYRn9nUXkgFLKJ7tj9TfiA/Jv5s7tuCS2hV+zdiiapmn5ik4oD6hd7XKUK+Ggm700TdPuoxPKA7KzteGxJpX5M+waUXeTrB2OpmlavqETykPw93YnMcVAwJEsF4vUNE0rUnRCeQiN3V2p5VaclQd1s5emaVoqnVAegojg7+3OvrM3uXAzztrhaJqm5Qs6oTykvk2NA6hWB+laiqblhY4dO7Jp06Z7tn3zzTeMHj2ao0eP0qlTJzw9PalVqxaTJk3CYDAA/51OvmnTpoSGhlrjLRR6OqE8pCplnPGtUYaVhy5RlMbyaJq1DBkyhCVLltyzbcmSJTzxxBP06dOH8ePHEx4ezpEjR9i3bx/ffvttWrn008kHBQXRoEGDvA6/SNAJJRf8vd05FXmHI5eirB2KphV6AwYMYP369SQmGhe6O3v2LJcvX+bkyZNpMwIDODs7M3PmTL788ktrhlsk6ckhc6Fn40pMWn2UlYcu4eVRytrhaFre2TAerhwx7zkrNoYen2W6u0yZMvj6+rJhwwb69u3LkiVLGDRoEEePHqV58+b3lK1VqxZ3797l9u3bwL3TyQPs2bMny9mHtYejayi54FrMns71y7P28GWSUwzWDkfTCr30zV5LlixhyJAhOTru/iYvnUwsQ9dQcsnf250NIVfYceI6HeuVt3Y4mpY3sqhJWFLfvn159dVXOXjwIHFxcTRv3pxDhw6xffv2e8qdPn2asmXLUqqUbjnIS7qGkkuPeJanlLO9nopF0/JAiRIl6NixI88++2xa7WTYsGHs3LmTrVu3AsZVHV955RUmT55szVCLJJ1QcsnBzobeXpXYHHqF2IRka4ejaYXekCFDOHz4cFpCKVasGGvWrGHKlCnUrVuXcuXK4efnx7Bhw9KOSV1DPvWxe/dua4VfqOnp683gwLmb9P9uD1MHNmFAcw+zn1/T8oOCMn39qlWreO211/j777+pVq2atcMpcPT09XkgOupCpvuaVS1NtbLOrDx0MQ8j0jQtI/369eP06dM6mViBTig5MGVpTwat6IkyZHwnl4jQr6k7u0/d4EpUfB5Hp2malj/ohJIDjdy8uGQLwaHLMi3Tz9sdpfRULJqmFV06oeRA5xbjcFCKgNAFmZapUa443lVL6bu9NE0rsnRCyYESLpXoYFuKTbFnSU7KvEnL39udY1diCIuIzsPoNE3T8gedUHKoR42e3LAV9h3+OdMyvb0qY2cjupaiaVqRpBNKDrVrPpoSBsWG439kWqZMcQce8XRjddAlUgxF53ZsTcsrtra294wn+ewz843YDwoKIiAgIO11ZtPeX758mQEDBpjtug/j7NmzNGrU
