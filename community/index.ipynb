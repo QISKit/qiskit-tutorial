{
 "cells": [
  {
   "cell_type": "markdown",
   "metadata": {},
   "source": [
    "<img src=\"../images/qiskit-heading.gif\" alt=\"Note: In order for images to show up in this jupyter notebook you need to select File => Trusted Notebook\" width=\"500 px\" align=\"left\">"
   ]
  },
  {
   "cell_type": "markdown",
   "metadata": {},
   "source": [
    "# Qiskit Community Tutorials\n",
    "\n",
    "***\n",
    "\n",
    "\n",
    "Welcome Qiskitters.\n",
    "\n",
    "The easiest way to get started is to use [the Binder image](https://mybinder.org/v2/gh/qiskit/qiskit-tutorials/master?filepath=index.ipynb), which lets you use the notebooks via the web. This means that you don't need to download or install anything, but is also means that you should not insert any private information into the notebooks (such as your API key). We recommend that after you are done using mybinder that you regenerate your token. \n",
    "\n",
    "The tutorials can be downloaded by clicking [here](https://github.com/Qiskit/qiskit-tutorials/archive/master.zip) and to set them up follow the installation instructions [here](https://github.com/Qiskit/qiskit-tutorial/blob/master/INSTALL.md).\n",
    "\n",
    "***\n",
    "\n",
    "## Contents\n",
    "\n",
    "\n",
    "Teaching quantum and qiskit has so many different paths of learning. We love our community and we love the contributions so keep them coming. Because Qiskit is changing so much we can't keep this updated (we will try our best) but there are some great notebooks in here.\n",
    "\n",
    "### 1 [Hello, Quantum World with Qiskit](hello_world/) \n",
    "Learn from the community how to write your first quantum program.\n",
    "\n",
    "### 2 [Quantum Games with Qiskit](games/)\n",
    "Learn quantum computing by having fun. How is there a better way!\n",
    "\n",
    "### 3 [Quantum Information Science with Qiskit Terra](terra/index.ipynb)\n",
    "Learn about and how to program quantum circuits using Qiskit Terra. \n",
    "\n",
    "### 4 [Textbook Quantum Algorithms with Qiskit Terra](algorithms/index.ipynb)\n",
    "Learn about textbook quantum algorithms, like Deutsch-Jozsa, Grover, and Shor using Qiskit Terra. \n",
    "\n",
    "### 5 [Developing Quantum Applications with Qiskit Aqua](aqua/index.ipynb)\n",
    "Learn how to develop and the fundamentals of quantum applications using Qiskit Aqua\n",
    "\n",
    "### 6 Awards\n",
    "Learn from the great contributions to the [IBM Q Awards](https://qe-awards.mybluemix.net/)\n",
    "* [Teach Me Qiskit 2018](awards/teach_me_qiskit_2018/index.ipynb)\n",
    "* [Teach Me Quantum 2018](awards/teach_me_quantum_2018/index.ipynb)\n",
    "\n",
    "\n"
   ]
  },
  {
   "cell_type": "markdown",
   "metadata": {},
   "source": [
    "***\n",
    "\n",
    "## Index\n",
    "\n",
    "An index of everything in this folder, as well as the rest of the tutorials, can be found [here](../index.md)."
   ]
  },
  {
   "cell_type": "markdown",
   "metadata": {},
   "source": [
    "***  \n",
    "\n",
    "## License\n",
    "This project is licensed under the Apache License 2.0 - see the [LICENSE](https://github.com/Qiskit/qiskit-tutorials/blob/master/LICENSE) file for details."
   ]
  },
  {
   "cell_type": "code",
   "execution_count": null,
   "metadata": {},
   "outputs": [],
   "source": []
  }
 ],
 "metadata": {
  "hide_input": false,
  "kernelspec": {
   "display_name": "Python 3",
   "language": "python",
   "name": "python3"
  },
  "language_info": {
   "codemirror_mode": {
    "name": "ipython",
    "version": 3
   },
   "file_extension": ".py",
   "mimetype": "text/x-python",
   "name": "python",
   "nbconvert_exporter": "python",
   "pygments_lexer": "ipython3",
   "version": "3.7.0"
  }
 },
 "nbformat": 4,
 "nbformat_minor": 2
}
