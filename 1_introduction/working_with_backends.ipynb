{
 "cells": [
  {
   "cell_type": "markdown",
   "metadata": {},
   "source": [
    "<img src=\"../images/QISKit-c.gif\" alt=\"Note: In order for images to show up in this jupyter notebook you need to select File => Trusted Notebook\" width=\"250 px\" align=\"left\">"
   ]
  },
  {
   "cell_type": "markdown",
   "metadata": {},
   "source": [
    "## _*Working with the different backends*_ \n",
    "\n",
    "The latest version of this notebook is available on https://github.com/QISKit/qiskit-tutorial.\n",
    "\n",
    "***\n",
    "### Contributors\n",
    "Jay Gambetta"
   ]
  },
  {
   "cell_type": "markdown",
   "metadata": {},
   "source": [
    "## The backend. \n",
    "\n",
    "At the core of QISKit is the ability to access different backends to run your quantum programs. These backends are real devices, online simulators, and local simulations. As we continue to increase the flexibility of QISKit we expect there to be many different backends. \n",
    "\n",
    "These include new hardware with different number of qubits, connectivity, different gate sets, and simulators with different properties. \n",
    "\n",
    "Current hardware \n",
    "* [IBMQX2](https://github.com/IBM/qiskit-qx-info/tree/master/backends/ibmqx2) - a 5 qubit transmon bowtie chip.\n",
    "* [IBMQX3](https://github.com/IBM/qiskit-qx-info/tree/master/backends/ibmqx3) - a 16 qubit ladder chip.\n",
    "\n",
    "Current simulators \n",
    "\n",
    "* QASM simulator – simulates a quantum circuit and predicts the outcomes of a quantum experiment (samples over many shots).\n",
    "* QASM simulators with noise – simulates a quantum circuit with additional noise inputs.\n",
    "* Unitary simulator – predicts the unitary of a quantum circuit (ignoring measurement and if operations)."
   ]
  },
  {
   "cell_type": "code",
   "execution_count": 1,
   "metadata": {
    "collapsed": true
   },
   "outputs": [],
   "source": [
    "# Checking the version of PYTHON; we only support > 3.5\n",
    "import sys\n",
    "if sys.version_info < (3,5):\n",
    "    raise Exception('Please use Python version 3.5 or greater.')\n",
    "    \n",
    "from pprint import pprint\n",
    "\n",
    "# importing the QISKit\n",
    "from qiskit import QuantumProgram\n",
    "import Qconfig"
   ]
  },
  {
   "cell_type": "code",
   "execution_count": 2,
   "metadata": {
    "collapsed": true
   },
   "outputs": [],
   "source": [
    "Q_program = QuantumProgram()\n",
    "Q_program.set_api(Qconfig.APItoken, Qconfig.config['url']) # set the APIToken and API url"
   ]
  },
  {
   "cell_type": "markdown",
   "metadata": {},
   "source": [
    "### List and status \n",
    "\n",
    "To list all the backends that are avaiable for use we have provided the command \n",
    "\n",
    "```Q_program.available_backends()```"
   ]
  },
  {
   "cell_type": "code",
   "execution_count": 3,
   "metadata": {
    "collapsed": false
   },
   "outputs": [
    {
     "name": "stdout",
     "output_type": "stream",
     "text": [
      "['ibmqx2',\n",
      " 'ibmqx3',\n",
      " 'ibmqx_qasm_simulator',\n",
      " 'local_qasm_simulator',\n",
      " 'local_unitary_simulator']\n"
     ]
    }
   ],
   "source": [
    "pprint(Q_program.available_backends())"
   ]
  },
  {
   "cell_type": "markdown",
   "metadata": {},
   "source": [
    "and the status can be obtained using \n",
    "\n",
    "```Q_program.get_backend_status('ibmqx2')```"
   ]
  },
  {
   "cell_type": "code",
   "execution_count": 4,
   "metadata": {
    "collapsed": false
   },
   "outputs": [
    {
     "name": "stdout",
     "output_type": "stream",
     "text": [
      "{'available': True}\n"
     ]
    }
   ],
   "source": [
    "pprint(Q_program.get_backend_status('ibmqx2'))"
   ]
  },
  {
   "cell_type": "markdown",
   "metadata": {},
   "source": [
    "### Configuration\n",
    "\n",
    "To get more informaiton about the backend \n",
    "\n",
    "```Q_program.get_backend_configuration('ibmqx2')```"
   ]
  },
  {
   "cell_type": "code",
   "execution_count": 5,
   "metadata": {
    "collapsed": false
   },
   "outputs": [
    {
     "name": "stdout",
     "output_type": "stream",
     "text": [
      "{'basis_gates': 'u1,u2,u3,cx,id',\n",
      " 'chip_name': 'Sparrow',\n",
      " 'coupling_map': {0: [1, 2], 1: [2], 3: [2, 4], 4: [2]},\n",
      " 'description': '5 transmon bowtie',\n",
      " 'n_qubits': 5,\n",
      " 'name': 'ibmqx2',\n",
      " 'online_date': '2017-01-10T12:00:00.000Z',\n",
      " 'simulator': False,\n",
      " 'url': 'https://ibm.biz/qiskit-ibmqx2',\n",
      " 'version': '1'}\n"
     ]
    }
   ],
   "source": [
    "pprint(Q_program.get_backend_configuration('ibmqx2'))"
   ]
  },
  {
   "cell_type": "markdown",
   "metadata": {},
   "source": [
    "This information for hardware contains \n",
    "    - 'name': 'backend_name',    \n",
    "        Backend name used to run quantum programs\n",
    "    - 'version': '1',    \n",
    "        A version number that will iterate when changes are made to the device\n",
    "    - 'url': 'https://ibm.biz/qiskit-ibmqx2',    \n",
    "        A url address to find more information about the device\n",
    "    - 'simulator': false,    \n",
    "        Flag for labeling if the backend is simulator or not\n",
    "    - 'description': '5 qubit transmon bowtie chip 2',   \n",
    "        A human readable description of the device\n",
    "    - 'n_qubits': 5,    \n",
    "        The number of qubits in the device\n",
    "    - 'coupling_map': {0: [1, 2], 1: [2], 3: [2, 4], 4: [2]},    \n",
    "        The connectivity map of the deive i:[j] represents control qubit i coupled to target qubit j\n",
    "    - 'basis_gates': 'u1,u2,u3,cx,id',    \n",
    "        The gate set of the device. Here u1, u2, an u3 are single qubit unitary rotations on the qubits, cx is the CNOT gate, and id is the identity operation\n",
    "    - 'online_date': '2017-01-10',\n",
    "        The date the device went online. \n",
    "    - 'chip_name': 'Sparrow'\n",
    "        A code name for the device\n",
    "        \n",
    "The information for the simulators is obtained using the same command"
   ]
  },
  {
   "cell_type": "code",
   "execution_count": 6,
   "metadata": {
    "collapsed": false
   },
   "outputs": [
    {
     "name": "stdout",
     "output_type": "stream",
     "text": [
      "{'basis_gates': 'u1,u2,u3,cx,id',\n",
      " 'coupling_map': 'all-to-all',\n",
      " 'description': 'A python simulator for qasm files',\n",
      " 'name': 'local_qasm_simulator',\n",
      " 'simulator': True,\n",
      " 'url': 'https://github.com/IBM/qiskit-sdk-py'}\n"
     ]
    }
   ],
   "source": [
    "pprint(Q_program.get_backend_configuration('local_qasm_simulator'))"
   ]
  },
  {
   "cell_type": "markdown",
   "metadata": {},
   "source": [
    "This information for a simulator contains \n",
    "    - 'name': 'backend_name',    \n",
    "        Backend name used to run quantum programs\n",
    "    - 'url': 'https://ibm.biz/qiskit-ibmqx2',    \n",
    "        A url address to find more information about the simulator\n",
    "    - 'simulator': true,    \n",
    "        Flag for labeling if the backend is simulator or not\n",
    "    - 'description': 'A python simulator for qasm files',   \n",
    "        A human readable description of the simulator\n",
    "    - 'coupling_map': 'all-to-all',    \n",
    "        The connectivity map, all-to-all means that every two qubit gate is possible \n",
    "    - 'basis_gates': 'u1,u2,u3,cx,id',    \n",
    "        The gate set of the device. Here u1, u2, an u3 are single qubit unitary rotations on the qubits, cx is the CNOT gate, and id is the identity operation"
   ]
  },
  {
   "cell_type": "markdown",
   "metadata": {},
   "source": [
    "### Extra information - calibrations\n",
    "\n",
    "For the online devices calibrations are run every 12 hours and the last calibration data can be obtained using \n",
    "\n",
    "```Q_program.get_backend_calibration('ibmqx2')```"
   ]
  },
  {
   "cell_type": "code",
   "execution_count": 7,
   "metadata": {
    "collapsed": false
   },
   "outputs": [
    {
     "name": "stdout",
     "output_type": "stream",
     "text": [
      "{'backend': 'ibmqx2',\n",
      " 'last_update_date': '2017-08-03T23:51:45.000Z',\n",
      " 'multi_qubit_gates': [{'gateError': {'date': '2017-08-03T23:51:45Z',\n",
      "                                      'value': 0.03699332315395412},\n",
      "                        'name': 'CX0_1',\n",
      "                        'qubits': [0, 1],\n",
      "                        'type': 'CX'},\n",
      "                       {'gateError': {'date': '2017-08-03T23:51:45Z',\n",
      "                                      'value': 0.030580541271337164},\n",
      "                        'name': 'CX0_2',\n",
      "                        'qubits': [0, 2],\n",
      "                        'type': 'CX'},\n",
      "                       {'gateError': {'date': '2017-08-03T23:51:45Z',\n",
      "                                      'value': 0.03385156604648343},\n",
      "                        'name': 'CX1_2',\n",
      "                        'qubits': [1, 2],\n",
      "                        'type': 'CX'},\n",
      "                       {'gateError': {'date': '2017-08-03T23:51:45Z',\n",
      "                                      'value': 0.03467048946735929},\n",
      "                        'name': 'CX3_2',\n",
      "                        'qubits': [3, 2],\n",
      "                        'type': 'CX'},\n",
      "                       {'gateError': {'date': '2017-08-03T23:51:45Z',\n",
      "                                      'value': 0.026230704694398893},\n",
      "                        'name': 'CX3_4',\n",
      "                        'qubits': [3, 4],\n",
      "                        'type': 'CX'},\n",
      "                       {'gateError': {'date': '2017-08-03T23:51:45Z',\n",
      "                                      'value': 0.025891424576330813},\n",
      "                        'name': 'CX4_2',\n",
      "                        'qubits': [4, 2],\n",
      "                        'type': 'CX'}],\n",
      " 'qubits': [{'gateError': {'date': '2017-08-03T23:51:45Z',\n",
      "                           'value': 0.00128782749692391},\n",
      "             'name': 'Q0',\n",
      "             'readoutError': {'date': '2017-08-03T23:51:45Z', 'value': 0.025}},\n",
      "            {'gateError': {'date': '2017-08-03T23:51:45Z',\n",
      "                           'value': 0.0024043886349084387},\n",
      "             'name': 'Q1',\n",
      "             'readoutError': {'date': '2017-08-03T23:51:45Z', 'value': 0.026}},\n",
      "            {'gateError': {'date': '2017-08-03T23:51:45Z',\n",
      "                           'value': 0.00197489316929661},\n",
      "             'name': 'Q2',\n",
      "             'readoutError': {'date': '2017-08-03T23:51:45Z', 'value': 0.014}},\n",
      "            {'gateError': {'date': '2017-08-03T23:51:45Z',\n",
      "                           'value': 0.0025762039467128184},\n",
      "             'name': 'Q3',\n",
      "             'readoutError': {'date': '2017-08-03T23:51:45Z', 'value': 0.022}},\n",
      "            {'gateError': {'date': '2017-08-03T23:51:45Z',\n",
      "                           'value': 0.0009443532335046134},\n",
      "             'name': 'Q4',\n",
      "             'readoutError': {'date': '2017-08-03T23:51:45Z', 'value': 0.047}}]}\n"
     ]
    }
   ],
   "source": [
    "pprint(Q_program.get_backend_calibration('ibmqx2'))"
   ]
  },
  {
   "cell_type": "markdown",
   "metadata": {},
   "source": [
    "### Extra information - parameters \n",
    "\n",
    "For the online devices there are extra parameters such as gate times, coherence times, etc  which can be obtained using \n",
    "\n",
    "```Q_program.get_backend_parameters('ibmqx2')```"
   ]
  },
  {
   "cell_type": "code",
   "execution_count": 8,
   "metadata": {
    "collapsed": false
   },
   "outputs": [
    {
     "name": "stdout",
     "output_type": "stream",
     "text": [
      "{'backend': 'ibmqx2',\n",
      " 'fridge_parameters': {'Temperature': {'date': '2017-08-03T23:51:45Z',\n",
      "                                       'unit': 'K',\n",
      "                                       'value': 0.0155},\n",
      "                       'cooldownDate': '2017-05-07'},\n",
      " 'last_update_date': '2017-08-03T23:51:45.000Z',\n",
      " 'qubits': [{'T1': {'date': '2017-08-03T23:51:45Z',\n",
      "                    'unit': 'µs',\n",
      "                    'value': 43.6},\n",
      "             'T2': {'date': '2017-08-03T23:51:45Z',\n",
      "                    'unit': 'µs',\n",
      "                    'value': 52.8},\n",
      "             'buffer': {'date': '2017-08-03T23:51:45Z',\n",
      "                        'unit': 'ns',\n",
      "                        'value': 6.7},\n",
      "             'frequency': {'date': '2017-08-03T23:51:45Z',\n",
      "                           'unit': 'GHz',\n",
      "                           'value': 5.27217},\n",
      "             'gateTime': {'date': '2017-08-03T23:51:45Z',\n",
      "                          'unit': 'ns',\n",
      "                          'value': 83.3},\n",
      "             'name': 'Q0'},\n",
      "            {'T1': {'date': '2017-08-03T23:51:45Z',\n",
      "                    'unit': 'µs',\n",
      "                    'value': 46.7},\n",
      "             'T2': {'date': '2017-08-03T23:51:45Z',\n",
      "                    'unit': 'µs',\n",
      "                    'value': 30.6},\n",
      "             'buffer': {'date': '2017-08-03T23:51:45Z',\n",
      "                        'unit': 'ns',\n",
      "                        'value': 6.7},\n",
      "             'frequency': {'date': '2017-08-03T23:51:45Z',\n",
      "                           'unit': 'GHz',\n",
      "                           'value': 5.21461},\n",
      "             'gateTime': {'date': '2017-08-03T23:51:45Z',\n",
      "                          'unit': 'ns',\n",
      "                          'value': 83.3},\n",
      "             'name': 'Q1'},\n",
      "            {'T1': {'date': '2017-08-03T23:51:45Z',\n",
      "                    'unit': 'µs',\n",
      "                    'value': 47.9},\n",
      "             'T2': {'date': '2017-08-03T23:51:45Z',\n",
      "                    'unit': 'µs',\n",
      "                    'value': 89.3},\n",
      "             'buffer': {'date': '2017-08-03T23:51:45Z',\n",
      "                        'unit': 'ns',\n",
      "                        'value': 6.7},\n",
      "             'frequency': {'date': '2017-08-03T23:51:45Z',\n",
      "                           'unit': 'GHz',\n",
      "                           'value': 5.02889},\n",
      "             'gateTime': {'date': '2017-08-03T23:51:45Z',\n",
      "                          'unit': 'ns',\n",
      "                          'value': 83.3},\n",
      "             'name': 'Q2'},\n",
      "            {'T1': {'date': '2017-08-03T23:51:45Z',\n",
      "                    'unit': 'µs',\n",
      "                    'value': 53.4},\n",
      "             'T2': {'date': '2017-08-03T23:51:45Z',\n",
      "                    'unit': 'µs',\n",
      "                    'value': 57.8},\n",
      "             'buffer': {'date': '2017-08-03T23:51:45Z',\n",
      "                        'unit': 'ns',\n",
      "                        'value': 6.7},\n",
      "             'frequency': {'date': '2017-08-03T23:51:45Z',\n",
      "                           'unit': 'GHz',\n",
      "                           'value': 5.29703},\n",
      "             'gateTime': {'date': '2017-08-03T23:51:45Z',\n",
      "                          'unit': 'ns',\n",
      "                          'value': 83.3},\n",
      "             'name': 'Q3'},\n",
      "            {'T1': {'date': '2017-08-03T23:51:45Z',\n",
      "                    'unit': 'µs',\n",
      "                    'value': 72.8},\n",
      "             'T2': {'date': '2017-08-03T23:51:45Z',\n",
      "                    'unit': 'µs',\n",
      "                    'value': 106.1},\n",
      "             'buffer': {'date': '2017-08-03T23:51:45Z',\n",
      "                        'unit': 'ns',\n",
      "                        'value': 6.7},\n",
      "             'frequency': {'date': '2017-08-03T23:51:45Z',\n",
      "                           'unit': 'GHz',\n",
      "                           'value': 5.05575},\n",
      "             'gateTime': {'date': '2017-08-03T23:51:45Z',\n",
      "                          'unit': 'ns',\n",
      "                          'value': 83.3},\n",
      "             'name': 'Q4'}]}\n"
     ]
    }
   ],
   "source": [
    "pprint(Q_program.get_backend_parameters('ibmqx2'))"
   ]
  },
  {
   "cell_type": "code",
   "execution_count": null,
   "metadata": {
    "collapsed": true
   },
   "outputs": [],
   "source": []
  }
 ],
 "metadata": {
  "anaconda-cloud": {},
  "kernelspec": {
   "display_name": "Python 3",
   "language": "python",
   "name": "python3"
  },
  "language_info": {
   "codemirror_mode": {
    "name": "ipython",
    "version": 3
   },
   "file_extension": ".py",
   "mimetype": "text/x-python",
   "name": "python",
   "nbconvert_exporter": "python",
   "pygments_lexer": "ipython3",
   "version": "3.6.0"
  }
 },
 "nbformat": 4,
 "nbformat_minor": 1
}
