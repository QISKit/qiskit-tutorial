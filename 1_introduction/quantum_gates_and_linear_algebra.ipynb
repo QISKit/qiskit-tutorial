{
 "cells": [
  {
   "cell_type": "markdown",
   "metadata": {},
   "source": [
    "<img src=\"../images/QISKit-c.gif\" alt=\"Note: In order for images to show up in this jupyter notebook you need to select File => Trusted Notebook\" width=\"250 px\" align=\"left\">"
   ]
  },
  {
   "cell_type": "markdown",
   "metadata": {},
   "source": [
    "## _*Basic Quantum Gates and Their Mathematical Definitions*_ \n",
    "\n",
    "The latest version of this notebook is available on https://github.com/QISKit/qiskit-tutorial.\n",
    "\n",
    "For more information about how to use the IBM Q experience (QX), consult the [tutorials](https://quantumexperience.ng.bluemix.net/qstage/#/tutorial?sectionId=c59b3710b928891a1420190148a72cce&pageIndex=0), or check out the [community](https://quantumexperience.ng.bluemix.net/qstage/#/community).\n",
    "\n",
    "***\n",
    "### Contributors\n",
    "Rudy Raymond"
   ]
  },
  {
   "cell_type": "markdown",
   "metadata": {},
   "source": [
    "## Quantum Gates \n",
    "\n",
    "Quantum gates on $q$ qubits can be regarded as unitary operations rotating a complex vector of dimension $2^q$, that corresponds to the quantum state. This tutorial is written to list elementary gates and their corresponding unitary matrices. Each gate is documented in [the openqasm](https://github.com/QISKit/openqasm/blob/master/spec/qasm2.pdf). The gates are defined in [the file `qelib1.inc`](https://github.com/QISKit/openqasm/blob/master/examples/generic/qelib1.inc), and implemented in [the standard extension](https://github.com/QISKit/qiskit-sdk-py/tree/master/qiskit/extensions/standard). The gates can be divided into one-qubit gates and multi-qubit gates. \n",
    "\n",
    "In the hereafter, following the standard in the quantum community we treat the order of the qubits from left to right, namely, the least significant bit (LSB) is the left-most qubit. Thus, the tensor product of $q_0$, $q_1$, and $q_2$ of the three qubits is defined as $q_0 \\otimes q_1 \\otimes q_2$. \n",
    "\n",
    "Notice that the IBM Quantum experience uses order the qubits in the opposite way (the tensor product is $q_2 \\otimes q_1 \\otimes q_0$). Thus to get the standard order, we must store the measurement of the first qubit to the last bit, the second qubit to the second last bit, and so on. \n",
    "\n",
    "We start with preparing the environment. "
   ]
  },
  {
   "cell_type": "code",
   "execution_count": 2,
   "metadata": {},
   "outputs": [],
   "source": [
    "import sys\n",
    "if sys.version_info < (3,0):\n",
    "    raise Exception(\"Please use Python version 3 or greater.\")\n",
    "\n",
    "# useful additional packages \n",
    "import matplotlib.pyplot as plt\n",
    "%matplotlib inline\n",
    "import numpy as np\n",
    "from math import pi\n",
    "\n",
    "#Uncomment the line below and set the path to qiskit-sdk-py if you do not install qiskit-sdk with pip\n",
    "#sys.path.append(\"../../qiskit-sdk-py/\")\n",
    "\n",
    "# importing the QISKit\n",
    "from qiskit import QuantumProgram\n",
    "import Qconfig\n",
    "\n",
    "# import basic plot tools\n",
    "from qiskit.tools.visualization import plot_histogram\n",
    "\n",
    "Q_program = QuantumProgram()\n",
    "Q_program.set_api(Qconfig.APItoken, Qconfig.config[\"url\"]) # set the APIToken and API url\n",
    "\n",
    "# Creating registers\n",
    "# prepare 3 qubits\n",
    "qr = Q_program.create_quantum_register(\"qr\", 3)\n",
    "# 3 bits for recording the measurement of the qubits\n",
    "cr = Q_program.create_classical_register(\"cr\", 3)\n",
    "\n",
    "circuitName = \"gatesDemo\"\n",
    "demoCircuit = Q_program.create_circuit(circuitName, [qr], [cr])"
   ]
  },
  {
   "cell_type": "markdown",
   "metadata": {},
   "source": [
    "## One-Qubit Gates\n",
    "\n",
    "The one-qubit gates available consist of Pauli $X, Y, Z$ gates, the Identity gate, primitives, and standard rotation gates. The primitives contain parametrized $u$ matrices (from one up to three parameters),  the Hadamard gate, the square-root of $Z$ (also referred as the $S$) gate and its conjugate, the square-root of $S$ (also referred as the $T$) gate and its conjugate. The standard rotation gates are those that define rotations around standard axis.  \n",
    "\n",
    "### Pauli gates\n",
    "\n",
    "#### $X$: bit-flip gate\n",
    "\n",
    "The bit-flip gate $X$ is defined as:\n",
    "\n",
    "$$\n",
    "X = u3(\\pi, 0, pi) = \n",
    "\\begin{pmatrix}\n",
    "0 & 1\\\\\n",
    "1 & 0\n",
    "\\end{pmatrix}\n",
    "$$\n",
    "\n",
    "#### $Y$: bit- and phase-flip gate\n",
    "\n",
    "The $Y$ gate is defined as:\n",
    "\n",
    "$$\n",
    "Y = u3(\\pi, \\pi/2, \\pi/2) = \n",
    "\\begin{pmatrix}\n",
    "0 & -i\\\\\n",
    "i & 0\n",
    "\\end{pmatrix}\n",
    "$$\n",
    "\n",
    "#### $Z$: phase-flip gate\n",
    "\n",
    "The $Z$ gate is defined as:\n",
    "\n",
    "$$\n",
    "Z = u1(\\pi) = \n",
    "\\begin{pmatrix}\n",
    "1 & 0\\\\\n",
    "0 & -1\n",
    "\\end{pmatrix}\n",
    "$$\n",
    "\n",
    "The pauli gates can be added as below."
   ]
  },
  {
   "cell_type": "code",
   "execution_count": 3,
   "metadata": {},
   "outputs": [
    {
     "data": {
      "text/plain": [
       "<qiskit.extensions.standard.z.ZGate at 0x10f11d7b8>"
      ]
     },
     "execution_count": 3,
     "metadata": {},
     "output_type": "execute_result"
    }
   ],
   "source": [
    "demoCircuit.x(qr[0]) #applying  x gate to the first qubit\n",
    "demoCircuit.y(qr[0]) #applying  y gate to the first qubit\n",
    "demoCircuit.z(qr[0]) #applying  z gate to the first qubit"
   ]
  },
  {
   "cell_type": "markdown",
   "metadata": {},
   "source": [
    "### Identity gate\n",
    "\n",
    "The identity gate does nothing (but can add noises in the real device).\n",
    "\n",
    "$$\n",
    "I = \n",
    "\\begin{pmatrix}\n",
    "1 & 0 \\\\\n",
    "0 & 1\n",
    "\\end{pmatrix}.\n",
    "$$\n",
    "\n",
    "It can be added as below."
   ]
  },
  {
   "cell_type": "code",
   "execution_count": 4,
   "metadata": {},
   "outputs": [
    {
     "data": {
      "text/plain": [
       "<qiskit.extensions.standard.iden.IdGate at 0x10f11d390>"
      ]
     },
     "execution_count": 4,
     "metadata": {},
     "output_type": "execute_result"
    }
   ],
   "source": [
    "demoCircuit.iden(qr[0]) #identity gate on the first qubit"
   ]
  },
  {
   "cell_type": "markdown",
   "metadata": {},
   "source": [
    "### Primitives\n",
    "\n",
    "The primitives contain parametrized $u$ matrices (from one up to three parameters),  the Hadamard gate, the square-root of $Z$ (also referred as the $S$) gate and its conjugate, the square-root of $S$ (also referred as the $T$) gate and its conjugate. \n",
    "\n",
    "#### u3 (or,  U gates with three parameters)\n",
    "\n",
    "$u3(\\theta, \\phi, \\lambda$ (or, $U(\\theta, \\phi, \\lambda)$) gates are rotations of 1-qubit state whose mathematical definition are:\n",
    "\n",
    "$$\n",
    "u3(\\theta, \\phi, \\lambda) =  \n",
    "\\begin{pmatrix}\n",
    "\\cos(\\theta/2) & -e^{i\\lambda}\\sin(\\theta/2)\\\\\n",
    "e^{i\\phi}\\sin(\\theta/2) & e^{i(\\phi + \\lambda)}\\cos(\\theta/2)\n",
    "\\end{pmatrix}.\n",
    "$$\n",
    "\n",
    "Notice that the above unitaries are essentially equivalent to $e^{-i{(\\phi + \\lambda)}/{2}} u3(\\theta, \\phi, \\lambda)$, as in Eq.(2) of the openqasm [here](https://github.com/QISKit/openqasm/blob/master/spec/qasm2.pdf). \n",
    "\n",
    "Here is the command to add such a $u3$ gate to a circuit.  "
   ]
  },
  {
   "cell_type": "code",
   "execution_count": 2,
   "metadata": {},
   "outputs": [
    {
     "data": {
      "text/plain": [
       "<qiskit.extensions.standard.u3.U3Gate at 0x10b553438>"
      ]
     },
     "execution_count": 2,
     "metadata": {},
     "output_type": "execute_result"
    }
   ],
   "source": [
    "theta = pi/2.0   \n",
    "phi = pi/3.0\n",
    "lambd = pi/4.0\n",
    "demoCircuit.u3(theta, phi, lambd, qr[0]) #applying a u3 gate to the first qubit "
   ]
  },
  {
   "cell_type": "markdown",
   "metadata": {
    "collapsed": true
   },
   "source": [
    "#### u2 (or, U gates with two parameters)\n",
    "\n",
    "$u2(\\phi, \\lambda)$ gates are rotations of 1-qubit state whose mathematical definitions are:\n",
    "\n",
    "$$\n",
    "u2(\\phi, \\lambda) = u3(\\pi/2, \\phi, \\lambda) = \n",
    "\\frac{1}{\\sqrt{2}} \\begin{pmatrix}\n",
    "1 & -e^{i\\lambda} \\\\\n",
    "e^{i\\phi} & e^{i(\\phi + \\lambda)}\n",
    "\\end{pmatrix}.\n",
    "$$\n",
    "\n",
    "We can add a $u2$ gate to a circuit as follows."
   ]
  },
  {
   "cell_type": "code",
   "execution_count": 3,
   "metadata": {},
   "outputs": [
    {
     "data": {
      "text/plain": [
       "<qiskit.extensions.standard.u2.U2Gate at 0x10b553208>"
      ]
     },
     "execution_count": 3,
     "metadata": {},
     "output_type": "execute_result"
    }
   ],
   "source": [
    "phi = pi/3.0\n",
    "lambd = pi/4.0\n",
    "demoCircuit.u2(phi, lambd, qr[0]) #applying a u2 gate to the first qubit "
   ]
  },
  {
   "cell_type": "markdown",
   "metadata": {},
   "source": [
    "#### u1 (or, U gates with one parameter)\n",
    "\n",
    "$u1(\\lambda)$ gates are rotations of 1-qubit state whose mathematical definitions are:\n",
    "\n",
    "$$\n",
    "u1(\\lambda) = u3(0, 0, \\lambda) = \n",
    "\\begin{pmatrix}\n",
    "1 & 0 \\\\\n",
    "0 & e^{i \\lambda}\n",
    "\\end{pmatrix}.\n",
    "$$\n",
    "\n",
    "We can add a $u1$ gate to a circuit as below."
   ]
  },
  {
   "cell_type": "code",
   "execution_count": 4,
   "metadata": {},
   "outputs": [
    {
     "data": {
      "text/plain": [
       "<qiskit.extensions.standard.u1.U1Gate at 0x10b553278>"
      ]
     },
     "execution_count": 4,
     "metadata": {},
     "output_type": "execute_result"
    }
   ],
   "source": [
    "lambd = pi/4.0\n",
    "demoCircuit.u1(lambd, qr[0]) #applying a u1 gate to the first qubit "
   ]
  },
  {
   "cell_type": "markdown",
   "metadata": {
    "collapsed": true
   },
   "source": [
    "#### Hadamard gate (Clifford)\n",
    "\n",
    "$$\n",
    "H = u2(0, \\pi) =\n",
    "1/\\sqrt{2}\n",
    "\\begin{pmatrix}\n",
    "1 & 1\\\\\n",
    "1 & -1\n",
    "\\end{pmatrix}\n",
    "$$\n",
    "\n",
    "#### $S$ (or, $\\sqrt{Z}$ phase) gate (Clifford)\n",
    "\n",
    "$$\n",
    "S = u1(\\pi/2) = \n",
    "\\begin{pmatrix}\n",
    "1 & 0\\\\\n",
    "0 & e^{i\\pi/2}\n",
    "\\end{pmatrix}\n",
    "$$\n",
    "\n",
    "#### $S^{\\dagger}$ (or, conjugate of $\\sqrt{Z}$ phase) gate (Clifford)\n",
    "\n",
    "$$\n",
    "S^{\\dagger} = u1(-\\pi/2) = \n",
    "\\begin{pmatrix}\n",
    "1 & 0\\\\\n",
    "0 & e^{-i\\pi/2}\n",
    "\\end{pmatrix}\n",
    "$$\n",
    "\n",
    "The above Clifford gates can be added as below."
   ]
  },
  {
   "cell_type": "code",
   "execution_count": 7,
   "metadata": {},
   "outputs": [
    {
     "data": {
      "text/plain": [
       "<qiskit.extensions.standard.s.SGate at 0x10b553978>"
      ]
     },
     "execution_count": 7,
     "metadata": {},
     "output_type": "execute_result"
    }
   ],
   "source": [
    "demoCircuit.h(qr[0]) #applying h gate to the first qubit\n",
    "demoCircuit.s(qr[0]) #applying s gate to the first qubit\n",
    "demoCircuit.sdg(qr[0]) #applying sdg gate to the first qubit"
   ]
  },
  {
   "cell_type": "markdown",
   "metadata": {},
   "source": [
    "#### $T$ (or, $\\sqrt{S}$ phase) gate ($C3$ gate)\n",
    "\n",
    "$$\n",
    "T = u1(pi/4) = \n",
    "\\begin{pmatrix}\n",
    "1 & 0\\\\\n",
    "0 & e^{\\pi/4}\n",
    "\\end{pmatrix}\n",
    "$$\n",
    "\n",
    "#### $T^{\\dagger}$ (or, conjugate of $\\sqrt{S}$ phase) gate ($C3$ gate)\n",
    "\n",
    "$$\n",
    "T^{\\dagger} = u1(-pi/4) = \n",
    "\\begin{pmatrix}\n",
    "1 & 0\\\\\n",
    "0 & e^{-\\pi/4}\n",
    "\\end{pmatrix}\n",
    "$$\n",
    "\n",
    "They can be added as below."
   ]
  },
  {
   "cell_type": "code",
   "execution_count": 8,
   "metadata": {},
   "outputs": [
    {
     "data": {
      "text/plain": [
       "<qiskit.extensions.standard.t.TGate at 0x10b553518>"
      ]
     },
     "execution_count": 8,
     "metadata": {},
     "output_type": "execute_result"
    }
   ],
   "source": [
    "demoCircuit.t(qr[0]) #applying t gate to the first qubit\n",
    "demoCircuit.tdg(qr[0]) #applying tdg gate to the first qubit"
   ]
  },
  {
   "cell_type": "markdown",
   "metadata": {},
   "source": [
    "### Standard Rotations\n",
    "\n",
    "The standard rotation gates are those that define rotations around standard axis. \n",
    "\n",
    "#### Rotation around X-axis\n",
    "\n",
    "$$\n",
    "R_x(\\theta) = u3(\\theta, -\\pi/2, \\pi/2) = \n",
    "\\begin{pmatrix}\n",
    "\\cos(\\theta/2) & -i\\sin(\\theta/2)\\\\\n",
    "-i\\sin(\\theta/2) & \\cos(\\theta/2).\n",
    "\\end{pmatrix}\n",
    "$$\n",
    "\n",
    "#### Rotation round Y-axis\n",
    "\n",
    "$$\n",
    "R_y(\\theta) = u3(\\theta, 0, 0) = \n",
    "\\begin{pmatrix}\n",
    "\\cos(\\theta/2) & \\sin(\\theta/2)\\\\\n",
    "\\sin(\\theta/2) & \\cos(\\theta/2).\n",
    "\\end{pmatrix}\n",
    "$$\n",
    "\n",
    "#### Rotation around Z-axis\n",
    "\n",
    "$$\n",
    "R_z(\\phi) = u1(\\phi) = \n",
    "\\begin{pmatrix}\n",
    "1 & 0 \\\\\n",
    "0 & e^{i \\phi}\n",
    "\\end{pmatrix}\n",
    "$$\n",
    "\n",
    "They can be added as below."
   ]
  },
  {
   "cell_type": "code",
   "execution_count": 9,
   "metadata": {},
   "outputs": [
    {
     "data": {
      "text/plain": [
       "<qiskit.extensions.standard.rz.RZGate at 0x10b553f28>"
      ]
     },
     "execution_count": 9,
     "metadata": {},
     "output_type": "execute_result"
    }
   ],
   "source": [
    "theta = pi/4\n",
    "phi = pi/4\n",
    "demoCircuit.rx(theta, qr[0]) #applying rotation around x-axis gate to the first qubit\n",
    "demoCircuit.ry(theta, qr[0]) #applying rotation around y-axis gate to the first qubit\n",
    "demoCircuit.rz(phi, qr[0]) #applying rotation around z-axis gate to the first qubit"
   ]
  },
  {
   "cell_type": "markdown",
   "metadata": {},
   "source": [
    "## Multi-Qubit Gates\n",
    "\n",
    "The standard multi-qubit gates consist of two-qubit gates and three-qubit gates. The two-qubit gates consist of the controlled Pauli gates, the controlled Hadamard gate, the controlled rotation gates, and the swap gate. The three-qubit gates consist of the Toffoli gate and the Fredkin gate. \n",
    "\n",
    "### Controlled Pauli Gates\n",
    "\n",
    "#### Controlled X (or, controlled NOT) gate\n",
    "The control-not gate is the following unitary:\n",
    "\n",
    "$$\n",
    "C_X = \n",
    "\\begin{pmatrix}\n",
    "1 & 0 & 0 & 0\\\\\n",
    "0 & 1 & 0 & 0\\\\\n",
    "0 & 0 & 0 & 1\\\\\n",
    "0 & 0 & 1 & 0\n",
    "\\end{pmatrix}. \n",
    "$$\n",
    "\n",
    "#### Controlled $Y$ gate\n",
    "\n",
    "Apply $Y$ gate to the target qubit if the control qubit is $1$.\n",
    "\n",
    "$$\n",
    "C_Y = \n",
    "\\begin{pmatrix}\n",
    "1 & 0 & 0 & 0\\\\\n",
    "0 & 1 & 0 & 0\\\\\n",
    "0 & 0 & 0 & -i\\\\\n",
    "0 & 0 & i & 0\n",
    "\\end{pmatrix}\n",
    "$$\n",
    "\n",
    "#### Controlled $Z$ (or, controlled Phase) gate\n",
    "\n",
    "The controlled Z gate flips the phase of the target qubit if the control qubit is $1$.  \n",
    "\n",
    "$$\n",
    "C_Z = \n",
    "\\begin{pmatrix}\n",
    "1 & 0 & 0 & 0\\\\\n",
    "0 & 1 & 0 & 0\\\\\n",
    "0 & 0 & 1 & 0\\\\\n",
    "0 & 0 & 0 & -1\n",
    "\\end{pmatrix}\n",
    "$$\n",
    "\n",
    "### Controlled Hadamard gate\n",
    "\n",
    "Apply $H$ gate to the target qubit if the control qubit is $1$. \n",
    "\n",
    "$$\n",
    "C_H = \n",
    "\\begin{pmatrix}\n",
    "1 & 0 & 0 & 0\\\\\n",
    "0 & 1 & 0 & 0\\\\\n",
    "0 & 0 & \\frac{1}{\\sqrt{2}} & \\frac{1}{\\sqrt{2}}\\\\\n",
    "0 & 0 & \\frac{1}{\\sqrt{2}} & -\\frac{1}{\\sqrt{2}}\n",
    "\\end{pmatrix}\n",
    "$$"
   ]
  },
  {
   "cell_type": "code",
   "execution_count": 5,
   "metadata": {},
   "outputs": [
    {
     "data": {
      "text/plain": [
       "<qiskit.extensions.standard.ch.CHGate at 0x10f11f0f0>"
      ]
     },
     "execution_count": 5,
     "metadata": {},
     "output_type": "execute_result"
    }
   ],
   "source": [
    "demoCircuit.cx(qr[0], qr[1]) #applying cnot gate\n",
    "demoCircuit.cy(qr[0], qr[1]) #controlled-y\n",
    "demoCircuit.cz(qr[0], qr[1]) #controlled-z\n",
    "demoCircuit.ch(qr[0], qr[1]) #controlled-h"
   ]
  },
  {
   "cell_type": "markdown",
   "metadata": {},
   "source": [
    "### Controlled rotation gates\n",
    "\n",
    "#### Controlled rotation around Z-axis\n",
    "\n",
    "Perform rotation around Z-axis on the target qubit if the control qubit is $1$.\n",
    "\n",
    "$$\n",
    "C_{RZ}(\\lambda) = \n",
    "\\begin{pmatrix}\n",
    "1 & 0 & 0 & 0\\\\\n",
    "0 & 1 & 0 & 0\\\\\n",
    "0 & 0 & e^{-i\\lambda/2} & 0\\\\\n",
    "0 & 0 & 0 & e^{i\\lambda/2}\n",
    "\\end{pmatrix}\n",
    "$$\n",
    "\n",
    "#### Controlled phase rotation\n",
    "\n",
    "Perform $u1$ on the target qubit if the control qubit is $1$.\n",
    "\n",
    "$$\n",
    "C_{u1}(\\lambda) = \n",
    "\\begin{pmatrix}\n",
    "1 & 0 & 0 & 0\\\\\n",
    "0 & 1 & 0 & 0\\\\\n",
    "0 & 0 & 1 & 0\\\\\n",
    "0 & 0 & 0 & e^{i\\lambda}\n",
    "\\end{pmatrix}\n",
    "$$\n",
    "\n",
    "#### Controlled $U$ rotation\n",
    "\n",
    "Perform controlled-$U$ rotation on the target qubit if the control qubit is $1$. \n",
    "\n",
    "$$\n",
    "C_{u3}(\\theta, \\phi, \\lambda) = \n",
    "\\begin{pmatrix}\n",
    "1 & 0 & 0 & 0\\\\\n",
    "0 & 1 & 0 & 0\\\\\n",
    "0 & 0 & \\cos(\\theta/2) & -e^{i\\lambda}\\sin(\\theta/2)\\\\\n",
    "0 & 0 & e^{i\\phi}\\sin(\\theta/2) & e^{i(\\phi + \\lambda)}\\cos(\\theta/2)\n",
    "\\end{pmatrix}.\n",
    "$$\n",
    "\n",
    "They can be added to the circuit as below."
   ]
  },
  {
   "cell_type": "code",
   "execution_count": 12,
   "metadata": {},
   "outputs": [
    {
     "data": {
      "text/plain": [
       "<qiskit.extensions.standard.cu3.Cu3Gate at 0x10fb6a198>"
      ]
     },
     "execution_count": 12,
     "metadata": {},
     "output_type": "execute_result"
    }
   ],
   "source": [
    "demoCircuit.crz(lambd, qr[0], qr[1]) #controlled rotation around-Z\n",
    "demoCircuit.cu1(lambd, qr[0], qr[1]) #controlled u1\n",
    "demoCircuit.cu3(theta, phi, lambd, qr[0], qr[1]) #controlled u3"
   ]
  },
  {
   "cell_type": "markdown",
   "metadata": {},
   "source": [
    "### Swap gate\n",
    "\n",
    "The swap gate exchange the first and second qubits. \n",
    "\n",
    "$$\n",
    "{SWAP} = \n",
    "\\begin{pmatrix}\n",
    "1 & 0 & 0 & 0\\\\\n",
    "0 & 0 & 1 & 0\\\\\n",
    "0 & 1 & 0 & 0\\\\\n",
    "0 & 0 & 0 & 1\n",
    "\\end{pmatrix}.\n",
    "$$"
   ]
  },
  {
   "cell_type": "code",
   "execution_count": 8,
   "metadata": {},
   "outputs": [
    {
     "data": {
      "text/plain": [
       "<qiskit.extensions.standard.swap.SwapGate at 0x10f11d9e8>"
      ]
     },
     "execution_count": 8,
     "metadata": {},
     "output_type": "execute_result"
    }
   ],
   "source": [
    "demoCircuit.swap(qr[0], qr[1])              #swapping the first and second qubits"
   ]
  },
  {
   "cell_type": "markdown",
   "metadata": {},
   "source": [
    "### Toffoli gate ($C3$ gate)\n",
    "\n",
    "The Toffoli gate flips the third qubit if the first two qubits are both $1$.\n",
    "\n",
    "$$\n",
    "C_{CX} = \n",
    "\\begin{pmatrix}\n",
    "1 & 0 & 0 & 0 & 0 & 0 & 0 & 0\\\\\n",
    "0 & 1 & 0 & 0 & 0 & 0 & 0 & 0\\\\\n",
    "0 & 0 & 1 & 0 & 0 & 0 & 0 & 0\\\\\n",
    "0 & 0 & 0 & 1 & 0 & 0 & 0 & 0\\\\\n",
    "0 & 0 & 0 & 0 & 1 & 0 & 0 & 0\\\\\n",
    "0 & 0 & 0 & 0 & 0 & 1 & 0 & 0\\\\\n",
    "0 & 0 & 0 & 0 & 0 & 0 & 0 & 1\\\\\n",
    "0 & 0 & 0 & 0 & 0 & 0 & 1 & 0\n",
    "\\end{pmatrix}\n",
    "$$\n",
    "\n",
    "### Controlled swap gate (Fredkin Gate)\n",
    "\n",
    "The controlled swap gate exchange the second and third qubits if the first qubit is $1$.\n",
    "\n",
    "$$\n",
    "C_{SWAP} = \n",
    "\\begin{pmatrix}\n",
    "1 & 0 & 0 & 0 & 0 & 0 & 0 & 0\\\\\n",
    "0 & 1 & 0 & 0 & 0 & 0 & 0 & 0\\\\\n",
    "0 & 0 & 1 & 0 & 0 & 0 & 0 & 0\\\\\n",
    "0 & 0 & 0 & 1 & 0 & 0 & 0 & 0\\\\\n",
    "0 & 0 & 0 & 0 & 1 & 0 & 0 & 0\\\\\n",
    "0 & 0 & 0 & 0 & 0 & 0 & 1 & 0\\\\\n",
    "0 & 0 & 0 & 0 & 0 & 1 & 0 & 0\\\\\n",
    "0 & 0 & 0 & 0 & 0 & 0 & 0 & 1\n",
    "\\end{pmatrix}\n",
    "$$"
   ]
  },
  {
   "cell_type": "code",
   "execution_count": 9,
   "metadata": {},
   "outputs": [
    {
     "data": {
      "text/plain": [
       "<qiskit.extensions.standard.cswap.FredkinGate at 0x10f11d9b0>"
      ]
     },
     "execution_count": 9,
     "metadata": {},
     "output_type": "execute_result"
    }
   ],
   "source": [
    "demoCircuit.ccx(qr[0], qr[1], qr[2])        #Toffoli gate\n",
    "demoCircuit.cswap(qr[0], qr[1], qr[2])      #swapping the second and third qubits controlled by the first qubit"
   ]
  },
  {
   "cell_type": "code",
   "execution_count": null,
   "metadata": {
    "collapsed": true
   },
   "outputs": [],
   "source": []
  }
 ],
 "metadata": {
  "anaconda-cloud": {},
  "kernelspec": {
   "display_name": "Python QISKitenv",
   "language": "python",
   "name": "qiskitenv"
  },
  "language_info": {
   "codemirror_mode": {
    "name": "ipython",
    "version": 3
   },
   "file_extension": ".py",
   "mimetype": "text/x-python",
   "name": "python",
   "nbconvert_exporter": "python",
   "pygments_lexer": "ipython3",
   "version": "3.6.2"
  }
 },
 "nbformat": 4,
 "nbformat_minor": 1
}
