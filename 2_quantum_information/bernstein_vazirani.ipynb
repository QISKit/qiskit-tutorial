{
 "cells": [
  {
   "cell_type": "markdown",
   "metadata": {},
   "source": [
    "<img src=\"../images/QISKit-c.gif\" alt=\"Note: In order for images to show up in this jupyter notebook you need to select File => Trusted Notebook\" width=\"250 px\" align=\"left\">"
   ]
  },
  {
   "cell_type": "markdown",
   "metadata": {},
   "source": [
    "## _*The Bernstein-Vazirani Algorithm*_ \n",
    "\n",
    "In this tutorial, we introduce the [Bernstein-Vazirani algorithm](http://epubs.siam.org/doi/abs/10.1137/S0097539796300921), which is one of the earliest algorithms demonstrating the power of quantum computing. Despite its simplicity, it has been used and inspired many quantum algorithms even today: it is the basis of the power of the short-depth quantum circuits as in [Bravyi et al.](https://arxiv.org/abs/1704.00690) that uses its non-oracular version, or in [Linke et al.](http://www.pnas.org/content/114/13/3305.full) that uses it to test the performance of the quantum processors (see also the [talk by Ken Brown](https://www.youtube.com/watch?v=eHV9LTiePrQ) at the ThinkQ 2017 conference). Here, we show the implementation of the Bernstein-Vazirani algorithm **without using entanglement** based on [Du et al.](https://arxiv.org/abs/quant-ph/0012114) on QISKit and test it on IBM Q systems. \n",
    "\n",
    "The latest version of this notebook is available on https://github.com/QISKit/qiskit-tutorial.\n",
    "\n",
    "***\n",
    "### Contributors\n",
    "Rudy Raymond"
   ]
  },
  {
   "cell_type": "markdown",
   "metadata": {},
   "source": [
    "## Introduction <a id='introduction'></a>\n",
    "\n",
    "The Bernstein-Vazirani algorithm deals with finding a hidden integer $a \\in \\{0,1\\}^n$ from an oracle $f_a$ that returns a bit $a \\cdot x \\equiv \\sum_i a_i x_i \\mod 2$ upon receiving an input $x \\in \\{0,1\\}^n$. A classical oracle returns $f_a(x) = a \\cdot x \\mod 2$ given an input $x$. Meanwhile, a quantum oracle behaves similarly but can be queried with superposition of input $x$'s. \n",
    "\n",
    "Classically, the hidden integer $a$ can be revealed by querying the oracle with $x = 1, 2, \\ldots, 2^i, \\ldots, 2^{n-1}$, where each query reveals the $i$-th bit of $a$ (or, $a_i$). For example, with $x=1$ one can now the least significant bit of $a$, and so on. This turns out to be an optimal strategy: any classical algorithm that finds the hidden integer with high probability must query the oracle for $\\Omega(n)$ times. However, given a corresponding quantum oracle, the hidden integer can be found with only using $1$ query with the Bernstein-Vazirani algorithm. "
   ]
  },
  {
   "cell_type": "markdown",
   "metadata": {},
   "source": [
    "## The Algorithm\n",
    "\n",
    "The Bernstein-Vazirani algorithm to find the hidden integer is very simple: start from a $|0\\rangle$ state, apply Hadamard gates, query the oracle, apply Hadamard gates and measure. The correctness of the algorithm is best explained by looking at the transformation of a quantum register $|a \\rangle$ by $n$ Hadamard gates each applied to the qubit of the register. It can be shown that\n",
    "\n",
    "$$\n",
    "|a\\rangle \\xrightarrow{H^{\\otimes n}} \\frac{1}{\\sqrt{2^n}} \\sum_{x\\in \\{0,1\\}^n} (-1)^{a\\cdot x}|x\\rangle.\n",
    "$$\n",
    "\n",
    "In particular, when we start with a quantum register $|0\\rangle$ and apply $n$ Hadamard gates to it, we have the familiar quantum superposition as below\n",
    "\n",
    "$$\n",
    "|0\\rangle \\xrightarrow{H^{\\otimes n}} \\frac{1}{\\sqrt{2^n}} \\sum_{x\\in \\{0,1\\}^n} |x\\rangle,\n",
    "$$\n",
    "\n",
    "which is slightly different from the Hadamard transform of the reqister $|a \\rangle$ by the phase $(-1)^{a\\cdot x}$. \n",
    "\n",
    "Now, the quantum oracle $f_a$ returns $1$ on input $x$ such that $a \\cdot x \\equiv 1 \\mod 2$, and returns $0$ otherwise. This means, we have the following transformation\n",
    "\n",
    "$$\n",
    "|x \\rangle \\left(|0\\rangle - |1\\rangle \\right) \\xrightarrow{f_a} | x \\rangle \\left(|0 \\oplus f_a(x) \\rangle - |1 \\oplus f_a(x) \\rangle \\right) = (-1)^{a\\cdot x} |x \\rangle \\left(|0\\rangle - |1\\rangle \\right). \n",
    "$$\n",
    "\n",
    "Notice that the second register $|0\\rangle - |1\\rangle$ in the above does not change and can be omitted for simplicity. In short, the oracle can be used to create $(-1)^{a\\cdot x}|x\\rangle$ from the input $|x \\rangle$. \n",
    "\n",
    "The algorithm to reveal the hidden integer follows naturally by querying the quantum oracle $f_a$ with the quantum superposition obtained from the Hadamard transformation of $|0\\rangle$. Namely,\n",
    "\n",
    "$$\n",
    "|0\\rangle \\xrightarrow{H^{\\otimes n}} \\frac{1}{\\sqrt{2^n}} \\sum_{x\\in \\{0,1\\}^n} |x\\rangle \\xrightarrow{f_a} \\frac{1}{\\sqrt{2^n}} \\sum_{x\\in \\{0,1\\}^n} (-1)^{a\\cdot x}|x\\rangle.\n",
    "$$\n",
    "\n",
    "Because the inverse of the $n$ Hadamard gates is again the $n$ Hadamard gates, we can obtain $a$ by\n",
    "\n",
    "$$\n",
    "\\frac{1}{\\sqrt{2^n}} \\sum_{x\\in \\{0,1\\}^n} (-1)^{a\\cdot x}|x\\rangle \\xrightarrow{H^{\\otimes n}} |a\\rangle.\n",
    "$$\n"
   ]
  },
  {
   "cell_type": "markdown",
   "metadata": {},
   "source": [
    "## The (Inner-Product) Oracle <a id='oracle'></a>\n",
    "\n",
    "Here, we describe how to build the oracle used in the Bernstein-Vazirani algorithm. The oracle is also referred to as the [inner-product oracle](https://arxiv.org/pdf/quant-ph/0108095.pdf) (while the oracle of the Grover search is also known as the Equivalence, or EQ, oracle). Notice that it transforms $|x\\rangle$ into $(-1)^{a\\cdot x} |x\\rangle$. Clearly, we can observe that\n",
    "\n",
    "$$\n",
    "(-1)^{a\\cdot x} = (-1)^{a_1 x_1} \\ldots (-1)^{a_ix_i} \\ldots (-1)^{a_nx_n} = \\prod_{i: a_i = 1} (-1)^{x_i}. \n",
    "$$\n",
    "\n",
    "Therefore, the inner-product oracle can be realized by the following unitary transformation that is decomposable as single-qubit unitaries. \n",
    "\n",
    "$$\n",
    "O_{f_a} = O^1 \\otimes O^2 \\otimes \\ldots \\otimes O^i \\otimes \\ldots \\otimes O^n, \n",
    "$$\n",
    "where $O^i = (1 - a_i)I + a_i Z$, where $Z$ is the Pauli $Z$ matrix and $I$ is the identity matrix for $a_i \\in \\{0,1\\}$. \n",
    "\n",
    "Notice that we start from a separable quantum state $|0\\rangle$ and apply a series of transformations that are separable (i.e., can be described by unitaries acting on single qubit): Hadamard gates to each qubit followed by the oracle call, and another Hadamard gates. Hence, there is no entanglement created during the computation. This is in contrast with the circuit at [Linke et al.](http://www.pnas.org/content/114/13/3305.full) that used CNOT gates to realize the oracle. "
   ]
  },
  {
   "cell_type": "markdown",
   "metadata": {},
   "source": [
    "## The Circuit <a id=\"circuit\"></a>\n",
    "\n",
    "We now implement the Bernstein-Vazirani algorithm with QISKit by first preparing the environment."
   ]
  },
  {
   "cell_type": "code",
   "execution_count": 1,
   "metadata": {
    "collapsed": true
   },
   "outputs": [],
   "source": [
    "# Checking the version of PYTHON; we only support > 3.5\n",
    "import sys\n",
    "if sys.version_info < (3,5):\n",
    "    raise Exception('Please use Python version 3.5 or greater.')\n",
    "\n",
    "# useful additional packages \n",
    "import matplotlib.pyplot as plt\n",
    "%matplotlib inline\n",
    "import numpy as np\n",
    "\n",
    "# importing the QISKit\n",
    "from qiskit import QuantumProgram\n",
    "import Qconfig\n",
    "\n",
    "# import basic plot tools\n",
    "from qiskit.tools.visualization import plot_histogram"
   ]
  },
  {
   "cell_type": "markdown",
   "metadata": {},
   "source": [
    "We first set the number of qubits used in the experiment and the hidden integer $a$ to be found by the Bernstein-Vazirani algorithm. The hidden integer $a$ determines the circuit for the quantum oracle. "
   ]
  },
  {
   "cell_type": "code",
   "execution_count": 1,
   "metadata": {
    "collapsed": true
   },
   "outputs": [],
   "source": [
    "nQubits = 16 #number of physical qubits\n",
    "a = 101      #the hidden integer whose bitstring is 1100101\n",
    "\n",
    "#make sure that a can represented with nQubits\n",
    "a = a % 2**(nQubits)"
   ]
  },
  {
   "cell_type": "markdown",
   "metadata": {},
   "source": [
    "We then use QISKit to program the Bernstein-Vazirani algorithm."
   ]
  },
  {
   "cell_type": "code",
   "execution_count": 3,
   "metadata": {
    "collapsed": true
   },
   "outputs": [],
   "source": [
    "Q_program = QuantumProgram()\n",
    "Q_program.set_api(Qconfig.APItoken, Qconfig.config[\"url\"]) # set the APIToken and API url\n",
    "\n",
    "# Creating registers\n",
    "# qubits for querying the oracle and finding the hidden integer\n",
    "qr = Q_program.create_quantum_register(\"qr\", nQubits)\n",
    "# for recording the measurement on qr\n",
    "cr = Q_program.create_classical_register(\"cr\", nQubits)\n",
    "\n",
    "circuitName = \"BernsteinVazirani\"\n",
    "bvCircuit = Q_program.create_circuit(circuitName, [qr], [cr])\n",
    "\n",
    "#Apply Hadamard gates before querying the oracle\n",
    "for i in range(nQubits):\n",
    "    bvCircuit.h(qr[i])\n",
    "    \n",
    "#Apply barrier so that it is not optimized by the compiler\n",
    "bvCircuit.barrier()\n",
    "\n",
    "#Apply the inner-product oracle\n",
    "for i in range(nQubits):\n",
    "    if (a & (1 << i)):\n",
    "        bvCircuit.z(qr[i])\n",
    "    else:\n",
    "        bvCircuit.iden(qr[i])\n",
    "        \n",
    "#Apply barrier \n",
    "bvCircuit.barrier()\n",
    "\n",
    "#Apply Hadamard gates after querying the oracle\n",
    "for i in range(nQubits):\n",
    "    bvCircuit.h(qr[i])\n",
    "    \n",
    "#Measurement\n",
    "for i in range(nQubits):\n",
    "    bvCircuit.measure(qr[i], cr[i])"
   ]
  },
  {
   "cell_type": "markdown",
   "metadata": {},
   "source": [
    "## Experiment with Simulators\n",
    "\n",
    "We can run the above circuit on the simulator. "
   ]
  },
  {
   "cell_type": "code",
   "execution_count": 4,
   "metadata": {},
   "outputs": [
    {
     "data": {
      "image/png": "[encoded data removed]",
      "text/plain": [
       "<matplotlib.figure.Figure at 0x119d9ea20>"
      ]
     },
     "metadata": {},
     "output_type": "display_data"
    }
   ],
   "source": [
    "backend = \"ibmqx_qasm_simulator\"\n",
    "shots = 1000\n",
    "results = Q_program.execute([circuitName], backend=backend, shots=shots)\n",
    "answer = results.get_counts(circuitName)\n",
    "\n",
    "plot_histogram(answer)"
   ]
  },
  {
   "cell_type": "markdown",
   "metadata": {},
   "source": [
    "We can see that the result of the measurement is the binary representation of the hidden integer $a$. \n",
    "\n",
    "## Experiment with Real Devices\n",
    "\n",
    "We can run the circuit on the real device as below."
   ]
  },
  {
   "cell_type": "code",
   "execution_count": 5,
   "metadata": {},
   "outputs": [
    {
     "data": {
      "image/png": "[encoded data removed]",
      "text/plain": [
       "<matplotlib.figure.Figure at 0x119de50f0>"
      ]
     },
     "metadata": {},
     "output_type": "display_data"
    },
    {
     "name": "stdout",
     "output_type": "stream",
     "text": [
      "{'0000000000100101': 46, '0000000001000101': 33, '0000000001100001': 46, '0000000001100100': 50, '0000000001100101': 442, '0001000001100101': 45, '10000000000000000': 338}\n"
     ]
    }
   ],
   "source": [
    "backend = \"ibmqx5\"\n",
    "shots = 1000 \n",
    "results = Q_program.execute([circuitName], backend=backend, shots=shots)\n",
    "answer = results.get_counts(circuitName)\n",
    "\n",
    "threshold = int(0.03 * shots) #the threshold of plotting significant measurements\n",
    "filteredAnswer = {k: v for k,v in answer.items() if v >= threshold} #filter the answer for better view of plots\n",
    "\n",
    "removedCounts = np.sum([ v for k,v in answer.items() if v < threshold ]) #number of counts removed \n",
    "filteredAnswer['1'+nQubits*'0'] = removedCounts  #the removed counts is assigned to a new index\n",
    "\n",
    "plot_histogram(filteredAnswer)\n",
    "\n",
    "print(filteredAnswer)"
   ]
  },
  {
   "cell_type": "markdown",
   "metadata": {},
   "source": [
    "We indeed see that the outcome is the binary representation of the hidden integer $a$ with high probability. "
   ]
  },
  {
   "cell_type": "code",
   "execution_count": 6,
   "metadata": {},
   "outputs": [
    {
     "data": {
      "text/html": [
       "<h2>Version information</h2>\n",
       "<p>Please note that this tutorial is targeted to the <b>stable</b> version of the QISKit SDK. The following versions of the packages are recommended:</p>\n",
       "<table>\n",
       "<tr><th>Package</th><th colspan=\"2\">Version</th></tr>\n",
       "<tr><td>QISKit</td><td> 0.3.10</td></tr>\n",
       "<tr><td>IBMQuantumExperience</td><td>&gt;= 1.8.13</td></tr>\n",
       "<tr><td>numpy</td><td>&gt;= 1.13, &lt; 1.14</td></tr>\n",
       "<tr><td>scipy</td><td>&gt;= 0.19, &lt; 0.20</td></tr>\n",
       "<tr><td>matplotlib</td><td>&gt;= 2.0, &lt; 2.1</td></tr>\n",
       "</table>"
      ],
      "text/plain": [
       "<IPython.core.display.HTML object>"
      ]
     },
     "metadata": {},
     "output_type": "display_data"
    }
   ],
   "source": [
    "%run \"../version.ipynb\""
   ]
  },
  {
   "cell_type": "code",
   "execution_count": null,
   "metadata": {
    "collapsed": true
   },
   "outputs": [],
   "source": []
  }
 ],
 "metadata": {
  "kernelspec": {
   "display_name": "py36chem",
   "language": "python",
   "name": "py36chem"
  },
  "language_info": {
   "codemirror_mode": {
    "name": "ipython",
    "version": 3
   },
   "file_extension": ".py",
   "mimetype": "text/x-python",
   "name": "python",
   "nbconvert_exporter": "python",
   "pygments_lexer": "ipython3",
   "version": "3.6.2"
  }
 },
 "nbformat": 4,
 "nbformat_minor": 2
}
