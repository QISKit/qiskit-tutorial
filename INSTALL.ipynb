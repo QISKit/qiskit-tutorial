{
 "cells": [
  {
   "cell_type": "markdown",
   "metadata": {},
   "source": [
    "<img src=\"images/QISKit.gif\" >\n",
    "\n",
    "***\n",
    "\n",
    "# Beginner's Guide for Installation and Setup\n",
    "\n",
    "## 1. Get the tutorials and install the QISKit SDK\n",
    "\n",
    "1.  Install [conda](https://conda.io/docs/index.html)\n",
    "\n",
    "2.  Get the tutorials\n",
    "```\n",
    "git clone https://github.com/QISKit/qiskit-tutorial.git\n",
    "```\n",
    "\n",
    "3. Create conda environment for QISKit and install packages (with the accompanies `qiskit-simple.yml` file)\n",
    "```\n",
    " cd qiskit-tutorial\n",
    " conda create env -f qiskit-simple.yml\n",
    "```   \n",
    "\n",
    "4. Activate the environment<BR>\n",
    "    For MacOS and Linux, run:\n",
    "    ```\n",
    "    source activate QISKitenv\n",
    "    ```\n",
    "    For Windows, run:\n",
    "    ```\n",
    "    activate QISKitenv\n",
    "    ```\n",
    "\n",
    "5.  Setup the API token<BR>\n",
    "    There are two ways. The first is the recommended one by creating the `Qconfig.py` whose template is provided at `Qconfig.py.template`. Follow A, B, and C steps below.  \n",
    "> 1.  Create an [IBM Quantum Experience\n",
    ">     Experience](https://quantumexperience.ng.bluemix.net) account\n",
    ">     if you haven't already done so\n",
    "> 2.  Get an API token from the Quantum Experience website under \"My\n",
    ">     Account\" &gt; \"Personal Access Token\"\n",
    "> 3.  You will insert your API token in a file called Qconfig.py in\n",
    ">     the qiskit-tutorial directory. The contents of the file should\n",
    ">     look like,\n",
    ">\n",
    ">     > ```\n",
    ">     > APItoken = 'my token from the Quantum Experience'\n",
    ">     > config = {'url': 'https://quantumexperience.ng.bluemix.net/api'}\n",
    ">     >\n",
    ">     > if 'APItoken' not in locals():\n",
    ">     >     raise Exception('Please set up your access token. See Qconfig.py.')\n",
    ">     > ```\n",
    ">\n",
    "    \n",
    "    The second is by using the API token in the environment variable `IBMQE_API` instead of step C in the above. \n",
    "     - MacOS, Linux (bash): ``export IBMQE_API=(your token)``\n",
    "     - Windows: ``SETX IBMQE_API \"(your token)\"`` <BR>\n",
    "    Reference of ``SETX``: https://docs.microsoft.com/en-us/windows-server/administration/windows-commands/setx\n",
    "    \n",
    "\n",
    "\n",
    "## 2. Explore the tutorials\n",
    "\n",
    "\n",
    "Start Jupyter with the index notebook.\n",
    "```\n",
    "    jupyter notebook README.ipynb\n",
    "```"
   ]
  },
  {
   "cell_type": "code",
   "execution_count": null,
   "metadata": {
    "collapsed": true
   },
   "outputs": [],
   "source": []
  }
 ],
 "metadata": {
  "kernelspec": {
   "display_name": "py36chem",
   "language": "python",
   "name": "py36chem"
  },
  "language_info": {
   "codemirror_mode": {
    "name": "ipython",
    "version": 3
   },
   "file_extension": ".py",
   "mimetype": "text/x-python",
   "name": "python",
   "nbconvert_exporter": "python",
   "pygments_lexer": "ipython3",
   "version": "3.6.2"
  }
 },
 "nbformat": 4,
 "nbformat_minor": 2
}
