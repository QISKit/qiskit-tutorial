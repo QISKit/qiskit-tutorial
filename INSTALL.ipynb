{
 "cells": [
  {
   "cell_type": "markdown",
   "metadata": {},
   "source": [
    "![image](images/QISKit-c.gif)\n",
    "\n",
    "Installation and setup\n",
    "======================\n",
    "\n",
    "1. Install the [QISKit SDK](https://github.com/QISKit/qiskit-sdk-py)\n",
    "--------------------------------------------------------------------\n",
    "\n",
    "If the SDK has not already been installed, follow the installation\n",
    "instructions in the README file in the [QISKit SDK\n",
    "repository](https://github.com/QISKit/qiskit-sdk-py).\n",
    "\n",
    "Briefly, the steps are:\n",
    "\n",
    "1.  Install [conda](https://conda.io/docs/index.html)\n",
    "2.  Create conda environment for QISKit:\n",
    "```\n",
    "conda create -y -n QISKitenv python=3 pip scipy\n",
    "```\n",
    "3.  Activate the environment\n",
    "    -   MacOS, Linux: `source activate QISKitenv`\n",
    "    -   Windows: `activate QISKitenv`\n",
    "4.  Install qiskit:\n",
    "Please note that the **master** branch of the tutorials, is intented\n",
    "to be used with the **master** branch (development version) of the\n",
    "SDK. As a result, for using it you need to clone the SDK repository\n",
    "(and periodically update it) via:\n",
    "```\n",
    "    git clone https://github.com/QISKit/qiskit-sdk-py.git\n",
    "```\n",
    "If you do not need access to the most recent features, please\n",
    "consider using the `stable` version of the tutorials instead. When\n",
    "using the **stable** branch of the tutorials, the stable version of\n",
    "the SDK can be installed via:\n",
    "```\n",
    "pip install qiskit\n",
    "```\n",
    "5.  Setup API token\n",
    "> 1.  Create an [IBM Quantum Experience\n",
    ">     Experience](https://quantumexperience.ng.bluemix.net) account\n",
    ">     if you haven't already done so\n",
    "> 2.  Get an API token from the Quantum Experience website under \"My\n",
    ">     Account\" &gt; \"Personal Access Token\"\n",
    "> 3.  You will insert your API token in a file called Qconfig.py in\n",
    ">     the qiskit-tutorial directory. The contents of the file should\n",
    ">     look like,\n",
    ">\n",
    ">     > ```\n",
    ">     > APItoken = 'my token from the Quantum Experience'\n",
    ">     > config = {'url': 'https://quantumexperience.ng.bluemix.net/api'}\n",
    ">     >\n",
    ">     > if 'APItoken' not in locals():\n",
    ">     >     raise Exception('Please set up your access token. See Qconfig.py.')\n",
    ">     > ```\n",
    ">"
   ]
  },
  {
   "cell_type": "markdown",
   "metadata": {},
   "source": [
    "2. Install [Jupyter](http://jupyter.readthedocs.io/en/latest/install.html)\n",
    "--------------------------------------------------------------------------"
   ]
  },
  {
   "cell_type": "markdown",
   "metadata": {},
   "source": [
    "After the previous step you should have a `QISKitenv`\n",
    "[conda](https://conda.io/docs/index.html) environment and your API token\n",
    "setup. In a terminal window make sure you are in the QISKitenv conda\n",
    "environment,\n",
    "\n",
    "> -   MacOS, Linux: `source activate QISKitenv`\n",
    "> -   Windows: `activate QISKitenv`\n",
    "\n",
    "Then install jupyter with,"
   ]
  },
  {
   "cell_type": "markdown",
   "metadata": {
    "attributes": {
     "classes": [
      "sourceCode",
      "sh"
     ],
     "id": ""
    }
   },
   "source": [
    "```\n",
    "conda install jupyter\n",
    "```"
   ]
  },
  {
   "cell_type": "markdown",
   "metadata": {},
   "source": [
    "3. Get the tutorials\n",
    "--------------------\n",
    "\n",
    "Using `git` to clone the SDK repository is the easiest way to keep up\n",
    "with the latest changes or to contribute to the tutorials."
   ]
  },
  {
   "cell_type": "markdown",
   "metadata": {
    "attributes": {
     "classes": [
      "sourceCode",
      "sh"
     ],
     "id": ""
    }
   },
   "source": [
    "```\n",
    "git clone https://github.com/QISKit/qiskit-tutorial.git\n",
    "```"
   ]
  },
  {
   "cell_type": "markdown",
   "metadata": {},
   "source": [
    "Alternatively it is also possible to just download the source files in a\n",
    "ZIP archive. For the ZIP file download, select the desired branch from\n",
    "the `Branch` drop-down button on the GitHub page. Usually this would be\n",
    "the highest revision branch available or `master` if you want the latest\n",
    "development version. Select the green `Clone or download` button then\n",
    "`Download ZIP` to get the source file archive.\n",
    "\n",
    "4. Explore the tutorials\n",
    "------------------------\n",
    "\n",
    "In a terminal window copy or link your Qconfig.py file from step (1)\n",
    "into this directory.\n",
    "\n",
    "-   Linux, macOS: `cp /path/to/Qconfig.py qiskit-tutorial`\n",
    "-   Windows: `copy \\path\\to\\Qconfig.py qiskit-tutorial`\n",
    "\n",
    "Go to the `qiskit-tutorial` directory."
   ]
  },
  {
   "cell_type": "markdown",
   "metadata": {
    "attributes": {
     "classes": [
      "sourceCode",
      "sh"
     ],
     "id": ""
    }
   },
   "source": [
    "```\n",
    "cd qiskit-tutorial\n",
    "```"
   ]
  },
  {
   "cell_type": "markdown",
   "metadata": {},
   "source": [
    "Start Jupyter with the index notebook."
   ]
  },
  {
   "cell_type": "markdown",
   "metadata": {
    "attributes": {
     "classes": [
      "sourceCode",
      "sh"
     ],
     "id": ""
    }
   },
   "source": [
    "```\n",
    "jupyter notebook index.ipynb\n",
    "```"
   ]
  },
  {
   "cell_type": "markdown",
   "metadata": {},
   "source": [
    "Contributing\n",
    "============\n",
    "\n",
    "If you would like to contribute to the tutorials there are a number of\n",
    "ways to get involved.\n",
    "\n",
    "Issue Reporting\n",
    "---------------\n",
    "\n",
    "Issues can be reported with GitHub [issue\n",
    "reporting](https://github.com/QISKit/qiskit-tutorial/issues) for this\n",
    "repo. Select `New issue` and fill in a descriptive title and provide as\n",
    "much detail as is needed for the issue to be reproduced.\n",
    "\n",
    "Please check the\n",
    "[wiki](https://github.com/QISKit/qiskit-tutorial/wiki/QISKit-Tutorials)\n",
    "for frequently asked questions and notes about common issues.\n",
    "\n",
    "Notebooks\n",
    "---------\n",
    "\n",
    "If you would like to contribute a notebook please create a\n",
    "[fork](https://help.github.com/articles/fork-a-repo/) of the repository\n",
    "and create a [pull\n",
    "request](https://help.github.com/articles/about-pull-requests/) for your\n",
    "change. To help with the review of your change it would be good to\n",
    "include a detailed description of the contribution and a unit test (e.g.\n",
    "using python's `unittest` framework). Notebooks being submitted to the\n",
    "`contrib` directory will allow for the notebook to be part of the repo\n",
    "while they are being vetted by the community.\n",
    "\n",
    "Branch convention\n",
    "-----------------\n",
    "\n",
    "Please note that this repository contains two branches:\n",
    "\n",
    "-   the `stable` branch contains tutorials that are meant to be\n",
    "    compatible with the [latest stable release of\n",
    "    QISKit](https://pypi.python.org/pypi/qiskit).\n",
    "-   the `master` branch contains tutorials that are meant to be\n",
    "    compatible with the [latest development version of\n",
    "    QISKIT](https://github.com/QISKit/qiskit-sdk-py). Please note that\n",
    "    this branch includes features that might still not be ready for\n",
    "    production, and requires that you install the SDK using git and keep\n",
    "    up to date with the daily updates.\n",
    "\n",
    "If you experience problems, please revise that the versions of the\n",
    "packages installed on your system match the ones specified at the bottom\n",
    "of each tutorial.\n",
    "\n",
    "Using IBM DSx for your notebooks\n",
    "================================\n",
    "\n",
    "IBM Data Science Experience (DSx) is a platform where you can\n",
    "interactively run your quantum programs, collaborate and share your work\n",
    "with others.\n",
    "\n",
    "Among other things, it provides a ready-to-use environment to run\n",
    "Jupyter Python notebooks. For someone just getting started with QISkit,\n",
    "this is an excellent option. You can skip all the installation and\n",
    "environment creation steps on your computer, and instead use this\n",
    "web-hosted Jupyter notebook environment for running the Quantum\n",
    "programs. It also provides a platform where you can invite fellow\n",
    "researchers to collaborate on the notebooks you have developed or simply\n",
    "share your work within the community.\n",
    "\n",
    "We have customized the example notebooks for you, so that you can\n",
    "directly run those using DSx. To get started, refer to [this example](running_on_IBM_DSX.ipynb)\n",
    "\n",
    "See this\n",
    "[link](https://github.com/QISKit/qiskit-tutorial/wiki/Running-Quantum-Program-on-IBM-DSx)\n",
    "that gives step-by-step instructions on setting up an example notebook\n",
    "on DSx.\n",
    "\n",
    "Other QISKit projects\n",
    "=====================\n",
    "\n",
    "-   [ibmqx backend\n",
    "    information](https://github.com/QISKit/ibmqx-backend-information)\n",
    "    Information about the different IBM Q experience backends.\n",
    "-   [ibmqx user guide](https://github.com/QISKit/ibmqx-user-guides) The\n",
    "    users guides for the IBM Q experience.\n",
    "-   [OpenQasm](https://github.com/QISKit/openqasm) Examples and tools\n",
    "    for the OpenQASM intermediate representation.\n",
    "-   [Python API](https://github.com/QISKit/qiskit-api-py) API Client to\n",
    "    use IBM Q experience in Python.\n",
    "-   [Python SDK](https://github.com/QISKit/qiskit-sdk-py) Software\n",
    "    development kit for working with quantum programs in Python.\n",
    "\n",
    "License\n",
    "=======\n",
    "\n",
    "This project is licensed under the Apache License 2.0 - see the\n",
    "[LICENSE](LICENSE) file for details."
   ]
  },
  {
   "cell_type": "code",
   "execution_count": null,
   "metadata": {},
   "outputs": [],
   "source": []
  }
 ],
 "metadata": {
  "kernelspec": {
   "display_name": "py36chem",
   "language": "python",
   "name": "py36chem"
  },
  "language_info": {
   "codemirror_mode": {
    "name": "ipython",
    "version": 3
   },
   "file_extension": ".py",
   "mimetype": "text/x-python",
   "name": "python",
   "nbconvert_exporter": "python",
   "pygments_lexer": "ipython3",
   "version": "3.6.2"
  }
 },
 "nbformat": 4,
 "nbformat_minor": 2
}
