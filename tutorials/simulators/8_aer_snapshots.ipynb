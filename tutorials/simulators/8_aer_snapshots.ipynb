{
 "cells": [
  {
   "cell_type": "markdown",
   "metadata": {},
   "source": [
    "# Snapshots"
   ]
  },
  {
   "cell_type": "markdown",
   "metadata": {},
   "source": [
    "Qiskit Aer simulators provide a mechanism that enables you to peek inside the simulator and extract valuable data. The mechanism is named `snapshot`. Several types of snapshots are provided:\n",
    "* Statevector\n",
    "* Amplitudes\n",
    "* Probabilities\n",
    "* Density matrix\n",
    "* Expectation value\n",
    "* Stabilizer\n",
    "\n",
    "Snapshots can be placed anywhere in the construction of the circuit. Snapshot parameters include the snapshot type and a label. Other parameters are optional, depending on the snapshot type. There are two such parameters: `qubits` and `params`."
   ]
  },
  {
   "cell_type": "markdown",
   "metadata": {},
   "source": [
    "### Statevector snapshot\n",
    "The `statevector` snapshot gives the current state of circuit. It applies to all qubits. It accepts no additional parameters."
   ]
  },
  {
   "cell_type": "code",
   "execution_count": 1,
   "metadata": {},
   "outputs": [
    {
     "name": "stdout",
     "output_type": "stream",
     "text": [
      "Before measure = [array([0.        +0.j, 0.        +0.j, 0.        +0.j, 0.        +0.j,\n",
      "       0.70710678+0.j, 0.        +0.j, 0.        +0.j, 0.70710678+0.j])]\n",
      "After measure = [array([0.+0.j, 0.+0.j, 0.+0.j, 0.+0.j, 1.+0.j, 0.+0.j, 0.+0.j, 0.+0.j])]\n"
     ]
    }
   ],
   "source": [
    "from qiskit import *\n",
    "from qiskit.providers.aer import *\n",
    "\n",
    "#Construct quantum circuit\n",
    "circ = QuantumCircuit(3, 3)\n",
    "circ.h(0)\n",
    "circ.cx(0, 1)\n",
    "circ.x(2)\n",
    "circ.snapshot(label='before measure', snapshot_type = 'statevector')\n",
    "circ.measure_all()\n",
    "circ.snapshot(label='after measure', snapshot_type = 'statevector')\n",
    "job = execute([circ], QasmSimulator(), shots=1).result()\n",
    "print('Before measure = ' + str(job.data(0)['snapshots']['statevector']['before measure']))\n",
    "print('After measure = ' + str(job.data(0)['snapshots']['statevector']['after measure']))"
   ]
  },
  {
   "cell_type": "markdown",
   "metadata": {},
   "source": [
    "### Amplitudes snapshot\n",
    "Sometime, we are interested in one or more specific amplitudes, and we would rather not print all $2^n$ amplitudes. This snapshot enables just that. The desired amplitudes are specified by their base-values in a list, either as hexa numbers or as integers. This snapshot too, applies to all qubits.\n"
   ]
  },
  {
   "cell_type": "code",
   "execution_count": 2,
   "metadata": {
    "scrolled": false
   },
   "outputs": [
    {
     "name": "stdout",
     "output_type": "stream",
     "text": [
      "[array([0.+0.j])]\n",
      "[array([0.+0.j])]\n",
      "[array([0.        +0.j, 0.        +0.j, 0.70710678+0.j])]\n"
     ]
    }
   ],
   "source": [
    "circ1 = QuantumCircuit(3, 3)\n",
    "circ1.h(0)\n",
    "circ1.cx(0, 1)\n",
    "circ1.x(2)\n",
    "circ1.snapshot(label = 'amplitude_000', snapshot_type = 'amplitudes', params = [0x0])\n",
    "circ1.snapshot(label = 'amplitude_001', snapshot_type = 'amplitudes', params = [1])\n",
    "circ1.snapshot(label = 'amplitude_2_3_4', snapshot_type = 'amplitudes', params = [2,3,4])\n",
    "job = execute([circ1], QasmSimulator(method='matrix_product_state'), shots=1).result()\n",
    "print(job.data(0)['snapshots']['amplitudes']['amplitude_000'])\n",
    "print(job.data(0)['snapshots']['amplitudes']['amplitude_001'])\n",
    "print(job.data(0)['snapshots']['amplitudes']['amplitude_2_3_4'])"
   ]
  },
  {
   "cell_type": "markdown",
   "metadata": {},
   "source": [
    "### Probabilities snapshot\n",
    "The `probabilities` snapshot is similar to the `statevector` snapshot, but it provides probabilities rather than amplitudes. Here one may specify the requested qubits in any order. If not specified, the default is all qubits. For example:"
   ]
  },
  {
   "cell_type": "code",
   "execution_count": 3,
   "metadata": {},
   "outputs": [
    {
     "name": "stdout",
     "output_type": "stream",
     "text": [
      "All probabilities = [{'value': {'0x0': 0.12499999999999994, '0x1': 0.12499999999999994, '0x2': 0.12499999999999994, '0x3': 0.12499999999999994, '0x4': 0.12499999999999994, '0x5': 0.12499999999999994, '0x6': 0.12499999999999994, '0x7': 0.12499999999999994}, 'memory': '0x0'}]\n",
      "Probability of qubit 1 = [{'value': {'0x0': 0.4999999999999999, '0x1': 0.4999999999999999}, 'memory': '0x0'}]\n"
     ]
    }
   ],
   "source": [
    "circ2 = QuantumCircuit(3, 3)\n",
    "circ2.h(0)\n",
    "circ2.h(1)\n",
    "circ2.h(2)\n",
    "circ2.snapshot(label = 'prob all', snapshot_type = 'probabilities')\n",
    "circ2.snapshot(label = 'prob1', snapshot_type = 'probabilities', qubits=[1])\n",
    "job = execute([circ2], QasmSimulator(method='matrix_product_state'), shots=1).result()\n",
    "print(\"All probabilities = \" + str(job.data(0)['snapshots']['probabilities']['prob all']))\n",
    "print(\"Probability of qubit 1 = \" + str(job.data(0)['snapshots']['probabilities']['prob1']))"
   ]
  },
  {
   "cell_type": "markdown",
   "metadata": {},
   "source": [
    "### Density matrix snapshot\n",
    "Returns the density matrix of the simulator state. It is possible to specify a subset of the qubits, in any order. The default is to provide the density matrix for all qubits."
   ]
  },
  {
   "cell_type": "code",
   "execution_count": 4,
   "metadata": {},
   "outputs": [
    {
     "name": "stdout",
     "output_type": "stream",
     "text": [
      "Density matrix = \n",
      "[[0.25+0.j 0.25+0.j 0.25+0.j 0.25+0.j]\n",
      " [0.25+0.j 0.25+0.j 0.25+0.j 0.25+0.j]\n",
      " [0.25+0.j 0.25+0.j 0.25+0.j 0.25+0.j]\n",
      " [0.25+0.j 0.25+0.j 0.25+0.j 0.25+0.j]]\n"
     ]
    }
   ],
   "source": [
    "circ3 = QuantumCircuit(3, 3)\n",
    "circ3.h(0)\n",
    "circ3.h(1)\n",
    "circ3.h(2)\n",
    "circ3.snapshot(label = 'Dens matrix', snapshot_type = 'density_matrix', qubits=[0, 1])\n",
    "job = execute([circ3], QasmSimulator(), shots=1).result()\n",
    "print(\"Density matrix = \")\n",
    "print(job.data(0)['snapshots']['density_matrix']['Dens matrix'][0]['value'])"
   ]
  },
  {
   "cell_type": "markdown",
   "metadata": {},
   "source": [
    "### Expectation value snapshot\n",
    "There are two snapshots for expectation value: `expectation_value` and `expectation_value_pauli`. For `expectation_value_pauli`, we must specify the qubits and the Pauli gates by which we project the qubits. In addition, we can specify a sum of several Pauli terms. The `params` parameter, comprises 2 fields: the second is the list of Paulis, and the first is the coefficient by which this term is multiplied. In the following 3 examples, we request the expectation value by Z on qubit 0, expectation value by Y on qubit 1, and finally the product of both. Note that when several qubits are specified, the order of the Paulis is from right to left.\n"
   ]
  },
  {
   "cell_type": "code",
   "execution_count": 13,
   "metadata": {
    "scrolled": true
   },
   "outputs": [
    {
     "name": "stdout",
     "output_type": "stream",
     "text": [
      "{'expval01': [{'value': (-0.1464466094067262+0j), 'memory': '0x0'}], 'expval0': [{'value': (-1+0j), 'memory': '0x0'}], 'expval1': [{'value': (0.1464466094067262+0j), 'memory': '0x0'}]}\n"
     ]
    }
   ],
   "source": [
    "import numpy as np\n",
    "circ4 = QuantumCircuit(3, 3)\n",
    "circ4.x(0)\n",
    "circ4.u3(np.pi/8, np.pi/8, np.pi/8, 1)\n",
    "circ4.snapshot(label='expval0', snapshot_type = 'expectation_value_pauli', qubits = [0], params = [[1, 'Z']])\n",
    "circ4.snapshot(label='expval1', snapshot_type = 'expectation_value_pauli', qubits = [1], params = [[1, 'Y']])\n",
    "circ4.snapshot(label='expval01', snapshot_type = 'expectation_value_pauli', qubits = [0, 1], params = [[1, 'YZ']])\n",
    "job = execute([circ4], QasmSimulator(), shots=1).result()\n",
    "print(job.data(0)['snapshots']['expectation_value'])\n"
   ]
  },
  {
   "cell_type": "markdown",
   "metadata": {},
   "source": [
    "In the next example we compute the sum of expectation values, multiplied by their respective coefficients."
   ]
  },
  {
   "cell_type": "code",
   "execution_count": 15,
   "metadata": {},
   "outputs": [
    {
     "name": "stdout",
     "output_type": "stream",
     "text": [
      "{'expval0': [{'value': (0.570326141918013+0j), 'memory': '0x0'}]}\n"
     ]
    }
   ],
   "source": [
    "circ5 = QuantumCircuit(3, 3)\n",
    "circ5.x(0)\n",
    "circ5.u3(np.pi/8, np.pi/8, np.pi/8, 1)\n",
    "circ5.u3(np.pi/4, np.pi/4, np.pi/4, 1)\n",
    "circ5.snapshot(label='expval0', snapshot_type = 'expectation_value_pauli', \n",
    "               qubits = [0,1,2], params = [[1, 'IIZ'], [2, 'IYI'], [3, 'XXX']])\n",
    "\n",
    "job = execute([circ5], QasmSimulator(), shots=1).result()\n",
    "print(job.data(0)['snapshots']['expectation_value'])"
   ]
  },
  {
   "cell_type": "code",
   "execution_count": null,
   "metadata": {},
   "outputs": [],
   "source": []
  }
 ],
 "metadata": {
  "kernelspec": {
   "display_name": "Python 3",
   "language": "python",
   "name": "python3"
  },
  "language_info": {
   "codemirror_mode": {
    "name": "ipython",
    "version": 3
   },
   "file_extension": ".py",
   "mimetype": "text/x-python",
   "name": "python",
   "nbconvert_exporter": "python",
   "pygments_lexer": "ipython3",
   "version": "3.7.7"
  }
 },
 "nbformat": 4,
 "nbformat_minor": 4
}
