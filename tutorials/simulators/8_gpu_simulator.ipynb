{
 "cells": [
  {
   "cell_type": "markdown",
   "metadata": {},
   "source": [
    "# GPU Simulator\n"
   ]
  },
  {
   "cell_type": "markdown",
   "metadata": {},
   "source": [
    "## GPU Qiskit Aer Simulator Backends and Methods\n",
    "\n",
    " Following Qiskit Aer backends currently support GPU acceleration:\n",
    "* `QasmSimulator`\n",
    "* `StatevectorSimulator`\n",
    "* `UnitarySimulator`\n",
    "\n",
    "To check the availability of GPU support on these backends, `available_method()` returns methods with gpu suports."
   ]
  },
  {
   "cell_type": "markdown",
   "metadata": {},
   "source": [
    "## Introduction\n",
    "\n",
    "This notebook shows how to accelerate Qiskit Aer simulators by using GPUs. \n",
    "\n",
    "To install GPU support in Qiskit Aer, please install GPU version of Qiskit Aer by\n",
    "\n",
    "`pip install qiskit-aer-gpu`\n"
   ]
  },
  {
   "cell_type": "markdown",
   "metadata": {},
   "source": [
    "### Note \n",
    "\n",
    "Qiskit Aer only supports NVIDIA's GPUs and requires CUDA toolkit installed on the system. "
   ]
  },
  {
   "cell_type": "code",
   "execution_count": 6,
   "metadata": {},
   "outputs": [
    {
     "name": "stdout",
     "output_type": "stream",
     "text": [
      "['automatic', 'statevector', 'statevector_gpu', 'density_matrix', 'density_matrix_gpu', 'stabilizer', 'matrix_product_state', 'extended_stabilizer']\n"
     ]
    }
   ],
   "source": [
    "from qiskit import *\n",
    "from qiskit.circuit.library import *\n",
    "from qiskit.providers.aer import *\n",
    "qasm_sim = QasmSimulator()\n",
    "print(qasm_sim.available_methods())"
   ]
  },
  {
   "cell_type": "markdown",
   "metadata": {},
   "source": [
    "If Qiskit Aer with GPU support is installed correctly, you can see `statevector_gpu` and `density_matrix_gpu`"
   ]
  },
  {
   "cell_type": "code",
   "execution_count": 7,
   "metadata": {},
   "outputs": [
    {
     "name": "stdout",
     "output_type": "stream",
     "text": [
      "['automatic', 'statevector', 'statevector_gpu']\n",
      "['automatic', 'unitary', 'unitary_gpu']\n"
     ]
    }
   ],
   "source": [
    "st_sim = StatevectorSimulator()\n",
    "print(st_sim.available_methods())\n",
    "u_sim = UnitarySimulator()\n",
    "print(u_sim.available_methods())"
   ]
  },
  {
   "cell_type": "markdown",
   "metadata": {},
   "source": [
    "### Simulation with GPU\n",
    "\n",
    "Here is a simple example to run quantum volume circuit with 20 qubits by using `QasmSimulator` backend.\n",
    "Setting the simulation method `statevector_gpu` in `backend_options` parameter passed to `QasmSimulator.run` method to use GPU for the simulaiton."
   ]
  },
  {
   "cell_type": "code",
   "execution_count": 8,
   "metadata": {},
   "outputs": [
    {
     "name": "stdout",
     "output_type": "stream",
     "text": [
      "{'10001100110011011001': 1, '10111000011101110011': 1, '11011111010001101101': 1, '00000001011101110101': 1, '01011000101011101100': 1, '01101010110001110001': 1, '01000010000011000000': 1, '10010001011110000010': 1, '01100111101001100101': 1, '11100111111100011101': 1, '11010001000011001010': 1, '11010110110001010110': 1, '11000000010101000001': 1, '01110110110111000101': 1, '01111111100110110001': 1, '00111011110011110010': 1, '10010000101110000010': 1, '00101100011000000010': 1, '00111111100100010000': 1, '00000100100010001010': 1, '01110100001110111101': 1, '01111010011010010000': 1, '11111011101000010101': 1, '10010101001010001101': 1, '00111000111010110101': 1, '00111011100110010000': 1, '10001001110000100111': 1, '10101101010110011111': 1, '00001010000000100111': 1, '00101100101110111001': 1, '00110000111011010111': 1, '01101100011010001111': 1, '00000010100100001010': 1, '00100010001011010110': 1, '01100010101101010010': 1, '00011111111001011100': 1, '11101000100010000111': 1, '01010001010010011111': 1, '00110001100110111010': 1, '11010001010001000011': 1, '00110011000010111000': 1, '10011111011010111001': 1, '01010011100111010100': 1, '00010011110001111100': 1, '11011010001100110110': 1, '10101000100000111101': 1, '01100000001010110001': 1, '00110000110000010000': 1, '11010100010100001110': 1, '10110010000111011011': 1, '10011010111010100001': 1, '11010111111000100010': 1, '01011011000010100101': 1, '01101111000011111011': 1, '00001100110100001010': 1, '01000110011001000101': 1, '10100011001101110111': 1, '01110100011101010000': 1, '01000101111000010101': 1, '11110100110110110111': 1, '10000111111101100101': 1, '00110001111110000101': 1, '11001100011001011001': 1, '11110000010010010010': 1}\n"
     ]
    }
   ],
   "source": [
    "shots = 64\n",
    "qubit = 20\n",
    "depth=10\n",
    "qv20 = QuantumVolume(qubit, depth, seed = 0)\n",
    "qv20 = transpile(qv20, backend=qasm_sim, optimization_level=0)\n",
    "qv20.measure_all()\n",
    "qobj = assemble(qv20, shots=shots, memory=True)\n",
    "result = qasm_sim.run(qobj, backend_options={\"method\" : \"statevector_gpu\"}).result()\n",
    "\n",
    "counts = result.get_counts(qv20)\n",
    "print(counts)"
   ]
  },
  {
   "cell_type": "markdown",
   "metadata": {},
   "source": [
    "The following sample shows an example using `density_matrix_gpu` mthod in `QasmSimulator`."
   ]
  },
  {
   "cell_type": "code",
   "execution_count": 9,
   "metadata": {
    "scrolled": true
   },
   "outputs": [
    {
     "name": "stdout",
     "output_type": "stream",
     "text": [
      "{'0111001111': 1, '0100011110': 1, '0001001111': 1, '1101111011': 1, '0010000000': 1, '0001111101': 1, '0100010010': 1, '1110000101': 1, '1100111001': 1, '1111110001': 1, '1011111010': 1, '1000110101': 1, '0111001101': 1, '1010001110': 1, '0111101100': 1, '1000111000': 1, '0011001011': 1, '1110011011': 1, '0110100001': 1, '0001101111': 1, '0110001101': 1, '1101111110': 1, '0000010011': 1, '1111011111': 1, '0010010101': 1, '0100001100': 1, '0011110100': 1, '0001010011': 1, '1010101011': 1, '1101111001': 1, '1110001000': 1, '0010001100': 1, '0000010000': 1, '0101010011': 1, '1100001001': 1, '0100011001': 1, '0111010010': 1, '0101111010': 1, '0110011110': 1, '1100011000': 1, '0011010110': 1, '1110000100': 1, '1000000001': 1, '0100111100': 1, '1011100111': 1, '0101010100': 1, '1100101101': 1, '0111110111': 1, '1000111110': 1, '1000100001': 1, '0001000011': 2, '1000111101': 1, '1011000110': 1, '0100010000': 1, '0010001110': 1, '0110010001': 1, '1000010111': 1, '0000101101': 1, '1001101010': 3, '1100100100': 1, '1101110000': 1}\n"
     ]
    }
   ],
   "source": [
    "qubit = 10\n",
    "depth = 10\n",
    "qv10 = QuantumVolume(qubit, depth, seed = 0)\n",
    "qv10 = transpile(qv10, backend=qasm_sim, optimization_level=0)\n",
    "qv10.measure_all()\n",
    "qobj = assemble(qv10, shots=shots, memory=True)\n",
    "result = qasm_sim.run(qobj, backend_options={\"method\" : \"density_matrix_gpu\"}).result()\n",
    "\n",
    "counts = result.get_counts(qv10)\n",
    "print(counts)"
   ]
  },
  {
   "cell_type": "markdown",
   "metadata": {},
   "source": [
    "## Parallelizing Simulaiton by Using Multiple GPUs\n",
    "\n",
    "In general GPU has less memory size than CPU, and the largest number of qubits is depending on the memory size. For example, if a GPU has 16 GB of memory, Qiskit Aer can simulate up to 29 qubits by using `statevector_gpu` method in `QasmSimulator` and `StatevectorSimulator` backends or up to 14 qubits by using `density_matrix_gpu` method in `QasmSimulator` backend and `unitary_gpu` method in `UnitarySimulator` backend in double precision.\n",
    "\n",
    "To simulate with more larger nnumber of qubits, multiple GPUs can be used to parallelize the simulation or also parallel simulation can accelerate the simulation speed. \n",
    "\n",
    "To use multi-GPUs, following options should be set in the `backend_options` parameter passed to `run` method. In the parallel simulator, the vector of quantum states are divided into sub-vectors called chunk and chunks are distributed to memory of multiple-GPUs. \n",
    "\n",
    "Following 2 options should be passed:\n",
    "* `blocking_enable` : Set `True` to enable parallelization\n",
    "* `blocking_qubits` : This option sets the size of chunk that is distributed to parallel memory space. Set this parameter to satisfy `16*(2^(blocking_qubits+4)) < smallest memory size on the system (in byte)` for double precision. (`8*` for single precision).\n",
    "\n",
    "The parameter `blocking_qubits` will be varied in different environment, so this parameter is optimized by using some benchmarks before running actual applications. Usually setting 20 to 23 will be good for many environments. \n",
    "\n",
    "Here is an example of Quantum Volume of 30 qubits with multiple GPUs by using `QasmSimulator` backend and `statevector_gpu` method."
   ]
  },
  {
   "cell_type": "code",
   "execution_count": 10,
   "metadata": {},
   "outputs": [
    {
     "name": "stdout",
     "output_type": "stream",
     "text": [
      "{'001111011110000110011101110101': 1, '100000101001111101100110011011': 1, '001011001100011110010111111101': 1, '101111111000110011000000011000': 1, '111011110101100100011101011011': 1, '110111001001010100011000001100': 1, '110000111110000011110010000010': 1, '100011101011001110110011100001': 1, '101011001100110000001011100110': 1, '010101111011100010011100000010': 1, '010110100100110110010100000110': 1, '100000011100111100000010110011': 1, '110001001001000101010110010110': 1, '110111010001001111100010110110': 1, '000011001001110100010110111111': 1, '101111000000011111001011001101': 1, '011010110110110011100100101101': 1, '011101011010001110000100100001': 1, '010001111100100101101001101111': 1, '010011001001001010011100100111': 1, '011101000000001011010000101110': 1, '100010011000001001000111101101': 1, '010110001011001010011101001110': 1, '110011011010100111100001000110': 1, '001101001110100101011111110101': 1, '110111000101000000110010000010': 1, '100000111010000000111001010101': 1, '001010111101000000100010110011': 1, '100010010010000101001011010111': 1, '110010101110000100110111100000': 1, '001100111011110010011100110101': 1, '010100110000011110010101111111': 1, '100110101001000010010010001110': 1, '101110001001101100110100011000': 1, '010100000000001111101011111011': 1, '010001010101110111011100000110': 1, '110100001010011111111100000111': 1, '100011111011011110111111000111': 1, '100111100011011010111101000101': 1, '110001000100111111100000010000': 1, '110010000101010011000100111001': 1, '101001100000011001000111110110': 1, '100100100111100101010000010110': 1, '100110001000111111011011111001': 1, '010010010101101011100011111011': 1, '000111001110110001100011011001': 1, '101111101111111101101111110001': 1, '111100100001101010011011000111': 1, '000100101001010000011000001010': 1, '110000101011111111001000011001': 1, '011010111110110111001100011101': 1, '001101010110111010100100000110': 1, '101111001101010001111110111111': 1, '111000110011000001001101011000': 1, '101011011010011111100010000110': 1, '000011101110001010101010000010': 1, '101010111001100111000010011000': 1, '111001111000111100100011001011': 1, '111110111000111010010010001100': 1, '111110101101010010000111110000': 1, '111110011010101111101100010001': 1, '011001110111111010000110101010': 1, '110111010111101110010010000010': 1, '001111101111001101001011101011': 1}\n"
     ]
    }
   ],
   "source": [
    "qubit = 30\n",
    "depth = 10\n",
    "qv30 = QuantumVolume(qubit, depth, seed = 0)\n",
    "qv30 = transpile(qv30, backend=qasm_sim, optimization_level=0)\n",
    "qv30.measure_all()\n",
    "qobj = assemble(qv30, shots=shots, memory=True)\n",
    "result = qasm_sim.run(qobj, backend_options={\"method\" : \"statevector_gpu\", \"blocking_enable\" : True, \"blocking_qubits\" : 23 }).result()\n",
    "\n",
    "counts = result.get_counts(qv30)\n",
    "print(counts)"
   ]
  },
  {
   "cell_type": "markdown",
   "metadata": {},
   "source": [
    "### Note\n",
    "\n",
    "Note that only `QasmSimulator` can be applied for large qubit circuits because `StatevectorSimulator` and `UnitarySimulator` backends currently returns snapshots of state that will require large memory space. If CPU has enough memory to store snapshots these 2 backends can be used with GPUs."
   ]
  },
  {
   "cell_type": "markdown",
   "metadata": {},
   "source": [
    "## Distribution of Shots by Using Multiple GPUs\n",
    "\n",
    "Also GPUs can be used to accelerate simulating multiple shots with noise models. If the system has multiple GPUs, shots are automatically distributed to GPUs if there is enough memory to simulate one shot on single GPU. Also if there is only one GPU on the system, multiple shots can be parallelized on threads of GPU.\n",
    "\n",
    "Note multiple shots distribution on GPU is slower than running on CPU when number of qubits to be simulated is small because of large overheads of GPU kernel launch. \n",
    "\n",
    "Following example shows running 1000 shots of quantum volume circuit with noise on GPU."
   ]
  },
  {
   "cell_type": "code",
   "execution_count": 11,
   "metadata": {},
   "outputs": [
    {
     "name": "stdout",
     "output_type": "stream",
     "text": [
      "simulation time = 2.358891010284424\n"
     ]
    }
   ],
   "source": [
    "from qiskit.providers.aer.noise import *\n",
    "noise_model = NoiseModel()\n",
    "error = depolarizing_error(0.05, 1)\n",
    "noise_model.add_all_qubit_quantum_error(error, ['u1', 'u2', 'u3'])\n",
    "shots = 1000\n",
    "qobj = assemble(qv10, shots=shots, memory=True)\n",
    "result = qasm_sim.run(qobj, noise_model = noise_model, backend_options={\"method\" : \"statevector_gpu\"}).result()\n",
    "\n",
    "rdict = result.to_dict()\n",
    "print(\"simulation time = {0}\".format(rdict['time_taken']))"
   ]
  },
  {
   "cell_type": "code",
   "execution_count": 12,
   "metadata": {
    "ExecuteTime": {
     "end_time": "2019-08-19T16:54:58.630868Z",
     "start_time": "2019-08-19T16:54:58.624544Z"
    },
    "scrolled": true
   },
   "outputs": [
    {
     "data": {
      "text/html": [
       "<h3>Version Information</h3><table><tr><th>Qiskit Software</th><th>Version</th></tr><tr><td>Qiskit</td><td>0.23.4</td></tr><tr><td>Terra</td><td>0.17.0</td></tr><tr><td>Aer</td><td>0.8.0</td></tr><tr><td>Ignis</td><td>0.5.1</td></tr><tr><td>Aqua</td><td>0.8.1</td></tr><tr><td>IBM Q Provider</td><td>0.11.1</td></tr><tr><th>System information</th></tr><tr><td>Python</td><td>3.9.1 (default, Dec 11 2020, 14:41:06) \n",
       "[GCC 7.3.0]</td></tr><tr><td>OS</td><td>Linux</td></tr><tr><td>CPUs</td><td>40</td></tr><tr><td>Memory (Gb)</td><td>570.3187866210938</td></tr><tr><td colspan='2'>Tue Mar 09 02:18:51 2021 EST</td></tr></table>"
      ],
      "text/plain": [
       "<IPython.core.display.HTML object>"
      ]
     },
     "metadata": {},
     "output_type": "display_data"
    },
    {
     "data": {
      "text/html": [
       "<div style='width: 100%; background-color:#d5d9e0;padding-left: 10px; padding-bottom: 10px; padding-right: 10px; padding-top: 5px'><h3>This code is a part of Qiskit</h3><p>&copy; Copyright IBM 2017, 2021.</p><p>This code is licensed under the Apache License, Version 2.0. You may<br>obtain a copy of this license in the LICENSE.txt file in the root directory<br> of this source tree or at http://www.apache.org/licenses/LICENSE-2.0.<p>Any modifications or derivative works of this code must retain this<br>copyright notice, and modified files need to carry a notice indicating<br>that they have been altered from the originals.</p></div>"
      ],
      "text/plain": [
       "<IPython.core.display.HTML object>"
      ]
     },
     "metadata": {},
     "output_type": "display_data"
    }
   ],
   "source": [
    "import qiskit.tools.jupyter\n",
    "%qiskit_version_table\n",
    "%qiskit_copyright"
   ]
  }
 ],
 "metadata": {
  "celltoolbar": "Tags",
  "kernelspec": {
   "display_name": "Python 3",
   "language": "python",
   "name": "python3"
  },
  "language_info": {
   "codemirror_mode": {
    "name": "ipython",
    "version": 3
   },
   "file_extension": ".py",
   "mimetype": "text/x-python",
   "name": "python",
   "nbconvert_exporter": "python",
   "pygments_lexer": "ipython3",
   "version": "3.9.1"
  },
  "varInspector": {
   "cols": {
    "lenName": 16,
    "lenType": 16,
    "lenVar": 40
   },
   "kernels_config": {
    "python": {
     "delete_cmd_postfix": "",
     "delete_cmd_prefix": "del ",
     "library": "var_list.py",
     "varRefreshCmd": "print(var_dic_list())"
    },
    "r": {
     "delete_cmd_postfix": ") ",
     "delete_cmd_prefix": "rm(",
     "library": "var_list.r",
     "varRefreshCmd": "cat(var_dic_list()) "
    }
   },
   "types_to_exclude": [
    "module",
    "function",
    "builtin_function_or_method",
    "instance",
    "_Feature"
   ],
   "window_display": false
  }
 },
 "nbformat": 4,
 "nbformat_minor": 2
}
