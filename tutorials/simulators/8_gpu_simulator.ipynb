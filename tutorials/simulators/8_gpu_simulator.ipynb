{
 "cells": [
  {
   "cell_type": "markdown",
   "metadata": {},
   "source": [
    "# GPU Simulator\n"
   ]
  },
  {
   "cell_type": "markdown",
   "metadata": {},
   "source": [
    "## Introduction\n",
    "\n",
    "This notebook shows how to accelerate Qiskit Aer simulators by using GPUs. \n",
    "\n",
    "To install GPU support in Qiskit Aer, please install GPU version of Qiskit Aer by\n",
    "\n",
    "`pip install qiskit-aer-gpu`"
   ]
  },
  {
   "cell_type": "code",
   "execution_count": 5,
   "metadata": {},
   "outputs": [],
   "source": [
    "from qiskit import *\n",
    "from qiskit.circuit.library import *\n",
    "from qiskit.providers.aer import *"
   ]
  },
  {
   "cell_type": "markdown",
   "metadata": {},
   "source": [
    "## GPU Qiskit Aer Simulator Backends and Methods\n",
    "\n",
    " Following Qiskit Aer backends currently support GPU acceleration:\n",
    "* `QasmSimulator`\n",
    "* `StatevectorSimulator`\n",
    "* `UnitarySimulator`\n",
    "\n",
    "To check the availability of GPU support on these backends, `available_method()` returns methods with gpu suports."
   ]
  },
  {
   "cell_type": "code",
   "execution_count": 6,
   "metadata": {},
   "outputs": [
    {
     "name": "stdout",
     "output_type": "stream",
     "text": [
      "['automatic', 'statevector', 'statevector_gpu', 'density_matrix', 'density_matrix_gpu', 'stabilizer', 'matrix_product_state', 'extended_stabilizer']\n"
     ]
    }
   ],
   "source": [
    "qasm_sim = QasmSimulator()\n",
    "print(qasm_sim.available_methods())"
   ]
  },
  {
   "cell_type": "markdown",
   "metadata": {},
   "source": [
    "If Qiskit Aer with GPU support is installed correctly, you can see `statevector_gpu` and `density_matrix_gpu`"
   ]
  },
  {
   "cell_type": "code",
   "execution_count": 9,
   "metadata": {},
   "outputs": [
    {
     "name": "stdout",
     "output_type": "stream",
     "text": [
      "['automatic', 'statevector', 'statevector_gpu']\n",
      "['automatic', 'unitary', 'unitary_gpu']\n"
     ]
    }
   ],
   "source": [
    "st_sim = StatevectorSimulator()\n",
    "print(st_sim.available_methods())\n",
    "u_sim = UnitarySimulator()\n",
    "print(u_sim.available_methods())"
   ]
  },
  {
   "cell_type": "markdown",
   "metadata": {},
   "source": [
    "### Simulation with GPU\n",
    "\n",
    "Here is a simple example to run quantum volume circuit with 20 qubits by using `QasmSimulator` backend.\n",
    "Setting the simulation method `statevector_gpu` in `backend_options` parameter passed to `QasmSimulator.run` method to use GPU for the simulaiton."
   ]
  },
  {
   "cell_type": "code",
   "execution_count": 12,
   "metadata": {},
   "outputs": [
    {
     "name": "stdout",
     "output_type": "stream",
     "text": [
      "{'10111010100000101101': 1, '11100110111101100000': 1, '10100101001011000100': 1, '11111110011011101001': 1, '11010011101110000111': 1, '00111010101101110000': 1, '11101011000101101110': 1, '01011000111111001100': 1, '10100011000111101010': 1, '00000011000101001100': 1, '00100110110101010000': 1, '11010010001111100111': 1, '11011110011011001001': 1, '01110100010100100011': 1, '10000001110001110101': 1, '00111111011001100001': 1, '11101100010011100010': 1, '00001010001000010110': 1, '11100111010110100001': 1, '01011110010011010101': 1, '10101000000101111000': 1, '01000101110001110010': 1, '10111100010111100000': 1, '01011111111000111011': 1, '10001010110110000111': 1, '01101001010011111010': 1, '10001001101001010010': 1, '00100000111111110110': 1, '11110011110101110010': 1, '01000011010010101010': 1, '01000111010011011100': 1, '01010011010101001001': 1, '10110001101111010101': 1, '11001000110010001111': 1, '11011010110010001111': 1, '01110101010110101011': 1, '10010000000000001101': 1, '11101011001000001000': 1, '01111101011010100000': 1, '11111010100100110101': 1, '10111110010100110101': 1, '01011111111000000000': 1, '00000100111010001100': 1, '00001011000000010100': 1, '10000000100000110110': 1, '00111111010011110000': 1, '01000111101010100000': 1, '01001110011001100110': 1, '00111000000011110000': 1, '10011100011001011001': 1, '10101100011010110110': 1, '11110010111001001000': 1, '10011110101110110001': 1, '10011100011101100001': 1, '01100110101100111110': 1, '11101111001110110000': 1, '00100011000111011101': 1, '00011010011111001010': 1, '00010101101111110111': 1, '00001100010001111001': 1, '00011100110110111011': 1, '00000100000001011011': 1, '11110101000010000100': 1, '10011001011010010110': 1}\n"
     ]
    }
   ],
   "source": [
    "shots = 64\n",
    "qubit = 20\n",
    "qv20 = QuantumVolume(qubit, 10, seed = 0)\n",
    "qv20 = transpile(qv20, basis_gates=['u1', 'u2', 'u3', 'cx'],\n",
    "                 optimization_level=0, seed_transpiler=1)\n",
    "qv20.measure_all()\n",
    "qobj = assemble(qv20, shots=shots, memory=True)\n",
    "result = qasm_sim.run(qobj, backend_options={\"method\" : \"statevector_gpu\"}).result()\n",
    "\n",
    "counts = result.get_counts(qv20)\n",
    "print(counts)"
   ]
  },
  {
   "cell_type": "markdown",
   "metadata": {},
   "source": [
    "The following sample shows an example using `density_matrix_gpu` mthod in `QasmSimulator`."
   ]
  },
  {
   "cell_type": "code",
   "execution_count": 13,
   "metadata": {
    "scrolled": true
   },
   "outputs": [
    {
     "name": "stdout",
     "output_type": "stream",
     "text": [
      "{'0010000101': 1, '1110000111': 1, '0010001001': 1, '0100001100': 2, '0011110110': 1, '0011111010': 1, '1101011100': 1, '1010011100': 1, '1010010100': 1, '0101001111': 1, '1001011011': 1, '1011101111': 1, '0001001000': 1, '1000101011': 1, '1110011001': 1, '1101110000': 1, '1111000110': 1, '0000110101': 1, '0101111000': 1, '0011010110': 1, '1100011000': 1, '1111100011': 1, '1111100000': 1, '1100111110': 1, '0011001100': 1, '0100000100': 1, '1110100000': 1, '0100100100': 1, '1101000001': 1, '1110001000': 1, '1011011010': 1, '0100100101': 1, '0010000100': 1, '0111100000': 1, '0110100101': 1, '1111111110': 1, '0101101010': 2, '1001000011': 1, '0010111010': 1, '1001101010': 1, '1101100011': 1, '0111101011': 1, '1001100011': 1, '0011000100': 1, '1101100001': 1, '0100101110': 2, '0101010010': 1, '1000101001': 1, '1111011001': 1, '1100011010': 1, '1010001001': 1, '1010100001': 1, '0010001011': 1, '0111010000': 1, '1000100000': 1, '0011101000': 1, '1010101011': 1, '0110110011': 1, '1001111011': 1, '0100001011': 1, '0010111011': 1}\n"
     ]
    }
   ],
   "source": [
    "qubit = 10\n",
    "qv10 = QuantumVolume(qubit, 10, seed = 0)\n",
    "qv10 = transpile(qv10, basis_gates=['u1', 'u2', 'u3', 'cx'],\n",
    "                 optimization_level=0, seed_transpiler=1)\n",
    "qv10.measure_all()\n",
    "qobj = assemble(qv10, shots=shots, memory=True)\n",
    "result = qasm_sim.run(qobj, backend_options={\"method\" : \"density_matrix_gpu\"}).result()\n",
    "\n",
    "counts = result.get_counts(qv10)\n",
    "print(counts)"
   ]
  },
  {
   "cell_type": "markdown",
   "metadata": {},
   "source": [
    "## Parallelizing Simulaiton by Using Multiple GPUs\n",
    "\n",
    "In general GPU has less memory size than CPU, and the largest number of qubits is depending on the memory size. For example, if a GPU has 16 GB of memory, Qiskit Aer can simulate up to 29 qubits by using `statevector_gpu` method in `QasmSimulator` and `StatevectorSimulator` backends or up to 14 qubits by using `density_matrix_gpu` method in `QasmSimulator` backend and `unitary_gpu` method in `UnitarySimulator` backend in double precision.\n",
    "\n",
    "To simulate more larger nnumber of qubits, multiple GPUs can be used to parallelize the simulation or also parallel simulation can accelerate the simulation time. \n",
    "\n",
    "Currently, multi-GPU mode is not selected automatically and if one GPU does not have enough memory for the circuit's qubits the simulation will fail. Setting some options in the `backend_options` parameter passed to `run` method is required to enter multi-GPU mode.\n",
    "\n",
    "Following 2 options should be passed:\n",
    "* `blocking_enable` : Set `True` to enable parallelization\n",
    "* `blocking_qubits` : This option sets the size of chunk that is distributed to parallel memory space. Set this parameter to satisfy `16*(2^(blocking_qubits+4)) < smallest memory on the system (in byte)` for double precision. (`8*` for single precision).\n",
    "\n",
    "Here is an example of Quantum Volume of 30 qubits with multiple GPUs by using `QasmSimulator` backend and `statevector_gpu` method."
   ]
  },
  {
   "cell_type": "code",
   "execution_count": 16,
   "metadata": {},
   "outputs": [
    {
     "name": "stdout",
     "output_type": "stream",
     "text": [
      "{'110010100100001110100101100000': 1, '100100100000001111010010010110': 1, '001001011001001101100111010010': 1, '000100100100101000000101110110': 1, '100010001001001000100110011111': 1, '000110010101001001110110000100': 1, '100001110011001100110001101111': 1, '100000110011011010001111011101': 1, '101011101100000111000100001110': 1, '000100111111000001000101001011': 1, '101101101110111101100011110001': 1, '110001010010101100111001010011': 1, '001111011111011000000111011100': 1, '111110111000010110001100001111': 1, '001100100000010001111000101111': 1, '101010011100000100111100010001': 1, '110110010010110111010111110100': 1, '001000100110001000001001110010': 1, '111111110011101010111111001100': 1, '010001111011100100010001110000': 1, '100011100011011000110101111010': 1, '110000110100110010001100100111': 1, '010001001010110011011010010110': 1, '111101000011000000101001100100': 1, '010101110010010100001110110001': 1, '011110010010101001011100010111': 1, '001101100011010010101001111001': 1, '110111110001110001110010000011': 1, '011111110011001001010010011101': 1, '011100111011101001110100100010': 1, '010110100001010010000110010001': 1, '111100100001001101100001011101': 1, '111000101011110100111001111000': 1, '101001000001010100010011011110': 1, '100001110110110110100101110100': 1, '011110101001111011010111111001': 1, '100001001000101101100001000100': 1, '101011111011101000100001100111': 1, '001000101011010011101100010100': 1, '100100101011101101011000011101': 1, '111000010101101010010110110100': 1, '010000010000001011110111000001': 1, '010001110001110011111110111100': 1, '101100100111011101101010010111': 1, '000110110111110101010111111000': 1, '100100111011011110110001001011': 1, '011111111100001111111011110111': 1, '101000111100101001111011010100': 1, '001000011101001101111101111001': 1, '110001010010101001110111111100': 1, '110110001011111001001111001100': 1, '100010111001110110110011000010': 1, '111000001100100110000111000101': 1, '101001111010100010101101110011': 1, '000000101111110000111110111001': 1, '110101110101010111101010111100': 1, '010000101000101000101110000001': 1, '100110001000011010011000011000': 1, '101011011010100110010100010110': 1, '011111010000000001001100000111': 1, '010001110011011101111010010011': 1, '101001111101000011010010010001': 1, '000111010010001000000101110011': 1, '110011111100011010010110010010': 1}\n"
     ]
    }
   ],
   "source": [
    "qubit = 30\n",
    "qv30 = QuantumVolume(qubit, 10, seed = 0)\n",
    "qv30 = transpile(qv30, basis_gates=['u1', 'u2', 'u3', 'cx'],\n",
    "                 optimization_level=0, seed_transpiler=1)\n",
    "qv30.measure_all()\n",
    "qobj = assemble(qv30, shots=shots, memory=True)\n",
    "result = qasm_sim.run(qobj, backend_options={\"method\" : \"statevector_gpu\", \"blocking_enable\" : True, \"blocking_qubits\" : 23 }).result()\n",
    "\n",
    "counts = result.get_counts(qv30)\n",
    "print(counts)"
   ]
  },
  {
   "cell_type": "markdown",
   "metadata": {},
   "source": [
    "### Note\n",
    "\n",
    "Note that only `QasmSimulator` can be applied for large qubit circuits because `StatevectorSimulator` and `UnitarySimulator` backends currently returns snapshots of state that will require large memory space. If CPU has enough memory to store snapshots these 2 backends can be used with GPUs."
   ]
  },
  {
   "cell_type": "markdown",
   "metadata": {},
   "source": [
    "## Distribution of Shots by Using Multiple GPUs\n",
    "\n",
    "Also GPUs can be used to accelerate simulating multiple shots with noise models. If the system has multiple GPUs, shots are automatically distributed to GPUs if there is enough memory to simulate one shot on single GPU. \n",
    "\n"
   ]
  },
  {
   "cell_type": "code",
   "execution_count": 19,
   "metadata": {},
   "outputs": [
    {
     "name": "stdout",
     "output_type": "stream",
     "text": [
      "simulation time = 0.02101421356201172\n"
     ]
    }
   ],
   "source": [
    "shots = 1000\n",
    "qobj = assemble(qv10, shots=shots, memory=True)\n",
    "result = qasm_sim.run(qobj, backend_options={\"method\" : \"statevector_gpu\"}).result()\n",
    "\n",
    "rdict = result.to_dict()\n",
    "print(\"simulation time = {0}\".format(rdict['time_taken']))"
   ]
  },
  {
   "cell_type": "code",
   "execution_count": null,
   "metadata": {},
   "outputs": [],
   "source": [
    "from qiskit.providers.aer.noise import *\n",
    "qubit=10\n",
    "noise_model = NoiseModel()\n",
    "error = depolarizing_error(0.05, qubit)\n",
    "noise_model.add_all_qubit_quantum_error(error, ['u1', 'u2', 'u3', 'cx'])\n",
    "shots = 1000\n",
    "qobj = assemble(qv10, shots=shots, memory=True)\n",
    "result = qasm_sim.run(qobj, noise_model = noise_model, backend_options={\"method\" : \"statevector_gpu\"}).result()\n",
    "\n",
    "rdict = result.to_dict()\n",
    "print(\"simulation time = {0}\".format(rdict['time_taken']))"
   ]
  },
  {
   "cell_type": "code",
   "execution_count": 14,
   "metadata": {
    "ExecuteTime": {
     "end_time": "2019-08-19T16:54:58.630868Z",
     "start_time": "2019-08-19T16:54:58.624544Z"
    },
    "scrolled": true
   },
   "outputs": [
    {
     "data": {
      "text/html": [
       "<h3>Version Information</h3><table><tr><th>Qiskit Software</th><th>Version</th></tr><tr><td>Qiskit</td><td>0.23.4</td></tr><tr><td>Terra</td><td>0.16.3</td></tr><tr><td>Aer</td><td>0.8.0</td></tr><tr><td>Ignis</td><td>0.5.1</td></tr><tr><td>Aqua</td><td>0.8.1</td></tr><tr><td>IBM Q Provider</td><td>0.11.1</td></tr><tr><th>System information</th></tr><tr><td>Python</td><td>3.9.1 (default, Dec 11 2020, 14:41:06) \n",
       "[GCC 7.3.0]</td></tr><tr><td>OS</td><td>Linux</td></tr><tr><td>CPUs</td><td>40</td></tr><tr><td>Memory (Gb)</td><td>570.3187866210938</td></tr><tr><td colspan='2'>Mon Feb 01 04:13:56 2021 EST</td></tr></table>"
      ],
      "text/plain": [
       "<IPython.core.display.HTML object>"
      ]
     },
     "metadata": {},
     "output_type": "display_data"
    },
    {
     "data": {
      "text/html": [
       "<div style='width: 100%; background-color:#d5d9e0;padding-left: 10px; padding-bottom: 10px; padding-right: 10px; padding-top: 5px'><h3>This code is a part of Qiskit</h3><p>&copy; Copyright IBM 2017, 2021.</p><p>This code is licensed under the Apache License, Version 2.0. You may<br>obtain a copy of this license in the LICENSE.txt file in the root directory<br> of this source tree or at http://www.apache.org/licenses/LICENSE-2.0.<p>Any modifications or derivative works of this code must retain this<br>copyright notice, and modified files need to carry a notice indicating<br>that they have been altered from the originals.</p></div>"
      ],
      "text/plain": [
       "<IPython.core.display.HTML object>"
      ]
     },
     "metadata": {},
     "output_type": "display_data"
    }
   ],
   "source": [
    "import qiskit.tools.jupyter\n",
    "%qiskit_version_table\n",
    "%qiskit_copyright"
   ]
  },
  {
   "cell_type": "code",
   "execution_count": null,
   "metadata": {},
   "outputs": [],
   "source": []
  }
 ],
 "metadata": {
  "celltoolbar": "Tags",
  "kernelspec": {
   "display_name": "Python 3",
   "language": "python",
   "name": "python3"
  },
  "language_info": {
   "codemirror_mode": {
    "name": "ipython",
    "version": 3
   },
   "file_extension": ".py",
   "mimetype": "text/x-python",
   "name": "python",
   "nbconvert_exporter": "python",
   "pygments_lexer": "ipython3",
   "version": "3.9.1"
  },
  "varInspector": {
   "cols": {
    "lenName": 16,
    "lenType": 16,
    "lenVar": 40
   },
   "kernels_config": {
    "python": {
     "delete_cmd_postfix": "",
     "delete_cmd_prefix": "del ",
     "library": "var_list.py",
     "varRefreshCmd": "print(var_dic_list())"
    },
    "r": {
     "delete_cmd_postfix": ") ",
     "delete_cmd_prefix": "rm(",
     "library": "var_list.r",
     "varRefreshCmd": "cat(var_dic_list()) "
    }
   },
   "types_to_exclude": [
    "module",
    "function",
    "builtin_function_or_method",
    "instance",
    "_Feature"
   ],
   "window_display": false
  }
 },
 "nbformat": 4,
 "nbformat_minor": 2
}
