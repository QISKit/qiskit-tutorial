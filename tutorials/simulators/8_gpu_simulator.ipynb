{
 "cells": [
  {
   "cell_type": "markdown",
   "metadata": {},
   "source": [
    "# GPU Simulator\n"
   ]
  },
  {
   "cell_type": "markdown",
   "metadata": {},
   "source": [
    "## GPU Qiskit Aer Simulator Backends and Methods\n",
    "\n",
    " Following Qiskit Aer backends currently support GPU acceleration:\n",
    "* `QasmSimulator`\n",
    "* `StatevectorSimulator`\n",
    "* `UnitarySimulator`\n",
    "\n",
    "To check the availability of GPU support on these backends, `available_method()` returns methods with gpu suports."
   ]
  },
  {
   "cell_type": "markdown",
   "metadata": {},
   "source": [
    "## Introduction\n",
    "\n",
    "This notebook shows how to accelerate Qiskit Aer simulators by using GPUs. \n",
    "\n",
    "To install GPU support in Qiskit Aer, please install GPU version of Qiskit Aer by\n",
    "\n",
    "`pip install qiskit-aer-gpu`\n"
   ]
  },
  {
   "cell_type": "markdown",
   "metadata": {},
   "source": [
    "### Note \n",
    "\n",
    "Qiskit Aer only supports NVIDIA's GPUs and requires CUDA toolkit installed on the system. "
   ]
  },
  {
   "cell_type": "code",
   "execution_count": 2,
   "metadata": {},
   "outputs": [
    {
     "name": "stdout",
     "output_type": "stream",
     "text": [
      "['automatic', 'statevector', 'statevector_thrust', 'density_matrix', 'density_matrix_thrust', 'stabilizer', 'matrix_product_state', 'extended_stabilizer']\n"
     ]
    }
   ],
   "source": [
    "from qiskit import *\n",
    "from qiskit.circuit.library import *\n",
    "from qiskit.providers.aer import *\n",
    "qasm_sim = QasmSimulator()\n",
    "print(qasm_sim.available_methods())"
   ]
  },
  {
   "cell_type": "markdown",
   "metadata": {},
   "source": [
    "If Qiskit Aer with GPU support is installed correctly, you can see `statevector_gpu` and `density_matrix_gpu`"
   ]
  },
  {
   "cell_type": "code",
   "execution_count": 3,
   "metadata": {},
   "outputs": [
    {
     "name": "stdout",
     "output_type": "stream",
     "text": [
      "['automatic', 'statevector', 'statevector_thrust']\n",
      "['automatic', 'unitary', 'unitary_thrust']\n"
     ]
    }
   ],
   "source": [
    "st_sim = StatevectorSimulator()\n",
    "print(st_sim.available_methods())\n",
    "u_sim = UnitarySimulator()\n",
    "print(u_sim.available_methods())"
   ]
  },
  {
   "cell_type": "markdown",
   "metadata": {},
   "source": [
    "### Simulation with GPU\n",
    "\n",
    "Here is a simple example to run quantum volume circuit with 20 qubits by using `QasmSimulator` backend.\n",
    "Setting the simulation method `statevector_gpu` in `backend_options` parameter passed to `QasmSimulator.run` method to use GPU for the simulaiton."
   ]
  },
  {
   "cell_type": "code",
   "execution_count": 7,
   "metadata": {},
   "outputs": [
    {
     "name": "stdout",
     "output_type": "stream",
     "text": [
      "There is no GPU simulator installed, so using CPU simulator\n",
      "{'00101000010110000101': 1, '10010110001010110100': 1, '01001001000010000001': 1, '01111011101010111101': 1, '00101001101111000001': 1, '00111001000111000010': 1, '01100001001011000001': 1, '11000111010100100010': 1, '10110001001011000101': 1, '01000101000010000100': 1, '11001111011001100101': 1, '10000011010110111111': 1, '01011001101001001101': 1, '00100000010011100110': 1, '10111001111101101001': 1, '11110011001101000100': 1, '11101110001000111101': 1, '10010110011111000110': 1, '00010000111110110101': 1, '11101101111001000010': 1, '01111101111101110100': 1, '00011001001101000111': 1, '01110111110100101010': 1, '10111011000011101010': 1, '00111001111000101110': 1, '01111000100001010011': 1, '11111010100111000000': 1, '00000011100100000110': 1, '00000100100001101001': 1, '00100011111011000101': 1, '00001100000000111010': 1, '10110010101111001011': 1, '00100001101010001110': 1, '00001110101100010111': 1, '00110000010101110010': 1, '00010000100001010101': 1, '00010111010010000101': 1, '00110101010101110100': 1, '01111101011111011110': 1, '00101101101011001000': 1, '01010001011000001110': 1, '00111011110011010110': 1, '01001111001001000111': 1, '11011111010100110110': 1, '01011101111000000000': 1, '00101111110010111011': 1, '01011000000001111010': 1, '10101110110101101100': 1, '10110001010110010001': 1, '11000011010101001101': 1, '10110111100110100000': 1, '11101101111100101001': 1, '10101011110000011100': 1, '11001010001110001110': 1, '01111110111111110011': 1, '10000111111010101011': 1, '11011000111001000101': 1, '10101101101011010101': 1, '11010100101100011100': 1, '10111011100100110100': 1, '01000010110010010110': 1, '10100000010100011111': 1, '10011110110010011111': 1, '11010010101010010000': 1}\n"
     ]
    }
   ],
   "source": [
    "shots = 64\n",
    "qubit = 20\n",
    "depth=10\n",
    "qv20 = QuantumVolume(qubit, depth, seed = 0)\n",
    "qv20 = transpile(qv20, backend=qasm_sim, optimization_level=0)\n",
    "qv20.measure_all()\n",
    "qobj = assemble(qv20, shots=shots, memory=True)\n",
    "if 'statevector_gpu' in qasm_sim.available_methods():\n",
    "    result = qasm_sim.run(qobj, backend_options={\"method\" : \"statevector_gpu\"}).result()\n",
    "else:\n",
    "    print('There is no GPU simulator installed, so using CPU simulator')\n",
    "    result = qasm_sim.run(qobj, backend_options={\"method\" : \"statevector\"}).result()\n",
    "\n",
    "counts = result.get_counts(qv20)\n",
    "print(counts)"
   ]
  },
  {
   "cell_type": "markdown",
   "metadata": {},
   "source": [
    "The following sample shows an example using `density_matrix_gpu` mthod in `QasmSimulator`."
   ]
  },
  {
   "cell_type": "code",
   "execution_count": 8,
   "metadata": {
    "scrolled": true
   },
   "outputs": [
    {
     "name": "stdout",
     "output_type": "stream",
     "text": [
      "There is no GPU simulator installed, so using CPU simulator\n",
      "{'0100100100': 1, '1111000000': 1, '1010011100': 1, '0010101010': 1, '1101100011': 1, '0000110110': 1, '1101010000': 1, '1010110100': 1, '0010000101': 1, '1001000010': 1, '0110000100': 1, '1000111101': 1, '1111101110': 1, '1001000110': 1, '0000010011': 1, '0000100110': 1, '0101101000': 1, '0110111111': 1, '0110001110': 1, '1111001000': 1, '0010000100': 1, '0101011101': 1, '0100001111': 1, '0101001000': 3, '0010010010': 1, '1110100000': 1, '1110001110': 1, '0100110100': 1, '1101101010': 1, '0001101110': 1, '0110101011': 1, '1100001101': 1, '1100011100': 1, '0001000011': 1, '1000111011': 1, '1000000001': 1, '0011111000': 1, '0010010000': 2, '0000101000': 1, '0110001010': 1, '1111101101': 1, '0010111011': 3, '1101110101': 1, '1001000000': 1, '1111010111': 1, '1110011010': 1, '1101110010': 1, '0000000110': 1, '0101111010': 1, '0001111100': 1, '0000101001': 1, '0110100001': 1, '1101100110': 1, '0110101110': 1, '0000011111': 1, '1110100110': 1, '1001001110': 1, '0101101100': 1, '1001010000': 1}\n"
     ]
    }
   ],
   "source": [
    "qubit = 10\n",
    "depth = 10\n",
    "qv10 = QuantumVolume(qubit, depth, seed = 0)\n",
    "qv10 = transpile(qv10, backend=qasm_sim, optimization_level=0)\n",
    "qv10.measure_all()\n",
    "qobj = assemble(qv10, shots=shots, memory=True)\n",
    "if 'density_matrix_gpu' in qasm_sim.available_methods():\n",
    "    result = qasm_sim.run(qobj, backend_options={\"method\" : \"density_matrix_gpu\"}).result()\n",
    "else:\n",
    "    print('There is no GPU simulator installed, so using CPU simulator')\n",
    "    result = qasm_sim.run(qobj, backend_options={\"method\" : \"density_matrix\"}).result()\n",
    "\n",
    "counts = result.get_counts(qv10)\n",
    "print(counts)"
   ]
  },
  {
   "cell_type": "markdown",
   "metadata": {},
   "source": [
    "## Parallelizing Simulaiton by Using Multiple GPUs\n",
    "\n",
    "In general GPU has less memory size than CPU, and the largest number of qubits is depending on the memory size. For example, if a GPU has 16 GB of memory, Qiskit Aer can simulate up to 29 qubits by using `statevector_gpu` method in `QasmSimulator` and `StatevectorSimulator` backends or up to 14 qubits by using `density_matrix_gpu` method in `QasmSimulator` backend and `unitary_gpu` method in `UnitarySimulator` backend in double precision.\n",
    "\n",
    "To simulate with more larger nnumber of qubits, multiple GPUs can be used to parallelize the simulation or also parallel simulation can accelerate the simulation speed. \n",
    "\n",
    "To use multi-GPUs, following options should be set in the `backend_options` parameter passed to `run` method. In the parallel simulator, the vector of quantum states are divided into sub-vectors called chunk and chunks are distributed to memory of multiple-GPUs. \n",
    "\n",
    "Following 2 options should be passed:\n",
    "* `blocking_enable` : Set `True` to enable parallelization\n",
    "* `blocking_qubits` : This option sets the size of chunk that is distributed to parallel memory space. Set this parameter to satisfy `16*(2^(blocking_qubits+4)) < smallest memory size on the system (in byte)` for double precision. (`8*` for single precision).\n",
    "\n",
    "The parameter `blocking_qubits` will be varied in different environment, so this parameter is optimized by using some benchmarks before running actual applications. Usually setting 20 to 23 will be good for many environments. \n",
    "\n",
    "Here is an example of Quantum Volume of 30 qubits with multiple GPUs by using `QasmSimulator` backend and `statevector_gpu` method."
   ]
  },
  {
   "cell_type": "code",
   "execution_count": null,
   "metadata": {},
   "outputs": [],
   "source": [
    "qubit = 30\n",
    "depth = 10\n",
    "qv30 = QuantumVolume(qubit, depth, seed = 0)\n",
    "qv30 = transpile(qv30, backend=qasm_sim, optimization_level=0)\n",
    "qv30.measure_all()\n",
    "qobj = assemble(qv30, shots=shots, memory=True)\n",
    "if 'statevector_gpu' in qasm_sim.available_methods():\n",
    "    result = qasm_sim.run(qobj, backend_options={\"method\" : \"statevector_gpu\", \"blocking_enable\" : True, \"blocking_qubits\" : 23 }).result()\n",
    "    counts = result.get_counts(qv30)\n",
    "    print(counts)\n",
    "else:\n",
    "    print('There is no GPU simulator installed')"
   ]
  },
  {
   "cell_type": "markdown",
   "metadata": {},
   "source": [
    "### Note\n",
    "\n",
    "Note that only `QasmSimulator` can be applied for large qubit circuits because `StatevectorSimulator` and `UnitarySimulator` backends currently returns snapshots of state that will require large memory space. If CPU has enough memory to store snapshots these 2 backends can be used with GPUs."
   ]
  },
  {
   "cell_type": "markdown",
   "metadata": {},
   "source": [
    "## Distribution of Shots by Using Multiple GPUs\n",
    "\n",
    "Also GPUs can be used to accelerate simulating multiple shots with noise models. If the system has multiple GPUs, shots are automatically distributed to GPUs if there is enough memory to simulate one shot on single GPU. Also if there is only one GPU on the system, multiple shots can be parallelized on threads of GPU.\n",
    "\n",
    "Note multiple shots distribution on GPU is slower than running on CPU when number of qubits to be simulated is small because of large overheads of GPU kernel launch. \n",
    "\n",
    "Following example shows running 1000 shots of quantum volume circuit with noise on GPU."
   ]
  },
  {
   "cell_type": "code",
   "execution_count": 10,
   "metadata": {},
   "outputs": [
    {
     "name": "stdout",
     "output_type": "stream",
     "text": [
      "There is no GPU simulator installed, so using CPU simulator\n",
      "simulation time = 0.1777939796447754\n"
     ]
    }
   ],
   "source": [
    "from qiskit.providers.aer.noise import *\n",
    "noise_model = NoiseModel()\n",
    "error = depolarizing_error(0.05, 1)\n",
    "noise_model.add_all_qubit_quantum_error(error, ['u1', 'u2', 'u3'])\n",
    "shots = 1000\n",
    "qobj = assemble(qv10, shots=shots, memory=True)\n",
    "if 'statevector_gpu' in qasm_sim.available_methods():\n",
    "    result = qasm_sim.run(qobj, noise_model = noise_model, backend_options={\"method\" : \"statevector_gpu\"}).result()\n",
    "else:\n",
    "    print('There is no GPU simulator installed, so using CPU simulator')\n",
    "    result = qasm_sim.run(qobj, noise_model = noise_model, backend_options={\"method\" : \"statevector\"}).result()\n",
    "\n",
    "rdict = result.to_dict()\n",
    "print(\"simulation time = {0}\".format(rdict['time_taken']))"
   ]
  },
  {
   "cell_type": "code",
   "execution_count": 12,
   "metadata": {
    "ExecuteTime": {
     "end_time": "2019-08-19T16:54:58.630868Z",
     "start_time": "2019-08-19T16:54:58.624544Z"
    },
    "scrolled": true
   },
   "outputs": [
    {
     "data": {
      "text/html": [
       "<h3>Version Information</h3><table><tr><th>Qiskit Software</th><th>Version</th></tr><tr><td>Qiskit</td><td>0.23.4</td></tr><tr><td>Terra</td><td>0.17.0</td></tr><tr><td>Aer</td><td>0.8.0</td></tr><tr><td>Ignis</td><td>0.5.1</td></tr><tr><td>Aqua</td><td>0.8.1</td></tr><tr><td>IBM Q Provider</td><td>0.11.1</td></tr><tr><th>System information</th></tr><tr><td>Python</td><td>3.9.1 (default, Dec 11 2020, 14:41:06) \n",
       "[GCC 7.3.0]</td></tr><tr><td>OS</td><td>Linux</td></tr><tr><td>CPUs</td><td>40</td></tr><tr><td>Memory (Gb)</td><td>570.3187866210938</td></tr><tr><td colspan='2'>Tue Mar 09 02:18:51 2021 EST</td></tr></table>"
      ],
      "text/plain": [
       "<IPython.core.display.HTML object>"
      ]
     },
     "metadata": {},
     "output_type": "display_data"
    },
    {
     "data": {
      "text/html": [
       "<div style='width: 100%; background-color:#d5d9e0;padding-left: 10px; padding-bottom: 10px; padding-right: 10px; padding-top: 5px'><h3>This code is a part of Qiskit</h3><p>&copy; Copyright IBM 2017, 2021.</p><p>This code is licensed under the Apache License, Version 2.0. You may<br>obtain a copy of this license in the LICENSE.txt file in the root directory<br> of this source tree or at http://www.apache.org/licenses/LICENSE-2.0.<p>Any modifications or derivative works of this code must retain this<br>copyright notice, and modified files need to carry a notice indicating<br>that they have been altered from the originals.</p></div>"
      ],
      "text/plain": [
       "<IPython.core.display.HTML object>"
      ]
     },
     "metadata": {},
     "output_type": "display_data"
    }
   ],
   "source": [
    "import qiskit.tools.jupyter\n",
    "%qiskit_version_table\n",
    "%qiskit_copyright"
   ]
  }
 ],
 "metadata": {
  "celltoolbar": "Tags",
  "kernelspec": {
   "display_name": "Python 3",
   "language": "python",
   "name": "python3"
  },
  "language_info": {
   "codemirror_mode": {
    "name": "ipython",
    "version": 3
   },
   "file_extension": ".py",
   "mimetype": "text/x-python",
   "name": "python",
   "nbconvert_exporter": "python",
   "pygments_lexer": "ipython3",
   "version": "3.9.1"
  },
  "varInspector": {
   "cols": {
    "lenName": 16,
    "lenType": 16,
    "lenVar": 40
   },
   "kernels_config": {
    "python": {
     "delete_cmd_postfix": "",
     "delete_cmd_prefix": "del ",
     "library": "var_list.py",
     "varRefreshCmd": "print(var_dic_list())"
    },
    "r": {
     "delete_cmd_postfix": ") ",
     "delete_cmd_prefix": "rm(",
     "library": "var_list.r",
     "varRefreshCmd": "cat(var_dic_list()) "
    }
   },
   "types_to_exclude": [
    "module",
    "function",
    "builtin_function_or_method",
    "instance",
    "_Feature"
   ],
   "window_display": false
  }
 },
 "nbformat": 4,
 "nbformat_minor": 2
}
