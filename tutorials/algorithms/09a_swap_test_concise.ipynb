{
 "cells": [
  {
   "cell_type": "markdown",
   "metadata": {},
   "source": [
    "# SWAP Test"
   ]
  },
  {
   "cell_type": "markdown",
   "metadata": {},
   "source": [
    "#### The SWAP test is a simple quantum circuit (as you will see in the further sections of this notebook) which, given two states, allows to compute how much do they differ from each other. \n",
    "\n",
    "In this notebook we will try to cover the following sub-tasks:\n",
    "<ol>\n",
    "<li>Build a variational circuit which generates the most general 1 qubit state (any point in the Bloch sphere can be reached). \n",
    "<li>Using the circuit (built in step 1) and the SWAP test, find the best choice of parameters to reproduce a randomly generated quantum state made with 1 qubit.\n",
    "<li>Generalize the SWAP test for a random N-qubit product state (each of the qubits are in the state |0> or |1>). For example, the state\n",
    "|a> = |01>\n",
    "Is a product state, while the state\n",
    "|b> = |00> + |11>\n",
    "Is not.\n",
    "<li>Perform a qubit by qubit SWAP test to reconstruct the state. This part of the problem can be solved via a simple grid search.\n",
    "</ol>\n"
   ]
  },
  {
   "cell_type": "code",
   "execution_count": 1,
   "metadata": {},
   "outputs": [],
   "source": [
    "# Importing standard Qiskit libraries\n",
    "from math import pi,sin,cos,asin,acos,sqrt,ceil\n",
    "from qiskit import QuantumCircuit, execute, Aer, IBMQ\n",
    "from qiskit.compiler import transpile, assemble\n",
    "from qiskit.tools.jupyter import *\n",
    "from qiskit.visualization import *\n",
    "from qiskit.transpiler import PassManager\n",
    "from qiskit.transpiler.passes import Unroller\n",
    "import random\n",
    "\n",
    "\n",
    "# Importing the helper functions\n",
    "from swap_test_state_solver import *"
   ]
  },
  {
   "cell_type": "code",
   "execution_count": 2,
   "metadata": {},
   "outputs": [],
   "source": [
    "backend = Aer.get_backend('statevector_simulator')\n",
    "backend2 = Aer.get_backend('qasm_simulator')"
   ]
  },
  {
   "cell_type": "markdown",
   "metadata": {},
   "source": [
    "## Subtask 1 : Generate a general qubit state"
   ]
  },
  {
   "cell_type": "markdown",
   "metadata": {},
   "source": [
    "#### The function **create_state()** can be used to generate a general/random state on qubit of a quantum circuit.\n",
    "\n",
    "#### Important:\n",
    "$\\theta$ : Angle from z-axis in bloch sphere, if None then takes a random value in the range [$0,\\pi$]<br>\n",
    "$\\phi$ : Phase angle from x-axis in bloch sphere, if None then takes a random value in the range [$0,2pi$]"
   ]
  },
  {
   "cell_type": "code",
   "execution_count": 3,
   "metadata": {},
   "outputs": [
    {
     "name": "stdout",
     "output_type": "stream",
     "text": [
      "Help on function create_state in module swap_test_state_solver:\n",
      "\n",
      "create_state(qc, i, theta=None, phi=None, mode='u')\n",
      "    Creates a general qubit state given by the parameters of bloch sphere at a qubit of given quantum circuit.\n",
      "    \n",
      "    Parameters:\n",
      "    qc : Quantum circuit of the qubit\n",
      "    i : Index of the qubit in qc which is to be transformed to a general state\n",
      "    theta : Angle from z-axis in bloch sphere, if None then takes a random value in the range [0,pi]\n",
      "    phi : Phase angle from x-axis in bloch sphere, if None then takes a random value in the range [0,2*pi]\n",
      "    mode : Uses single u3 gate (which is more efficient) by default to create the state, else if mode is 'rot' then uses separate rotation about y and z axis in the bloch sphere\n",
      "\n"
     ]
    }
   ],
   "source": [
    "help(create_state)"
   ]
  },
  {
   "cell_type": "code",
   "execution_count": 4,
   "metadata": {},
   "outputs": [
    {
     "data": {
      "image/png": "[encoded data removed]",
      "text/plain": [
       "<Figure size 206.852x144.48 with 1 Axes>"
      ]
     },
     "execution_count": 4,
     "metadata": {},
     "output_type": "execute_result"
    }
   ],
   "source": [
    "qc = QuantumCircuit(2)\n",
    "create_state(qc,0,pi/2,0)\n",
    "create_state(qc,1,pi/4,3*pi/4,mode='rot')\n",
    "qc.draw('mpl')\n"
   ]
  },
  {
   "cell_type": "markdown",
   "metadata": {},
   "source": [
    "This function can be used to create a general qubit state on any qubit of any given quantum circuit and has been used inside other functions for the same.\n",
    "\n",
    "If any of the parameters of bloch sphere **(theta,phi)** is not provided that particular parameter takes a random value. Therefore a random general state can be produced by providing none of these values."
   ]
  },
  {
   "cell_type": "code",
   "execution_count": 6,
   "metadata": {},
   "outputs": [
    {
     "data": {
      "image/png": "[encoded data removed]",
      "text/plain": [
       "<Figure size 267.052x144.48 with 1 Axes>"
      ]
     },
     "execution_count": 6,
     "metadata": {},
     "output_type": "execute_result"
    }
   ],
   "source": [
    "qc = QuantumCircuit(2)\n",
    "create_state(qc,0)\n",
    "create_state(qc,1,mode='rot')\n",
    "qc.draw('mpl')\n"
   ]
  },
  {
   "cell_type": "markdown",
   "metadata": {},
   "source": [
    "Alternatively the function **variational_circuit()** can be used to generate a circuit of size 1 qubit that uses the **create_state()** function under the hood to act like a variational circuit which could generate any general/random 1 qubit state given by the parameters (theta,phi) of the bloch_shere."
   ]
  },
  {
   "cell_type": "code",
   "execution_count": 8,
   "metadata": {},
   "outputs": [
    {
     "data": {
      "image/png": "[encoded data removed]",
      "text/plain": [
       "<Figure size 193.726x84.28 with 1 Axes>"
      ]
     },
     "execution_count": 8,
     "metadata": {},
     "output_type": "execute_result"
    }
   ],
   "source": [
    "qc = variational_circuit(3*pi/4, 5*pi/6)\n",
    "qc.draw('mpl')"
   ]
  },
  {
   "cell_type": "markdown",
   "metadata": {},
   "source": [
    "### SWAP test "
   ]
  },
  {
   "cell_type": "markdown",
   "metadata": {},
   "source": [
    "We will be using the quantum **SWAP test** to test the similarity between two quantum states.\n",
    "\n",
    "In the circuit below, for instance, '$q_0$' serves the purpose of **ancilla qubit**, and '$q_1$' and '$q_2$' are the **system qubits** whose overlap/similarity needs to be checked."
   ]
  },
  {
   "cell_type": "code",
   "execution_count": 10,
   "metadata": {},
   "outputs": [
    {
     "data": {
      "image/png": "[encoded data removed]",
      "text/plain": [
       "<Figure size 267.197x204.68 with 1 Axes>"
      ]
     },
     "execution_count": 10,
     "metadata": {},
     "output_type": "execute_result"
    }
   ],
   "source": [
    "swap_circuit.draw('mpl')"
   ]
  },
  {
   "cell_type": "markdown",
   "metadata": {},
   "source": [
    "This circuit is defined as the **swap_circuit** and can be appended to any circuit to measure the ancilla qubit and find the similarity betweeen the system qubits.\n",
    "\n",
    "When the ancilla measured after applying the swap circuit to any given system qubits, the probability of measuring |0> in the ancilla qubit is given by the expresssion, \n",
    "\n",
    "### <center>$P(q_0=0) = \\frac{1}{2}\\left( 1 + {|<q_1|q_2>|}^2 \\right\\)\\$</center>"
   ]
  },
  {
   "cell_type": "code",
   "execution_count": 13,
   "metadata": {},
   "outputs": [
    {
     "data": {
      "image/png": "[encoded data removed]",
      "text/plain": [
       "<Figure size 327.397x264.88 with 1 Axes>"
      ]
     },
     "execution_count": 13,
     "metadata": {},
     "output_type": "execute_result"
    }
   ],
   "source": [
    "qc = qc + swap_circuit\n",
    "qc.measure(0,0)\n",
    "qc.draw('mpl')"
   ]
  },
  {
   "cell_type": "code",
   "execution_count": 14,
   "metadata": {},
   "outputs": [
    {
     "data": {
      "image/png": "[encoded data removed]",
      "text/plain": [
       "<Figure size 504x360 with 1 Axes>"
      ]
     },
     "execution_count": 14,
     "metadata": {},
     "output_type": "execute_result"
    }
   ],
   "source": [
    "counts = execute(qc,backend2).result().get_counts()\n",
    "plot_histogram(counts)"
   ]
  },
  {
   "cell_type": "markdown",
   "metadata": {},
   "source": [
    "Alternatively, the function **swap_test()** can be used to directly find the probability of measuring '0' state in the ancilla qubit of two system qubits whose states are provided as parameters."
   ]
  },
  {
   "cell_type": "code",
   "execution_count": 19,
   "metadata": {},
   "outputs": [
    {
     "name": "stdout",
     "output_type": "stream",
     "text": [
      "Help on function swap_test in module swap_test_state_solver:\n",
      "\n",
      "swap_test(state1=(0, 0), state2=(0, 0), n=5000)\n",
      "    Finds the probability of '0' state in the ancilla qubit after creating the desired system states (those which \n",
      "    needs to be tested) on the given quantum circuit and appending a swap test circuit at the desired positions.\n",
      "    \n",
      "    Parameters:\n",
      "    state1 : Tuple containing parameters (theta1,phi1) in bloch sphere which describe the state of q1\n",
      "    state2 : Tuple containing parameters (theta2,phi2) in bloch sphere which describe the state of q2 \n",
      "    n : number of shots\n",
      "    \n",
      "    Returns:\n",
      "    prob_zero : A float number containing the probability to measure ancilla qubit in stat |0> for n shots\n",
      "\n"
     ]
    }
   ],
   "source": [
    "help(swap_test)"
   ]
  },
  {
   "cell_type": "code",
   "execution_count": 20,
   "metadata": {},
   "outputs": [
    {
     "name": "stdout",
     "output_type": "stream",
     "text": [
      "Probability of measurig ancilla qubit in state |0> = 0.7526\n"
     ]
    },
    {
     "data": {
      "image/png": "[encoded data removed]",
      "text/plain": [
       "<Figure size 504x360 with 1 Axes>"
      ]
     },
     "execution_count": 20,
     "metadata": {},
     "output_type": "execute_result"
    }
   ],
   "source": [
    "prob_zero = swap_test((pi/4,pi/4),(3*pi/4,pi/4))\n",
    "print(f'Probability of measurig ancilla qubit in state |0> = {prob_zero}')\n",
    "plot_histogram({'0':prob_zero,'1':1-prob_zero})"
   ]
  },
  {
   "cell_type": "markdown",
   "metadata": {},
   "source": [
    "## Subtask 2 :Finding the state of an unknown general qubit  "
   ]
  },
  {
   "cell_type": "markdown",
   "metadata": {},
   "source": [
    "The function **general_qubit_state_solver()** finds the best choice of parameters (theta, phi) using SWAP test to reproduce the given/randomly generated state of a single qubit. It can be used either using SWAP test in a single (Z) basis or in all three (X, Y and Z) basis."
   ]
  },
  {
   "cell_type": "code",
   "execution_count": 21,
   "metadata": {
    "scrolled": true
   },
   "outputs": [
    {
     "name": "stdout",
     "output_type": "stream",
     "text": [
      "Help on function general_qubit_state_solver in module swap_test_state_solver:\n",
      "\n",
      "general_qubit_state_solver(theta=None, phi=None, multi=False)\n",
      "    Finds the best choice of parameters (theta, phi) using SWAP test to reproduce the given general state or a randomly generated state of a single qubit. \n",
      "    \n",
      "    If incomplete or no quantum state is passed as arguments, a general single qubit state is randomly created using the create_state() function.\n",
      "    \n",
      "    Parameters:\n",
      "    theta : angle from z-axis in bloch sphere, if None then takes a random value in the range [0,pi]\n",
      "    phi : phase angle from x-axis in bloch sphere, if None then takes a random value in the range [0,2*pi]\n",
      "    multi : the number of basis to be used for SWAP testing. By default False indicates single (Z) basis is used \n",
      "    which needs 4 SWAP tests to find the correct values of parameters (theta, phi), less efficient but less error. \n",
      "    If True then all three (X, Y and Z) basis are used it needs only 3 SWAP test but more error prone.\n",
      "\n"
     ]
    }
   ],
   "source": [
    "help(general_qubit_state_solver)"
   ]
  },
  {
   "cell_type": "markdown",
   "metadata": {},
   "source": [
    "### Single basis SWAP test"
   ]
  },
  {
   "cell_type": "markdown",
   "metadata": {},
   "source": [
    "Here the SWAP tests are conducted as usual, each time optimizing the choices of the parameters (theta,phi) depending on the similarity obtained between the currently hypothesized state and the unknow state.\n",
    "\n",
    "All these operations are performed by a single function **general_qubit_state_solver()**."
   ]
  },
  {
   "cell_type": "code",
   "execution_count": 29,
   "metadata": {},
   "outputs": [
    {
     "name": "stdout",
     "output_type": "stream",
     "text": [
      "Qubit State : (2.3436281195779856, 1.9163715186897738)\n",
      "Predicted State : (2.395578563454773, 1.9556547403686189)\n"
     ]
    }
   ],
   "source": [
    "general_qubit_state_solver()"
   ]
  },
  {
   "cell_type": "markdown",
   "metadata": {},
   "source": [
    "### Multi-basis SWAP test"
   ]
  },
  {
   "cell_type": "markdown",
   "metadata": {},
   "source": [
    "Here the basis-specific SWAP tests are conducted in all three basis (X, Y and Z) but instead of optimizing any hypothesized state, we predict a state only once according to the measurement obtained in all three basis. \n",
    "\n",
    "All these operations are performed by a single function **general_qubit_state_solver()** by setting the parameter **multi = True**"
   ]
  },
  {
   "cell_type": "code",
   "execution_count": 32,
   "metadata": {},
   "outputs": [
    {
     "name": "stdout",
     "output_type": "stream",
     "text": [
      "Qubit State : (0.6597344572538566, 1.6524777357882312)\n",
      "Predicted State : (0.6671310749183624, 1.6332368930189847)\n"
     ]
    }
   ],
   "source": [
    "general_qubit_state_solver(multi=True)"
   ]
  },
  {
   "cell_type": "markdown",
   "metadata": {},
   "source": [
    "## Subtask 3 : Reconstruct a random product state of N qubits"
   ]
  },
  {
   "cell_type": "markdown",
   "metadata": {},
   "source": [
    "The function **prod_state_reconstruct()** reconstructs a given/random product state using SWAP test. It can be implemented either using individual SWAP tests or by multi-qubit SWAP test on all possible n-qubit state using grid search.\n",
    "\n",
    "This function returns a quantum circuit with N qubits with the reconstructed state, and the unknown product state and the predicted product state in the form of binary strings."
   ]
  },
  {
   "cell_type": "code",
   "execution_count": 24,
   "metadata": {},
   "outputs": [
    {
     "name": "stdout",
     "output_type": "stream",
     "text": [
      "Help on function prod_state_reconstruct in module swap_test_state_solver:\n",
      "\n",
      "prod_state_reconstruct(n, s=None, max_qubits=27, grid_search=False)\n",
      "    Finds the product state using qubit by qubit SWAP test with n qubits. \n",
      "    \n",
      "    Parameters:\n",
      "    n : Number of qubits in the quantum product state\n",
      "    s : Binary string representing the given n-qubit product state, if None then takes a random value\n",
      "    max_qubits : Maximum number of qubits (including system and ancilla) that can be used for conducting the SWAP tests \n",
      "    \n",
      "    Returns:\n",
      "    qc : QuantumCircuit with n-qubits representing the reconstructed (predicted) product state \n",
      "    s : Binary string representing the given n-qubit product state\n",
      "    pred_s : Binary string representing the predicted n-qubit product state\n",
      "\n"
     ]
    }
   ],
   "source": [
    "help(prod_state_reconstruct)"
   ]
  },
  {
   "cell_type": "markdown",
   "metadata": {},
   "source": [
    "### Qubit by Qubit individual SWAP test"
   ]
  },
  {
   "cell_type": "markdown",
   "metadata": {},
   "source": [
    "Here we find the product state using individual ancilla qubit for each individual qubit by qubit SWAP test.\n",
    "\n",
    "All these operations are performed by a single function **prod_state_reconstruct()**."
   ]
  },
  {
   "cell_type": "code",
   "execution_count": 35,
   "metadata": {},
   "outputs": [
    {
     "name": "stdout",
     "output_type": "stream",
     "text": [
      "Qubit State : 10010111\n",
      "Predicted State : 10010111\n"
     ]
    },
    {
     "data": {
      "image/png": "[encoded data removed]",
      "text/plain": [
       "<Figure size 146.797x505.68 with 1 Axes>"
      ]
     },
     "execution_count": 35,
     "metadata": {},
     "output_type": "execute_result"
    }
   ],
   "source": [
    "qc,s,pred_s = prod_state_reconstruct(8)\n",
    "qc.draw('mpl')"
   ]
  },
  {
   "cell_type": "markdown",
   "metadata": {},
   "source": [
    "### Grid search on multi-qubit SWAP test"
   ]
  },
  {
   "cell_type": "markdown",
   "metadata": {},
   "source": [
    "Here we find the product state using only one ancilla qubit for the multi-qubit SWAP test and grid search over all possible product states with n qubits until we find the one which completely overlaps with the unknown state.\n",
    "\n",
    "All these operations are performed by a single function **prod_state_reconstruct()** by setting the parameter **grid_search = True**."
   ]
  },
  {
   "cell_type": "code",
   "execution_count": 63,
   "metadata": {},
   "outputs": [
    {
     "name": "stdout",
     "output_type": "stream",
     "text": [
      "Qubit State : 11101\n",
      "Predicted State : 11101\n"
     ]
    },
    {
     "data": {
      "image/png": "[encoded data removed]",
      "text/plain": [
       "<Figure size 146.797x325.08 with 1 Axes>"
      ]
     },
     "execution_count": 63,
     "metadata": {},
     "output_type": "execute_result"
    }
   ],
   "source": [
    "qc,s,pred_s = prod_state_reconstruct(5,grid_search=True)\n",
    "qc.draw('mpl')"
   ]
  }
 ],
 "metadata": {
  "kernelspec": {
   "display_name": "Python 3",
   "language": "python",
   "name": "python3"
  },
  "language_info": {
   "codemirror_mode": {
    "name": "ipython",
    "version": 3
   },
   "file_extension": ".py",
   "mimetype": "text/x-python",
   "name": "python",
   "nbconvert_exporter": "python",
   "pygments_lexer": "ipython3",
   "version": "3.7.4"
  }
 },
 "nbformat": 4,
 "nbformat_minor": 5
}