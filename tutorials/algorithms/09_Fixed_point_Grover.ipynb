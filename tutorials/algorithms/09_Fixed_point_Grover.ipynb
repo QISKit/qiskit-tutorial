{
 "cells": [
  {
   "cell_type": "markdown",
   "metadata": {},
   "source": [
    "# Fixed point grover search\n",
    "\n",
    "\n",
    "For the details of Grover's algorithm, please see [Grover's Algorithm](https://qiskit.org/textbook/ch-algorithms/grover.html)\n",
    "\n",
    "The fixed point search algorithm performs Grover like search without the possibility of overshooting i.e. we converge to the target state irrespective of the number of iterations.\n",
    "\n",
    "Why is it important? <br>\n",
    "It can lead to new schemes for quantum control.\n",
    "\n",
    "**References:**\n",
    "\n",
    "\\[1\\]: L. K. Grover, Fixed-Point Quantum Search. Physical Review Letters, 2005\n",
    "https://journals.aps.org/prl/abstract/10.1103/PhysRevLett.95.150501\n",
    "\n",
    "\\[2\\]: Theodore J. Yoder, Guang Hao Low, Isaac L. Chuang, Fixed-Point Quantum Search with an Optimal Number of Queries. Physical Review Letters, 2014, \n",
    "https://journals.aps.org/prl/abstract/10.1103/PhysRevLett.95.150501\n"
   ]
  },
  {
   "cell_type": "markdown",
   "metadata": {},
   "source": [
    "## Phase shift\n",
    "\n",
    "\n",
    "$ \\newcommand{\\ket}[1]{\\left|{#1}\\right\\rangle} $\n",
    "$ \\newcommand{\\bra}[1]{\\left\\langle{#1}\\right|} $\n",
    "\n",
    "The grover oracle, when the winner state is $\\ket{w}$, is given as\n",
    "$$ U_{w}=I-2\\ket{w}\\bra{w}. $$\n",
    "\n",
    "Phase shift is a generalization of reflection (phase flip):\n",
    "\n",
    "$$ U_{w}(\\alpha)=I-(1-\\exp(i\\alpha))\\ket{w}\\bra{w}.  $$\n",
    "\n",
    "Similarly, the diffusion operator i.e. reflection $U_{s}$ about the equal superposition state $\\ket{s}$ can be generalized to $$ U_{s}(\\beta)=I-(1-\\exp(i\\beta))\\ket{s}\\bra{s}.  $$\n",
    "\n",
    "The fixed point Grover search algorithm uses $\\alpha=\\beta=\\pi/3$"
   ]
  },
  {
   "cell_type": "markdown",
   "metadata": {},
   "source": [
    "## Algorithm\n",
    "Lets denote a Grover iteration as $G_{t}$ at step t.\n",
    "In Grover search, after t steps, we have $$ G_{t}\\ket{s}=(U_{s}U_{w})^{t}\\ket{s}.$$\n",
    "\n",
    "How many steps do we need to apply? If we have a list of N items, then roughly $\\sqrt N$ times will suffice. If we iterate more, then we might overshoot the target state.\n",
    "\n",
    "However, for the fixed point search, each iterate is related with last one by a recursion relation. \n",
    "$$ G_{t+1}=G_{t}U_{s}G^{\\dagger}_{t}U_{w}G_{t}. $$\n",
    "If we start from state $\\ket{0}$, we can use $G_{0}=H$, where $H$ is the Hadamard gate. If we have an iteration count L such that $G_{L}\\ket{0}$ takes us very close to the target state, then we will move closer to the target state for every $t>L$. This is how the fixed point algorithim reaches the target state. \n",
    "<br>\n",
    "\n",
    "Can we also converge to the target state using the fixed point search while maintaining the quadratic speedup over classical? \n",
    "The answer is subtle and readers might enjoy going through the references mentioned in the beginning of the notebook."
   ]
  },
  {
   "cell_type": "code",
   "execution_count": 173,
   "metadata": {},
   "outputs": [],
   "source": [
    "import matplotlib.pyplot as plt\n",
    "import numpy as np\n",
    "\n",
    "# importing Qiskit\n",
    "from qiskit import IBMQ, Aer, QuantumCircuit, ClassicalRegister, QuantumRegister, execute\n",
    "from qiskit.providers.ibmq import least_busy\n",
    "from qiskit.quantum_info import Statevector\n",
    "\n",
    "# import basic plot tools\n",
    "from qiskit.visualization import plot_histogram"
   ]
  },
  {
   "cell_type": "markdown",
   "metadata": {},
   "source": [
    "Before diving into the algorithm, it is worthwhile to revisit the issue of overshooting in the original Grover search algorithm.  \n",
    "\n",
    "We repeat the example from qiskit textbook where the target state is $\\ket{11}$. But instead of stopping after one iteration, if we keep on applying the Grover operator (Oracle and Diffusion), we can demonstrate the overshooting.\n",
    "\n"
   ]
  },
  {
   "cell_type": "code",
   "execution_count": 174,
   "metadata": {
    "tags": [
     "hide-input"
    ]
   },
   "outputs": [],
   "source": [
    "def initialize_s(qc, qubits):\n",
    "    \"\"\"Apply a H-gate to 'qubits' in qc\"\"\"\n",
    "    for q in qubits:\n",
    "        qc.h(q)\n",
    "    return qc"
   ]
  },
  {
   "cell_type": "code",
   "execution_count": 175,
   "metadata": {},
   "outputs": [
    {
     "data": {
      "text/html": [
       "<pre style=\"word-wrap: normal;white-space: pre;background: #fff0;line-height: 1.1;font-family: &quot;Courier New&quot;,Courier,monospace\">     ┌───┐\n",
       "q_0: ┤ H ├\n",
       "     ├───┤\n",
       "q_1: ┤ H ├\n",
       "     └───┘</pre>"
      ],
      "text/plain": [
       "     ┌───┐\n",
       "q_0: ┤ H ├\n",
       "     ├───┤\n",
       "q_1: ┤ H ├\n",
       "     └───┘"
      ]
     },
     "execution_count": 175,
     "metadata": {},
     "output_type": "execute_result"
    }
   ],
   "source": [
    "n = 2\n",
    "grover_circuit = QuantumCircuit(n)\n",
    "grover_circuit = initialize_s(grover_circuit, [0,1])\n",
    "grover_circuit.draw()"
   ]
  },
  {
   "cell_type": "code",
   "execution_count": 176,
   "metadata": {},
   "outputs": [],
   "source": [
    "def grover_iteration_U2(grover_circuit):\n",
    "        grover_circuit.cz(0,1) # Oracle\n",
    "        grover_circuit.draw()\n",
    "\n",
    "        #(U_s)\n",
    "        grover_circuit.h([0,1]) \n",
    "        grover_circuit.z([0,1])\n",
    "        grover_circuit.cz(0,1)\n",
    "        grover_circuit.h([0,1])\n",
    "\n",
    "\n",
    "def Complete_circuit(n=2, N_iter=1):\n",
    "    grover_circuit = QuantumCircuit(n)\n",
    "    grover_circuit = initialize_s(grover_circuit, [0,1])\n",
    "    #grover_circuit.draw()\n",
    "    N_iterations=N_iter\n",
    "    for i in range(N_iterations):\n",
    "        \n",
    "        grover_iteration_U2(grover_circuit)\n",
    "        \n",
    "    \n",
    "    return grover_circuit\n"
   ]
  },
  {
   "cell_type": "markdown",
   "metadata": {},
   "source": [
    "If we rotate only once, we should get the target state. \n",
    "This is verified by calculating the quantum state fidelity of the output state with the target state."
   ]
  },
  {
   "cell_type": "code",
   "execution_count": 177,
   "metadata": {},
   "outputs": [],
   "source": [
    "grover_circuit=Complete_circuit(n=2, N_iter=1)"
   ]
  },
  {
   "cell_type": "code",
   "execution_count": 178,
   "metadata": {},
   "outputs": [
    {
     "data": {
      "text/plain": [
       "1.0"
      ]
     },
     "execution_count": 178,
     "metadata": {},
     "output_type": "execute_result"
    }
   ],
   "source": [
    "from qiskit.quantum_info import state_fidelity\n",
    "\n",
    "backend = Aer.get_backend('statevector_simulator')\n",
    "job = execute(grover_circuit, backend)\n",
    "qc_state = job.result().get_statevector(grover_circuit)\n",
    "\n",
    "\n",
    "target_vector = np.array([0.0, 0.0, 0.0, 1.0])\n",
    "\n",
    "\n",
    "state_fidelity(target_vector,qc_state)"
   ]
  },
  {
   "cell_type": "markdown",
   "metadata": {},
   "source": [
    "We get a fidelity $=1$ as expected. However, we see periodicity in the fidelity if we continue to iterate as a consequence of the overshooting."
   ]
  },
  {
   "cell_type": "code",
   "execution_count": 179,
   "metadata": {},
   "outputs": [],
   "source": [
    "N_it_max=10"
   ]
  },
  {
   "cell_type": "code",
   "execution_count": 180,
   "metadata": {},
   "outputs": [],
   "source": [
    "\n",
    "\n",
    "backend = Aer.get_backend('statevector_simulator')\n",
    "\n",
    "target_vector = np.array([0.0, 0.0, 0.0, 1.0])\n",
    "\n",
    "fidelity=[]\n",
    "\n",
    "state_vecs=[]\n",
    "\n",
    "for i in range(1, N_it_max):\n",
    "    grover_circuit=Complete_circuit(n=2, N_iter=i)\n",
    "    job = execute(grover_circuit, backend)\n",
    "    qc_state = job.result().get_statevector(grover_circuit)\n",
    "\n",
    "    #state_fidelity(target_vector,qc_state)\n",
    "    state_vecs.append(qc_state)\n",
    "    \n",
    "    fidelity.append( state_fidelity(target_vector,qc_state) )\n",
    "    \n"
   ]
  },
  {
   "cell_type": "markdown",
   "metadata": {},
   "source": [
    "We then plot the fidelity against the number of iterations"
   ]
  },
  {
   "cell_type": "code",
   "execution_count": 181,
   "metadata": {
    "tags": [
     "hide-input"
    ]
   },
   "outputs": [
    {
     "data": {
      "image/png": "[encoded data removed]",
      "text/plain": [
       "<Figure size 432x288 with 1 Axes>"
      ]
     },
     "metadata": {
      "needs_background": "light"
     },
     "output_type": "display_data"
    }
   ],
   "source": [
    "import matplotlib.pyplot as plt\n",
    "x=range(1,N_it_max)\n",
    "\n",
    "plt.plot(x, fidelity)\n",
    "\n",
    "plt.xlabel(\"Number of iterations\")\n",
    "\n",
    "plt.ylabel(\"Quantum Fidelity\")\n",
    "\n",
    "plt.title(\"Periodicity in Grover iterates\")\n",
    "\n",
    "plt.scatter(x, fidelity)\n",
    "plt.savefig(\"per_gro_it\")\n",
    "plt.show()"
   ]
  },
  {
   "cell_type": "markdown",
   "metadata": {},
   "source": [
    "# Fixed point Search"
   ]
  },
  {
   "cell_type": "code",
   "execution_count": 182,
   "metadata": {},
   "outputs": [],
   "source": [
    "from qiskit.quantum_info.operators import Operator, Pauli\n"
   ]
  },
  {
   "cell_type": "markdown",
   "metadata": {},
   "source": [
    "We construct the phase shifted operators (oracle and diffusion) in a similar way to that of the non-fixed point Grover search algorithm. "
   ]
  },
  {
   "cell_type": "code",
   "execution_count": 189,
   "metadata": {},
   "outputs": [],
   "source": [
    "theta=np.pi/3\n",
    "\n",
    "#Oracle\n",
    "Ora = Operator([[1, 0, 0, 0], [0, 1, 0, 0], [0, 0, 1, 0], [0, 0, 0, np.exp(1j*theta)]])\n",
    "\n",
    "## Both these operators work since they differ by a global phase\n",
    "#Rs = Operator([[np.exp(1j*theta), 0, 0, 0], [0, 1, 0, 0], [0, 0, 1, 0], [0, 0, 0, 1]])\n",
    "Rs= Operator([[1, 0, 0, 0], [0, np.exp(-1j*theta), 0, 0], [0, 0, np.exp(-1j*theta), 0], [0, 0, 0, np.exp(-1j*theta)  ]])\n",
    "\n"
   ]
  },
  {
   "cell_type": "markdown",
   "metadata": {},
   "source": [
    "We can either directly applying the oracles or transpile the unitary circuit into single qubit gates here. In general into 1 and 2 qubit gates\n",
    "          \n",
    "We chose to use the operator directly as it is more informative for this example with 2 qubits."
   ]
  },
  {
   "cell_type": "code",
   "execution_count": 184,
   "metadata": {},
   "outputs": [],
   "source": [
    "                        \n",
    "def fixed_point_grover(N_iter):\n",
    "\n",
    "\n",
    "    if N_iter==1:\n",
    "\n",
    "        fixed_grover_circuit = QuantumCircuit(n)\n",
    "        fixed_grover_circuit = initialize_s(fixed_grover_circuit, [0,1])\n",
    "\n",
    "        #print( fixed_grover_circuit.draw() )\n",
    "\n",
    "        ## 1st iteration    \n",
    "        fixed_grover_circuit.append(Ora,[0,1])\n",
    "        fixed_grover_circuit.draw()\n",
    "        \n",
    "        #(U_s)\n",
    "        fixed_grover_circuit.h([0,1]) \n",
    "        fixed_grover_circuit.append(Rs,[0,1])\n",
    "        fixed_grover_circuit.h([0,1])\n",
    "    \n",
    "        return fixed_grover_circuit\n",
    "    \n",
    "    else:\n",
    "         \n",
    "        fixed_grover_circuit = QuantumCircuit(n)\n",
    "        \n",
    "        op=Operator(fixed_point_grover(N_iter-1))\n",
    "                \n",
    "        #Adjoint of the opeartor\n",
    "        adop=op.adjoint()\n",
    "        \n",
    "        \n",
    "        fixed_grover_circuit.append(op,[0,1])\n",
    "        #print(fixed_grover_circuit.draw())\n",
    "        \n",
    "        fixed_grover_circuit.append(Ora,[0,1])\n",
    " \n",
    "        fixed_grover_circuit.append(adop,[0,1])\n",
    "\n",
    "        #(U_s)\n",
    "        #fixed_grover_circuit.h([0,1]) \n",
    "        fixed_grover_circuit.append(Rs,[0,1])\n",
    "        #fixed_grover_circuit.h([0,1])\n",
    "        \n",
    "        fixed_grover_circuit.append(op,[0,1])\n",
    "        \n",
    "        \n",
    "        return fixed_grover_circuit"
   ]
  },
  {
   "cell_type": "code",
   "execution_count": 185,
   "metadata": {},
   "outputs": [
    {
     "data": {
      "image/png": "[encoded data removed]",
      "text/plain": [
       "<Figure size 504x360 with 1 Axes>"
      ]
     },
     "execution_count": 185,
     "metadata": {},
     "output_type": "execute_result"
    }
   ],
   "source": [
    "\n",
    "N_it_max=10\n",
    "\n",
    "fixedgrover=fixed_point_grover(N_it_max)\n",
    "\n",
    "fixedgrover.measure_all()\n",
    "\n",
    "qasm_simulator = Aer.get_backend('qasm_simulator')\n",
    "shots = 1024\n",
    "\n",
    "results = execute(fixedgrover, backend=qasm_simulator, shots=shots).result()\n",
    "answer = results.get_counts()\n",
    "plot_histogram(answer)"
   ]
  },
  {
   "cell_type": "code",
   "execution_count": 186,
   "metadata": {},
   "outputs": [],
   "source": [
    "from qiskit.quantum_info import state_fidelity\n",
    "\n",
    "backend = Aer.get_backend('statevector_simulator')\n",
    "\n",
    "target_vector = np.array([0.0, 0.0, 0.0, 1.0])\n",
    "\n",
    "fidelity=[]\n",
    "\n",
    "state_vecs=[]\n",
    "\n",
    "for i in range(1, N_it_max):\n",
    "    #grover_circuit=Complete_circuit(n=2, N_iter=i)\n",
    "    #job = execute(grover_circuit, backend)\n",
    "    fixedgrover=fixed_point_grover(i)\n",
    "    job = execute(fixedgrover, backend)\n",
    "    qc_state = job.result().get_statevector(fixedgrover)\n",
    "\n",
    "    #state_fidelity(target_vector,qc_state)\n",
    "    state_vecs.append(qc_state)\n",
    "    \n",
    "    fidelity.append( state_fidelity(target_vector,qc_state) )"
   ]
  },
  {
   "cell_type": "markdown",
   "metadata": {},
   "source": [
    "Replotting the fidelity against iterations. Now, we have used fixed point search algorithm. Thus the fidelity saturates idicating we always converge towards the target state."
   ]
  },
  {
   "cell_type": "code",
   "execution_count": 187,
   "metadata": {},
   "outputs": [
    {
     "data": {
      "image/png": "[encoded data removed]",
      "text/plain": [
       "<Figure size 432x288 with 1 Axes>"
      ]
     },
     "metadata": {
      "needs_background": "light"
     },
     "output_type": "display_data"
    }
   ],
   "source": [
    "import matplotlib.pyplot as plt\n",
    "\n",
    "\n",
    "x=range(1,N_it_max)\n",
    "plt.xticks(range(1,N_it_max,2))\n",
    "\n",
    "plt.ylabel(\"Quantum Fidelity\")\n",
    "plt.xlabel(\"Number of iterations\")\n",
    "\n",
    "plt.title(\"Fixed point search\")\n",
    "\n",
    "plt.plot(x, fidelity)\n",
    "plt.scatter(x, fidelity)\n",
    "plt.show()"
   ]
  },
  {
   "cell_type": "markdown",
   "metadata": {},
   "source": [
    "It is important to note that there is an increase in the number of gates needed for each iterations unlike the Grover search algorithm. Some of the issues were alleviated in the paper \"Fixed-Point Quantum Search with an Optimal Number of Queries\" by Chuang et al. [2]\n",
    "\n",
    "The advantage over classical algorithms can be better understood with an example. An unknown fraction $f=\\frac{M}{N}$, of the states are marked. If $f$ is uniformly distributed between $1-\\epsilon$ and $1$ where $\\epsilon \\in (0,\\epsilon_{0})$. \n",
    "Also, $||G_{o,ts}||^{2}=1-\\epsilon=f$. \n",
    "Classically, the very first guess will fail with probability $1-f$. Both first and second guess will fail w.p. $(1-f)^2$. Since f is unknown, the overall failure probability can be computed to be $\\frac{\\epsilon_{0}^{2}}{3}$\n",
    "\n",
    "The very first iteration (0th order i.e. G_{o,ts} ) yields the equal superposition state. However, one application of the fixed point Grover iteration gives us $||G_{1,ts}||^{2}=1-\\epsilon^{3}$. Thus the overall failure probability becomes $\\frac{\\epsilon_{0}^3}{3}$ which is smaller than the classical counterpart, see [1]."
   ]
  },
  {
   "cell_type": "code",
   "execution_count": 188,
   "metadata": {},
   "outputs": [
    {
     "data": {
      "text/html": [
       "<h3>Version Information</h3><table><tr><th>Qiskit Software</th><th>Version</th></tr><tr><td>Qiskit</td><td>0.26.2</td></tr><tr><td>Terra</td><td>0.17.4</td></tr><tr><td>Aer</td><td>0.8.2</td></tr><tr><td>Ignis</td><td>0.6.0</td></tr><tr><td>Aqua</td><td>0.9.1</td></tr><tr><td>IBM Q Provider</td><td>0.13.1</td></tr><tr><th>System information</th></tr><tr><td>Python</td><td>3.7.7 (default, May  6 2020, 04:59:01) \n",
       "[Clang 4.0.1 (tags/RELEASE_401/final)]</td></tr><tr><td>OS</td><td>Darwin</td></tr><tr><td>CPUs</td><td>2</td></tr><tr><td>Memory (Gb)</td><td>8.0</td></tr><tr><td colspan='2'>Thu Jun 10 21:03:45 2021 EDT</td></tr></table>"
      ],
      "text/plain": [
       "<IPython.core.display.HTML object>"
      ]
     },
     "metadata": {},
     "output_type": "display_data"
    },
    {
     "data": {
      "text/html": [
       "<div style='width: 100%; background-color:#d5d9e0;padding-left: 10px; padding-bottom: 10px; padding-right: 10px; padding-top: 5px'><h3>This code is a part of Qiskit</h3><p>&copy; Copyright IBM 2017, 2021.</p><p>This code is licensed under the Apache License, Version 2.0. You may<br>obtain a copy of this license in the LICENSE.txt file in the root directory<br> of this source tree or at http://www.apache.org/licenses/LICENSE-2.0.<p>Any modifications or derivative works of this code must retain this<br>copyright notice, and modified files need to carry a notice indicating<br>that they have been altered from the originals.</p></div>"
      ],
      "text/plain": [
       "<IPython.core.display.HTML object>"
      ]
     },
     "metadata": {},
     "output_type": "display_data"
    }
   ],
   "source": [
    "import qiskit.tools.jupyter\n",
    "%qiskit_version_table\n",
    "%qiskit_copyright"
   ]
  }
 ],
 "metadata": {
  "kernelspec": {
   "display_name": "Python 3",
   "language": "python",
   "name": "python3"
  },
  "language_info": {
   "codemirror_mode": {
    "name": "ipython",
    "version": 3
   },
   "file_extension": ".py",
   "mimetype": "text/x-python",
   "name": "python",
   "nbconvert_exporter": "python",
   "pygments_lexer": "ipython3",
   "version": "3.7.7"
  }
 },
 "nbformat": 4,
 "nbformat_minor": 2
}
