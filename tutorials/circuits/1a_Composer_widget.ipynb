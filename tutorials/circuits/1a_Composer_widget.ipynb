{
 "cells": [
  {
   "cell_type": "markdown",
   "metadata": {},
   "source": [
    "# Circuit Composer and Visualizer widgets"
   ]
  },
  {
   "cell_type": "code",
   "execution_count": 1,
   "metadata": {},
   "outputs": [
    {
     "name": "stderr",
     "output_type": "stream",
     "text": [
      "/opt/conda/lib/python3.7/site-packages/qiskit/providers/ibmq/ibmqfactory.py:192: UserWarning: Timestamps in IBMQ backend properties, jobs, and job results are all now in local time instead of UTC.\n",
      "  warnings.warn('Timestamps in IBMQ backend properties, jobs, and job results '\n"
     ]
    }
   ],
   "source": [
    "%matplotlib inline\n",
    "# Importing standard Qiskit libraries\n",
    "from qiskit import QuantumCircuit, execute, Aer, IBMQ\n",
    "from qiskit.compiler import transpile, assemble\n",
    "from qiskit.tools.jupyter import *\n",
    "from qiskit.visualization import *\n",
    "from iqx import *\n",
    "\n",
    "# Loading your IBM Q account(s)\n",
    "provider = IBMQ.load_account()"
   ]
  },
  {
   "cell_type": "markdown",
   "metadata": {},
   "source": [
    "The Circuit Composer widget is equivalent to the IBM Quantum Experience graphical editor and can be used to create and display circuits. \n",
    "\n",
    "Just like in Quantum Experience, you can drag and drop operations onto the qubit wires to build a circuit. When used to display an existing circuit, it is a powerful, interactive viewer.  It allows for unlimited side scrolling of longer circuits, clicking and viewing internals of composite gates, and so on. \n",
    "\n",
    "To use the composer widget, enter the following code in a Jupyter notebook cell:"
   ]
  },
  {
   "cell_type": "code",
   "execution_count": 2,
   "metadata": {},
   "outputs": [
    {
     "data": {
      "application/vnd.jupyter.widget-view+json": {
       "model_id": "fc1c5588b9f042988a5c02f87a4c2038",
       "version_major": 2,
       "version_minor": 0
      },
      "text/plain": [
       "CircuitComposer(circuit=<qiskit.circuit.quantumcircuit.QuantumCircuit object at 0x7f5daa5ba890>)"
      ]
     },
     "metadata": {},
     "output_type": "display_data"
    }
   ],
   "source": [
    "from iqx import CircuitComposer\n",
    "editor = CircuitComposer()\n",
    "editor"
   ]
  },
  {
   "cell_type": "markdown",
   "metadata": {},
   "source": [
    "To view the Qiskit code as you edit your circuit, check the box below the composer. The Qiskit code for your circuit is shown in a new cell.\n",
    "\n",
    "It is also possible to import a circuit from Quantum Experience or code a Qiskit circuit, and then view it in the widget. For example:"
   ]
  },
  {
   "cell_type": "code",
   "execution_count": 3,
   "metadata": {},
   "outputs": [
    {
     "data": {
      "text/plain": [
       "<qiskit.circuit.instructionset.InstructionSet at 0x7f5daa5f7650>"
      ]
     },
     "execution_count": 3,
     "metadata": {},
     "output_type": "execute_result"
    }
   ],
   "source": [
    "from qiskit.circuit import QuantumCircuit\n",
    "qc = QuantumCircuit(2, 2)\n",
    "\n",
    "# build your circuit here:\n",
    "qc.h(0)\n",
    "qc.cx(0, 1)"
   ]
  },
  {
   "cell_type": "markdown",
   "metadata": {},
   "source": [
    "Open the circuit in the widget as follows:"
   ]
  },
  {
   "cell_type": "code",
   "execution_count": 7,
   "metadata": {},
   "outputs": [
    {
     "data": {
      "application/vnd.jupyter.widget-view+json": {
       "model_id": "acb13a226fe24dbbbf7796cb58782acd",
       "version_major": 2,
       "version_minor": 0
      },
      "text/plain": [
       "CircuitComposer(circuit=<qiskit.circuit.quantumcircuit.QuantumCircuit object at 0x7f5daa6599d0>)"
      ]
     },
     "metadata": {},
     "output_type": "display_data"
    }
   ],
   "source": [
    "from iqx import CircuitComposer\n",
    "editor2 = CircuitComposer(circuit=qc) #qc is the QuantumCircuit created above\n",
    "editor2"
   ]
  },
  {
   "cell_type": "markdown",
   "metadata": {},
   "source": [
    "After creating a circuit in the widget, you can continue to work with it like any other circuit; adding operations directly from Qiskit code, running the circuit on a quantum device, and so on. "
   ]
  },
  {
   "cell_type": "code",
   "execution_count": 5,
   "metadata": {},
   "outputs": [
    {
     "data": {
      "image/png": "[encoded data removed]",
      "text/plain": [
       "<Figure size 327.252x204.68 with 1 Axes>"
      ]
     },
     "execution_count": 5,
     "metadata": {},
     "output_type": "execute_result"
    }
   ],
   "source": [
    "qc2 = editor2.circuit\n",
    "\n",
    "qc2.x(0)\n",
    "qc2.measure((0,1), (0,1))\n",
    "\n",
    "qc2.draw()"
   ]
  },
  {
   "cell_type": "markdown",
   "metadata": {},
   "source": [
    "If you want to visualize a circuit with the Circuit Composer look and feel but do not need interactivity, use the Circuit Visualizer instead.  \n",
    "\n",
    "To use the Circuit Visualizer, enter this code in your notebook:"
   ]
  },
  {
   "cell_type": "code",
   "execution_count": 6,
   "metadata": {},
   "outputs": [
    {
     "data": {
      "application/vnd.jupyter.widget-view+json": {
       "model_id": "9d025dab032a4a1fa1dd0fd2b5fd05fb",
       "version_major": 2,
       "version_minor": 0
      },
      "text/plain": [
       "CircuitVisualizer(circuit=<qiskit.circuit.quantumcircuit.QuantumCircuit object at 0x7f5daa6599d0>)"
      ]
     },
     "metadata": {},
     "output_type": "display_data"
    }
   ],
   "source": [
    "from iqx import CircuitVisualizer\n",
    "visualizer = CircuitVisualizer(circuit=qc)\n",
    "visualizer"
   ]
  },
  {
   "cell_type": "markdown",
   "metadata": {},
   "source": [
    "**Note:** The following gates in Qiskit do not belong to qelib1.inc and are not supported by these widgets:\n",
    "-\t`ms(theta, qubits)`\n",
    "-\t`r(theta, phi, qubit)`\n",
    "-\t`rcccx(control_qubit1, control_qubit2, control_qubit3, target_qubit)`\n",
    "-   `ryy(theta, qubit1, qubit2)`\n",
    "-\t`rzx(self, theta, qubit1, qubit2)`\n",
    "-\t`iswap(self, qubit1, qubit2)`\n",
    "-\t`mcu1(self, lam, control_qubits, target_qubit)`\n",
    "-\t`dcx(self, qubit1, qubit2)`\n",
    "\n",
    "If you create a circuit using one of these gates and then try to use the Composer or Viewer widget, you will get an error message and a circuit with no gates will be displayed."
   ]
  },
  {
   "cell_type": "code",
   "execution_count": null,
   "metadata": {},
   "outputs": [],
   "source": []
  }
 ],
 "metadata": {
  "kernelspec": {
   "display_name": "Python 3",
   "language": "python",
   "name": "python3"
  },
  "language_info": {
   "codemirror_mode": {
    "name": "ipython",
    "version": 3
   },
   "file_extension": ".py",
   "mimetype": "text/x-python",
   "name": "python",
   "nbconvert_exporter": "python",
   "pygments_lexer": "ipython3",
   "version": "3.7.8"
  },
  "widgets": {
   "application/vnd.jupyter.widget-state+json": {
    "state": {
     "013d5b8ef1774c758d0dc08e095420c0": {
      "model_module": "@jupyter-widgets/base",
      "model_module_version": "1.2.0",
      "model_name": "LayoutModel",
      "state": {}
     },
     "031baeba20c3413db8b3b233e5b08f7e": {
      "model_module": "@jupyter-widgets/base",
      "model_module_version": "1.2.0",
      "model_name": "LayoutModel",
      "state": {
       "width": "190px"
      }
     },
     "050223477f7547b29e42cab332acd273": {
      "model_module": "@jupyter-widgets/controls",
      "model_module_version": "1.5.0",
      "model_name": "ButtonModel",
      "state": {
       "button_style": "primary",
       "description": "Clear",
       "layout": "IPY_MODEL_276077ba8182419999d3007a8b7827c4",
       "style": "IPY_MODEL_be829a57e6d84aceb4e41ddf995bc5dd"
      }
     },
     "0705e7d54dda429cb828534e7c823680": {
      "model_module": "@jupyter-widgets/controls",
      "model_module_version": "1.5.0",
      "model_name": "HTMLModel",
      "state": {
       "layout": "IPY_MODEL_7a2efd861dea44788a049c86bd47d464",
       "style": "IPY_MODEL_e722ac3b3cb24784bdf4546a7416e2f5",
       "value": "<p style='font-family: IBM Plex Sans, Arial, Helvetica, sans-serif; font-size: 20px; font-weight: medium;'>Circuit Properties</p>"
      }
     },
     "10251f1492e54657ba55dee7ba4c39f8": {
      "model_module": "@jupyter-widgets/controls",
      "model_module_version": "1.5.0",
      "model_name": "HTMLModel",
      "state": {
       "layout": "IPY_MODEL_d2332ef888e645d9ba0e1314b4e0e966",
       "style": "IPY_MODEL_d9b012233fd04d649897ec3cd140b624",
       "value": "<h5>Job ID</h5>"
      }
     },
     "10475a85489f4475ad1d15f2b5671a5c": {
      "model_module": "@jupyter-widgets/base",
      "model_module_version": "1.2.0",
      "model_name": "LayoutModel",
      "state": {
       "width": "95px"
      }
     },
     "123e016c539d4cb2866d997f9a6ac912": {
      "model_module": "@jupyter-widgets/controls",
      "model_module_version": "1.5.0",
      "model_name": "GridBoxModel",
      "state": {
       "children": [
        "IPY_MODEL_050223477f7547b29e42cab332acd273"
       ],
       "layout": "IPY_MODEL_b3c09cbf09cb4ed88c1ef91a9ee6348d"
      }
     },
     "157f910e0e09406fb888a07e18fdd5b7": {
      "model_module": "@jupyter-widgets/controls",
      "model_module_version": "1.5.0",
      "model_name": "ButtonModel",
      "state": {
       "button_style": "primary",
       "description": "Clear",
       "layout": "IPY_MODEL_fcd6b26c63774b7798fdc298eb01306e",
       "style": "IPY_MODEL_15ede1efa79f4a80a6b4cf10864a7ce0"
      }
     },
     "15ede1efa79f4a80a6b4cf10864a7ce0": {
      "model_module": "@jupyter-widgets/controls",
      "model_module_version": "1.5.0",
      "model_name": "ButtonStyleModel",
      "state": {}
     },
     "17fa791c5a224cf8989eba5dbf409b84": {
      "model_module": "@jupyter-widgets/controls",
      "model_module_version": "1.5.0",
      "model_name": "HTMLModel",
      "state": {
       "layout": "IPY_MODEL_a0c02a73a2504ebb9168c7c21c57a7e5",
       "style": "IPY_MODEL_fa4269a879144ff8a1f158470da71c07",
       "value": "<p style='font-family: IBM Plex Sans, Arial, Helvetica, sans-serif; font-size: 20px; font-weight: medium;'>Circuit Properties</p>"
      }
     },
     "18986868697846df83b71139aa55d9ec": {
      "model_module": "@jupyter-widgets/base",
      "model_module_version": "1.2.0",
      "model_name": "LayoutModel",
      "state": {
       "margin": "0px 0px 10px 0px"
      }
     },
     "1a7b4f35d000489383240dc7ca32a030": {
      "model_module": "@quantum/ibm-q-composer-jupyter-widget",
      "model_module_version": "^0.1.14",
      "model_name": "CircuitComposerModel",
      "state": {
       "_model_module_version": "^0.1.14",
       "_view_module_version": "^0.1.14",
       "circuit": "\"OPENQASM 2.0;\\ninclude \\\"qelib1.inc\\\";\\n\\nqreg q[3];\\ncreg c[3];\\n\\nch q[2],q[0];\\ncx q[0],q[1];\\nt q[0];\\nsdg q[1];\\nmeasure q[0] -> c[0];\\nmeasure q[1] -> c[1];\\nmeasure q[2] -> c[2];\"",
       "layout": "IPY_MODEL_6bec986314b6498e9040559ed72a22ba",
       "qiskit_code_cell_index": -1
      }
     },
     "1b090efd10374ba9a70cb50038a2673f": {
      "model_module": "@jupyter-widgets/controls",
      "model_module_version": "1.5.0",
      "model_name": "HTMLModel",
      "state": {
       "layout": "IPY_MODEL_89812a1f77084996a65506c70d91b2a0",
       "style": "IPY_MODEL_5142a52f59414f49869ab580b892e773",
       "value": "<h5>Queue</h5>"
      }
     },
     "212c7ef54b174526a76b8bf4b9fe206c": {
      "model_module": "@jupyter-widgets/controls",
      "model_module_version": "1.5.0",
      "model_name": "DescriptionStyleModel",
      "state": {
       "description_width": ""
      }
     },
     "213e4621cd34476f9965c7eeb870627e": {
      "model_module": "@jupyter-widgets/base",
      "model_module_version": "1.2.0",
      "model_name": "LayoutModel",
      "state": {
       "width": "95px"
      }
     },
     "22137e509b2d4d0ebb382e16eeefafeb": {
      "model_module": "@jupyter-widgets/controls",
      "model_module_version": "1.5.0",
      "model_name": "DescriptionStyleModel",
      "state": {
       "description_width": ""
      }
     },
     "238cdebc1ce54fa2b40e3e8fe6469fb0": {
      "model_module": "@jupyter-widgets/controls",
      "model_module_version": "1.5.0",
      "model_name": "HTMLModel",
      "state": {
       "layout": "IPY_MODEL_4e18bf3efaaf41c291b13b5b6b6f643b",
       "style": "IPY_MODEL_662d330ee31e4a26905b65d3e5d1156c",
       "value": "<h5>Message</h5>"
      }
     },
     "276077ba8182419999d3007a8b7827c4": {
      "model_module": "@jupyter-widgets/base",
      "model_module_version": "1.2.0",
      "model_name": "LayoutModel",
      "state": {
       "grid_area": "right",
       "padding": "0px 0px 0px 0px",
       "width": "70px"
      }
     },
     "28eb4cd96203460baba675f4ad17d724": {
      "model_module": "@quantum/ibm-q-composer-jupyter-widget",
      "model_module_version": "^0.1.15",
      "model_name": "CircuitComposerModel",
      "state": {
       "_model_module_version": "^0.1.15",
       "_view_module_version": "^0.1.15",
       "circuit": "\"OPENQASM 2.0;\\ninclude \\\"qelib1.inc\\\";\\n\\nqreg q[3];\\ncreg c[3];\\n\\n\"",
       "layout": "IPY_MODEL_ca4bac309fab4e9980db0a4358204768",
       "qiskit_code_cell_index": -1
      }
     },
     "29615c302cc94fbea4f1f88bca20ae3f": {
      "model_module": "@jupyter-widgets/base",
      "model_module_version": "1.2.0",
      "model_name": "LayoutModel",
      "state": {
       "margin": "0px 0px 0px 37px",
       "width": "600px"
      }
     },
     "2d9dc4a7d8ae4a6c8c9bf0132158eb31": {
      "model_module": "@jupyter-widgets/base",
      "model_module_version": "1.2.0",
      "model_name": "LayoutModel",
      "state": {
       "margin": "0px 0px 0px 37px",
       "width": "600px"
      }
     },
     "3004f6d27b994fb2bf3fb9cebaef62d4": {
      "model_module": "@jupyter-widgets/controls",
      "model_module_version": "1.5.0",
      "model_name": "HTMLModel",
      "state": {
       "layout": "IPY_MODEL_742a547b4de447579e818583a93280fb",
       "style": "IPY_MODEL_b92653eb76984a41a48534ae783c5856",
       "value": "<h5>Queue</h5>"
      }
     },
     "3126b9eabc344b26abb5b6813198fe98": {
      "model_module": "@jupyter-widgets/base",
      "model_module_version": "1.2.0",
      "model_name": "LayoutModel",
      "state": {}
     },
     "31bd19ba076b4d17b74b93dfde10555e": {
      "model_module": "@quantum/ibm-q-composer-jupyter-widget",
      "model_module_version": "^0.1.15",
      "model_name": "CircuitComposerModel",
      "state": {
       "_model_module_version": "^0.1.15",
       "_view_module_version": "^0.1.15",
       "circuit": "\"OPENQASM 2.0;\\ninclude \\\"qelib1.inc\\\";\\n\\nqreg q[3];\\ncreg c[3];\\n\\n\"",
       "layout": "IPY_MODEL_c034a72b5627444b99f6e278007551bd",
       "qiskit_code_cell_index": -1
      }
     },
     "33a60fcd187243f4ae822ed66bf4ee08": {
      "model_module": "@jupyter-widgets/base",
      "model_module_version": "1.2.0",
      "model_name": "LayoutModel",
      "state": {}
     },
     "3748bb3848bc4c5894b861965a159f11": {
      "model_module": "@jupyter-widgets/controls",
      "model_module_version": "1.5.0",
      "model_name": "HBoxModel",
      "state": {
       "children": [
        "IPY_MODEL_bb421bf887664e5ea50d36ae3ca40eab",
        "IPY_MODEL_d17d932220884a2587edc100d1df4250",
        "IPY_MODEL_b93dc191bbbf4f1bb805cb145e8d8345",
        "IPY_MODEL_ce0fb64ca92d48bb9c5252ea68e90539",
        "IPY_MODEL_44941bf90bed43fb908024f8063ee7cc"
       ],
       "layout": "IPY_MODEL_d1715cfa20844c92aaafd4735290018e"
      }
     },
     "3e42d25381e54b308622269aaf9071a9": {
      "model_module": "@jupyter-widgets/base",
      "model_module_version": "1.2.0",
      "model_name": "LayoutModel",
      "state": {}
     },
     "404b26598adc41e48a13e6e9d1c6104a": {
      "model_module": "@quantum/ibm-q-composer-jupyter-widget",
      "model_module_version": "^0.1.14",
      "model_name": "CircuitComposerModel",
      "state": {
       "_model_module_version": "^0.1.14",
       "_view_module_version": "^0.1.14",
       "circuit": "\"OPENQASM 2.0;\\ninclude \\\"qelib1.inc\\\";\\n\\nqreg q[2];\\ncreg c[2];\\n\\nh q[0];\\ncx q[0],q[1];\"",
       "layout": "IPY_MODEL_7937f53f2310495388891b87199303e5"
      }
     },
     "42b14381cfc9497fb7f1dd5380f2b8af": {
      "model_module": "@jupyter-widgets/controls",
      "model_module_version": "1.5.0",
      "model_name": "HTMLModel",
      "state": {
       "layout": "IPY_MODEL_10475a85489f4475ad1d15f2b5671a5c",
       "style": "IPY_MODEL_dc34d85e910b489f929b2611951e27e7",
       "value": "<h5>Status</h5>"
      }
     },
     "42fcbeba60624680a786075e93ebe052": {
      "model_module": "@jupyter-widgets/controls",
      "model_module_version": "1.5.0",
      "model_name": "HTMLModel",
      "state": {
       "layout": "IPY_MODEL_f096742a63734347b18aee389bca47c3",
       "style": "IPY_MODEL_92520d8ff6cb4f68ad7f985a737dd976",
       "value": "<h5>Status</h5>"
      }
     },
     "44941bf90bed43fb908024f8063ee7cc": {
      "model_module": "@jupyter-widgets/controls",
      "model_module_version": "1.5.0",
      "model_name": "HTMLModel",
      "state": {
       "layout": "IPY_MODEL_aaad5cd6387e40feaf1f50ef77fd4461",
       "style": "IPY_MODEL_e8e22ae6fc6f4fafaf2db3b2b448c21c",
       "value": "<h5>Message</h5>"
      }
     },
     "4e18bf3efaaf41c291b13b5b6b6f643b": {
      "model_module": "@jupyter-widgets/base",
      "model_module_version": "1.2.0",
      "model_name": "LayoutModel",
      "state": {}
     },
     "4e56bd2fcd6b43f1a142895bd9f1c2e2": {
      "model_module": "@quantum/ibm-q-composer-jupyter-widget",
      "model_module_version": "^0.1.15",
      "model_name": "CircuitComposerModel",
      "state": {
       "_model_module_version": "^0.1.15",
       "_view_module_version": "^0.1.15",
       "circuit": "\"OPENQASM 2.0;\\ninclude \\\"qelib1.inc\\\";\\n\\nqreg q[2];\\ncreg c[2];\\n\\nh q[0];\\ncx q[0],q[1];\"",
       "layout": "IPY_MODEL_33a60fcd187243f4ae822ed66bf4ee08",
       "qiskit_code_cell_index": -1
      }
     },
     "5142a52f59414f49869ab580b892e773": {
      "model_module": "@jupyter-widgets/controls",
      "model_module_version": "1.5.0",
      "model_name": "DescriptionStyleModel",
      "state": {
       "description_width": ""
      }
     },
     "53c1abae7b334437b2be22a1f20f8d81": {
      "model_module": "@jupyter-widgets/base",
      "model_module_version": "1.2.0",
      "model_name": "LayoutModel",
      "state": {}
     },
     "53d00dd1b6994a5582bfdf9cacdc8f95": {
      "model_module": "@jupyter-widgets/base",
      "model_module_version": "1.2.0",
      "model_name": "LayoutModel",
      "state": {
       "grid_area": "right",
       "padding": "0px 0px 0px 0px",
       "width": "70px"
      }
     },
     "53f68d54da2a45efa110e526bb590f75": {
      "model_module": "@quantum/ibm-q-composer-jupyter-widget",
      "model_module_version": "^0.1.15",
      "model_name": "CircuitVisualizerModel",
      "state": {
       "_model_module_version": "^0.1.15",
       "_view_module_version": "^0.1.15",
       "circuit": "\"OPENQASM 2.0;\\ninclude \\\"qelib1.inc\\\";\\n\\nqreg q[2];\\ncreg c[2];\\n\\nh q[0];\\ncx q[0],q[1];\"",
       "layout": "IPY_MODEL_652c8cf8159949fc8d29e603d7c47034"
      }
     },
     "54ffefb509254c3da35b4697c5855409": {
      "model_module": "@jupyter-widgets/base",
      "model_module_version": "1.2.0",
      "model_name": "LayoutModel",
      "state": {
       "width": "190px"
      }
     },
     "558ea29371b743fcaaab1a22884a085c": {
      "model_module": "@jupyter-widgets/base",
      "model_module_version": "1.2.0",
      "model_name": "LayoutModel",
      "state": {}
     },
     "5aa83221589d4ee1bb69fcd888c91f60": {
      "model_module": "@jupyter-widgets/base",
      "model_module_version": "1.2.0",
      "model_name": "LayoutModel",
      "state": {}
     },
     "5c6f60e3179a452586ab675d5e52a1a9": {
      "model_module": "@jupyter-widgets/controls",
      "model_module_version": "1.5.0",
      "model_name": "HBoxModel",
      "state": {
       "children": [
        "IPY_MODEL_82396bb3a7b24e158e24d59aafaba665",
        "IPY_MODEL_c198dfea8caf45168e00c9ff6148bf3f",
        "IPY_MODEL_42b14381cfc9497fb7f1dd5380f2b8af",
        "IPY_MODEL_e47d48239db44be3b6021f4675afc6cd",
        "IPY_MODEL_238cdebc1ce54fa2b40e3e8fe6469fb0"
       ],
       "layout": "IPY_MODEL_2d9dc4a7d8ae4a6c8c9bf0132158eb31"
      }
     },
     "607341f9883b4203b20ad18d51a79866": {
      "model_module": "@quantum/ibm-q-composer-jupyter-widget",
      "model_module_version": "^0.1.15",
      "model_name": "CircuitComposerModel",
      "state": {
       "_model_module_version": "^0.1.15",
       "_view_module_version": "^0.1.15",
       "circuit": "\"OPENQASM 2.0;\\ninclude \\\"qelib1.inc\\\";\\n\\nqreg q[2];\\ncreg c[2];\\n\\nh q[0];\\ncx q[0],q[1];\"",
       "layout": "IPY_MODEL_802edb76d0874833a78a392214494f06",
       "qiskit_code_cell_index": -1
      }
     },
     "639da57b6d1a4ee5a0985dd8341ff181": {
      "model_module": "@quantum/ibm-q-composer-jupyter-widget",
      "model_module_version": "^0.1.15",
      "model_name": "CircuitComposerModel",
      "state": {
       "_model_module_version": "^0.1.15",
       "_view_module_version": "^0.1.15",
       "circuit": "\"OPENQASM 2.0;\\ninclude \\\"qelib1.inc\\\";\\n\\nqreg q[2];\\ncreg c[2];\\n\\nh q[0];\\ncx q[0],q[1];\"",
       "layout": "IPY_MODEL_d5c5a67b4f914b0a817a20d35a0e5dc8",
       "qiskit_code_cell_index": -1
      }
     },
     "652c8cf8159949fc8d29e603d7c47034": {
      "model_module": "@jupyter-widgets/base",
      "model_module_version": "1.2.0",
      "model_name": "LayoutModel",
      "state": {}
     },
     "6561fdae1db74d7c9575f599d990cf55": {
      "model_module": "@quantum/ibm-q-composer-jupyter-widget",
      "model_module_version": "^0.1.15",
      "model_name": "CircuitComposerModel",
      "state": {
       "_model_module_version": "^0.1.15",
       "_view_module_version": "^0.1.15",
       "circuit": "\"OPENQASM 2.0;\\ninclude \\\"qelib1.inc\\\";\\n\\nqreg q[3];\\ncreg c[3];\\n\\n\"",
       "layout": "IPY_MODEL_ab506bf40b82403ea1865088c1cd05bb",
       "qiskit_code_cell_index": -1
      }
     },
     "662d330ee31e4a26905b65d3e5d1156c": {
      "model_module": "@jupyter-widgets/controls",
      "model_module_version": "1.5.0",
      "model_name": "DescriptionStyleModel",
      "state": {
       "description_width": ""
      }
     },
     "686ac15d29d8462a9fbd0af8ba1be39b": {
      "model_module": "@quantum/ibm-q-composer-jupyter-widget",
      "model_module_version": "^0.1.14",
      "model_name": "CircuitComposerModel",
      "state": {
       "_model_module_version": "^0.1.14",
       "_view_module_version": "^0.1.14",
       "circuit": "\"OPENQASM 2.0;\\ninclude \\\"qelib1.inc\\\";\\n\\nqreg q[3];\\ncreg c[3];\\n\\n\"",
       "layout": "IPY_MODEL_5aa83221589d4ee1bb69fcd888c91f60"
      }
     },
     "6987551767e044bcb746ac3c6951bf45": {
      "model_module": "@jupyter-widgets/controls",
      "model_module_version": "1.5.0",
      "model_name": "DescriptionStyleModel",
      "state": {
       "description_width": ""
      }
     },
     "6bec986314b6498e9040559ed72a22ba": {
      "model_module": "@jupyter-widgets/base",
      "model_module_version": "1.2.0",
      "model_name": "LayoutModel",
      "state": {}
     },
     "72ad6f4b58c64410826e8f79bc8c69b9": {
      "model_module": "@jupyter-widgets/controls",
      "model_module_version": "1.5.0",
      "model_name": "ButtonStyleModel",
      "state": {}
     },
     "742a547b4de447579e818583a93280fb": {
      "model_module": "@jupyter-widgets/base",
      "model_module_version": "1.2.0",
      "model_name": "LayoutModel",
      "state": {
       "width": "70px"
      }
     },
     "748625e709c44b8e8159b1cd935fda41": {
      "model_module": "@jupyter-widgets/base",
      "model_module_version": "1.2.0",
      "model_name": "LayoutModel",
      "state": {
       "margin": "0px 0px 0px 37px",
       "width": "600px"
      }
     },
     "7690d7fa7d1c44d984f0fec4b04fa065": {
      "model_module": "@jupyter-widgets/base",
      "model_module_version": "1.2.0",
      "model_name": "LayoutModel",
      "state": {
       "width": "70px"
      }
     },
     "7937f53f2310495388891b87199303e5": {
      "model_module": "@jupyter-widgets/base",
      "model_module_version": "1.2.0",
      "model_name": "LayoutModel",
      "state": {}
     },
     "79a6700921ba465d84c1a2b4ef18f05a": {
      "model_module": "@jupyter-widgets/base",
      "model_module_version": "1.2.0",
      "model_name": "LayoutModel",
      "state": {}
     },
     "7a2efd861dea44788a049c86bd47d464": {
      "model_module": "@jupyter-widgets/base",
      "model_module_version": "1.2.0",
      "model_name": "LayoutModel",
      "state": {
       "margin": "0px 0px 10px 0px"
      }
     },
     "7e72324ae1174fe18e8e4618063d7330": {
      "model_module": "@jupyter-widgets/base",
      "model_module_version": "1.2.0",
      "model_name": "LayoutModel",
      "state": {}
     },
     "802edb76d0874833a78a392214494f06": {
      "model_module": "@jupyter-widgets/base",
      "model_module_version": "1.2.0",
      "model_name": "LayoutModel",
      "state": {}
     },
     "810a171adacf464fb7022a1d6e0ed2ef": {
      "model_module": "@jupyter-widgets/controls",
      "model_module_version": "1.5.0",
      "model_name": "HTMLModel",
      "state": {
       "layout": "IPY_MODEL_53c1abae7b334437b2be22a1f20f8d81",
       "style": "IPY_MODEL_c09db6bd2cf14840a0249bc911bbff0c",
       "value": "<h5>Message</h5>"
      }
     },
     "81ca57ced3e044d79f1a19c6b5af9ca6": {
      "model_module": "@quantum/ibm-q-composer-jupyter-widget",
      "model_module_version": "^0.1.15",
      "model_name": "CircuitComposerModel",
      "state": {
       "_model_module_version": "^0.1.15",
       "_view_module_version": "^0.1.15",
       "circuit": "\"OPENQASM 2.0;\\ninclude \\\"qelib1.inc\\\";\\n\\nqreg q[3];\\ncreg c[3];\\n\\nreset q[0];\\nh q[0];\\ns q[0];\"",
       "layout": "IPY_MODEL_013d5b8ef1774c758d0dc08e095420c0",
       "qiskit_code_cell_index": -1
      }
     },
     "81f975228f1f43819722ce6bbb71127a": {
      "model_module": "@jupyter-widgets/base",
      "model_module_version": "1.2.0",
      "model_name": "LayoutModel",
      "state": {}
     },
     "82396bb3a7b24e158e24d59aafaba665": {
      "model_module": "@jupyter-widgets/controls",
      "model_module_version": "1.5.0",
      "model_name": "HTMLModel",
      "state": {
       "layout": "IPY_MODEL_efa4f8e30b3042a6b58b27c8f55995a7",
       "style": "IPY_MODEL_d5154ee85216408a9c347132b2209bea",
       "value": "<h5>Job ID</h5>"
      }
     },
     "83e30f600d1e4300b65a4215f462bc28": {
      "model_module": "@jupyter-widgets/controls",
      "model_module_version": "1.5.0",
      "model_name": "HTMLModel",
      "state": {
       "layout": "IPY_MODEL_81f975228f1f43819722ce6bbb71127a",
       "style": "IPY_MODEL_22137e509b2d4d0ebb382e16eeefafeb",
       "value": "<h5>Message</h5>"
      }
     },
     "897892fe5bc8433eabb25a8830265f67": {
      "model_module": "@jupyter-widgets/controls",
      "model_module_version": "1.5.0",
      "model_name": "GridBoxModel",
      "state": {
       "children": [
        "IPY_MODEL_df798c90b93f4c8d933a704eea0e2950"
       ],
       "layout": "IPY_MODEL_ef2410acebe845cf8235e46a94f0c058"
      }
     },
     "89812a1f77084996a65506c70d91b2a0": {
      "model_module": "@jupyter-widgets/base",
      "model_module_version": "1.2.0",
      "model_name": "LayoutModel",
      "state": {
       "width": "70px"
      }
     },
     "9172adca89c046c7a16e6ed73b014118": {
      "model_module": "@jupyter-widgets/controls",
      "model_module_version": "1.5.0",
      "model_name": "DescriptionStyleModel",
      "state": {
       "description_width": ""
      }
     },
     "92520d8ff6cb4f68ad7f985a737dd976": {
      "model_module": "@jupyter-widgets/controls",
      "model_module_version": "1.5.0",
      "model_name": "DescriptionStyleModel",
      "state": {
       "description_width": ""
      }
     },
     "97234ccb9e694352a831e246f082a0cd": {
      "model_module": "@jupyter-widgets/base",
      "model_module_version": "1.2.0",
      "model_name": "LayoutModel",
      "state": {
       "width": "145px"
      }
     },
     "98f42ebddad540bbb2cabec117b3ff54": {
      "model_module": "@quantum/ibm-q-composer-jupyter-widget",
      "model_module_version": "^0.1.14",
      "model_name": "CircuitComposerModel",
      "state": {
       "_model_module_version": "^0.1.14",
       "_view_module_version": "^0.1.14",
       "circuit": "\"OPENQASM 2.0;\\ninclude \\\"qelib1.inc\\\";\\n\\nqreg q[3];\\ncreg c[3];\\n\\n\"",
       "layout": "IPY_MODEL_3e42d25381e54b308622269aaf9071a9"
      }
     },
     "9a8a12a97c454ea181e81db7fb0c0042": {
      "model_module": "@quantum/ibm-q-composer-jupyter-widget",
      "model_module_version": "^0.1.14",
      "model_name": "CircuitComposerModel",
      "state": {
       "_model_module_version": "^0.1.14",
       "_view_module_version": "^0.1.14",
       "circuit": "\"OPENQASM 2.0;\\ninclude \\\"qelib1.inc\\\";\\n\\nqreg q[3];\\ncreg c[3];\\n\\n\"",
       "layout": "IPY_MODEL_3126b9eabc344b26abb5b6813198fe98",
       "qiskit_code_cell_index": 5
      }
     },
     "9a901e03beea490da82d94ced48fe6e0": {
      "model_module": "@jupyter-widgets/base",
      "model_module_version": "1.2.0",
      "model_name": "LayoutModel",
      "state": {
       "width": "95px"
      }
     },
     "9ba04ec96be1470182945599094f3ae1": {
      "model_module": "@jupyter-widgets/controls",
      "model_module_version": "1.5.0",
      "model_name": "HTMLModel",
      "state": {
       "layout": "IPY_MODEL_213e4621cd34476f9965c7eeb870627e",
       "style": "IPY_MODEL_f53c86671dbf4256bbb3970c9356ee60",
       "value": "<h5>Status</h5>"
      }
     },
     "9c08c119c8504fcda84bd48507cc6c30": {
      "model_module": "@jupyter-widgets/controls",
      "model_module_version": "1.5.0",
      "model_name": "DescriptionStyleModel",
      "state": {
       "description_width": ""
      }
     },
     "9d025dab032a4a1fa1dd0fd2b5fd05fb": {
      "model_module": "@quantum/ibm-q-composer-jupyter-widget",
      "model_module_version": "^0.1.15",
      "model_name": "CircuitVisualizerModel",
      "state": {
       "_model_module_version": "^0.1.15",
       "_view_module_version": "^0.1.15",
       "circuit": "\"OPENQASM 2.0;\\ninclude \\\"qelib1.inc\\\";\\n\\nqreg q[2];\\ncreg c[2];\\n\\nh q[0];\\ncx q[0],q[1];\\nx q[0];\\nmeasure q[0] -> c[0];\\nmeasure q[1] -> c[1];\"",
       "layout": "IPY_MODEL_e2de7677e6ec4695ac87f20a9c2a2edf"
      }
     },
     "a0c02a73a2504ebb9168c7c21c57a7e5": {
      "model_module": "@jupyter-widgets/base",
      "model_module_version": "1.2.0",
      "model_name": "LayoutModel",
      "state": {
       "margin": "0px 0px 10px 0px"
      }
     },
     "a2cdb5c9dff348a3b9af64e8275b79ad": {
      "model_module": "@quantum/ibm-q-composer-jupyter-widget",
      "model_module_version": "^0.1.15",
      "model_name": "CircuitComposerModel",
      "state": {
       "_model_module_version": "^0.1.15",
       "_view_module_version": "^0.1.15",
       "circuit": "\"OPENQASM 2.0;\\ninclude \\\"qelib1.inc\\\";\\n\\nqreg q[2];\\ncreg c[2];\\n\\nh q[0];\\ncx q[0],q[1];\"",
       "layout": "IPY_MODEL_c411cc8355cd4cd6bc9b1ba31ae8954e",
       "qiskit_code_cell_index": -1
      }
     },
     "aaad5cd6387e40feaf1f50ef77fd4461": {
      "model_module": "@jupyter-widgets/base",
      "model_module_version": "1.2.0",
      "model_name": "LayoutModel",
      "state": {}
     },
     "ab1623122da9478aa5c195812920f006": {
      "model_module": "@jupyter-widgets/controls",
      "model_module_version": "1.5.0",
      "model_name": "GridBoxModel",
      "state": {
       "children": [
        "IPY_MODEL_be74e9941ece4522876a906665e8ba7b"
       ],
       "layout": "IPY_MODEL_ed46ffaa9387494298c1278acc0e88f3"
      }
     },
     "ab506bf40b82403ea1865088c1cd05bb": {
      "model_module": "@jupyter-widgets/base",
      "model_module_version": "1.2.0",
      "model_name": "LayoutModel",
      "state": {}
     },
     "ac3d8824a6ae4c77a2ddedc8bc8b5638": {
      "model_module": "@jupyter-widgets/controls",
      "model_module_version": "1.5.0",
      "model_name": "ButtonStyleModel",
      "state": {}
     },
     "acb13a226fe24dbbbf7796cb58782acd": {
      "model_module": "@quantum/ibm-q-composer-jupyter-widget",
      "model_module_version": "^0.1.15",
      "model_name": "CircuitComposerModel",
      "state": {
       "_model_module_version": "^0.1.15",
       "_view_module_version": "^0.1.15",
       "circuit": "\"OPENQASM 2.0;\\ninclude \\\"qelib1.inc\\\";\\n\\nqreg q[2];\\ncreg c[2];\\n\\nh q[0];\\ncx q[0],q[1];\\nx q[0];\\nmeasure q[0] -> c[0];\\nmeasure q[1] -> c[1];\"",
       "layout": "IPY_MODEL_c4ef29cd8fc34039bb28f535b7bc8039",
       "qiskit_code_cell_index": -1
      }
     },
     "b0edf8fdcb0143289fa514006a851f9a": {
      "model_module": "@jupyter-widgets/controls",
      "model_module_version": "1.5.0",
      "model_name": "DescriptionStyleModel",
      "state": {
       "description_width": ""
      }
     },
     "b216daea6f654f6d9264fd8e8231ad1c": {
      "model_module": "@quantum/ibm-q-composer-jupyter-widget",
      "model_module_version": "^0.1.14",
      "model_name": "CircuitComposerModel",
      "state": {
       "_model_module_version": "^0.1.14",
       "_view_module_version": "^0.1.14",
       "circuit": "\"OPENQASM 2.0;\\ninclude \\\"qelib1.inc\\\";\\n\\nqreg q[3];\\ncreg c[3];\\n\\n\"",
       "layout": "IPY_MODEL_79a6700921ba465d84c1a2b4ef18f05a"
      }
     },
     "b3c09cbf09cb4ed88c1ef91a9ee6348d": {
      "model_module": "@jupyter-widgets/base",
      "model_module_version": "1.2.0",
      "model_name": "LayoutModel",
      "state": {
       "grid_template_areas": "\n                                       \". . . . right \"\n                                        ",
       "grid_template_columns": "20% 20% 20% 20% 20%",
       "width": "100%"
      }
     },
     "b60603e84d004526adaa9702fc5321f7": {
      "model_module": "@quantum/ibm-q-composer-jupyter-widget",
      "model_module_version": "^0.1.15",
      "model_name": "CircuitComposerModel",
      "state": {
       "_model_module_version": "^0.1.15",
       "_view_module_version": "^0.1.15",
       "circuit": "\"OPENQASM 2.0;\\ninclude \\\"qelib1.inc\\\";\\n\\nqreg q[3];\\ncreg c[3];\\n\\n\"",
       "layout": "IPY_MODEL_7e72324ae1174fe18e8e4618063d7330",
       "qiskit_code_cell_index": -1
      }
     },
     "b662d7127bfc4954b9afb27833930888": {
      "model_module": "@jupyter-widgets/controls",
      "model_module_version": "1.5.0",
      "model_name": "DescriptionStyleModel",
      "state": {
       "description_width": ""
      }
     },
     "b8fc88d7ba0f4ca0969208972e8ba71f": {
      "model_module": "@jupyter-widgets/controls",
      "model_module_version": "1.5.0",
      "model_name": "HBoxModel",
      "state": {
       "children": [
        "IPY_MODEL_10251f1492e54657ba55dee7ba4c39f8",
        "IPY_MODEL_d98dc6f9a1d94a44af3820e7c26b44cb",
        "IPY_MODEL_42fcbeba60624680a786075e93ebe052",
        "IPY_MODEL_3004f6d27b994fb2bf3fb9cebaef62d4",
        "IPY_MODEL_83e30f600d1e4300b65a4215f462bc28"
       ],
       "layout": "IPY_MODEL_748625e709c44b8e8159b1cd935fda41"
      }
     },
     "b92653eb76984a41a48534ae783c5856": {
      "model_module": "@jupyter-widgets/controls",
      "model_module_version": "1.5.0",
      "model_name": "DescriptionStyleModel",
      "state": {
       "description_width": ""
      }
     },
     "b93dc191bbbf4f1bb805cb145e8d8345": {
      "model_module": "@jupyter-widgets/controls",
      "model_module_version": "1.5.0",
      "model_name": "HTMLModel",
      "state": {
       "layout": "IPY_MODEL_9a901e03beea490da82d94ced48fe6e0",
       "style": "IPY_MODEL_e5c0ecff63bd40b18dd6519f842f9fd0",
       "value": "<h5>Status</h5>"
      }
     },
     "bb421bf887664e5ea50d36ae3ca40eab": {
      "model_module": "@jupyter-widgets/controls",
      "model_module_version": "1.5.0",
      "model_name": "HTMLModel",
      "state": {
       "layout": "IPY_MODEL_54ffefb509254c3da35b4697c5855409",
       "style": "IPY_MODEL_6987551767e044bcb746ac3c6951bf45",
       "value": "<h5>Job ID</h5>"
      }
     },
     "be74e9941ece4522876a906665e8ba7b": {
      "model_module": "@jupyter-widgets/controls",
      "model_module_version": "1.5.0",
      "model_name": "ButtonModel",
      "state": {
       "button_style": "primary",
       "description": "Clear",
       "layout": "IPY_MODEL_d7a5605a1cac4b83b53c01cec3358d41",
       "style": "IPY_MODEL_72ad6f4b58c64410826e8f79bc8c69b9"
      }
     },
     "be829a57e6d84aceb4e41ddf995bc5dd": {
      "model_module": "@jupyter-widgets/controls",
      "model_module_version": "1.5.0",
      "model_name": "ButtonStyleModel",
      "state": {}
     },
     "c018f4e2ce8c4202aa55cef2901edccd": {
      "model_module": "@jupyter-widgets/controls",
      "model_module_version": "1.5.0",
      "model_name": "HTMLModel",
      "state": {
       "layout": "IPY_MODEL_e14f5de3294d4fa4ba45ad126dd050f3",
       "style": "IPY_MODEL_9c08c119c8504fcda84bd48507cc6c30",
       "value": "<p style='font-family: IBM Plex Sans, Arial, Helvetica, sans-serif; font-size: 20px; font-weight: medium;'>Circuit Properties</p>"
      }
     },
     "c034a72b5627444b99f6e278007551bd": {
      "model_module": "@jupyter-widgets/base",
      "model_module_version": "1.2.0",
      "model_name": "LayoutModel",
      "state": {}
     },
     "c09db6bd2cf14840a0249bc911bbff0c": {
      "model_module": "@jupyter-widgets/controls",
      "model_module_version": "1.5.0",
      "model_name": "DescriptionStyleModel",
      "state": {
       "description_width": ""
      }
     },
     "c119b9183ae54edaaeaa151d16ac5ede": {
      "model_module": "@jupyter-widgets/controls",
      "model_module_version": "1.5.0",
      "model_name": "DescriptionStyleModel",
      "state": {
       "description_width": ""
      }
     },
     "c198dfea8caf45168e00c9ff6148bf3f": {
      "model_module": "@jupyter-widgets/controls",
      "model_module_version": "1.5.0",
      "model_name": "HTMLModel",
      "state": {
       "layout": "IPY_MODEL_e35c9d2a9d9c438993fbd16f09417ddf",
       "style": "IPY_MODEL_d4af94879b1e49148f5411fe7b93cafe",
       "value": "<h5>Backend</h5>"
      }
     },
     "c265ee51cb4b46a4951da513532f5093": {
      "model_module": "@jupyter-widgets/controls",
      "model_module_version": "1.5.0",
      "model_name": "HTMLModel",
      "state": {
       "layout": "IPY_MODEL_97234ccb9e694352a831e246f082a0cd",
       "style": "IPY_MODEL_b0edf8fdcb0143289fa514006a851f9a",
       "value": "<h5>Backend</h5>"
      }
     },
     "c411cc8355cd4cd6bc9b1ba31ae8954e": {
      "model_module": "@jupyter-widgets/base",
      "model_module_version": "1.2.0",
      "model_name": "LayoutModel",
      "state": {}
     },
     "c4ef29cd8fc34039bb28f535b7bc8039": {
      "model_module": "@jupyter-widgets/base",
      "model_module_version": "1.2.0",
      "model_name": "LayoutModel",
      "state": {}
     },
     "ca4bac309fab4e9980db0a4358204768": {
      "model_module": "@jupyter-widgets/base",
      "model_module_version": "1.2.0",
      "model_name": "LayoutModel",
      "state": {}
     },
     "cd63b27b381d4178aef29ca9f550f0b9": {
      "model_module": "@jupyter-widgets/base",
      "model_module_version": "1.2.0",
      "model_name": "LayoutModel",
      "state": {}
     },
     "ce0fb64ca92d48bb9c5252ea68e90539": {
      "model_module": "@jupyter-widgets/controls",
      "model_module_version": "1.5.0",
      "model_name": "HTMLModel",
      "state": {
       "layout": "IPY_MODEL_ffa980fb45de43249126a126812626f1",
       "style": "IPY_MODEL_c119b9183ae54edaaeaa151d16ac5ede",
       "value": "<h5>Queue</h5>"
      }
     },
     "cf44c1ed25744c7fbc066f18a55a4f83": {
      "model_module": "@jupyter-widgets/controls",
      "model_module_version": "1.5.0",
      "model_name": "HTMLModel",
      "state": {
       "layout": "IPY_MODEL_18986868697846df83b71139aa55d9ec",
       "style": "IPY_MODEL_f6336ff0d33345c38257588df975985e",
       "value": "<p style='font-family: IBM Plex Sans, Arial, Helvetica, sans-serif; font-size: 20px; font-weight: medium;'>Circuit Properties</p>"
      }
     },
     "d0b039b01051462bbf3e4979ff3de9f9": {
      "model_module": "@jupyter-widgets/base",
      "model_module_version": "1.2.0",
      "model_name": "LayoutModel",
      "state": {
       "width": "145px"
      }
     },
     "d1715cfa20844c92aaafd4735290018e": {
      "model_module": "@jupyter-widgets/base",
      "model_module_version": "1.2.0",
      "model_name": "LayoutModel",
      "state": {
       "margin": "0px 0px 0px 37px",
       "width": "600px"
      }
     },
     "d17d932220884a2587edc100d1df4250": {
      "model_module": "@jupyter-widgets/controls",
      "model_module_version": "1.5.0",
      "model_name": "HTMLModel",
      "state": {
       "layout": "IPY_MODEL_dfe09871f0b945bdb87064acb1a2df7e",
       "style": "IPY_MODEL_212c7ef54b174526a76b8bf4b9fe206c",
       "value": "<h5>Backend</h5>"
      }
     },
     "d1cfaf3b557c4838ad26b519c5ef3064": {
      "model_module": "@jupyter-widgets/controls",
      "model_module_version": "1.5.0",
      "model_name": "DescriptionStyleModel",
      "state": {
       "description_width": ""
      }
     },
     "d2332ef888e645d9ba0e1314b4e0e966": {
      "model_module": "@jupyter-widgets/base",
      "model_module_version": "1.2.0",
      "model_name": "LayoutModel",
      "state": {
       "width": "190px"
      }
     },
     "d449f92f6d414c499b83902062f5a973": {
      "model_module": "@jupyter-widgets/base",
      "model_module_version": "1.2.0",
      "model_name": "LayoutModel",
      "state": {
       "grid_template_areas": "\n                                       \". . . . right \"\n                                        ",
       "grid_template_columns": "20% 20% 20% 20% 20%",
       "width": "100%"
      }
     },
     "d4af94879b1e49148f5411fe7b93cafe": {
      "model_module": "@jupyter-widgets/controls",
      "model_module_version": "1.5.0",
      "model_name": "DescriptionStyleModel",
      "state": {
       "description_width": ""
      }
     },
     "d5154ee85216408a9c347132b2209bea": {
      "model_module": "@jupyter-widgets/controls",
      "model_module_version": "1.5.0",
      "model_name": "DescriptionStyleModel",
      "state": {
       "description_width": ""
      }
     },
     "d5c5a67b4f914b0a817a20d35a0e5dc8": {
      "model_module": "@jupyter-widgets/base",
      "model_module_version": "1.2.0",
      "model_name": "LayoutModel",
      "state": {}
     },
     "d7a5605a1cac4b83b53c01cec3358d41": {
      "model_module": "@jupyter-widgets/base",
      "model_module_version": "1.2.0",
      "model_name": "LayoutModel",
      "state": {
       "grid_area": "right",
       "padding": "0px 0px 0px 0px",
       "width": "70px"
      }
     },
     "d98dc6f9a1d94a44af3820e7c26b44cb": {
      "model_module": "@jupyter-widgets/controls",
      "model_module_version": "1.5.0",
      "model_name": "HTMLModel",
      "state": {
       "layout": "IPY_MODEL_d0b039b01051462bbf3e4979ff3de9f9",
       "style": "IPY_MODEL_9172adca89c046c7a16e6ed73b014118",
       "value": "<h5>Backend</h5>"
      }
     },
     "d9b012233fd04d649897ec3cd140b624": {
      "model_module": "@jupyter-widgets/controls",
      "model_module_version": "1.5.0",
      "model_name": "DescriptionStyleModel",
      "state": {
       "description_width": ""
      }
     },
     "dc34d85e910b489f929b2611951e27e7": {
      "model_module": "@jupyter-widgets/controls",
      "model_module_version": "1.5.0",
      "model_name": "DescriptionStyleModel",
      "state": {
       "description_width": ""
      }
     },
     "dd7a3a7241b343a08ba157eac4d2e49a": {
      "model_module": "@jupyter-widgets/controls",
      "model_module_version": "1.5.0",
      "model_name": "HBoxModel",
      "state": {
       "children": [
        "IPY_MODEL_f20a1fff7f344bf4995555fed037cc4a",
        "IPY_MODEL_c265ee51cb4b46a4951da513532f5093",
        "IPY_MODEL_9ba04ec96be1470182945599094f3ae1",
        "IPY_MODEL_1b090efd10374ba9a70cb50038a2673f",
        "IPY_MODEL_810a171adacf464fb7022a1d6e0ed2ef"
       ],
       "layout": "IPY_MODEL_29615c302cc94fbea4f1f88bca20ae3f"
      }
     },
     "df798c90b93f4c8d933a704eea0e2950": {
      "model_module": "@jupyter-widgets/controls",
      "model_module_version": "1.5.0",
      "model_name": "ButtonModel",
      "state": {
       "button_style": "primary",
       "description": "Clear",
       "layout": "IPY_MODEL_53d00dd1b6994a5582bfdf9cacdc8f95",
       "style": "IPY_MODEL_ac3d8824a6ae4c77a2ddedc8bc8b5638"
      }
     },
     "df86158b6ff4400a819f62bfaf71ca49": {
      "model_module": "@jupyter-widgets/base",
      "model_module_version": "1.2.0",
      "model_name": "LayoutModel",
      "state": {}
     },
     "dfe09871f0b945bdb87064acb1a2df7e": {
      "model_module": "@jupyter-widgets/base",
      "model_module_version": "1.2.0",
      "model_name": "LayoutModel",
      "state": {
       "width": "145px"
      }
     },
     "e14f5de3294d4fa4ba45ad126dd050f3": {
      "model_module": "@jupyter-widgets/base",
      "model_module_version": "1.2.0",
      "model_name": "LayoutModel",
      "state": {
       "margin": "0px 0px 10px 0px"
      }
     },
     "e2de7677e6ec4695ac87f20a9c2a2edf": {
      "model_module": "@jupyter-widgets/base",
      "model_module_version": "1.2.0",
      "model_name": "LayoutModel",
      "state": {}
     },
     "e35c9d2a9d9c438993fbd16f09417ddf": {
      "model_module": "@jupyter-widgets/base",
      "model_module_version": "1.2.0",
      "model_name": "LayoutModel",
      "state": {
       "width": "145px"
      }
     },
     "e47d48239db44be3b6021f4675afc6cd": {
      "model_module": "@jupyter-widgets/controls",
      "model_module_version": "1.5.0",
      "model_name": "HTMLModel",
      "state": {
       "layout": "IPY_MODEL_7690d7fa7d1c44d984f0fec4b04fa065",
       "style": "IPY_MODEL_b662d7127bfc4954b9afb27833930888",
       "value": "<h5>Queue</h5>"
      }
     },
     "e5c0ecff63bd40b18dd6519f842f9fd0": {
      "model_module": "@jupyter-widgets/controls",
      "model_module_version": "1.5.0",
      "model_name": "DescriptionStyleModel",
      "state": {
       "description_width": ""
      }
     },
     "e722ac3b3cb24784bdf4546a7416e2f5": {
      "model_module": "@jupyter-widgets/controls",
      "model_module_version": "1.5.0",
      "model_name": "DescriptionStyleModel",
      "state": {
       "description_width": ""
      }
     },
     "e8e22ae6fc6f4fafaf2db3b2b448c21c": {
      "model_module": "@jupyter-widgets/controls",
      "model_module_version": "1.5.0",
      "model_name": "DescriptionStyleModel",
      "state": {
       "description_width": ""
      }
     },
     "eb8ad5c8b5c741c787be81497d2d04b1": {
      "model_module": "@quantum/ibm-q-composer-jupyter-widget",
      "model_module_version": "^0.1.14",
      "model_name": "CircuitComposerModel",
      "state": {
       "_model_module_version": "^0.1.14",
       "_view_module_version": "^0.1.14",
       "circuit": "\"OPENQASM 2.0;\\ninclude \\\"qelib1.inc\\\";\\n\\nqreg q[3];\\ncreg c[3];\\n\\nh q[0];\\ncx q[0],q[1];\"",
       "layout": "IPY_MODEL_df86158b6ff4400a819f62bfaf71ca49"
      }
     },
     "ed46ffaa9387494298c1278acc0e88f3": {
      "model_module": "@jupyter-widgets/base",
      "model_module_version": "1.2.0",
      "model_name": "LayoutModel",
      "state": {
       "grid_template_areas": "\n                                       \". . . . right \"\n                                        ",
       "grid_template_columns": "20% 20% 20% 20% 20%",
       "width": "100%"
      }
     },
     "ef2410acebe845cf8235e46a94f0c058": {
      "model_module": "@jupyter-widgets/base",
      "model_module_version": "1.2.0",
      "model_name": "LayoutModel",
      "state": {
       "grid_template_areas": "\n                                       \". . . . right \"\n                                        ",
       "grid_template_columns": "20% 20% 20% 20% 20%",
       "width": "100%"
      }
     },
     "efa4f8e30b3042a6b58b27c8f55995a7": {
      "model_module": "@jupyter-widgets/base",
      "model_module_version": "1.2.0",
      "model_name": "LayoutModel",
      "state": {
       "width": "190px"
      }
     },
     "f096742a63734347b18aee389bca47c3": {
      "model_module": "@jupyter-widgets/base",
      "model_module_version": "1.2.0",
      "model_name": "LayoutModel",
      "state": {
       "width": "95px"
      }
     },
     "f20a1fff7f344bf4995555fed037cc4a": {
      "model_module": "@jupyter-widgets/controls",
      "model_module_version": "1.5.0",
      "model_name": "HTMLModel",
      "state": {
       "layout": "IPY_MODEL_031baeba20c3413db8b3b233e5b08f7e",
       "style": "IPY_MODEL_d1cfaf3b557c4838ad26b519c5ef3064",
       "value": "<h5>Job ID</h5>"
      }
     },
     "f53c86671dbf4256bbb3970c9356ee60": {
      "model_module": "@jupyter-widgets/controls",
      "model_module_version": "1.5.0",
      "model_name": "DescriptionStyleModel",
      "state": {
       "description_width": ""
      }
     },
     "f6336ff0d33345c38257588df975985e": {
      "model_module": "@jupyter-widgets/controls",
      "model_module_version": "1.5.0",
      "model_name": "DescriptionStyleModel",
      "state": {
       "description_width": ""
      }
     },
     "f76dc4906972445aa44c27370eeed50b": {
      "model_module": "@jupyter-widgets/controls",
      "model_module_version": "1.5.0",
      "model_name": "GridBoxModel",
      "state": {
       "children": [
        "IPY_MODEL_157f910e0e09406fb888a07e18fdd5b7"
       ],
       "layout": "IPY_MODEL_d449f92f6d414c499b83902062f5a973"
      }
     },
     "f899f60d01594ff8b2532a532a2a4462": {
      "model_module": "@quantum/ibm-q-composer-jupyter-widget",
      "model_module_version": "^0.1.15",
      "model_name": "CircuitComposerModel",
      "state": {
       "_model_module_version": "^0.1.15",
       "_view_module_version": "^0.1.15",
       "circuit": "\"OPENQASM 2.0;\\ninclude \\\"qelib1.inc\\\";\\n\\nqreg q[2];\\ncreg c[2];\\n\\nh q[0];\\ncx q[0],q[1];\"",
       "layout": "IPY_MODEL_cd63b27b381d4178aef29ca9f550f0b9",
       "qiskit_code_cell_index": -1
      }
     },
     "fa4269a879144ff8a1f158470da71c07": {
      "model_module": "@jupyter-widgets/controls",
      "model_module_version": "1.5.0",
      "model_name": "DescriptionStyleModel",
      "state": {
       "description_width": ""
      }
     },
     "fc1c5588b9f042988a5c02f87a4c2038": {
      "model_module": "@quantum/ibm-q-composer-jupyter-widget",
      "model_module_version": "^0.1.15",
      "model_name": "CircuitComposerModel",
      "state": {
       "_model_module_version": "^0.1.15",
       "_view_module_version": "^0.1.15",
       "circuit": "\"OPENQASM 2.0;\\ninclude \\\"qelib1.inc\\\";\\n\\nqreg q[3];\\ncreg c[3];\\n\\n\"",
       "layout": "IPY_MODEL_558ea29371b743fcaaab1a22884a085c",
       "qiskit_code_cell_index": -1
      }
     },
     "fcd6b26c63774b7798fdc298eb01306e": {
      "model_module": "@jupyter-widgets/base",
      "model_module_version": "1.2.0",
      "model_name": "LayoutModel",
      "state": {
       "grid_area": "right",
       "padding": "0px 0px 0px 0px",
       "width": "70px"
      }
     },
     "ffa980fb45de43249126a126812626f1": {
      "model_module": "@jupyter-widgets/base",
      "model_module_version": "1.2.0",
      "model_name": "LayoutModel",
      "state": {
       "width": "70px"
      }
     }
    },
    "version_major": 2,
    "version_minor": 0
   }
  }
 },
 "nbformat": 4,
 "nbformat_minor": 4
}
