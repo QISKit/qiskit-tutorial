{
 "cells": [
  {
   "cell_type": "markdown",
   "metadata": {},
   "source": [
    "## Teach Me QISKit Award 2018: Top Submissions\n",
    "\n",
    "This folder contains the top submissions of the Teach Me QISKit Award 2018.\n",
    "Most of the tutorials were written and tested with [qiskit-core](https://github.com/QISKit/qiskit-core)\n",
    "version 0.4.15 (previously known as qiskit-sdk-py).\n",
    "\n",
    "Here is the list of the top submissions (in alphabetical order).\n",
    "\n",
    "- [CHSH Game](chsh_game/CHSH%20game-tutorial.ipynb) - play a quantum game.\n",
    "- [Cryptography with BB84](cryptography/Cryptography.ipynb) - implementation of the BB84 protocol.\n",
    "- [E91 Quantum Key Distribution Protocol](e91_qkd/e91_quantum_key_distribution_protocol.ipynb) - a tutorial on quantum key distribution based on the protocol by Ekert in 1991.\n",
    "- [Elementary Arithmetic Operations](elementary_arithmetic_operations/elementary_arithmetic_operations.ipynb) - addition and modular exponentiation with quantum circuits.\n",
    "- [Exact Ising Model Simulation](exact_ising_model_simulation/Ising_time_evolution.ipynb) - how to simulate time evolution at zero time. [The winner of the Teach Me QISKit Award 2018](https://www.ibm.com/blogs/research/2018/06/teach-qiskit-winner/). \n",
    "- [Hadamard Action](hadamard_action) - three approaches to show equivalences of circuits.\n",
    "- [Quantum Cryptography](quantum_cryptography_qkd/Quantum_Cryptography2.ipynb) - quantum key distribution with BB84 protocol.\n",
    "- [Quantum Error Correction](quantum_error_correction/error_correction.ipynb) - qubit errors and how to threat them.\n",
    "- [Quantum Machine Learning](quantum_machine_learning/QISKIT%20for%20quantum%20machine%20learning.ipynb) - quantum k-means, lineary system of equation, and SVM.\n",
    "- [State Distribution in Qubit Chains](state_distribution_in_qubit_chains/index.ipynb) - state transport in quantum chains.\n",
    "- [W State](w_state) - W states and games using them."
   ]
  }
 ],
 "metadata": {},
 "nbformat": 4,
 "nbformat_minor": 2
}
