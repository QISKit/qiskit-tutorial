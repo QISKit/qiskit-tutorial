{
 "cells": [
  {
   "cell_type": "markdown",
   "metadata": {},
   "source": [
    "## _*Quantum Emoticon*_ \n",
    "\n",
    "The latest version of this notebook is available on https://github.com/QISKit/qiskit-tutorial.\n",
    "\n",
    "For more information about how to use the IBM Q Experience (QX), consult the [tutorials](https://quantumexperience.ng.bluemix.net/qstage/#/tutorial?sectionId=c59b3710b928891a1420190148a72cce&pageIndex=0), or check out the [community](https://quantumexperience.ng.bluemix.net/qstage/#/community).\n",
    "\n",
    "***\n",
    "### Contributors\n",
    "James R. Wootton, University of Basel; \n",
    "Anna Phan, IBM Research"
   ]
  },
  {
   "cell_type": "markdown",
   "metadata": {},
   "source": [
    "This program aims to accomplish what \"Hello World\" does for classical programming.\n",
    "\n",
    "Specifically:\n",
    "* It is simple;\n",
    "* It performs an understandable and relatable task;\n",
    "* It demonstrates simple principles of the programming language;\n",
    "* It shows how to produce and look at an output."
   ]
  },
  {
   "cell_type": "markdown",
   "metadata": {},
   "source": [
    "Anything that can be done with bits can be done with qubits. Simply leave a qubit in its initialized value for the state *0*, or use an operation with the effect of a NOT gate (such as *X* or *Y*) to rotate it to a *1*. Each qubit then becomes a bit, allowing us to implement \"Hello, World!\" directly on a quantum computer.\n",
    "\n",
    "In practice, it is not so straightforward. ASCII encoding of \"Hello, World!\" requires over 100 bits, and therefore over 100 qubits. Current quantum devices are not yet large enough for the job.\n",
    "\n",
    "However, two ASCII characters require only 16 (qu)bits. Writing an emoticon like ;) can therefore be done using *ibmqx5*.\n",
    "\n",
    "The string corresponding to ;) is\n",
    "    \n",
    "    ;)  =  '0011101100101001'\n",
    "\n",
    "To prepare this state we can perform an *X* on qubits 0, 3, 5, 8, 9, 11, 12, 13. Here we number the bits from 0 to 15, from right to left.\n",
    "\n",
    "Of course, just writing a bit string in some qubits isn't very quantum. Instead we can prepare a superposition of two different emoticons. We choose ;) and 8), which correspond to the bit strings\n",
    "\n",
    "    8)  =  '0011100000101001'\n",
    "    ;)  =  '0011101100101001'\n",
    "\n",
    "Note that these strings differ only on bits 8 and 9. It is therefore only these on which the superposition must be prepared. The superposition will be of the '00' of 8), and the '11' of ;) , and so will be a standard [Bell state](https://github.com/QISKit/qiskit-tutorial/blob/master/2_quantum_information/superposition_and_entanglement.ipynb).\n",
    "\n",
    "We'll now implement this."
   ]
  },
  {
   "cell_type": "code",
   "execution_count": 1,
   "metadata": {},
   "outputs": [],
   "source": [
    "from qiskit import ClassicalRegister, QuantumRegister\n",
    "from qiskit import QuantumCircuit, execute\n",
    "from qiskit.tools.visualization import plot_histogram\n",
    "\n",
    "# set up registers and program\n",
    "qr = QuantumRegister(16)\n",
    "cr = ClassicalRegister(16)\n",
    "qc = QuantumCircuit(qr, cr)\n",
    "\n",
    "# rightmost eight (qu)bits have ')' = 00101001\n",
    "qc.x(qr[0])\n",
    "qc.x(qr[3])\n",
    "qc.x(qr[5])\n",
    "\n",
    "# second eight (qu)bits have superposition of\n",
    "# '8' = 00111000\n",
    "# ';' = 00111011\n",
    "# these differ only on the rightmost two bits\n",
    "qc.h(qr[9]) # create superposition on 9\n",
    "qc.cx(qr[9],qr[8]) # spread it to 8 with a CNOT\n",
    "qc.x(qr[11])\n",
    "qc.x(qr[12])\n",
    "qc.x(qr[13])\n",
    "\n",
    "# measure\n",
    "for j in range(16):\n",
    "    qc.measure(qr[j], cr[j])"
   ]
  },
  {
   "cell_type": "markdown",
   "metadata": {},
   "source": [
    "We first prepare set up the credentials required to access the devices."
   ]
  },
  {
   "cell_type": "code",
   "execution_count": 2,
   "metadata": {},
   "outputs": [],
   "source": [
    "from qiskit import register, available_backends, get_backend\n",
    "\n",
    "#import Qconfig and set APIToken and API url\n",
    "try:\n",
    "    import sys\n",
    "    sys.path.append(\"../\") # go to parent dir\n",
    "    import Qconfig\n",
    "    qx_config = {\n",
    "        \"APItoken\": Qconfig.APItoken,\n",
    "        \"url\": Qconfig.config['url']}\n",
    "except Exception as e:\n",
    "    print(e)\n",
    "    qx_config = {\n",
    "        \"APItoken\":\"YOUR_TOKEN_HERE\",\n",
    "        \"url\":\"https://quantumexperience.ng.bluemix.net/api\"}\n",
    "\n",
    "#set api\n",
    "register(qx_config['APItoken'], qx_config['url'])"
   ]
  },
  {
   "cell_type": "markdown",
   "metadata": {},
   "source": [
    "We'll now run the circuit on the simulator for 128 shots (so we don't need to wait in the *ibmqx5* queue) and plot the results. "
   ]
  },
  {
   "cell_type": "code",
   "execution_count": 3,
   "metadata": {},
   "outputs": [
    {
     "data": {
      "image/png": "[encoded data removed]",
      "text/plain": [
       "<matplotlib.figure.Figure at 0x7f4314839128>"
      ]
     },
     "metadata": {},
     "output_type": "display_data"
    }
   ],
   "source": [
    "backend = \"ibmq_qasm_simulator\" \n",
    "shots_sim = 128\n",
    "\n",
    "job_sim = execute(qc, backend, shots=shots_sim)\n",
    "stats_sim = job_sim.result().get_counts()\n",
    "\n",
    "plot_histogram(stats_sim)"
   ]
  },
  {
   "cell_type": "markdown",
   "metadata": {},
   "source": [
    "The above results in *stats* tell us how many times each bit string was found as a result. To make our emoticon, we convert the bit strings into ASCII characters. We also calculate the fraction of shots for which each result occurred. The most common results are then printed to screen.\n",
    "\n",
    "This gives us a list of characters and probabilities. But that isn't very fun. For something more visual, we use matplotlib to create an image in which the all the characters included in the result are printed on top of each other. The alpha channel of each character is set to the fraction of shots for which that result occurred. For our simulator results, this is approximately equally split between 8) and ;).\n",
    "\n",
    "We will write this transformation and visualization from results to ASCII characters as a function, so we can reuse it later when we run the smiley circuit on the *ibmqx5* device. "
   ]
  },
  {
   "cell_type": "code",
   "execution_count": null,
   "metadata": {},
   "outputs": [
    {
     "name": "stdout",
     "output_type": "stream",
     "text": [
      "0.5\t;)\n",
      "0.5\t8)\n"
     ]
    },
    {
     "data": {
      "image/png": "[encoded data removed]",
      "text/plain": [
       "<matplotlib.figure.Figure at 0x7f42998e2588>"
      ]
     },
     "metadata": {},
     "output_type": "display_data"
    }
   ],
   "source": [
    "import matplotlib.pyplot as plt\n",
    "%matplotlib inline\n",
    "plt.rc('font', family='monospace')\n",
    "\n",
    "def plot_smiley (stats, shots):\n",
    "    for bitString in stats:\n",
    "        char = chr(int( bitString[0:8] ,2)) # get string of the leftmost 8 bits and convert to an ASCII character\n",
    "        char += chr(int( bitString[8:16] ,2)) # do the same for string of rightmost 8 bits, and add it to the previous character\n",
    "        prob = stats[bitString] / shots # fraction of shots for which this result occurred\n",
    "        # create plot with all characters on top of each other with alpha given by how often it turned up in the output\n",
    "        plt.annotate( char, (0.5,0.5), va=\"center\", ha=\"center\", color = (0,0,0, prob ), size = 300)\n",
    "        if (prob>0.05): # list prob and char for the dominant results (occurred for more than 5% of shots)\n",
    "            print(str(prob)+\"\\t\"+char)\n",
    "    plt.axis('off')\n",
    "    plt.show()\n",
    "    \n",
    "plot_smiley(stats_sim, shots_sim)"
   ]
  },
  {
   "cell_type": "markdown",
   "metadata": {},
   "source": [
    "We'll now run the smiley circuit on *ibmqx5*, after checking that the device is online. Given the noise on the device, our smiley won't be as clean as our previous run on the simulator."
   ]
  },
  {
   "cell_type": "code",
   "execution_count": null,
   "metadata": {
    "scrolled": false
   },
   "outputs": [
    {
     "name": "stdout",
     "output_type": "stream",
     "text": [
      "Status of ibmqx5: {'available': True, 'pending_jobs': 1, 'name': 'ibmqx5'}\n",
      "\n",
      "The device is available, so we'll submit the job.\n"
     ]
    }
   ],
   "source": [
    "backends = available_backends()\n",
    "backend = get_backend('ibmqx5')\n",
    "print('Status of ibmqx5:',backend.status)\n",
    "\n",
    "if backend.status[\"available\"] is True:\n",
    "    print(\"\\nThe device is available, so we'll submit the job.\")\n",
    "    \n",
    "    shots_device = 1000\n",
    "    job_device = execute(qc, backend, shots=shots_device)\n",
    "    stats_device = job_device.result().get_counts()\n",
    "else:\n",
    "    print(\"\\nThe device is not available. Try again later.\")\n",
    "    \n",
    "plot_smiley(stats_device, shots_device)"
   ]
  },
  {
   "cell_type": "markdown",
   "metadata": {},
   "source": [
    "And there you have it. A program to take one of the world's most advanced devices and made a smiley with it. A quantum smiley!\n",
    "\n",
    "An alternative introduction to this program can be found [here](https://medium.com/@decodoku/making-a-quantum-computer-smile-cee86a6fc1de)."
   ]
  }
 ],
 "metadata": {
  "kernelspec": {
   "display_name": "Python 3",
   "language": "python",
   "name": "python3"
  },
  "language_info": {
   "codemirror_mode": {
    "name": "ipython",
    "version": 3
   },
   "file_extension": ".py",
   "mimetype": "text/x-python",
   "name": "python",
   "nbconvert_exporter": "python",
   "pygments_lexer": "ipython3",
   "version": "3.6.0"
  },
  "toc": {
   "colors": {
    "hover_highlight": "#DAA520",
    "running_highlight": "#FF0000",
    "selected_highlight": "#FFD700"
   },
   "moveMenuLeft": true,
   "nav_menu": {
    "height": "48px",
    "width": "252px"
   },
   "navigate_menu": true,
   "number_sections": true,
   "sideBar": true,
   "threshold": 4,
   "toc_cell": false,
   "toc_section_display": "block",
   "toc_window_display": false
  }
 },
 "nbformat": 4,
 "nbformat_minor": 2
}
