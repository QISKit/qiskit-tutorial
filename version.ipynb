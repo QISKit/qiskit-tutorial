{
 "cells": [
  {
   "cell_type": "code",
   "execution_count": null,
   "metadata": {},
   "outputs": [],
   "source": [
    "from utils import version; version.version_information()"
   ]
  },
  {
   "cell_type": "code",
   "execution_count": null,
   "metadata": {},
   "outputs": [],
   "source": [
    "print(\"Installed packages are as the following\")\n",
    "!python --version\n",
    "print()\n",
    "!conda list 'qiskit|IBMQuantumExperience|numpy|scipy|matplotlib'\n",
    "#!pip show qiskit\n",
    "#print()\n",
    "#!pip show IBMQuantumExperience\n",
    "#print()\n",
    "#!pip show numpy\n",
    "#print()\n",
    "#!pip show scipy\n",
    "#print()\n",
    "#!pip show matplotlib"
   ]
  },
  {
   "cell_type": "code",
   "execution_count": null,
   "metadata": {
    "collapsed": true
   },
   "outputs": [],
   "source": []
  }
 ],
 "metadata": {
  "kernelspec": {
   "display_name": "QISKitenv",
   "language": "python",
   "name": "qiskitenv"
  },
  "language_info": {
   "codemirror_mode": {
    "name": "ipython",
    "version": 3
   },
   "file_extension": ".py",
   "mimetype": "text/x-python",
   "name": "python",
   "nbconvert_exporter": "python",
   "pygments_lexer": "ipython3",
   "version": "3.6.2"
  }
 },
 "nbformat": 4,
 "nbformat_minor": 2
}
