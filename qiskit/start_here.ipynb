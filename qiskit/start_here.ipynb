{
 "cells": [
  {
   "cell_type": "markdown",
   "metadata": {},
   "source": [
    "<img src=\"../images/qiskit-heading.gif\" alt=\"Note: In order for images to show up in this jupyter notebook you need to select File => Trusted Notebook\" width=\"500 px\" align=\"left\">"
   ]
  },
  {
   "cell_type": "markdown",
   "metadata": {},
   "source": [
    "# Qiskit Tutorials\n",
    "\n",
    "***\n",
    "\n",
    "\n",
    "Welcome Qiskitters.\n",
    "\n",
    "\n",
    "These tutorials aim to explain how to use Qiskit. We assume you have installed Qiskit if not please look at [qiskit.org](http://www.qiskit.org) or the install [documentation](https://qiskit.org/documentation/install.html). \n",
    "\n",
    "\n",
    "We've collected a core reference set of notebooks in this section outlining the features of Qiskit. We will be keeping them up to date with the latest Qiskit version, currently 0.9. The focus of this section will be how to use Qiskit and not so much on teaching you about quantum computing. For those interested in learning about quantum computing we recommend the awesome learning paths we and the community have put together.\n",
    "\n",
    "\n",
    "Qiskit is made up of four elements: Terra, Aer, Ignis, and Aqua with each element having its own goal and together they make the full Qiskit framework. \n",
    "\n",
    "## Getting started with Qiskit\n",
    "\n",
    "This sections gives you the tools to make your first circuits, run them on real quantum systems and simulators, and view the data.\n",
    "\n",
    "  * [Getting started with Qiskit](basics/1_getting_started_with_qiskit.ipynb) - how to use Qiskit\n",
    "  * [The IBM Q provider](basics/2_the_ibmq_provider.ipynb) - working with the IBM Q devices\n",
    "  * [Plotting data in Qiskit](basics/3_plotting_data_in_qiskit.ipynb) -  illustrates the different ways of plotting data in Qiskit\n",
    "        \n",
    "## 2 Qiskit Terra\n",
    "\n",
    "Terra, the ‘earth’ element, is the foundation on which the rest of the software lies. Terra provides a bedrock for composing quantum programs at the level of circuits and pulses, to optimize them for the constraints of a particular device, and to manage the execution of batches of experiments on remote-access devices. Terra defines the interfaces for a desirable end-user experience, as well as the efficient handling of layers of optimization, pulse scheduling and backend communication.\n",
    "  * [Quantum circuits](terra/quantum_circuits.ipynb) - gives a summary of the `QuantumCircuit` object\n",
    "  * [Advanced circuits](terra/advanced_circuits.ipynb) - new circuit building tools added in Terra 0.8, including registerless declarations, composite gate updates and parameterized circuits\n",
    "  * [Summary of quantum operations](terra/summary_of_quantum_operations.ipynb) - list of quantum operations (gates, reset, measurements) in Qiskit Terra\n",
    "  * [Visualizing a quantum circuit](terra/visualizing_a_quantum_circuit.ipynb) - details on drawing your quantum circuits\n",
    "  * [Using the transpiler](terra/using_the_transpiler.ipynb) - getting started with circuit analysis and optimization\n",
    "  * [Writing a transpiler pass](terra/writing_a_transpiler_pass.ipynb) - how to extend the transpiler with a new pass\n",
    "  * [Mapping circuit qubits to device qubits](terra/device_mapping.ipynb) - how to manually select the mapping of qubits from a circuit to a given device.\n",
    "  * [Reduced backends and noise models](terra/reduced_backends.ipynb) - working with sub-graphs of a quantum device topology.\n",
    "  * [Monitoring jobs and backends](terra/backend_monitoring_tools.ipynb) - tools for monitoring jobs and backends\n",
    "  * [Parallel tools](terra/terra_parallel_tools.ipynb) - executing tasks in parallel using `parallel_map` and tracking progress\n",
    "  * [Creating a new provider](terra/creating_a_provider.ipynb) - a guide to integration of a new provider with Qiskit structures and interfaces\n",
    "  * [Calibrating a qubit](terra/calibrating_a_qubit.ipynb) - an introduction to working with the pulse API by way of calibrating a qubit\n",
    "  * [Operators overview](terra/operators_overview.ipynb) - gives a summary of the features and uses of the Operator class.\n",
    "\n",
    "  \n",
    "##  3 Qiskit Interacitve Plotting and Jupyter Tools\n",
    "\n",
    "To improve the Qiskit user experience we have made many of the visualizations interactive and developed some very cool new job monitoring tools in Jupyter.\n",
    "\n",
    "  * [Jupyter tools for Monitoring jobs and backends](jupyter/jupyter_backend_tools.ipynb) - Jupyter tools for monitoring jobs and backends\n",
    "\n",
    "##  4 Qiskit Aer\n",
    "\n",
    "Aer, the ‘air’ element, permeates all Qiskit elements. To really speed up development of quantum computers we need better simulators with the ability to model realistic noise processes that occur during computation on actual devices. Aer provides a high-performance simulator framework for studying quantum computing algorithms and applications in the noisy intermediate scale quantum regime. \n",
    "  * [Aer provider](aer/aer_provider.ipynb) - gives a summary of the Qiskit Aer provider containing the Qasm, statevector, and unitary simulator.\n",
    "  * [Extended stabilizer tutorial](aer/extended_stabilizer_tutorial.ipynb) - gives an overview of the *extended stabilizer* Qasm Simulator method.\n",
    "  * [Device noise simulation](aer/device_noise_simulation.ipynb) - shows how to use the Qiskit Aer noise module to automatically generate a basic noise model for simulating hardware backends.\n",
    "  * [Building noise models](aer/building_noise_models.ipynb) - shows how to use Qiskit Aer noise module to construct custom noise models for noisy simulations.\n",
    "  * [Custom gate noise](aer/custom_gate_noise.ipynb) - shows to implement simulations using custom noisy gates.\n",
    "  * [Noise transformations](aer/noise_transformation.ipynb) - demonstrates the noise approximation utility functions to construct approximate Clifford noise models out of a general noise model.\n",
    "  \n",
    "##  5 Qiskit Ignis\n",
    "Ignis, the ‘fire’ element, is dedicated to fighting noise and errors and to forging a new path. This includes better characterization of errors, improving gates, and computing in the presence of noise. Ignis is meant for those who want to design quantum error correction codes, or who wish to study ways to characterize errors through methods such as tomography, or even to find a better way for using gates by exploring dynamical decoupling and optimal control. While we have already released parts of this element as part of libraries in Terra, an official stand-alone release will come soon. For now we have some tutorials for you to explore.\n",
    "  * [Relaxation and decoherence](ignis/relaxation_and_decoherence.ipynb) - how to measure coherence times on the real quantum hardware\n",
    "  * [Quantum state tomography](ignis/state_tomography.ipynb) - how to identify a quantum state using state tomography, in which the state is prepared repeatedly and measured in different bases\n",
    "  * [Quantum process tomography](ignis/process_tomography.ipynb) - using quantum process tomography to reconstruct the behavior of a quantum process and measure its fidelity, i.e., how closely it matches the ideal version\n",
    "\n",
    "##  6 Qiskit Aqua\n",
    "Aqua, the ‘water’ element, is the element of life. To make quantum computing live up to its expectations, we need to find real-world applications. Aqua is where algorithms for NISQ computers are built. These algorithms can be used to build applications for quantum computing. Aqua is accessible to domain experts in chemistry, optimization, AI or finance, who want to explore the benefits of using quantum computers as accelerators for specific computational tasks, without needing to worry about how to translate the problem into the language of quantum machines.\n",
    "  * [Chemistry](aqua/chemistry/index.ipynb) - using variational quantum eigensolver to experiment with molecular ground-state energy on a quantum computer\n",
    "  * [Optimization](optimization/index.ipynb) - using variational quantum eigensolver to experiment with optimization problems (maxcut and traveling salesman problem) on a quantum computer \n",
    "  * [Artificial Intelligence](aqua/artificial_intelligence/index.ipynb) - using quantum-enhanced support vector machine to experiment with classification problems on a quantum computer\n",
    "  * [Finance](aqua/finance/index.ipynb) - using variational quantum eigensolver to optimize portfolio on a quantum computer \n",
    "\n"
   ]
  },
  {
   "cell_type": "markdown",
   "metadata": {},
   "source": [
    "***  \n",
    "\n",
    "## License\n",
    "This project is licensed under the Apache License 2.0 - see the [LICENSE](https://github.com/Qiskit/qiskit-tutorials/blob/master/LICENSE) file for details."
   ]
  },
  {
   "cell_type": "code",
   "execution_count": null,
   "metadata": {
    "collapsed": true
   },
   "outputs": [],
   "source": []
  }
 ],
 "metadata": {
  "hide_input": false,
  "kernelspec": {
   "display_name": "Python 3",
   "language": "python",
   "name": "python3"
  },
  "language_info": {
   "codemirror_mode": {
    "name": "ipython",
    "version": 3
   },
   "file_extension": ".py",
   "mimetype": "text/x-python",
   "name": "python",
   "nbconvert_exporter": "python",
   "pygments_lexer": "ipython3",
   "version": "3.6.1"
  }
 },
 "nbformat": 4,
 "nbformat_minor": 2
}
