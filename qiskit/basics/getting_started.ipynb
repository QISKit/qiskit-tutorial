{
 "cells": [
  {
   "cell_type": "markdown",
   "metadata": {},
   "source": [
    "<img src=\"../../images/qiskit-heading.gif\" alt=\"Note: In order for images to show up in this jupyter notebook you need to select File => Trusted Notebook\" width=\"500 px\" align=\"left\">"
   ]
  },
  {
   "cell_type": "markdown",
   "metadata": {},
   "source": [
    "## _*Getting Started with Qiskit*_ \n",
    "\n",
    "The latest version of this notebook is available on https://github.com/qiskit/qiskit-tutorial.\n",
    "\n",
    "***\n",
    "#### Contributors\n",
    "Jay Gambetta, Ismael Faro, Andrew Cross, Ali Javadi\n",
    "\n",
    "#### Affiliation\n",
    "*IBM Q* "
   ]
  },
  {
   "cell_type": "markdown",
   "metadata": {},
   "source": [
    "## Qiskit\n",
    "\n",
    "This tutorial aims to explain how to use Qiskit. We assume you have installed Qiskit if not please look at [qiskit.org](http://www.qiskit.org) or the install [documentation](https://github.com/qiskit/qiskit-tutorial/blob/master/INSTALL.md). \n",
    "\n",
    "Qiskit is a software development kit that you can use to create your quantum computing programs based on circuits and execute them on several backends (real quantum processors online, simulators online, and simulators on local). For the online backends we used [IBM Q](http://quantumexperience.ng.bluemix.net/) real quantum computers.\n",
    "\n",
    "First lets start by importing the import features of Qiskit."
   ]
  },
  {
   "cell_type": "code",
   "execution_count": 1,
   "metadata": {
    "ExecuteTime": {
     "end_time": "2018-09-29T00:04:16.313210Z",
     "start_time": "2018-09-29T00:04:14.460647Z"
    }
   },
   "outputs": [],
   "source": [
    "from qiskit import QuantumCircuit, ClassicalRegister, QuantumRegister\n",
    "from qiskit import execute"
   ]
  },
  {
   "cell_type": "markdown",
   "metadata": {},
   "source": [
    "The basic concept of our Qiskit is an array of quantum circuits. The workflow consists of two stages: [Build](#sectionB), and [Execute](#sectionR). Build allows you to make different quantum circuits that represent the problem you are solving; Execute allows you to run them to run on different backends.  After the jobs have been run, the data is collected. There are methods for putting this data together, depending on the program. This either gives you the answer you wanted, or allows you to make a better program for the next instance."
   ]
  },
  {
   "cell_type": "markdown",
   "metadata": {},
   "source": [
    "## Building your circuit: Create it  <a id='sectionB'></a>\n",
    "\n",
    "The basic elements needed for your first program are the QuantumCircuit, QuantumRegister, and ClassicalRegister."
   ]
  },
  {
   "cell_type": "code",
   "execution_count": 2,
   "metadata": {
    "ExecuteTime": {
     "end_time": "2018-09-29T00:04:20.069592Z",
     "start_time": "2018-09-29T00:04:20.065489Z"
    }
   },
   "outputs": [],
   "source": [
    "# Create a Quantum Register called \"q\" with 3 qubits\n",
    "qr = QuantumRegister(3)\n",
    "\n",
    "# Create a Classical Register called \"c\" with 3 bits\n",
    "cr = ClassicalRegister(3)\n",
    "\n",
    "# Create a Quantum Circuit called involving \"qr\" and \"cr\"\n",
    "circuit = QuantumCircuit(qr, cr)"
   ]
  },
  {
   "cell_type": "markdown",
   "metadata": {},
   "source": [
    "After you create the circuit with its registers, you can add gates to manipulate the registers. As you proceed though the tutorial you will find more quantum gates and circuits but the below is an example of the quantum half adder."
   ]
  },
  {
   "cell_type": "code",
   "execution_count": 3,
   "metadata": {
    "ExecuteTime": {
     "end_time": "2018-09-29T00:04:20.807281Z",
     "start_time": "2018-09-29T00:04:20.796420Z"
    }
   },
   "outputs": [
    {
     "data": {
      "text/plain": [
       "<qiskit._instructionset.InstructionSet at 0x1512a2d748>"
      ]
     },
     "execution_count": 3,
     "metadata": {},
     "output_type": "execute_result"
    }
   ],
   "source": [
    "# Not gate on qubit 0\n",
    "circuit.x(qr[0])\n",
    "\n",
    "# Not gate on qubit 1\n",
    "circuit.x(qr[1])\n",
    "\n",
    "# Barrier to seperator the input from the circuit\n",
    "circuit.barrier(qr[0])\n",
    "circuit.barrier(qr[1])\n",
    "circuit.barrier(qr[2])\n",
    "\n",
    "# Toffoli gate from qubit 0,1 to qubit 2\n",
    "circuit.ccx(qr[0], qr[1], qr[2])\n",
    "\n",
    "# CNOT (Controlled-NOT) gate from qubit 0 to qubit 1\n",
    "circuit.cx(qr[0], qr[1])\n",
    "\n",
    "# measure gate from qr to cr\n",
    "circuit.measure(qr, cr)"
   ]
  },
  {
   "cell_type": "markdown",
   "metadata": {},
   "source": [
    "## Visualize Circuit\n",
    "\n",
    "You can visualize your circuit using Qiskit's `circuit_drawer`, which plots the unrolled circuit in the specified basis."
   ]
  },
  {
   "cell_type": "code",
   "execution_count": 4,
   "metadata": {
    "ExecuteTime": {
     "end_time": "2018-09-29T00:04:26.904758Z",
     "start_time": "2018-09-29T00:04:25.509141Z"
    },
    "scrolled": true
   },
   "outputs": [
    {
     "name": "stderr",
     "output_type": "stream",
     "text": [
      "WARNING Unable to complile latex. The output from the pdflatex command can be found in latex_error.log\n"
     ]
    }
   ],
   "source": [
    "from qiskit.tools.visualization import circuit_drawer\n",
    "\n",
    "circuit_drawer(circuit)"
   ]
  },
  {
   "cell_type": "markdown",
   "metadata": {},
   "source": [
    "## Execute <a id='sectionE'></a>"
   ]
  },
  {
   "cell_type": "markdown",
   "metadata": {},
   "source": [
    "First we need to choose the backend. Lets start with the simulator provided by the Qiskit Aer element "
   ]
  },
  {
   "cell_type": "code",
   "execution_count": 5,
   "metadata": {
    "ExecuteTime": {
     "end_time": "2018-09-29T00:04:28.595093Z",
     "start_time": "2018-09-29T00:04:28.589162Z"
    }
   },
   "outputs": [],
   "source": [
    "from qiskit import Aer\n",
    "backend = Aer.get_backend('qasm_simulator')"
   ]
  },
  {
   "cell_type": "markdown",
   "metadata": {},
   "source": [
    "Next we need to run the circuit"
   ]
  },
  {
   "cell_type": "code",
   "execution_count": 6,
   "metadata": {
    "ExecuteTime": {
     "end_time": "2018-09-29T00:04:30.559484Z",
     "start_time": "2018-09-29T00:04:30.513862Z"
    }
   },
   "outputs": [],
   "source": [
    "# Create a Quantum Program for execution \n",
    "job = execute(circuit, backend)"
   ]
  },
  {
   "cell_type": "markdown",
   "metadata": {},
   "source": [
    "Execute compiles and runs the circuits\n",
    "\n",
    "```\n",
    "execute(name_of_circuits=None, backend=backend, config=None, basis_gates=None, coupling_map=None, initial_layout=None, shots=1024, max_credits=3, seed=None, qobj_id=None, hpc=None, skip_translation=False)\n",
    "```\n",
    "\n",
    "(**Tip**: You can obtain the above parameters in Jupyter. Simply place the text cursor on a function and press Shift+Tab)\n",
    "\n",
    "When you run a program a job object is made that has the following two useful methods\n",
    "\n",
    "```\n",
    "job.status()\n",
    "```\n",
    "returns the status of the job\n",
    "\n",
    "```\n",
    "job.result()\n",
    "``` \n",
    "returns the job result object"
   ]
  },
  {
   "cell_type": "code",
   "execution_count": 7,
   "metadata": {
    "ExecuteTime": {
     "end_time": "2018-09-29T00:04:32.831346Z",
     "start_time": "2018-09-29T00:04:32.823873Z"
    }
   },
   "outputs": [
    {
     "data": {
      "text/plain": [
       "<JobStatus.DONE: 'job has successfully run'>"
      ]
     },
     "execution_count": 7,
     "metadata": {},
     "output_type": "execute_result"
    }
   ],
   "source": [
    "job.status()"
   ]
  },
  {
   "cell_type": "code",
   "execution_count": 8,
   "metadata": {
    "ExecuteTime": {
     "end_time": "2018-09-29T00:04:33.459197Z",
     "start_time": "2018-09-29T00:04:33.452591Z"
    }
   },
   "outputs": [],
   "source": [
    "result = job.result()"
   ]
  },
  {
   "cell_type": "markdown",
   "metadata": {},
   "source": [
    "## Result\n",
    "Once you have a results object you can access the counts via the function \n",
    "\n",
    "```get_counts(circuit)```. \n",
    "\n",
    "This gives you the binary outcomes of the circuit you have run."
   ]
  },
  {
   "cell_type": "code",
   "execution_count": 9,
   "metadata": {
    "ExecuteTime": {
     "end_time": "2018-09-29T00:04:35.950706Z",
     "start_time": "2018-09-29T00:04:35.941803Z"
    }
   },
   "outputs": [
    {
     "data": {
      "text/plain": [
       "{'101': 1024}"
      ]
     },
     "execution_count": 9,
     "metadata": {},
     "output_type": "execute_result"
    }
   ],
   "source": [
    "result.get_counts(circuit)"
   ]
  },
  {
   "cell_type": "markdown",
   "metadata": {},
   "source": [
    "## Execute on a Real Device\n",
    "\n",
    "This is the important part of Qiskit. You can use it to run your circuits on real quantum computers. They are small and noisy but are advancing at a fast pace. To run it on a real device we need to use the IBMQ provider. In a later tutorial we will go into more details about the provider but for now we will outline the basic functions. "
   ]
  },
  {
   "cell_type": "code",
   "execution_count": 10,
   "metadata": {
    "ExecuteTime": {
     "end_time": "2018-09-29T00:04:37.950277Z",
     "start_time": "2018-09-29T00:04:37.947819Z"
    }
   },
   "outputs": [],
   "source": [
    "from qiskit import IBMQ"
   ]
  },
  {
   "cell_type": "markdown",
   "metadata": {},
   "source": [
    "and then calling"
   ]
  },
  {
   "cell_type": "markdown",
   "metadata": {},
   "source": [
    "`IBMQ.save_account('MY_TOKEN')`"
   ]
  },
  {
   "cell_type": "markdown",
   "metadata": {},
   "source": [
    "that will store your IBMQ credentials in a local file.  Unless your registration information has changed, you only need to do this once.  You may now (or in any other tutorial) load your accounts "
   ]
  },
  {
   "cell_type": "code",
   "execution_count": 11,
   "metadata": {
    "ExecuteTime": {
     "end_time": "2018-09-29T00:04:41.166242Z",
     "start_time": "2018-09-29T00:04:40.072340Z"
    }
   },
   "outputs": [],
   "source": [
    "IBMQ.load_accounts()"
   ]
  },
  {
   "cell_type": "markdown",
   "metadata": {},
   "source": [
    "We choose a device with the least queue which can support our program (has at least 3 qubits)."
   ]
  },
  {
   "cell_type": "code",
   "execution_count": 12,
   "metadata": {
    "ExecuteTime": {
     "end_time": "2018-09-29T00:04:50.410670Z",
     "start_time": "2018-09-29T00:04:41.860767Z"
    }
   },
   "outputs": [
    {
     "name": "stdout",
     "output_type": "stream",
     "text": [
      "the best backend is ibmq_16_melbourne\n"
     ]
    }
   ],
   "source": [
    "from qiskit.backends.ibmq import least_busy\n",
    "\n",
    "large_enough_devices = IBMQ.backends(filters=lambda x: x.configuration()['n_qubits'] > 3 and not x.configuration()['simulator'])\n",
    "backend = least_busy(large_enough_devices)\n",
    "print(\"the best backend is \" + backend.name())"
   ]
  },
  {
   "cell_type": "markdown",
   "metadata": {},
   "source": [
    "To help user using we have provided some simple functions that only work in jupyter. These are activated using "
   ]
  },
  {
   "cell_type": "code",
   "execution_count": 13,
   "metadata": {},
   "outputs": [],
   "source": [
    "from qiskit.wrapper.jupyter import *"
   ]
  },
  {
   "cell_type": "code",
   "execution_count": 14,
   "metadata": {
    "ExecuteTime": {
     "end_time": "2018-09-29T00:04:52.336262Z",
     "start_time": "2018-09-29T00:04:51.755588Z"
    },
    "scrolled": true
   },
   "outputs": [
    {
     "data": {
      "application/vnd.jupyter.widget-view+json": {
       "model_id": "2500948efecf45128bcf73cc78d782be",
       "version_major": 2,
       "version_minor": 0
      },
      "text/plain": [
       "VBox(children=(HTML(value=\"<p style='font-size:16px;'>Job Status : job is being initialized </p>\"),))"
      ]
     },
     "metadata": {},
     "output_type": "display_data"
    }
   ],
   "source": [
    "%%qiskit_job_status\n",
    "shots = 1024           # Number of shots to run the program (experiment); maximum is 8192 shots.\n",
    "max_credits = 3          # Maximum number of credits to spend on executions. \n",
    "\n",
    "job_exp = execute(circuit, backend=backend, shots=shots, max_credits=max_credits)"
   ]
  },
  {
   "cell_type": "code",
   "execution_count": 15,
   "metadata": {
    "ExecuteTime": {
     "end_time": "2018-09-29T00:05:42.718830Z",
     "start_time": "2018-09-29T00:05:42.296069Z"
    }
   },
   "outputs": [],
   "source": [
    "result_real = job_exp.result()"
   ]
  },
  {
   "cell_type": "markdown",
   "metadata": {},
   "source": [
    "Like before, the counts from the execution can be obtained using ```get_counts(circuit)``` "
   ]
  },
  {
   "cell_type": "code",
   "execution_count": 16,
   "metadata": {
    "ExecuteTime": {
     "end_time": "2018-09-29T00:05:44.604801Z",
     "start_time": "2018-09-29T00:05:44.599850Z"
    }
   },
   "outputs": [
    {
     "data": {
      "text/plain": [
       "{'000': 38,\n",
       " '001': 153,\n",
       " '010': 46,\n",
       " '011': 60,\n",
       " '100': 62,\n",
       " '101': 487,\n",
       " '110': 48,\n",
       " '111': 130}"
      ]
     },
     "execution_count": 16,
     "metadata": {},
     "output_type": "execute_result"
    }
   ],
   "source": [
    "result_real.get_counts(circuit)"
   ]
  },
  {
   "cell_type": "markdown",
   "metadata": {},
   "source": [
    "## Retrieving a job\n",
    "\n",
    "The job ID can be obtained using the following which you can use later to get the job if your experiment takes longer to run then you have time to wait around."
   ]
  },
  {
   "cell_type": "code",
   "execution_count": 17,
   "metadata": {
    "ExecuteTime": {
     "end_time": "2018-09-29T00:05:57.842131Z",
     "start_time": "2018-09-29T00:05:57.839227Z"
    }
   },
   "outputs": [
    {
     "name": "stdout",
     "output_type": "stream",
     "text": [
      "JOB ID: 5bb966a731e334004b275f89\n"
     ]
    }
   ],
   "source": [
    "jobID = job_exp.job_id()\n",
    "\n",
    "print('JOB ID: {}'.format(jobID))        "
   ]
  },
  {
   "cell_type": "markdown",
   "metadata": {},
   "source": [
    "The job can be gotten from the backend using retrieve_job"
   ]
  },
  {
   "cell_type": "code",
   "execution_count": 18,
   "metadata": {},
   "outputs": [],
   "source": [
    "job_get=backend.retrieve_job(jobID)"
   ]
  },
  {
   "cell_type": "markdown",
   "metadata": {},
   "source": [
    "and then the results can be obtained from the new job object. "
   ]
  },
  {
   "cell_type": "code",
   "execution_count": 19,
   "metadata": {},
   "outputs": [
    {
     "data": {
      "text/plain": [
       "{'000': 38,\n",
       " '001': 153,\n",
       " '010': 46,\n",
       " '011': 60,\n",
       " '100': 62,\n",
       " '101': 487,\n",
       " '110': 48,\n",
       " '111': 130}"
      ]
     },
     "execution_count": 19,
     "metadata": {},
     "output_type": "execute_result"
    }
   ],
   "source": [
    "job_get.result().get_counts(circuit)"
   ]
  },
  {
   "cell_type": "code",
   "execution_count": null,
   "metadata": {},
   "outputs": [],
   "source": []
  }
 ],
 "metadata": {
  "anaconda-cloud": {},
  "kernelspec": {
   "display_name": "Python 3",
   "language": "python",
   "name": "python3"
  },
  "language_info": {
   "codemirror_mode": {
    "name": "ipython",
    "version": 3
   },
   "file_extension": ".py",
   "mimetype": "text/x-python",
   "name": "python",
   "nbconvert_exporter": "python",
   "pygments_lexer": "ipython3",
   "version": "3.6.4"
  }
 },
 "nbformat": 4,
 "nbformat_minor": 1
}
