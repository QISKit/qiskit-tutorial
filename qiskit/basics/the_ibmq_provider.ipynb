{
 "cells": [
  {
   "cell_type": "markdown",
   "metadata": {},
   "source": [
    "<img src=\"../../images/qiskit-heading.gif\" alt=\"Note: In order for images to show up in this jupyter notebook you need to select File => Trusted Notebook\" width=\"500 px\" align=\"left\">"
   ]
  },
  {
   "cell_type": "markdown",
   "metadata": {},
   "source": [
    "# _*Working with the IBMQ provider*_ \n",
    "\n",
    "The latest version of this notebook is available on https://github.com/qiskit/qiskit-tutorial.\n",
    "\n",
    "***\n",
    "#### Contributors\n",
    "Jay Gambetta[1], Diego Moreda[1], Ali Javadi[1], Eric Winston[1], Joe Hellmers, and Anna Phan[1]\n",
    "\n",
    "#### Affiliations \n",
    "*[1] IBM Q*"
   ]
  },
  {
   "cell_type": "markdown",
   "metadata": {},
   "source": [
    "In Qiskit we have an interface for backends and jobs that will be useful for running circuits and extending to third-party backends. In this tutorial, we will review the core components of Qiskit’s base backend framework, using the IBM Q provider as an example.\n",
    "\n",
    "The interface has three parts: the provider, the backend, and the job:\n",
    "\n",
    "- provider: accesses backends and provides backend objects\n",
    "- backend: runs the quantum circuit\n",
    "- job: keeps track of the submitted job"
   ]
  },
  {
   "cell_type": "markdown",
   "metadata": {},
   "source": [
    "## The IBMQ Provider\n",
    "\n",
    "The IBMQ Provider is an entity that provides access to a group of different backends (for example, backends available through IBM Q Experience or IBM Q Network).\n",
    "\n",
    "The IBMQ provider inherits from BaseProvider and implements the methods:\n",
    "\n",
    "    backends(): returns all backend objects known to the provider.\n",
    "    get_backend(name): returns the named backend.\n",
    "\n",
    "The IBM Q provider has some extra functions for handling administrative tasks. The credentials can be saved to disk or user in a session and never saved. \n",
    "\n",
    "    enable_account(token, url): adds the account to current session\n",
    "    disable_accounts(**kwargs): remove from account current session\n",
    "    save_account(token, url): save the account to disk\n",
    "    delete_accounts(**kwargs): delete the account or accounts from disk\n",
    "    load_accounts(**kwargs): load the account or accounts into session\n",
    "    active_accounts(): list all accounts active in this session\n",
    "    stored_accounts(): list all accounts saved to disk"
   ]
  },
  {
   "cell_type": "code",
   "execution_count": 1,
   "metadata": {},
   "outputs": [
    {
     "data": {
      "text/plain": [
       "[]"
      ]
     },
     "execution_count": 1,
     "metadata": {},
     "output_type": "execute_result"
    }
   ],
   "source": [
    "from qiskit import IBMQ \n",
    "\n",
    "IBMQ.backends()"
   ]
  },
  {
   "cell_type": "markdown",
   "metadata": {},
   "source": [
    "Here we see that there are no backends. This is because no accounts have been loaded."
   ]
  },
  {
   "cell_type": "markdown",
   "metadata": {},
   "source": [
    "Lets start fresh and delete any accounts on disk. If no accounts are on disk this will error"
   ]
  },
  {
   "cell_type": "code",
   "execution_count": 2,
   "metadata": {},
   "outputs": [],
   "source": [
    "IBMQ.delete_accounts()"
   ]
  },
  {
   "cell_type": "markdown",
   "metadata": {},
   "source": [
    "verify that there are no accounts stored now"
   ]
  },
  {
   "cell_type": "code",
   "execution_count": 3,
   "metadata": {},
   "outputs": [
    {
     "data": {
      "text/plain": [
       "[]"
      ]
     },
     "execution_count": 3,
     "metadata": {},
     "output_type": "execute_result"
    }
   ],
   "source": [
    "IBMQ.stored_accounts()"
   ]
  },
  {
   "cell_type": "markdown",
   "metadata": {},
   "source": [
    "To demonstrate that we can load multiple accounts into the IBMQ provider here we use a file `Qconfig_IBMQ_foo.py` which has variables\n",
    "\n",
    "```python\n",
    "APItoken = 'MY_API_TOKEN'\n",
    "URL = 'THE_URL'\n",
    "```\n",
    "\n",
    "For the IBM Q experience the URL is not needed and is loaded by default. \n",
    "\n",
    "For the IBM Q Netwrok the url is found on your q-console account page."
   ]
  },
  {
   "cell_type": "code",
   "execution_count": 4,
   "metadata": {},
   "outputs": [],
   "source": [
    "import sys\n",
    "sys.path.append(\"../../\")\n",
    "import Qconfig_IBMQ_network\n",
    "import Qconfig_IBMQ_experience"
   ]
  },
  {
   "cell_type": "markdown",
   "metadata": {},
   "source": [
    "To enable an account (useful for one-off use, or if you don't want to save to disk)"
   ]
  },
  {
   "cell_type": "code",
   "execution_count": 5,
   "metadata": {},
   "outputs": [],
   "source": [
    "IBMQ.enable_account(Qconfig_IBMQ_experience.APItoken)"
   ]
  },
  {
   "cell_type": "markdown",
   "metadata": {},
   "source": [
    "To see that accounts which are enabled for use"
   ]
  },
  {
   "cell_type": "code",
   "execution_count": 6,
   "metadata": {},
   "outputs": [],
   "source": [
    "# uncomment to print to screen (it will show your token and url)\n",
    "# IBMQ.active_accounts()"
   ]
  },
  {
   "cell_type": "markdown",
   "metadata": {},
   "source": [
    "and backends which are available"
   ]
  },
  {
   "cell_type": "code",
   "execution_count": 7,
   "metadata": {},
   "outputs": [
    {
     "data": {
      "text/plain": [
       "[<IBMQBackend('ibmqx4') from IBMQ()>,\n",
       " <IBMQBackend('ibmqx5') from IBMQ()>,\n",
       " <IBMQBackend('ibmqx2') from IBMQ()>,\n",
       " <IBMQBackend('ibmq_16_melbourne') from IBMQ()>,\n",
       " <IBMQBackend('ibmq_qasm_simulator') from IBMQ()>]"
      ]
     },
     "execution_count": 7,
     "metadata": {},
     "output_type": "execute_result"
    }
   ],
   "source": [
    "IBMQ.backends()"
   ]
  },
  {
   "cell_type": "markdown",
   "metadata": {},
   "source": [
    "Disable that account (so we go back to no accounts active)"
   ]
  },
  {
   "cell_type": "code",
   "execution_count": 8,
   "metadata": {},
   "outputs": [],
   "source": [
    "IBMQ.disable_accounts(token=Qconfig_IBMQ_experience.APItoken)"
   ]
  },
  {
   "cell_type": "markdown",
   "metadata": {},
   "source": [
    "Now no backends are available"
   ]
  },
  {
   "cell_type": "code",
   "execution_count": 9,
   "metadata": {},
   "outputs": [
    {
     "data": {
      "text/plain": [
       "[]"
      ]
     },
     "execution_count": 9,
     "metadata": {},
     "output_type": "execute_result"
    }
   ],
   "source": [
    "IBMQ.backends()"
   ]
  },
  {
   "cell_type": "markdown",
   "metadata": {},
   "source": [
    "Save two accounts: a public (IBM Q experience) and a premium (IBM Q network)"
   ]
  },
  {
   "cell_type": "code",
   "execution_count": 10,
   "metadata": {},
   "outputs": [],
   "source": [
    "IBMQ.save_account(Qconfig_IBMQ_experience.APItoken)\n",
    "IBMQ.save_account(Qconfig_IBMQ_network.APItoken, Qconfig_IBMQ_network.url)"
   ]
  },
  {
   "cell_type": "markdown",
   "metadata": {},
   "source": [
    "Now they should show up as present on disk"
   ]
  },
  {
   "cell_type": "code",
   "execution_count": 11,
   "metadata": {},
   "outputs": [],
   "source": [
    "# uncomment to print to screen (it will show your token and url)\n",
    "# IBMQ.stored_accounts()"
   ]
  },
  {
   "cell_type": "markdown",
   "metadata": {},
   "source": [
    "but no account active in current session yet"
   ]
  },
  {
   "cell_type": "code",
   "execution_count": 12,
   "metadata": {},
   "outputs": [
    {
     "data": {
      "text/plain": [
       "[]"
      ]
     },
     "execution_count": 12,
     "metadata": {},
     "output_type": "execute_result"
    }
   ],
   "source": [
    "IBMQ.active_accounts()"
   ]
  },
  {
   "cell_type": "markdown",
   "metadata": {},
   "source": [
    "so IBMQ can't see any backends yet"
   ]
  },
  {
   "cell_type": "code",
   "execution_count": 13,
   "metadata": {},
   "outputs": [
    {
     "data": {
      "text/plain": [
       "[]"
      ]
     },
     "execution_count": 13,
     "metadata": {},
     "output_type": "execute_result"
    }
   ],
   "source": [
    "IBMQ.backends()"
   ]
  },
  {
   "cell_type": "markdown",
   "metadata": {},
   "source": [
    "now load up every account stored to disk"
   ]
  },
  {
   "cell_type": "code",
   "execution_count": 14,
   "metadata": {},
   "outputs": [],
   "source": [
    "IBMQ.load_accounts()"
   ]
  },
  {
   "cell_type": "markdown",
   "metadata": {},
   "source": [
    "backends from two different accounts available for use"
   ]
  },
  {
   "cell_type": "code",
   "execution_count": 15,
   "metadata": {},
   "outputs": [
    {
     "data": {
      "text/plain": [
       "[<IBMQBackend('ibmqx4') from IBMQ()>,\n",
       " <IBMQBackend('ibmqx5') from IBMQ()>,\n",
       " <IBMQBackend('ibmqx2') from IBMQ()>,\n",
       " <IBMQBackend('ibmq_16_melbourne') from IBMQ()>,\n",
       " <IBMQBackend('ibmq_qasm_simulator') from IBMQ()>,\n",
       " <IBMQBackend('ibmq_20_tokyo') from IBMQ(ibm-q-internal, qiskit, qiskit-terra)>,\n",
       " <IBMQBackend('ibmq_qasm_simulator') from IBMQ(ibm-q-internal, qiskit, qiskit-terra)>]"
      ]
     },
     "execution_count": 15,
     "metadata": {},
     "output_type": "execute_result"
    }
   ],
   "source": [
    "IBMQ.backends()"
   ]
  },
  {
   "cell_type": "markdown",
   "metadata": {},
   "source": [
    "now if you want to work with backends of a single account,\n",
    "you can do so via backend filtering"
   ]
  },
  {
   "cell_type": "code",
   "execution_count": 16,
   "metadata": {},
   "outputs": [
    {
     "data": {
      "text/plain": [
       "[<IBMQBackend('ibmqx4') from IBMQ()>,\n",
       " <IBMQBackend('ibmqx5') from IBMQ()>,\n",
       " <IBMQBackend('ibmqx2') from IBMQ()>,\n",
       " <IBMQBackend('ibmq_16_melbourne') from IBMQ()>,\n",
       " <IBMQBackend('ibmq_qasm_simulator') from IBMQ()>]"
      ]
     },
     "execution_count": 16,
     "metadata": {},
     "output_type": "execute_result"
    }
   ],
   "source": [
    "IBMQ.backends(url='https://quantumexperience.ng.bluemix.net/api')"
   ]
  },
  {
   "cell_type": "markdown",
   "metadata": {},
   "source": [
    "but you can also just disable account in the current session"
   ]
  },
  {
   "cell_type": "code",
   "execution_count": 17,
   "metadata": {},
   "outputs": [],
   "source": [
    "IBMQ.disable_accounts(url='https://quantumexperience.ng.bluemix.net/api')"
   ]
  },
  {
   "cell_type": "markdown",
   "metadata": {},
   "source": [
    "so now only one account is active"
   ]
  },
  {
   "cell_type": "code",
   "execution_count": 18,
   "metadata": {},
   "outputs": [],
   "source": [
    "# uncomment to print to screen (it will show your token and url)\n",
    "# IBMQ.active_accounts()"
   ]
  },
  {
   "cell_type": "markdown",
   "metadata": {},
   "source": [
    "and only that account's backends are available"
   ]
  },
  {
   "cell_type": "code",
   "execution_count": 19,
   "metadata": {},
   "outputs": [
    {
     "data": {
      "text/plain": [
       "[<IBMQBackend('ibmq_20_tokyo') from IBMQ(ibm-q-internal, qiskit, qiskit-terra)>,\n",
       " <IBMQBackend('ibmq_qasm_simulator') from IBMQ(ibm-q-internal, qiskit, qiskit-terra)>]"
      ]
     },
     "execution_count": 19,
     "metadata": {},
     "output_type": "execute_result"
    }
   ],
   "source": [
    "IBMQ.backends()"
   ]
  },
  {
   "cell_type": "markdown",
   "metadata": {},
   "source": [
    "or from the start use the filtering to just load up that account you're interested in"
   ]
  },
  {
   "cell_type": "code",
   "execution_count": 20,
   "metadata": {},
   "outputs": [
    {
     "data": {
      "text/plain": [
       "[<IBMQBackend('ibmqx4') from IBMQ()>,\n",
       " <IBMQBackend('ibmqx5') from IBMQ()>,\n",
       " <IBMQBackend('ibmqx2') from IBMQ()>,\n",
       " <IBMQBackend('ibmq_16_melbourne') from IBMQ()>,\n",
       " <IBMQBackend('ibmq_qasm_simulator') from IBMQ()>]"
      ]
     },
     "execution_count": 20,
     "metadata": {},
     "output_type": "execute_result"
    }
   ],
   "source": [
    "IBMQ.disable_accounts()\n",
    "IBMQ.load_accounts(url='https://quantumexperience.ng.bluemix.net/api')\n",
    "IBMQ.backends()"
   ]
  },
  {
   "cell_type": "markdown",
   "metadata": {},
   "source": [
    "## Filtering the backends\n",
    "\n",
    "You may also optionally filter the set of returned backends, by passing arguments that query the backend's `configuration` or `status` or `properties`. The filters are passed by conditions and for more general filters you can make advanced functions using the lambda function.\n",
    "\n",
    "As a first example: only return currently operational devices"
   ]
  },
  {
   "cell_type": "code",
   "execution_count": 21,
   "metadata": {},
   "outputs": [
    {
     "data": {
      "text/plain": [
       "[<IBMQBackend('ibmqx4') from IBMQ()>,\n",
       " <IBMQBackend('ibmq_16_melbourne') from IBMQ()>]"
      ]
     },
     "execution_count": 21,
     "metadata": {},
     "output_type": "execute_result"
    }
   ],
   "source": [
    "IBMQ.backends(operational=True, simulator=False)"
   ]
  },
  {
   "cell_type": "markdown",
   "metadata": {},
   "source": [
    "only return backends that are real devices, have more than 10 qubits and are operational"
   ]
  },
  {
   "cell_type": "code",
   "execution_count": 22,
   "metadata": {},
   "outputs": [
    {
     "data": {
      "text/plain": [
       "[<IBMQBackend('ibmq_16_melbourne') from IBMQ()>]"
      ]
     },
     "execution_count": 22,
     "metadata": {},
     "output_type": "execute_result"
    }
   ],
   "source": [
    "IBMQ.backends(filters=lambda x: x.configuration()['n_qubits'] > 10 and \n",
    "              not x.configuration()['simulator'] and x.status()['operational']==True)"
   ]
  },
  {
   "cell_type": "markdown",
   "metadata": {},
   "source": [
    "Filter: show the least busy device (in terms of pending jobs in the queue)"
   ]
  },
  {
   "cell_type": "code",
   "execution_count": 23,
   "metadata": {},
   "outputs": [
    {
     "data": {
      "text/plain": [
       "<IBMQBackend('ibmq_16_melbourne') from IBMQ()>"
      ]
     },
     "execution_count": 23,
     "metadata": {},
     "output_type": "execute_result"
    }
   ],
   "source": [
    "from qiskit.backends.ibmq import least_busy\n",
    "least_busy(IBMQ.backends(simulator=False))"
   ]
  },
  {
   "cell_type": "markdown",
   "metadata": {},
   "source": [
    "The above filters can be combined as desired.\n",
    "\n",
    "If you just want to get an instance of a particular backend, you can use the `get_backend()` method."
   ]
  },
  {
   "cell_type": "code",
   "execution_count": 24,
   "metadata": {},
   "outputs": [
    {
     "data": {
      "text/plain": [
       "<IBMQBackend('ibmq_16_melbourne') from IBMQ()>"
      ]
     },
     "execution_count": 24,
     "metadata": {},
     "output_type": "execute_result"
    }
   ],
   "source": [
    "IBMQ.get_backend('ibmq_16_melbourne')"
   ]
  },
  {
   "cell_type": "markdown",
   "metadata": {},
   "source": [
    "## The backend\n",
    "\n",
    "Backends represent either a simulator or a real quantum computer, and are responsible for running quantum circuits and returning results. They have a `run` method which takes in a `qobj` as input, which is a quantum object and the result of the compilation process, and returns a BaseJob object. This object allows asynchronous running of jobs for retrieving results from a backend when the job is completed.\n",
    "\n",
    "At a minimum, backends use the following methods, inherited from BaseBackend:\n",
    "\n",
    "```\n",
    "provider - returns the provider of the backend\n",
    "```\n",
    "```\n",
    "name() - gets the name of the backend.\n",
    "```\n",
    "```\n",
    "status() - gets the status of the backend.\n",
    "```\n",
    "```\n",
    "configuration() - gets the configuration of the backend.\n",
    "```\n",
    "```\n",
    "properties()-  gets the properties of the backend.\n",
    "```\n",
    "```\n",
    "run()  - runs a qobj on the backend.\n",
    "```\n",
    "```\n",
    "jobs()  -  returns a list of previous jobs executed by this user on this backend.\n",
    "```\n",
    "```\n",
    "retrieve_job() - returns a job by a job_id.\n",
    "```\n",
    "\n",
    "In future updates they will introduce the following commands\n",
    "```\n",
    "defaults() - gives a data structure of typical default parameters.\n",
    "```\n",
    "```\n",
    "schema() - gets a schema for the backend\n",
    "```\n",
    "\n",
    "There are some IBMQ only functions \n",
    "```\n",
    "hub  - returns the IBMQ hub for this backend.\n",
    "```\n",
    "```\n",
    "group - returns the IBMQ group for this backend.\n",
    "```\n",
    "```\n",
    "project - returns the IBMQ project for this backend.\n",
    "```"
   ]
  },
  {
   "cell_type": "code",
   "execution_count": 26,
   "metadata": {},
   "outputs": [],
   "source": [
    "backend = least_busy(IBMQ.backends(simulator=False))"
   ]
  },
  {
   "cell_type": "markdown",
   "metadata": {},
   "source": [
    "Lets start with the `backend.provider`, which returns a provider object"
   ]
  },
  {
   "cell_type": "code",
   "execution_count": 27,
   "metadata": {},
   "outputs": [
    {
     "data": {
      "text/plain": [
       "<qiskit.backends.ibmq.ibmqprovider.IBMQProvider at 0x1055e84a8>"
      ]
     },
     "execution_count": 27,
     "metadata": {},
     "output_type": "execute_result"
    }
   ],
   "source": [
    "backend.provider"
   ]
  },
  {
   "cell_type": "markdown",
   "metadata": {},
   "source": [
    "Next is the `name()`, which returns the name of the backend"
   ]
  },
  {
   "cell_type": "code",
   "execution_count": 28,
   "metadata": {},
   "outputs": [
    {
     "data": {
      "text/plain": [
       "'ibmq_16_melbourne'"
      ]
     },
     "execution_count": 28,
     "metadata": {},
     "output_type": "execute_result"
    }
   ],
   "source": [
    "backend.name()"
   ]
  },
  {
   "cell_type": "markdown",
   "metadata": {},
   "source": [
    "Next lets look at the `status()`:\n",
    "\n",
    "    `operational` lets us know that the backend is taking jobs\n",
    "\n",
    "    `pending_jobs` lets you know how many jobs are in the queue"
   ]
  },
  {
   "cell_type": "code",
   "execution_count": 29,
   "metadata": {},
   "outputs": [
    {
     "data": {
      "text/plain": [
       "{'pending_jobs': 4, 'name': 'ibmq_16_melbourne', 'operational': True}"
      ]
     },
     "execution_count": 29,
     "metadata": {},
     "output_type": "execute_result"
    }
   ],
   "source": [
    "backend.status()"
   ]
  },
  {
   "cell_type": "markdown",
   "metadata": {},
   "source": [
    "The next is `configuration()`"
   ]
  },
  {
   "cell_type": "code",
   "execution_count": 30,
   "metadata": {
    "ExecuteTime": {
     "end_time": "2018-09-26T14:38:43.707148Z",
     "start_time": "2018-09-26T14:38:43.696135Z"
    }
   },
   "outputs": [
    {
     "data": {
      "text/plain": [
       "{'allow_q_object': False,\n",
       " 'basis_gates': 'u1,u2,u3,cx,id',\n",
       " 'chip_name': 'Albatross',\n",
       " 'coupling_map': [[1, 0],\n",
       "  [1, 2],\n",
       "  [2, 3],\n",
       "  [4, 3],\n",
       "  [4, 10],\n",
       "  [5, 4],\n",
       "  [5, 6],\n",
       "  [5, 9],\n",
       "  [6, 8],\n",
       "  [7, 8],\n",
       "  [9, 8],\n",
       "  [9, 10],\n",
       "  [11, 3],\n",
       "  [11, 10],\n",
       "  [11, 12],\n",
       "  [12, 2],\n",
       "  [13, 1],\n",
       "  [13, 12]],\n",
       " 'deleted': False,\n",
       " 'description': '16 transmon 2x8 ladder',\n",
       " 'internal_id': '5ba502d0986f16003ea56c87',\n",
       " 'local': False,\n",
       " 'n_qubits': 14,\n",
       " 'name': 'ibmq_16_melbourne',\n",
       " 'online_date': '2018-09-07T00:00:00.000Z',\n",
       " 'simulator': False,\n",
       " 'url': 'https://ibm.biz/qiskit-ibmq_16_melbourne',\n",
       " 'version': '1.0.0'}"
      ]
     },
     "execution_count": 30,
     "metadata": {},
     "output_type": "execute_result"
    }
   ],
   "source": [
    "backend.configuration()"
   ]
  },
  {
   "cell_type": "markdown",
   "metadata": {},
   "source": [
    "The next is `properties()` method"
   ]
  },
  {
   "cell_type": "code",
   "execution_count": 31,
   "metadata": {
    "ExecuteTime": {
     "end_time": "2018-09-26T14:39:02.682614Z",
     "start_time": "2018-09-26T14:38:54.191129Z"
    }
   },
   "outputs": [
    {
     "data": {
      "text/plain": [
       "{'backend': 'ibmq_16_melbourne',\n",
       " 'fridge_parameters': {'Temperature': {'date': '2018-10-06T08:43:09Z',\n",
       "   'unit': 'K',\n",
       "   'value': 0.0249458},\n",
       "  'cooldownDate': '2018-07-10'},\n",
       " 'last_update_date': '2018-10-06T06:30:11.000Z',\n",
       " 'multi_qubit_gates': [{'gateError': {'date': '2018-10-06T07:32:18Z',\n",
       "    'value': 0.04559754864813756},\n",
       "   'name': 'CX1_0',\n",
       "   'qubits': [1, 0],\n",
       "   'type': 'CX'},\n",
       "  {'gateError': {'date': '2018-10-06T07:32:18Z', 'value': 0.03867861326950542},\n",
       "   'name': 'CX1_2',\n",
       "   'qubits': [1, 2],\n",
       "   'type': 'CX'},\n",
       "  {'gateError': {'date': '2018-10-06T07:32:18Z',\n",
       "    'value': 0.039302606600780804},\n",
       "   'name': 'CX2_3',\n",
       "   'qubits': [2, 3],\n",
       "   'type': 'CX'},\n",
       "  {'gateError': {'date': '2018-10-06T07:32:18Z',\n",
       "    'value': 0.041950036783372474},\n",
       "   'name': 'CX4_3',\n",
       "   'qubits': [4, 3],\n",
       "   'type': 'CX'},\n",
       "  {'gateError': {'date': '2018-10-06T07:32:18Z', 'value': 0.03629611300453783},\n",
       "   'name': 'CX4_10',\n",
       "   'qubits': [4, 10],\n",
       "   'type': 'CX'},\n",
       "  {'gateError': {'date': '2018-10-06T07:32:18Z', 'value': 0.04983955070294538},\n",
       "   'name': 'CX5_4',\n",
       "   'qubits': [5, 4],\n",
       "   'type': 'CX'},\n",
       "  {'gateError': {'date': '2018-10-06T07:32:18Z', 'value': 0.04905767816053688},\n",
       "   'name': 'CX5_6',\n",
       "   'qubits': [5, 6],\n",
       "   'type': 'CX'},\n",
       "  {'gateError': {'date': '2018-10-06T07:32:18Z', 'value': 0.01556362802191108},\n",
       "   'name': 'CX5_9',\n",
       "   'qubits': [5, 9],\n",
       "   'type': 'CX'},\n",
       "  {'gateError': {'date': '2018-10-06T07:32:18Z', 'value': 0.2747211093889931},\n",
       "   'name': 'CX6_8',\n",
       "   'qubits': [6, 8],\n",
       "   'type': 'CX'},\n",
       "  {'gateError': {'date': '2018-10-06T07:32:18Z',\n",
       "    'value': 0.030311034366167278},\n",
       "   'name': 'CX7_8',\n",
       "   'qubits': [7, 8],\n",
       "   'type': 'CX'},\n",
       "  {'gateError': {'date': '2018-10-06T07:32:18Z',\n",
       "    'value': 0.037660075340154614},\n",
       "   'name': 'CX9_8',\n",
       "   'qubits': [9, 8],\n",
       "   'type': 'CX'},\n",
       "  {'gateError': {'date': '2018-10-06T07:32:18Z', 'value': 0.05405831530567856},\n",
       "   'name': 'CX9_10',\n",
       "   'qubits': [9, 10],\n",
       "   'type': 'CX'},\n",
       "  {'gateError': {'date': '2018-10-06T07:32:18Z',\n",
       "    'value': 0.043964506791472985},\n",
       "   'name': 'CX11_10',\n",
       "   'qubits': [11, 10],\n",
       "   'type': 'CX'},\n",
       "  {'gateError': {'date': '2018-10-06T07:32:18Z', 'value': 0.03744435822262118},\n",
       "   'name': 'CX11_12',\n",
       "   'qubits': [11, 12],\n",
       "   'type': 'CX'},\n",
       "  {'gateError': {'date': '2018-10-06T07:32:18Z', 'value': 0.03513187754784444},\n",
       "   'name': 'CX11_3',\n",
       "   'qubits': [11, 3],\n",
       "   'type': 'CX'},\n",
       "  {'gateError': {'date': '2018-10-06T07:32:18Z', 'value': 0.13614701822491065},\n",
       "   'name': 'CX12_2',\n",
       "   'qubits': [12, 2],\n",
       "   'type': 'CX'},\n",
       "  {'gateError': {'date': '2018-10-06T07:32:18Z', 'value': 0.12036449330633306},\n",
       "   'name': 'CX13_1',\n",
       "   'qubits': [13, 1],\n",
       "   'type': 'CX'},\n",
       "  {'gateError': {'date': '2018-10-06T07:32:18Z', 'value': 0.03874838226047006},\n",
       "   'name': 'CX13_12',\n",
       "   'qubits': [13, 12],\n",
       "   'type': 'CX'}],\n",
       " 'qubits': [{'T1': {'date': '2018-10-06T06:28:46Z',\n",
       "    'unit': 'µs',\n",
       "    'value': 62.7},\n",
       "   'T2': {'date': '2018-10-06T06:30:11Z', 'unit': 'µs', 'value': 17.3},\n",
       "   'buffer': {'date': '2018-10-06T06:05:09Z', 'unit': 'ns', 'value': 10},\n",
       "   'frequency': {'date': '2018-10-06T06:05:09Z',\n",
       "    'units': 'GHz',\n",
       "    'value': 5.100063},\n",
       "   'gateError': {'date': '2018-10-06T06:34:18Z',\n",
       "    'value': 0.0014829336920579306},\n",
       "   'gateTime': {'date': '2018-10-06T06:05:09Z', 'unit': 'ns', 'value': 100},\n",
       "   'name': 'Q0',\n",
       "   'readoutError': {'date': '2018-10-06T06:28:22Z',\n",
       "    'value': 0.04709999999999992}},\n",
       "  {'T1': {'date': '2018-10-06T06:28:46Z', 'unit': 'µs', 'value': 69.6},\n",
       "   'T2': {'date': '2018-10-06T06:30:11Z', 'unit': 'µs', 'value': 91.1},\n",
       "   'buffer': {'date': '2018-10-06T06:05:09Z', 'unit': 'ns', 'value': 10},\n",
       "   'frequency': {'date': '2018-10-06T06:05:09Z',\n",
       "    'units': 'GHz',\n",
       "    'value': 5.238342},\n",
       "   'gateError': {'date': '2018-10-06T06:34:18Z', 'value': 0.00628005147860089},\n",
       "   'gateTime': {'date': '2018-10-06T06:05:09Z', 'unit': 'ns', 'value': 100},\n",
       "   'name': 'Q1',\n",
       "   'readoutError': {'date': '2018-10-06T06:28:22Z', 'value': 0.0665}},\n",
       "  {'T1': {'date': '2018-10-06T06:28:46Z', 'unit': 'µs', 'value': 67.6},\n",
       "   'T2': {'date': '2018-10-06T06:30:11Z', 'unit': 'µs', 'value': 84.8},\n",
       "   'buffer': {'date': '2018-10-06T06:05:09Z', 'unit': 'ns', 'value': 10},\n",
       "   'frequency': {'date': '2018-10-06T06:05:09Z',\n",
       "    'units': 'GHz',\n",
       "    'value': 5.0328782},\n",
       "   'gateError': {'date': '2018-10-06T06:34:18Z',\n",
       "    'value': 0.003996111530505164},\n",
       "   'gateTime': {'date': '2018-10-06T06:05:09Z', 'unit': 'ns', 'value': 100},\n",
       "   'name': 'Q2',\n",
       "   'readoutError': {'date': '2018-10-06T06:28:22Z',\n",
       "    'value': 0.031399999999999983}},\n",
       "  {'T1': {'date': '2018-10-06T06:28:46Z', 'unit': 'µs', 'value': 73.6},\n",
       "   'T2': {'date': '2018-10-06T06:30:11Z', 'unit': 'µs', 'value': 105.2},\n",
       "   'buffer': {'date': '2018-10-06T06:05:09Z', 'unit': 'ns', 'value': 10},\n",
       "   'frequency': {'date': '2018-10-06T06:05:09Z',\n",
       "    'units': 'GHz',\n",
       "    'value': 4.8961464},\n",
       "   'gateError': {'date': '2018-10-06T06:34:18Z',\n",
       "    'value': 0.001217156078122783},\n",
       "   'gateTime': {'date': '2018-10-06T06:05:09Z', 'unit': 'ns', 'value': 100},\n",
       "   'name': 'Q3',\n",
       "   'readoutError': {'date': '2018-10-06T06:28:22Z',\n",
       "    'value': 0.06410000000000005}},\n",
       "  {'T1': {'date': '2018-10-06T06:28:46Z', 'unit': 'µs', 'value': 49.7},\n",
       "   'T2': {'date': '2018-10-06T06:30:11Z', 'unit': 'µs', 'value': 22.9},\n",
       "   'buffer': {'date': '2018-10-06T06:05:09Z', 'unit': 'ns', 'value': 10},\n",
       "   'frequency': {'date': '2018-10-06T06:05:09Z',\n",
       "    'units': 'GHz',\n",
       "    'value': 5.0261551},\n",
       "   'gateError': {'date': '2018-10-06T06:34:18Z',\n",
       "    'value': 0.0021251136121193115},\n",
       "   'gateTime': {'date': '2018-10-06T06:05:09Z', 'unit': 'ns', 'value': 100},\n",
       "   'name': 'Q4',\n",
       "   'readoutError': {'date': '2018-10-06T06:28:22Z',\n",
       "    'value': 0.19289999999999996}},\n",
       "  {'T1': {'date': '2018-10-06T06:28:46Z', 'unit': 'µs', 'value': 26.2},\n",
       "   'T2': {'date': '2018-10-06T06:30:11Z', 'unit': 'µs', 'value': 32.5},\n",
       "   'buffer': {'date': '2018-10-06T06:05:09Z', 'unit': 'ns', 'value': 10},\n",
       "   'frequency': {'date': '2018-10-06T06:05:09Z',\n",
       "    'units': 'GHz',\n",
       "    'value': 5.06704},\n",
       "   'gateError': {'date': '2018-10-06T06:34:18Z',\n",
       "    'value': 0.0019093337609746297},\n",
       "   'gateTime': {'date': '2018-10-06T06:05:09Z', 'unit': 'ns', 'value': 100},\n",
       "   'name': 'Q5',\n",
       "   'readoutError': {'date': '2018-10-06T06:28:22Z',\n",
       "    'value': 0.02980000000000005}},\n",
       "  {'T1': {'date': '2018-10-06T06:28:46Z', 'unit': 'µs', 'value': 69.8},\n",
       "   'T2': {'date': '2018-10-06T06:30:11Z', 'unit': 'µs', 'value': 65.9},\n",
       "   'buffer': {'date': '2018-10-06T06:05:09Z', 'unit': 'ns', 'value': 10},\n",
       "   'frequency': {'date': '2018-10-06T06:05:09Z',\n",
       "    'units': 'GHz',\n",
       "    'value': 4.9237532},\n",
       "   'gateError': {'date': '2018-10-06T06:34:18Z',\n",
       "    'value': 0.0010168000579039993},\n",
       "   'gateTime': {'date': '2018-10-06T06:05:09Z', 'unit': 'ns', 'value': 100},\n",
       "   'name': 'Q6',\n",
       "   'readoutError': {'date': '2018-10-06T06:28:22Z',\n",
       "    'value': 0.041100000000000025}},\n",
       "  {'T1': {'date': '2018-10-06T06:28:46Z', 'unit': 'µs', 'value': 41.1},\n",
       "   'T2': {'date': '2018-10-06T06:30:11Z', 'unit': 'µs', 'value': 58.3},\n",
       "   'buffer': {'date': '2018-10-06T06:05:09Z', 'unit': 'ns', 'value': 10},\n",
       "   'frequency': {'date': '2018-10-06T06:05:09Z',\n",
       "    'units': 'GHz',\n",
       "    'value': 4.9744305},\n",
       "   'gateError': {'date': '2018-10-06T06:34:18Z',\n",
       "    'value': 0.0021339924829347767},\n",
       "   'gateTime': {'date': '2018-10-06T06:05:09Z', 'unit': 'ns', 'value': 100},\n",
       "   'name': 'Q7',\n",
       "   'readoutError': {'date': '2018-10-06T06:28:22Z',\n",
       "    'value': 0.049900000000000055}},\n",
       "  {'T1': {'date': '2018-10-06T06:28:46Z', 'unit': 'µs', 'value': 113.7},\n",
       "   'T2': {'date': '2018-10-06T06:30:11Z', 'unit': 'µs', 'value': 193.9},\n",
       "   'buffer': {'date': '2018-10-06T06:05:09Z', 'unit': 'ns', 'value': 10},\n",
       "   'frequency': {'date': '2018-10-06T06:05:09Z',\n",
       "    'units': 'GHz',\n",
       "    'value': 4.7381103},\n",
       "   'gateError': {'date': '2018-10-06T06:34:18Z',\n",
       "    'value': 0.0018009633985462958},\n",
       "   'gateTime': {'date': '2018-10-06T06:05:09Z', 'unit': 'ns', 'value': 100},\n",
       "   'name': 'Q8',\n",
       "   'readoutError': {'date': '2018-10-06T06:28:22Z',\n",
       "    'value': 0.036699999999999955}},\n",
       "  {'T1': {'date': '2018-10-06T06:28:46Z', 'unit': 'µs', 'value': 43.7},\n",
       "   'T2': {'date': '2018-10-06T06:30:11Z', 'unit': 'µs', 'value': 60.7},\n",
       "   'buffer': {'date': '2018-10-06T06:05:09Z', 'unit': 'ns', 'value': 10},\n",
       "   'frequency': {'date': '2018-10-06T06:05:09Z',\n",
       "    'units': 'GHz',\n",
       "    'value': 4.9633145},\n",
       "   'gateError': {'date': '2018-10-06T06:34:18Z',\n",
       "    'value': 0.002310575271267379},\n",
       "   'gateTime': {'date': '2018-10-06T06:05:09Z', 'unit': 'ns', 'value': 100},\n",
       "   'name': 'Q9',\n",
       "   'readoutError': {'date': '2018-10-06T06:28:22Z',\n",
       "    'value': 0.03720000000000001}},\n",
       "  {'T1': {'date': '2018-10-06T06:28:46Z', 'unit': 'µs', 'value': 40.9},\n",
       "   'T2': {'date': '2018-10-06T06:30:11Z', 'unit': 'µs', 'value': 55.5},\n",
       "   'buffer': {'date': '2018-10-06T06:05:09Z', 'unit': 'ns', 'value': 10},\n",
       "   'frequency': {'date': '2018-10-06T06:05:09Z',\n",
       "    'units': 'GHz',\n",
       "    'value': 4.9449491},\n",
       "   'gateError': {'date': '2018-10-06T06:34:18Z',\n",
       "    'value': 0.002463892954916058},\n",
       "   'gateTime': {'date': '2018-10-06T06:05:09Z', 'unit': 'ns', 'value': 100},\n",
       "   'name': 'Q10',\n",
       "   'readoutError': {'date': '2018-10-06T06:28:22Z',\n",
       "    'value': 0.06309999999999993}},\n",
       "  {'T1': {'date': '2018-10-06T06:28:46Z', 'unit': 'µs', 'value': 62.5},\n",
       "   'T2': {'date': '2018-10-06T06:30:11Z', 'unit': 'µs', 'value': 76.1},\n",
       "   'buffer': {'date': '2018-10-06T06:05:09Z', 'unit': 'ns', 'value': 10},\n",
       "   'frequency': {'date': '2018-10-06T06:05:09Z',\n",
       "    'units': 'GHz',\n",
       "    'value': 5.0046321},\n",
       "   'gateError': {'date': '2018-10-06T06:34:18Z',\n",
       "    'value': 0.001748368643750664},\n",
       "   'gateTime': {'date': '2018-10-06T06:05:09Z', 'unit': 'ns', 'value': 100},\n",
       "   'name': 'Q11',\n",
       "   'readoutError': {'date': '2018-10-06T06:28:22Z',\n",
       "    'value': 0.02970000000000006}},\n",
       "  {'T1': {'date': '2018-10-06T06:28:46Z', 'unit': 'µs', 'value': 85.9},\n",
       "   'T2': {'date': '2018-10-06T06:30:11Z', 'unit': 'µs', 'value': 115.6},\n",
       "   'buffer': {'date': '2018-10-06T06:05:09Z', 'unit': 'ns', 'value': 10},\n",
       "   'frequency': {'date': '2018-10-06T06:05:09Z',\n",
       "    'units': 'GHz',\n",
       "    'value': 4.7598315},\n",
       "   'gateError': {'date': '2018-10-06T06:34:18Z',\n",
       "    'value': 0.004423808572166454},\n",
       "   'gateTime': {'date': '2018-10-06T06:05:09Z', 'unit': 'ns', 'value': 100},\n",
       "   'name': 'Q12',\n",
       "   'readoutError': {'date': '2018-10-06T06:28:22Z',\n",
       "    'value': 0.14379999999999993}},\n",
       "  {'T1': {'date': '2018-10-06T06:28:46Z', 'unit': 'µs', 'value': 29.4},\n",
       "   'T2': {'date': '2018-10-06T06:30:11Z', 'unit': 'µs', 'value': 46.7},\n",
       "   'buffer': {'date': '2018-10-06T06:05:09Z', 'unit': 'ns', 'value': 10},\n",
       "   'frequency': {'date': '2018-10-06T06:05:09Z',\n",
       "    'units': 'GHz',\n",
       "    'value': 4.9685335},\n",
       "   'gateError': {'date': '2018-10-06T06:34:18Z',\n",
       "    'value': 0.005713581500520315},\n",
       "   'gateTime': {'date': '2018-10-06T06:05:09Z', 'unit': 'ns', 'value': 100},\n",
       "   'name': 'Q13',\n",
       "   'readoutError': {'date': '2018-10-06T06:28:22Z',\n",
       "    'value': 0.03939999999999999}}]}"
      ]
     },
     "execution_count": 31,
     "metadata": {},
     "output_type": "execute_result"
    }
   ],
   "source": [
    "backend.properties()"
   ]
  },
  {
   "cell_type": "markdown",
   "metadata": {},
   "source": [
    "The next is `hub`, `group`, and `project`. For the IBM Q experience these will return `None`"
   ]
  },
  {
   "cell_type": "code",
   "execution_count": 32,
   "metadata": {},
   "outputs": [],
   "source": [
    "backend.hub"
   ]
  },
  {
   "cell_type": "code",
   "execution_count": 33,
   "metadata": {},
   "outputs": [],
   "source": [
    "backend.group"
   ]
  },
  {
   "cell_type": "code",
   "execution_count": 34,
   "metadata": {},
   "outputs": [],
   "source": [
    "backend.project"
   ]
  },
  {
   "cell_type": "markdown",
   "metadata": {},
   "source": [
    "To see you last 5 jobs ran on the backend use `jobs()` method"
   ]
  },
  {
   "cell_type": "code",
   "execution_count": 53,
   "metadata": {},
   "outputs": [
    {
     "name": "stdout",
     "output_type": "stream",
     "text": [
      "5bb9b0f19458ec0044ab4954 JobStatus.QUEUED\n",
      "5bb9abd60b99f20045d26437 JobStatus.QUEUED\n",
      "5bb9abcbad9281004fd2bd61 JobStatus.CANCELLED\n",
      "5bb9aa1f0022e5003c2928f6 JobStatus.QUEUED\n",
      "5bb9a9911087bf0047addeb7 JobStatus.QUEUED\n"
     ]
    }
   ],
   "source": [
    "for ran_job in backend.jobs(limit=5):\n",
    "    print(str(ran_job.job_id()) + \" \" + str(ran_job.status()))"
   ]
  },
  {
   "cell_type": "markdown",
   "metadata": {},
   "source": [
    "Then the job can be retreived using `retrieve_job(job_id())` method"
   ]
  },
  {
   "cell_type": "code",
   "execution_count": 37,
   "metadata": {},
   "outputs": [],
   "source": [
    "job = backend.retrieve_job(ran_job.job_id())"
   ]
  },
  {
   "cell_type": "markdown",
   "metadata": {},
   "source": [
    "### The Job object\n",
    "\n",
    "Job instances can be thought of as the “ticket” for a submitted job. They find out the execution’s state at a given point in time (for example, if the job is queued, running, or has failed) and also allow control over the job. They have the following methods:\n",
    "\n",
    "```\n",
    "status() - returns the status of the job.\n",
    "```\n",
    "```\n",
    "backend() - returns the backend the job was run on.\n",
    "```\n",
    "```\n",
    "job_id()  - gets the job_id.\n",
    "```\n",
    "```\n",
    "cancel() - cancels the job.\n",
    "```\n",
    "```\n",
    "result() - gets the results from the circuit run.\n",
    "```\n",
    "\n",
    "IBMQ only functions \n",
    "```\n",
    "creation_date() - gives the date at which the job was created.\n",
    "```\n",
    "```\n",
    "queue_position() - gives the positon of the job in the queue.\n",
    "```"
   ]
  },
  {
   "cell_type": "markdown",
   "metadata": {},
   "source": [
    "Lets start with the `status()`. This returns the job status and a message"
   ]
  },
  {
   "cell_type": "code",
   "execution_count": 38,
   "metadata": {},
   "outputs": [
    {
     "data": {
      "text/plain": [
       "<JobStatus.DONE: 'job has successfully run'>"
      ]
     },
     "execution_count": 38,
     "metadata": {},
     "output_type": "execute_result"
    }
   ],
   "source": [
    "job.status()"
   ]
  },
  {
   "cell_type": "markdown",
   "metadata": {},
   "source": [
    "To get a backend object from the job use the `backend()` method"
   ]
  },
  {
   "cell_type": "code",
   "execution_count": 39,
   "metadata": {},
   "outputs": [
    {
     "data": {
      "text/plain": [
       "<IBMQBackend('ibmq_16_melbourne') from IBMQ()>"
      ]
     },
     "execution_count": 39,
     "metadata": {},
     "output_type": "execute_result"
    }
   ],
   "source": [
    "backend_temp = job.backend()\n",
    "backend_temp"
   ]
  },
  {
   "cell_type": "markdown",
   "metadata": {},
   "source": [
    "To get the job_id use the `job_id()` method"
   ]
  },
  {
   "cell_type": "code",
   "execution_count": 40,
   "metadata": {},
   "outputs": [
    {
     "data": {
      "text/plain": [
       "'5bb966a731e334004b275f89'"
      ]
     },
     "execution_count": 40,
     "metadata": {},
     "output_type": "execute_result"
    }
   ],
   "source": [
    "job.job_id()"
   ]
  },
  {
   "cell_type": "markdown",
   "metadata": {},
   "source": [
    "To get the result from the job use the `result()` method"
   ]
  },
  {
   "cell_type": "code",
   "execution_count": 41,
   "metadata": {},
   "outputs": [
    {
     "name": "stdout",
     "output_type": "stream",
     "text": [
      "{'000': 38, '100': 62, '001': 153, '101': 487, '010': 46, '110': 48, '011': 60, '111': 130}\n"
     ]
    }
   ],
   "source": [
    "result = job.result()\n",
    "counts = result.get_counts()\n",
    "print(counts)"
   ]
  },
  {
   "cell_type": "markdown",
   "metadata": {},
   "source": [
    "If you want to check the creation date use `creation_date()`"
   ]
  },
  {
   "cell_type": "code",
   "execution_count": 42,
   "metadata": {},
   "outputs": [
    {
     "data": {
      "text/plain": [
       "'2018-10-07T01:51:35.580Z'"
      ]
     },
     "execution_count": 42,
     "metadata": {},
     "output_type": "execute_result"
    }
   ],
   "source": [
    "job.creation_date()"
   ]
  },
  {
   "cell_type": "markdown",
   "metadata": {},
   "source": [
    "Lets make an active example"
   ]
  },
  {
   "cell_type": "code",
   "execution_count": 44,
   "metadata": {},
   "outputs": [],
   "source": [
    "from qiskit import QuantumCircuit, ClassicalRegister, QuantumRegister\n",
    "from qiskit import compile"
   ]
  },
  {
   "cell_type": "code",
   "execution_count": 45,
   "metadata": {
    "ExecuteTime": {
     "end_time": "2018-09-26T14:39:13.343626Z",
     "start_time": "2018-09-26T14:39:13.334395Z"
    }
   },
   "outputs": [
    {
     "data": {
      "text/plain": [
       "<qiskit._instructionset.InstructionSet at 0x1088e29e8>"
      ]
     },
     "execution_count": 45,
     "metadata": {},
     "output_type": "execute_result"
    }
   ],
   "source": [
    "qr = QuantumRegister(3)\n",
    "cr = ClassicalRegister(3)\n",
    "circuit = QuantumCircuit(qr, cr)\n",
    "circuit.x(qr[0])\n",
    "circuit.x(qr[1])\n",
    "circuit.ccx(qr[0], qr[1], qr[2])\n",
    "circuit.cx(qr[0], qr[1])\n",
    "circuit.measure(qr, cr)"
   ]
  },
  {
   "cell_type": "markdown",
   "metadata": {},
   "source": [
    "To complie this circuit for the backend use the compile function. It will make a qobj (quantum object) that can be run on the backend using the `run(qobj)` method. "
   ]
  },
  {
   "cell_type": "code",
   "execution_count": 52,
   "metadata": {},
   "outputs": [],
   "source": [
    "qobj = compile(circuit, backend=backend, shots=1024)\n",
    "job = backend.run(qobj)"
   ]
  },
  {
   "cell_type": "markdown",
   "metadata": {},
   "source": [
    "The status of this job can be check with the `status()` method"
   ]
  },
  {
   "cell_type": "code",
   "execution_count": 47,
   "metadata": {},
   "outputs": [
    {
     "data": {
      "text/plain": [
       "<JobStatus.QUEUED: 'job is queued'>"
      ]
     },
     "execution_count": 47,
     "metadata": {},
     "output_type": "execute_result"
    }
   ],
   "source": [
    "job.status()"
   ]
  },
  {
   "cell_type": "markdown",
   "metadata": {},
   "source": [
    "If you made a mistake and need to cancel the job use the `cancel()` method."
   ]
  },
  {
   "cell_type": "code",
   "execution_count": 48,
   "metadata": {},
   "outputs": [
    {
     "data": {
      "text/plain": [
       "True"
      ]
     },
     "execution_count": 48,
     "metadata": {},
     "output_type": "execute_result"
    }
   ],
   "source": [
    "job.cancel()"
   ]
  },
  {
   "cell_type": "markdown",
   "metadata": {},
   "source": [
    "The `status()` will show that the job cancelled. "
   ]
  },
  {
   "cell_type": "code",
   "execution_count": 49,
   "metadata": {},
   "outputs": [
    {
     "data": {
      "text/plain": [
       "<JobStatus.CANCELLED: 'job has been cancelled'>"
      ]
     },
     "execution_count": 49,
     "metadata": {},
     "output_type": "execute_result"
    }
   ],
   "source": [
    "job.status()"
   ]
  },
  {
   "cell_type": "markdown",
   "metadata": {},
   "source": [
    "To rerun the job and set up a loop to check the status and queue position you can use the `queue_position()` method. "
   ]
  },
  {
   "cell_type": "code",
   "execution_count": 50,
   "metadata": {
    "ExecuteTime": {
     "end_time": "2018-09-26T14:39:14.902205Z",
     "start_time": "2018-09-26T14:39:14.898287Z"
    }
   },
   "outputs": [],
   "source": [
    "job = backend.run(qobj)"
   ]
  },
  {
   "cell_type": "code",
   "execution_count": 51,
   "metadata": {},
   "outputs": [
    {
     "name": "stdout",
     "output_type": "stream",
     "text": [
      "Status @ 0 seconds\n",
      "JobStatus.INITIALIZING\n",
      "None\n",
      "Status @ 60 seconds\n",
      "JobStatus.QUEUED\n",
      "5\n",
      "Status @ 120 seconds\n",
      "JobStatus.QUEUED\n",
      "5\n",
      "Status @ 180 seconds\n",
      "JobStatus.QUEUED\n",
      "5\n",
      "Status @ 240 seconds\n",
      "JobStatus.QUEUED\n",
      "5\n",
      "Status @ 300 seconds\n",
      "JobStatus.QUEUED\n",
      "5\n",
      "Status @ 360 seconds\n",
      "JobStatus.QUEUED\n",
      "5\n",
      "Status @ 420 seconds\n",
      "JobStatus.QUEUED\n",
      "5\n",
      "Status @ 480 seconds\n",
      "JobStatus.QUEUED\n",
      "5\n",
      "Status @ 540 seconds\n",
      "JobStatus.QUEUED\n",
      "5\n",
      "Status @ 600 seconds\n",
      "JobStatus.QUEUED\n",
      "5\n",
      "Status @ 660 seconds\n",
      "JobStatus.QUEUED\n",
      "5\n",
      "Status @ 720 seconds\n",
      "JobStatus.QUEUED\n",
      "5\n",
      "Status @ 780 seconds\n",
      "JobStatus.QUEUED\n",
      "5\n",
      "Status @ 840 seconds\n",
      "JobStatus.QUEUED\n",
      "5\n",
      "Status @ 900 seconds\n",
      "JobStatus.QUEUED\n",
      "5\n",
      "Status @ 960 seconds\n",
      "JobStatus.QUEUED\n",
      "5\n",
      "Status @ 1020 seconds\n",
      "JobStatus.QUEUED\n",
      "5\n",
      "Status @ 1080 seconds\n",
      "JobStatus.QUEUED\n",
      "5\n",
      "Status @ 1140 seconds\n",
      "JobStatus.QUEUED\n",
      "5\n",
      "Status @ 1200 seconds\n",
      "JobStatus.QUEUED\n",
      "5\n"
     ]
    },
    {
     "ename": "KeyboardInterrupt",
     "evalue": "",
     "output_type": "error",
     "traceback": [
      "\u001b[0;31m---------------------------------------------------------------------------\u001b[0m",
      "\u001b[0;31mKeyboardInterrupt\u001b[0m                         Traceback (most recent call last)",
      "\u001b[0;32m<ipython-input-51-7b755055a59f>\u001b[0m in \u001b[0;36m<module>\u001b[0;34m()\u001b[0m\n\u001b[1;32m      6\u001b[0m     \u001b[0mprint\u001b[0m\u001b[0;34m(\u001b[0m\u001b[0mjob\u001b[0m\u001b[0;34m.\u001b[0m\u001b[0mstatus\u001b[0m\u001b[0;34m(\u001b[0m\u001b[0;34m)\u001b[0m\u001b[0;34m)\u001b[0m\u001b[0;34m\u001b[0m\u001b[0m\n\u001b[1;32m      7\u001b[0m     \u001b[0mprint\u001b[0m\u001b[0;34m(\u001b[0m\u001b[0mjob\u001b[0m\u001b[0;34m.\u001b[0m\u001b[0mqueue_position\u001b[0m\u001b[0;34m(\u001b[0m\u001b[0;34m)\u001b[0m\u001b[0;34m)\u001b[0m\u001b[0;34m\u001b[0m\u001b[0m\n\u001b[0;32m----> 8\u001b[0;31m     \u001b[0mtime\u001b[0m\u001b[0;34m.\u001b[0m\u001b[0msleep\u001b[0m\u001b[0;34m(\u001b[0m\u001b[0minterval\u001b[0m\u001b[0;34m)\u001b[0m\u001b[0;34m\u001b[0m\u001b[0m\n\u001b[0m\u001b[1;32m      9\u001b[0m     \u001b[0mlapse\u001b[0m \u001b[0;34m+=\u001b[0m \u001b[0;36m1\u001b[0m\u001b[0;34m\u001b[0m\u001b[0m\n\u001b[1;32m     10\u001b[0m \u001b[0mprint\u001b[0m\u001b[0;34m(\u001b[0m\u001b[0mjob\u001b[0m\u001b[0;34m.\u001b[0m\u001b[0mstatus\u001b[0m\u001b[0;34m(\u001b[0m\u001b[0;34m)\u001b[0m\u001b[0;34m)\u001b[0m\u001b[0;34m\u001b[0m\u001b[0m\n",
      "\u001b[0;31mKeyboardInterrupt\u001b[0m: "
     ]
    }
   ],
   "source": [
    "import time\n",
    "lapse = 0\n",
    "interval = 60\n",
    "while job.status().name != 'DONE':\n",
    "    print('Status @ {} seconds'.format(interval * lapse))\n",
    "    print(job.status())\n",
    "    print(job.queue_position())\n",
    "    time.sleep(interval)\n",
    "    lapse += 1\n",
    "print(job.status())\n",
    "result = job.result()"
   ]
  },
  {
   "cell_type": "code",
   "execution_count": null,
   "metadata": {},
   "outputs": [],
   "source": [
    "counts = result.get_counts()\n",
    "print(counts)"
   ]
  },
  {
   "cell_type": "code",
   "execution_count": null,
   "metadata": {},
   "outputs": [],
   "source": []
  }
 ],
 "metadata": {
  "anaconda-cloud": {},
  "kernelspec": {
   "display_name": "Python 3",
   "language": "python",
   "name": "python3"
  },
  "language_info": {
   "codemirror_mode": {
    "name": "ipython",
    "version": 3
   },
   "file_extension": ".py",
   "mimetype": "text/x-python",
   "name": "python",
   "nbconvert_exporter": "python",
   "pygments_lexer": "ipython3",
   "version": "3.6.4"
  }
 },
 "nbformat": 4,
 "nbformat_minor": 1
}
