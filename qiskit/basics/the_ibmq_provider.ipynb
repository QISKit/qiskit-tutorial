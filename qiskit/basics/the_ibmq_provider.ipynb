{
 "cells": [
  {
   "cell_type": "markdown",
   "metadata": {},
   "source": [
    "<img src=\"../../images/qiskit-heading.gif\" alt=\"Note: In order for images to show up in this jupyter notebook you need to select File => Trusted Notebook\" width=\"500 px\" align=\"left\">"
   ]
  },
  {
   "cell_type": "markdown",
   "metadata": {},
   "source": [
    "# _*Working with the IBMQ provider*_ \n",
    "\n",
    "The latest version of this notebook is available on https://github.com/qiskit/qiskit-tutorial.\n",
    "\n",
    "***\n",
    "#### Contributors\n",
    "Jay Gambetta[1], Diego Moreda[1], Ali Javadi[1], Eric Winston[1], Joe Hellmers, and Anna Phan[1]\n",
    "\n",
    "#### Affiliations \n",
    "*[1] IBM Q*"
   ]
  },
  {
   "cell_type": "markdown",
   "metadata": {},
   "source": [
    "In Qiskit we have an base interface for backends and jobs that will be useful for running circuits and extending to third-party backends. In this tutorial, we will review the core components of Qiskit’s base backend framework, using the IBM Q provider as an example.\n",
    "\n",
    "The interface has three parts: the provider, the backend, and the job:\n",
    "\n",
    "- provider: accesses backends and provides backend objects\n",
    "- backend: runs the quantum circuit\n",
    "- job: keeps track of the submitted job"
   ]
  },
  {
   "cell_type": "markdown",
   "metadata": {},
   "source": [
    "## The IBMQ Provider\n",
    "\n",
    "The IBMQ Provider is an entity that provides access to a group of different backends (for example, backends available through IBM Q Experience or IBM Q Network).\n",
    "\n",
    "The IBMQ provider inherits from BaseProvider and implements the methods:\n",
    "\n",
    "    backends(): returns all backend objects known to the provider.\n",
    "    get_backend(name): returns the named backend.\n",
    "\n",
    "The IBM Q provider has some extra functions for handling administrative tasks. The credentials can be saved to disk or user in a session and never saved. \n",
    "\n",
    "    enable_account(token, url): adds the account to current session\n",
    "    disable_accounts(**kwargs): remove from account current session\n",
    "    save_account(token, url): save the account to disk\n",
    "    delete_accounts(**kwargs): delete the account or accounts from disk\n",
    "    load_accounts(**kwargs): load the account or accounts into session\n",
    "    active_accounts(): list all accounts active in this session\n",
    "    stored_accounts(): list all accounts saved to disk"
   ]
  },
  {
   "cell_type": "code",
   "execution_count": 1,
   "metadata": {},
   "outputs": [
    {
     "data": {
      "text/plain": [
       "[]"
      ]
     },
     "execution_count": 1,
     "metadata": {},
     "output_type": "execute_result"
    }
   ],
   "source": [
    "from qiskit import IBMQ \n",
    "\n",
    "IBMQ.backends()"
   ]
  },
  {
   "cell_type": "markdown",
   "metadata": {},
   "source": [
    "Here we see that there are no backends as no accounts have been loaded but we have some stored on the computer."
   ]
  },
  {
   "cell_type": "markdown",
   "metadata": {},
   "source": [
    "Start fresh. delete any accounts on disk. If no accounts it will error"
   ]
  },
  {
   "cell_type": "code",
   "execution_count": 2,
   "metadata": {},
   "outputs": [],
   "source": [
    "IBMQ.delete_accounts()"
   ]
  },
  {
   "cell_type": "markdown",
   "metadata": {},
   "source": [
    "verify that there are no accounts stored now"
   ]
  },
  {
   "cell_type": "code",
   "execution_count": 3,
   "metadata": {},
   "outputs": [
    {
     "data": {
      "text/plain": [
       "[]"
      ]
     },
     "execution_count": 3,
     "metadata": {},
     "output_type": "execute_result"
    }
   ],
   "source": [
    "IBMQ.stored_accounts()"
   ]
  },
  {
   "cell_type": "markdown",
   "metadata": {},
   "source": [
    "To demonstrate that we can load multiple accounts into the IBMQ provider here we use a file `Qconfig_IBMQ_foo.py` which has variables\n",
    "\n",
    "```python\n",
    "APItoken = 'MY_API_TOKEN'\n",
    "URL = 'THE_URL'\n",
    "```\n",
    "\n",
    "For the IBM Q experience the URL is not needed and is loaded by default. \n",
    "\n",
    "For the IBM Q Netwrok the url found on your q-console account page."
   ]
  },
  {
   "cell_type": "code",
   "execution_count": 4,
   "metadata": {},
   "outputs": [],
   "source": [
    "import sys\n",
    "sys.path.append(\"../../\")\n",
    "import Qconfig_IBMQ_network\n",
    "import Qconfig_IBMQ_experience"
   ]
  },
  {
   "cell_type": "markdown",
   "metadata": {},
   "source": [
    "Enable an account (useful for one-off use, or if you don't want to save to disk)"
   ]
  },
  {
   "cell_type": "code",
   "execution_count": 5,
   "metadata": {},
   "outputs": [],
   "source": [
    "IBMQ.enable_account(Qconfig_IBMQ_experience.APItoken)"
   ]
  },
  {
   "cell_type": "markdown",
   "metadata": {},
   "source": [
    "To see that accounts enabled for use"
   ]
  },
  {
   "cell_type": "code",
   "execution_count": 6,
   "metadata": {},
   "outputs": [],
   "source": [
    "# uncomment to print to screen (it will show your token and url)\n",
    "# IBMQ.active_accounts()"
   ]
  },
  {
   "cell_type": "markdown",
   "metadata": {},
   "source": [
    "and its backends are available"
   ]
  },
  {
   "cell_type": "code",
   "execution_count": 7,
   "metadata": {},
   "outputs": [
    {
     "data": {
      "text/plain": [
       "[<IBMQBackend('ibmqx4') from IBMQ()>,\n",
       " <IBMQBackend('ibmqx5') from IBMQ()>,\n",
       " <IBMQBackend('ibmqx2') from IBMQ()>,\n",
       " <IBMQBackend('ibmq_16_melbourne') from IBMQ()>,\n",
       " <IBMQBackend('ibmq_qasm_simulator') from IBMQ()>]"
      ]
     },
     "execution_count": 7,
     "metadata": {},
     "output_type": "execute_result"
    }
   ],
   "source": [
    "IBMQ.backends()"
   ]
  },
  {
   "cell_type": "markdown",
   "metadata": {},
   "source": [
    "Disable that account (so we go back to no accounts active)"
   ]
  },
  {
   "cell_type": "code",
   "execution_count": 8,
   "metadata": {},
   "outputs": [],
   "source": [
    "IBMQ.disable_accounts(token=Qconfig_IBMQ_experience.APItoken)"
   ]
  },
  {
   "cell_type": "markdown",
   "metadata": {},
   "source": [
    "Now no backends are available"
   ]
  },
  {
   "cell_type": "code",
   "execution_count": 9,
   "metadata": {},
   "outputs": [
    {
     "data": {
      "text/plain": [
       "[]"
      ]
     },
     "execution_count": 9,
     "metadata": {},
     "output_type": "execute_result"
    }
   ],
   "source": [
    "IBMQ.backends()"
   ]
  },
  {
   "cell_type": "markdown",
   "metadata": {},
   "source": [
    "Save two accounts: a public (IBM Q experience) and a premium (IBM Q network)"
   ]
  },
  {
   "cell_type": "code",
   "execution_count": 10,
   "metadata": {},
   "outputs": [],
   "source": [
    "IBMQ.save_account(Qconfig_IBMQ_experience.APItoken)\n",
    "IBMQ.save_account(Qconfig_IBMQ_network.APItoken, Qconfig_IBMQ_network.url)"
   ]
  },
  {
   "cell_type": "markdown",
   "metadata": {},
   "source": [
    "Now they should show up as present on disk"
   ]
  },
  {
   "cell_type": "code",
   "execution_count": 11,
   "metadata": {},
   "outputs": [],
   "source": [
    "# uncomment to print to screen (it will show your token and url)\n",
    "# IBMQ.stored_accounts()"
   ]
  },
  {
   "cell_type": "markdown",
   "metadata": {},
   "source": [
    "but no account active in current session yet"
   ]
  },
  {
   "cell_type": "code",
   "execution_count": 12,
   "metadata": {},
   "outputs": [
    {
     "data": {
      "text/plain": [
       "[]"
      ]
     },
     "execution_count": 12,
     "metadata": {},
     "output_type": "execute_result"
    }
   ],
   "source": [
    "IBMQ.active_accounts()"
   ]
  },
  {
   "cell_type": "markdown",
   "metadata": {},
   "source": [
    "so IBMQ can't see any backends yet"
   ]
  },
  {
   "cell_type": "code",
   "execution_count": 13,
   "metadata": {},
   "outputs": [
    {
     "data": {
      "text/plain": [
       "[]"
      ]
     },
     "execution_count": 13,
     "metadata": {},
     "output_type": "execute_result"
    }
   ],
   "source": [
    "IBMQ.backends()"
   ]
  },
  {
   "cell_type": "markdown",
   "metadata": {},
   "source": [
    "now load up every account stored to disk"
   ]
  },
  {
   "cell_type": "code",
   "execution_count": 14,
   "metadata": {},
   "outputs": [],
   "source": [
    "IBMQ.load_accounts()"
   ]
  },
  {
   "cell_type": "markdown",
   "metadata": {},
   "source": [
    "backends from two different accounts available for use"
   ]
  },
  {
   "cell_type": "code",
   "execution_count": 15,
   "metadata": {},
   "outputs": [
    {
     "data": {
      "text/plain": [
       "[<IBMQBackend('ibmqx4') from IBMQ()>,\n",
       " <IBMQBackend('ibmqx5') from IBMQ()>,\n",
       " <IBMQBackend('ibmqx2') from IBMQ()>,\n",
       " <IBMQBackend('ibmq_16_melbourne') from IBMQ()>,\n",
       " <IBMQBackend('ibmq_qasm_simulator') from IBMQ()>,\n",
       " <IBMQBackend('ibmq_20_tokyo') from IBMQ(ibm-q-internal, qiskit, qiskit-terra)>,\n",
       " <IBMQBackend('ibmq_qasm_simulator') from IBMQ(ibm-q-internal, qiskit, qiskit-terra)>]"
      ]
     },
     "execution_count": 15,
     "metadata": {},
     "output_type": "execute_result"
    }
   ],
   "source": [
    "IBMQ.backends()"
   ]
  },
  {
   "cell_type": "markdown",
   "metadata": {},
   "source": [
    "now if you want to work with backends of a single account,\n",
    "you can do so via backend filtering"
   ]
  },
  {
   "cell_type": "code",
   "execution_count": 16,
   "metadata": {},
   "outputs": [
    {
     "data": {
      "text/plain": [
       "[<IBMQBackend('ibmqx4') from IBMQ()>,\n",
       " <IBMQBackend('ibmqx5') from IBMQ()>,\n",
       " <IBMQBackend('ibmqx2') from IBMQ()>,\n",
       " <IBMQBackend('ibmq_16_melbourne') from IBMQ()>,\n",
       " <IBMQBackend('ibmq_qasm_simulator') from IBMQ()>]"
      ]
     },
     "execution_count": 16,
     "metadata": {},
     "output_type": "execute_result"
    }
   ],
   "source": [
    "IBMQ.backends(url='https://quantumexperience.ng.bluemix.net/api')"
   ]
  },
  {
   "cell_type": "markdown",
   "metadata": {},
   "source": [
    "but you can also just disable account in the current session"
   ]
  },
  {
   "cell_type": "code",
   "execution_count": 17,
   "metadata": {},
   "outputs": [],
   "source": [
    "IBMQ.disable_accounts(url='https://quantumexperience.ng.bluemix.net/api')"
   ]
  },
  {
   "cell_type": "markdown",
   "metadata": {},
   "source": [
    "so now only one account is active"
   ]
  },
  {
   "cell_type": "code",
   "execution_count": 18,
   "metadata": {},
   "outputs": [],
   "source": [
    "# uncomment to print to screen (it will show your token and url)\n",
    "# IBMQ.active_accounts()"
   ]
  },
  {
   "cell_type": "markdown",
   "metadata": {},
   "source": [
    "and only that account's backends are available"
   ]
  },
  {
   "cell_type": "code",
   "execution_count": 19,
   "metadata": {},
   "outputs": [
    {
     "data": {
      "text/plain": [
       "[<IBMQBackend('ibmq_20_tokyo') from IBMQ(ibm-q-internal, qiskit, qiskit-terra)>,\n",
       " <IBMQBackend('ibmq_qasm_simulator') from IBMQ(ibm-q-internal, qiskit, qiskit-terra)>]"
      ]
     },
     "execution_count": 19,
     "metadata": {},
     "output_type": "execute_result"
    }
   ],
   "source": [
    "IBMQ.backends()"
   ]
  },
  {
   "cell_type": "markdown",
   "metadata": {},
   "source": [
    "or from the start just load up that account you're interested in"
   ]
  },
  {
   "cell_type": "code",
   "execution_count": 20,
   "metadata": {},
   "outputs": [
    {
     "data": {
      "text/plain": [
       "[<IBMQBackend('ibmqx4') from IBMQ()>,\n",
       " <IBMQBackend('ibmqx5') from IBMQ()>,\n",
       " <IBMQBackend('ibmqx2') from IBMQ()>,\n",
       " <IBMQBackend('ibmq_16_melbourne') from IBMQ()>,\n",
       " <IBMQBackend('ibmq_qasm_simulator') from IBMQ()>]"
      ]
     },
     "execution_count": 20,
     "metadata": {},
     "output_type": "execute_result"
    }
   ],
   "source": [
    "IBMQ.disable_accounts()\n",
    "IBMQ.load_accounts(url='https://quantumexperience.ng.bluemix.net/api')\n",
    "IBMQ.backends()"
   ]
  },
  {
   "cell_type": "markdown",
   "metadata": {},
   "source": [
    "## Filtering the backends\n",
    "\n",
    "You may also optionally filter the set of returned backends, by passing arguments that query the backend's `configuration` or `status` or `properties`.\n",
    "\n",
    "The filters are passed by conditions and for more general you can make advanced functions using the lambda function.\n",
    "\n",
    "As a first example: only return currently operational devices"
   ]
  },
  {
   "cell_type": "code",
   "execution_count": 22,
   "metadata": {},
   "outputs": [
    {
     "data": {
      "text/plain": [
       "[<IBMQBackend('ibmqx4') from IBMQ()>,\n",
       " <IBMQBackend('ibmq_16_melbourne') from IBMQ()>]"
      ]
     },
     "execution_count": 22,
     "metadata": {},
     "output_type": "execute_result"
    }
   ],
   "source": [
    "IBMQ.backends(operational=True, simulator=False)"
   ]
  },
  {
   "cell_type": "markdown",
   "metadata": {},
   "source": [
    "only return backends that are real devices and have more than 10 qubits and are operational"
   ]
  },
  {
   "cell_type": "code",
   "execution_count": 28,
   "metadata": {},
   "outputs": [
    {
     "data": {
      "text/plain": [
       "[<IBMQBackend('ibmq_16_melbourne') from IBMQ()>]"
      ]
     },
     "execution_count": 28,
     "metadata": {},
     "output_type": "execute_result"
    }
   ],
   "source": [
    "IBMQ.backends(filters=lambda x: x.configuration()['n_qubits'] > 10 and \n",
    "              not x.configuration()['simulator'] and x.status()['operational']==True)"
   ]
  },
  {
   "cell_type": "markdown",
   "metadata": {},
   "source": [
    "Filter: show the least busy device (in terms of pending jobs in the queue)"
   ]
  },
  {
   "cell_type": "code",
   "execution_count": 29,
   "metadata": {},
   "outputs": [
    {
     "data": {
      "text/plain": [
       "<IBMQBackend('ibmq_16_melbourne') from IBMQ()>"
      ]
     },
     "execution_count": 29,
     "metadata": {},
     "output_type": "execute_result"
    }
   ],
   "source": [
    "from qiskit.backends.ibmq import least_busy\n",
    "least_busy(IBMQ.backends(simulator=False))"
   ]
  },
  {
   "cell_type": "markdown",
   "metadata": {},
   "source": [
    "The above filters can be combined as desired.\n",
    "\n",
    "If you just want to get an instance of a particular backend, you can use the `get_backend()` method of either Aer or IBMQ."
   ]
  },
  {
   "cell_type": "code",
   "execution_count": 31,
   "metadata": {},
   "outputs": [
    {
     "data": {
      "text/plain": [
       "<IBMQBackend('ibmq_16_melbourne') from IBMQ()>"
      ]
     },
     "execution_count": 31,
     "metadata": {},
     "output_type": "execute_result"
    }
   ],
   "source": [
    "IBMQ.get_backend('ibmq_16_melbourne')"
   ]
  },
  {
   "cell_type": "markdown",
   "metadata": {},
   "source": [
    "A backend's name is accesible through:"
   ]
  },
  {
   "cell_type": "code",
   "execution_count": 32,
   "metadata": {},
   "outputs": [
    {
     "data": {
      "text/plain": [
       "'ibmq_16_melbourne'"
      ]
     },
     "execution_count": 32,
     "metadata": {},
     "output_type": "execute_result"
    }
   ],
   "source": [
    "backend = IBMQ.get_backend('ibmq_16_melbourne')\n",
    "backend.name()"
   ]
  },
  {
   "cell_type": "markdown",
   "metadata": {},
   "source": [
    "## The backend\n",
    "\n",
    "The next part is the backend instances. These backends must support the following functions:\n",
    "\n",
    "```\n",
    "configuration - gets the configuration of the backend.\n",
    "```\n",
    "```\n",
    "properties -  gets the properties of the backend (currently calibrations and parameters, but will be combined).\n",
    "```\n",
    "```\n",
    "status - gets the status of the backend.\n",
    "```\n",
    "```\n",
    "jobs  -  returns a list of previous jobs executed by this user on this backend.\n",
    "```\n",
    "```\n",
    "run  - runs a qobj on the backend.\n",
    "```\n"
   ]
  },
  {
   "cell_type": "markdown",
   "metadata": {},
   "source": [
    "Lets start with the `status()`:\n",
    "\n",
    "    `operational` lets us know that the backend is taking jobs\n",
    "\n",
    "    `pending_jobs` lets you know how many jobs are in the queue"
   ]
  },
  {
   "cell_type": "code",
   "execution_count": null,
   "metadata": {
    "ExecuteTime": {
     "end_time": "2018-09-26T14:38:36.351979Z",
     "start_time": "2018-09-26T14:38:31.735501Z"
    }
   },
   "outputs": [],
   "source": [
    "for backend in IBMQ.backends():\n",
    "    pprint(backend.status())"
   ]
  },
  {
   "cell_type": "markdown",
   "metadata": {},
   "source": [
    "The next is `configuration`"
   ]
  },
  {
   "cell_type": "code",
   "execution_count": null,
   "metadata": {
    "ExecuteTime": {
     "end_time": "2018-09-26T14:38:43.707148Z",
     "start_time": "2018-09-26T14:38:43.696135Z"
    }
   },
   "outputs": [],
   "source": [
    "for backend in IBMQ.backends():\n",
    "    pprint(backend.configuration())"
   ]
  },
  {
   "cell_type": "code",
   "execution_count": null,
   "metadata": {
    "ExecuteTime": {
     "end_time": "2018-09-26T14:39:02.682614Z",
     "start_time": "2018-09-26T14:38:54.191129Z"
    }
   },
   "outputs": [],
   "source": [
    "for backend in IBMQ.backends():\n",
    "    pprint(backend.properties())"
   ]
  },
  {
   "cell_type": "markdown",
   "metadata": {},
   "source": [
    "### The Job object\n",
    "\n",
    "To get a job first we must get a `qobj` (quantum object code). This is a list of circuits compiled to a backend. To get this we have made a `compile` funtion that converts an array of circuits into a `qobj`. The reason this is an array is for current hardware lists of circuits are loaded onto the equipment at once and it is much more efficent to run this in a batch mode. The methods of the jobs object are:\n",
    "\n",
    "```\n",
    "status - returns the status.\n",
    "```\n",
    "```\n",
    "done - returns a bool true if done.\n",
    "```\n",
    "```\n",
    "job_id  - gets the job_id (not supported in the local provider yet).\n",
    "```\n",
    "```\n",
    "cancel - cancels the job (not supported on remote-public or local. Only supported on IBM Q premium devices).\n",
    "```\n",
    "```\n",
    "result - gets the results from the circuit run.\n",
    "```"
   ]
  },
  {
   "cell_type": "code",
   "execution_count": null,
   "metadata": {
    "ExecuteTime": {
     "end_time": "2018-09-26T14:39:13.343626Z",
     "start_time": "2018-09-26T14:39:13.334395Z"
    }
   },
   "outputs": [],
   "source": [
    "qr = QuantumRegister(3)\n",
    "cr = ClassicalRegister(3)\n",
    "circuit = QuantumCircuit(qr, cr)\n",
    "circuit.x(qr[0])\n",
    "circuit.x(qr[1])\n",
    "circuit.ccx(qr[0], qr[1], qr[2])\n",
    "circuit.cx(qr[0], qr[1])\n",
    "circuit.measure(qr, cr)"
   ]
  },
  {
   "cell_type": "code",
   "execution_count": null,
   "metadata": {
    "ExecuteTime": {
     "end_time": "2018-09-26T14:39:14.902205Z",
     "start_time": "2018-09-26T14:39:14.898287Z"
    }
   },
   "outputs": [],
   "source": [
    "my_backend = Aer.get_backend('qasm_simulator')"
   ]
  },
  {
   "cell_type": "code",
   "execution_count": null,
   "metadata": {
    "ExecuteTime": {
     "end_time": "2018-09-26T14:39:17.025599Z",
     "start_time": "2018-09-26T14:39:16.621012Z"
    }
   },
   "outputs": [],
   "source": [
    "qobj = compile(circuit, backend=my_backend, shots=1024)\n",
    "job = my_backend.run(qobj)"
   ]
  },
  {
   "cell_type": "code",
   "execution_count": null,
   "metadata": {
    "ExecuteTime": {
     "end_time": "2018-09-26T14:39:33.776381Z",
     "start_time": "2018-09-26T14:39:33.768962Z"
    }
   },
   "outputs": [],
   "source": [
    "result = job.result()\n",
    "counts = result.get_counts()\n",
    "print(counts)"
   ]
  },
  {
   "cell_type": "code",
   "execution_count": null,
   "metadata": {
    "ExecuteTime": {
     "end_time": "2018-09-26T14:39:46.349451Z",
     "start_time": "2018-09-26T14:39:35.269655Z"
    }
   },
   "outputs": [],
   "source": [
    "from qiskit.backends.ibmq import least_busy\n",
    "device = least_busy(IBMQ.backends(simulator=False))"
   ]
  },
  {
   "cell_type": "code",
   "execution_count": null,
   "metadata": {
    "ExecuteTime": {
     "end_time": "2018-09-26T14:40:19.154210Z",
     "start_time": "2018-09-26T14:40:18.755831Z"
    }
   },
   "outputs": [],
   "source": [
    "%%qiskit_job_status\n",
    "qobj = compile(circuit, backend=device, shots=1024)\n",
    "job = device.run(qobj)"
   ]
  },
  {
   "cell_type": "code",
   "execution_count": null,
   "metadata": {
    "ExecuteTime": {
     "end_time": "2018-09-26T14:40:57.543212Z",
     "start_time": "2018-09-26T14:40:57.536507Z"
    }
   },
   "outputs": [],
   "source": [
    "job.job_id()"
   ]
  },
  {
   "cell_type": "code",
   "execution_count": null,
   "metadata": {
    "ExecuteTime": {
     "end_time": "2018-09-26T14:40:59.410310Z",
     "start_time": "2018-09-26T14:40:59.043072Z"
    }
   },
   "outputs": [],
   "source": [
    "result = job.result()\n",
    "counts = result.get_counts()\n",
    "print(counts)"
   ]
  },
  {
   "cell_type": "code",
   "execution_count": null,
   "metadata": {
    "ExecuteTime": {
     "end_time": "2018-09-26T14:41:01.073837Z",
     "start_time": "2018-09-26T14:41:00.901817Z"
    }
   },
   "outputs": [],
   "source": [
    "plot_histogram(counts)"
   ]
  },
  {
   "cell_type": "code",
   "execution_count": null,
   "metadata": {},
   "outputs": [],
   "source": []
  },
  {
   "cell_type": "code",
   "execution_count": null,
   "metadata": {},
   "outputs": [],
   "source": []
  }
 ],
 "metadata": {
  "anaconda-cloud": {},
  "kernelspec": {
   "display_name": "Python 3",
   "language": "python",
   "name": "python3"
  },
  "language_info": {
   "codemirror_mode": {
    "name": "ipython",
    "version": 3
   },
   "file_extension": ".py",
   "mimetype": "text/x-python",
   "name": "python",
   "nbconvert_exporter": "python",
   "pygments_lexer": "ipython3",
   "version": "3.6.4"
  }
 },
 "nbformat": 4,
 "nbformat_minor": 1
}
