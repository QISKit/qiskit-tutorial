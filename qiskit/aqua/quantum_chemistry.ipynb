{
 "cells": [
  {
   "cell_type": "markdown",
   "metadata": {},
   "source": [
    "<img src=\"../../images/qiskit-heading.gif\" alt=\"Note: In order for images to show up in this jupyter notebook you need to select File => Trusted Notebook\" width=\"500 px\" align=\"left\">"
   ]
  },
  {
   "cell_type": "markdown",
   "metadata": {},
   "source": [
    "# _*Qiskit Aqua Chemistry: Experimenting with molecular ground state energy with variational quantum eigensolver*_ \n",
    "\n",
    "The latest version of this notebook is available on https://github.com/qiskit/qiskit-tutorial.\n",
    "\n",
    "***\n",
    "### Contributors\n",
    "Antonio Mezzacapo, Richard Chen, Marco Pistoia, Shaohan Hu, Peng Liu, Stephen Wood, Jay Gambetta\n",
    "### Affiliations\n",
    "IBMQ"
   ]
  },
  {
   "cell_type": "markdown",
   "metadata": {},
   "source": [
    "### Introduction\n",
    "\n",
    "One of the most compelling possibilities of quantum computation is the the simulation of other quantum systems. Quantum simulation of quantum systems encompasses a wide range of tasks, including most significantly:\n",
    "    \n",
    "1. Simulation of the time evolution of quantum systems.\n",
    "\n",
    "2. Computation of ground state properties. \n",
    "\n",
    "These applications are especially useful when considering systems of interacting fermions, such as molecules and strongly correlated materials. The computation of ground state properties of fermionic systems is the starting point for mapping out the phase diagram of condensed matter Hamiltonians. It also gives access to the key question of electronic structure problems in quantum chemistry - namely, reaction rates. The focus of this notebook is on molecular systems, which are considered to be the ideal bench test for early-stage quantum computers, due to their relevance in chemical applications despite relatively modest sizes. Formally, the ground state problem asks the following:\n",
    "\n",
    "For some physical Hamiltonian *H*, find the smallest eigenvalue $E_G$, such that $H|\\psi_G\\rangle=E_G|\\psi_G\\rangle$, where $|\\Psi_G\\rangle$ is the eigenvector corresponding to $E_G$.\n",
    "    \n",
    "It is known that in general this problem is intractable, even on a quantum computer. This means that we cannot expect an efficient quantum algorithm that prepares the ground state of general local Hamiltonians. Despite this limitation, for specific Hamiltonians of interest it might be possible, given physical constraints on the interactions, to solve the above problem efficiently. Currently, at least four different methods exist to approach this problem:\n",
    "\n",
    "1. Quantum phase estimation: Assuming that we can approximately prepare the state $|\\psi_G\\rangle$, this routine uses controlled implementations of the Hamiltonian to find its smallest eigenvalue. \n",
    "2. Adiabatic theorem of quantum mechanics: The quantum system is adiabatically dragged from being the ground state of a trivial Hamiltonian to the one of the target problem, via slow modulation of the Hamiltonian terms. \n",
    "3. Dissipative (non-unitary) quantum operation: The ground state of the target system is a fixed point. The non-trivial assumption here is the implementation of the dissipation map on quantum hardware. \n",
    "4. Variational quantum eigensolvers: Here we assume that the ground state can be represented by a parameterization containing a relatively small number of parameters.\n",
    "\n",
    "In this notebook we focus on the last method, as this is most likely the simplest to be realized on near-term devices. \n",
    "\n",
    "The general idea is to define a parameterization $|\\psi(\\boldsymbol\\theta)\\rangle$ of quantum states, and minimize the energy \n",
    "\n",
    "$$E(\\boldsymbol\\theta) = \\langle \\psi(\\boldsymbol\\theta)| H |\\psi(\\boldsymbol\\theta)\\rangle,$$ \n",
    "\n",
    "The key ansatz is that the number of parameters $|\\boldsymbol\\theta^*|$ that minimizes the energy function scales polynomially with the size (e.g., number of qubits) of the target problem.  \n",
    "\n",
    "Then, any local fermionic Hamiltonian can be mapped into a sum over Pauli operators $P_i$,  \n",
    "\n",
    "$$H\\rightarrow H_P = \\sum_i^M w_i P_i,$$ \n",
    "\n",
    "and the energy corresponding to the state $|\\psi(\\boldsymbol\\theta\\rangle$, $E(\\boldsymbol\\theta)$, can be estimated by sampling the individual Pauli terms $P_i$ (or sets of them that can be measured at the same time) on a quantum computer: \n",
    "\n",
    "$$E(\\boldsymbol\\theta) = \\sum_i^M w_i \\langle \\psi(\\boldsymbol\\theta)| P_i |\\psi(\\boldsymbol\\theta)\\rangle.$$ \n",
    "\n",
    "Last, some optimization technique must be devised in order to find the optimal value of parameters $\\boldsymbol\\theta^*$, such that $|\\psi(\\boldsymbol\\theta^*)\\rangle\\equiv|\\psi_G\\rangle$.\n",
    "\n",
    "\n",
    "\n",
    "### Fermionic Hamiltonians\n",
    "\n",
    "The Hamiltonians describing systems of interacting fermions can be expressed in second quantization language, considering fermionic creation (annihilation) operators $a^\\dagger_\\alpha(a_\\alpha)$, relative to the $\\alpha$-th fermionic mode. In the case of molecules, the $\\alpha$ labels stand for the different atomic or molecular orbitals. Within the second-quantization framework, a generic molecular Hamiltonian with $M$ orbitals can be written as \n",
    "$$H =H_1+H_2=\\sum_{\\alpha, \\beta=0}^{M-1} t_{\\alpha \\beta} \\, a^\\dagger_{\\alpha} a_{\\beta} +\\frac{1}{2}  \\sum_{\\alpha, \\beta, \\gamma, \\delta = 0}^{M-1} u_{\\alpha \\beta \\gamma \\delta}\\, a^\\dagger_{\\alpha} a^\\dagger_{\\gamma} a_{\\delta} a_{\\beta},$$\n",
    "with the one-body terms representing the kinetic energy of the electrons and the potential energy that they experience in the presence of the nuclei, \n",
    "$$ t_{\\alpha\\beta}=\\int d\\boldsymbol x_1\\Psi_\\alpha(\\boldsymbol{x}_1) \\left(-\\frac{\\boldsymbol\\nabla_1^2}{2}+\\sum_{i} \\frac{Z_i}{|\\boldsymbol{r}_{1i}|}\\right)\\Psi_\\beta (\\boldsymbol{x}_1),$$\n",
    "and their interactions via Coulomb forces \n",
    "$$ u_{\\alpha\\beta\\gamma\\delta}=\\int\\int d \\boldsymbol{x}_1 d \\boldsymbol{x}_2 \\Psi_\\alpha^*(\\boldsymbol{x}_1)\\Psi_\\beta(\\boldsymbol{x}_1)\\frac{1}{|\\boldsymbol{r}_{12}|}\\Psi_\\gamma^*(\\boldsymbol{x}_2)\\Psi_\\delta(\\boldsymbol{x}_2),$$\n",
    "where we have defined the nuclei charges $Z_i$, the nuclei-electron and electron-electron separations $\\boldsymbol{r}_{1i}$ and $\\boldsymbol{r}_{12}$, the $\\alpha$-th orbital wavefunction $\\Psi_\\alpha(\\boldsymbol{x}_1)$, and we have assumed that the spin is conserved in the spin-orbital indices $\\alpha,\\beta$ and $\\alpha,\\beta,\\gamma,\\delta$.\n",
    "\n",
    "### Molecules considered in this notebook and mapping to qubits\n",
    "\n",
    "We consider in this notebook the optimization of two potential energy surfaces, for the hydrogen and lithium hydride molecules, obtained using the STO-3G basis. The molecular Hamiltonians are computed as a function of their interatomic distance, then mapped to two-(H$_2$) and four-(LiH$_2$) qubit problems, via elimination of core and high-energy orbitals and removal of $Z_2$ symmetries.\n",
    "\n",
    "### Approximate universal quantum computing for quantum chemisty problems\n",
    "\n",
    "In order to find the optimal parameters $\\boldsymbol\\theta^*$, we set up a closed optimization loop with a quantum computer, based on some stochastic optimization routine. Our choice for the variational ansatz is a deformation of the one used for the optimization of classical combinatorial problems, with the inclusion of $Z$ rotation together with the $Y$ ones. The optimization algorithm for fermionic Hamiltonians is similar to the one for combinatorial problems, and can be summarized as follows: \n",
    "\n",
    "\n",
    "1. Map the fermionic Hamiltonian $H$ to a qubit Hamiltonian $H_P$.\n",
    "2. Choose the maximum depth of the quantum circuit (this could be done adaptively).\n",
    "3. Choose a set of controls $\\boldsymbol\\theta$ and make a trial function $|\\psi(\\boldsymbol\\theta)\\rangle$. The difference with the combinatorial problems is the insertion of additional parametrized $Z$ single-qubit rotations.\n",
    "4. Evaluate the energy $E(\\boldsymbol\\theta) = \\langle\\psi(\\boldsymbol\\theta)~|H_P|~\\psi(\\boldsymbol\\theta)\\rangle$ by sampling each Pauli term individually, or sets of Pauli terms that can be measured in the same tensor product basis.\n",
    "5. Use a classical optimizer to choose a new set of controls.\n",
    "6. Continue until the energy has converged, hopefully close to the real solution $\\boldsymbol\\theta^*$, and return the last value of $E(\\boldsymbol\\theta)$.\n",
    "    \n",
    "\n",
    "Note that, as opposed to the classical case, in the case of a quantum chemistry Hamiltonian one has to sample over non-computational states that are superpositions, and therefore take advantage of using a quantum computer in the sampling part of the algorithm. Motivated by the quantum nature of the answer, we also define a variational trial ansatz in this way: \n",
    "\n",
    "$$|\\psi(\\boldsymbol\\theta)\\rangle  = [U_\\mathrm{single}(\\boldsymbol\\theta) U_\\mathrm{entangler}]^m |+\\rangle$$\n",
    "\n",
    "where $U_\\mathrm{entangler}$ is a collection of cPhase gates (fully entangling gates), $U_\\mathrm{single}(\\boldsymbol\\theta) = \\prod_{i=1}^n Y(\\theta_{i})Z(\\theta_{n+i})$ are single-qubit $Y$ and $Z$ rotation, $n$ is the number of qubits and $m$ is the depth of the quantum circuit. \n",
    "\n",
    "\n",
    "\n",
    "References and additional details:\n",
    "\n",
    "[1] A. Kandala, A. Mezzacapo, K. Temme, M. Takita, M. Brink, J. M. Chow, and J. M. Gambetta, *Hardware-efficient Variational Quantum Eigensolver for Small Molecules and Quantum Magnets*, Nature 549, 242 (2017), and references therein.\n"
   ]
  },
  {
   "cell_type": "code",
   "execution_count": 1,
   "metadata": {
    "collapsed": true
   },
   "outputs": [],
   "source": [
    "# useful additional packages \n",
    "import matplotlib.pyplot as plt\n",
    "%matplotlib inline\n",
    "import numpy as np\n",
    "import sys, getpass\n",
    "\n",
    "from qiskit_aqua_chemistry import AquaChemistry\n",
    "import warnings\n",
    "warnings.filterwarnings('ignore')\n",
    "\n",
    "import logging\n",
    "logger = logging.getLogger()\n",
    "# logger.setLevel(logging.DEBUG) # uncomment it to see detailed logging"
   ]
  },
  {
   "cell_type": "code",
   "execution_count": 1,
   "metadata": {},
   "outputs": [],
   "source": [
    "from qiskit import IBMQ\n",
    "IBMQ.load_accounts()"
   ]
  },
  {
   "cell_type": "markdown",
   "metadata": {},
   "source": [
    "## Optimization of H$_2$ at bond length\n",
    "\n",
    "In this first part of the notebook we show the optimization of the H$_2$ Hamiltonian in the STO-3G basis at the bond length of 0.735 Angstrom. After mapping it to a four-qubit system with a parity transformation, two spin-parity symmetries are modded out, leading to a two-qubit Hamiltonian. The energy of the mapped Hamiltonian obtained is then minimized using the variational ansatz described in the introduction, and a stochastic perturbation simultaneous approximation (SPSA) gradient descent method. We stored the precomputed one- and two-body intergals and other molecular information in the hdf5 file."
   ]
  },
  {
   "cell_type": "code",
   "execution_count": 3,
   "metadata": {},
   "outputs": [
    {
     "name": "stdout",
     "output_type": "stream",
     "text": [
      "Ground state energy (classical): -1.137306035753\n",
      "Ground state energy (quantum)  : -1.137031072400\n",
      "====================================================\n",
      "=== GROUND STATE ENERGY ===\n",
      " \n",
      "* Electronic ground state energy (Hartree): -1.857000063679\n",
      "  - computed part:      -1.857000063679\n",
      "  - frozen energy part: 0.0\n",
      "  - particle hole part: 0.0\n",
      "~ Nuclear repulsion energy (Hartree): 0.719968991279\n",
      "> Total ground state energy (Hartree): -1.1370310724\n",
      "  Measured:: Num particles: 2.000, S: 0.000, M: 0.00000\n",
      " \n",
      "=== DIPOLE MOMENT ===\n",
      " \n",
      "* Electronic dipole moment (a.u.): [0.0  0.0  0.0140035]\n",
      "  - computed part:      [0.0  0.0  0.0140035]\n",
      "  - frozen energy part: [0.0  0.0  0.0]\n",
      "  - particle hole part: [0.0  0.0  0.0]\n",
      "~ Nuclear dipole moment (a.u.): [0.0  0.0  0.0]\n",
      "> Dipole moment (a.u.): [0.0  0.0  0.0140035]  Total: 0.0140035\n",
      "               (debye): [0.0  0.0  0.03559333]  Total: 0.03559333\n"
     ]
    }
   ],
   "source": [
    "# First, we use classical eigendecomposition to get ground state energy (including nuclear repulsion energy) as reference.\n",
    "aqua_chemistry_dict = {\n",
    "    'driver': {'name': 'HDF5'},\n",
    "    'HDF5': {'hdf5_input': 'H2/H2_equilibrium_0.735_sto-3g.hdf5'},\n",
    "    'operator': {'name':'hamiltonian', \n",
    "                 'qubit_mapping': 'parity', \n",
    "                 'two_qubit_reduction': True},\n",
    "    'algorithm': {'name': 'ExactEigensolver'}\n",
    "}\n",
    "solver = AquaChemistry()\n",
    "result = solver.run(aqua_chemistry_dict)\n",
    "print('Ground state energy (classical): {:.12f}'.format(result['energy']))\n",
    "\n",
    "# Second, we use variational quantum eigensolver (VQE)\n",
    "aqua_chemistry_dict['algorithm']['name'] = 'VQE'\n",
    "aqua_chemistry_dict['optimizer'] = {'name': 'SPSA', 'max_trials': 350}\n",
    "aqua_chemistry_dict['variational_form'] = {'name': 'RYRZ', 'depth': 3, 'entanglement':'full'}\n",
    "aqua_chemistry_dict['backend'] = {'name': 'statevector_simulator'}\n",
    "\n",
    "solver = AquaChemistry()\n",
    "result = solver.run(aqua_chemistry_dict)\n",
    "print('Ground state energy (quantum)  : {:.12f}'.format(result['energy']))\n",
    "print(\"====================================================\")\n",
    "# You can also print out other info in the field 'printable'\n",
    "for line in result['printable']:\n",
    "    print(line)"
   ]
  },
  {
   "cell_type": "markdown",
   "metadata": {},
   "source": [
    "## Optimizing the potential energy surface \n",
    "\n",
    "The optimization considered previously is now performed for two molecules, H$_2$ and LiH, for different interatomic distances, and the correspoding nuclei Coulomb repulsion is added in order to obtain a potential energy surface. "
   ]
  },
  {
   "cell_type": "code",
   "execution_count": 4,
   "metadata": {},
   "outputs": [
    {
     "name": "stdout",
     "output_type": "stream",
     "text": [
      "Using ExactEigensolver\n",
      "Processing atomic distance: 4.0 Angstrom\n",
      "\n",
      "Using VQE\n",
      "Processing atomic distance: 4.0 Angstrom\n",
      "\n"
     ]
    }
   ],
   "source": [
    "# select H2 or LiH to experiment with\n",
    "molecule='H2'\n",
    "\n",
    "aqua_chemistry_dict = {\n",
    "    'driver': {'name': 'HDF5'},\n",
    "    'HDF5': {'hdf5_input': ''},\n",
    "    'operator': {'name':'hamiltonian', \n",
    "                 'qubit_mapping': 'parity', \n",
    "                 'two_qubit_reduction': True},\n",
    "    'algorithm': {'name': ''},\n",
    "    'optimizer': {'name': 'SPSA', 'max_trials': 350},\n",
    "    'variational_form': {'name': 'RYRZ', 'depth': 3, 'entanglement':'full'}\n",
    "}\n",
    "\n",
    "# choose which backend want to use\n",
    "# backend = {'name': 'statevector_simulator'}\n",
    "backend = {'name': 'qasm_simulator', 'shots': 1024}\n",
    "algos = ['ExactEigensolver', 'VQE']\n",
    "\n",
    "if molecule == 'LiH':\n",
    "    mol_distances = np.arange(0.6, 5.1, 0.1)\n",
    "    aqua_chemistry_dict['operator']['freeze_core'] = True\n",
    "    aqua_chemistry_dict['operator']['orbital_reduction'] = [-3, -2]\n",
    "    aqua_chemistry_dict['optimizer']['max_trials'] = 2500\n",
    "    aqua_chemistry_dict['variational_form']['depth'] = 5\n",
    "else:\n",
    "    mol_distances = np.arange(0.2, 4.1, 0.1)\n",
    "\n",
    "energy = np.zeros((len(algos), len(mol_distances)))\n",
    "\n",
    "for j, algo in enumerate(algos):\n",
    "    aqua_chemistry_dict['algorithm']['name'] = algo\n",
    "    if algo == 'ExactEigensolver':\n",
    "        aqua_chemistry_dict.pop('backend', None)\n",
    "    elif algo == 'VQE':\n",
    "        aqua_chemistry_dict['backend'] = backend\n",
    "    print(\"Using {}\".format(algo))\n",
    "    for i, dis in enumerate(mol_distances):\n",
    "        print(\"Processing atomic distance: {:1.1f} Angstrom\".format(dis), end='\\r')\n",
    "        aqua_chemistry_dict['HDF5']['hdf5_input'] = \"{}/{:1.1f}_sto-3g.hdf5\".format(molecule, dis)\n",
    "        result = solver.run(aqua_chemistry_dict)\n",
    "        energy[j][i] = result['energy']\n",
    "    print(\"\\n\")"
   ]
  },
  {
   "cell_type": "code",
   "execution_count": 5,
   "metadata": {},
   "outputs": [
    {
     "data": {
      "image/png": "[encoded data removed]",
      "text/plain": [
       "<Figure size 432x288 with 1 Axes>"
      ]
     },
     "metadata": {},
     "output_type": "display_data"
    }
   ],
   "source": [
    "for i, algo in enumerate(algos):\n",
    "    plt.plot(mol_distances, energy[i], label=algo)\n",
    "plt.xlabel('Atomic distance (Angstrom)')\n",
    "plt.ylabel('Energy')\n",
    "plt.legend()\n",
    "plt.show()"
   ]
  }
 ],
 "metadata": {
  "anaconda-cloud": {},
  "kernelspec": {
   "display_name": "quantum-dev",
   "language": "python",
   "name": "quantum-dev"
  },
  "language_info": {
   "codemirror_mode": {
    "name": "ipython",
    "version": 3
   },
   "file_extension": ".py",
   "mimetype": "text/x-python",
   "name": "python",
   "nbconvert_exporter": "python",
   "pygments_lexer": "ipython3",
   "version": "3.6.5"
  }
 },
 "nbformat": 4,
 "nbformat_minor": 1
}
