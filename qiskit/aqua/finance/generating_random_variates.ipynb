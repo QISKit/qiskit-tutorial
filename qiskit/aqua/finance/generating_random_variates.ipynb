{
 "cells": [
  {
   "cell_type": "markdown",
   "metadata": {},
   "source": [
    "<img src=\"../../../images/qiskit-heading.gif\" alt=\"Note: In order for images to show up in this jupyter notebook you need to select File => Trusted Notebook\" width=\"500 px\" align=\"left\">"
   ]
  },
  {
   "cell_type": "markdown",
   "metadata": {},
   "source": [
    "# _*Qiskit Aqua: Generating Random Variates*_ \n",
    "\n",
    "The latest version of this notebook is available on https://github.com/Qiskit/qiskit-tutorials.\n",
    "\n",
    "***\n",
    "### Contributors\n",
    "Albert Akhriev<sup>[1]</sup>, Jakub Marecek<sup>[1]</sup>, Stephen Wood<sup>[1]</sup>, Marco Pistoia<sup>[1]</sup>\n",
    "### Affliation\n",
    "- <sup>[1]</sup>IBMQ"
   ]
  },
  {
   "cell_type": "markdown",
   "metadata": {},
   "source": [
    "### Uniformly-distributed scalars and vectors\n",
    "\n",
    "Functions in the base class \\textbf{UnivariateDistribution}\n",
    "\n",
    "```python\n",
    "def uniform_rand_float64(self, size: int, vmin: float, vmax: float) -> np.ndarray:\n",
    "    \"\"\"\n",
    "    Generates a vector of random float64 values in the range [vmin, vmax].\n",
    "    :param size: length of the vector.\n",
    "    :param vmin: lower bound.\n",
    "    :param vmax: upper bound.\n",
    "    :return: vector of random values.\n",
    "    \"\"\"\n",
    "    assert sys.maxsize == np.iinfo(np.int64).max                                # sizeof(int) == 64 bits\n",
    "    assert isinstance(size, int) and size > 0\n",
    "    assert isinstance(vmin, float) and isinstance(vmax, float) and vmin <= vmax\n",
    "    nbits = 7 * 8                                                               # nbits > mantissa of float64\n",
    "    bit_str_len = (nbits * size + self.num_target_qubits - 1) // self.num_target_qubits\n",
    "    job = execute(self.circuit, self.backend, shots=bit_str_len, memory=True)\n",
    "    bit_str = ''.join(job.result().get_memory())\n",
    "    scale = float(vmax - vmin) / float(2**nbits - 1)\n",
    "    return np.array([vmin + scale * float(int(bit_str[i:i+nbits], 2))\n",
    "                     for i in range(0, nbits * size, nbits)], dtype=np.float64)\n",
    "```\n",
    "\n",
    "```python\n",
    "def uniform_rand_int64(self, size: int, vmin: int, vmax: int) -> np.ndarray:\n",
    "    \"\"\"\n",
    "    Generates a vector of random int64 values in the range [vmin, vmax].\n",
    "    :param size: length of the vector.\n",
    "    :param vmin: lower bound.\n",
    "    :param vmax: upper bound.\n",
    "    :return: vector of random values.\n",
    "    \"\"\"\n",
    "    assert sys.maxsize == np.iinfo(np.int64).max                                # sizeof(int) == 64 bits\n",
    "    assert isinstance(size, int) and size > 0\n",
    "    assert isinstance(vmin, int) and isinstance(vmax, int) and vmin <= vmax\n",
    "    assert abs(vmin) <= 2**52 and abs(vmax) <= 2**52                            # 52 == mantissa of float64\n",
    "    return np.rint(self.uniform_rand_float64(size, float(vmin), float(vmax))).astype(np.int64)\n",
    "```\n",
    "\n",
    "Function in the base class \\textbf{NormalDistribution}\n",
    "\n",
    "```python\n",
    "def normal_rand_float64(self, size: int) -> np.ndarray:\n",
    "    \"\"\"\n",
    "    Draws a sample vector from standard normal distribution (mu=0, std=1)\n",
    "    using Box-Muller method.\n",
    "    \"\"\"\n",
    "    EPS = np.sqrt(np.finfo(np.float64).tiny)\n",
    "    assert isinstance(size, int) and size > 0\n",
    "    rand_vec = np.zeros((size,), dtype=np.float64)\n",
    "\n",
    "    # Generate array of uniformly distributed samples.\n",
    "    n = 2 * size\n",
    "    x = np.reshape(self.uniform_rand_float64(n, float(0.0), float(1.0)), (-1, 2))\n",
    "\n",
    "    x1 = 0.0                # first sample in a pair\n",
    "    c = 0                   # counter\n",
    "    for d in range(size):\n",
    "        r2 = 2.0\n",
    "        while r2 >= 1.0 or r2 < EPS:\n",
    "            # Regenerate array of uniformly distributed samples upon shortage.\n",
    "            if c > n:\n",
    "                c = 0\n",
    "                n = max(((size // 10) // 2) * 2, 2)\n",
    "                x = np.reshape(self.uniform_rand_float64(n, float(0.0), float(1.0)), (-1, 2))\n",
    "\n",
    "            x1 = 2.0 * x[c, 0] - 1.0        # first sample in a pair\n",
    "            x2 = 2.0 * x[c, 1] - 1.0        # second sample in a pair\n",
    "            r2 = x1 * x1 + x2 * x2\n",
    "            c += 1\n",
    "\n",
    "        f = np.sqrt(np.abs(-2.0 * np.log(r2) / r2))\n",
    "        rand_vec[d] = f * x1\n",
    "    return rand_vec\n",
    "```"
   ]
  },
  {
   "cell_type": "code",
   "execution_count": 7,
   "metadata": {},
   "outputs": [],
   "source": [
    "import matplotlib.pyplot as plt\n",
    "%matplotlib inline\n",
    "import numpy as np\n",
    "import sys, math, time\n",
    "import warnings\n",
    "warnings.filterwarnings(\"ignore\",category=DeprecationWarning)\n",
    "\n",
    "from qiskit import BasicAer\n",
    "from qiskit.aqua.algorithms import AmplitudeEstimation\n",
    "from qiskit.aqua.components.random_distributions import MultivariateNormalDistribution\n",
    "from qiskit.aqua.components.uncertainty_problems import FixedIncomeExpectedValue\n",
    "from qiskit.aqua.components.random_distributions import *\n",
    "from qiskit import QuantumCircuit, QuantumRegister, ClassicalRegister, execute\n",
    "from qiskit.tools.visualization import plot_histogram, circuit_drawer\n",
    "\n",
    "# In this example we use 'qasm_simulator' backend.\n",
    "glo_backend = BasicAer.get_backend(\"qasm_simulator\")\n",
    "\n",
    "# Parameters.\n",
    "glo_num_qubits = 5"
   ]
  },
  {
   "cell_type": "markdown",
   "metadata": {},
   "source": [
    "#### Uniform distribution of floating point numbers."
   ]
  },
  {
   "cell_type": "code",
   "execution_count": 8,
   "metadata": {
    "scrolled": true
   },
   "outputs": [
    {
     "name": "stdout",
     "output_type": "stream",
     "text": [
      "Uniform distribution of floating point numbers:\n",
      "sample type: <class 'numpy.ndarray'> , element type: float64 , shape: (54321,)\n",
      "sample min: -7.6697, max: 19.5199\n",
      "time: creation: 0.00043, sampling: 6.49\n"
     ]
    },
    {
     "data": {
      "image/png": "[encoded data removed]",
      "text/plain": [
       "<Figure size 432x288 with 1 Axes>"
      ]
     },
     "metadata": {
      "needs_background": "light"
     },
     "output_type": "display_data"
    }
   ],
   "source": [
    "# Create uniform distribution sampler.\n",
    "start_time = time.time()\n",
    "uniform = UniformDistribution(glo_num_qubits, backend=glo_backend)\n",
    "creation_time = time.time() - start_time\n",
    "\n",
    "# Draw a sample.\n",
    "start_time = time.time()\n",
    "sample = uniform.uniform_rand_float64(size=54321, vmin=-7.67, vmax=19.52)\n",
    "sampling_time = time.time() - start_time\n",
    "\n",
    "# Print out some details.\n",
    "print(\"Uniform distribution of floating point numbers:\")\n",
    "print(\"sample type:\", type(sample), \", element type:\", sample.dtype, \", shape:\", sample.shape)\n",
    "print(\"sample min: {:.4f}, max: {:.4f}\".format(np.amin(sample), np.amax(sample)))\n",
    "print(\"time: creation: {:.5f}, sampling: {:.2f}\".format(creation_time, sampling_time))\n",
    "\n",
    "# Plotting the distribution.\n",
    "plt.hist(sample.ravel(),\n",
    "         bins=min(int(np.ceil(np.sqrt(sample.size))), 100),\n",
    "         density=True, facecolor='b', alpha=0.75)\n",
    "plt.xlabel(\"random variable\", size=12)\n",
    "plt.ylabel(\"probability\", size=12)\n",
    "plt.title(\"Uniform distribution of float64 numbers [{:.2f} ... {:.2f}]\".format(\n",
    "            np.amin(sample), np.amax(sample)), size=12)\n",
    "plt.grid(True)\n",
    "# plt.savefig(\"uniform_distrib_float.png\", bbox_inches=\"tight\")\n",
    "plt.show()"
   ]
  },
  {
   "cell_type": "markdown",
   "metadata": {},
   "source": [
    "#### Uniform distribution of integer numbers."
   ]
  },
  {
   "cell_type": "code",
   "execution_count": 9,
   "metadata": {},
   "outputs": [
    {
     "name": "stdout",
     "output_type": "stream",
     "text": [
      "Uniform distribution of integer numbers:\n",
      "sample type: <class 'numpy.ndarray'> , element type: int64 , shape: (54321,)\n",
      "sample min: 37, max: 841\n",
      "time: sampling: 6.36\n"
     ]
    },
    {
     "data": {
      "image/png": "[encoded data removed]",
      "text/plain": [
       "<Figure size 432x288 with 1 Axes>"
      ]
     },
     "metadata": {
      "needs_background": "light"
     },
     "output_type": "display_data"
    }
   ],
   "source": [
    "# Draw a sample, reuse the previous instance of the sampler.\n",
    "start_time = time.time()\n",
    "sample = uniform.uniform_rand_int64(size=54321, vmin=37, vmax=841)\n",
    "sampling_time = time.time() - start_time\n",
    "\n",
    "# Print out some details.\n",
    "print(\"Uniform distribution of integer numbers:\")\n",
    "print(\"sample type:\", type(sample), \", element type:\", sample.dtype, \", shape:\", sample.shape)\n",
    "print(\"sample min: {:d}, max: {:d}\".format(np.amin(sample), np.amax(sample)))\n",
    "print(\"time: sampling: {:.2f}\".format(sampling_time))\n",
    "\n",
    "# Plotting the distribution.\n",
    "plt.hist(sample.ravel(),\n",
    "         bins=min(int(np.ceil(np.sqrt(sample.size))), 100),\n",
    "         density=True, facecolor='g', alpha=0.75)\n",
    "plt.xlabel(\"random variable\", size=12)\n",
    "plt.ylabel(\"probability\", size=12)\n",
    "plt.title(\"Uniform distribution of int64 numbers [{:d} ... {:d}]\".format(\n",
    "            np.amin(sample), np.amax(sample)), size=12)\n",
    "plt.grid(True)\n",
    "# plt.savefig(\"uniform_distrib_int.png\", bbox_inches=\"tight\")\n",
    "plt.show()"
   ]
  },
  {
   "cell_type": "markdown",
   "metadata": {},
   "source": [
    "#### Normal distribution"
   ]
  },
  {
   "cell_type": "code",
   "execution_count": 10,
   "metadata": {},
   "outputs": [
    {
     "name": "stdout",
     "output_type": "stream",
     "text": [
      "Normal distribution (mu=2.400, sigma=5.100):\n",
      "sample type: <class 'numpy.ndarray'> , element type: float64 , shape: (4321,)\n",
      "sample min: -14.4205, max: 20.7960\n",
      "time: creation: 0.01026, sampling: 1.60\n"
     ]
    },
    {
     "data": {
      "image/png": "[encoded data removed]",
      "text/plain": [
       "<Figure size 432x288 with 1 Axes>"
      ]
     },
     "metadata": {
      "needs_background": "light"
     },
     "output_type": "display_data"
    }
   ],
   "source": [
    "# Create normal distribution sampler.\n",
    "mu = 2.4\n",
    "sigma = 5.1\n",
    "start_time = time.time()\n",
    "normal = NormalDistribution(glo_num_qubits, mu=mu, sigma=sigma, backend=glo_backend)\n",
    "creation_time = time.time() - start_time\n",
    "\n",
    "# Draw a sample from the normal distribution.\n",
    "start_time = time.time()\n",
    "sample = normal.normal_rand_float64(size=4321)\n",
    "sampling_time = time.time() - start_time\n",
    "\n",
    "# Print out some details.\n",
    "print(\"Normal distribution (mu={:.3f}, sigma={:.3f}):\".format(mu, sigma))\n",
    "print(\"sample type:\", type(sample), \", element type:\", sample.dtype, \", shape:\", sample.shape)\n",
    "print(\"sample min: {:.4f}, max: {:.4f}\".format(np.amin(sample), np.amax(sample)))\n",
    "print(\"time: creation: {:.5f}, sampling: {:.2f}\".format(creation_time, sampling_time))\n",
    "\n",
    "# Plotting the distribution.\n",
    "x = np.linspace(mu - 4.0 * sigma, mu + 4.0 * sigma, 1000)\n",
    "analyt = np.exp(-0.5 * ((x - mu) / sigma)**2) / (sigma * math.sqrt(2.0 * math.pi))\n",
    "plt.hist(sample.ravel(),\n",
    "         bins=min(int(np.ceil(np.sqrt(sample.size))), 100),\n",
    "         density=True, facecolor='r', alpha=0.75)\n",
    "plt.plot(x, analyt, '-b', lw=1)\n",
    "plt.xlabel(\"random variable\", size=12)\n",
    "plt.ylabel(\"probability\", size=12)\n",
    "plt.title(\"Normal distribution: empirical vs analytic\", size=12)\n",
    "plt.grid(True)\n",
    "# plt.savefig(\"normal_distrib.png\", bbox_inches=\"tight\")\n",
    "plt.show()"
   ]
  },
  {
   "cell_type": "code",
   "execution_count": null,
   "metadata": {},
   "outputs": [],
   "source": []
  }
 ],
 "metadata": {
  "kernelspec": {
   "display_name": "Python 3",
   "language": "python",
   "name": "python3"
  },
  "language_info": {
   "codemirror_mode": {
    "name": "ipython",
    "version": 3
   },
   "file_extension": ".py",
   "mimetype": "text/x-python",
   "name": "python",
   "nbconvert_exporter": "python",
   "pygments_lexer": "ipython3",
   "version": "3.7.2"
  }
 },
 "nbformat": 4,
 "nbformat_minor": 1
}
