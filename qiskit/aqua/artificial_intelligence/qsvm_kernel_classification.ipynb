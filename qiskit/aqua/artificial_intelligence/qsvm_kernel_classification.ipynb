{
 "cells": [
  {
   "cell_type": "markdown",
   "metadata": {},
   "source": [
    "<img src=\"../../../images/qiskit-heading.gif\" alt=\"Note: In order for images to show up in this jupyter notebook you need to select File => Trusted Notebook\" width=\"500 px\" align=\"left\">"
   ]
  },
  {
   "cell_type": "markdown",
   "metadata": {},
   "source": [
    "# _*Qiskit Aqua: Experiment with classification problem with quantum-enhanced support vector machines*_\n",
    "\n",
    "The latest version of this notebook is available on https://github.com/qiskit/qiskit-tutorial.\n",
    "\n",
    "***\n",
    "### Contributors\n",
    "Vojtech Havlicek<sup>[1]</sup>, Kristan Temme<sup>[1]</sup>, Antonio Córcoles<sup>[1]</sup>, Peng Liu<sup>[1]</sup>, Richard Chen<sup>[1]</sup>, Marco Pistoia<sup>[1]</sup> and Jay Gambetta<sup>[1]</sup>\n",
    "### Affiliation\n",
    "- <sup>[1]</sup>IBMQ"
   ]
  },
  {
   "cell_type": "markdown",
   "metadata": {},
   "source": [
    "### Introduction\n",
    "Classification algorithms and methods for machine learning are essential for pattern recognition and data mining applications. Well known techniques such as support vector machines and neural networks have blossomed over the last two decades as a result of the spectacular advances in classical hardware computational capabilities and speed. This progress in computer power made it possible to apply techniques, that were theoretically developed towards the middle of the 20th century, on classification problems that were becoming increasingly challenging.\n",
    "\n",
    "A key concept in classification methods is that of a kernel. Data cannot typically be separated by a hyperplane in its original space. A common technique used to find such a hyperplane consists on applying a non-linear transformation function to the data. This function is called a feature map, as it transforms the raw features, or measurable properties, of the phenomenon or subject under study. Classifying in this new feature space -and, as a matter of fact, also in any other space, including the raw original one- is nothing more than seeing how close data points are to each other. This is the same as computing the inner product for each pair of data in the set. So, in fact we do not need to compute the non-linear feature map for each datum, but only the inner product of each pair of data points in the new feature space. This collection of inner products is called the kernel and it is perfectly possible to have feature maps that are hard to compute but whose kernels are not.\n",
    "\n",
    "In this notebook we provide an example of a classification problem that requires a feature map for which computing the kernel is not efficient classically -this means that the required computational resources are expected to scale exponentially with the size of the problem. We show how this can be solved in a quantum processor by a direct estimation of the kernel in the feature space. The method we used falls in the category of what is called supervised learning, consisting of a training phase (where the kernel is calculated and the support vectors obtained) and a test or classification phase (where new unlabelled data is classified according to the solution found in the training phase).\n",
    "\n",
    "References and additional details:\n",
    "\n",
    "[1] Vojtech Havlicek, Antonio D. C´orcoles, Kristan Temme, Aram W. Harrow, Abhinav Kandala, Jerry M. Chow, and Jay M. Gambetta1, \"Supervised learning with quantum enhanced feature spaces,\" [arXiv: 1804.11326](https://arxiv.org/pdf/1804.11326.pdf)"
   ]
  },
  {
   "cell_type": "code",
   "execution_count": 1,
   "metadata": {},
   "outputs": [],
   "source": [
    "from qsvm_datasets import *\n",
    "\n",
    "from qiskit import Aer\n",
    "from qiskit.qobj import RunConfig\n",
    "from qiskit.aqua.utils import split_dataset_to_data_and_labels, map_label_to_class_name\n",
    "from qiskit.aqua.input import SVMInput\n",
    "from qiskit.aqua import run_algorithm, QuantumInstance\n",
    "from qiskit.aqua.algorithms import QSVMKernel\n",
    "from qiskit.aqua.components.feature_maps import SecondOrderExpansion\n",
    "\n",
    "# setup aqua logging\n",
    "import logging\n",
    "from qiskit.aqua import set_aqua_logging\n",
    "# set_aqua_logging(logging.DEBUG)  # choose INFO, DEBUG to see the log"
   ]
  },
  {
   "cell_type": "markdown",
   "metadata": {},
   "source": [
    "### [Optional] Setup token to run the experiment on a real device\n",
    "If you would like to run the experiement on a real device, you need to setup your account first.\n",
    "\n",
    "Note: If you do not store your token yet, use `IBMQ.save_accounts()` to store it first."
   ]
  },
  {
   "cell_type": "code",
   "execution_count": 2,
   "metadata": {},
   "outputs": [],
   "source": [
    "from qiskit import IBMQ\n",
    "IBMQ.load_accounts()"
   ]
  },
  {
   "cell_type": "markdown",
   "metadata": {},
   "source": [
    "First we prepare the dataset, which is used for training, testing and the finally prediction.\n",
    "\n",
    "*Note: You can easily switch to a different dataset, such as the Breast Cancer dataset, by replacing 'ad_hoc_data' to 'Breast_cancer' below.*"
   ]
  },
  {
   "cell_type": "code",
   "execution_count": 3,
   "metadata": {},
   "outputs": [
    {
     "data": {
      "image/png": "[encoded data removed]",
      "text/plain": [
       "<Figure size 432x288 with 1 Axes>"
      ]
     },
     "metadata": {
      "needs_background": "light"
     },
     "output_type": "display_data"
    },
    {
     "data": {
      "image/png": "[encoded data removed]",
      "text/plain": [
       "<Figure size 432x288 with 1 Axes>"
      ]
     },
     "metadata": {
      "needs_background": "light"
     },
     "output_type": "display_data"
    },
    {
     "name": "stdout",
     "output_type": "stream",
     "text": [
      "{'A': 0, 'B': 1}\n"
     ]
    }
   ],
   "source": [
    "feature_dim=2 # we support feature_dim 2 or 3\n",
    "sample_Total, training_input, test_input, class_labels = ad_hoc_data(training_size=20, \n",
    "                                                                     test_size=10, \n",
    "                                                                     n=feature_dim, \n",
    "                                                                     gap=0.3, \n",
    "                                                                     PLOT_DATA=True)\n",
    "extra_test_data = sample_ad_hoc_data(sample_Total, 10, n=feature_dim)\n",
    "datapoints, class_to_label = split_dataset_to_data_and_labels(extra_test_data)\n",
    "print(class_to_label)"
   ]
  },
  {
   "cell_type": "markdown",
   "metadata": {},
   "source": [
    "With the dataset ready we initialize the necessary inputs for the algorithm:\n",
    "- the input dictionary (params) \n",
    "- the input object containing the dataset info (algo_input).\n",
    "\n",
    "With everything setup, we can now run the algorithm.\n",
    "\n",
    "For the testing, the result includes the details and the success ratio.\n",
    "\n",
    "For the prediction, the result includes the predicted labels. "
   ]
  },
  {
   "cell_type": "code",
   "execution_count": 4,
   "metadata": {},
   "outputs": [
    {
     "name": "stdout",
     "output_type": "stream",
     "text": [
      "testing success ratio: 1.0\n",
      "preduction of datapoints:\n",
      "ground truth: ['A', 'A', 'A', 'A', 'A', 'A', 'A', 'A', 'A', 'A', 'B', 'B', 'B', 'B', 'B', 'B', 'B', 'B', 'B', 'B']\n",
      "prediction:   ['A', 'A', 'A', 'A', 'A', 'A', 'A', 'A', 'A', 'A', 'B', 'B', 'B', 'B', 'B', 'B', 'B', 'B', 'B', 'B']\n"
     ]
    }
   ],
   "source": [
    "seed = 10598\n",
    "\n",
    "feature_map = SecondOrderExpansion(num_qubits=feature_dim, depth=2, entanglement='linear')\n",
    "qsvm = QSVMKernel(feature_map, training_input, test_input, datapoints[0])\n",
    "\n",
    "backend = Aer.get_backend('qasm_simulator')\n",
    "run_config = RunConfig(shots=1024, max_credits=10, memory=False, seed=seed)\n",
    "quantum_instance = QuantumInstance(backend, run_config, seed_mapper=seed)\n",
    "\n",
    "result = qsvm.run(quantum_instance)\n",
    "\n",
    "\"\"\"declarative approach\n",
    "params = {\n",
    "    'problem': {'name': 'svm_classification', 'random_seed': 10598},\n",
    "    'algorithm': {\n",
    "        'name': 'QSVM.Kernel'\n",
    "    },\n",
    "    'backend': {'name': 'qasm_simulator', 'shots': 1024},\n",
    "    'feature_map': {'name': 'SecondOrderExpansion', 'depth': 2, 'entanglement': 'linear'}\n",
    "}\n",
    "algo_input = SVMInput(training_input, test_input, datapoints[0])\n",
    "result = run_algorithm(params, algo_input)\n",
    "\"\"\"\n",
    "\n",
    "print(\"testing success ratio: {}\".format(result['testing_accuracy']))\n",
    "print(\"preduction of datapoints:\")\n",
    "print(\"ground truth: {}\".format(map_label_to_class_name(datapoints[1], qsvm.label_to_class)))\n",
    "print(\"prediction:   {}\".format(result['predicted_classes']))"
   ]
  },
  {
   "cell_type": "code",
   "execution_count": 5,
   "metadata": {},
   "outputs": [
    {
     "name": "stdout",
     "output_type": "stream",
     "text": [
      "kernel matrix during the training:\n"
     ]
    },
    {
     "data": {
      "image/png": "[encoded data removed]",
      "text/plain": [
       "<Figure size 432x288 with 1 Axes>"
      ]
     },
     "metadata": {
      "needs_background": "light"
     },
     "output_type": "display_data"
    }
   ],
   "source": [
    "print(\"kernel matrix during the training:\")\n",
    "kernel_matrix = result['kernel_matrix_training']\n",
    "img = plt.imshow(np.asmatrix(kernel_matrix),interpolation='nearest',origin='upper',cmap='bone_r')\n",
    "plt.show()"
   ]
  },
  {
   "cell_type": "markdown",
   "metadata": {},
   "source": [
    "### The breast cancer dataset\n",
    "Now we run our algorithm with the real-world dataset: the breast cancer dataset, we use the first two principal components as features."
   ]
  },
  {
   "cell_type": "code",
   "execution_count": 6,
   "metadata": {},
   "outputs": [
    {
     "data": {
      "image/png": "[encoded data removed]",
      "text/plain": [
       "<Figure size 432x288 with 1 Axes>"
      ]
     },
     "metadata": {
      "needs_background": "light"
     },
     "output_type": "display_data"
    }
   ],
   "source": [
    "sample_Total, training_input, test_input, class_labels = Breast_cancer(training_size=20,\n",
    "                                                                       test_size=10,\n",
    "                                                                       n=2,\n",
    "                                                                       PLOT_DATA=True)"
   ]
  },
  {
   "cell_type": "code",
   "execution_count": 7,
   "metadata": {},
   "outputs": [
    {
     "name": "stdout",
     "output_type": "stream",
     "text": [
      "testing success ratio:  0.9\n"
     ]
    }
   ],
   "source": [
    "seed = 10598\n",
    "\n",
    "feature_map = SecondOrderExpansion(num_qubits=feature_dim, depth=2, entanglement='linear')\n",
    "qsvm = QSVMKernel(feature_map, training_input, test_input)\n",
    "\n",
    "backend = Aer.get_backend('qasm_simulator')\n",
    "run_config = RunConfig(shots=1024, max_credits=10, memory=False, seed=seed)\n",
    "quantum_instance = QuantumInstance(backend, run_config, seed_mapper=seed)\n",
    "\n",
    "result = qsvm.run(quantum_instance)\n",
    "\n",
    "\"\"\"declarative approach, re-use the params above\n",
    "algo_input = SVMInput(training_input, test_input)\n",
    "result = run_algorithm(params, algo_input)\n",
    "\"\"\"\n",
    "print(\"testing success ratio: \", result['testing_accuracy'])"
   ]
  },
  {
   "cell_type": "code",
   "execution_count": 8,
   "metadata": {},
   "outputs": [
    {
     "name": "stdout",
     "output_type": "stream",
     "text": [
      "kernel matrix during the training:\n"
     ]
    },
    {
     "data": {
      "image/png": "[encoded data removed]",
      "text/plain": [
       "<Figure size 432x288 with 1 Axes>"
      ]
     },
     "metadata": {
      "needs_background": "light"
     },
     "output_type": "display_data"
    }
   ],
   "source": [
    "print(\"kernel matrix during the training:\")\n",
    "kernel_matrix = result['kernel_matrix_training']\n",
    "img = plt.imshow(np.asmatrix(kernel_matrix),interpolation='nearest',origin='upper',cmap='bone_r')\n",
    "plt.show()"
   ]
  }
 ],
 "metadata": {
  "kernelspec": {
   "display_name": "Python 3",
   "language": "python",
   "name": "python3"
  },
  "language_info": {
   "codemirror_mode": {
    "name": "ipython",
    "version": 3
   },
   "file_extension": ".py",
   "mimetype": "text/x-python",
   "name": "python",
   "nbconvert_exporter": "python",
   "pygments_lexer": "ipython3",
   "version": "3.6.7"
  }
 },
 "nbformat": 4,
 "nbformat_minor": 1
}
