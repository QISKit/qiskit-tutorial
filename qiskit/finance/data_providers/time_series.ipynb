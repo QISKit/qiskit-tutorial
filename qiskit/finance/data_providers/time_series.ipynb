{
 "cells": [
  {
   "cell_type": "markdown",
   "metadata": {},
   "source": [
    "<img src=\"../../../images/qiskit-heading.gif\" alt=\"Note: In order for images to show up in this jupyter notebook you need to select File => Trusted Notebook\" width=\"500 px\" align=\"left\">"
   ]
  },
  {
   "cell_type": "markdown",
   "metadata": {},
   "source": [
    "# _*Qiskit Finance: Loading Time Series Data*_\n",
    "\n",
    "The latest version of this notebook is available on https://github.com/qiskit/qiskit-tutorial.\n",
    "\n",
    "***\n",
    "### Contributors\n",
    "Jakub Marecek<sup>[1]</sup>\n",
    "\n",
    "### Affiliation\n",
    "- <sup>[1]</sup>IBMQ"
   ]
  },
  {
   "cell_type": "markdown",
   "metadata": {},
   "source": [
    "### Introduction\n",
    "Across many problems in finance, one starts with time series. Here, we showcase how to download the time series from a number of common providers."
   ]
  },
  {
   "cell_type": "code",
   "execution_count": 9,
   "metadata": {
    "scrolled": false
   },
   "outputs": [
    {
     "name": "stdout",
     "output_type": "stream",
     "text": [
      "['/Users/jmarecek/git/qiskit-tutorials/qiskit/aqua/artificial_intelligence', '/Users/jmarecek/anaconda3/envs/localqiskit/lib/python37.zip', '/Users/jmarecek/anaconda3/envs/localqiskit/lib/python3.7', '/Users/jmarecek/anaconda3/envs/localqiskit/lib/python3.7/lib-dynload', '', '/Users/jmarecek/anaconda3/envs/localqiskit/lib/python3.7/site-packages', '/Users/jmarecek/anaconda3/envs/localqiskit/lib/python3.7/site-packages/sympy-1.3-py3.7.egg', '/Users/jmarecek/anaconda3/envs/localqiskit/lib/python3.7/site-packages/scipy-1.2.1-py3.7-macosx-10.7-x86_64.egg', '/Users/jmarecek/anaconda3/envs/localqiskit/lib/python3.7/site-packages/psutil-5.6.1-py3.7-macosx-10.7-x86_64.egg', '/Users/jmarecek/anaconda3/envs/localqiskit/lib/python3.7/site-packages/ply-3.11-py3.7.egg', '/Users/jmarecek/anaconda3/envs/localqiskit/lib/python3.7/site-packages/Pillow-5.4.1-py3.7-macosx-10.7-x86_64.egg', '/Users/jmarecek/anaconda3/envs/localqiskit/lib/python3.7/site-packages/numpy-1.16.2-py3.7-macosx-10.7-x86_64.egg', '/Users/jmarecek/anaconda3/envs/localqiskit/lib/python3.7/site-packages/networkx-2.2-py3.7.egg', '/Users/jmarecek/anaconda3/envs/localqiskit/lib/python3.7/site-packages/marshmallow_polyfield-3.2-py3.7.egg', '/Users/jmarecek/anaconda3/envs/localqiskit/lib/python3.7/site-packages/marshmallow-2.19.1-py3.7.egg', '/Users/jmarecek/anaconda3/envs/localqiskit/lib/python3.7/site-packages/jsonschema-2.6.0-py3.7.egg', '/Users/jmarecek/anaconda3/envs/localqiskit/lib/python3.7/site-packages/mpmath-1.1.0-py3.7.egg', '/Users/jmarecek/anaconda3/envs/localqiskit/lib/python3.7/site-packages/decorator-4.4.0-py3.7.egg', '/Users/jmarecek/anaconda3/envs/localqiskit/lib/python3.7/site-packages/pyeda-0.28.0-py3.7-macosx-10.7-x86_64.egg', '/Users/jmarecek/anaconda3/envs/localqiskit/lib/python3.7/site-packages/dlx-1.0.4-py3.7.egg', '/Users/jmarecek/anaconda3/envs/localqiskit/lib/python3.7/site-packages/cvxopt-1.2.3-py3.7-macosx-10.7-x86_64.egg', '/Users/jmarecek/anaconda3/envs/localqiskit/lib/python3.7/site-packages/scikit_learn-0.20.3-py3.7-macosx-10.7-x86_64.egg', '/Users/jmarecek/git/qiskit-aer', '/Users/jmarecek/git/qiskit-ignis', '/Users/jmarecek/anaconda3/envs/localqiskit/lib/python3.7/site-packages/requests-2.21.0-py3.7.egg', '/Users/jmarecek/anaconda3/envs/localqiskit/lib/python3.7/site-packages/requests_ntlm-1.1.0-py3.7.egg', '/Users/jmarecek/anaconda3/envs/localqiskit/lib/python3.7/site-packages/urllib3-1.24.1-py3.7.egg', '/Users/jmarecek/anaconda3/envs/localqiskit/lib/python3.7/site-packages/idna-2.8-py3.7.egg', '/Users/jmarecek/anaconda3/envs/localqiskit/lib/python3.7/site-packages/chardet-3.0.4-py3.7.egg', '/Users/jmarecek/anaconda3/envs/localqiskit/lib/python3.7/site-packages/ntlm_auth-1.2.0-py3.7.egg', '/Users/jmarecek/anaconda3/envs/localqiskit/lib/python3.7/site-packages/cryptography-2.6.1-py3.7-macosx-10.7-x86_64.egg', '/Users/jmarecek/anaconda3/envs/localqiskit/lib/python3.7/site-packages/six-1.12.0-py3.7.egg', '/Users/jmarecek/anaconda3/envs/localqiskit/lib/python3.7/site-packages/cffi-1.12.2-py3.7-macosx-10.7-x86_64.egg', '/Users/jmarecek/anaconda3/envs/localqiskit/lib/python3.7/site-packages/asn1crypto-0.24.0-py3.7.egg', '/Users/jmarecek/anaconda3/envs/localqiskit/lib/python3.7/site-packages/pycparser-2.19-py3.7.egg', '/Users/jmarecek/git/qiskit-aqua', '/Users/jmarecek/git/qiskit', '/Users/jmarecek/git/qiskit-terra', '/Users/jmarecek/anaconda3/envs/localqiskit/lib/python3.7/site-packages/IPython/extensions', '/Users/jmarecek/.ipython', '/Users/jmarecek/git/qiskit-tutorials/qiskit/aqua/artificial_intelligence', '/Users/jmarecek/git/qiskit-tutorials/qiskit/aqua/artificial_intelligence', '/Users/jmarecek/git/qiskit-tutorials/qiskit/aqua/artificial_intelligence']\n"
     ]
    },
    {
     "ename": "ModuleNotFoundError",
     "evalue": "No module named 'drivers'",
     "output_type": "error",
     "traceback": [
      "\u001b[0;31m---------------------------------------------------------------------------\u001b[0m",
      "\u001b[0;31mModuleNotFoundError\u001b[0m                       Traceback (most recent call last)",
      "\u001b[0;32m<ipython-input-9-d260c33292e9>\u001b[0m in \u001b[0;36m<module>\u001b[0;34m\u001b[0m\n\u001b[1;32m      2\u001b[0m \u001b[0msys\u001b[0m\u001b[0;34m.\u001b[0m\u001b[0mpath\u001b[0m\u001b[0;34m.\u001b[0m\u001b[0mappend\u001b[0m\u001b[0;34m(\u001b[0m\u001b[0mos\u001b[0m\u001b[0;34m.\u001b[0m\u001b[0mgetcwd\u001b[0m\u001b[0;34m(\u001b[0m\u001b[0;34m)\u001b[0m\u001b[0;34m)\u001b[0m\u001b[0;34m\u001b[0m\u001b[0;34m\u001b[0m\u001b[0m\n\u001b[1;32m      3\u001b[0m \u001b[0mprint\u001b[0m\u001b[0;34m(\u001b[0m\u001b[0msys\u001b[0m\u001b[0;34m.\u001b[0m\u001b[0mpath\u001b[0m\u001b[0;34m)\u001b[0m\u001b[0;34m\u001b[0m\u001b[0;34m\u001b[0m\u001b[0m\n\u001b[0;32m----> 4\u001b[0;31m \u001b[0;32mfrom\u001b[0m \u001b[0mdrivers\u001b[0m \u001b[0;32mimport\u001b[0m \u001b[0;34m*\u001b[0m\u001b[0;34m\u001b[0m\u001b[0;34m\u001b[0m\u001b[0m\n\u001b[0m\u001b[1;32m      5\u001b[0m \u001b[0;34m\u001b[0m\u001b[0m\n\u001b[1;32m      6\u001b[0m \u001b[0;32mfrom\u001b[0m \u001b[0mqiskit\u001b[0m \u001b[0;32mimport\u001b[0m \u001b[0mAer\u001b[0m\u001b[0;34m\u001b[0m\u001b[0;34m\u001b[0m\u001b[0m\n",
      "\u001b[0;31mModuleNotFoundError\u001b[0m: No module named 'drivers'"
     ]
    }
   ],
   "source": [
    "import os, sys\n",
    "sys.path.append(os.getcwd())\n",
    "print(sys.path)\n",
    "from drivers import *\n",
    "\n",
    "from qiskit import Aer\n",
    "from qiskit_aqua import run_algorithm, QuantumInstance\n",
    "\n",
    "# setup aqua logging\n",
    "import logging\n",
    "from qiskit_aqua import set_aqua_logging"
   ]
  },
  {
   "cell_type": "code",
   "execution_count": null,
   "metadata": {},
   "outputs": [],
   "source": []
  },
  {
   "cell_type": "markdown",
   "metadata": {},
   "source": [
    "### [Optional] Setup token to access recent, fine-grained time-series\n",
    "\n",
    "If you would like to download professional data, you will have to set-up a token with one of the major providers.\n"
   ]
  }
 ],
 "metadata": {
  "kernelspec": {
   "display_name": "Python [conda env:localqiskit]",
   "language": "python",
   "name": "conda-env-localqiskit-py"
  },
  "language_info": {
   "codemirror_mode": {
    "name": "ipython",
    "version": 3
   },
   "file_extension": ".py",
   "mimetype": "text/x-python",
   "name": "python",
   "nbconvert_exporter": "python",
   "pygments_lexer": "ipython3",
   "version": "3.7.2"
  }
 },
 "nbformat": 4,
 "nbformat_minor": 1
}
