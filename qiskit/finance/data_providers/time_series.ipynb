{
 "cells": [
  {
   "cell_type": "markdown",
   "metadata": {},
   "source": [
    "<img src=\"../../../images/qiskit-heading.gif\" alt=\"Note: In order for images to show up in this jupyter notebook you need to select File => Trusted Notebook\" width=\"500 px\" align=\"left\">"
   ]
  },
  {
   "cell_type": "markdown",
   "metadata": {},
   "source": [
    "# _*Qiskit Finance: Loading and Processing Stock-Market Time-Series Data*_\n",
    "\n",
    "The latest version of this notebook is available on https://github.com/qiskit/qiskit-tutorial.\n",
    "\n",
    "***\n",
    "### Contributors\n",
    "Jakub Marecek<sup>[1]</sup>\n",
    "\n",
    "### Affiliation\n",
    "- <sup>[1]</sup>IBMQ"
   ]
  },
  {
   "cell_type": "markdown",
   "metadata": {},
   "source": [
    "### Introduction\n",
    "Across many problems in finance, one starts with time series. Here, we showcase how to download the time series from a number of common providers."
   ]
  },
  {
   "cell_type": "code",
   "execution_count": null,
   "metadata": {
    "scrolled": true
   },
   "outputs": [],
   "source": [
    "%matplotlib inline\n",
    "from qiskit.aqua.translators.data_providers import *\n",
    "import warnings\n",
    "warnings.filterwarnings(\"ignore\", category=DeprecationWarning)\n",
    "import datetime\n",
    "import matplotlib.pyplot as plt\n",
    "from pandas.plotting import register_matplotlib_converters\n",
    "register_matplotlib_converters()"
   ]
  },
  {
   "cell_type": "code",
   "execution_count": null,
   "metadata": {},
   "outputs": [],
   "source": [
    "stocks = [\"TICKER_A\", \"TICKER_B\"]  # TODO\n",
    "from qiskit.aqua.translators.data_providers.wikipediadataprovider import StockMarket\n",
    "wiki = WikipediaDataProvider(token = \"\",\n",
    "                 tickers = stocks,\n",
    "                 stockmarket = StockMarket.NASDAQ.value,\n",
    "                 start = datetime.datetime(2016,1,1),\n",
    "                 end = datetime.datetime(2016,1,30))\n",
    "wiki.run()"
   ]
  },
  {
   "cell_type": "markdown",
   "metadata": {},
   "source": [
    "Once the data are loaded, you can run a variety of algorithms on those to aggregate the data. Notably, you can compute the covariance matrix or a variant, which would consider alternative time-series similarity measures based on <a target=\"_blank\" href=\"https://en.wikipedia.org/wiki/Dynamic_time_warping\">dynamic time warping</a> (DTW). In DTW, changes that vary in speed, e.g., one stock's price following another stock's price with a small delay, can be accommodated."
   ]
  },
  {
   "cell_type": "code",
   "execution_count": null,
   "metadata": {},
   "outputs": [],
   "source": [
    "if wiki._n <= 1: \n",
    "    raise Exception(\"Not enough data to plot covariance or time-series similarity. Please use at least two tickers.\")\n",
    "\n",
    "rho = wiki.get_similarity_matrix()\n",
    "print(\"A time-series similarity measure:\")\n",
    "print(rho)\n",
    "#plt.subplot(211)\n",
    "plt.imshow(rho)\n",
    "plt.show()\n",
    "\n",
    "cov = wiki.get_covariance()\n",
    "print(\"A covariance matrix:\")\n",
    "print(cov)\n",
    "#plt.subplot(212)\n",
    "plt.imshow(cov)\n",
    "plt.show()"
   ]
  },
  {
   "cell_type": "markdown",
   "metadata": {},
   "source": [
    "If you wish, you can look into the internals using:"
   ]
  },
  {
   "cell_type": "code",
   "execution_count": null,
   "metadata": {},
   "outputs": [],
   "source": [
    "print(\"The underlying evolution of stock prices:\")\n",
    "for (cnt, s) in enumerate(stocks):\n",
    "    plt.plot(wiki._data[cnt], label=s)\n",
    "plt.legend()\n",
    "plt.xticks(rotation=90)\n",
    "plt.show()\n",
    "\n",
    "for (cnt, s) in enumerate(stocks):\n",
    "    print(s)\n",
    "    print(wiki._data[cnt])"
   ]
  },
  {
   "cell_type": "markdown",
   "metadata": {},
   "source": [
    "### [Optional] Setup token to access recent, fine-grained time-series\n",
    "\n",
    "If you would like to download professional data, you will have to set-up a token with one of the major providers. Let us now illustrate the data with NASDAQ Data on Demand, which can supply bid and ask prices in arbitrary resolution, as well as aggregates such as daily adjusted closing prices, for NASDAQ and NYSE issues.\n"
   ]
  },
  {
   "cell_type": "markdown",
   "metadata": {},
   "source": [
    "If you have access to NASDAQ Data on Demand you should have your own token, which you should use instead of REPLACE-ME below. \n",
    "Also you should have your own means of validating NASDAQ's certificates.\n",
    "If you don't you may want to run the cell below to disable the associated warnings. "
   ]
  },
  {
   "cell_type": "code",
   "execution_count": null,
   "metadata": {},
   "outputs": [],
   "source": [
    "import urllib3\n",
    "urllib3.disable_warnings(urllib3.exceptions.InsecureRequestWarning)"
   ]
  },
  {
   "cell_type": "code",
   "execution_count": null,
   "metadata": {},
   "outputs": [],
   "source": [
    "from qiskit.aqua.translators.data_providers.dataondemandprovider import StockMarket\n",
    "try:\n",
    "    nasdaq = DataOnDemandProvider(token = \"REPLACE-ME\",\n",
    "                 tickers = [\"TICKER_A\", \"TICKER_B\"],\n",
    "                 stockmarket = StockMarket.NASDAQ.value,\n",
    "                 start = datetime.datetime(2016,1,1),\n",
    "                 end = datetime.datetime(2016,1,2))\n",
    "    nasdaq.run()\n",
    "    nasdaq.plot()\n",
    "except QiskitFinanceError as e:\n",
    "    print(e)\n",
    "    print(\"You need to replace REPLACE-ME with a valid token.\")"
   ]
  },
  {
   "cell_type": "markdown",
   "metadata": {},
   "source": [
    "Another major vendor of stock market data is Exchange Data International (EDI), whose feeds can be used to query emerging and frontier markets that are Africa, Asia, Far East, Latin America and Middle East, as well as the more established ones. The access again requires a valid access token to replace REPLACE-ME below.\n",
    "\n",
    "In the following example, we look at the prices at London Stock Exchange. "
   ]
  },
  {
   "cell_type": "code",
   "execution_count": null,
   "metadata": {},
   "outputs": [],
   "source": [
    "from qiskit.aqua.translators.data_providers.exchangedataprovider import StockMarket\n",
    "try:\n",
    "    lse = ExchangeDataProvider(token = \"REPLACE-ME\",\n",
    "                 tickers = [\"TICKER_A\", \"TICKER_B\"],\n",
    "                 stockmarket = StockMarket.LONDON.value,\n",
    "                 start = datetime.datetime(2019,1,1),\n",
    "                 end = datetime.datetime(2019,1,30))\n",
    "    lse.run()\n",
    "    lse.plot()\n",
    "except QiskitFinanceError as e: \n",
    "    print(e)\n",
    "    print(\"You need to replace REPLACE-ME with a valid token.\")"
   ]
  },
  {
   "cell_type": "markdown",
   "metadata": {},
   "source": [
    "For the actual use of the data, please see the portfolio_optimization or portfolio_diversification notebooks. "
   ]
  }
 ],
 "metadata": {
  "kernelspec": {
   "display_name": "Python 3",
   "language": "python",
   "name": "python3"
  },
  "language_info": {
   "codemirror_mode": {
    "name": "ipython",
    "version": 3
   },
   "file_extension": ".py",
   "mimetype": "text/x-python",
   "name": "python",
   "nbconvert_exporter": "python",
   "pygments_lexer": "ipython3",
   "version": "3.6.1"
  }
 },
 "nbformat": 4,
 "nbformat_minor": 2
}
