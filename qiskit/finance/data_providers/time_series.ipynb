{
 "cells": [
  {
   "cell_type": "markdown",
   "metadata": {},
   "source": [
    "<img src=\"../../../images/qiskit-heading.gif\" alt=\"Note: In order for images to show up in this jupyter notebook you need to select File => Trusted Notebook\" width=\"500 px\" align=\"left\">"
   ]
  },
  {
   "cell_type": "markdown",
   "metadata": {},
   "source": [
    "# _*Qiskit Finance: Loading Time Series Data*_\n",
    "\n",
    "The latest version of this notebook is available on https://github.com/qiskit/qiskit-tutorial.\n",
    "\n",
    "***\n",
    "### Contributors\n",
    "Jakub Marecek<sup>[1]</sup>\n",
    "\n",
    "### Affiliation\n",
    "- <sup>[1]</sup>IBMQ"
   ]
  },
  {
   "cell_type": "markdown",
   "metadata": {},
   "source": [
    "### Introduction\n",
    "Across many problems in finance, one starts with time series. Here, we showcase how to download the time series from a number of common providers."
   ]
  },
  {
   "cell_type": "code",
   "execution_count": 1,
   "metadata": {
    "scrolled": true
   },
   "outputs": [],
   "source": [
    "%matplotlib inline\n",
    "from qiskit.aqua.translators.data_providers import *\n",
    "from qiskit.aqua.translators.data_providers.wikipediadataprovider import StockMarket\n",
    "import warnings\n",
    "warnings.filterwarnings(\"ignore\", category=DeprecationWarning)\n",
    "import datetime"
   ]
  },
  {
   "cell_type": "code",
   "execution_count": 2,
   "metadata": {},
   "outputs": [
    {
     "name": "stdout",
     "output_type": "stream",
     "text": [
      "Evolution of the stock price:\n",
      "GOOG\n",
      "Date\n",
      "2016-01-04    741.84\n",
      "2016-01-05    742.58\n",
      "2016-01-06    743.62\n",
      "2016-01-07    726.39\n",
      "2016-01-08    714.47\n",
      "2016-01-11    716.03\n",
      "2016-01-12    726.07\n",
      "2016-01-13    700.56\n",
      "2016-01-14    714.72\n",
      "2016-01-15    694.45\n",
      "2016-01-19    701.79\n",
      "2016-01-20    698.45\n",
      "2016-01-21    706.59\n",
      "2016-01-22    725.25\n",
      "2016-01-25    711.67\n",
      "2016-01-26    713.04\n",
      "2016-01-27    699.99\n",
      "2016-01-28    730.96\n",
      "2016-01-29    742.95\n",
      "Name: Adj. Close, dtype: float64\n",
      "AAPL\n",
      "Date\n",
      "2016-01-04    101.783763\n",
      "2016-01-05     99.233131\n",
      "2016-01-06     97.291172\n",
      "2016-01-07     93.185040\n",
      "2016-01-08     93.677776\n",
      "2016-01-11     95.194629\n",
      "2016-01-12     96.576222\n",
      "2016-01-13     94.093220\n",
      "2016-01-14     96.151117\n",
      "2016-01-15     93.842021\n",
      "2016-01-19     93.387931\n",
      "2016-01-20     93.513531\n",
      "2016-01-21     93.040118\n",
      "2016-01-22     97.986799\n",
      "2016-01-25     96.073825\n",
      "2016-01-26     96.605206\n",
      "2016-01-27     90.257610\n",
      "2016-01-28     90.904929\n",
      "2016-01-29     94.044912\n",
      "Name: Adj. Close, dtype: float64\n"
     ]
    },
    {
     "data": {
      "image/png": "[encoded data removed]",
      "text/plain": [
       "<Figure size 432x288 with 1 Axes>"
      ]
     },
     "metadata": {
      "needs_background": "light"
     },
     "output_type": "display_data"
    },
    {
     "name": "stdout",
     "output_type": "stream",
     "text": [
      "A time-series similarity measure:\n",
      "[[1.00000000e+00 8.44268222e-05]\n",
      " [8.44268222e-05 1.00000000e+00]]\n",
      "A covariance matrix:\n",
      "[[269.60118129  25.42252332]\n",
      " [ 25.42252332   7.86304499]]\n"
     ]
    },
    {
     "data": {
      "image/png": "[encoded data removed]",
      "text/plain": [
       "<Figure size 432x288 with 2 Axes>"
      ]
     },
     "metadata": {
      "needs_background": "light"
     },
     "output_type": "display_data"
    }
   ],
   "source": [
    "wiki = WikipediaDataProvider(token = \"\",\n",
    "                 tickers = [\"GOOG\", \"AAPL\"],\n",
    "                 stockmarket = StockMarket.NASDAQ.value,\n",
    "                 start = datetime.datetime(2016,1,1),\n",
    "                 end = datetime.datetime(2016,1,30))\n",
    "wiki.run()\n",
    "wiki.plot()"
   ]
  },
  {
   "cell_type": "markdown",
   "metadata": {},
   "source": [
    "### [Optional] Setup token to access recent, fine-grained time-series\n",
    "\n",
    "If you would like to download professional data, you will have to set-up a token with one of the major providers.\n"
   ]
  },
  {
   "cell_type": "code",
   "execution_count": 3,
   "metadata": {},
   "outputs": [
    {
     "name": "stderr",
     "output_type": "stream",
     "text": [
      "/Users/jmarecek/anaconda3/envs/localqiskit/lib/python3.7/site-packages/urllib3/connectionpool.py:847: InsecureRequestWarning: Unverified HTTPS request is being made. Adding certificate verification is strongly advised. See: https://urllib3.readthedocs.io/en/latest/advanced-usage.html#ssl-warnings\n",
      "  InsecureRequestWarning)\n"
     ]
    },
    {
     "name": "stdout",
     "output_type": "stream",
     "text": [
      "'Accessing NASDAQ Data on Demand failed.'\n",
      "You need to replace REPLACE-ME with a valid token.\n"
     ]
    }
   ],
   "source": [
    "from qiskit.aqua.translators.data_providers.dataondemandprovider import StockMarket\n",
    "try:\n",
    "  nasdaq = DataOnDemandProvider(token = \"REPLACE-ME\",\n",
    "                 tickers = [\"GOOG\", \"AAPL\"],\n",
    "                 stockmarket = StockMarket.NASDAQ.value,\n",
    "                 start = datetime.datetime(2016,1,1),\n",
    "                 end = datetime.datetime(2016,1,2))\n",
    "  nasdaq.run()\n",
    "  nasdaq.plot()\n",
    "except QiskitFinanceError as e:\n",
    "    print(e)\n",
    "    print(\"You need to replace REPLACE-ME with a valid token.\")"
   ]
  },
  {
   "cell_type": "code",
   "execution_count": 4,
   "metadata": {},
   "outputs": [
    {
     "name": "stdout",
     "output_type": "stream",
     "text": [
      "You need to replace REPLACE-ME with a valid token.\n"
     ]
    }
   ],
   "source": [
    "from qiskit.aqua.translators.data_providers.exchangedataprovider import StockMarket\n",
    "try:\n",
    "  lse = ExchangeDataProvider(token = \"REPLACE-ME\",\n",
    "                 tickers = [\"AIBGl\", \"AVSTl\"],\n",
    "                 stockmarket = StockMarket.LONDON.value,\n",
    "                 start = datetime.datetime(2019,1,1),\n",
    "                 end = datetime.datetime(2019,1,30))\n",
    "  lse.run()\n",
    "  lse.plot()\n",
    "except QiskitFinanceError: \n",
    "    print(\"You need to replace REPLACE-ME with a valid token.\")"
   ]
  },
  {
   "cell_type": "code",
   "execution_count": null,
   "metadata": {},
   "outputs": [],
   "source": []
  }
 ],
 "metadata": {
  "kernelspec": {
   "display_name": "Python 3",
   "language": "python",
   "name": "python3"
  },
  "language_info": {
   "codemirror_mode": {
    "name": "ipython",
    "version": 3
   },
   "file_extension": ".py",
   "mimetype": "text/x-python",
   "name": "python",
   "nbconvert_exporter": "python",
   "pygments_lexer": "ipython3",
   "version": "3.7.2"
  }
 },
 "nbformat": 4,
 "nbformat_minor": 2
}
