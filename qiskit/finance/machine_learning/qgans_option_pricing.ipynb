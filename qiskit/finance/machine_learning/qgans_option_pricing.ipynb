{
 "cells": [
  {
   "cell_type": "markdown",
   "metadata": {},
   "source": [
    "# _*Qiskit Finance: qGAN Option Pricing*_ \n",
    "\n",
    "The latest version of this notebook is available on https://github.com/Qiskit/qiskit-tutorials.\n",
    "\n",
    "***\n",
    "### Contributors\n",
    "Christa Zoufal<sup>[1,2]</sup>, Stefan Woerner<sup>[1]</sup>\n",
    "### Affliation\n",
    "- <sup>[1]</sup>IBMQ\n",
    "- <sup>[2]</sup>ETH Zurich\n",
    "\n",
    "### Introduction\n",
    "We can train a quantum Generative Adversarial Network (qGAN) - see [qGANs for Loading Random Distributions](../../aqua/artificial_intelligence/qgans_for_loading_random_distributions.ipynb) - to learn and load a model for the spot price of an asset underlying a European call option. The resulting model can then be integrated into a Quantum Amplitude Estimation based algorithm to evaluate the expected payoff - see [European Call Option Pricing](../../aqua/finance/european_call_option_pricing.ipynb)."
   ]
  },
  {
   "cell_type": "code",
   "execution_count": 1,
   "metadata": {},
   "outputs": [
    {
     "name": "stderr",
     "output_type": "stream",
     "text": [
      "/Users/ouf/anaconda3/envs/QiskitDevenv/lib/python3.7/site-packages/qiskit_terra-0.8.0-py3.7-macosx-10.7-x86_64.egg/qiskit/circuit/variabletable.py:10: DeprecationWarning: Using or importing the ABCs from 'collections' instead of from 'collections.abc' is deprecated, and in 3.8 it will stop working\n",
      "  from collections import MutableMapping\n"
     ]
    }
   ],
   "source": [
    "#!/usr/bin/env python\n",
    "# coding: utf-8\n",
    "from __future__ import absolute_import, division, print_function\n",
    "\n",
    "import matplotlib.pyplot as plt\n",
    "%matplotlib inline\n",
    "import numpy as np\n",
    "from qiskit.aqua.algorithms import AmplitudeEstimation\n",
    "from qiskit.aqua.components.uncertainty_problems import EuropeanCallExpectedValue\n",
    "from qiskit.aqua.components.uncertainty_models import UnivariateVariationalDistribution, NormalDistribution\n",
    "from qiskit.aqua.components.variational_forms import RY\n",
    "\n",
    "from qiskit.aqua import aqua_globals, QuantumInstance\n",
    "\n",
    "from qiskit import BasicAer"
   ]
  },
  {
   "cell_type": "markdown",
   "metadata": {},
   "source": [
    "### Uncertainty Model\n",
    "\n",
    "The Black-Scholes model assumes that the spot price at maturity $S_T$ for a European call option is log-normally distributed. Thus, we can train a qGAN on samples from a log-normal distribution, as it is shown in [qGANs for Loading Random Distributions](../../aqua/artificial_intelligence/qgans_for_loading_random_distributions.ipynb), and use the resulting model as uncertainty model underlying the option.\n",
    "In the following, we construct the quantum circuit for loading the uncertainty model. The circuit output reads $$\\lvert g_{\\theta}\\rangle = \\sum\\limits_{j=0}^{2^n-1}\\sqrt{p_{\\theta}^{j}}\\lvert{j}\\rangle,$$ whereby the probabilites $p_{\\theta}^{j}$, for $j\\in \\left\\{0, \\ldots, {2^n-1} \\right\\}$, represent a model of the target distribution."
   ]
  },
  {
   "cell_type": "code",
   "execution_count": 2,
   "metadata": {},
   "outputs": [],
   "source": [
    "# Set upper and lower data values\n",
    "bounds = np.array([0.,7.])\n",
    "# Set number of qubits used in the uncertainty model\n",
    "num_qubits = [3]\n",
    "\n",
    "# Set entangler map\n",
    "entangler_map = []\n",
    "for i in range(sum(num_qubits)):\n",
    "    entangler_map.append([i, int(np.mod(i+1, sum(num_qubits)))])\n",
    "\n",
    "# Set variational form\n",
    "var_form = RY(int(np.sum(num_qubits)), depth=1, entangler_map=entangler_map, entanglement_gate='cz')\n",
    "# Load the trained circuit parameters\n",
    "g_params = [0.29399714, 0.38853322, 0.9557694,  0.07245791, 6.02626428, 0.13537225]\n",
    "# Set an initial state for the generator circuit\n",
    "init_dist = NormalDistribution(int(sum(num_qubits)), mu=1., sigma=1., low=bounds[0], high=bounds[1])\n",
    "# Set generator circuit\n",
    "g_circuit = UnivariateVariationalDistribution(int(sum(num_qubits)), var_form, g_params,\n",
    "                                              initial_distribution=init_dist, low=bounds[0], high=bounds[1])\n",
    "\n",
    "# construct circuit factory for uncertainty model\n",
    "uncertainty_model = g_circuit"
   ]
  },
  {
   "cell_type": "code",
   "execution_count": 3,
   "metadata": {},
   "outputs": [
    {
     "data": {
      "image/png": "[encoded data removed]",
      "text/plain": [
       "<Figure size 432x288 with 1 Axes>"
      ]
     },
     "metadata": {
      "needs_background": "light"
     },
     "output_type": "display_data"
    }
   ],
   "source": [
    "# plot probability distribution\n",
    "x = uncertainty_model.values\n",
    "y = uncertainty_model.probabilities\n",
    "plt.bar(x, y, width=0.2)\n",
    "plt.xticks(x, size=15, rotation=90)\n",
    "plt.yticks(size=15)\n",
    "plt.grid()\n",
    "plt.xlabel('Spot Price at Maturity $S_T$ (\\$)', size=15)\n",
    "plt.ylabel('Probability ($\\%$)', size=15)\n",
    "plt.show()"
   ]
  },
  {
   "cell_type": "markdown",
   "metadata": {},
   "source": [
    "### Evaluate Expected Payoff\n",
    "Now, the trained uncertainty model can be used as part of a quantum circuit to evaluate the expectation value of the option's payoff function."
   ]
  },
  {
   "cell_type": "code",
   "execution_count": 8,
   "metadata": {},
   "outputs": [
    {
     "name": "stdout",
     "output_type": "stream",
     "text": [
      "Estimated value:\t1.2580\n",
      "Probability:    \t0.8785\n"
     ]
    }
   ],
   "source": [
    "# set the strike price (should be within the low and the high value of the uncertainty)\n",
    "strike_price = 2\n",
    "\n",
    "# set the approximation scaling for the payoff function\n",
    "c_approx = 0.25\n",
    "\n",
    "# construct circuit factory for payoff function\n",
    "european_call = EuropeanCallExpectedValue(\n",
    "    uncertainty_model,\n",
    "    strike_price=strike_price,\n",
    "    c_approx=c_approx\n",
    ")\n",
    "# set number of evaluation qubits (samples)\n",
    "m = 5\n",
    "\n",
    "# construct amplitude estimation \n",
    "ae = AmplitudeEstimation(m, european_call)\n",
    "# result = ae.run(quantum_instance=BasicAer.get_backend('qasm_simulator'), shots=100)\n",
    "result = ae.run(quantum_instance=BasicAer.get_backend('statevector_simulator'))\n",
    "print('Estimated value:\\t%.4f' % result['estimation'])\n",
    "print('Probability:    \\t%.4f' % result['max_probability'])"
   ]
  }
 ],
 "metadata": {
  "kernelspec": {
   "display_name": "QiskitDevenv",
   "language": "python",
   "name": "qiskitdevenv"
  },
  "language_info": {
   "codemirror_mode": {
    "name": "ipython",
    "version": 3
   },
   "file_extension": ".py",
   "mimetype": "text/x-python",
   "name": "python",
   "nbconvert_exporter": "python",
   "pygments_lexer": "ipython3",
   "version": "3.7.3"
  }
 },
 "nbformat": 4,
 "nbformat_minor": 2
}
