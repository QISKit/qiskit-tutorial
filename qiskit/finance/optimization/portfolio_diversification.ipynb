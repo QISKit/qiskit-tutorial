{
 "cells": [
  {
   "cell_type": "markdown",
   "metadata": {},
   "source": [
    "<img src=\"../../../images/qiskit-heading.gif\" width=\"500 px\" align=\"left\">"
   ]
  },
  {
   "cell_type": "markdown",
   "metadata": {},
   "source": [
    "# _*Qiskit Finance: Portfolio diversification*_\n",
    "\n",
    "The latest version of this notebook is available on https://github.com/qiskit/qiskit-tutorial.\n",
    "\n",
    "***\n",
    "### Contributors\n",
    "Andrea Simonetto<sup>[1]</sup>, Jakub Marecek<sup>[1]</sup>, Martin Mevissen<sup>[1]</sup>\n",
    "\n",
    "### Affiliation\n",
    "- <sup>[1]</sup>IBMQ\n",
    "\n",
    "\n",
    "## Introduction \n",
    "\n",
    "In asset management, there are broadly two approaches: active and passive investment management. Within passive investment management, there are index-tracking funds and there are approaches based on portfolio diversification, which aim at representing a portfolio with large number of assets by a smaller number of representative stocks.\n",
    "This notebook illustrates a portfolio diversification problem, which has recently become popular for two reasons:\n",
    "1. it makes it possible to mimick the performance of an index (or a similarly large set of assets) with a limited budget, at limited transaction costs. That is: traditional index-tracking may purchase all assets in the index, ideally with the same weights as in the index. This may be impractical for a number of reasons: the total of even a single round lot per asset may amount to more than the assets under management, the large scale of the index-tracking problem with integrality constraints may render the optimisation problem difficult, and the transaction costs of the frequent rebalancing to adjust the positions to the weights in the index may render the approach expensive. Thus, a popular approach is to select a portfolio of $q$ assets that represent the market with $n$ assets, where $q$ is significantly smaller than $n$, but where the portfolio replicates the behaviour of the underlying market. To determine how to group assets into $q$ clusters and how to determine which $q$ assets should represent the $q$ clusters amounts to solving a large-scale optimization problem. In the following we describe the mathematical model for the portfolio diversification problem as introduced in [Cornuejols & Tutuncu, 2006] \n",
    "2. it allows for similarity measures between time-series beyond the covariance matrix. Notice that traditionally, modern portfolio theory considers the covariance matrix as measure of similarity between the assets. As such, however, covariance matrix is imperfect. Consider, for instance, a company listed both in London and New York. Although both listings should be very similar, only parts of the time series of the prices of the two listings will overlap, because of the partial overlap of the times the markets open. Instead of covariance, one can consider, for example, dynamic time warping of [Berndt and Clifford, 1994] as a measure of similarity between two time series, which allows for the fact that for some time periods, the data are captured by only one of the time series, while for others, both time series exhibit the similarity due to the parallel evolution of the stock price.\n",
    "\n",
    "The overall workflow we demonstrate comprises:\n",
    "\n",
    "1. pick the ground set of assets. In our case, this is a small number of US stocks.\n",
    "\n",
    "2. load the time series capturing the evolution of the prices of assets. In our case, this is an simplistic load of adjusted daily closing price data from Wikipedia or Nasdaq or LSE or EuroNext, whereas in a real asset management, a much higher frequency may be considered.\n",
    "\n",
    "3. compute the pair-wise similarity among the time series. In our case, we run a linear-time approximation of the dynamic time warping, still on the classical computer.\n",
    "\n",
    "4. compute the actual portfolio of $q$ representative assets, based on the similarity measure. This step is run twice, actually. First, we obtain a reference value by a run of an IBM solver (IBM ILOG CPLEX or the Exact Eigensolver) on the classical computer. Second, we run an alternative, hybrid algorithm partly on the quantum computer.\n",
    "\n",
    "5. visualisation of the results. In our case, this is again a simplistic plot.\n",
    "\n",
    "In the following, we first explain the model used in (4) above, before we proceed with the installation of the pre-requisites and the data loading.\n",
    "\n",
    "\n",
    "## The Model\n",
    "\n",
    "As discussed in [Cornuejols & Tutuncu, 2006], we describe a mathematical model that clusters assets into groups of similar ones and selects one representative asset from each group to be included in the index fund portfolio. The model is based on the following data, which we will discuss in more detail later:\n",
    "\n",
    "$$\n",
    "\\rho_{ij} = \\textrm{similarity}\\, \\textrm{between}\\, \\textrm{stock}\\, i \\, \\textrm{and}\\, \\textrm{stock}\\, j.\n",
    "$$\n",
    "\n",
    "For example, $\\rho_{ii} = 1$, $\\rho_{ij} \\leq  1$ for $i \\neq j$ and $\\rho_{ij}$ is larger for more similar stocks. An example of this is the correlation between the returns of stocks $i$ and $j$. But one could choose other similarity indices $\\rho_{ij}$.\n",
    "\n",
    "The problem that we are interested in solving is:\n",
    "\n",
    "$$\n",
    "(M) \\quad  f = \\max_{x_{ij}, y_{j}} \\,\\, \\sum_{i=1}^n \\sum_{j=1}^n \\rho_{ij} x_{ij}\n",
    "$$\n",
    "\n",
    "subject to the clustering constraint:\n",
    "\n",
    "$$\n",
    "\\sum_{j=1}^n y_j = q,\n",
    "$$\n",
    "\n",
    "to consistency constraints:\n",
    "\n",
    "$$\n",
    "\\sum_{j=1}^n x_{ij} = 1, \\,\\textrm{ for }\\,  i = 1,\\ldots, n,\n",
    "\\quad x_{ij} \\leq y_j,\\,\\textrm{ for }\\,  i = 1,\\ldots, n; \\, j = 1,\\ldots, n,\n",
    "\\quad x_{jj} = y_j,\\,\\textrm{ for }\\,  j = 1,\\ldots, n,\n",
    "$$\n",
    "\n",
    "and integral constraints:\n",
    "\n",
    "$$\n",
    "\\quad  x_{ij}, y_j \\in\\{0,1\\}, \\,\\textrm{ for }\\,  i = 1,\\ldots, n; \\, j = 1,\\ldots, n.\n",
    "$$\n",
    "\n",
    "The variables $y_j$ describe which stocks $j$ are in the index fund ($y_j = 1$ if $j$ is selected in the fund, $0$ otherwise). For each stock $i = 1,\\dots,n$, the variable $x_{ij}$ indicates which stock $j$ in the index fund is most similar to $i$ ($x_{ij} = 1$ if $j$ is the most similar stock in the index fund, $0$ otherwise).\n",
    "\n",
    "The first constraint selects $q$ stocks in the fund. The second constraint imposes that each stock $i$ has exactly one representative stock $j$ in the fund. The third and fourth constraints guarantee that stock $i$ can be represented by stock $j$ only if $j$ is in the fund. The objective of the model maximizes the similarity between the $n$ stocks and their representatives in the fund. Different cost functions can also be considered. \n",
    "\n",
    "Let us concatenate the decision variables in one vector \n",
    "\n",
    "$$\n",
    "{\\bf z} = [x_{11},x_{12},\\ldots,x_{11}, x_{22},\\ldots,x_{nn}, y_{1},\\ldots,y_{n}],\n",
    "$$\n",
    "\n",
    "whose dimension is ${\\bf z} \\in \\{0,1\\}^N$, with $N = n (n+1)$ and denote the optimal solution with ${\\bf z}^*$, and the optimal cost $f^*$. \n",
    "\n",
    "\n",
    "## A Hybrid Approach\n",
    "\n",
    "Here, we demonstrate an approach that combines classical and quantum computing steps, following the quantum approximate optimization approach of Farhi, Goldstone, and Gutman (2014). \n",
    "\n",
    "### Construct a binary polynomial optimization\n",
    "\n",
    "From $(M)$ one can construct a binary polynomial optimization with equality constraints only, by substituting the $x_{ij} \\leq y_j$ inequality constraints with the equivalent equality constraints $x_{ij} (1- y_j) = 0$. Then the problem becomes:\n",
    "\n",
    "$$\n",
    "(BPO) \\quad  f = \\max_{x_{ij}, y_{j}} \\,\\, \\sum_{i=1}^n \\sum_{j=1}^n \\rho_{ij} x_{ij}\n",
    "$$\n",
    "\n",
    "subject to the clustering constrain, the integral constraints, and the following modified consistency constraints:\n",
    "\n",
    "$$\\sum_{j=1}^n x_{ij} = 1, \\,\\textrm{ for }\\,  i = 1,\\ldots, n,$$\n",
    "$$\\quad x_{ij} (1- y_j) = 0,\\,\\textrm{ for }\\,  i = 1,\\ldots, n; \\, j = 1,\\ldots, n,$$\n",
    "$$\\quad x_{jj} = y_j,\\,\\textrm{ for }\\,  j = 1,\\ldots, n.$$\n",
    "\n",
    "### Construct the Ising Hamiltonian\n",
    "\n",
    "We can now construct the Ising Hamiltonian (QUBO) by penalty methods (introducting a penalty coefficient $A$ for each equality constraint) as\n",
    "\n",
    "$$\n",
    "(IH) \\quad H = \\sum_{i=1}^n \\sum_{j=1}^n \\rho_{ij} x_{ij} + A\\Big( \\sum_{j=1}^n y_j - q\\Big)^2 + \\sum_{i=1}^n A\\Big( \\sum_{j=1}^n x_{ij} - 1\\Big)^2 + \\sum_{j=1}^n A (x_{jj}-y_j)^2 +\\sum_{i=1}^n \\sum_{j=1}^n A \\left(x_{ij} (1- y_j)\\right).\n",
    "$$\n",
    "\n",
    "### From Hamiltonian to Quadratic Programming (QP) formulation \n",
    "\n",
    "In the vector ${\\bf z}$, the Ising Hamiltonian elements can be rewritten as follows,\n",
    "\n",
    "First term:\n",
    "\n",
    "$$\n",
    "\\sum_{i=1}^n \\sum_{j=1}^n \\rho_{ij} x_{ij} = [\\rho_{11},\\rho_{12},\\ldots,\\rho_{11}, \\rho_{22},\\ldots,\\rho_{nn}|{\\bf 0}_n ]{\\bf z} =: {\\bf c}_0^T {\\bf z}\n",
    "$$\n",
    "\n",
    "Second term:\n",
    "\n",
    "$$\n",
    "A\\Big( \\sum_{j=1}^n y_j - q\\Big)^2 = A \\Big(\\sum_{j=1}^n y_j\\Big)^2 - 2 A \\sum_{j=1}^n y_j + A q^2 = A {\\bf z}^T \\left[\\begin{array}{c}{\\bf 0}_{n^2} \\\\ \\hline  {\\bf 1}_n  \\end{array}\\right]\\left[\\begin{array}{cc}{\\bf 0}_{n^2} | {\\bf 1}_n  \\end{array}\\right]{\\bf z} - 2 A q [{\\bf 0}_{n^2}|{\\bf 1}_n]{\\bf z} + A q^2 =: {\\bf z}^T {\\bf Q}_0 {\\bf z} + {\\bf c}_1^T {\\bf z} + r_0\n",
    "$$\n",
    "\n",
    "Third term:\n",
    "\n",
    "$$\n",
    "\\sum_{i=1}^n A\\Big( \\sum_{j=1}^n x_{ij} - 1\\Big)^2 = A\\sum_{i=1}^n \\Big(\\sum_{j=1}^n x_{ij}\\Big)^2 - 2 A \\sum_{i=1}^n\\sum_{j=1}^n x_{ij} + n A = \\qquad\\qquad\\qquad\\qquad\\qquad\\qquad\\qquad $$\n",
    "\n",
    "which is equivalent to: \n",
    "\n",
    "$$\n",
    "\\qquad\\qquad\\qquad\\qquad\\qquad\\qquad\\qquad = A {\\bf z}^T \\left(\\sum_{i=1}^n \\left[\\begin{array}{c}{\\bf 0}_{n(i-1)}  \\\\ {\\bf 1}_n  \\\\ {\\bf 0}_{n(n-i)} \\\\ \\hline {\\bf 0}_{n} \\end{array}\\right]\\left[\\begin{array}{cccc}{\\bf 0}_{n(i-1)} & {\\bf 1}_n  & {\\bf 0}_{n(n-i)} & | {\\bf 0}_{n} \\end{array}\\right]\\right){\\bf z} - 2 A [{\\bf 1}_{n^2}|{\\bf 0}_n]{\\bf z} + n A =: {\\bf z}^T {\\bf Q}_1 {\\bf z} + {\\bf c}_2^T {\\bf z} + r_1\n",
    "$$\n",
    "\n",
    "Fourth term:\n",
    "\n",
    "$$\n",
    "A \\sum_{j=1}^n  (x_{jj}-y_j)^2 = A {\\bf z}^T  \\left(\\sum_{j=0}^{n-1} \\left[\\begin{array}{c}{\\bf 0}_{nj + j}  \\\\ 1  \\\\ {\\bf 0}_{n^2-(nj+j+1)} \\\\ \\hline {\\bf 0}_{j} \\\\ -1 \\\\ {\\bf 0}_{n-j-1} \\end{array}\\right]\\left[\\begin{array}{cccccc}{\\bf 0}_{nj + j} & 1  & {\\bf 0}_{n^2-(nj+j+1)} & | {\\bf 0}_{j} & -1 & {\\bf 0}_{n-j-1}  \\end{array}\\right]\\right){\\bf z} = A {\\bf z}^T {\\bf Q}_2 {\\bf z}\n",
    "$$\n",
    "\n",
    "Fifth term:\n",
    "\n",
    "$$\n",
    "\\sum_{i=1}^n \\sum_{j=1}^n A \\left(x_{ij} (1- y_j)\\right) = A [{\\bf 1}_{n^2}|{\\bf 0}_n]{\\bf z} + A {\\bf z}^T \\left( \\sum_{i=1}^n \\sum_{j=1}^n \\left[\\begin{array}{ccc|c}  &  & & \\\\ & {\\bf 0}_{n^2\\times n^2} & & -1/2_{(ij,j)}  \\\\ & & & \\\\ \\hline & -1/2_{(j, ij)} &  & {\\bf 0}_{n} \\end{array}\\right] \\right) {\\bf z} =:  {\\bf z}^T {\\bf Q}_3 {\\bf z} + {\\bf c}_3^T {\\bf z}\n",
    "$$\n",
    "\n",
    "Therefore, the formulation becomes,\n",
    "\n",
    "$$\n",
    "(IH-QP)\\quad \\max_{{\\bf z}\\in\\{0,1\\}^{n(n+1)}} \\, {\\bf z}^T ({\\bf Q}_0+{\\bf Q}_1+ {\\bf Q}_2 + {\\bf Q}_3 ){\\bf z} + ({\\bf c}_0+{\\bf c}_1+{\\bf c}_2+{\\bf c}_3)^T {\\bf z} +r_0+r_1+r_2$$\n",
    "\n",
    "which can be passed to variational quantum eigensolver. \n",
    "\n",
    "\n",
    "\n",
    "## References\n",
    "\n",
    "[1] G. Cornuejols, M. L. Fisher, and G. L. Nemhauser, *Location of bank accounts to optimize float: an analytical study of exact and approximate algorithms*, Management Science, vol. 23(8), 1997\n",
    "\n",
    "[2] E. Farhi, J. Goldstone, S. Gutmann e-print arXiv 1411.4028, 2014\n",
    "\n",
    "[3] G. Cornuejols and R. Tutuncu, *Optimization methods in finance*, 2006\n",
    "\n",
    "[4] DJ. Berndt and J. Clifford, *Using dynamic time warping to find patterns in time series*. In KDD workshop 1994  (Vol. 10, No. 16, pp. 359-370).\n",
    "\n",
    "[5] https://github.com/Qiskit/qiskit-tutorial/blob/master/qiskit/aqua/optimization/maxcut_and_tsp.ipynb"
   ]
  },
  {
   "cell_type": "markdown",
   "metadata": {},
   "source": [
    "## The Implementation\n",
    "\n",
    "First, we import the requisite modules."
   ]
  },
  {
   "cell_type": "code",
   "execution_count": 2,
   "metadata": {},
   "outputs": [],
   "source": [
    "# Import requisite modules\n",
    "import math\n",
    "import operator\n",
    "import logging\n",
    "import traceback\n",
    "import datetime\n",
    "import sys\n",
    "import warnings\n",
    "warnings.filterwarnings(\"error\") \n",
    "warnings.filterwarnings(\"ignore\", category=DeprecationWarning)\n",
    "import numpy as np\n",
    "import matplotlib.pyplot as plt\n",
    "%matplotlib inline\n",
    "\n",
    "# Import Qiskit packages\n",
    "warnings.filterwarnings('ignore')\n",
    "import qiskit \n",
    "from qiskit import BasicAer\n",
    "from qiskit.aqua import QuantumInstance\n",
    "from qiskit.aqua import Operator, run_algorithm\n",
    "from qiskit.aqua.input import EnergyInput\n",
    "from qiskit.aqua.algorithms import VQE, QAOA, ExactEigensolver\n",
    "from qiskit.aqua.components.optimizers import COBYLA\n",
    "from qiskit.aqua.components.variational_forms import RY\n",
    "# setup aqua logging\n",
    "from qiskit.aqua._logging import set_logging_config, build_logging_config\n",
    "# set_logging_config(build_logging_config(logging.DEBUG))  # choose INFO, DEBUG to see the log\n",
    "\n",
    "# The data providers of stock-market data\n",
    "from qiskit.aqua.translators.data_providers import *\n",
    "from qiskit.aqua.translators.ising import portfolio_diversification"
   ]
  },
  {
   "cell_type": "markdown",
   "metadata": {},
   "source": [
    "Next, we download price data for two stocks and compute their pair-wise similarity matrix (<a target=\"_blank\" href=\"https://en.wikipedia.org/wiki/Dynamic_time_warping\">dynamic time warping</a> distance normalised to (0,1] by taking the reciprocal). If this fails, e.g., due to your being offline or exeeding the daily limit for accesses to the stock-market data, we consider a constant matrix instead."
   ]
  },
  {
   "cell_type": "code",
   "execution_count": 3,
   "metadata": {
    "scrolled": true
   },
   "outputs": [],
   "source": [
    "# Generate a pairwise time-series similarity matrix\n",
    "stocks = [\"TICKER1\", \"TICKER2\"]\n",
    "n = len(stocks)\n",
    "rho = np.ones((n,n))\n",
    "rho[0,1] = 0.8\n",
    "rho[1,0] = 0.8\n",
    "\n",
    "data = RandomDataProvider(tickers = stocks,\n",
    "                 start = datetime.datetime(2016,1,1),\n",
    "                 end = datetime.datetime(2016,1,30))\n",
    "data.run()\n",
    "rho = data.get_similarity_matrix()\n",
    "\n",
    "# Actually, we consider the additive inverse to invert the direction of optimisation.  \n",
    "rho = -1 * rho"
   ]
  },
  {
   "cell_type": "markdown",
   "metadata": {},
   "source": [
    "Now we decide on the number of clusters. This has to be smaller than the number of stocks we have loaded."
   ]
  },
  {
   "cell_type": "code",
   "execution_count": 4,
   "metadata": {},
   "outputs": [],
   "source": [
    "q = 1  # q less or equal than n"
   ]
  },
  {
   "cell_type": "markdown",
   "metadata": {},
   "source": [
    "## Classical solution using IBM ILOG CPLEX\n",
    "\n",
    "For a classical solution, we use IBM CPLEX. CPLEX is able to find the exact solution of this problem. We first define a ClassicalOptimizer class that encodes the problem in a way that CPLEX can solve, and then instantiate the class and solve it. \n"
   ]
  },
  {
   "cell_type": "code",
   "execution_count": 5,
   "metadata": {},
   "outputs": [],
   "source": [
    "class ClassicalOptimizer:\n",
    "    def __init__(self, rho, n, q):\n",
    "\n",
    "        self.rho = rho\n",
    "        self.n = n  # number of inner variables\n",
    "        self.q = q  # number of required selection\n",
    "\n",
    "    def compute_allowed_combinations(self):\n",
    "        f = math.factorial\n",
    "        return int(f(self.n) / f(self.q) / f(self.n - self.q))\n",
    "\n",
    "    def cplex_solution(self):\n",
    "\n",
    "        # refactoring\n",
    "        rho = self.rho\n",
    "        n = self.n\n",
    "        q = self.q\n",
    "\n",
    "        my_obj = list(rho.reshape(1, n ** 2)[0]) + [0. for x in range(0, n)]\n",
    "        my_ub = [1 for x in range(0, n ** 2 + n)]\n",
    "        my_lb = [0 for x in range(0, n ** 2 + n)]\n",
    "        my_ctype = \"\".join(['I' for x in range(0, n ** 2 + n)])\n",
    "\n",
    "        my_rhs = [q] + [1 for x in range (0, n)] +[0 for x in range (0, n)] + [0.1 for x in range(0, n ** 2)]\n",
    "        my_sense = \"\".join(['E' for x in range(0, 1+n)]) + \"\".join(['E' for x in range(0, n)]) + \"\".join(\n",
    "            ['L' for x in range(0, n ** 2)])\n",
    "\n",
    "        try:\n",
    "            my_prob = cplex.Cplex()\n",
    "            self.populatebyrow(my_prob, my_obj, my_ub, my_lb, my_ctype, my_sense, my_rhs)\n",
    "\n",
    "            my_prob.solve()\n",
    "\n",
    "        except CplexError as exc:\n",
    "            print(exc)\n",
    "            return\n",
    "\n",
    "        x = my_prob.solution.get_values()\n",
    "        x = np.array(x)\n",
    "        cost = my_prob.solution.get_objective_value()\n",
    "\n",
    "        return x, cost\n",
    "\n",
    "    def populatebyrow(self, prob, my_obj, my_ub, my_lb, my_ctype, my_sense, my_rhs):\n",
    "\n",
    "        n = self.n\n",
    "\n",
    "        prob.objective.set_sense(prob.objective.sense.minimize)\n",
    "        prob.variables.add(obj=my_obj, lb=my_lb, ub=my_ub, types=my_ctype)\n",
    "\n",
    "        prob.set_log_stream(None)\n",
    "        prob.set_error_stream(None)\n",
    "        prob.set_warning_stream(None)\n",
    "        prob.set_results_stream(None)\n",
    "\n",
    "        rows = []\n",
    "        col = [x for x in range(n**2, n**2+n)]\n",
    "        coef = [1 for x in range(0, n)]\n",
    "        rows.append([col, coef])\n",
    "\n",
    "        for ii in range(0, n):\n",
    "            col = [x for x in range(0+n*ii, n+n*ii)]\n",
    "            coef = [1 for x in range(0, n)]\n",
    "\n",
    "            rows.append([col, coef])\n",
    "\n",
    "        for ii in range(0, n):\n",
    "            col = [ii * n + ii, n ** 2 + ii]\n",
    "            coef = [1, -1]\n",
    "            rows.append([col, coef])\n",
    "\n",
    "        for ii in range(0, n):\n",
    "            for jj in range(0, n):\n",
    "                col = [ii*n + jj, n ** 2 + jj]\n",
    "                coef = [1, -1]\n",
    "\n",
    "                rows.append([col, coef])\n",
    "        \n",
    "        prob.linear_constraints.add(lin_expr=rows, senses=my_sense, rhs=my_rhs)"
   ]
  },
  {
   "cell_type": "code",
   "execution_count": 6,
   "metadata": {},
   "outputs": [
    {
     "name": "stdout",
     "output_type": "stream",
     "text": [
      "Number of feasible combinations= 2\n",
      "Total number of combinations= 64\n"
     ]
    }
   ],
   "source": [
    "# Instantiate the classical optimizer class\n",
    "classical_optimizer = ClassicalOptimizer(rho, n, q)\n",
    "\n",
    "# Compute the number of feasible solutions:\n",
    "print('Number of feasible combinations= ' + str(classical_optimizer.compute_allowed_combinations()))\n",
    "\n",
    "# Compute the total number of possible combinations (feasible + unfeasible)\n",
    "print('Total number of combinations= ' + str(2 ** (n*(n+1))))"
   ]
  },
  {
   "cell_type": "code",
   "execution_count": 7,
   "metadata": {},
   "outputs": [],
   "source": [
    "# Visualize the solution\n",
    "\n",
    "def visualize_solution(xc, yc, x, C, n, K, title_str):\n",
    "    plt.figure()\n",
    "    plt.scatter(xc, yc, s=200)\n",
    "    for i in range(len(xc)):\n",
    "        plt.annotate(i, (xc[i] + 0.015, yc[i]), size=16, color='r')\n",
    "    \n",
    "    plt.grid()\n",
    "\n",
    "    for ii in range(n ** 2, n **2 + n):\n",
    "\n",
    "        if x[ii] > 0:\n",
    "            plt.plot(xc[ii-n**2], yc[ii-n**2], 'r*', ms=20)\n",
    "\n",
    "    for ii in range(0, n ** 2):\n",
    "\n",
    "        if x[ii] > 0:\n",
    "            iy = ii // n\n",
    "            ix = ii % n\n",
    "            plt.plot([xc[ix], xc[iy]], [yc[ix], yc[iy]], 'C2')\n",
    "\n",
    "    plt.title(title_str +' cost = ' + str(int(C * 100) / 100.))\n",
    "    plt.show()\n",
    "    "
   ]
  },
  {
   "cell_type": "markdown",
   "metadata": {},
   "source": [
    "Solution shows the selected stocks via the stars and in green the links (via similarities) with other stocks that are represented in the fund by the linked stock. "
   ]
  },
  {
   "cell_type": "markdown",
   "metadata": {},
   "source": [
    "## Quantum Computing with IBM Q\n",
    "\n",
    "For the quantum solution, we use Qiskit. We first define a class QuantumOptimizer that encodes the quantum approach to solve the problem and then we instantiate it and solve it. We define the following methods inside the class:\n",
    "\n",
    "- `exact_solution` : to make sure that the Ising Hamiltonian is correctly encoded in the $Z$ basis, we can compute its eigendecomposition classicaly, i.e., considering a symmetric matrix of dimension $2^N \\times 2^N$. For the problem at hand $n=3$, that is $N = 12$ seems the limit for many laptops; \n",
    "- `vqe_solution` : solves the problem $(M)$ via the variational quantum eigensolver (VQE);\n",
    "- `qaoa_solution` : solves the problem $(M)$ via a Quantum Approximate Optimization Algorithm (QAOA)."
   ]
  },
  {
   "cell_type": "code",
   "execution_count": 12,
   "metadata": {},
   "outputs": [],
   "source": [
    "class QuantumOptimizer:\n",
    "\n",
    "    def __init__(self, rho, n, q):\n",
    "\n",
    "        self.rho = rho\n",
    "        self.n = n\n",
    "        self.q = q\n",
    "\n",
    "    # Obtains the least eigenvalue of the Hamiltonian classically\n",
    "    def exact_solution(self):\n",
    "        qubitOp = portfolio_diversification.get_portfoliodiversification_qubitops(self.rho, self.n, self.q)\n",
    "        algo_input = EnergyInput(qubitOp)\n",
    "        algorithm_cfg = {\n",
    "            'name': 'ExactEigensolver',\n",
    "        }\n",
    "        params = {\n",
    "            'problem': {'name': 'ising'},\n",
    "            'algorithm': algorithm_cfg\n",
    "        }\n",
    "        result = run_algorithm(params, algo_input)\n",
    "        return self.decode_result(result)\n",
    "\n",
    "    def vqe_solution(self):\n",
    "        qubitOp = portfolio_diversification.get_portfoliodiversification_qubitops(self.rho, self.n, self.q)\n",
    "        backend = BasicAer.get_backend('statevector_simulator')\n",
    "        seed = 50\n",
    "        cobyla = COBYLA()\n",
    "        cobyla.set_options(maxiter=250)\n",
    "        ry = RY(qubitOp.num_qubits, depth=5, entanglement='full')\n",
    "        vqe = VQE(qubitOp, ry, cobyla, 'matrix')\n",
    "        vqe.random_seed = seed\n",
    "        quantum_instance = QuantumInstance(backend=backend, seed=seed, seed_transpiler=seed)\n",
    "        result = vqe.run(quantum_instance)\n",
    "        return self.decode_result(result)\n",
    "        \n",
    "    def qaoa_solution(self):\n",
    "        qubitOp = portfolio_diversification.get_portfoliodiversification_qubitops(self.rho, self.n, self.q)\n",
    "        backend = BasicAer.get_backend('statevector_simulator')\n",
    "        seed = 50\n",
    "        cobyla = COBYLA()\n",
    "        cobyla.set_options(maxiter=250)\n",
    "        qaoa = QAOA(qubitOp, cobyla, 3, 'matrix')\n",
    "        qaoa.random_seed = seed\n",
    "        quantum_instance = QuantumInstance(backend=backend, seed=seed, seed_transpiler=seed)\n",
    "        result = qaoa.run(quantum_instance)\n",
    "        return self.decode_result(result)\n",
    "\n",
    "    def decode_result(self, result, offset = 0):\n",
    "        quantum_solution = portfolio_diversification.get_portfoliodiversification_solution(self.rho, self.n, self.q, result)\n",
    "        ground_level = portfolio_diversification.get_portfoliodiversification_value(self.rho, self.n, self.q, quantum_solution)\n",
    "        return quantum_solution, ground_level\n"
   ]
  },
  {
   "cell_type": "markdown",
   "metadata": {},
   "source": [
    "### Step 1\n",
    "\n",
    "Instantiate the quantum optimizer class with parameters: \n",
    "- the similarity matrix `rho`;\n",
    "- the number of assets and clusters `n` and `q`;"
   ]
  },
  {
   "cell_type": "code",
   "execution_count": 13,
   "metadata": {},
   "outputs": [],
   "source": [
    "# Instantiate the quantum optimizer class with parameters: \n",
    "quantum_optimizer = QuantumOptimizer(rho, n, q)"
   ]
  },
  {
   "cell_type": "markdown",
   "metadata": {},
   "source": [
    "### Step 2\n",
    "\n",
    "Encode the problem as a binary formulation (IH-QP).\n",
    "\n",
    "Sanity check: make sure that the binary formulation in the quantum optimizer is correct (i.e., yields the same cost given the same solution)."
   ]
  },
  {
   "cell_type": "code",
   "execution_count": 14,
   "metadata": {},
   "outputs": [],
   "source": [
    "# Check if the binary representation is correct. This requires CPLEX\n",
    "\n",
    "try: \n",
    "    import cplex\n",
    "    warnings.filterwarnings('ignore')\n",
    "    quantum_solution, quantum_cost = quantum_optimizer.exact_solution()\n",
    "    classical_solution, classical_cost = classical_optimizer.cplex_solution()\n",
    "    print(quantum_cost, classical_cost)\n",
    "    if np.abs(quantum_cost - classical_cost) < 0.01:\n",
    "      print('Binary formulation is correct')\n",
    "    else: print('Error in the formulation of the Hamiltonian')\n",
    "except: None"
   ]
  },
  {
   "cell_type": "markdown",
   "metadata": {},
   "source": [
    "### Step 3\n",
    "\n",
    "Encode the problem as an Ising Hamiltonian in the Z basis. \n",
    "\n",
    "Sanity check: make sure that the formulation is correct (i.e., yields the same cost given the same solution)"
   ]
  },
  {
   "cell_type": "code",
   "execution_count": 15,
   "metadata": {},
   "outputs": [
    {
     "name": "stdout",
     "output_type": "stream",
     "text": [
      "[0 1 0 1 0 1]\n"
     ]
    }
   ],
   "source": [
    "ground_state, ground_level = quantum_optimizer.exact_solution()\n",
    "print(ground_state)\n",
    "\n",
    "try:\n",
    "  if np.abs(ground_level - classical_cost)<0.01:\n",
    "    print('Ising Hamiltonian in Z basis is correct')\n",
    "  else: print('Error in the Ising Hamiltonian formulation')\n",
    "except: None"
   ]
  },
  {
   "cell_type": "markdown",
   "metadata": {},
   "source": [
    "### Step 4\n",
    "\n",
    "Solve the problem via VQE. Notice that depending on the number of qubits, this can take a while: for 6 qubits it takes 15 minutes on a 2015 Macbook Pro, for 12 qubits it takes more than 12 hours. For longer runs, logging may be useful to observe the workings; otherwise, you just have to wait until the solution is printed."
   ]
  },
  {
   "cell_type": "code",
   "execution_count": 16,
   "metadata": {},
   "outputs": [
    {
     "name": "stdout",
     "output_type": "stream",
     "text": [
      "[1 0 1 0 1 0]\n",
      "VQE does not produce the same solution as the exact eigensolver, but that is to be expected.\n"
     ]
    }
   ],
   "source": [
    "warnings.filterwarnings('ignore')\n",
    "vqe_state, vqe_level = quantum_optimizer.vqe_solution()\n",
    "print(vqe_state)\n",
    "\n",
    "try:\n",
    "  if np.linalg.norm(ground_state - vqe_state)<0.01:\n",
    "    print('VQE produces the same solution as the exact eigensolver.')\n",
    "  else: print('VQE does not produce the same solution as the exact eigensolver, but that is to be expected.')\n",
    "except: None"
   ]
  },
  {
   "cell_type": "markdown",
   "metadata": {},
   "source": [
    "### Step 5\n",
    "Visualize the solution"
   ]
  },
  {
   "cell_type": "code",
   "execution_count": 18,
   "metadata": {},
   "outputs": [
    {
     "data": {
      "image/png": "[encoded data removed]",
      "text/plain": [
       "<Figure size 432x288 with 1 Axes>"
      ]
     },
     "metadata": {
      "needs_background": "light"
     },
     "output_type": "display_data"
    },
    {
     "data": {
      "image/png": "[encoded data removed]",
      "text/plain": [
       "<Figure size 432x288 with 1 Axes>"
      ]
     },
     "metadata": {
      "needs_background": "light"
     },
     "output_type": "display_data"
    }
   ],
   "source": [
    "xc, yc = data.get_coordinates()\n",
    "visualize_solution(xc, yc, ground_state, ground_level, n, q, 'Classical')\n",
    "visualize_solution(xc, yc, vqe_state, vqe_level, n, q, 'VQE')"
   ]
  },
  {
   "cell_type": "markdown",
   "metadata": {},
   "source": [
    "Solution shows the selected stocks via the stars and in green the links (via similarities) with other stocks that are represented in the fund by the linked stock. Keep in mind that VQE is an heuristic working on the QP formulation of the Ising Hamiltonian, though. For suitable choices of A, local optima of the QP formulation will be feasible solutions to the ILP. While for some small instances, as above, we can find optimal solutions of the QP formulation which coincide with optima of the ILP, finding optimal solutions of the ILP is harder than finding local optima of the QP formulation, in general. Even within the VQE, one may provide stronger guarantees, for specific variational forms (trial wave functions). "
   ]
  }
 ],
 "metadata": {
  "kernelspec": {
   "display_name": "Python 3",
   "language": "python",
   "name": "python3"
  },
  "language_info": {
   "codemirror_mode": {
    "name": "ipython",
    "version": 3
   },
   "file_extension": ".py",
   "mimetype": "text/x-python",
   "name": "python",
   "nbconvert_exporter": "python",
   "pygments_lexer": "ipython3",
   "version": "3.7.2"
  }
 },
 "nbformat": 4,
 "nbformat_minor": 2
}
