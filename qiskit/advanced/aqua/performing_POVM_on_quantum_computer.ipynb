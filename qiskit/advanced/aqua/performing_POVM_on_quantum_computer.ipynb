{
 "cells": [
  {
   "cell_type": "markdown",
   "metadata": {},
   "source": [
    "# Performing a general POVM on a quantum computer\n",
    "\n",
    "\n",
    "### Contributors\n",
    "Yordan S. Yordanov, Crispin H. W. Barnes\n",
    "\n",
    "### Introduction\n",
    "\n",
    "#### What is a POVM \n",
    "\n",
    "In quantum mechanics positive operator-valued measures (POVMs) describe the most general form of a quantum measurement. They can be used to distinguish probabilistically between non-orthogonal quantum states and are used in applications like state discrimination, quantum tomography, and qunatum encryption. \n",
    "A POVM is defined as a set of $n$ positive operators $\\{\\hat{E}_i\\}$ that satisfy the completeness relation $ \\sum_{i=1}^{n} \\hat{E}_i = \\hat{I}$, where $\\hat{E}_i = \\hat{M}_i^\\dagger \\hat{M}_i$ and the $\\{\\hat{M}_i\\}$ are measurement operators. Performing a POVM on a system in initial state $|\\psi_0\\rangle$ results in wave function reduction to one of $n$ possible measurement outcomes $|\\psi_0\\rangle \\rightarrow |\\psi_i\\rangle =\\frac{\\hat{M}_i|\\psi_0\\rangle}{\\sqrt{\\langle\\psi_0|\\hat{M}_i^{\\dagger}  \\hat{M}_i|\\psi_0\\rangle}}$, with probability $p_i = \\langle\\psi_0|\\hat{M}_i^{\\dagger}  \\hat{M}_i|\\psi_0\\rangle$. \n",
    "\n",
    "#### How can POVMs be implemented\n",
    "\n",
    "In practice POVMs are either implemented by a physical hardware, specifically tailored for the task, or simulated by quantum gate operations, in some cases involving classical post-processing. \n",
    "A well known way to perform a POVM in a deterministic way, without classical post-processing is using Neumark's theorem. From it follows that a POVM of $n$-elements, on a target system A, can be performed by introducing an ancilla system B, with Hilbert space spanned by $n$ orthonormal basis states $|i^{(B)}\\rangle$ that are in one-to-one correspondence with the POVM measurement outcomes. A unitary operation $\\hat{U}_{AB}$ is then applied to the joint state of the two systems, such that\n",
    "\\begin{equation}\\label{eq.Uab}\n",
    "\\hat{U}_{AB}|\\psi_0^{(A)}\\rangle|0^{(B)}\\rangle = \\sum_{i=1}^n\\big[\\hat{M}_{i}|\\psi_0^{(A)}\\rangle\\big]|i^{(B)}\\rangle.\n",
    "\\end{equation}\n",
    "By performing a projective measurement on system B, system A collapses to one of the $n$ states $\\hat{M}_i|\\psi^{(A)}_0\\rangle$ that correspond to the outcomes of the POVM.\n",
    "\n",
    " [For more details on POVMs and their implementation see Nielsen and Chuang](http://mmrc.amss.cas.cn/tlb/201702/W020170224608149940643.pdf)\n",
    "\n",
    "#### Implementing a POVM on  a gate based quantum computer\n",
    "\n",
    "Based on the method, above, we show how to perform a general $n$-element POVM on a target system consisting of a single qubit, using an ancilla system of $~ \\log_2n$ qubits. To implement $\\hat{U}_{AB}$, we divide it into a sequence of $(n-1)$ quantum gate circuits, which we refer to as modules. Each of these modules, except the first, will perform a general single-qubit $2$-element POVM on one of the POVM outcomes of the preceding module, and entangle the additionally produced outcome to a new state of the ancilla system. At the end each POVM outcome will be entangled to a different state of the set of ancilla qubits. Therefore a measurement of the ancilla qubits will collapse the state of the target qubit to one of the POVM outcomes. Since we don't measure the target qubit itself it can be further used, so that this method for performing a POVM can be incorporated as a subroutine of a larger program.\n",
    "\n",
    "In this notebook we will illustrate this technique by implementing an example of a $3$-element single-qubit POVM, consisting of just two modules, defined by measurement operators that project on three states separated by $\\frac{2 \\pi}{3} rad$ in the $x-z$ plane of the Bloch sphere of the target qubit:\n",
    "\\begin{equation}\\label{eq:M31}\n",
    "\\hat{M}_1=\\sqrt{\\frac{2}{3}}|0\\rangle\\langle 0|,\n",
    "\\end{equation}\n",
    "\\begin{equation}\\label{eq:M32}\n",
    "\\hat{M}_2=\\frac{1}{\\sqrt{6}}\\frac{|0\\rangle + \\sqrt{3}|1\\rangle}{2}\\frac{\\langle0| + \\sqrt{3}\\langle1|}{2},\n",
    "\\end{equation}\n",
    "\\begin{equation}\\label{eq:M33}\n",
    "\\hat{M}_3=\\frac{1}{\\sqrt{6}}\\frac{|0\\rangle - \\sqrt{3}|1\\rangle}{2}\\frac{\\langle0| - \\sqrt{3}\\langle1|}{2}.\n",
    "\\end{equation}\n",
    "This POVM is a classic example considered in literature that can be used to distinguish between non-orthogonal states (for example $ |1\\rangle$ and $\\frac{\\sqrt{3}|0\\rangle+|1\\rangle}{2} $). \n",
    "\n",
    "\n"
   ]
  },
  {
   "cell_type": "code",
   "execution_count": 1,
   "metadata": {},
   "outputs": [],
   "source": [
    "# import required libraries\n",
    "\n",
    "from numpy import pi\n",
    "import numpy as np\n",
    "\n",
    "from qiskit import Aer\n",
    "from qiskit import IBMQ\n",
    "\n",
    "from qiskit import QuantumCircuit, ClassicalRegister, QuantumRegister, execute\n",
    "from qiskit.tools.visualization import circuit_drawer, plot_histogram"
   ]
  },
  {
   "cell_type": "markdown",
   "metadata": {},
   "source": [
    "### Constructing a multi-qubit controlled rotation gate\n",
    "\n",
    "Before we begin constructing the two modules for our $3$-element POVM, we need a way to peform multi-qubit-controlled rotations, which will be extensively used.\n",
    "To carry out a rotation around a single axis of the Bloch sphere of a qubit $q_0$, controlled by qubits $q_1..q_m$, the rotation is decomposed to two rotations with $m-1$ control qubits as\n",
    "\\begin{equation}\n",
    "CR_i(\\theta, q_1..q_m, q_0) =  CNOT(q_1, q_0)CR_i(-\\frac{\\theta}{2}, q_2..q_m, q_0)CNOT(q_1, q_0)CR_i(\\frac{\\theta}{2}, q_2..q_m, q_0)\n",
    "\\end{equation}\n",
    "where $i\\in \\{x,y,z\\}$ and $CR$ stands for controlled-rotation. By decomposing each controlled rotation further, the overall operation can be brought down to $(2^m-2)$ CNOTs and $2m$ one-qubit rotations.\n",
    "\n",
    "(Note that this method is exponential in number of gates and circuit depth. In general there are more efficient ways to perform controlled operations, that require constant depth circuits and linear number of gates, but at the cost of additional ancilla qubits. However, in for the example of the 3-element POVM, the method described here is optimal in both circuit depth and qubits used.)\n",
    "\n",
    "Below we present a recursive function to construct a circut for a multi-qubit controlled rotation."
   ]
  },
  {
   "cell_type": "code",
   "execution_count": 2,
   "metadata": {},
   "outputs": [],
   "source": [
    "def nCU1(axis, angle, q_circ, ctrls, target):\n",
    "    \"\"\"\n",
    "        Construct a circuit for n-qubit controlled rotation\n",
    "        * axis: axis of rotation (accepts values 'y' and 'z')\n",
    "        * angle: angle of rotation\n",
    "        * q_circ: the quantum circuit to, which the nCU1 operation is added\n",
    "        * ctrls: a List or a quantum register of control qubits.\n",
    "        * target: the target qubit\n",
    "    \"\"\"\n",
    "    \n",
    "    n_ctrls = len(ctrls)\n",
    "    list_ctrls = list(ctrls)    \n",
    "\n",
    "    if n_ctrls == 1:\n",
    "        \n",
    "        if axis == 'y':\n",
    "            q_circ.u3(angle, 0, 0, target)\n",
    "            q_circ.cx(list_ctrls[0], target)\n",
    "            q_circ.u3(-angle, 0, 0, target)\n",
    "            q_circ.cx(list_ctrls[0], target)\n",
    "            \n",
    "        elif axis == 'z':\n",
    "            q_circ.u3(0,0,angle, target)\n",
    "            q_circ.cx(list_ctrls[0], target)\n",
    "            q_circ.u3(0,0,-angle, target)\n",
    "            q_circ.cx(list_ctrls[0], target)\n",
    "            \n",
    "        else:\n",
    "            raise ValueError('Invalid value for axis!')\n",
    "        \n",
    "    elif n_ctrls >= 2:\n",
    "        \n",
    "        new_ctrls = list_ctrls[:-1]\n",
    "        \n",
    "        nCU1(axis, angle/2, q_circ, new_ctrls, target)\n",
    "        q_circ.cx(list_ctrls[-1], target)\n",
    "        nCU1(axis, -angle/2, q_circ, new_ctrls, target)\n",
    "        q_circ.cx(list_ctrls[-1], target)\n",
    "        \n",
    "    else:\n",
    "\n",
    "        if axis == 'y':\n",
    "            q_circ.u3(angle*2, 0, 0, target)\n",
    "        elif axis == 'z':\n",
    "            q_circ.u3(0, 0, angle*2, target)\n",
    "        else:\n",
    "            raise ValueError('Invalid value for axis!')\n",
    "\n",
    "    return 1"
   ]
  },
  {
   "cell_type": "markdown",
   "metadata": {},
   "source": [
    "### Constructing the first 2-element POVM module\n",
    "\n",
    "![Image](https://i.imgur.com/dY92Djq.png)\n",
    "\n",
    "Now we proceed to construct the first of the two POVM modules. For this we need to consider one target and one ancilla qubit. For a target qubit in an arbitrary initial state $|\\psi_0 \\rangle = a|0\\rangle + b|1\\rangle$ and an ancilla qubit in $|0\\rangle$, the initial state of the joint system is $|\\Psi_0 \\rangle = |\\psi_0 \\rangle|0\\rangle $.\n",
    "The module should perform a general $2$-element POVM on the state of the target qubit. This is accomplished with the circuit depicted above, which transforms the system state as\n",
    "\n",
    "\\begin{equation}\\label{eq:2POVM_res}\n",
    "|\\Psi_0 \\rangle \\rightarrow |\\Psi_f\\rangle= \\Big(\\hat{V}_1\\hat{D}_1\\hat{U}|\\psi_0\\rangle\\Big)|0\\rangle + \\Big(\\hat{V}_2\\hat{D}_2\\hat{U} |\\psi_0\\rangle\\Big)|1\\rangle,\n",
    "\\end{equation}\n",
    "where $\\hat{D}_1 = \\cos \\theta_1 |0 \\rangle \\langle 0 | + \\cos \\theta_2 |1 \\rangle \\langle 1 |$ and\n",
    "$\\hat{D}_2 = \\sin \\theta_1 |0 \\rangle \\langle 0 | + \\sin \\theta_2 |1 \\rangle \\langle 1 |$. Upon measurement of the ancilla qubit, the state of the target qubit will collapse to one of the two states $\\hat{M}_1|0\\rangle$ and $\\hat{M}_2|1\\rangle$, described by the operators $ \\hat{M}_1 =\\hat{V}_1 \\hat{D}_1 \\hat{U}$ and $\\hat{M}_2 = \\hat{V}_1 \\hat{D}_2 \\hat{U}$. These operators satisfy the completeness relation and are also given by singular value decomposition expressions, therefore they represent the measurement operators of a general $2$-element POVM.\n",
    "\n",
    "Below we construct the circuit for the first POVM module."
   ]
  },
  {
   "cell_type": "code",
   "execution_count": 3,
   "metadata": {},
   "outputs": [],
   "source": [
    "def module_1(q_circ, q, u_y=0, u_z=0, theta1=0, theta2=0, v1_y=0, v1_z=0, v2_y=0, v2_z=0):  \n",
    "    \"\"\" Constructs the circuit for the first POVM module\n",
    "        q_circ: a quantun circuit object\n",
    "        q: a register of at least 2 qubits.\n",
    "            q[0] the target qubit \n",
    "            q[1] the ancilla qubit\n",
    "        u_y, u_z, v1_y, v1_z, v2_y, v2_z: y and z rotation angles speciying single-qubit unitaries\n",
    "                                          U, V1 and V2 (a general single-qubit unitary can be expsresed\n",
    "                                          by a combination of an x- and y- rotation)\n",
    "        theta1, theta2: angles specifying y-rotations (see diagram above)\n",
    "    \"\"\"\n",
    "    \n",
    "    # perform U\n",
    "    q_circ.u3(u_y, 0, u_z, q[0])\n",
    "    \n",
    "    # Ry(theta1) (controlled by value 0, hence the two X gates)\n",
    "    q_circ.x(q[0])\n",
    "    nCU1('y', theta1, q_circ,[q[0]],q[1]) \n",
    "    q_circ.x(q[0])\n",
    "    \n",
    "    # Ty(theta2)\n",
    "    nCU1('y', theta2, q_circ,[q[0]],q[1])\n",
    "    \n",
    "    #perform V1\n",
    "    q_circ.x(q[1])\n",
    "    nCU1('y', v1_y, q_circ,[q[1]],q[0]) \n",
    "    nCU1('z', v1_z, q_circ,[q[1]],q[0]) \n",
    "    q_circ.x(q[1])\n",
    "    \n",
    "    #perform V2\n",
    "    nCU1('y', v2_y, q_circ,[q[1]],q[0]) \n",
    "    nCU1('z', v2_z, q_circ,[q[1]],q[0]) \n"
   ]
  },
  {
   "cell_type": "markdown",
   "metadata": {},
   "source": [
    "### Constructing the second 2-element POVM module\n",
    "An implementation of an $n$-element POVM can be performed sequentially by $(n-1)$ POVM modules, that share an ancilla register of $\\log_2 n$ qubits. The $i^{th}$ module in the sequence will be characterized by rotation angles $\\theta^{(i)}_1$ and $\\theta^{(i)}_2$, and unitary operations $\\hat{V}_1^{(i)}$ and $\\hat{V}^{(i)}_2$.\n",
    "Only the first module is additionally characterized by the unitary $\\hat{U}$ acting on the target qubit, as shown above. Each of the modules, except the first one, performs a $2$-element POVM on the second outcome of the preceding module, so that the term in the target qubit state, corresponding to this outcome, is evolved in a similar way as in the case of the first module (see above).\n",
    "\n",
    "Therefore to construct the second module for our $3$-element POVM we need to specify two rotation angles  $\\theta^{(2)}_1$ and $\\theta^{(2)}_2$, and two single-qubit unitaries $\\hat{V}_1^{(2)}$ and $\\hat{V}^{(2)}_2$. The quantum circuit for the second module will be similar to that for the first, except that the $U$ will be missing, and that there will be an additional ancilla qubit, two in total, used for control.\n",
    "\n",
    "![Image](https://i.imgur.com/vpPzW2N.png)\n"
   ]
  },
  {
   "cell_type": "code",
   "execution_count": 4,
   "metadata": {},
   "outputs": [],
   "source": [
    "def module_2(q_circ, q, theta1=0, theta2=0, v1_y=0, v1_z=0, v2_y=0, v2_z=0):  \n",
    "    \"\"\" Constructs the circuit for the second POVM module\n",
    "        q_circ: a quantun circuit object\n",
    "        q: a register of at least 2 qubits.\n",
    "            q[0] the target qubit \n",
    "            q[1] the ancilla qubit\n",
    "        v1_y, v1_z, v2_y, v2_z: y and z rotation angles speciying the single-qubit \n",
    "                                unitaries V1 and V2\n",
    "        theta1, theta2: angles specifying y-rotations (see diagram above)\n",
    "    \"\"\"\n",
    "    \n",
    "    # Ry(theta1)\n",
    "    qc.x(q[0])\n",
    "    nCU1('y', theta1, qc,[q[1], q[0]],q[2])\n",
    "    qc.x(q[0])\n",
    "    \n",
    "    # Ry(theta2)\n",
    "    nCU1('y', theta2,qc ,[q[1], q[0]],q[2])\n",
    "  \n",
    "    #perform V1\n",
    "    q_circ.x(q[2])\n",
    "    nCU1('y', v1_y, q_circ,[q[1], q[2]], q[0]) \n",
    "    nCU1('z', v1_z, q_circ,[q[1], q[2]], q[0]) \n",
    "    q_circ.x(q[2])\n",
    "    \n",
    "    #perform V2\n",
    "    nCU1('y', v2_y, q_circ,[q[1], q[2]], q[0]) \n",
    "    nCU1('z', v2_z, q_circ,[q[1], q[2]], q[0]) \n",
    "    \n",
    "    # the CNOT below changes the labelling of the ancilla states, so that the \n",
    "    # POVM outcomes are entangled to ancilla states in binary order. \n",
    "    qc.cx(q[2], q[1])"
   ]
  },
  {
   "cell_type": "markdown",
   "metadata": {},
   "source": [
    "### Constructing the 3-element POVM\n",
    "\n",
    "To construct the POVM defined by the three measurement operators given in the beginning of the notebook, we combine the two POVM modules specified by $\\hat{U}=\\hat{I}$,  $\\theta_1^{(1)} = \\cos^{-1}\\Big(\\sqrt{\\frac{2}{3}}\\Big)$,  $\\theta^{(1)}_2 =\\frac{\\pi}{2}$,  $\n",
    "\\hat{V}_2^{(1)}= \\frac{1}{\\sqrt{2}}\\bigl( \\begin{smallmatrix}1 & 1\\\\ -1 & 1\\end{smallmatrix}\\bigr)$,  $\n",
    "\\hat{V}_1^{(1)} = \\hat{I}$,  $ \\theta_1^{(2)}=0, \\theta_2^{(2)} =\\frac{\\pi}{2}$, $\\hat{V}_1^{(2)}= \\frac{1}{2}\\bigl( \\begin{smallmatrix} 1 & -\\sqrt{3}\\\\ \\sqrt{3} & 1\\end{smallmatrix}\\bigr)$ and $\\hat{V}_2^{(2)} =- \\frac{1}{2}\\bigl( \\begin{smallmatrix}\\sqrt{3} & -1\\\\ 1 & \\sqrt{3}\\end{smallmatrix}\\bigr)$. Unitaries $V^{(1)}_2$, $V^{(2)}_1$ and $V^{(2)}_2$ can be implemented by $y$-rotations given by angles $\\frac{\\pi}{4}$, $-\\frac{\\pi}{3}$ and $\\frac{5\\pi}{6}$ respectively.\n",
    "For the target qubit we leave the initial state to be $|0\\rangle$.\n",
    "The expected output state of the $3$ qubits, the target plus the two ancillas, is\n",
    "$$ \\Psi = \\big[ M_1 |0\\rangle \\big] |00\\rangle + \\big[ M_2 |0\\rangle \\big] |10\\rangle + \\big[ M_3 |0\\rangle \\big] |01\\rangle = \\sqrt{\\frac{3}{2}}|0\\rangle|00\\rangle + \\frac{|0\\rangle +  \\sqrt{3}|1\\rangle}{2\\sqrt{6}}|10\\rangle + \\frac{|0\\rangle - \\sqrt{3}|1\\rangle}{2\\sqrt{6}}|01\\rangle,$$\n",
    "where the leftmost qubit corresponds to the target.\n",
    "\n",
    "To complete the POVM, at the end we have to measure the ancilla qubits. In practice we may want to leave the target qubit unmeasured, so that we can further use it (for example, send it to another party in a quantum communication protocol). However here we will measure all qubits, including the target, in order to illustrate the results, especially the ones from the real device."
   ]
  },
  {
   "cell_type": "code",
   "execution_count": 5,
   "metadata": {},
   "outputs": [],
   "source": [
    "# Define the non-zero parameters for the two modules\n",
    "\n",
    "theta11 = np.arccos(np.sqrt(2/3))\n",
    "theta12 = pi/2\n",
    "theta22 = pi/2\n",
    "\n",
    "# rotation angles specifying the unitaries V12, V21 and V22\n",
    "v21_y=-pi/3\n",
    "v22_y= 5*pi/6\n",
    "v12_y = pi/4"
   ]
  },
  {
   "cell_type": "code",
   "execution_count": 6,
   "metadata": {},
   "outputs": [],
   "source": [
    "# Assemble the whole qauntum circuit, consisting of the two POVM modules, followed by measurements\n",
    "\n",
    "# Create a quantum register with 3 qubits.\n",
    "q = QuantumRegister(3, 'q')\n",
    "\n",
    "# Create a quantum circuit acting on the register\n",
    "qc = QuantumCircuit(q)\n",
    "\n",
    "# Perform the 1st POVM module\n",
    "module_1(qc,q,theta1=theta11,theta2=theta12, v2_y=v12_y)\n",
    "\n",
    "# Perform the 2nd POVM mdoule\n",
    "module_2(qc,q, theta2=theta22 ,v1_y= v21_y, v2_y=v22_y)\n",
    "\n",
    "\n",
    "# Add Measurements\n",
    "c = ClassicalRegister(3, 'c')\n",
    "meas = QuantumCircuit(q, c)\n",
    "meas.measure(q,c)\n",
    "qc = qc+meas\n",
    "\n",
    "# draw the circuit\n",
    "# circuit_drawer(qc)"
   ]
  },
  {
   "cell_type": "code",
   "execution_count": 8,
   "metadata": {},
   "outputs": [
    {
     "data": {
      "image/png": "[encoded data removed]",
      "text/plain": [
       "<Figure size 504x360 with 1 Axes>"
      ]
     },
     "execution_count": 8,
     "metadata": {},
     "output_type": "execute_result"
    }
   ],
   "source": [
    "# Run  on the quantum simulator\n",
    "backend = Aer.get_backend('qasm_simulator')\n",
    "shots = 8192\n",
    "job = execute(qc, backend, shots = shots)\n",
    "\n",
    "# execute\n",
    "result_sim = job.result()\n",
    "\n",
    "# obtain results\n",
    "counts_sim = result_sim.get_counts(qc)\n",
    "plot_histogram(counts_sim)"
   ]
  },
  {
   "cell_type": "code",
   "execution_count": null,
   "metadata": {},
   "outputs": [],
   "source": [
    "#Prepare an experiment on a real device\n",
    "\n",
    "# IBMQ.save_account(token)\n",
    "IBMQ.load_account()\n",
    "\n",
    "\n",
    "shots = 8192           # Number of shots to run the program (experiment); maximum is 8192 shots.\n",
    "max_credits = 10       # Maximum number of credits to spend on executions. \n",
    "n_qubits = 3\n",
    "\n",
    "# ibmqx2 was found to produce the best results\n",
    "backend = IBMQ.backends(name = 'ibmqx2')[0]  "
   ]
  },
  {
   "cell_type": "code",
   "execution_count": 17,
   "metadata": {
    "scrolled": true
   },
   "outputs": [],
   "source": [
    "# <<<<<<<<<<< EXECUTE on a real device >>>>>>>>>>>>>>\n",
    "run = 0  # keep 0 untill you want to run the experiment\n",
    "if run:\n",
    "    job_exp = execute(qc, backend=backend, shots=shots, max_credits=max_credits)\n",
    "    result = job_exp.result()"
   ]
  },
  {
   "cell_type": "code",
   "execution_count": 18,
   "metadata": {},
   "outputs": [
    {
     "data": {
      "image/png": "[encoded data removed]",
      "text/plain": [
       "<Figure size 504x360 with 1 Axes>"
      ]
     },
     "execution_count": 18,
     "metadata": {},
     "output_type": "execute_result"
    }
   ],
   "source": [
    "# Uncomment to plot the new results\n",
    "\n",
    "#counts = result.get_counts(qc)\n",
    "#plot_histogram(counts)"
   ]
  },
  {
   "cell_type": "markdown",
   "metadata": {},
   "source": [
    "We include the the best results we obtained, which were from IBMQX2. The measured output state has reasonably high fidelity of ~$80\\%$ compared to the expected state. It produces close to the expected values for the measurement probabilities of the $|010\\rangle$, $|110\\rangle$, $|001\\rangle$ and $|101\\rangle$ states. However the state $|000\\rangle$ seems to have decayed to the states with zero-expected probability, $\\left| 100 \\right\\rangle$, $\\left| 011 \\right\\rangle$, and $\\left| 111 \\right\\rangle$. "
   ]
  },
  {
   "cell_type": "code",
   "execution_count": 1,
   "metadata": {},
   "outputs": [
    {
     "data": {
      "text/html": [
       "<h3>Version Information</h3><table><tr><th>Qiskit Software</th><th>Version</th></tr><tr><td>Qiskit</td><td>0.12.0</td></tr><tr><td>Terra</td><td>0.9.0</td></tr><tr><td>Aer</td><td>0.3.0</td></tr><tr><td>Ignis</td><td>0.2.0</td></tr><tr><td>Aqua</td><td>0.6.0</td></tr><tr><td>IBM Q Provider</td><td>0.3.2</td></tr><tr><th>System information</th></tr><tr><td>Python</td><td>3.6.7 (default, Oct 22 2018, 11:32:17) \n",
       "[GCC 8.2.0]</td></tr><tr><td>OS</td><td>Linux</td></tr><tr><td>CPUs</td><td>4</td></tr><tr><td>Memory (Gb)</td><td>7.706508636474609</td></tr><tr><td colspan='2'>Mon Dec 02 10:44:11 2019 GMT</td></tr></table>"
      ],
      "text/plain": [
       "<IPython.core.display.HTML object>"
      ]
     },
     "metadata": {},
     "output_type": "display_data"
    },
    {
     "data": {
      "text/html": [
       "<div style='width: 100%; background-color:#d5d9e0;padding-left: 10px; padding-bottom: 10px; padding-right: 10px; padding-top: 5px'><h3>This code is a part of Qiskit</h3><p>&copy; Copyright IBM 2017, 2019.</p><p>This code is licensed under the Apache License, Version 2.0. You may<br>obtain a copy of this license in the LICENSE.txt file in the root directory<br> of this source tree or at http://www.apache.org/licenses/LICENSE-2.0.<p>Any modifications or derivative works of this code must retain this<br>copyright notice, and modified files need to carry a notice indicating<br>that they have been altered from the originals.</p></div>"
      ],
      "text/plain": [
       "<IPython.core.display.HTML object>"
      ]
     },
     "metadata": {},
     "output_type": "display_data"
    }
   ],
   "source": [
    "import qiskit.tools.jupyter\n",
    "%qiskit_version_table\n",
    "%qiskit_copyright"
   ]
  },
  {
   "cell_type": "code",
   "execution_count": null,
   "metadata": {},
   "outputs": [],
   "source": []
  }
 ],
 "metadata": {
  "kernelspec": {
   "display_name": "Python 3",
   "language": "python",
   "name": "python3"
  },
  "language_info": {
   "codemirror_mode": {
    "name": "ipython",
    "version": 3
   },
   "file_extension": ".py",
   "mimetype": "text/x-python",
   "name": "python",
   "nbconvert_exporter": "python",
   "pygments_lexer": "ipython3",
   "version": "3.7.3"
  }
 },
 "nbformat": 4,
 "nbformat_minor": 2
}
