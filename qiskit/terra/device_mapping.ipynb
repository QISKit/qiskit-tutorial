{
 "cells": [
  {
   "cell_type": "markdown",
   "metadata": {},
   "source": [
    "<img src=\"../../images/qiskit-heading.gif\" alt=\"Note: In order for images to show up in this jupyter notebook you need to select File => Trusted Notebook\" width=\"500 px\" align=\"left\">"
   ]
  },
  {
   "cell_type": "code",
   "execution_count": 1,
   "metadata": {
    "ExecuteTime": {
     "end_time": "2019-05-03T18:02:38.945684Z",
     "start_time": "2019-05-03T18:02:31.844545Z"
    }
   },
   "outputs": [],
   "source": [
    "from qiskit import *\n",
    "from qiskit.compiler import transpile\n",
    "from qiskit.visualization import plot_histogram\n",
    "from qiskit.tools.monitor import job_monitor\n",
    "IBMQ.load_accounts()\n",
    "%matplotlib inline"
   ]
  },
  {
   "cell_type": "markdown",
   "metadata": {},
   "source": [
    "# Mapping virtual qubits in a circuit to physical qubits on a quantum device\n",
    "\n",
    "\n",
    "In this tutorial we will see how to manually set the mapping from virtual circuit qubits to the physical qubits on a real quantum backend.  To begin, let us consider the following circuit that constructs a five qubit GHZ state:"
   ]
  },
  {
   "cell_type": "code",
   "execution_count": 2,
   "metadata": {
    "ExecuteTime": {
     "end_time": "2019-05-03T18:02:38.963128Z",
     "start_time": "2019-05-03T18:02:38.948011Z"
    }
   },
   "outputs": [
    {
     "data": {
      "text/html": [
       "<pre style=\"word-wrap: normal;white-space: pre;line-height: 15px;\">                   ┌───┐      ░ ┌─┐            \n",
       "qr_0: |0>──────────┤ X ├──────░─┤M├────────────\n",
       "              ┌───┐└─┬─┘      ░ └╥┘┌─┐         \n",
       "qr_1: |0>─────┤ X ├──■────────░──╫─┤M├─────────\n",
       "         ┌───┐└─┬─┘           ░  ║ └╥┘┌─┐      \n",
       "qr_2: |0>┤ H ├──■────■────────░──╫──╫─┤M├──────\n",
       "         └───┘     ┌─┴─┐      ░  ║  ║ └╥┘┌─┐   \n",
       "qr_3: |0>──────────┤ X ├──■───░──╫──╫──╫─┤M├───\n",
       "                   └───┘┌─┴─┐ ░  ║  ║  ║ └╥┘┌─┐\n",
       "qr_4: |0>───────────────┤ X ├─░──╫──╫──╫──╫─┤M├\n",
       "                        └───┘ ░  ║  ║  ║  ║ └╥┘\n",
       " cr_0: 0 ════════════════════════╩══╬══╬══╬══╬═\n",
       "                                    ║  ║  ║  ║ \n",
       " cr_1: 0 ═══════════════════════════╩══╬══╬══╬═\n",
       "                                       ║  ║  ║ \n",
       " cr_2: 0 ══════════════════════════════╩══╬══╬═\n",
       "                                          ║  ║ \n",
       " cr_3: 0 ═════════════════════════════════╩══╬═\n",
       "                                             ║ \n",
       " cr_4: 0 ════════════════════════════════════╩═\n",
       "                                               </pre>"
      ],
      "text/plain": [
       "<qiskit.visualization.text.TextDrawing at 0x1a21dac710>"
      ]
     },
     "execution_count": 2,
     "metadata": {},
     "output_type": "execute_result"
    }
   ],
   "source": [
    "qr = QuantumRegister(5,'qr')\n",
    "cr = ClassicalRegister(5, 'cr')\n",
    "ghz = QuantumCircuit(qr, cr, name='ghz')\n",
    "\n",
    "ghz.h(qr[2])\n",
    "ghz.cx(qr[2], qr[1])\n",
    "ghz.cx(qr[1], qr[0])\n",
    "ghz.cx(qr[2], qr[3])\n",
    "ghz.cx(qr[3], qr[4])\n",
    "ghz.barrier(qr)\n",
    "ghz.measure(qr, cr)\n",
    "ghz.draw()"
   ]
  },
  {
   "cell_type": "markdown",
   "metadata": {},
   "source": [
    "## Default circuit mapping via the transpiler"
   ]
  },
  {
   "cell_type": "markdown",
   "metadata": {},
   "source": [
    "Let us use the transpiler to generate the circuit that is mapped onto the"
   ]
  },
  {
   "cell_type": "code",
   "execution_count": 3,
   "metadata": {
    "ExecuteTime": {
     "end_time": "2019-05-03T18:02:38.968783Z",
     "start_time": "2019-05-03T18:02:38.965448Z"
    }
   },
   "outputs": [],
   "source": [
    "device = IBMQ.get_backend('ibmq_16_melbourne')"
   ]
  },
  {
   "cell_type": "markdown",
   "metadata": {
    "ExecuteTime": {
     "end_time": "2019-05-03T19:21:59.350073Z",
     "start_time": "2019-05-03T19:21:59.344880Z"
    }
   },
   "source": [
    "device."
   ]
  },
  {
   "cell_type": "code",
   "execution_count": 4,
   "metadata": {
    "ExecuteTime": {
     "end_time": "2019-05-03T18:02:39.988696Z",
     "start_time": "2019-05-03T18:02:38.971314Z"
    }
   },
   "outputs": [],
   "source": [
    "trans_ghz = transpile(ghz, device)"
   ]
  },
  {
   "cell_type": "code",
   "execution_count": 5,
   "metadata": {
    "ExecuteTime": {
     "end_time": "2019-05-03T18:02:40.006234Z",
     "start_time": "2019-05-03T18:02:39.990746Z"
    }
   },
   "outputs": [
    {
     "data": {
      "text/html": [
       "<pre style=\"word-wrap: normal;white-space: pre;line-height: 15px;\">                                              ┌───┐                                      ░ ┌─┐            \n",
       " q_0: |0>─────────────────────────────────────┤ X ├──────────────────────────────────────░─┤M├────────────\n",
       "         ┌──────────────┐     ┌──────────────┐└─┬─┘                                      ░ └╥┘┌─┐         \n",
       " q_1: |0>┤ U2(0,3.1416) ├──■──┤ U2(0,3.1416) ├──■────────────────────────────────────────░──╫─┤M├─────────\n",
       "         └──────────────┘┌─┴─┐├──────────────┤                                           ░  ║ └╥┘┌─┐      \n",
       " q_2: |0>────────────────┤ X ├┤ U2(0,3.1416) ├──■────────────────────────────────────────░──╫──╫─┤M├──────\n",
       "                         └───┘└──────────────┘┌─┴─┐┌──────────────┐┌───┐┌──────────────┐ ░  ║  ║ └╥┘┌─┐   \n",
       " q_3: |0>─────────────────────────────────────┤ X ├┤ U2(0,3.1416) ├┤ X ├┤ U2(0,3.1416) ├─░──╫──╫──╫─┤M├───\n",
       "         ┌──────────────┐                     └───┘└──────────────┘└─┬─┘├──────────────┤ ░  ║  ║  ║ └╥┘┌─┐\n",
       " q_4: |0>┤ U2(0,3.1416) ├────────────────────────────────────────────■──┤ U2(0,3.1416) ├─░──╫──╫──╫──╫─┤M├\n",
       "         └──────────────┘                                               └──────────────┘ ░  ║  ║  ║  ║ └╥┘\n",
       " q_5: |0>───────────────────────────────────────────────────────────────────────────────────╫──╫──╫──╫──╫─\n",
       "                                                                                            ║  ║  ║  ║  ║ \n",
       " q_6: |0>───────────────────────────────────────────────────────────────────────────────────╫──╫──╫──╫──╫─\n",
       "                                                                                            ║  ║  ║  ║  ║ \n",
       " q_7: |0>───────────────────────────────────────────────────────────────────────────────────╫──╫──╫──╫──╫─\n",
       "                                                                                            ║  ║  ║  ║  ║ \n",
       " q_8: |0>───────────────────────────────────────────────────────────────────────────────────╫──╫──╫──╫──╫─\n",
       "                                                                                            ║  ║  ║  ║  ║ \n",
       " q_9: |0>───────────────────────────────────────────────────────────────────────────────────╫──╫──╫──╫──╫─\n",
       "                                                                                            ║  ║  ║  ║  ║ \n",
       "q_10: |0>───────────────────────────────────────────────────────────────────────────────────╫──╫──╫──╫──╫─\n",
       "                                                                                            ║  ║  ║  ║  ║ \n",
       "q_11: |0>───────────────────────────────────────────────────────────────────────────────────╫──╫──╫──╫──╫─\n",
       "                                                                                            ║  ║  ║  ║  ║ \n",
       "q_12: |0>───────────────────────────────────────────────────────────────────────────────────╫──╫──╫──╫──╫─\n",
       "                                                                                            ║  ║  ║  ║  ║ \n",
       "q_13: |0>───────────────────────────────────────────────────────────────────────────────────╫──╫──╫──╫──╫─\n",
       "                                                                                            ║  ║  ║  ║  ║ \n",
       " cr_0: 0 ═══════════════════════════════════════════════════════════════════════════════════╩══╬══╬══╬══╬═\n",
       "                                                                                               ║  ║  ║  ║ \n",
       " cr_1: 0 ══════════════════════════════════════════════════════════════════════════════════════╩══╬══╬══╬═\n",
       "                                                                                                  ║  ║  ║ \n",
       " cr_2: 0 ═════════════════════════════════════════════════════════════════════════════════════════╩══╬══╬═\n",
       "                                                                                                     ║  ║ \n",
       " cr_3: 0 ════════════════════════════════════════════════════════════════════════════════════════════╩══╬═\n",
       "                                                                                                        ║ \n",
       " cr_4: 0 ═══════════════════════════════════════════════════════════════════════════════════════════════╩═\n",
       "                                                                                                          </pre>"
      ],
      "text/plain": [
       "<qiskit.visualization.text.TextDrawing at 0x1a21be79b0>"
      ]
     },
     "execution_count": 5,
     "metadata": {},
     "output_type": "execute_result"
    }
   ],
   "source": [
    "trans_ghz.draw(line_length=120)"
   ]
  },
  {
   "cell_type": "markdown",
   "metadata": {},
   "source": [
    "We see that the output circuit has the gate set mapped to the first five qubits on the device (0->4).  Note that in general the mapping is not this simple, and by default selects a sub-graph of the device that has the most connectivity.\n",
    "\n",
    "To gauge the quality of this mapping, lets compute the depth of the output circuit."
   ]
  },
  {
   "cell_type": "code",
   "execution_count": 6,
   "metadata": {
    "ExecuteTime": {
     "end_time": "2019-05-03T18:02:40.013520Z",
     "start_time": "2019-05-03T18:02:40.007655Z"
    }
   },
   "outputs": [
    {
     "data": {
      "text/plain": [
       "8"
      ]
     },
     "execution_count": 6,
     "metadata": {},
     "output_type": "execute_result"
    }
   ],
   "source": [
    "trans_ghz.depth()"
   ]
  },
  {
   "cell_type": "markdown",
   "metadata": {},
   "source": [
    "This depth is greater than that of the input"
   ]
  },
  {
   "cell_type": "code",
   "execution_count": 17,
   "metadata": {
    "ExecuteTime": {
     "end_time": "2019-05-03T19:52:38.913935Z",
     "start_time": "2019-05-03T19:52:38.910082Z"
    }
   },
   "outputs": [
    {
     "data": {
      "text/plain": [
       "5"
      ]
     },
     "execution_count": 17,
     "metadata": {},
     "output_type": "execute_result"
    }
   ],
   "source": [
    "ghz.depth()"
   ]
  },
  {
   "cell_type": "markdown",
   "metadata": {},
   "source": [
    "because the transpiler had to reverse some of the CNOT gates in the circuit to match the device topology (as seen below)."
   ]
  },
  {
   "cell_type": "markdown",
   "metadata": {},
   "source": [
    "## Better results via manual mapping"
   ]
  },
  {
   "cell_type": "markdown",
   "metadata": {},
   "source": [
    "It turns out that the GHZ circuit can be mapped exactly onto the Melbourne backend; the output circuit has the same depeth as the input.  To do the mapping we just need to find which qubits to map to.  This is most easily done using the Jupyter magic function:"
   ]
  },
  {
   "cell_type": "code",
   "execution_count": 18,
   "metadata": {
    "ExecuteTime": {
     "end_time": "2019-05-03T19:55:54.663030Z",
     "start_time": "2019-05-03T19:55:54.660100Z"
    }
   },
   "outputs": [],
   "source": [
    "#from qiskit.tools.jupyter import *\n",
    "#%qiskit_backend_monitor device"
   ]
  },
  {
   "cell_type": "markdown",
   "metadata": {},
   "source": [
    "which we have commented out here because the Javascript widget that it makes does not render unless you run the notebook locally.  So instead, we will just directly grab the device topology map from the module:"
   ]
  },
  {
   "cell_type": "code",
   "execution_count": 19,
   "metadata": {
    "ExecuteTime": {
     "end_time": "2019-05-03T19:57:31.960712Z",
     "start_time": "2019-05-03T19:57:30.281668Z"
    }
   },
   "outputs": [
    {
     "data": {
      "application/vnd.jupyter.widget-view+json": {
       "model_id": "c7f1aebffa8f421d82ff2ae4ca54dfdb",
       "version_major": 2,
       "version_minor": 0
      },
      "text/plain": [
       "GridBox(children=(Output(layout=Layout(align_items='center', display='flex-inline', grid_area='left')), Output…"
      ]
     },
     "metadata": {},
     "output_type": "display_data"
    }
   ],
   "source": [
    "from qiskit.tools.jupyter.backend_monitor import detailed_map\n",
    "detailed_map(device)"
   ]
  },
  {
   "cell_type": "markdown",
   "metadata": {},
   "source": [
    "Upon inspection one can see that the GHZ circuit matches the topology provided that the circuit qubits are mapped to the device qubits using the following mapping: `0->10, 1->4, 2->5, 3->6, 4->8`.  Whats better, these qubits also have lower error rates than the qubits selected in the default mapping.\n",
    "\n",
    "In qiskit we can express this mapping using a list:"
   ]
  },
  {
   "cell_type": "code",
   "execution_count": 8,
   "metadata": {
    "ExecuteTime": {
     "end_time": "2019-05-03T18:02:41.483417Z",
     "start_time": "2019-05-03T18:02:41.480533Z"
    }
   },
   "outputs": [],
   "source": [
    "layout = [10, 4, 5, 6, 8]"
   ]
  },
  {
   "cell_type": "markdown",
   "metadata": {},
   "source": [
    "or equivilently using a dictionary that uses quantum register qubits as the keys, and device qubits as the corresponding values:"
   ]
  },
  {
   "cell_type": "code",
   "execution_count": 20,
   "metadata": {
    "ExecuteTime": {
     "end_time": "2019-05-03T20:03:44.654980Z",
     "start_time": "2019-05-03T20:03:44.651619Z"
    }
   },
   "outputs": [],
   "source": [
    "layout = {qr[0]: 10, qr[1]: 4, qr[2]: 5, qr[3]: 6, qr[4]: 8}"
   ]
  },
  {
   "cell_type": "markdown",
   "metadata": {},
   "source": [
    "To use this mapping in the transpiler or in the `execute` function we can just set the layout as the `initial_layout` keyword argument to the functions:"
   ]
  },
  {
   "cell_type": "code",
   "execution_count": 21,
   "metadata": {
    "ExecuteTime": {
     "end_time": "2019-05-03T20:03:47.371614Z",
     "start_time": "2019-05-03T20:03:46.452187Z"
    }
   },
   "outputs": [],
   "source": [
    "trans_ghz_mapped = transpile(ghz, device, initial_layout=layout)"
   ]
  },
  {
   "cell_type": "code",
   "execution_count": 22,
   "metadata": {
    "ExecuteTime": {
     "end_time": "2019-05-03T20:03:47.384865Z",
     "start_time": "2019-05-03T20:03:47.373067Z"
    }
   },
   "outputs": [
    {
     "data": {
      "text/html": [
       "<pre style=\"word-wrap: normal;white-space: pre;line-height: 15px;\">                                                               \n",
       " q_0: |0>──────────────────────────────────────────────────────\n",
       "                                                               \n",
       " q_1: |0>──────────────────────────────────────────────────────\n",
       "                                                               \n",
       " q_2: |0>──────────────────────────────────────────────────────\n",
       "                                                               \n",
       " q_3: |0>──────────────────────────────────────────────────────\n",
       "                         ┌───┐                ░    ┌─┐         \n",
       " q_4: |0>────────────────┤ X ├───────■────────░────┤M├─────────\n",
       "         ┌──────────────┐└─┬─┘       │        ░    └╥┘┌─┐      \n",
       " q_5: |0>┤ U2(0,3.1416) ├──■────■────┼────────░─────╫─┤M├──────\n",
       "         └──────────────┘     ┌─┴─┐  │        ░     ║ └╥┘┌─┐   \n",
       " q_6: |0>─────────────────────┤ X ├──┼────■───░─────╫──╫─┤M├───\n",
       "                              └───┘  │    │   ░     ║  ║ └╥┘   \n",
       " q_7: |0>────────────────────────────┼────┼─────────╫──╫──╫────\n",
       "                                     │  ┌─┴─┐ ░     ║  ║  ║ ┌─┐\n",
       " q_8: |0>────────────────────────────┼──┤ X ├─░─────╫──╫──╫─┤M├\n",
       "                                     │  └───┘ ░     ║  ║  ║ └╥┘\n",
       " q_9: |0>────────────────────────────┼──────────────╫──╫──╫──╫─\n",
       "                                   ┌─┴─┐      ░ ┌─┐ ║  ║  ║  ║ \n",
       "q_10: |0>──────────────────────────┤ X ├──────░─┤M├─╫──╫──╫──╫─\n",
       "                                   └───┘      ░ └╥┘ ║  ║  ║  ║ \n",
       "q_11: |0>────────────────────────────────────────╫──╫──╫──╫──╫─\n",
       "                                                 ║  ║  ║  ║  ║ \n",
       "q_12: |0>────────────────────────────────────────╫──╫──╫──╫──╫─\n",
       "                                                 ║  ║  ║  ║  ║ \n",
       "q_13: |0>────────────────────────────────────────╫──╫──╫──╫──╫─\n",
       "                                                 ║  ║  ║  ║  ║ \n",
       " cr_0: 0 ════════════════════════════════════════╩══╬══╬══╬══╬═\n",
       "                                                    ║  ║  ║  ║ \n",
       " cr_1: 0 ═══════════════════════════════════════════╩══╬══╬══╬═\n",
       "                                                       ║  ║  ║ \n",
       " cr_2: 0 ══════════════════════════════════════════════╩══╬══╬═\n",
       "                                                          ║  ║ \n",
       " cr_3: 0 ═════════════════════════════════════════════════╩══╬═\n",
       "                                                             ║ \n",
       " cr_4: 0 ════════════════════════════════════════════════════╩═\n",
       "                                                               </pre>"
      ],
      "text/plain": [
       "<qiskit.visualization.text.TextDrawing at 0x10b1449b0>"
      ]
     },
     "execution_count": 22,
     "metadata": {},
     "output_type": "execute_result"
    }
   ],
   "source": [
    "trans_ghz_mapped.draw()"
   ]
  },
  {
   "cell_type": "code",
   "execution_count": 11,
   "metadata": {
    "ExecuteTime": {
     "end_time": "2019-05-03T18:02:42.456094Z",
     "start_time": "2019-05-03T18:02:42.450266Z"
    }
   },
   "outputs": [
    {
     "data": {
      "text/plain": [
       "5"
      ]
     },
     "execution_count": 11,
     "metadata": {},
     "output_type": "execute_result"
    }
   ],
   "source": [
    "trans_ghz_mapped.depth()"
   ]
  },
  {
   "cell_type": "markdown",
   "metadata": {},
   "source": [
    "As we have verified, the returned circuit does exactly match the topology with the given layout."
   ]
  },
  {
   "cell_type": "markdown",
   "metadata": {},
   "source": [
    "## Running on the device"
   ]
  },
  {
   "cell_type": "markdown",
   "metadata": {},
   "source": [
    "Lets now compare the performance of the circuits transpiled with the default and hand-selected layouts by running them on the device:"
   ]
  },
  {
   "cell_type": "code",
   "execution_count": 12,
   "metadata": {
    "ExecuteTime": {
     "end_time": "2019-05-03T19:21:58.818220Z",
     "start_time": "2019-05-03T18:02:42.457751Z"
    }
   },
   "outputs": [
    {
     "name": "stdout",
     "output_type": "stream",
     "text": [
      "Job Status: job has successfully run\n"
     ]
    }
   ],
   "source": [
    "job = execute([trans_ghz, trans_ghz_mapped], device)\n",
    "job_monitor(job)\n",
    "res = job.result()"
   ]
  },
  {
   "cell_type": "code",
   "execution_count": 23,
   "metadata": {
    "ExecuteTime": {
     "end_time": "2019-05-03T20:10:10.042481Z",
     "start_time": "2019-05-03T20:10:09.562768Z"
    }
   },
   "outputs": [
    {
     "data": {
      "image/png": "[encoded data removed]",
      "text/plain": [
       "<Figure size 1080x360 with 1 Axes>"
      ]
     },
     "execution_count": 23,
     "metadata": {},
     "output_type": "execute_result"
    }
   ],
   "source": [
    "plot_histogram([res.get_counts(0), res.get_counts(1)],\n",
    "               figsize=(15,5),\n",
    "              legend=['default', 'mapped'])"
   ]
  },
  {
   "cell_type": "markdown",
   "metadata": {},
   "source": [
    "It is clear that the circuits that we mapped to the ideal sub-graph of the device (red) give an answer that is much closer to the ideal distribution than those mapped in the default way."
   ]
  },
  {
   "cell_type": "code",
   "execution_count": null,
   "metadata": {},
   "outputs": [],
   "source": []
  }
 ],
 "metadata": {
  "kernelspec": {
   "display_name": "Python 3",
   "language": "python",
   "name": "python3"
  },
  "language_info": {
   "codemirror_mode": {
    "name": "ipython",
    "version": 3
   },
   "file_extension": ".py",
   "mimetype": "text/x-python",
   "name": "python",
   "nbconvert_exporter": "python",
   "pygments_lexer": "ipython3",
   "version": "3.7.3"
  }
 },
 "nbformat": 4,
 "nbformat_minor": 2
}
