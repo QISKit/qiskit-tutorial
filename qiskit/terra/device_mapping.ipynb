{
 "cells": [
  {
   "cell_type": "markdown",
   "metadata": {},
   "source": [
    "<img src=\"../../images/qiskit-heading.gif\" alt=\"Note: In order for images to show up in this jupyter notebook you need to select File => Trusted Notebook\" width=\"500 px\" align=\"left\">"
   ]
  },
  {
   "cell_type": "code",
   "execution_count": 1,
   "metadata": {
    "ExecuteTime": {
     "end_time": "2019-05-03T22:37:01.811807Z",
     "start_time": "2019-05-03T22:36:56.469338Z"
    }
   },
   "outputs": [],
   "source": [
    "from qiskit import *\n",
    "from qiskit.compiler import transpile\n",
    "from qiskit.visualization import plot_histogram\n",
    "from qiskit.tools.monitor import job_monitor\n",
    "IBMQ.load_accounts()\n",
    "%matplotlib inline"
   ]
  },
  {
   "cell_type": "markdown",
   "metadata": {},
   "source": [
    "# Mapping virtual qubits in a circuit to physical qubits on a quantum device\n",
    "\n",
    "\n",
    "In this tutorial we will see how to manually set the mapping from virtual circuit qubits to the physical qubits on a real quantum backend.  To begin, let us consider the following circuit that constructs a five qubit GHZ state:"
   ]
  },
  {
   "cell_type": "code",
   "execution_count": 2,
   "metadata": {
    "ExecuteTime": {
     "end_time": "2019-05-03T22:37:01.829101Z",
     "start_time": "2019-05-03T22:37:01.814657Z"
    }
   },
   "outputs": [
    {
     "data": {
      "text/html": [
       "<pre style=\"word-wrap: normal;white-space: pre;line-height: 15px;\">                   ┌───┐      ░ ┌─┐            \n",
       "qr_0: |0>──────────┤ X ├──────░─┤M├────────────\n",
       "              ┌───┐└─┬─┘      ░ └╥┘┌─┐         \n",
       "qr_1: |0>─────┤ X ├──■────────░──╫─┤M├─────────\n",
       "         ┌───┐└─┬─┘           ░  ║ └╥┘┌─┐      \n",
       "qr_2: |0>┤ H ├──■────■────────░──╫──╫─┤M├──────\n",
       "         └───┘     ┌─┴─┐      ░  ║  ║ └╥┘┌─┐   \n",
       "qr_3: |0>──────────┤ X ├──■───░──╫──╫──╫─┤M├───\n",
       "                   └───┘┌─┴─┐ ░  ║  ║  ║ └╥┘┌─┐\n",
       "qr_4: |0>───────────────┤ X ├─░──╫──╫──╫──╫─┤M├\n",
       "                        └───┘ ░  ║  ║  ║  ║ └╥┘\n",
       " cr_0: 0 ════════════════════════╩══╬══╬══╬══╬═\n",
       "                                    ║  ║  ║  ║ \n",
       " cr_1: 0 ═══════════════════════════╩══╬══╬══╬═\n",
       "                                       ║  ║  ║ \n",
       " cr_2: 0 ══════════════════════════════╩══╬══╬═\n",
       "                                          ║  ║ \n",
       " cr_3: 0 ═════════════════════════════════╩══╬═\n",
       "                                             ║ \n",
       " cr_4: 0 ════════════════════════════════════╩═\n",
       "                                               </pre>"
      ],
      "text/plain": [
       "<qiskit.visualization.text.TextDrawing at 0x104280390>"
      ]
     },
     "execution_count": 2,
     "metadata": {},
     "output_type": "execute_result"
    }
   ],
   "source": [
    "qr = QuantumRegister(5,'qr')\n",
    "cr = ClassicalRegister(5, 'cr')\n",
    "ghz = QuantumCircuit(qr, cr, name='ghz')\n",
    "\n",
    "ghz.h(qr[2])\n",
    "ghz.cx(qr[2], qr[1])\n",
    "ghz.cx(qr[1], qr[0])\n",
    "ghz.cx(qr[2], qr[3])\n",
    "ghz.cx(qr[3], qr[4])\n",
    "ghz.barrier(qr)\n",
    "ghz.measure(qr, cr)\n",
    "ghz.draw()"
   ]
  },
  {
   "cell_type": "markdown",
   "metadata": {},
   "source": [
    "## Default circuit mapping via the transpiler"
   ]
  },
  {
   "cell_type": "markdown",
   "metadata": {},
   "source": [
    "Let us use the transpiler to generate the circuit that is mapped onto the"
   ]
  },
  {
   "cell_type": "code",
   "execution_count": 3,
   "metadata": {
    "ExecuteTime": {
     "end_time": "2019-05-03T22:37:01.835248Z",
     "start_time": "2019-05-03T22:37:01.831083Z"
    }
   },
   "outputs": [],
   "source": [
    "device = IBMQ.get_backend('ibmq_16_melbourne')"
   ]
  },
  {
   "cell_type": "markdown",
   "metadata": {
    "ExecuteTime": {
     "end_time": "2019-05-03T19:21:59.350073Z",
     "start_time": "2019-05-03T19:21:59.344880Z"
    }
   },
   "source": [
    "device."
   ]
  },
  {
   "cell_type": "code",
   "execution_count": 4,
   "metadata": {
    "ExecuteTime": {
     "end_time": "2019-05-03T22:37:02.740051Z",
     "start_time": "2019-05-03T22:37:01.836902Z"
    }
   },
   "outputs": [],
   "source": [
    "trans_ghz = transpile(ghz, device)"
   ]
  },
  {
   "cell_type": "code",
   "execution_count": 5,
   "metadata": {
    "ExecuteTime": {
     "end_time": "2019-05-03T22:37:02.756111Z",
     "start_time": "2019-05-03T22:37:02.741606Z"
    }
   },
   "outputs": [
    {
     "data": {
      "text/html": [
       "<pre style=\"word-wrap: normal;white-space: pre;line-height: 15px;\">                                              ┌───┐                     »\n",
       " q_0: |0>─────────────────────────────────────┤ X ├─────────────────────»\n",
       "         ┌──────────────┐     ┌──────────────┐└─┬─┘                     »\n",
       " q_1: |0>┤ U2(0,3.1416) ├──■──┤ U2(0,3.1416) ├──■───────────────────────»\n",
       "         └──────────────┘┌─┴─┐├──────────────┤                          »\n",
       " q_2: |0>────────────────┤ X ├┤ U2(0,3.1416) ├──■───────────────────────»\n",
       "                         └───┘└──────────────┘┌─┴─┐┌──────────────┐┌───┐»\n",
       " q_3: |0>─────────────────────────────────────┤ X ├┤ U2(0,3.1416) ├┤ X ├»\n",
       "         ┌──────────────┐                     └───┘└──────────────┘└─┬─┘»\n",
       " q_4: |0>┤ U2(0,3.1416) ├────────────────────────────────────────────■──»\n",
       "         └──────────────┘                                               »\n",
       " q_5: |0>───────────────────────────────────────────────────────────────»\n",
       "                                                                        »\n",
       " q_6: |0>───────────────────────────────────────────────────────────────»\n",
       "                                                                        »\n",
       " q_7: |0>───────────────────────────────────────────────────────────────»\n",
       "                                                                        »\n",
       " q_8: |0>───────────────────────────────────────────────────────────────»\n",
       "                                                                        »\n",
       " q_9: |0>───────────────────────────────────────────────────────────────»\n",
       "                                                                        »\n",
       "q_10: |0>───────────────────────────────────────────────────────────────»\n",
       "                                                                        »\n",
       "q_11: |0>───────────────────────────────────────────────────────────────»\n",
       "                                                                        »\n",
       "q_12: |0>───────────────────────────────────────────────────────────────»\n",
       "                                                                        »\n",
       "q_13: |0>───────────────────────────────────────────────────────────────»\n",
       "                                                                        »\n",
       " cr_0: 0 ═══════════════════════════════════════════════════════════════»\n",
       "                                                                        »\n",
       " cr_1: 0 ═══════════════════════════════════════════════════════════════»\n",
       "                                                                        »\n",
       " cr_2: 0 ═══════════════════════════════════════════════════════════════»\n",
       "                                                                        »\n",
       " cr_3: 0 ═══════════════════════════════════════════════════════════════»\n",
       "                                                                        »\n",
       " cr_4: 0 ═══════════════════════════════════════════════════════════════»\n",
       "                                                                        »\n",
       "«                       ░ ┌─┐            \n",
       "« q_0: ─────────────────░─┤M├────────────\n",
       "«                       ░ └╥┘┌─┐         \n",
       "« q_1: ─────────────────░──╫─┤M├─────────\n",
       "«                       ░  ║ └╥┘┌─┐      \n",
       "« q_2: ─────────────────░──╫──╫─┤M├──────\n",
       "«      ┌──────────────┐ ░  ║  ║ └╥┘┌─┐   \n",
       "« q_3: ┤ U2(0,3.1416) ├─░──╫──╫──╫─┤M├───\n",
       "«      ├──────────────┤ ░  ║  ║  ║ └╥┘┌─┐\n",
       "« q_4: ┤ U2(0,3.1416) ├─░──╫──╫──╫──╫─┤M├\n",
       "«      └──────────────┘ ░  ║  ║  ║  ║ └╥┘\n",
       "« q_5: ────────────────────╫──╫──╫──╫──╫─\n",
       "«                          ║  ║  ║  ║  ║ \n",
       "« q_6: ────────────────────╫──╫──╫──╫──╫─\n",
       "«                          ║  ║  ║  ║  ║ \n",
       "« q_7: ────────────────────╫──╫──╫──╫──╫─\n",
       "«                          ║  ║  ║  ║  ║ \n",
       "« q_8: ────────────────────╫──╫──╫──╫──╫─\n",
       "«                          ║  ║  ║  ║  ║ \n",
       "« q_9: ────────────────────╫──╫──╫──╫──╫─\n",
       "«                          ║  ║  ║  ║  ║ \n",
       "«q_10: ────────────────────╫──╫──╫──╫──╫─\n",
       "«                          ║  ║  ║  ║  ║ \n",
       "«q_11: ────────────────────╫──╫──╫──╫──╫─\n",
       "«                          ║  ║  ║  ║  ║ \n",
       "«q_12: ────────────────────╫──╫──╫──╫──╫─\n",
       "«                          ║  ║  ║  ║  ║ \n",
       "«q_13: ────────────────────╫──╫──╫──╫──╫─\n",
       "«                          ║  ║  ║  ║  ║ \n",
       "«cr_0: ════════════════════╩══╬══╬══╬══╬═\n",
       "«                             ║  ║  ║  ║ \n",
       "«cr_1: ═══════════════════════╩══╬══╬══╬═\n",
       "«                                ║  ║  ║ \n",
       "«cr_2: ══════════════════════════╩══╬══╬═\n",
       "«                                   ║  ║ \n",
       "«cr_3: ═════════════════════════════╩══╬═\n",
       "«                                      ║ \n",
       "«cr_4: ════════════════════════════════╩═\n",
       "«                                        </pre>"
      ],
      "text/plain": [
       "<qiskit.visualization.text.TextDrawing at 0x1a184f4358>"
      ]
     },
     "execution_count": 5,
     "metadata": {},
     "output_type": "execute_result"
    }
   ],
   "source": [
    "trans_ghz.draw()"
   ]
  },
  {
   "cell_type": "markdown",
   "metadata": {},
   "source": [
    "We see that the output circuit has the gate set mapped to the first five qubits on the device (0->4).\n",
    "\n",
    "To gauge the quality of this mapping, lets compute the depth of the output circuit."
   ]
  },
  {
   "cell_type": "code",
   "execution_count": 6,
   "metadata": {
    "ExecuteTime": {
     "end_time": "2019-05-03T22:37:02.763442Z",
     "start_time": "2019-05-03T22:37:02.757566Z"
    }
   },
   "outputs": [
    {
     "data": {
      "text/plain": [
       "8"
      ]
     },
     "execution_count": 6,
     "metadata": {},
     "output_type": "execute_result"
    }
   ],
   "source": [
    "trans_ghz.depth()"
   ]
  },
  {
   "cell_type": "markdown",
   "metadata": {},
   "source": [
    "This depth is greater than that of the input"
   ]
  },
  {
   "cell_type": "code",
   "execution_count": 7,
   "metadata": {
    "ExecuteTime": {
     "end_time": "2019-05-03T22:37:02.768186Z",
     "start_time": "2019-05-03T22:37:02.764889Z"
    }
   },
   "outputs": [
    {
     "data": {
      "text/plain": [
       "5"
      ]
     },
     "execution_count": 7,
     "metadata": {},
     "output_type": "execute_result"
    }
   ],
   "source": [
    "ghz.depth()"
   ]
  },
  {
   "cell_type": "markdown",
   "metadata": {},
   "source": [
    "because the transpiler had to reverse some of the CNOT gates in the circuit to match the device topology (as seen below)."
   ]
  },
  {
   "cell_type": "markdown",
   "metadata": {},
   "source": [
    "## Better results via manual mapping"
   ]
  },
  {
   "cell_type": "markdown",
   "metadata": {},
   "source": [
    "It turns out that the GHZ circuit can be mapped exactly onto the Melbourne backend; the output circuit has the same depeth as the input.  To do the mapping we just need to find which qubits to map to.  This is most easily done using the Jupyter magic function:"
   ]
  },
  {
   "cell_type": "code",
   "execution_count": null,
   "metadata": {
    "ExecuteTime": {
     "start_time": "2019-05-03T22:44:54.034Z"
    }
   },
   "outputs": [],
   "source": [
    "from qiskit.tools.jupyter import *\n",
    "%qiskit_backend_monitor device"
   ]
  },
  {
   "cell_type": "markdown",
   "metadata": {},
   "source": [
    "which we have commented out here because the Javascript widget that it makes does not render unless you run the notebook locally.  So instead, we will just directly grab the device topology map from the module:"
   ]
  },
  {
   "cell_type": "markdown",
   "metadata": {},
   "source": [
    "Upon inspection one can see that the GHZ circuit matches the topology provided that the circuit qubits are mapped to the device qubits using the following mapping: `0->10, 1->4, 2->5, 3->6, 4->8`.  Whats better, these qubits also have lower error rates than the qubits selected in the default mapping.\n",
    "\n",
    "In qiskit we can express this mapping using a list:"
   ]
  },
  {
   "cell_type": "code",
   "execution_count": 9,
   "metadata": {
    "ExecuteTime": {
     "end_time": "2019-05-03T22:41:32.928291Z",
     "start_time": "2019-05-03T22:41:32.925876Z"
    }
   },
   "outputs": [],
   "source": [
    "layout = [10, 4, 5, 6, 8]"
   ]
  },
  {
   "cell_type": "markdown",
   "metadata": {},
   "source": [
    "or equivilently using a dictionary that uses quantum register qubits as the keys, and device qubits as the corresponding values:"
   ]
  },
  {
   "cell_type": "code",
   "execution_count": 10,
   "metadata": {
    "ExecuteTime": {
     "end_time": "2019-05-03T22:41:32.935275Z",
     "start_time": "2019-05-03T22:41:32.929858Z"
    }
   },
   "outputs": [],
   "source": [
    "layout = {qr[0]: 10, qr[1]: 4, qr[2]: 5, qr[3]: 6, qr[4]: 8}"
   ]
  },
  {
   "cell_type": "markdown",
   "metadata": {},
   "source": [
    "To use this mapping in the transpiler or in the `execute` function we can just set the layout as the `initial_layout` keyword argument to the functions:"
   ]
  },
  {
   "cell_type": "code",
   "execution_count": 11,
   "metadata": {
    "ExecuteTime": {
     "end_time": "2019-05-03T22:41:34.460811Z",
     "start_time": "2019-05-03T22:41:32.936621Z"
    }
   },
   "outputs": [],
   "source": [
    "trans_ghz_mapped = transpile(ghz, device, initial_layout=layout)"
   ]
  },
  {
   "cell_type": "code",
   "execution_count": 12,
   "metadata": {
    "ExecuteTime": {
     "end_time": "2019-05-03T22:41:34.473876Z",
     "start_time": "2019-05-03T22:41:34.462297Z"
    }
   },
   "outputs": [
    {
     "data": {
      "text/html": [
       "<pre style=\"word-wrap: normal;white-space: pre;line-height: 15px;\">                                                               \n",
       " q_0: |0>──────────────────────────────────────────────────────\n",
       "                                                               \n",
       " q_1: |0>──────────────────────────────────────────────────────\n",
       "                                                               \n",
       " q_2: |0>──────────────────────────────────────────────────────\n",
       "                                                               \n",
       " q_3: |0>──────────────────────────────────────────────────────\n",
       "                         ┌───┐                ░    ┌─┐         \n",
       " q_4: |0>────────────────┤ X ├───────■────────░────┤M├─────────\n",
       "         ┌──────────────┐└─┬─┘       │        ░    └╥┘┌─┐      \n",
       " q_5: |0>┤ U2(0,3.1416) ├──■────■────┼────────░─────╫─┤M├──────\n",
       "         └──────────────┘     ┌─┴─┐  │        ░     ║ └╥┘┌─┐   \n",
       " q_6: |0>─────────────────────┤ X ├──┼────■───░─────╫──╫─┤M├───\n",
       "                              └───┘  │    │   ░     ║  ║ └╥┘   \n",
       " q_7: |0>────────────────────────────┼────┼─────────╫──╫──╫────\n",
       "                                     │  ┌─┴─┐ ░     ║  ║  ║ ┌─┐\n",
       " q_8: |0>────────────────────────────┼──┤ X ├─░─────╫──╫──╫─┤M├\n",
       "                                     │  └───┘ ░     ║  ║  ║ └╥┘\n",
       " q_9: |0>────────────────────────────┼──────────────╫──╫──╫──╫─\n",
       "                                   ┌─┴─┐      ░ ┌─┐ ║  ║  ║  ║ \n",
       "q_10: |0>──────────────────────────┤ X ├──────░─┤M├─╫──╫──╫──╫─\n",
       "                                   └───┘      ░ └╥┘ ║  ║  ║  ║ \n",
       "q_11: |0>────────────────────────────────────────╫──╫──╫──╫──╫─\n",
       "                                                 ║  ║  ║  ║  ║ \n",
       "q_12: |0>────────────────────────────────────────╫──╫──╫──╫──╫─\n",
       "                                                 ║  ║  ║  ║  ║ \n",
       "q_13: |0>────────────────────────────────────────╫──╫──╫──╫──╫─\n",
       "                                                 ║  ║  ║  ║  ║ \n",
       " cr_0: 0 ════════════════════════════════════════╩══╬══╬══╬══╬═\n",
       "                                                    ║  ║  ║  ║ \n",
       " cr_1: 0 ═══════════════════════════════════════════╩══╬══╬══╬═\n",
       "                                                       ║  ║  ║ \n",
       " cr_2: 0 ══════════════════════════════════════════════╩══╬══╬═\n",
       "                                                          ║  ║ \n",
       " cr_3: 0 ═════════════════════════════════════════════════╩══╬═\n",
       "                                                             ║ \n",
       " cr_4: 0 ════════════════════════════════════════════════════╩═\n",
       "                                                               </pre>"
      ],
      "text/plain": [
       "<qiskit.visualization.text.TextDrawing at 0x1a1b289b00>"
      ]
     },
     "execution_count": 12,
     "metadata": {},
     "output_type": "execute_result"
    }
   ],
   "source": [
    "trans_ghz_mapped.draw()"
   ]
  },
  {
   "cell_type": "code",
   "execution_count": 13,
   "metadata": {
    "ExecuteTime": {
     "end_time": "2019-05-03T22:41:34.479634Z",
     "start_time": "2019-05-03T22:41:34.475920Z"
    }
   },
   "outputs": [
    {
     "data": {
      "text/plain": [
       "5"
      ]
     },
     "execution_count": 13,
     "metadata": {},
     "output_type": "execute_result"
    }
   ],
   "source": [
    "trans_ghz_mapped.depth()"
   ]
  },
  {
   "cell_type": "markdown",
   "metadata": {},
   "source": [
    "As we have verified, the returned circuit does exactly match the topology with the given layout."
   ]
  },
  {
   "cell_type": "markdown",
   "metadata": {},
   "source": [
    "## Running on the device"
   ]
  },
  {
   "cell_type": "markdown",
   "metadata": {},
   "source": [
    "Lets now compare the performance of the circuits transpiled with the default and hand-selected layouts by running them on the device:"
   ]
  },
  {
   "cell_type": "code",
   "execution_count": 14,
   "metadata": {
    "ExecuteTime": {
     "end_time": "2019-05-03T22:44:51.548131Z",
     "start_time": "2019-05-03T22:41:34.481388Z"
    }
   },
   "outputs": [
    {
     "name": "stdout",
     "output_type": "stream",
     "text": [
      "Job Status: job has successfully run\n"
     ]
    }
   ],
   "source": [
    "job = execute([trans_ghz, trans_ghz_mapped], device)\n",
    "job_monitor(job)\n",
    "res = job.result()"
   ]
  },
  {
   "cell_type": "code",
   "execution_count": 15,
   "metadata": {
    "ExecuteTime": {
     "end_time": "2019-05-03T22:44:52.053128Z",
     "start_time": "2019-05-03T22:44:51.549803Z"
    }
   },
   "outputs": [
    {
     "data": {
      "image/png": "[encoded data removed]",
      "text/plain": [
       "<Figure size 1080x360 with 1 Axes>"
      ]
     },
     "execution_count": 15,
     "metadata": {},
     "output_type": "execute_result"
    }
   ],
   "source": [
    "plot_histogram([res.get_counts(0), res.get_counts(1)],\n",
    "               figsize=(15,5),\n",
    "              legend=['default', 'mapped'])"
   ]
  },
  {
   "cell_type": "markdown",
   "metadata": {},
   "source": [
    "It is clear that the circuits that we mapped to the ideal sub-graph of the device (red) give an answer that is much closer to the ideal distribution than those mapped in the default way."
   ]
  },
  {
   "cell_type": "code",
   "execution_count": null,
   "metadata": {},
   "outputs": [],
   "source": []
  }
 ],
 "metadata": {
  "kernelspec": {
   "display_name": "Python 3",
   "language": "python",
   "name": "python3"
  },
  "language_info": {
   "codemirror_mode": {
    "name": "ipython",
    "version": 3
   },
   "file_extension": ".py",
   "mimetype": "text/x-python",
   "name": "python",
   "nbconvert_exporter": "python",
   "pygments_lexer": "ipython3",
   "version": "3.7.3"
  }
 },
 "nbformat": 4,
 "nbformat_minor": 2
}
