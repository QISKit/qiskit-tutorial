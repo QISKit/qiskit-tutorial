{
 "cells": [
  {
   "cell_type": "markdown",
   "metadata": {},
   "source": [
    "<img src=\"../../images/qiskit-heading.gif\" alt=\"Note: In order for images to show up in this jupyter notebook you need to select File => Trusted Notebook\" width=\"500 px\" align=\"left\">"
   ]
  },
  {
   "cell_type": "markdown",
   "metadata": {},
   "source": [
    "\n",
    "\n",
    "# _*Exercises*_\n",
    "\n",
    "The latest version of this notebook is available on https://github.com/qiskit/qiskit-tutorial.\n",
    "\n",
    "This notebook is aimed to help you understand the content of notebooks in this folder by working on the problems listed.\n",
    "\n",
    "You'll need to run the cells to use this tutorial. To run a cell, do the following.\n",
    "\n",
    "* For laptops and desktops, click on the cell and press **Shift-Enter**.\n",
    "\n",
    "* For mobile devices, tap on the icon that appears to the left of a cell.\n",
    "\n",
    "Get started by doing this for the cell below (it will take a second or two to run)."
   ]
  },
  {
   "cell_type": "code",
   "execution_count": 1,
   "metadata": {},
   "outputs": [],
   "source": [
    "#importing array and useful math functions\n",
    "import numpy as np\n",
    "\n",
    "#importing circuits and registers\n",
    "from qiskit import QuantumCircuit, ClassicalRegister, QuantumRegister\n",
    "\n",
    "#importing backends and running environment\n",
    "from qiskit import BasicAer, execute"
   ]
  },
  {
   "cell_type": "markdown",
   "metadata": {},
   "source": [
    "\n",
    "## Problem 1: Playing with Circuits\n",
    "\n",
    "Q: Prepare two quantum registers each of which has size 2 qubits, and a quantum register consisting of 4 bits."
   ]
  },
  {
   "cell_type": "code",
   "execution_count": 2,
   "metadata": {},
   "outputs": [],
   "source": [
    "qr1 = QuantumRegister(2)\n",
    "qr2 = QuantumRegister(2)\n",
    "cr  = ClassicalRegister(4)"
   ]
  },
  {
   "cell_type": "markdown",
   "metadata": {},
   "source": [
    "Q: Create a circuit using the above registers."
   ]
  },
  {
   "cell_type": "code",
   "execution_count": 3,
   "metadata": {
    "collapsed": true
   },
   "outputs": [],
   "source": [
    "qc  = QuantumCircuit(qr1, qr2, cr)"
   ]
  },
  {
   "cell_type": "markdown",
   "metadata": {},
   "source": [
    "Q: Apply NOT gate and the Hadamard gate to the the first qubit of the first register. Then, apply the controlled NOT with the first qubit as control on the first register."
   ]
  },
  {
   "cell_type": "code",
   "execution_count": 4,
   "metadata": {},
   "outputs": [
    {
     "data": {
      "text/plain": [
       "<qiskit.extensions.standard.cx.CnotGate at 0x10a65ec50>"
      ]
     },
     "execution_count": 4,
     "metadata": {},
     "output_type": "execute_result"
    }
   ],
   "source": [
    "qc.x(qr1[0])\n",
    "qc.h(qr1[0])\n",
    "qc.cx(qr1[0], qr1[1])"
   ]
  },
  {
   "cell_type": "markdown",
   "metadata": {},
   "source": [
    "Apply the Hadamard gate to the second qubit of the second register. Then, apply the controlled NOT with the second qubit as control on the second register."
   ]
  },
  {
   "cell_type": "code",
   "execution_count": 5,
   "metadata": {},
   "outputs": [
    {
     "data": {
      "text/plain": [
       "<qiskit.extensions.standard.cx.CnotGate at 0x105afdc88>"
      ]
     },
     "execution_count": 5,
     "metadata": {},
     "output_type": "execute_result"
    }
   ],
   "source": [
    "qc.h(qr2[1])\n",
    "qc.cx(qr2[1], qr2[0])"
   ]
  },
  {
   "cell_type": "markdown",
   "metadata": {},
   "source": [
    "Q: Draw the circuit."
   ]
  },
  {
   "cell_type": "code",
   "execution_count": 6,
   "metadata": {},
   "outputs": [
    {
     "data": {
      "text/html": [
       "<pre style=\"word-wrap: normal;white-space: pre;line-height: 15px;\">                   ┌───┐┌───┐     \n",
       "q0_0: |0>──────────┤ X ├┤ H ├──■──\n",
       "                   └───┘└───┘┌─┴─┐\n",
       "q0_1: |0>────────────────────┤ X ├\n",
       "              ┌───┐          └───┘\n",
       "q1_0: |0>─────┤ X ├───────────────\n",
       "         ┌───┐└─┬─┘               \n",
       "q1_1: |0>┤ H ├──■─────────────────\n",
       "         └───┘                    \n",
       " c0_0: 0 ═════════════════════════\n",
       "                                  \n",
       " c0_1: 0 ═════════════════════════\n",
       "                                  \n",
       " c0_2: 0 ═════════════════════════\n",
       "                                  \n",
       " c0_3: 0 ═════════════════════════\n",
       "                                  </pre>"
      ],
      "text/plain": [
       "<qiskit.tools.visualization._text.TextDrawing at 0x10a65e710>"
      ]
     },
     "execution_count": 6,
     "metadata": {},
     "output_type": "execute_result"
    }
   ],
   "source": [
    "qc.draw()"
   ]
  },
  {
   "cell_type": "markdown",
   "metadata": {},
   "source": [
    "Q: Create another circuit consisting of the same register as the first circuit. Apply the controlled NOT gate with the second qubit of the first register as control and the first qubit of the second register as target to the circuit. And, draw the circuit. "
   ]
  },
  {
   "cell_type": "code",
   "execution_count": 7,
   "metadata": {},
   "outputs": [
    {
     "data": {
      "text/html": [
       "<pre style=\"word-wrap: normal;white-space: pre;line-height: 15px;\">              \n",
       "q0_0: |0>─────\n",
       "              \n",
       "q0_1: |0>──■──\n",
       "         ┌─┴─┐\n",
       "q1_0: |0>┤ X ├\n",
       "         └───┘\n",
       "q1_1: |0>─────\n",
       "              \n",
       " c0_0: 0 ═════\n",
       "              \n",
       " c0_1: 0 ═════\n",
       "              \n",
       " c0_2: 0 ═════\n",
       "              \n",
       " c0_3: 0 ═════\n",
       "              </pre>"
      ],
      "text/plain": [
       "<qiskit.tools.visualization._text.TextDrawing at 0x10b71a048>"
      ]
     },
     "execution_count": 7,
     "metadata": {},
     "output_type": "execute_result"
    }
   ],
   "source": [
    "other_qc = QuantumCircuit(qr1, qr2, cr)\n",
    "other_qc.cx(qr1[1], qr2[0])\n",
    "other_qc.draw()"
   ]
  },
  {
   "cell_type": "markdown",
   "metadata": {},
   "source": [
    "Q: What are the numbers of tensor factors of the first and second circuits? "
   ]
  },
  {
   "cell_type": "code",
   "execution_count": 8,
   "metadata": {},
   "outputs": [
    {
     "name": "stdout",
     "output_type": "stream",
     "text": [
      "6 7\n"
     ]
    }
   ],
   "source": [
    "print(qc.num_tensor_factors(), other_qc.num_tensor_factors())"
   ]
  },
  {
   "cell_type": "markdown",
   "metadata": {},
   "source": [
    "Q: Create another circuit by appending the second circuit to the first circuit."
   ]
  },
  {
   "cell_type": "code",
   "execution_count": 9,
   "metadata": {},
   "outputs": [
    {
     "data": {
      "text/html": [
       "<pre style=\"word-wrap: normal;white-space: pre;line-height: 15px;\">                   ┌───┐┌───┐          \n",
       "q0_0: |0>──────────┤ X ├┤ H ├──■───────\n",
       "                   └───┘└───┘┌─┴─┐     \n",
       "q0_1: |0>────────────────────┤ X ├──■──\n",
       "              ┌───┐          └───┘┌─┴─┐\n",
       "q1_0: |0>─────┤ X ├───────────────┤ X ├\n",
       "         ┌───┐└─┬─┘               └───┘\n",
       "q1_1: |0>┤ H ├──■──────────────────────\n",
       "         └───┘                         \n",
       " c0_0: 0 ══════════════════════════════\n",
       "                                       \n",
       " c0_1: 0 ══════════════════════════════\n",
       "                                       \n",
       " c0_2: 0 ══════════════════════════════\n",
       "                                       \n",
       " c0_3: 0 ══════════════════════════════\n",
       "                                       </pre>"
      ],
      "text/plain": [
       "<qiskit.tools.visualization._text.TextDrawing at 0x10a65e860>"
      ]
     },
     "execution_count": 9,
     "metadata": {},
     "output_type": "execute_result"
    }
   ],
   "source": [
    "new_qc = qc + other_qc\n",
    "new_qc.draw()"
   ]
  },
  {
   "cell_type": "markdown",
   "metadata": {},
   "source": [
    "Q: Create a measurement circuit that store the result of measuring quantum registers to the classical register."
   ]
  },
  {
   "cell_type": "code",
   "execution_count": 10,
   "metadata": {},
   "outputs": [
    {
     "data": {
      "text/html": [
       "<pre style=\"word-wrap: normal;white-space: pre;line-height: 15px;\">                  ┌─┐\n",
       "q0_0: |0>─────────┤M├\n",
       "               ┌─┐└╥┘\n",
       "q0_1: |0>──────┤M├─╫─\n",
       "            ┌─┐└╥┘ ║ \n",
       "q1_0: |0>───┤M├─╫──╫─\n",
       "         ┌─┐└╥┘ ║  ║ \n",
       "q1_1: |0>┤M├─╫──╫──╫─\n",
       "         └╥┘ ║  ║  ║ \n",
       " c0_0: 0 ═╬══╬══╬══╩═\n",
       "          ║  ║  ║    \n",
       " c0_1: 0 ═╬══╬══╩════\n",
       "          ║  ║       \n",
       " c0_2: 0 ═╬══╩═══════\n",
       "          ║          \n",
       " c0_3: 0 ═╩══════════\n",
       "                     </pre>"
      ],
      "text/plain": [
       "<qiskit.tools.visualization._text.TextDrawing at 0x10b700828>"
      ]
     },
     "execution_count": 10,
     "metadata": {},
     "output_type": "execute_result"
    }
   ],
   "source": [
    "measure_qc = QuantumCircuit(qr1, qr2, cr)\n",
    "measure_qc.measure(qr1[0], cr[0])\n",
    "measure_qc.measure(qr1[1], cr[1])\n",
    "measure_qc.measure(qr2[0], cr[2])\n",
    "measure_qc.measure(qr2[1], cr[3])\n",
    "measure_qc.draw()"
   ]
  },
  {
   "cell_type": "markdown",
   "metadata": {},
   "source": [
    "Q: Add the measurement circuit to the combined quantum circuit by first applying barrier. "
   ]
  },
  {
   "cell_type": "code",
   "execution_count": 11,
   "metadata": {},
   "outputs": [
    {
     "data": {
      "text/html": [
       "<pre style=\"word-wrap: normal;white-space: pre;line-height: 15px;\">                   ┌───┐┌───┐           ░          ┌─┐\n",
       "q0_0: |0>──────────┤ X ├┤ H ├──■────────░──────────┤M├\n",
       "                   └───┘└───┘┌─┴─┐      ░       ┌─┐└╥┘\n",
       "q0_1: |0>────────────────────┤ X ├──■───░───────┤M├─╫─\n",
       "              ┌───┐          └───┘┌─┴─┐ ░    ┌─┐└╥┘ ║ \n",
       "q1_0: |0>─────┤ X ├───────────────┤ X ├─░────┤M├─╫──╫─\n",
       "         ┌───┐└─┬─┘               └───┘ ░ ┌─┐└╥┘ ║  ║ \n",
       "q1_1: |0>┤ H ├──■───────────────────────░─┤M├─╫──╫──╫─\n",
       "         └───┘                          ░ └╥┘ ║  ║  ║ \n",
       " c0_0: 0 ══════════════════════════════════╬══╬══╬══╩═\n",
       "                                           ║  ║  ║    \n",
       " c0_1: 0 ══════════════════════════════════╬══╬══╩════\n",
       "                                           ║  ║       \n",
       " c0_2: 0 ══════════════════════════════════╬══╩═══════\n",
       "                                           ║          \n",
       " c0_3: 0 ══════════════════════════════════╩══════════\n",
       "                                                      </pre>"
      ],
      "text/plain": [
       "<qiskit.tools.visualization._text.TextDrawing at 0x10b71ad30>"
      ]
     },
     "execution_count": 11,
     "metadata": {},
     "output_type": "execute_result"
    }
   ],
   "source": [
    "new_qc.barrier(qr1, qr2)\n",
    "new_qc += measure_qc\n",
    "new_qc.draw()"
   ]
  },
  {
   "cell_type": "markdown",
   "metadata": {},
   "source": [
    "Q: What is the number of tensor factor of the final circuit? "
   ]
  },
  {
   "cell_type": "code",
   "execution_count": 12,
   "metadata": {},
   "outputs": [
    {
     "data": {
      "text/plain": [
       "1"
      ]
     },
     "execution_count": 12,
     "metadata": {},
     "output_type": "execute_result"
    }
   ],
   "source": [
    "new_qc.num_tensor_factors()"
   ]
  },
  {
   "cell_type": "markdown",
   "metadata": {},
   "source": [
    "Q: Run the circuit on the local simulator backend."
   ]
  },
  {
   "cell_type": "code",
   "execution_count": 17,
   "metadata": {},
   "outputs": [
    {
     "data": {
      "image/png": "[encoded data removed]",
      "text/plain": [
       "<matplotlib.figure.Figure at 0x109b58c50>"
      ]
     },
     "execution_count": 17,
     "metadata": {},
     "output_type": "execute_result"
    }
   ],
   "source": [
    "backend = BasicAer.get_backend('qasm_simulator') # run on local simulator by default\n",
    "job = execute([new_qc], backend)\n",
    "result = job.result()\n",
    "\n",
    "# import basic plot tools\n",
    "from qiskit.tools.visualization import plot_histogram\n",
    "plot_histogram(result.get_counts(new_qc))"
   ]
  },
  {
   "cell_type": "markdown",
   "metadata": {},
   "source": [
    "## Problem 2: Circuit Equivalence\n",
    "\n",
    "Q: Create a quantum circuit that consists of a two-qubit quantum register and a two-bit classical register. "
   ]
  },
  {
   "cell_type": "code",
   "execution_count": 13,
   "metadata": {
    "collapsed": true
   },
   "outputs": [],
   "source": [
    "qr = QuantumRegister(2)\n",
    "cr = ClassicalRegister(2)\n",
    "qc = QuantumCircuit(qr, cr)"
   ]
  },
  {
   "cell_type": "markdown",
   "metadata": {},
   "source": [
    "### Swap gate\n",
    "\n",
    "Q: Add three controlled NOT gates to the circuit as follows: apply the controlled NOT with the first qubit as control, and then the controlled NOT with the second qubit as control, and the controlled NOT with the first qubit as control. "
   ]
  },
  {
   "cell_type": "code",
   "execution_count": 14,
   "metadata": {},
   "outputs": [
    {
     "data": {
      "text/html": [
       "<pre style=\"word-wrap: normal;white-space: pre;line-height: 15px;\">              ┌───┐     \n",
       "q2_0: |0>──■──┤ X ├──■──\n",
       "         ┌─┴─┐└─┬─┘┌─┴─┐\n",
       "q2_1: |0>┤ X ├──■──┤ X ├\n",
       "         └───┘     └───┘\n",
       " c1_0: 0 ═══════════════\n",
       "                        \n",
       " c1_1: 0 ═══════════════\n",
       "                        </pre>"
      ],
      "text/plain": [
       "<qiskit.tools.visualization._text.TextDrawing at 0x10b71a128>"
      ]
     },
     "execution_count": 14,
     "metadata": {},
     "output_type": "execute_result"
    }
   ],
   "source": [
    "qc.cx(qr[0], qr[1])\n",
    "qc.cx(qr[1], qr[0])\n",
    "qc.cx(qr[0], qr[1])\n",
    "qc.draw()"
   ]
  },
  {
   "cell_type": "markdown",
   "metadata": {},
   "source": [
    "Q: Show that the above circuit swaps the first qubit to the second qubit. \n",
    "(*HINT: Straightforwardly by checking all possible classical inputs (bases) and seeing the outputs*)"
   ]
  },
  {
   "cell_type": "code",
   "execution_count": null,
   "metadata": {
    "collapsed": true
   },
   "outputs": [],
   "source": []
  },
  {
   "cell_type": "markdown",
   "metadata": {},
   "source": [
    "Q: Create another circuit that consists of three controlled NOT gates on the same registers as the first circuit as follows: apply the controlled NOT with the second qubit as control, and then the controlled NOT with the first qubit as control, and the controlled NOT with the second qubit as control. "
   ]
  },
  {
   "cell_type": "code",
   "execution_count": 18,
   "metadata": {},
   "outputs": [
    {
     "data": {
      "text/html": [
       "<pre style=\"word-wrap: normal;white-space: pre;line-height: 15px;\">         ┌───┐     ┌───┐\n",
       "q2_0: |0>┤ X ├──■──┤ X ├\n",
       "         └─┬─┘┌─┴─┐└─┬─┘\n",
       "q2_1: |0>──■──┤ X ├──■──\n",
       "              └───┘     \n",
       " c1_0: 0 ═══════════════\n",
       "                        \n",
       " c1_1: 0 ═══════════════\n",
       "                        </pre>"
      ],
      "text/plain": [
       "<qiskit.tools.visualization._text.TextDrawing at 0x10b738390>"
      ]
     },
     "execution_count": 18,
     "metadata": {},
     "output_type": "execute_result"
    }
   ],
   "source": [
    "qc2 = QuantumCircuit(qr, cr)\n",
    "qc2.cx(qr[1], qr[0])\n",
    "qc2.cx(qr[0], qr[1])\n",
    "qc2.cx(qr[1], qr[0])\n",
    "qc2.draw()"
   ]
  },
  {
   "cell_type": "markdown",
   "metadata": {},
   "source": [
    "Q: Show that the above circuit is equal to the first swap circuit. (*HINT: append the second circuit to the first circuit and run the resulting circuit on all possible input bits*)"
   ]
  },
  {
   "cell_type": "code",
   "execution_count": null,
   "metadata": {
    "collapsed": true
   },
   "outputs": [],
   "source": []
  },
  {
   "cell_type": "markdown",
   "metadata": {},
   "source": [
    "## Problem 3: Equivalence up to the Global Phase"
   ]
  },
  {
   "cell_type": "markdown",
   "metadata": {},
   "source": [
    "Q: Create a quantum circuit which consist of a two-qubit quantum register and a two-bit classical register. "
   ]
  },
  {
   "cell_type": "code",
   "execution_count": 20,
   "metadata": {
    "collapsed": true
   },
   "outputs": [],
   "source": [
    "qr = QuantumRegister(2)\n",
    "cr = ClassicalRegister(2)\n",
    "qc = QuantumCircuit(qr, cr)"
   ]
  },
  {
   "cell_type": "markdown",
   "metadata": {},
   "source": [
    "Q: Using the above circuit, show that the X (or, NOT) gate is equal to the $u3$ gate with parameters $(\\pi, 0, \\pi)$. Those gates are equivalence up to the global phase. "
   ]
  },
  {
   "cell_type": "code",
   "execution_count": null,
   "metadata": {
    "collapsed": true
   },
   "outputs": [],
   "source": []
  },
  {
   "cell_type": "markdown",
   "metadata": {},
   "source": [
    "Q: Using the above circuit, show that the controlled NOT gate is not equal to the controlled-$u3(\\pi,0,\\pi)$ gate. Notice that eventhough two single-qubit gates are equivalent up to the global phase, their controlled gates can be different. "
   ]
  },
  {
   "cell_type": "code",
   "execution_count": null,
   "metadata": {
    "collapsed": true
   },
   "outputs": [],
   "source": []
  },
  {
   "cell_type": "markdown",
   "metadata": {},
   "source": [
    "# Contributing\n",
    "\n",
    "We welcome feedback and new problems to be added to this notebook."
   ]
  }
 ],
 "metadata": {
  "kernelspec": {
   "display_name": "QISKitenv",
   "language": "python",
   "name": "qiskitenv"
  },
  "language_info": {
   "codemirror_mode": {
    "name": "ipython",
    "version": 3
   },
   "file_extension": ".py",
   "mimetype": "text/x-python",
   "name": "python",
   "nbconvert_exporter": "python",
   "pygments_lexer": "ipython3",
   "version": "3.6.2"
  }
 },
 "nbformat": 4,
 "nbformat_minor": 2
}
