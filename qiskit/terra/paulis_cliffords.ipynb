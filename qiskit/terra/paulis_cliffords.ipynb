{
 "cells": [
  {
   "cell_type": "markdown",
   "metadata": {},
   "source": [
    "<img src=\"../../images/qiskit-heading.gif\" alt=\"Note: In order for images to show up in this jupyter notebook you need to select File => Trusted Notebook\" width=\"500 px\" align=\"left\">"
   ]
  },
  {
   "cell_type": "markdown",
   "metadata": {},
   "source": [
    "# Pauli's, and Clifford's"
   ]
  },
  {
   "cell_type": "markdown",
   "metadata": {},
   "source": [
    "This document defines data structures and standard subroutines for Pauli operators, Clifford operators, and stabilizer states."
   ]
  },
  {
   "cell_type": "code",
   "execution_count": 1,
   "metadata": {},
   "outputs": [],
   "source": [
    "import numpy as np\n",
    "from qiskit.quantum_info import Pauli, pauli_group"
   ]
  },
  {
   "cell_type": "markdown",
   "metadata": {},
   "source": [
    "# Notation \n",
    "\n",
    "Bit strings are considered as vectors. Given vectors $u,v \\in \\{0,1\\}^n$ let $u\\cdot v =  􏰂\\sum_{j=0}^{n-1} u_jv_j$. We shall use the notation $\\oplus$ for the addition of binary vectors modulo two. Define basis vectors\n",
    "\n",
    "$$e^0 = 100...0$$\n",
    "$$e^1 = 010...0$$ \n",
    "$$e^2 = 001...0$$ \n",
    "\n",
    "etc.\n",
    "\n",
    "If $M$ is a binary matrix with n rows then the $j$-th row of $M$ is $e^jM$. "
   ]
  },
  {
   "cell_type": "markdown",
   "metadata": {},
   "source": [
    "## Pauli Group\n",
    "\n",
    "Given a single-qubit operator $P$ let $P(v) = P^{v_{n-1}} \\otimes···\\otimes P^{v_0}$. We write $P_j$ for the application of $P$ to a qubit $j$, that is, $P_j  \\equiv  P(e^j)$. Single-qubit Pauli operators are denoted $X$, $Y$, $Z$.\n",
    "\n",
    "$$X = \\begin{pmatrix} 0 & 1  \\\\  1 & 0\\\\\\end{pmatrix} ~~ Y = \\begin{pmatrix} 0 & -i  \\\\  i & 0\\\\\\end{pmatrix} ~~ Z = \\begin{pmatrix} 1 & 0  \\\\  0 & -1\\\\\\end{pmatrix}$$\n",
    "\n",
    "Here we see that $ ZX = iY$"
   ]
  },
  {
   "cell_type": "code",
   "execution_count": 2,
   "metadata": {},
   "outputs": [
    {
     "name": "stdout",
     "output_type": "stream",
     "text": [
      "[[ True  True]\n",
      " [ True  True]]\n"
     ]
    }
   ],
   "source": [
    "X = np.array([[0, 1], [1, 0]])\n",
    "Y = np.array([[0, -1j], [1j, 0]])\n",
    "Z = np.array([[1, 0], [0, -1]])\n",
    "\n",
    "print(np.dot(Z,X)==1j*Y)"
   ]
  },
  {
   "cell_type": "markdown",
   "metadata": {},
   "source": [
    "In Qiskit Terra we represent a Pauli operator P acting on n qubits by  a pair of binary vectors $z, x \\in \\{0, 1\\}^n$ such that\n",
    "\n",
    "$$\\begin{equation} P_{zx} = (-i)^{z\\dot x}  Z^z X^x\\end{equation} $$\n",
    "\n",
    "where z and x are elements of $Z_2^n$. That is, there are $4^n$ elements (no phases in this group). The term $(-i)^{z\\dot x}$ essentially counts the number of times the elements of $z$ and $x$ are 1.\n",
    "\n",
    "Pauli multiplication rules are\n",
    "\n",
    "$$PP′ =(-i)^{(z\\oplus z′)\\dot (x\\oplus x′)} (-1)^{x·z′}Z(z\\oplus z′)X(x\\oplus x′)$$.\n",
    "\n",
    "\n",
    "Furthemore,\n",
    "\n",
    "$$PP′ = (−1)^{z·x′+z·x′}P′P$$\n",
    "\n",
    "The cost of Pauli multiplication Eq. (2) is roughly 3n arithmetic operations\n",
    "\n",
    "<div class=\"alert alert-block alert-info\">\n",
    "<b>Ref:</b> Jeroen Dehaene and Bart De Moor, \"Clifford group, stabilizer states, and linear and quadratic operations over GF(2)\", Phys. Rev. A 68, 042318 (2003).\n",
    "</div>\n",
    "\n",
    "In Qiskit we can instantiate a Pauli using:\n",
    "- labels, `Pauli(label='IXZY')` (tensor order is $Q_n\\otimes...\\otimes Q_1\\otimes Q_0$)\n",
    "- bool vectors `Pauli([True, True, False, False], [True, False, True, False])` (vector order $[q_1, q_2,...,q_n]$\n",
    "- 0,1 vectors `Pauli([1, 1, 0, 0], [1, 0, 1, 0])` (vector order $[q_1, q_2,...,q_n]$"
   ]
  },
  {
   "cell_type": "code",
   "execution_count": 3,
   "metadata": {},
   "outputs": [
    {
     "data": {
      "text/plain": [
       "Pauli(z=[True, True, False, False], x=[True, False, True, False])"
      ]
     },
     "execution_count": 3,
     "metadata": {},
     "output_type": "execute_result"
    }
   ],
   "source": [
    "a = Pauli(label='IXZY')\n",
    "b = Pauli([True, True, False, False], [True, False, True, False])\n",
    "c = Pauli([1, 1, 0, 0], [1, 0, 1, 0])\n",
    "c"
   ]
  },
  {
   "cell_type": "markdown",
   "metadata": {},
   "source": [
    "showing that all these are the same"
   ]
  },
  {
   "cell_type": "code",
   "execution_count": 4,
   "metadata": {},
   "outputs": [
    {
     "data": {
      "text/plain": [
       "True"
      ]
     },
     "execution_count": 4,
     "metadata": {},
     "output_type": "execute_result"
    }
   ],
   "source": [
    "a==b"
   ]
  },
  {
   "cell_type": "code",
   "execution_count": 5,
   "metadata": {},
   "outputs": [
    {
     "data": {
      "text/plain": [
       "True"
      ]
     },
     "execution_count": 5,
     "metadata": {},
     "output_type": "execute_result"
    }
   ],
   "source": [
    "a==c"
   ]
  },
  {
   "cell_type": "markdown",
   "metadata": {},
   "source": [
    "and `print(pauli)` will return the label representation "
   ]
  },
  {
   "cell_type": "code",
   "execution_count": 6,
   "metadata": {},
   "outputs": [
    {
     "name": "stdout",
     "output_type": "stream",
     "text": [
      "IXZY\n"
     ]
    }
   ],
   "source": [
    "print(a)"
   ]
  },
  {
   "cell_type": "markdown",
   "metadata": {},
   "source": [
    "The number of qubits can be obtained using `pauli.a`"
   ]
  },
  {
   "cell_type": "code",
   "execution_count": 7,
   "metadata": {},
   "outputs": [
    {
     "data": {
      "text/plain": [
       "4"
      ]
     },
     "execution_count": 7,
     "metadata": {},
     "output_type": "execute_result"
    }
   ],
   "source": [
    "a.numberofqubits"
   ]
  },
  {
   "cell_type": "markdown",
   "metadata": {},
   "source": [
    "### Single qubit Pauli Group\n",
    "In this representation all the single qubit Pauli's are\n",
    "\n",
    "$$P_{00} = Z^0 X^0 = I$$\n",
    "$$P_{01} = X$$\n",
    "$$P_{10} = Z$$\n",
    "$$P_{11} = -iZX = (-i) iY = Y$$"
   ]
  },
  {
   "cell_type": "code",
   "execution_count": 8,
   "metadata": {},
   "outputs": [],
   "source": [
    "I = Pauli([0], [0])\n",
    "X = Pauli(label='X')\n",
    "Z = Pauli([True], [False])\n",
    "Y = Pauli([1], [1])"
   ]
  },
  {
   "cell_type": "code",
   "execution_count": 9,
   "metadata": {},
   "outputs": [
    {
     "data": {
      "text/plain": [
       "Pauli(z=[False], x=[False])"
      ]
     },
     "execution_count": 9,
     "metadata": {},
     "output_type": "execute_result"
    }
   ],
   "source": [
    "I"
   ]
  },
  {
   "cell_type": "code",
   "execution_count": 10,
   "metadata": {},
   "outputs": [
    {
     "name": "stdout",
     "output_type": "stream",
     "text": [
      "X\n"
     ]
    }
   ],
   "source": [
    "print(X)"
   ]
  },
  {
   "cell_type": "code",
   "execution_count": 11,
   "metadata": {},
   "outputs": [
    {
     "data": {
      "text/plain": [
       "'Y'"
      ]
     },
     "execution_count": 11,
     "metadata": {},
     "output_type": "execute_result"
    }
   ],
   "source": [
    "Y.to_label()"
   ]
  },
  {
   "cell_type": "code",
   "execution_count": 12,
   "metadata": {},
   "outputs": [
    {
     "data": {
      "text/plain": [
       "'Z'"
      ]
     },
     "execution_count": 12,
     "metadata": {},
     "output_type": "execute_result"
    }
   ],
   "source": [
    "str(Z)"
   ]
  },
  {
   "cell_type": "markdown",
   "metadata": {},
   "source": [
    "These can be converted into a matrix or sparse matrix"
   ]
  },
  {
   "cell_type": "code",
   "execution_count": 13,
   "metadata": {},
   "outputs": [
    {
     "data": {
      "text/plain": [
       "array([[0, 1],\n",
       "       [1, 0]], dtype=int64)"
      ]
     },
     "execution_count": 13,
     "metadata": {},
     "output_type": "execute_result"
    }
   ],
   "source": [
    "X.to_matrix()"
   ]
  },
  {
   "cell_type": "code",
   "execution_count": 14,
   "metadata": {},
   "outputs": [
    {
     "data": {
      "text/plain": [
       "<2x2 sparse matrix of type '<class 'numpy.int64'>'\n",
       "\twith 2 stored elements in Compressed Sparse Row format>"
      ]
     },
     "execution_count": 14,
     "metadata": {},
     "output_type": "execute_result"
    }
   ],
   "source": [
    "Z.to_spmatrix()"
   ]
  },
  {
   "cell_type": "markdown",
   "metadata": {},
   "source": [
    "Testing the overloading of multiplication "
   ]
  },
  {
   "cell_type": "code",
   "execution_count": 15,
   "metadata": {},
   "outputs": [
    {
     "data": {
      "text/plain": [
       "True"
      ]
     },
     "execution_count": 15,
     "metadata": {},
     "output_type": "execute_result"
    }
   ],
   "source": [
    "ytest = X*Z\n",
    "ytest == Y"
   ]
  },
  {
   "cell_type": "markdown",
   "metadata": {},
   "source": [
    "To get a random Pauli from the Pauli group use:"
   ]
  },
  {
   "cell_type": "code",
   "execution_count": 16,
   "metadata": {},
   "outputs": [
    {
     "data": {
      "text/plain": [
       "Pauli(z=[True], x=[True])"
      ]
     },
     "execution_count": 16,
     "metadata": {},
     "output_type": "execute_result"
    }
   ],
   "source": [
    "Pauli.random(1)"
   ]
  },
  {
   "cell_type": "markdown",
   "metadata": {},
   "source": [
    "To list all the elements of the Pauli group use:"
   ]
  },
  {
   "cell_type": "code",
   "execution_count": 17,
   "metadata": {},
   "outputs": [
    {
     "data": {
      "text/plain": [
       "[Pauli(z=[False], x=[False]),\n",
       " Pauli(z=[False], x=[True]),\n",
       " Pauli(z=[True], x=[True]),\n",
       " Pauli(z=[True], x=[False])]"
      ]
     },
     "execution_count": 17,
     "metadata": {},
     "output_type": "execute_result"
    }
   ],
   "source": [
    "pauli_group(1)"
   ]
  },
  {
   "cell_type": "markdown",
   "metadata": {},
   "source": [
    "### Two qubit Pauli Group\n",
    "\n"
   ]
  },
  {
   "cell_type": "markdown",
   "metadata": {},
   "source": [
    "The tensor order is $Q_2\\otimes Q_1$. For example consider the pauli with qubit 0 as $X$ and qubit 1 as $I$."
   ]
  },
  {
   "cell_type": "code",
   "execution_count": 18,
   "metadata": {},
   "outputs": [],
   "source": [
    "IX = Pauli(label='IX')"
   ]
  },
  {
   "cell_type": "code",
   "execution_count": 19,
   "metadata": {},
   "outputs": [
    {
     "data": {
      "text/plain": [
       "array([[0, 1, 0, 0],\n",
       "       [1, 0, 0, 0],\n",
       "       [0, 0, 0, 1],\n",
       "       [0, 0, 1, 0]], dtype=int64)"
      ]
     },
     "execution_count": 19,
     "metadata": {},
     "output_type": "execute_result"
    }
   ],
   "source": [
    "IX.to_matrix()"
   ]
  },
  {
   "cell_type": "code",
   "execution_count": 20,
   "metadata": {},
   "outputs": [
    {
     "data": {
      "text/plain": [
       "array([[0., 1., 0., 0.],\n",
       "       [1., 0., 0., 0.],\n",
       "       [0., 0., 0., 1.],\n",
       "       [0., 0., 1., 0.]])"
      ]
     },
     "execution_count": 20,
     "metadata": {},
     "output_type": "execute_result"
    }
   ],
   "source": [
    "np.kron(np.eye(2),X.to_matrix())"
   ]
  },
  {
   "cell_type": "markdown",
   "metadata": {},
   "source": [
    "The vector order is $x=[q_1, q_2]$ and $z=[q_1, q_2]$"
   ]
  },
  {
   "cell_type": "code",
   "execution_count": 21,
   "metadata": {},
   "outputs": [
    {
     "data": {
      "text/plain": [
       "array([[0, 1, 0, 0],\n",
       "       [1, 0, 0, 0],\n",
       "       [0, 0, 0, 1],\n",
       "       [0, 0, 1, 0]], dtype=int64)"
      ]
     },
     "execution_count": 21,
     "metadata": {},
     "output_type": "execute_result"
    }
   ],
   "source": [
    "Pauli([0,0],[1,0]).to_matrix()"
   ]
  },
  {
   "cell_type": "markdown",
   "metadata": {},
   "source": [
    "The `pauli_group` supports two different orders \n",
    "\n",
    "- `case='weight'` is ordered by Pauli weights and is default\n",
    "- `case='tensor'` is ordered by I,X,Y,Z counting first qubit fastest"
   ]
  },
  {
   "cell_type": "code",
   "execution_count": 22,
   "metadata": {
    "scrolled": true
   },
   "outputs": [
    {
     "name": "stdout",
     "output_type": "stream",
     "text": [
      "['II', 'IX', 'IY', 'IZ', 'XI', 'YI', 'ZI', 'XX', 'XY', 'XZ', 'YX', 'YY', 'YZ', 'ZX', 'ZY', 'ZZ']\n"
     ]
    }
   ],
   "source": [
    "p2 = pauli_group(2)\n",
    "print([x.to_label() for x in p2])"
   ]
  },
  {
   "cell_type": "code",
   "execution_count": 23,
   "metadata": {},
   "outputs": [
    {
     "name": "stdout",
     "output_type": "stream",
     "text": [
      "['II', 'IX', 'IY', 'IZ', 'XI', 'XX', 'XY', 'XZ', 'YI', 'YX', 'YY', 'YZ', 'ZI', 'ZX', 'ZY', 'ZZ']\n"
     ]
    }
   ],
   "source": [
    "p2 = pauli_group(2, case='tensor')\n",
    "print([x.to_label() for x in p2])"
   ]
  },
  {
   "cell_type": "markdown",
   "metadata": {},
   "source": [
    "## Cliffords\n",
    "\n",
    "to be added later"
   ]
  },
  {
   "cell_type": "code",
   "execution_count": null,
   "metadata": {},
   "outputs": [],
   "source": []
  }
 ],
 "metadata": {
  "kernelspec": {
   "display_name": "Python 3",
   "language": "python",
   "name": "python3"
  },
  "language_info": {
   "codemirror_mode": {
    "name": "ipython",
    "version": 3
   },
   "file_extension": ".py",
   "mimetype": "text/x-python",
   "name": "python",
   "nbconvert_exporter": "python",
   "pygments_lexer": "ipython3",
   "version": "3.6.7"
  }
 },
 "nbformat": 4,
 "nbformat_minor": 2
}
