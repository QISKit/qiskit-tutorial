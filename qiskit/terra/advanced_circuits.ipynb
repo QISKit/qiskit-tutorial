{
 "cells": [
  {
   "cell_type": "markdown",
   "metadata": {},
   "source": [
    "<img src=\"../../images/qiskit-heading.gif\" width=\"500px\" align=\"left\">"
   ]
  },
  {
   "cell_type": "markdown",
   "metadata": {},
   "source": [
    "# Terra 0.8 - Circuit API Updates"
   ]
  },
  {
   "cell_type": "markdown",
   "metadata": {},
   "source": [
    "In this tutorial, we'll introduce three new components of the Terra circuit building API, added in the Terra 0.8 release with the goal of facilitating circuit construction, reducing boilerplate, and aiding reuse through composition and parameterization."
   ]
  },
  {
   "cell_type": "code",
   "execution_count": 1,
   "metadata": {
    "ExecuteTime": {
     "end_time": "2019-05-07T13:23:49.900204Z",
     "start_time": "2019-05-07T13:23:47.960735Z"
    }
   },
   "outputs": [],
   "source": [
    "from qiskit import QuantumCircuit, QuantumRegister, ClassicalRegister"
   ]
  },
  {
   "cell_type": "markdown",
   "metadata": {},
   "source": [
    "## 1. Optional registers\n",
    "\n",
    "When not planning to make use of multiple registers, register declarations can amount to unneeded overhead.\n",
    "Terra 0.8 adds more concise syntax to create and build circuits without explicit register declaration."
   ]
  },
  {
   "cell_type": "markdown",
   "metadata": {},
   "source": [
    "### Registerless `QuantumCircuit` declaration"
   ]
  },
  {
   "cell_type": "markdown",
   "metadata": {},
   "source": [
    "An alternate constructor has been added to `QuantumCircuit` which accepts one or two integers, the number of qubits (required) and the number of classical bits (optional)."
   ]
  },
  {
   "cell_type": "code",
   "execution_count": 2,
   "metadata": {
    "ExecuteTime": {
     "end_time": "2019-05-07T13:23:49.906414Z",
     "start_time": "2019-05-07T13:23:49.902796Z"
    }
   },
   "outputs": [],
   "source": [
    "qc = QuantumCircuit(3, 2)"
   ]
  },
  {
   "cell_type": "markdown",
   "metadata": {},
   "source": [
    "will create a quantum circuit equivalent to the following (still valid) circuit declaration:"
   ]
  },
  {
   "cell_type": "code",
   "execution_count": 3,
   "metadata": {
    "ExecuteTime": {
     "end_time": "2019-05-07T13:23:49.914163Z",
     "start_time": "2019-05-07T13:23:49.909126Z"
    }
   },
   "outputs": [],
   "source": [
    "qr = QuantumRegister(3, name='q')\n",
    "cr = ClassicalRegister(2, name='c')\n",
    "qc = QuantumCircuit(qr, cr)"
   ]
  },
  {
   "cell_type": "markdown",
   "metadata": {},
   "source": [
    "Registers are created automatically and can be accessed through the circuit as needed."
   ]
  },
  {
   "cell_type": "code",
   "execution_count": 4,
   "metadata": {
    "ExecuteTime": {
     "end_time": "2019-05-07T13:23:49.921145Z",
     "start_time": "2019-05-07T13:23:49.916508Z"
    }
   },
   "outputs": [
    {
     "name": "stdout",
     "output_type": "stream",
     "text": [
      "[QuantumRegister(3, 'q')]\n",
      "[ClassicalRegister(2, 'c')]\n"
     ]
    }
   ],
   "source": [
    "print(qc.qregs)\n",
    "print(qc.cregs)"
   ]
  },
  {
   "cell_type": "markdown",
   "metadata": {},
   "source": [
    "### Quantum/classical bit index-based addressing"
   ]
  },
  {
   "cell_type": "markdown",
   "metadata": {},
   "source": [
    "In the spirit of register-less circuits, qubits and clbits can now be addressed directly by index, without need for referencing a register.\n",
    "In the following example, `bell.h(0)` attaches a Hadamard gate to the first quantum bit."
   ]
  },
  {
   "cell_type": "code",
   "execution_count": 5,
   "metadata": {
    "ExecuteTime": {
     "end_time": "2019-05-07T13:23:50.035597Z",
     "start_time": "2019-05-07T13:23:49.923353Z"
    },
    "scrolled": true
   },
   "outputs": [
    {
     "data": {
      "text/html": [
       "<pre style=\"word-wrap: normal;white-space: pre;line-height: 15px;\">        ┌───┐     ┌─┐   \n",
       "q_0: |0>┤ H ├──■──┤M├───\n",
       "        └───┘┌─┴─┐└╥┘┌─┐\n",
       "q_1: |0>─────┤ X ├─╫─┤M├\n",
       "             └───┘ ║ └╥┘\n",
       " c_0: 0 ═══════════╩══╬═\n",
       "                      ║ \n",
       " c_1: 0 ══════════════╩═\n",
       "                        </pre>"
      ],
      "text/plain": [
       "<qiskit.visualization.text.TextDrawing at 0x1076323c8>"
      ]
     },
     "execution_count": 5,
     "metadata": {},
     "output_type": "execute_result"
    }
   ],
   "source": [
    "bell = QuantumCircuit(2,2)\n",
    "bell.h(0)\n",
    "bell.cx(0, 1)\n",
    "bell.measure([0,1], [0,1])\n",
    "\n",
    "bell.draw()"
   ]
  },
  {
   "cell_type": "markdown",
   "metadata": {},
   "source": [
    "The gate's argument types will determine if an index references a qubit or a clbit (e.g. `cx` expects `(qubit, qubit)`, `measure` expects `(qubit, clbit)`).\n",
    "This syntax works with both forms of `QuantumCircuit` construction, and users can switch between register-based an index-based commands as convenient."
   ]
  },
  {
   "cell_type": "markdown",
   "metadata": {},
   "source": [
    "In circuits with multiple registers, index ordering will be set by the order in which registers were added to the circuit, and can be verified by inspecting the circuit's `qubits` and `clbits` properties."
   ]
  },
  {
   "cell_type": "code",
   "execution_count": 7,
   "metadata": {
    "ExecuteTime": {
     "end_time": "2019-05-07T13:23:50.070995Z",
     "start_time": "2019-05-07T13:23:50.052508Z"
    }
   },
   "outputs": [
    {
     "name": "stdout",
     "output_type": "stream",
     "text": [
      "Qubit ordering: [(QuantumRegister(1, 'q2'), 0), (QuantumRegister(1, 'q1'), 0)]\n",
      "Classical bit ordering: [(ClassicalRegister(2, 'c'), 0), (ClassicalRegister(2, 'c'), 1)]\n"
     ]
    },
    {
     "data": {
      "text/html": [
       "<pre style=\"word-wrap: normal;white-space: pre;line-height: 15px;\">                    \n",
       "q2_0: |0>───────────\n",
       "         ┌───┐┌─┐┌─┐\n",
       "q1_0: |0>┤ H ├┤M├┤M├\n",
       "         └───┘└╥┘└╥┘\n",
       "  c_0: 0 ══════╩══╬═\n",
       "                  ║ \n",
       "  c_1: 0 ═════════╩═\n",
       "                    </pre>"
      ],
      "text/plain": [
       "<qiskit.visualization.text.TextDrawing at 0x1075ae978>"
      ]
     },
     "execution_count": 7,
     "metadata": {},
     "output_type": "execute_result"
    }
   ],
   "source": [
    "qr1 = QuantumRegister(1, 'q1')\n",
    "qr2 = QuantumRegister(1, 'q2')\n",
    "cr = ClassicalRegister(2, 'c')\n",
    "circuit = QuantumCircuit(qr2, qr1, cr)\n",
    "print('Qubit ordering:', circuit.qubits)\n",
    "print('Classical bit ordering:', circuit.clbits)\n",
    "circuit.h(1)\n",
    "circuit.measure(1,[0,1])\n",
    "circuit.draw()"
   ]
  },
  {
   "cell_type": "markdown",
   "metadata": {},
   "source": [
    "## 2. Portable `Instruction`s and `CompositeGate` replacement"
   ]
  },
  {
   "cell_type": "markdown",
   "metadata": {
    "slideshow": {
     "slide_type": "slide"
    }
   },
   "source": [
    "Starting in Terra 0.8, `Instruction` instances have become more portable and serve as the basis for composing re-usable circuit components through the new `append` method on `QuantumCircuit`s."
   ]
  },
  {
   "cell_type": "markdown",
   "metadata": {
    "ExecuteTime": {
     "end_time": "2019-04-24T04:16:16.208643Z",
     "start_time": "2019-04-24T04:16:16.205855Z"
    }
   },
   "source": [
    "### Opaque gates"
   ]
  },
  {
   "cell_type": "markdown",
   "metadata": {},
   "source": [
    "The `Gate` and `Instruction` constructors have been updated to accept an integer number of qubits (`num_qubits`) and an integer number of classical bits (`num_cbits`) which define the gate's quantum and classical width."
   ]
  },
  {
   "cell_type": "code",
   "execution_count": 8,
   "metadata": {
    "ExecuteTime": {
     "end_time": "2019-05-07T13:23:50.080945Z",
     "start_time": "2019-05-07T13:23:50.076179Z"
    }
   },
   "outputs": [],
   "source": [
    "from qiskit.circuit import Gate\n",
    "\n",
    "my_gate = Gate(name='my_gate', num_qubits=2, params=[])"
   ]
  },
  {
   "cell_type": "markdown",
   "metadata": {
    "ExecuteTime": {
     "end_time": "2019-04-24T14:15:12.883919Z",
     "start_time": "2019-04-24T14:15:12.878579Z"
    }
   },
   "source": [
    "The `append(instruction, qargs, cargs)` method has been added to the `QuantumCircuit` class, which takes an anonymous `Instruction` instance and attaches it to the circuit at the specified `qargs` and `cargs`."
   ]
  },
  {
   "cell_type": "code",
   "execution_count": 9,
   "metadata": {
    "ExecuteTime": {
     "end_time": "2019-05-07T13:23:50.095793Z",
     "start_time": "2019-05-07T13:23:50.085486Z"
    }
   },
   "outputs": [
    {
     "data": {
      "text/html": [
       "<pre style=\"word-wrap: normal;white-space: pre;line-height: 15px;\">        ┌──────────┐            \n",
       "q_0: |0>┤0         ├────────────\n",
       "        │  my_gate │┌──────────┐\n",
       "q_1: |0>┤1         ├┤0         ├\n",
       "        └──────────┘│  my_gate │\n",
       "q_2: |0>────────────┤1         ├\n",
       "                    └──────────┘</pre>"
      ],
      "text/plain": [
       "<qiskit.visualization.text.TextDrawing at 0x1243a97b8>"
      ]
     },
     "execution_count": 9,
     "metadata": {},
     "output_type": "execute_result"
    }
   ],
   "source": [
    "qr = QuantumRegister(3, 'q')\n",
    "circ = QuantumCircuit(qr)\n",
    "circ.append(my_gate, [qr[0], qr[1]])\n",
    "circ.append(my_gate, [qr[1], qr[2]])\n",
    "\n",
    "circ.draw()"
   ]
  },
  {
   "cell_type": "markdown",
   "metadata": {},
   "source": [
    "### Composite Gates"
   ]
  },
  {
   "cell_type": "markdown",
   "metadata": {},
   "source": [
    "Composite gates and complex circuit components can now be constructed and managed as independent `QuantumCircuit` instances, and converted to `Instruction` instances through the `to_instruction` method, and appended to target circuits at the correct location."
   ]
  },
  {
   "cell_type": "code",
   "execution_count": 10,
   "metadata": {
    "ExecuteTime": {
     "end_time": "2019-05-07T13:23:50.112981Z",
     "start_time": "2019-05-07T13:23:50.098818Z"
    }
   },
   "outputs": [
    {
     "data": {
      "text/html": [
       "<pre style=\"word-wrap: normal;white-space: pre;line-height: 15px;\">                     \n",
       "q_0: |0>─────────────\n",
       "        ┌───────────┐\n",
       "q_1: |0>┤0          ├\n",
       "        │  sub_circ │\n",
       "q_2: |0>┤1          ├\n",
       "        └───────────┘</pre>"
      ],
      "text/plain": [
       "<qiskit.visualization.text.TextDrawing at 0x1243a9470>"
      ]
     },
     "execution_count": 10,
     "metadata": {},
     "output_type": "execute_result"
    }
   ],
   "source": [
    "# build a sub-circuit\n",
    "sub_q = QuantumRegister(2)\n",
    "sub_circ = QuantumCircuit(sub_q, name='sub_circ')\n",
    "sub_circ.h(sub_q[0])\n",
    "sub_circ.crz(1, sub_q[0], sub_q[1])\n",
    "sub_circ.barrier()\n",
    "sub_circ.iden(sub_q[1])\n",
    "sub_circ.u3(1, 2, -2, sub_q[0])\n",
    "\n",
    "# convert to a gate and stick it into an arbitrary place in the bigger circuit\n",
    "sub_inst = sub_circ.to_instruction()\n",
    "q = QuantumRegister(3,'q')\n",
    "circ = QuantumCircuit(q)\n",
    "circ.append(sub_inst, [q[1], q[2]])\n",
    "\n",
    "circ.draw()\n"
   ]
  },
  {
   "cell_type": "markdown",
   "metadata": {},
   "source": [
    "Circuits are not immediately decomposed upon conversion `to_instruction` to allow circuit design at higher levels of abstraction.\n",
    "When desired, or before compilation, sub-circuits will be decomposed via the `decompose` method."
   ]
  },
  {
   "cell_type": "code",
   "execution_count": 11,
   "metadata": {
    "ExecuteTime": {
     "end_time": "2019-05-07T13:23:50.132626Z",
     "start_time": "2019-05-07T13:23:50.115240Z"
    }
   },
   "outputs": [
    {
     "data": {
      "text/html": [
       "<pre style=\"word-wrap: normal;white-space: pre;line-height: 15px;\">                                       \n",
       "q_0: |0>───────────────────────────────\n",
       "        ┌───┐          ░ ┌────────────┐\n",
       "q_1: |0>┤ H ├────■─────░─┤ U3(1,2,-2) ├\n",
       "        └───┘┌───┴───┐ ░ └───┬────┬───┘\n",
       "q_2: |0>─────┤ Rz(1) ├─░─────┤ Id ├────\n",
       "             └───────┘ ░     └────┘    </pre>"
      ],
      "text/plain": [
       "<qiskit.visualization.text.TextDrawing at 0x12432c2b0>"
      ]
     },
     "execution_count": 11,
     "metadata": {},
     "output_type": "execute_result"
    }
   ],
   "source": [
    "decomposed_circ = circ.decompose() # Does not modify original circuit\n",
    "decomposed_circ.draw()"
   ]
  },
  {
   "cell_type": "markdown",
   "metadata": {},
   "source": [
    "## 3. Parameterized circuits"
   ]
  },
  {
   "cell_type": "markdown",
   "metadata": {},
   "source": [
    "Parameterization is a common feature of many quantum algorithms, as well as a standard building block for constructing a library of standard gates and subcircuits.\n",
    "\n",
    "Terra 0.8 introduces a `Parameter` class which can be used to specify a place-holder wherever a numeric parameter can be used."
   ]
  },
  {
   "cell_type": "markdown",
   "metadata": {},
   "source": [
    "In the following example, we want to quickly construct a series of experiments which will vary the angle of a global $R_z$ rotation over a set of entangled qubits."
   ]
  },
  {
   "cell_type": "code",
   "execution_count": 12,
   "metadata": {
    "ExecuteTime": {
     "end_time": "2019-05-07T13:23:50.164955Z",
     "start_time": "2019-05-07T13:23:50.137598Z"
    }
   },
   "outputs": [
    {
     "data": {
      "text/html": [
       "<pre style=\"word-wrap: normal;white-space: pre;line-height: 15px;\">        ┌───┐                     ░ ┌───────┐ ░                     ┌───┐┌─┐\n",
       "q_0: |0>┤ H ├──■──────────────────░─┤ Rz(θ) ├─░──────────────────■──┤ H ├┤M├\n",
       "        └───┘┌─┴─┐                ░ ├───────┤ ░                ┌─┴─┐└───┘└╥┘\n",
       "q_1: |0>─────┤ X ├──■─────────────░─┤ Rz(θ) ├─░─────────────■──┤ X ├──────╫─\n",
       "             └───┘┌─┴─┐           ░ ├───────┤ ░           ┌─┴─┐└───┘      ║ \n",
       "q_2: |0>──────────┤ X ├──■────────░─┤ Rz(θ) ├─░────────■──┤ X ├───────────╫─\n",
       "                  └───┘┌─┴─┐      ░ ├───────┤ ░      ┌─┴─┐└───┘           ║ \n",
       "q_3: |0>───────────────┤ X ├──■───░─┤ Rz(θ) ├─░───■──┤ X ├────────────────╫─\n",
       "                       └───┘┌─┴─┐ ░ ├───────┤ ░ ┌─┴─┐└───┘                ║ \n",
       "q_4: |0>────────────────────┤ X ├─░─┤ Rz(θ) ├─░─┤ X ├─────────────────────╫─\n",
       "                            └───┘ ░ └───────┘ ░ └───┘                     ║ \n",
       " c_0: 0 ══════════════════════════════════════════════════════════════════╩═\n",
       "                                                                            </pre>"
      ],
      "text/plain": [
       "<qiskit.visualization.text.TextDrawing at 0x1243dd128>"
      ]
     },
     "execution_count": 12,
     "metadata": {},
     "output_type": "execute_result"
    }
   ],
   "source": [
    "from qiskit.circuit import Parameter\n",
    "\n",
    "theta = Parameter('θ')\n",
    "\n",
    "n = 5\n",
    "\n",
    "qc = QuantumCircuit(5, 1)\n",
    "qr = qc.qregs[0]\n",
    "\n",
    "qc.h(0)\n",
    "\n",
    "# Shingle CX gates across neighboring qubits\n",
    "qc.cx(qr[:-1], qr[1:])\n",
    "# Equivalent to:\n",
    "# for i in range(n-1):\n",
    "#    qc.cx(i, i+1)\n",
    "\n",
    "qc.barrier()\n",
    "qc.rz(theta, range(5))\n",
    "qc.barrier()\n",
    "\n",
    "# Equivalent shorthand: qc.cx(qr[n-2::-1], qr[n-1:0:-1])\n",
    "for i in reversed(range(n-1)):\n",
    "    qc.cx(i, i+1)\n",
    "\n",
    "qc.h(0)\n",
    "qc.measure(0, 0)\n",
    "\n",
    "qc.draw()"
   ]
  },
  {
   "cell_type": "markdown",
   "metadata": {
    "ExecuteTime": {
     "end_time": "2019-05-07T13:51:25.524355Z",
     "start_time": "2019-05-07T13:51:25.518233Z"
    }
   },
   "source": [
    "We can inspect the parameters"
   ]
  },
  {
   "cell_type": "code",
   "execution_count": 13,
   "metadata": {
    "ExecuteTime": {
     "end_time": "2019-05-07T13:23:50.178148Z",
     "start_time": "2019-05-07T13:23:50.169325Z"
    }
   },
   "outputs": [
    {
     "name": "stdout",
     "output_type": "stream",
     "text": [
      "{Parameter(θ)}\n"
     ]
    }
   ],
   "source": [
    "print(qc.parameters)"
   ]
  },
  {
   "cell_type": "markdown",
   "metadata": {},
   "source": [
    "All circuit parameters must be bound before sending the circuit to a backend. This can be done in one of two ways:\n",
    "- The `bind_parameters` function accepts a dictionary mapping `Parameter`s to values, and returns a new circuit with each parameter replaced with its corresponding value. Partial assignment is supported, in which case the returned will be parameterized by any `Parameter`s which were not mapped to a value."
   ]
  },
  {
   "cell_type": "code",
   "execution_count": 14,
   "metadata": {
    "ExecuteTime": {
     "end_time": "2019-05-07T13:23:50.372162Z",
     "start_time": "2019-05-07T13:23:50.181907Z"
    }
   },
   "outputs": [
    {
     "name": "stdout",
     "output_type": "stream",
     "text": [
      "        ┌───┐                     ░ ┌────────────┐ ░                     ┌───┐┌─┐\n",
      "q_0: |0>┤ H ├──■──────────────────░─┤ Rz(6.2832) ├─░──────────────────■──┤ H ├┤M├\n",
      "        └───┘┌─┴─┐                ░ ├────────────┤ ░                ┌─┴─┐└───┘└╥┘\n",
      "q_1: |0>─────┤ X ├──■─────────────░─┤ Rz(6.2832) ├─░─────────────■──┤ X ├──────╫─\n",
      "             └───┘┌─┴─┐           ░ ├────────────┤ ░           ┌─┴─┐└───┘      ║ \n",
      "q_2: |0>──────────┤ X ├──■────────░─┤ Rz(6.2832) ├─░────────■──┤ X ├───────────╫─\n",
      "                  └───┘┌─┴─┐      ░ ├────────────┤ ░      ┌─┴─┐└───┘           ║ \n",
      "q_3: |0>───────────────┤ X ├──■───░─┤ Rz(6.2832) ├─░───■──┤ X ├────────────────╫─\n",
      "                       └───┘┌─┴─┐ ░ ├────────────┤ ░ ┌─┴─┐└───┘                ║ \n",
      "q_4: |0>────────────────────┤ X ├─░─┤ Rz(6.2832) ├─░─┤ X ├─────────────────────╫─\n",
      "                            └───┘ ░ └────────────┘ ░ └───┘                     ║ \n",
      " c_0: 0 ═══════════════════════════════════════════════════════════════════════╩═\n",
      "                                                                                 \n",
      "set()\n"
     ]
    }
   ],
   "source": [
    "import numpy as np\n",
    "\n",
    "theta_range = np.linspace(0, 2 * np.pi, 128)\n",
    "circuits = [qc.bind_parameters({theta: theta_val})\n",
    "            for theta_val in theta_range]\n",
    "\n",
    "print(circuits[-1].draw(line_length=120))\n",
    "print(circuits[-1].parameters)"
   ]
  },
  {
   "cell_type": "markdown",
   "metadata": {},
   "source": [
    "- `qiskit.execute` now accepts a `parameter_binds` keyword argument which, when specified as a list of dicts mapping `Parameter`s to values, will bind and execute a circuit on the backend for every parameter mapping dictionary in the list."
   ]
  },
  {
   "cell_type": "code",
   "execution_count": 15,
   "metadata": {
    "ExecuteTime": {
     "end_time": "2019-05-07T13:23:52.364709Z",
     "start_time": "2019-05-07T13:23:50.373978Z"
    }
   },
   "outputs": [],
   "source": [
    "from qiskit import BasicAer, execute\n",
    "\n",
    "job = execute(qc,\n",
    "              backend=BasicAer.get_backend('qasm_simulator'),\n",
    "              parameter_binds=[{theta: theta_val} for theta_val in theta_range])\n",
    "\n",
    "# Note: Bind labels are not presrved in executed experiments.\n",
    "counts = [job.result().get_counts(i) for i in range(len(job.result().results))]\n"
   ]
  },
  {
   "cell_type": "markdown",
   "metadata": {},
   "source": [
    "In the example circuit considered so far, we apply a global $R_z(\\theta)$ rotation on 5-qubit entangled state and so expect to see oscillation in qubit-0 at $5\\theta$."
   ]
  },
  {
   "cell_type": "code",
   "execution_count": 20,
   "metadata": {
    "ExecuteTime": {
     "end_time": "2019-05-07T14:12:31.679727Z",
     "start_time": "2019-05-07T14:12:31.226216Z"
    }
   },
   "outputs": [
    {
     "data": {
      "image/png": "[encoded data removed]",
      "text/plain": [
       "<Figure size 432x288 with 1 Axes>"
      ]
     },
     "metadata": {},
     "output_type": "display_data"
    }
   ],
   "source": [
    "%matplotlib inline\n",
    "import matplotlib.pyplot as plt\n",
    "plt.style.use('ggplot')\n",
    "\n",
    "fig = plt.figure()\n",
    "ax = fig.add_subplot(111)\n",
    "\n",
    "ax.plot(theta_range, list(map(lambda c: c.get('0', 0), counts)), '.-', label='0')\n",
    "ax.plot(theta_range, list(map(lambda c: c.get('1', 0), counts)), '.-', label='1') \n",
    "\n",
    "ax.set_xlabel('θ')\n",
    "ax.legend()\n",
    "plt.show()"
   ]
  },
  {
   "cell_type": "markdown",
   "metadata": {
    "ExecuteTime": {
     "end_time": "2019-04-24T14:50:01.020312Z",
     "start_time": "2019-04-24T14:49:58.618Z"
    }
   },
   "source": [
    "### Compilation cost"
   ]
  },
  {
   "cell_type": "markdown",
   "metadata": {},
   "source": [
    "Compiling over a parameterized circuit prior to binding parameters can, in some cases, significantly reduce compilation time as compared to compiling over the set of bound circuits."
   ]
  },
  {
   "cell_type": "code",
   "execution_count": null,
   "metadata": {
    "ExecuteTime": {
     "start_time": "2019-05-07T14:39:09.351Z"
    }
   },
   "outputs": [],
   "source": [
    "import time\n",
    "from itertools import combinations\n",
    "from qiskit.compiler import transpile\n",
    "from qiskit.test.mock import FakeTokyo\n",
    "\n",
    "start = time.time()\n",
    "qcs = []\n",
    "\n",
    "theta_range = np.linspace(0, 2*np.pi, 64)\n",
    "\n",
    "for n in theta_range:\n",
    "    qc = QuantumCircuit(20)\n",
    "\n",
    "    for k in range(32):\n",
    "        for i,j in combinations(range(20), 2):\n",
    "            qc.cx(i,j)\n",
    "        qc.rz(n, range(20))\n",
    "        for i,j in combinations(range(20), 2):\n",
    "            qc.cx(i,j)\n",
    "\n",
    "    qcs.append(qc)\n",
    "    \n",
    "compiled_circuits = transpile(qcs, backend=FakeTokyo())\n",
    "\n",
    "end = time.time()\n",
    "print(end-start)"
   ]
  },
  {
   "cell_type": "code",
   "execution_count": null,
   "metadata": {
    "ExecuteTime": {
     "start_time": "2019-05-07T14:39:09.981Z"
    }
   },
   "outputs": [],
   "source": [
    "start = time.time()\n",
    "qc = QuantumCircuit(20)\n",
    "theta = Parameter('theta')\n",
    "\n",
    "for k in range(32):\n",
    "    for i,j in combinations(range(20), 2):\n",
    "        qc.cx(i,j)\n",
    "    qc.rz(theta, range(20))\n",
    "    for i,j in combinations(range(20), 2):\n",
    "        qc.cx(i,j)\n",
    "\n",
    "transpiled_qc = transpile(qc, {'backend': FakeTokyo()})\n",
    "compiled_circuits = assemble([transpiled_qc.bind_parameters({theta: n})\n",
    "                              for n in theta_range], {'backend': FakeTokyo()})\n",
    "end = time.time()\n",
    "print(end-start)"
   ]
  },
  {
   "cell_type": "markdown",
   "metadata": {},
   "source": [
    "### Composition"
   ]
  },
  {
   "cell_type": "markdown",
   "metadata": {},
   "source": [
    "Parameterized circuits can be composed like standard `QuantumCircuit`s.\n",
    "Generally, when composing two parameterized circuits, the resulting circuit will be parameterized by the union of the parameters of the source circuits.\n",
    "\n",
    "However, parameter names must be unique with in a given circuit.\n",
    "When attemping to add a parameter whose name is already present in the target circuit:\n",
    " - if the source and target share the same `Parameter` instance, the parameters will be assumed to be the same and combined\n",
    " - if the source and target have different `Parameter` instances, an error will be raised\n"
   ]
  },
  {
   "cell_type": "markdown",
   "metadata": {},
   "source": [
    "## Bringing it all together: QPE Demo"
   ]
  },
  {
   "cell_type": "code",
   "execution_count": null,
   "metadata": {
    "ExecuteTime": {
     "end_time": "2019-05-07T13:23:52.385611Z",
     "start_time": "2019-05-07T13:23:48.038Z"
    }
   },
   "outputs": [],
   "source": [
    "p = Parameter('p')\n",
    "qc = QuantumCircuit(3)\n",
    "qc.rz(p, 0)\n",
    "qc.cx(0, 1)\n",
    "qc.rz(p, 1)\n",
    "qc.cx(1, 2)\n",
    "qc.rz(p, 2)\n",
    "\n",
    "theta = Parameter('theta')\n",
    "phi = Parameter('phi')\n",
    "gamma = Parameter('gamma')\n",
    "\n",
    "qr = QuantumRegister(9)\n",
    "larger_qc = QuantumCircuit(qr)\n",
    "larger_qc.append(qc.to_instruction({p: theta}), qr[0:3])\n",
    "larger_qc.append(qc.to_instruction({p: phi}), qr[3:6])\n",
    "larger_qc.append(qc.to_instruction({p: gamma}, qr[6:9])\n",
    "print(larger_qc.draw())\n",
    "\n",
    "         ┌──────────────────┐\n",
    "q0_0: |0>┤0                 ├\n",
    "         │                  │\n",
    "q0_1: |0>┤1 circuit1(theta) ├\n",
    "         │                  │\n",
    "q0_2: |0>┤2                 ├\n",
    "         └┬────────────────┬┘\n",
    "q0_3: |0>─┤0               ├─\n",
    "          │                │\n",
    "q0_4: |0>─┤1 circuit1(phi) ├─\n",
    "          │                │\n",
    "q0_5: |0>─┤2               ├─\n",
    "         ┌┴────────────────┴┐\n",
    "q0_6: |0>┤0                 ├\n",
    "         │                  │\n",
    "q0_7: |0>┤1 circuit1(gamma) ├\n",
    "         │                  │\n",
    "q0_8: |0>┤2                 ├\n",
    "         └──────────────────┘\n",
    "\n",
    "print(larger_qc.decompose().draw())\n",
    "         ┌───────────┐\n",
    "q0_0: |0>┤ Rz(theta) ├──■─────────────────────────────────\n",
    "         └───────────┘┌─┴─┐┌───────────┐\n",
    "q0_1: |0>─────────────┤ X ├┤ Rz(theta) ├──■───────────────\n",
    "                      └───┘└───────────┘┌─┴─┐┌───────────┐\n",
    "q0_2: |0>───────────────────────────────┤ X ├┤ Rz(theta) ├\n",
    "          ┌─────────┐                   └───┘└───────────┘\n",
    "q0_3: |0>─┤ Rz(phi) ├───■─────────────────────────────────\n",
    "          └─────────┘ ┌─┴─┐ ┌─────────┐\n",
    "q0_4: |0>─────────────┤ X ├─┤ Rz(phi) ├───■───────────────\n",
    "                      └───┘ └─────────┘ ┌─┴─┐ ┌─────────┐\n",
    "q0_5: |0>───────────────────────────────┤ X ├─┤ Rz(phi) ├─\n",
    "         ┌───────────┐                  └───┘ └─────────┘\n",
    "q0_6: |0>┤ Rz(gamma) ├──■─────────────────────────────────\n",
    "         └───────────┘┌─┴─┐┌───────────┐\n",
    "q0_7: |0>─────────────┤ X ├┤ Rz(gamma) ├──■───────────────\n",
    "                      └───┘└───────────┘┌─┴─┐┌───────────┐\n",
    "q0_8: |0>───────────────────────────────┤ X ├┤ Rz(gamma) ├\n",
    "                                        └───┘└───────────┘\n"
   ]
  },
  {
   "cell_type": "code",
   "execution_count": null,
   "metadata": {
    "ExecuteTime": {
     "end_time": "2019-05-07T13:23:52.396240Z",
     "start_time": "2019-05-07T13:23:48.050Z"
    }
   },
   "outputs": [],
   "source": [
    ">>> qc = qk.QuantumCircuit(3)\n",
    ">>> qc.cx(0, 1)\n",
    "<qiskit.extensions.standard.cx.CnotGate object at 0x12842f470>\n",
    ">>> qc.cx(1, 2)\n",
    "<qiskit.extensions.standard.cx.CnotGate object at 0x119457898>\n",
    ">>> shingle = qc.to_instruction()\n",
    ">>> qc = qk.QuantumCircuit(5)\n",
    ">>> qr = qc.qregs[0]\n",
    ">>> qc.append(shingle, [qr[0],qr[1],qr[2]])\n",
    "<qiskit.circuit.instruction.Instruction object at 0x10c441240>\n",
    ">>> qc.append(shingle, qr[1:4])\n",
    "<qiskit.circuit.instruction.Instruction object at 0x10c441240>\n",
    ">>> qc.append(shingle, qr[2:5])\n",
    "<qiskit.circuit.instruction.Instruction object at 0x10c441240>\n",
    ">>> print(qc)\n",
    "        ┌────────────┐\n",
    "q_0: |0>┤0           ├────────────────────────────\n",
    "        │            │┌────────────┐\n",
    "q_1: |0>┤1 circuit13 ├┤0           ├──────────────\n",
    "        │            ││            │┌────────────┐\n",
    "q_2: |0>┤2           ├┤1 circuit13 ├┤0           ├\n",
    "        └────────────┘│            ││            │\n",
    "q_3: |0>──────────────┤2           ├┤1 circuit13 ├\n",
    "                      └────────────┘│            │\n",
    "q_4: |0>────────────────────────────┤2           ├\n",
    "                                    └────────────┘\n",
    "                        "
   ]
  },
  {
   "cell_type": "code",
   "execution_count": null,
   "metadata": {},
   "outputs": [],
   "source": []
  }
 ],
 "metadata": {
  "kernelspec": {
   "display_name": "Python 3",
   "language": "python",
   "name": "python3"
  },
  "language_info": {
   "codemirror_mode": {
    "name": "ipython",
    "version": 3
   },
   "file_extension": ".py",
   "mimetype": "text/x-python",
   "name": "python",
   "nbconvert_exporter": "python",
   "pygments_lexer": "ipython3",
   "version": "3.5.6"
  }
 },
 "nbformat": 4,
 "nbformat_minor": 2
}
