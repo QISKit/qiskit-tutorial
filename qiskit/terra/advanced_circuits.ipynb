{
 "cells": [
  {
   "cell_type": "markdown",
   "metadata": {},
   "source": [
    "# Terra 0.8 - Circuit Updates"
   ]
  },
  {
   "cell_type": "markdown",
   "metadata": {},
   "source": [
    "In this tutorial, we'll discuss three advanced components of the Terra circuit building API, added in the Terra 0.8 release. \n",
    "\n",
    "Made with the goals of facilitating circuit construction, reuse through composition and parameterization, reducing boilerplate.\n",
    "\n",
    "1. Optional register declarations\n",
    "2. CompositeGate replacement\n",
    "3. Parameterized Circuit"
   ]
  },
  {
   "cell_type": "code",
   "execution_count": 1,
   "metadata": {
    "ExecuteTime": {
     "end_time": "2019-04-26T04:01:25.077225Z",
     "start_time": "2019-04-26T04:01:22.389976Z"
    }
   },
   "outputs": [],
   "source": [
    "from qiskit import QuantumCircuit, QuantumRegister, ClassicalRegister"
   ]
  },
  {
   "cell_type": "markdown",
   "metadata": {},
   "source": [
    "## 1. Optional register declarations\n",
    "\n",
    "- registers useful in large circuits, but can add unneeded overhead for small circuits and tests\n",
    "- Added in Terra 0.8, syntax to create and build circuits without explicit register declaration"
   ]
  },
  {
   "cell_type": "markdown",
   "metadata": {},
   "source": [
    "### Registerless QuantumCircuit declaration"
   ]
  },
  {
   "cell_type": "markdown",
   "metadata": {},
   "source": [
    "Standard Terra circuit declaration (still valid):"
   ]
  },
  {
   "cell_type": "code",
   "execution_count": 2,
   "metadata": {
    "ExecuteTime": {
     "end_time": "2019-04-24T17:03:17.226266Z",
     "start_time": "2019-04-24T17:03:17.221568Z"
    }
   },
   "outputs": [],
   "source": [
    "qr = QuantumRegister(3, name='q')\n",
    "cr = ClassicalRegister(2, name='c')\n",
    "qc = QuantumCircuit(qr, cr)"
   ]
  },
  {
   "cell_type": "markdown",
   "metadata": {},
   "source": [
    "- for cases when only single registers, frequently the case for small circuits, quick demos or testing, could be more concise.\n",
    "- Alternate argument form for `QuantumCircuit` constructor, accepts one or two integers, the number of qubits (required) and the number of classical bits or clbits (optional)."
   ]
  },
  {
   "cell_type": "code",
   "execution_count": 3,
   "metadata": {
    "ExecuteTime": {
     "end_time": "2019-04-26T04:03:46.002440Z",
     "start_time": "2019-04-26T04:03:45.998913Z"
    }
   },
   "outputs": [],
   "source": [
    "qc = QuantumCircuit(3, 2)"
   ]
  },
  {
   "cell_type": "markdown",
   "metadata": {},
   "source": [
    "- Equivalent to above, except for fewer lines of code, and lack of user-provided handles to registers\n",
    "- Registers are automatically generated based on qubit/clbit count, and can be accessed through the circuit as needed."
   ]
  },
  {
   "cell_type": "code",
   "execution_count": 4,
   "metadata": {
    "ExecuteTime": {
     "end_time": "2019-04-26T04:03:47.345216Z",
     "start_time": "2019-04-26T04:03:47.340717Z"
    }
   },
   "outputs": [
    {
     "name": "stdout",
     "output_type": "stream",
     "text": [
      "[QuantumRegister(3, 'q')]\n",
      "[ClassicalRegister(2, 'c')]\n"
     ]
    }
   ],
   "source": [
    "print(qc.qregs)\n",
    "print(qc.cregs)"
   ]
  },
  {
   "cell_type": "markdown",
   "metadata": {},
   "source": [
    "### Qubit/clbit index based addressing"
   ]
  },
  {
   "cell_type": "markdown",
   "metadata": {},
   "source": [
    "- To accelerate the process of building simple circuits, can address qubits and clbits directly by index.\n",
    "- Works with both old (register-ful) and new (register-less) style circuit declaration."
   ]
  },
  {
   "cell_type": "code",
   "execution_count": 6,
   "metadata": {
    "ExecuteTime": {
     "end_time": "2019-04-26T04:05:24.250234Z",
     "start_time": "2019-04-26T04:05:23.366856Z"
    }
   },
   "outputs": [
    {
     "name": "stdout",
     "output_type": "stream",
     "text": [
      "OPENQASM 2.0; include \"qelib1.inc\"; qreg q[2]; creg c[2]; h q[0]; cx q[0],q[1]; measure q[0] -> c[0]; measure q[1] -> c[1]; \n"
     ]
    },
    {
     "data": {
      "text/html": [
       "<pre style=\"word-wrap: normal;white-space: pre;line-height: 15px;\">        ┌───┐     ┌─┐   \n",
       "q_0: |0>┤ H ├──■──┤M├───\n",
       "        └───┘┌─┴─┐└╥┘┌─┐\n",
       "q_1: |0>─────┤ X ├─╫─┤M├\n",
       "             └───┘ ║ └╥┘\n",
       " c_0: 0 ═══════════╩══╬═\n",
       "                      ║ \n",
       " c_1: 0 ══════════════╩═\n",
       "                        </pre>"
      ],
      "text/plain": [
       "<qiskit.visualization.text.TextDrawing at 0x1242954e0>"
      ]
     },
     "execution_count": 6,
     "metadata": {},
     "output_type": "execute_result"
    }
   ],
   "source": [
    "bell = QuantumCircuit(2,2)\n",
    "bell.h(0)\n",
    "bell.cx(0, 1)\n",
    "bell.measure([0,1], [0,1])\n",
    "\n",
    "print(bell.qasm().replace('\\n', \" \"))\n",
    "bell.draw()"
   ]
  },
  {
   "cell_type": "code",
   "execution_count": 7,
   "metadata": {
    "ExecuteTime": {
     "end_time": "2019-04-26T04:05:26.698661Z",
     "start_time": "2019-04-26T04:05:26.685664Z"
    }
   },
   "outputs": [
    {
     "name": "stdout",
     "output_type": "stream",
     "text": [
      "OPENQASM 2.0; include \"qelib1.inc\"; qreg q[2]; creg c[2]; h q[0]; cx q[0],q[1]; measure q[0] -> c[0]; measure q[1] -> c[1]; \n"
     ]
    },
    {
     "data": {
      "text/html": [
       "<pre style=\"word-wrap: normal;white-space: pre;line-height: 15px;\">        ┌───┐     ┌─┐   \n",
       "q_0: |0>┤ H ├──■──┤M├───\n",
       "        └───┘┌─┴─┐└╥┘┌─┐\n",
       "q_1: |0>─────┤ X ├─╫─┤M├\n",
       "             └───┘ ║ └╥┘\n",
       " c_0: 0 ═══════════╩══╬═\n",
       "                      ║ \n",
       " c_1: 0 ══════════════╩═\n",
       "                        </pre>"
      ],
      "text/plain": [
       "<qiskit.visualization.text.TextDrawing at 0x124295470>"
      ]
     },
     "execution_count": 7,
     "metadata": {},
     "output_type": "execute_result"
    }
   ],
   "source": [
    "qr = QuantumRegister(2, 'q')\n",
    "cr = ClassicalRegister(2, 'c')\n",
    "bell = QuantumCircuit(qr, cr)\n",
    "\n",
    "bell.h(qr[0])\n",
    "bell.cx(qr[0], qr[1])\n",
    "bell.measure(qr, cr)\n",
    "\n",
    "print(bell.qasm().replace('\\n', \" \"))\n",
    "bell.draw()"
   ]
  },
  {
   "cell_type": "markdown",
   "metadata": {},
   "source": [
    "- qubit vs clbit inferred from argument type (e.g. cx is (qubit, qubit) , measure is (qubit, clbit))\n",
    "- follow same slicing/broadcasting conventions as used for registers\n",
    "- can switch between two forms as convenient"
   ]
  },
  {
   "cell_type": "markdown",
   "metadata": {},
   "source": [
    "Index ordering is set by order in which register was added to circuit, and can be verified by inspecting the circuits `qubits` and `clbits` properties"
   ]
  },
  {
   "cell_type": "code",
   "execution_count": 8,
   "metadata": {
    "ExecuteTime": {
     "end_time": "2019-04-26T04:05:30.786658Z",
     "start_time": "2019-04-26T04:05:30.781166Z"
    }
   },
   "outputs": [
    {
     "name": "stdout",
     "output_type": "stream",
     "text": [
      "Qubit ordering: [(QuantumRegister(2, 'q'), 0), (QuantumRegister(2, 'q'), 1)]\n",
      "Classical bit ordering: [(ClassicalRegister(2, 'c'), 0), (ClassicalRegister(2, 'c'), 1)]\n"
     ]
    }
   ],
   "source": [
    "# Should probably be properties\n",
    "print('Qubit ordering:', bell.qubits())\n",
    "print('Classical bit ordering:', bell.clbits())\n"
   ]
  },
  {
   "cell_type": "markdown",
   "metadata": {},
   "source": [
    "## `QuantumCircuit`s and `CompositeGate`s"
   ]
  },
  {
   "cell_type": "markdown",
   "metadata": {
    "slideshow": {
     "slide_type": "slide"
    }
   },
   "source": [
    "- Prior to 0.8, Terra used on `CompositeGate` for construction of multi-leveled circuits.\n",
    "- But high level composition was difficult and ability to effectively re-use circuits was limited.\n",
    "- In 0.8, `CompositeGate` is deprecated, and replaced by a more flexible form of circuit composition"
   ]
  },
  {
   "cell_type": "markdown",
   "metadata": {
    "ExecuteTime": {
     "end_time": "2019-04-24T04:16:16.208643Z",
     "start_time": "2019-04-24T04:16:16.205855Z"
    }
   },
   "source": [
    "### Opaque gates"
   ]
  },
  {
   "cell_type": "markdown",
   "metadata": {},
   "source": [
    "Added ability to define opaque gates"
   ]
  },
  {
   "cell_type": "code",
   "execution_count": 8,
   "metadata": {
    "ExecuteTime": {
     "end_time": "2019-04-24T17:03:17.761351Z",
     "start_time": "2019-04-24T17:03:17.756385Z"
    }
   },
   "outputs": [
    {
     "name": "stdout",
     "output_type": "stream",
     "text": [
      "my_gate\n"
     ]
    }
   ],
   "source": [
    "from qiskit.circuit import Gate\n",
    "\n",
    "my_gate = Gate(name='my_gate', num_qubits=2, params=[])\n",
    "print(my_gate.qasm())"
   ]
  },
  {
   "cell_type": "markdown",
   "metadata": {
    "ExecuteTime": {
     "end_time": "2019-04-24T14:15:12.883919Z",
     "start_time": "2019-04-24T14:15:12.878579Z"
    }
   },
   "source": [
    "`qc.append(instruction, qargs, cargs)` method"
   ]
  },
  {
   "cell_type": "code",
   "execution_count": 9,
   "metadata": {
    "ExecuteTime": {
     "end_time": "2019-04-24T17:03:17.778362Z",
     "start_time": "2019-04-24T17:03:17.765159Z"
    }
   },
   "outputs": [
    {
     "name": "stdout",
     "output_type": "stream",
     "text": [
      "OPENQASM 2.0; include \"qelib1.inc\"; qreg q[3]; my_gate q[0],q[1]; my_gate q[1],q[2]; \n"
     ]
    },
    {
     "data": {
      "text/html": [
       "<pre style=\"word-wrap: normal;white-space: pre;line-height: 15px;\">        ┌──────────┐            \n",
       "q_0: |0>┤0         ├────────────\n",
       "        │  my_gate │┌──────────┐\n",
       "q_1: |0>┤1         ├┤0         ├\n",
       "        └──────────┘│  my_gate │\n",
       "q_2: |0>────────────┤1         ├\n",
       "                    └──────────┘</pre>"
      ],
      "text/plain": [
       "<qiskit.visualization.text.TextDrawing at 0x12ad87ef0>"
      ]
     },
     "execution_count": 9,
     "metadata": {},
     "output_type": "execute_result"
    }
   ],
   "source": [
    "qr = QuantumRegister(3, 'q')\n",
    "circ = QuantumCircuit(qr)\n",
    "circ.append(my_gate, [qr[0], qr[1]])\n",
    "circ.append(my_gate, [1, 2]) # TODO Should also support circ.append(my_gate, [0, 1])?\n",
    "print(circ.qasm().replace('\\n', ' '))\n",
    "circ.draw()"
   ]
  },
  {
   "cell_type": "markdown",
   "metadata": {},
   "source": [
    "### Custom Composite Gates"
   ]
  },
  {
   "cell_type": "markdown",
   "metadata": {},
   "source": [
    "- `qc.to_instruction` allows building circuits as components to be reused\n",
    "- converts circuit to instruction (removes registers, preserves qubit/clbit indexing order)"
   ]
  },
  {
   "cell_type": "code",
   "execution_count": 10,
   "metadata": {
    "ExecuteTime": {
     "end_time": "2019-04-26T04:07:57.480955Z",
     "start_time": "2019-04-26T04:07:57.463405Z"
    }
   },
   "outputs": [
    {
     "name": "stdout",
     "output_type": "stream",
     "text": [
      "OPENQASM 2.0; include \"qelib1.inc\"; qreg q[3]; sub_circ(1,1,2,-2) q[1],q[2]; \n"
     ]
    },
    {
     "data": {
      "text/html": [
       "<pre style=\"word-wrap: normal;white-space: pre;line-height: 15px;\">                               \n",
       "q_0: |0>───────────────────────\n",
       "        ┌─────────────────────┐\n",
       "q_1: |0>┤0                    ├\n",
       "        │  sub_circ(1,1,2,-2) │\n",
       "q_2: |0>┤1                    ├\n",
       "        └─────────────────────┘</pre>"
      ],
      "text/plain": [
       "<qiskit.visualization.text.TextDrawing at 0x125451f60>"
      ]
     },
     "execution_count": 10,
     "metadata": {},
     "output_type": "execute_result"
    }
   ],
   "source": [
    "# build a sub-circuit\n",
    "sub_q = QuantumRegister(2)\n",
    "sub_circ = QuantumCircuit(sub_q, name='sub_circ')\n",
    "sub_circ.h(sub_q[0])\n",
    "sub_circ.crz(1, sub_q[0], sub_q[1])\n",
    "sub_circ.barrier()\n",
    "sub_circ.iden(sub_q[1])\n",
    "sub_circ.u3(1, 2, -2, sub_q[0]) # TODO Sub_circ's u3 params are promoted to be params of sub_circ\n",
    "\n",
    "# convert to a gate and stick it into an arbitrary place in the bigger circuit\n",
    "sub_inst = sub_circ.to_instruction()\n",
    "q = QuantumRegister(3,'q')\n",
    "circ = QuantumCircuit(q)\n",
    "circ.append(sub_inst, [q[1], q[2]])\n",
    "print(circ.qasm().replace('\\n', ' '))\n",
    "circ.draw()\n"
   ]
  },
  {
   "cell_type": "markdown",
   "metadata": {},
   "source": [
    "- not immediatley decomposed\n",
    "- allows circuit design/programming at higher/increasing levels of abstraction\n",
    "\n",
    "Can be convenient to work at higher levels of abstraction, but for inspection, or before compilation and execution... `qc.decompose` "
   ]
  },
  {
   "cell_type": "code",
   "execution_count": 13,
   "metadata": {
    "ExecuteTime": {
     "end_time": "2019-04-26T04:09:08.791444Z",
     "start_time": "2019-04-26T04:09:08.778445Z"
    }
   },
   "outputs": [
    {
     "name": "stdout",
     "output_type": "stream",
     "text": [
      "OPENQASM 2.0; include \"qelib1.inc\"; qreg q[3]; h q[1]; crz(1) q[1],q[2]; barrier q[1],q[2]; u3(1,2,-2) q[1]; id q[2]; \n"
     ]
    },
    {
     "data": {
      "text/html": [
       "<pre style=\"word-wrap: normal;white-space: pre;line-height: 15px;\">                                       \n",
       "q_0: |0>───────────────────────────────\n",
       "        ┌───┐          ░ ┌────────────┐\n",
       "q_1: |0>┤ H ├────■─────░─┤ U3(1,2,-2) ├\n",
       "        └───┘┌───┴───┐ ░ ├────────────┤\n",
       "q_2: |0>─────┤ Rz(1) ├─░─┤     Id     ├\n",
       "             └───────┘ ░ └────────────┘</pre>"
      ],
      "text/plain": [
       "<qiskit.visualization.text.TextDrawing at 0x125432940>"
      ]
     },
     "execution_count": 13,
     "metadata": {},
     "output_type": "execute_result"
    }
   ],
   "source": [
    "dcirc = circ.decompose() # Does not modify original circuit\n",
    "print(dcirc.qasm().replace('\\n', ' '))\n",
    "dcirc.draw()"
   ]
  },
  {
   "cell_type": "markdown",
   "metadata": {},
   "source": [
    "TODO: Replace example: QFT -> Shor?"
   ]
  },
  {
   "cell_type": "markdown",
   "metadata": {},
   "source": [
    "## Parameterized circuits"
   ]
  },
  {
   "cell_type": "markdown",
   "metadata": {},
   "source": [
    "Variational algorithms, circuit libraries\n",
    "\n",
    "- Parameterized Circuit\n",
    "- Allow to bind parameters to variables\n",
    "\n",
    "Parameters can be used anywhere numeric constants can be used, e.g. for gate assignments"
   ]
  },
  {
   "cell_type": "code",
   "execution_count": 15,
   "metadata": {
    "ExecuteTime": {
     "end_time": "2019-04-26T04:10:04.932830Z",
     "start_time": "2019-04-26T04:10:04.904113Z"
    }
   },
   "outputs": [
    {
     "name": "stdout",
     "output_type": "stream",
     "text": [
      "OPENQASM 2.0;\n",
      "include \"qelib1.inc\";\n",
      "qreg q[5];\n",
      "creg c[1];\n",
      "h q[0];\n",
      "cx q[0],q[1];\n",
      "cx q[1],q[2];\n",
      "cx q[2],q[3];\n",
      "cx q[3],q[4];\n",
      "barrier q[0],q[1],q[2],q[3],q[4];\n",
      "rz(θ) q[0];\n",
      "rz(θ) q[1];\n",
      "rz(θ) q[2];\n",
      "rz(θ) q[3];\n",
      "rz(θ) q[4];\n",
      "barrier q[0],q[1],q[2],q[3],q[4];\n",
      "cx q[3],q[4];\n",
      "cx q[2],q[3];\n",
      "cx q[1],q[2];\n",
      "cx q[0],q[1];\n",
      "h q[0];\n",
      "measure q[0] -> c[0];\n",
      "\n"
     ]
    },
    {
     "data": {
      "text/html": [
       "<pre style=\"word-wrap: normal;white-space: pre;line-height: 15px;\">        ┌───┐                     ░ ┌───────┐ ░                     ┌───┐┌─┐\n",
       "q_0: |0>┤ H ├──■──────────────────░─┤ Rz(θ) ├─░──────────────────■──┤ H ├┤M├\n",
       "        └───┘┌─┴─┐                ░ ├───────┤ ░                ┌─┴─┐└───┘└╥┘\n",
       "q_1: |0>─────┤ X ├──■─────────────░─┤ Rz(θ) ├─░─────────────■──┤ X ├──────╫─\n",
       "             └───┘┌─┴─┐           ░ ├───────┤ ░           ┌─┴─┐└───┘      ║ \n",
       "q_2: |0>──────────┤ X ├──■────────░─┤ Rz(θ) ├─░────────■──┤ X ├───────────╫─\n",
       "                  └───┘┌─┴─┐      ░ ├───────┤ ░      ┌─┴─┐└───┘           ║ \n",
       "q_3: |0>───────────────┤ X ├──■───░─┤ Rz(θ) ├─░───■──┤ X ├────────────────╫─\n",
       "                       └───┘┌─┴─┐ ░ ├───────┤ ░ ┌─┴─┐└───┘                ║ \n",
       "q_4: |0>────────────────────┤ X ├─░─┤ Rz(θ) ├─░─┤ X ├─────────────────────╫─\n",
       "                            └───┘ ░ └───────┘ ░ └───┘                     ║ \n",
       " c_0: 0 ══════════════════════════════════════════════════════════════════╩═\n",
       "                                                                            </pre>"
      ],
      "text/plain": [
       "<qiskit.visualization.text.TextDrawing at 0x1254d1128>"
      ]
     },
     "execution_count": 15,
     "metadata": {},
     "output_type": "execute_result"
    }
   ],
   "source": [
    "from qiskit.circuit import Parameter\n",
    "\n",
    "theta = Parameter('θ')\n",
    "\n",
    "n = 5\n",
    "qc = QuantumCircuit(5, 1)\n",
    "qr = qc.qregs[0]\n",
    "qc.h(0)\n",
    "for i in range(n-1):\n",
    "    qc.cx(i, i+1)\n",
    "qc.barrier()\n",
    "qc.rz(theta, range(5))\n",
    "qc.barrier()\n",
    "for i in reversed(range(n-1)):\n",
    "    qc.cx(i, i+1)\n",
    "qc.h(0)\n",
    "qc.measure(0, 0)\n",
    "print(qc.qasm().replace('\\n', '\\n'))\n",
    "qc.draw()"
   ]
  },
  {
   "cell_type": "code",
   "execution_count": 16,
   "metadata": {
    "ExecuteTime": {
     "end_time": "2019-04-26T04:10:12.549953Z",
     "start_time": "2019-04-26T04:10:12.545590Z"
    }
   },
   "outputs": [
    {
     "name": "stdout",
     "output_type": "stream",
     "text": [
      "{Parameter(θ)}\n"
     ]
    }
   ],
   "source": [
    "print(qc.parameters)"
   ]
  },
  {
   "cell_type": "markdown",
   "metadata": {},
   "source": [
    "Presently, must declare/bind/assign/fix all variables before sending a circuit of to a device\n",
    "\n",
    "- `bind_parameters` returns new copy of circuit w/ parmeter replaced\n",
    "- can partially asign, in which case you get back a new parameterized circuit with n-1 parameters (or n less the number of parameters assigned)"
   ]
  },
  {
   "cell_type": "code",
   "execution_count": 29,
   "metadata": {
    "ExecuteTime": {
     "end_time": "2019-04-26T12:34:06.310542Z",
     "start_time": "2019-04-26T12:34:06.123519Z"
    }
   },
   "outputs": [
    {
     "name": "stdout",
     "output_type": "stream",
     "text": [
      "OPENQASM 2.0;\n",
      "include \"qelib1.inc\";\n",
      "qreg q[5];\n",
      "creg c[1];\n",
      "h q[0];\n",
      "cx q[0],q[1];\n",
      "cx q[1],q[2];\n",
      "cx q[2],q[3];\n",
      "cx q[3],q[4];\n",
      "barrier q[0],q[1],q[2],q[3],q[4];\n",
      "rz(6.283185307179586) q[0];\n",
      "rz(6.283185307179586) q[1];\n",
      "rz(6.283185307179586) q[2];\n",
      "rz(6.283185307179586) q[3];\n",
      "rz(6.283185307179586) q[4];\n",
      "barrier q[0],q[1],q[2],q[3],q[4];\n",
      "cx q[3],q[4];\n",
      "cx q[2],q[3];\n",
      "cx q[1],q[2];\n",
      "cx q[0],q[1];\n",
      "h q[0];\n",
      "measure q[0] -> c[0];\n",
      "\n",
      "        ┌───┐                     ░ ┌────────────┐ ░                     ┌───┐┌─┐\n",
      "q_0: |0>┤ H ├──■──────────────────░─┤ Rz(6.2832) ├─░──────────────────■──┤ H ├┤M├\n",
      "        └───┘┌─┴─┐                ░ ├────────────┤ ░                ┌─┴─┐└───┘└╥┘\n",
      "q_1: |0>─────┤ X ├──■─────────────░─┤ Rz(6.2832) ├─░─────────────■──┤ X ├──────╫─\n",
      "             └───┘┌─┴─┐           ░ ├────────────┤ ░           ┌─┴─┐└───┘      ║ \n",
      "q_2: |0>──────────┤ X ├──■────────░─┤ Rz(6.2832) ├─░────────■──┤ X ├───────────╫─\n",
      "                  └───┘┌─┴─┐      ░ ├────────────┤ ░      ┌─┴─┐└───┘           ║ \n",
      "q_3: |0>───────────────┤ X ├──■───░─┤ Rz(6.2832) ├─░───■──┤ X ├────────────────╫─\n",
      "                       └───┘┌─┴─┐ ░ ├────────────┤ ░ ┌─┴─┐└───┘                ║ \n",
      "q_4: |0>────────────────────┤ X ├─░─┤ Rz(6.2832) ├─░─┤ X ├─────────────────────╫─\n",
      "                            └───┘ ░ └────────────┘ ░ └───┘                     ║ \n",
      " c_0: 0 ═══════════════════════════════════════════════════════════════════════╩═\n",
      "                                                                                 \n",
      "set()\n"
     ]
    }
   ],
   "source": [
    "import numpy as np\n",
    "\n",
    "theta_range = np.linspace(0, 2 * np.pi, 128)\n",
    "circuits = [qc.bind_parameters({theta: theta_val})\n",
    "            for theta_val in theta_range]\n",
    "\n",
    "print(circuits[-1].qasm().replace('\\n', '\\n'))\n",
    "print(circuits[-1].draw(line_length=120))\n",
    "print(circuits[-1].parameters)"
   ]
  },
  {
   "cell_type": "code",
   "execution_count": 23,
   "metadata": {
    "ExecuteTime": {
     "end_time": "2019-04-26T04:14:58.533777Z",
     "start_time": "2019-04-26T04:14:56.545134Z"
    }
   },
   "outputs": [],
   "source": [
    "from qiskit import BasicAer, execute\n",
    "\n",
    "## Following are equivalent:\n",
    "#job = execute(circuits, backend=BasicAer.get_backend('qasm_simulator'))\n",
    "job = execute(qc,\n",
    "              backend=BasicAer.get_backend('qasm_simulator'),\n",
    "              parameter_binds=[{theta: theta_val} for theta_val in theta_range])\n",
    "\n",
    "counts = [job.result().get_counts(i) for i in range(len(job.result().results))]\n"
   ]
  },
  {
   "cell_type": "markdown",
   "metadata": {},
   "source": [
    "- For example experiment, applying global $R_z(\\theta)$ rotation on 5-qubit entangled state\n",
    "- Expect to see oscillation in qubit-0 at $5\\theta$"
   ]
  },
  {
   "cell_type": "code",
   "execution_count": 24,
   "metadata": {
    "ExecuteTime": {
     "end_time": "2019-04-26T04:15:00.016938Z",
     "start_time": "2019-04-26T04:14:59.802955Z"
    }
   },
   "outputs": [
    {
     "data": {
      "image/png": "[encoded data removed]",
      "text/plain": [
       "<Figure size 432x288 with 1 Axes>"
      ]
     },
     "metadata": {},
     "output_type": "display_data"
    }
   ],
   "source": [
    "%matplotlib inline\n",
    "import matplotlib.pyplot as plt\n",
    "import matplotlib.ticker as tck\n",
    "plt.style.use('ggplot')\n",
    "\n",
    "fig = plt.figure()\n",
    "ax = fig.add_subplot(111)\n",
    "    \n",
    "ax.plot(theta_range, list(map(lambda c: c.get('0', 0), counts)), label='0')\n",
    "ax.plot(theta_range, list(map(lambda c: c.get('1', 0), counts)), label='1') \n",
    "\n",
    "ax.set_xlabel('θ')\n",
    "ax.legend()\n",
    "plt.show()"
   ]
  },
  {
   "cell_type": "markdown",
   "metadata": {},
   "source": [
    "# Composition"
   ]
  },
  {
   "cell_type": "markdown",
   "metadata": {},
   "source": [
    "when composing circuits, parameters of resulting circuit is union of parameters of joined circuits\n",
    "\n",
    "- Name collision (TODO), if I try to add another parameter, also named θ:\n",
    " - If it's a different Parameter instance, an error will be raised\n",
    " - If it's the same Parameter instance, the new instruction will add to the circuit, parameterized by the circuits original θ\n"
   ]
  },
  {
   "cell_type": "markdown",
   "metadata": {
    "ExecuteTime": {
     "end_time": "2019-04-24T14:50:01.020312Z",
     "start_time": "2019-04-24T14:49:58.618Z"
    }
   },
   "source": [
    "# compilation cost\n",
    "- If I wanted to run for a device, would have to normally compile all circuits\n",
    "- But now, can compile parameterized circuit once (shorter), assign, and then recompile\n",
    "- In some cases (depending on what is causing transapile to be slow) be faster"
   ]
  },
  {
   "cell_type": "code",
   "execution_count": 30,
   "metadata": {
    "ExecuteTime": {
     "end_time": "2019-04-26T13:02:50.271717Z",
     "start_time": "2019-04-26T12:40:31.639961Z"
    }
   },
   "outputs": [
    {
     "name": "stdout",
     "output_type": "stream",
     "text": [
      "927.7456729412079\n"
     ]
    }
   ],
   "source": [
    "# old way\n",
    "import time\n",
    "from itertools import combinations\n",
    "from qiskit.compiler import transpile\n",
    "from qiskit.test.mock import FakeTokyo\n",
    "\n",
    "qc = QuantumCircuit(20)\n",
    "\n",
    "for k in range(32):\n",
    "    for i,j in combinations(range(20), 2):\n",
    "        qc.cx(i,j)\n",
    "    qc.rz(theta, range(20))\n",
    "    for i,j in combinations(range(20), 2):\n",
    "        qc.cx(i,j)\n",
    "\n",
    "qcs = [qc.bind_parameters({theta: n}) for n in np.linspace(0, 2*np.pi, 512)]\n",
    "start = time.time()\n",
    "compiled_circuits = transpile(qcs, {'backend': FakeTokyo()}) # TODO Should be a transpileConfig?\n",
    "end = time.time()\n",
    "print(end-start)"
   ]
  },
  {
   "cell_type": "code",
   "execution_count": null,
   "metadata": {
    "ExecuteTime": {
     "start_time": "2019-04-26T12:40:33.174Z"
    }
   },
   "outputs": [],
   "source": [
    "start = time.time()\n",
    "qc1 = transpile(qc, {'backend': FakeTokyo()})\n",
    "compiled_circuits = transpile([qc1.bind_parameters({theta: n}) for n in np.linspace(0, 2*np.pi, 512)], {'backend': FakeTokyo()})\n",
    "end = time.time()\n",
    "print(end-start)"
   ]
  },
  {
   "cell_type": "markdown",
   "metadata": {
    "ExecuteTime": {
     "end_time": "2019-04-24T14:50:01.024512Z",
     "start_time": "2019-04-24T14:49:58.620Z"
    }
   },
   "source": [
    "# Support for parameterized circuits in either assemble circuits and execute\n",
    "\n",
    "- execute should be smart enough to compile/assign/compile correctly for parameterized circuits\n",
    "- if you assemble, you have to manage transpile/assign/transpile/assemble "
   ]
  },
  {
   "cell_type": "code",
   "execution_count": null,
   "metadata": {
    "ExecuteTime": {
     "end_time": "2019-04-24T17:06:53.058390Z",
     "start_time": "2019-04-24T17:06:52.727962Z"
    }
   },
   "outputs": [],
   "source": [
    "job = execute(qc1, backend=BasicAer.get_backend('qasm_simulator'),\n",
    "              parameter_binds= [{ theta: 0}, {theta: 1}, { theta: 2}, ...])"
   ]
  },
  {
   "cell_type": "markdown",
   "metadata": {
    "ExecuteTime": {
     "end_time": "2019-04-24T14:50:01.018225Z",
     "start_time": "2019-04-24T14:49:58.615Z"
    }
   },
   "source": [
    "### Shorthand symbols (TODO 0.9?)\n",
    "\n",
    "- In some casese, (if not intending to reuse symbols across subcircuits?), it should be sufficient to provide a string which will be wrapped up as a terra Parameter\n",
    "- TODO Needs further design, understand implications with name collision"
   ]
  },
  {
   "cell_type": "code",
   "execution_count": null,
   "metadata": {
    "ExecuteTime": {
     "end_time": "2019-04-24T17:06:53.061207Z",
     "start_time": "2019-04-24T17:03:14.570Z"
    }
   },
   "outputs": [],
   "source": [
    "e.g. qc = QuantumCircuit(3)\n",
    "qc.u3('theta', 'phi', 'λ', 0)\n",
    "qc.u1('theta', 0)  # TODO Requires some thinking? When can we safely assume this to be the same as the theta above?\n",
    "\n",
    "qc.variables\n",
    "\n",
    "# bind_parameters, execute and RunConfig could accept strings additionally"
   ]
  },
  {
   "cell_type": "code",
   "execution_count": null,
   "metadata": {},
   "outputs": [],
   "source": [
    "# range constructor (TODO 0.9?)\n",
    "# ryrz, shorthand for creating/binding bundles of parameters"
   ]
  },
  {
   "cell_type": "markdown",
   "metadata": {},
   "source": [
    "## Bringing it all together: QPE Demo"
   ]
  },
  {
   "cell_type": "code",
   "execution_count": null,
   "metadata": {},
   "outputs": [],
   "source": []
  }
 ],
 "metadata": {
  "kernelspec": {
   "display_name": "Python 3",
   "language": "python",
   "name": "python3"
  },
  "language_info": {
   "codemirror_mode": {
    "name": "ipython",
    "version": 3
   },
   "file_extension": ".py",
   "mimetype": "text/x-python",
   "name": "python",
   "nbconvert_exporter": "python",
   "pygments_lexer": "ipython3",
   "version": "3.5.6"
  }
 },
 "nbformat": 4,
 "nbformat_minor": 2
}
