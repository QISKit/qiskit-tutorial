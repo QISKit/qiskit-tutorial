{
 "cells": [
  {
   "cell_type": "markdown",
   "metadata": {},
   "source": [
    "<img src=\"../../images/qiskit-heading.gif\" width=\"500px\" align=\"left\">"
   ]
  },
  {
   "cell_type": "markdown",
   "metadata": {},
   "source": [
    "# Terra 0.8 - Circuit API Updates"
   ]
  },
  {
   "cell_type": "markdown",
   "metadata": {},
   "source": [
    "In this tutorial, we'll introduce three new components of the Terra circuit building API, added in the Terra 0.8 release with the goal of facilitating circuit construction, reducing boilerplate, and aiding reuse through composition and parameterization."
   ]
  },
  {
   "cell_type": "code",
   "execution_count": 1,
   "metadata": {
    "ExecuteTime": {
     "end_time": "2019-05-01T17:23:46.968021Z",
     "start_time": "2019-05-01T17:23:45.263630Z"
    }
   },
   "outputs": [],
   "source": [
    "from qiskit import QuantumCircuit, QuantumRegister, ClassicalRegister"
   ]
  },
  {
   "cell_type": "markdown",
   "metadata": {},
   "source": [
    "## 1. Optional registers\n",
    "\n",
    "When not planning to make use of multiple registers, register declarations amount to unneeded overhead.\n",
    "Terra 0.8 adds more concise syntax to create and build circuits without explicit register declaration."
   ]
  },
  {
   "cell_type": "markdown",
   "metadata": {},
   "source": [
    "### Registerless `QuantumCircuit` declaration"
   ]
  },
  {
   "cell_type": "markdown",
   "metadata": {},
   "source": [
    "An alternate constructor has been added to `QuantumCircuit` which accepts one or two integers, the number of qubits (required) and the number of classical bits or clbits (optional)."
   ]
  },
  {
   "cell_type": "code",
   "execution_count": 3,
   "metadata": {
    "ExecuteTime": {
     "end_time": "2019-05-01T17:24:42.486515Z",
     "start_time": "2019-05-01T17:24:42.483313Z"
    }
   },
   "outputs": [],
   "source": [
    "qc = QuantumCircuit(3, 2)"
   ]
  },
  {
   "cell_type": "markdown",
   "metadata": {},
   "source": [
    "will create a quantum circuit equivalent to the following (still valid) circuit declaration:"
   ]
  },
  {
   "cell_type": "code",
   "execution_count": 2,
   "metadata": {
    "ExecuteTime": {
     "end_time": "2019-05-01T17:24:40.285168Z",
     "start_time": "2019-05-01T17:24:40.279872Z"
    }
   },
   "outputs": [],
   "source": [
    "qr = QuantumRegister(3, name='q')\n",
    "cr = ClassicalRegister(2, name='c')\n",
    "qc = QuantumCircuit(qr, cr)"
   ]
  },
  {
   "cell_type": "markdown",
   "metadata": {},
   "source": [
    "Registers are automatically generated based on qubit/clbit count, and can be accessed through the circuit as needed."
   ]
  },
  {
   "cell_type": "code",
   "execution_count": 4,
   "metadata": {
    "ExecuteTime": {
     "end_time": "2019-05-01T17:24:43.713972Z",
     "start_time": "2019-05-01T17:24:43.709106Z"
    }
   },
   "outputs": [
    {
     "name": "stdout",
     "output_type": "stream",
     "text": [
      "[QuantumRegister(3, 'q')]\n",
      "[ClassicalRegister(2, 'c')]\n"
     ]
    }
   ],
   "source": [
    "print(qc.qregs)\n",
    "print(qc.cregs)"
   ]
  },
  {
   "cell_type": "markdown",
   "metadata": {},
   "source": [
    "### Index-based addressing"
   ]
  },
  {
   "cell_type": "markdown",
   "metadata": {},
   "source": [
    "Similarly, qubits and clbits can now be addressed directly by index, without need for referencing a register."
   ]
  },
  {
   "cell_type": "code",
   "execution_count": 1,
   "metadata": {
    "ExecuteTime": {
     "end_time": "2019-05-06T16:28:48.439470Z",
     "start_time": "2019-05-06T16:28:48.323860Z"
    }
   },
   "outputs": [
    {
     "ename": "NameError",
     "evalue": "name 'QuantumCircuit' is not defined",
     "output_type": "error",
     "traceback": [
      "\u001b[0;31m---------------------------------------------------------------------------\u001b[0m",
      "\u001b[0;31mNameError\u001b[0m                                 Traceback (most recent call last)",
      "\u001b[0;32m<ipython-input-1-9d9b286dc2a4>\u001b[0m in \u001b[0;36m<module>\u001b[0;34m\u001b[0m\n\u001b[0;32m----> 1\u001b[0;31m \u001b[0mbell\u001b[0m \u001b[0;34m=\u001b[0m \u001b[0mQuantumCircuit\u001b[0m\u001b[0;34m(\u001b[0m\u001b[0;36m2\u001b[0m\u001b[0;34m,\u001b[0m\u001b[0;36m2\u001b[0m\u001b[0;34m)\u001b[0m\u001b[0;34m\u001b[0m\u001b[0m\n\u001b[0m\u001b[1;32m      2\u001b[0m \u001b[0mbell\u001b[0m\u001b[0;34m.\u001b[0m\u001b[0mh\u001b[0m\u001b[0;34m(\u001b[0m\u001b[0;36m0\u001b[0m\u001b[0;34m)\u001b[0m\u001b[0;34m\u001b[0m\u001b[0m\n\u001b[1;32m      3\u001b[0m \u001b[0mbell\u001b[0m\u001b[0;34m.\u001b[0m\u001b[0mcx\u001b[0m\u001b[0;34m(\u001b[0m\u001b[0;36m0\u001b[0m\u001b[0;34m,\u001b[0m \u001b[0;36m1\u001b[0m\u001b[0;34m)\u001b[0m\u001b[0;34m\u001b[0m\u001b[0m\n\u001b[1;32m      4\u001b[0m \u001b[0mbell\u001b[0m\u001b[0;34m.\u001b[0m\u001b[0mmeasure\u001b[0m\u001b[0;34m(\u001b[0m\u001b[0;34m[\u001b[0m\u001b[0;36m0\u001b[0m\u001b[0;34m,\u001b[0m\u001b[0;36m1\u001b[0m\u001b[0;34m]\u001b[0m\u001b[0;34m,\u001b[0m \u001b[0;34m[\u001b[0m\u001b[0;36m0\u001b[0m\u001b[0;34m,\u001b[0m\u001b[0;36m1\u001b[0m\u001b[0;34m]\u001b[0m\u001b[0;34m)\u001b[0m\u001b[0;34m\u001b[0m\u001b[0m\n\u001b[1;32m      5\u001b[0m \u001b[0;34m\u001b[0m\u001b[0m\n",
      "\u001b[0;31mNameError\u001b[0m: name 'QuantumCircuit' is not defined"
     ]
    }
   ],
   "source": [
    "bell = QuantumCircuit(2,2)\n",
    "bell.h(0)\n",
    "bell.cx(0, 1)\n",
    "bell.measure([0,1], [0,1])\n",
    "\n",
    "bell.draw()"
   ]
  },
  {
   "cell_type": "markdown",
   "metadata": {},
   "source": [
    "The gate type will determine if an index references a qubit or a cbit (e.g. `cx` expects `(qubit, qubit)`, `measure` expects `(qubit, clbit)`). This syntax works with both forms of `QuantumCircuit` construction, and users can freely switch between register-based an index-based commands as convenient."
   ]
  },
  {
   "cell_type": "markdown",
   "metadata": {},
   "source": [
    "In circuits with multiple registers, index ordering will be set by the order in which registers were added to the circuit, and can be verified by inspecting the circuit's `qubits` and `clbits` properties."
   ]
  },
  {
   "cell_type": "code",
   "execution_count": 9,
   "metadata": {
    "ExecuteTime": {
     "end_time": "2019-05-01T17:24:57.725149Z",
     "start_time": "2019-05-01T17:24:57.720310Z"
    }
   },
   "outputs": [
    {
     "name": "stdout",
     "output_type": "stream",
     "text": [
      "Qubit ordering: [(QuantumRegister(2, 'q'), 0), (QuantumRegister(2, 'q'), 1)]\n",
      "Classical bit ordering: [(ClassicalRegister(2, 'c'), 0), (ClassicalRegister(2, 'c'), 1)]\n"
     ]
    }
   ],
   "source": [
    "print('Qubit ordering:', bell.qubits)\n",
    "print('Classical bit ordering:', bell.clbits)\n"
   ]
  },
  {
   "cell_type": "markdown",
   "metadata": {},
   "source": [
    "## 2. Portable `Instruction`s and `CompositeGate` replacement"
   ]
  },
  {
   "cell_type": "markdown",
   "metadata": {
    "slideshow": {
     "slide_type": "slide"
    }
   },
   "source": [
    "Starting in Terra 0.8, `Instruction` instances have become more portable and serve as a basis for composing re-usable circuit components through `QuantumCircuit.append`."
   ]
  },
  {
   "cell_type": "markdown",
   "metadata": {
    "ExecuteTime": {
     "end_time": "2019-04-24T04:16:16.208643Z",
     "start_time": "2019-04-24T04:16:16.205855Z"
    }
   },
   "source": [
    "### Opaque gates"
   ]
  },
  {
   "cell_type": "markdown",
   "metadata": {},
   "source": [
    "The `Gate` and `Instruction` constructors now take two integers as arguments, a number of qubits and number of classical bits, defining the gates quantum and classical width."
   ]
  },
  {
   "cell_type": "code",
   "execution_count": 4,
   "metadata": {
    "ExecuteTime": {
     "end_time": "2019-05-06T18:12:39.915070Z",
     "start_time": "2019-05-06T18:12:39.904431Z"
    }
   },
   "outputs": [],
   "source": [
    "from qiskit.circuit import Gate\n",
    "\n",
    "my_gate = Gate(name='my_gate', num_qubits=2, params=[])"
   ]
  },
  {
   "cell_type": "markdown",
   "metadata": {
    "ExecuteTime": {
     "end_time": "2019-04-24T14:15:12.883919Z",
     "start_time": "2019-04-24T14:15:12.878579Z"
    }
   },
   "source": [
    "An `append(instruction, qargs, cargs)` method has been added to the `QuantumCircuit` class, which takes an anonymous `Instruction` instance and attaches it to the circuit at the specified `qargs` and `cargs`."
   ]
  },
  {
   "cell_type": "code",
   "execution_count": 2,
   "metadata": {
    "ExecuteTime": {
     "end_time": "2019-05-06T16:38:17.198098Z",
     "start_time": "2019-05-06T16:38:17.182984Z"
    }
   },
   "outputs": [
    {
     "ename": "NameError",
     "evalue": "name 'QuantumRegister' is not defined",
     "output_type": "error",
     "traceback": [
      "\u001b[0;31m---------------------------------------------------------------------------\u001b[0m",
      "\u001b[0;31mNameError\u001b[0m                                 Traceback (most recent call last)",
      "\u001b[0;32m<ipython-input-2-398cab48a2b4>\u001b[0m in \u001b[0;36m<module>\u001b[0;34m\u001b[0m\n\u001b[0;32m----> 1\u001b[0;31m \u001b[0mqr\u001b[0m \u001b[0;34m=\u001b[0m \u001b[0mQuantumRegister\u001b[0m\u001b[0;34m(\u001b[0m\u001b[0;36m3\u001b[0m\u001b[0;34m,\u001b[0m \u001b[0;34m'q'\u001b[0m\u001b[0;34m)\u001b[0m\u001b[0;34m\u001b[0m\u001b[0m\n\u001b[0m\u001b[1;32m      2\u001b[0m \u001b[0mcirc\u001b[0m \u001b[0;34m=\u001b[0m \u001b[0mQuantumCircuit\u001b[0m\u001b[0;34m(\u001b[0m\u001b[0mqr\u001b[0m\u001b[0;34m)\u001b[0m\u001b[0;34m\u001b[0m\u001b[0m\n\u001b[1;32m      3\u001b[0m \u001b[0mcirc\u001b[0m\u001b[0;34m.\u001b[0m\u001b[0mappend\u001b[0m\u001b[0;34m(\u001b[0m\u001b[0mmy_gate\u001b[0m\u001b[0;34m,\u001b[0m \u001b[0;34m[\u001b[0m\u001b[0mqr\u001b[0m\u001b[0;34m[\u001b[0m\u001b[0;36m0\u001b[0m\u001b[0;34m]\u001b[0m\u001b[0;34m,\u001b[0m \u001b[0mqr\u001b[0m\u001b[0;34m[\u001b[0m\u001b[0;36m1\u001b[0m\u001b[0;34m]\u001b[0m\u001b[0;34m]\u001b[0m\u001b[0;34m)\u001b[0m\u001b[0;34m\u001b[0m\u001b[0m\n\u001b[1;32m      4\u001b[0m \u001b[0mcirc\u001b[0m\u001b[0;34m.\u001b[0m\u001b[0mappend\u001b[0m\u001b[0;34m(\u001b[0m\u001b[0mmy_gate\u001b[0m\u001b[0;34m,\u001b[0m \u001b[0;34m[\u001b[0m\u001b[0mqr\u001b[0m\u001b[0;34m[\u001b[0m\u001b[0;36m1\u001b[0m\u001b[0;34m]\u001b[0m\u001b[0;34m,\u001b[0m \u001b[0mqr\u001b[0m\u001b[0;34m[\u001b[0m\u001b[0;36m2\u001b[0m\u001b[0;34m]\u001b[0m\u001b[0;34m]\u001b[0m\u001b[0;34m)\u001b[0m\u001b[0;34m\u001b[0m\u001b[0m\n\u001b[1;32m      5\u001b[0m \u001b[0;34m\u001b[0m\u001b[0m\n",
      "\u001b[0;31mNameError\u001b[0m: name 'QuantumRegister' is not defined"
     ]
    }
   ],
   "source": [
    "qr = QuantumRegister(3, 'q')\n",
    "circ = QuantumCircuit(qr)\n",
    "circ.append(my_gate, [qr[0], qr[1]])\n",
    "circ.append(my_gate, [qr[1], qr[2]])\n",
    "\n",
    "circ.draw()"
   ]
  },
  {
   "cell_type": "markdown",
   "metadata": {},
   "source": [
    "### Composite Gates"
   ]
  },
  {
   "cell_type": "markdown",
   "metadata": {},
   "source": [
    "Circuit subcomponents can be constrcuted as `QuantumCircuit` instances, and then converted to `Instruction` instances through `to_instruction` which can be bound to other circuits."
   ]
  },
  {
   "cell_type": "code",
   "execution_count": 5,
   "metadata": {
    "ExecuteTime": {
     "end_time": "2019-05-06T18:28:42.469415Z",
     "start_time": "2019-05-06T18:28:42.154387Z"
    }
   },
   "outputs": [
    {
     "ename": "NameError",
     "evalue": "name 'QuantumRegister' is not defined",
     "output_type": "error",
     "traceback": [
      "\u001b[0;31m---------------------------------------------------------------------------\u001b[0m",
      "\u001b[0;31mNameError\u001b[0m                                 Traceback (most recent call last)",
      "\u001b[0;32m<ipython-input-5-a9155f1b66aa>\u001b[0m in \u001b[0;36m<module>\u001b[0;34m\u001b[0m\n\u001b[1;32m      1\u001b[0m \u001b[0;31m# build a sub-circuit\u001b[0m\u001b[0;34m\u001b[0m\u001b[0;34m\u001b[0m\u001b[0m\n\u001b[0;32m----> 2\u001b[0;31m \u001b[0msub_q\u001b[0m \u001b[0;34m=\u001b[0m \u001b[0mQuantumRegister\u001b[0m\u001b[0;34m(\u001b[0m\u001b[0;36m2\u001b[0m\u001b[0;34m)\u001b[0m\u001b[0;34m\u001b[0m\u001b[0m\n\u001b[0m\u001b[1;32m      3\u001b[0m \u001b[0msub_circ\u001b[0m \u001b[0;34m=\u001b[0m \u001b[0mQuantumCircuit\u001b[0m\u001b[0;34m(\u001b[0m\u001b[0msub_q\u001b[0m\u001b[0;34m,\u001b[0m \u001b[0mname\u001b[0m\u001b[0;34m=\u001b[0m\u001b[0;34m'sub_circ'\u001b[0m\u001b[0;34m)\u001b[0m\u001b[0;34m\u001b[0m\u001b[0m\n\u001b[1;32m      4\u001b[0m \u001b[0msub_circ\u001b[0m\u001b[0;34m.\u001b[0m\u001b[0mh\u001b[0m\u001b[0;34m(\u001b[0m\u001b[0msub_q\u001b[0m\u001b[0;34m[\u001b[0m\u001b[0;36m0\u001b[0m\u001b[0;34m]\u001b[0m\u001b[0;34m)\u001b[0m\u001b[0;34m\u001b[0m\u001b[0m\n\u001b[1;32m      5\u001b[0m \u001b[0msub_circ\u001b[0m\u001b[0;34m.\u001b[0m\u001b[0mcrz\u001b[0m\u001b[0;34m(\u001b[0m\u001b[0;36m1\u001b[0m\u001b[0;34m,\u001b[0m \u001b[0msub_q\u001b[0m\u001b[0;34m[\u001b[0m\u001b[0;36m0\u001b[0m\u001b[0;34m]\u001b[0m\u001b[0;34m,\u001b[0m \u001b[0msub_q\u001b[0m\u001b[0;34m[\u001b[0m\u001b[0;36m1\u001b[0m\u001b[0;34m]\u001b[0m\u001b[0;34m)\u001b[0m\u001b[0;34m\u001b[0m\u001b[0m\n",
      "\u001b[0;31mNameError\u001b[0m: name 'QuantumRegister' is not defined"
     ]
    }
   ],
   "source": [
    "# build a sub-circuit\n",
    "sub_q = QuantumRegister(2)\n",
    "sub_circ = QuantumCircuit(sub_q, name='sub_circ')\n",
    "sub_circ.h(sub_q[0])\n",
    "sub_circ.crz(1, sub_q[0], sub_q[1])\n",
    "sub_circ.barrier()\n",
    "sub_circ.iden(sub_q[1])\n",
    "sub_circ.u3(1, 2, -2, sub_q[0]) # TODO Sub_circ's u3 params are promoted to be params of sub_circ\n",
    "\n",
    "# convert to a gate and stick it into an arbitrary place in the bigger circuit\n",
    "sub_inst = sub_circ.to_instruction()\n",
    "q = QuantumRegister(3,'q')\n",
    "circ = QuantumCircuit(q)\n",
    "circ.append(sub_inst, [q[1], q[2]])\n",
    "\n",
    "circ.draw()\n"
   ]
  },
  {
   "cell_type": "markdown",
   "metadata": {},
   "source": [
    "Circuits are not immediately decomposed upon conversion `to_instruction`, to allwo circuit design at an increasing levels of abstrction. When desired, or before compilation, sub-circuits will be decomposed via `decompose`.  "
   ]
  },
  {
   "cell_type": "code",
   "execution_count": 6,
   "metadata": {
    "ExecuteTime": {
     "end_time": "2019-05-06T18:35:37.273149Z",
     "start_time": "2019-05-06T18:35:37.246929Z"
    }
   },
   "outputs": [
    {
     "ename": "NameError",
     "evalue": "name 'circ' is not defined",
     "output_type": "error",
     "traceback": [
      "\u001b[0;31m---------------------------------------------------------------------------\u001b[0m",
      "\u001b[0;31mNameError\u001b[0m                                 Traceback (most recent call last)",
      "\u001b[0;32m<ipython-input-6-9560b81fd798>\u001b[0m in \u001b[0;36m<module>\u001b[0;34m\u001b[0m\n\u001b[0;32m----> 1\u001b[0;31m \u001b[0mdcirc\u001b[0m \u001b[0;34m=\u001b[0m \u001b[0mcirc\u001b[0m\u001b[0;34m.\u001b[0m\u001b[0mdecompose\u001b[0m\u001b[0;34m(\u001b[0m\u001b[0;34m)\u001b[0m \u001b[0;31m# Does not modify original circuit\u001b[0m\u001b[0;34m\u001b[0m\u001b[0m\n\u001b[0m\u001b[1;32m      2\u001b[0m \u001b[0mdcirc\u001b[0m\u001b[0;34m.\u001b[0m\u001b[0mdraw\u001b[0m\u001b[0;34m(\u001b[0m\u001b[0;34m)\u001b[0m\u001b[0;34m\u001b[0m\u001b[0m\n",
      "\u001b[0;31mNameError\u001b[0m: name 'circ' is not defined"
     ]
    }
   ],
   "source": [
    "dcirc = circ.decompose() # Does not modify original circuit\n",
    "dcirc.draw()"
   ]
  },
  {
   "cell_type": "markdown",
   "metadata": {},
   "source": [
    "## 3. Parameterized circuits"
   ]
  },
  {
   "cell_type": "markdown",
   "metadata": {},
   "source": [
    "Parameterization is a common feature of many quantum algorithms, as well as a standard building block for construction collections of standard gates and subcircuits into a circuit library.\n",
    "\n",
    "Terra 0.8 introduces a `Parameter` class which can be used to specify a place holder wherever a numeric constant could be used."
   ]
  },
  {
   "cell_type": "code",
   "execution_count": 16,
   "metadata": {
    "ExecuteTime": {
     "end_time": "2019-05-01T17:26:17.762115Z",
     "start_time": "2019-05-01T17:26:17.733389Z"
    }
   },
   "outputs": [
    {
     "name": "stdout",
     "output_type": "stream",
     "text": [
      "OPENQASM 2.0;\n",
      "include \"qelib1.inc\";\n",
      "qreg q[5];\n",
      "creg c[1];\n",
      "h q[0];\n",
      "cx q[0],q[1];\n",
      "cx q[1],q[2];\n",
      "cx q[2],q[3];\n",
      "cx q[3],q[4];\n",
      "barrier q[0],q[1],q[2],q[3],q[4];\n",
      "rz(θ) q[0];\n",
      "rz(θ) q[1];\n",
      "rz(θ) q[2];\n",
      "rz(θ) q[3];\n",
      "rz(θ) q[4];\n",
      "barrier q[0],q[1],q[2],q[3],q[4];\n",
      "cx q[3],q[4];\n",
      "cx q[2],q[3];\n",
      "cx q[1],q[2];\n",
      "cx q[0],q[1];\n",
      "h q[0];\n",
      "measure q[0] -> c[0];\n",
      "\n"
     ]
    },
    {
     "data": {
      "text/html": [
       "<pre style=\"word-wrap: normal;white-space: pre;line-height: 15px;\">        ┌───┐                     ░ ┌───────┐ ░                     ┌───┐┌─┐\n",
       "q_0: |0>┤ H ├──■──────────────────░─┤ Rz(θ) ├─░──────────────────■──┤ H ├┤M├\n",
       "        └───┘┌─┴─┐                ░ ├───────┤ ░                ┌─┴─┐└───┘└╥┘\n",
       "q_1: |0>─────┤ X ├──■─────────────░─┤ Rz(θ) ├─░─────────────■──┤ X ├──────╫─\n",
       "             └───┘┌─┴─┐           ░ ├───────┤ ░           ┌─┴─┐└───┘      ║ \n",
       "q_2: |0>──────────┤ X ├──■────────░─┤ Rz(θ) ├─░────────■──┤ X ├───────────╫─\n",
       "                  └───┘┌─┴─┐      ░ ├───────┤ ░      ┌─┴─┐└───┘           ║ \n",
       "q_3: |0>───────────────┤ X ├──■───░─┤ Rz(θ) ├─░───■──┤ X ├────────────────╫─\n",
       "                       └───┘┌─┴─┐ ░ ├───────┤ ░ ┌─┴─┐└───┘                ║ \n",
       "q_4: |0>────────────────────┤ X ├─░─┤ Rz(θ) ├─░─┤ X ├─────────────────────╫─\n",
       "                            └───┘ ░ └───────┘ ░ └───┘                     ║ \n",
       " c_0: 0 ══════════════════════════════════════════════════════════════════╩═\n",
       "                                                                            </pre>"
      ],
      "text/plain": [
       "<qiskit.visualization.text.TextDrawing at 0x125b1a160>"
      ]
     },
     "execution_count": 16,
     "metadata": {},
     "output_type": "execute_result"
    }
   ],
   "source": [
    "from qiskit.circuit import Parameter\n",
    "\n",
    "theta = Parameter('θ')\n",
    "\n",
    "n = 5\n",
    "\n",
    "qc = QuantumCircuit(5, 1)\n",
    "qr = qc.qregs[0]\n",
    "\n",
    "qc.h(0)\n",
    "\n",
    "for i in range(n-1):\n",
    "    qc.cx(i, i+1)\n",
    "\n",
    "qc.barrier()\n",
    "qc.rz(theta, range(5))\n",
    "qc.barrier()\n",
    "\n",
    "for i in reversed(range(n-1)):\n",
    "    qc.cx(i, i+1)\n",
    "\n",
    "qc.h(0)\n",
    "qc.measure(0, 0)\n",
    "\n",
    "qc.draw()"
   ]
  },
  {
   "cell_type": "markdown",
   "metadata": {},
   "source": [
    "In the above example, we want to quickly construct a series of experiments which will vary the angle of a global $R_z$ rotation. We can inspect the parameters"
   ]
  },
  {
   "cell_type": "code",
   "execution_count": 17,
   "metadata": {
    "ExecuteTime": {
     "end_time": "2019-05-01T17:26:21.032809Z",
     "start_time": "2019-05-01T17:26:21.028377Z"
    }
   },
   "outputs": [
    {
     "name": "stdout",
     "output_type": "stream",
     "text": [
      "{Parameter(θ)}\n"
     ]
    }
   ],
   "source": [
    "print(qc.parameters)"
   ]
  },
  {
   "cell_type": "markdown",
   "metadata": {},
   "source": [
    "All circuit parameters must be bound before sending the circuit to a backend. This can be done in one of two ways:\n",
    "- The `bind_parameters` function accepts a dictionary mapping `Parameter`s to values, and returns new copy of the circuit with each parameter replaced with its matching value. Partial assignment is supported, in which case a new  circuit will be returned, parameterized by any `Parameter`s which were not mapped to a value."
   ]
  },
  {
   "cell_type": "code",
   "execution_count": 18,
   "metadata": {
    "ExecuteTime": {
     "end_time": "2019-05-01T17:26:23.461496Z",
     "start_time": "2019-05-01T17:26:23.206706Z"
    }
   },
   "outputs": [
    {
     "name": "stdout",
     "output_type": "stream",
     "text": [
      "OPENQASM 2.0;\n",
      "include \"qelib1.inc\";\n",
      "qreg q[5];\n",
      "creg c[1];\n",
      "h q[0];\n",
      "cx q[0],q[1];\n",
      "cx q[1],q[2];\n",
      "cx q[2],q[3];\n",
      "cx q[3],q[4];\n",
      "barrier q[0],q[1],q[2],q[3],q[4];\n",
      "rz(6.283185307179586) q[0];\n",
      "rz(6.283185307179586) q[1];\n",
      "rz(6.283185307179586) q[2];\n",
      "rz(6.283185307179586) q[3];\n",
      "rz(6.283185307179586) q[4];\n",
      "barrier q[0],q[1],q[2],q[3],q[4];\n",
      "cx q[3],q[4];\n",
      "cx q[2],q[3];\n",
      "cx q[1],q[2];\n",
      "cx q[0],q[1];\n",
      "h q[0];\n",
      "measure q[0] -> c[0];\n",
      "\n",
      "        ┌───┐                     ░ ┌────────────┐ ░                     ┌───┐┌─┐\n",
      "q_0: |0>┤ H ├──■──────────────────░─┤ Rz(6.2832) ├─░──────────────────■──┤ H ├┤M├\n",
      "        └───┘┌─┴─┐                ░ ├────────────┤ ░                ┌─┴─┐└───┘└╥┘\n",
      "q_1: |0>─────┤ X ├──■─────────────░─┤ Rz(6.2832) ├─░─────────────■──┤ X ├──────╫─\n",
      "             └───┘┌─┴─┐           ░ ├────────────┤ ░           ┌─┴─┐└───┘      ║ \n",
      "q_2: |0>──────────┤ X ├──■────────░─┤ Rz(6.2832) ├─░────────■──┤ X ├───────────╫─\n",
      "                  └───┘┌─┴─┐      ░ ├────────────┤ ░      ┌─┴─┐└───┘           ║ \n",
      "q_3: |0>───────────────┤ X ├──■───░─┤ Rz(6.2832) ├─░───■──┤ X ├────────────────╫─\n",
      "                       └───┘┌─┴─┐ ░ ├────────────┤ ░ ┌─┴─┐└───┘                ║ \n",
      "q_4: |0>────────────────────┤ X ├─░─┤ Rz(6.2832) ├─░─┤ X ├─────────────────────╫─\n",
      "                            └───┘ ░ └────────────┘ ░ └───┘                     ║ \n",
      " c_0: 0 ═══════════════════════════════════════════════════════════════════════╩═\n",
      "                                                                                 \n",
      "set()\n"
     ]
    }
   ],
   "source": [
    "import numpy as np\n",
    "\n",
    "theta_range = np.linspace(0, 2 * np.pi, 128)\n",
    "circuits = [qc.bind_parameters({theta: theta_val})\n",
    "            for theta_val in theta_range]\n",
    "\n",
    "# print(circuits[-1].qasm().replace('\\n', '\\n'))\n",
    "print(circuits[-1].draw(line_length=120))\n",
    "print(circuits[-1].parameters)"
   ]
  },
  {
   "cell_type": "markdown",
   "metadata": {
    "ExecuteTime": {
     "end_time": "2019-04-24T14:50:01.024512Z",
     "start_time": "2019-04-24T14:49:58.620Z"
    }
   },
   "source": [
    "### Support for parameterized circuits in either assemble circuits and execute\n",
    "\n",
    "- execute should be smart enough to compile/assign/compile correctly for parameterized circuits\n",
    "- if you assemble, you have to manage transpile/assign/transpile/assemble "
   ]
  },
  {
   "cell_type": "markdown",
   "metadata": {},
   "source": [
    "- `qiskit.execute` and `qiskit.compiler.assemble` both accept a `parameter_binds` keyword argumend, a list of dictionaries mapping `Parameter`s to values. Each dictionary in the `parameter_binds` list will be expanded and executed as a single circuit on the backend."
   ]
  },
  {
   "cell_type": "code",
   "execution_count": 19,
   "metadata": {
    "ExecuteTime": {
     "end_time": "2019-05-01T17:26:32.296728Z",
     "start_time": "2019-05-01T17:26:30.397481Z"
    }
   },
   "outputs": [],
   "source": [
    "from qiskit import BasicAer, execute\n",
    "\n",
    "## Following are equivalent:\n",
    "# job = execute(circuits, backend=BasicAer.get_backend('qasm_simulator'))\n",
    "job = execute(qc,\n",
    "              backend=BasicAer.get_backend('qasm_simulator'),\n",
    "              parameter_binds=[{theta: theta_val} for theta_val in theta_range])\n",
    "\n",
    "# TODO Bindings are lost after `assign_variables`, (user has to track experiment order to know which experiments ran with which binds)\n",
    "counts = [job.result().get_counts(i) for i in range(len(job.result().results))]\n"
   ]
  },
  {
   "cell_type": "markdown",
   "metadata": {},
   "source": [
    "In the example circuit considered so far, we apply a global $R_z(\\theta)$ rotation on 5-qubit entangled state, and so expect to see oscillation in qubit-0 at $5\\theta$."
   ]
  },
  {
   "cell_type": "code",
   "execution_count": 20,
   "metadata": {
    "ExecuteTime": {
     "end_time": "2019-05-01T17:26:35.118572Z",
     "start_time": "2019-05-01T17:26:34.871545Z"
    }
   },
   "outputs": [
    {
     "data": {
      "image/png": "[encoded data removed]",
      "text/plain": [
       "<Figure size 432x288 with 1 Axes>"
      ]
     },
     "metadata": {},
     "output_type": "display_data"
    }
   ],
   "source": [
    "%matplotlib inline\n",
    "import matplotlib.pyplot as plt\n",
    "import matplotlib.ticker as tck\n",
    "plt.style.use('ggplot')\n",
    "\n",
    "fig = plt.figure()\n",
    "ax = fig.add_subplot(111)\n",
    "\n",
    "ax.plot(theta_range, list(map(lambda c: c.get('0', 0), counts)), '.-', label='0')\n",
    "ax.plot(theta_range, list(map(lambda c: c.get('1', 0), counts)), '.-', .label='1') \n",
    "\n",
    "ax.set_xlabel('θ')\n",
    "ax.legend()\n",
    "plt.show()"
   ]
  },
  {
   "cell_type": "markdown",
   "metadata": {},
   "source": [
    "### Composition"
   ]
  },
  {
   "cell_type": "markdown",
   "metadata": {},
   "source": [
    "Parameterized circuits can be composed just like other circuits. Generally, when composing circuits two parameterized circuits, the resulting circuit will be parameterized by the union of parameters of source circuits.\n",
    "\n",
    "If the two source circuits have a parameter of the same name:\n",
    " - If it's a different Parameter instance, an error will be raised\n",
    " - If it's the same Parameter instance, the new instruction will add to the circuit, parameterized by the circuits original θ\n"
   ]
  },
  {
   "cell_type": "markdown",
   "metadata": {
    "ExecuteTime": {
     "end_time": "2019-04-24T14:50:01.020312Z",
     "start_time": "2019-04-24T14:49:58.618Z"
    }
   },
   "source": [
    "### Compilation cost"
   ]
  },
  {
   "cell_type": "markdown",
   "metadata": {},
   "source": [
    "Compiling over a parameterized circuit and then binding parameters can, in some cases, significantly reduce compilation time as compared to compiling a set of independent circuits. Some optimizations may be disabled or less effective over parameterized circuits, so in cases where optimal device is required, a second round of compilation may be required."
   ]
  },
  {
   "cell_type": "code",
   "execution_count": 14,
   "metadata": {
    "ExecuteTime": {
     "end_time": "2019-04-26T22:51:04.300119Z",
     "start_time": "2019-04-26T22:40:36.612704Z"
    }
   },
   "outputs": [
    {
     "name": "stdout",
     "output_type": "stream",
     "text": [
      "627.6678950786591\n"
     ]
    }
   ],
   "source": [
    "import time\n",
    "from itertools import combinations\n",
    "from qiskit.compiler import transpile\n",
    "from qiskit.test.mock import FakeTokyo\n",
    "\n",
    "start = time.time()\n",
    "qcs = []\n",
    "for n in np.linspace(0, 2*np.pi, 64):\n",
    "    qc = QuantumCircuit(20)\n",
    "    theta = Parameter('theta')\n",
    "    for k in range(128):\n",
    "        for i,j in combinations(range(20), 2):\n",
    "            qc.cx(i,j)\n",
    "        qc.rz(n, range(20))\n",
    "        for i,j in combinations(range(20), 2):\n",
    "            qc.cx(i,j)\n",
    "\n",
    "    #qcs = [qc.bind_parameters({theta: n})\n",
    "    #   for n in np.linspace(0, 2*np.pi, 64)]\n",
    "    compiled_circuit = transpile(qc, {'backend': FakeTokyo()}) # TODO Should be a transpileConfig?\n",
    "    qcs.append(qc)\n",
    "end = time.time()\n",
    "print(end-start)"
   ]
  },
  {
   "cell_type": "code",
   "execution_count": null,
   "metadata": {
    "ExecuteTime": {
     "end_time": "2019-04-26T23:18:27.880771Z",
     "start_time": "2019-04-26T22:56:04.497113Z"
    }
   },
   "outputs": [],
   "source": [
    "start = time.time()\n",
    "qc = QuantumCircuit(20)\n",
    "theta = Parameter('theta')\n",
    "for k in range(128):\n",
    "    for i,j in combinations(range(20), 2):\n",
    "        qc.cx(i,j)\n",
    "    qc.rz(theta, range(20))\n",
    "    for i,j in combinations(range(20), 2):\n",
    "        qc.cx(i,j)\n",
    "\n",
    "qc1 = transpile(qc, {'backend': FakeTokyo()})\n",
    "compiled_circuits = assemble([qc1.bind_parameters({theta: n}) for n in np.linspace(0, 2*np.pi, 64)], {'backend': FakeTokyo()})\n",
    "end = time.time()\n",
    "print(end-start)"
   ]
  },
  {
   "cell_type": "markdown",
   "metadata": {},
   "source": [
    "## Bringing it all together: QPE Demo"
   ]
  },
  {
   "cell_type": "code",
   "execution_count": null,
   "metadata": {},
   "outputs": [],
   "source": [
    "p = Parameter('p')\n",
    "qc = QuantumCircuit(3)\n",
    "qc.rz(p, 0)\n",
    "qc.cx(0, 1)\n",
    "qc.rz(p, 1)\n",
    "qc.cx(1, 2)\n",
    "qc.rz(p, 2)\n",
    "\n",
    "theta = Parameter('theta')\n",
    "phi = Parameter('phi')\n",
    "gamma = Parameter('gamma')\n",
    "\n",
    "qr = QuantumRegister(9)\n",
    "larger_qc = QuantumCircuit(qr)\n",
    "larger_qc.append(qc.to_instruction({p: theta}), qr[0:3])\n",
    "larger_qc.append(qc.to_instruction({p: phi}), qr[3:6])\n",
    "larger_qc.append(qc.to_instruction({p: gamma}, qr[6:9])\n",
    "print(larger_qc.draw())\n",
    "\n",
    "         ┌──────────────────┐\n",
    "q0_0: |0>┤0                 ├\n",
    "         │                  │\n",
    "q0_1: |0>┤1 circuit1(theta) ├\n",
    "         │                  │\n",
    "q0_2: |0>┤2                 ├\n",
    "         └┬────────────────┬┘\n",
    "q0_3: |0>─┤0               ├─\n",
    "          │                │\n",
    "q0_4: |0>─┤1 circuit1(phi) ├─\n",
    "          │                │\n",
    "q0_5: |0>─┤2               ├─\n",
    "         ┌┴────────────────┴┐\n",
    "q0_6: |0>┤0                 ├\n",
    "         │                  │\n",
    "q0_7: |0>┤1 circuit1(gamma) ├\n",
    "         │                  │\n",
    "q0_8: |0>┤2                 ├\n",
    "         └──────────────────┘\n",
    "\n",
    "print(larger_qc.decompose().draw())\n",
    "         ┌───────────┐\n",
    "q0_0: |0>┤ Rz(theta) ├──■─────────────────────────────────\n",
    "         └───────────┘┌─┴─┐┌───────────┐\n",
    "q0_1: |0>─────────────┤ X ├┤ Rz(theta) ├──■───────────────\n",
    "                      └───┘└───────────┘┌─┴─┐┌───────────┐\n",
    "q0_2: |0>───────────────────────────────┤ X ├┤ Rz(theta) ├\n",
    "          ┌─────────┐                   └───┘└───────────┘\n",
    "q0_3: |0>─┤ Rz(phi) ├───■─────────────────────────────────\n",
    "          └─────────┘ ┌─┴─┐ ┌─────────┐\n",
    "q0_4: |0>─────────────┤ X ├─┤ Rz(phi) ├───■───────────────\n",
    "                      └───┘ └─────────┘ ┌─┴─┐ ┌─────────┐\n",
    "q0_5: |0>───────────────────────────────┤ X ├─┤ Rz(phi) ├─\n",
    "         ┌───────────┐                  └───┘ └─────────┘\n",
    "q0_6: |0>┤ Rz(gamma) ├──■─────────────────────────────────\n",
    "         └───────────┘┌─┴─┐┌───────────┐\n",
    "q0_7: |0>─────────────┤ X ├┤ Rz(gamma) ├──■───────────────\n",
    "                      └───┘└───────────┘┌─┴─┐┌───────────┐\n",
    "q0_8: |0>───────────────────────────────┤ X ├┤ Rz(gamma) ├\n",
    "                                        └───┘└───────────┘\n"
   ]
  },
  {
   "cell_type": "code",
   "execution_count": null,
   "metadata": {},
   "outputs": [],
   "source": [
    ".to_instruction()"
   ]
  },
  {
   "cell_type": "code",
   "execution_count": null,
   "metadata": {},
   "outputs": [],
   "source": [
    "\n",
    "parameter copy\n",
    "__add__"
   ]
  },
  {
   "cell_type": "code",
   "execution_count": null,
   "metadata": {},
   "outputs": [],
   "source": [
    "Two examples, have an instruction/circuit, where I want to repeat it sharing the parameter\n",
    "where I want to repeat it with different parameters\n",
    "\n",
    "copy => new param\n",
    "one option, append requires params if parameterized\n",
    "\n",
    "still need a way to bind_parameters\n",
    "\n",
    "inverse\n"
   ]
  },
  {
   "cell_type": "code",
   "execution_count": null,
   "metadata": {},
   "outputs": [],
   "source": [
    ">>> qc = qk.QuantumCircuit(3)\n",
    ">>> qc.cx(0, 1)\n",
    "<qiskit.extensions.standard.cx.CnotGate object at 0x12842f470>\n",
    ">>> qc.cx(1, 2)\n",
    "<qiskit.extensions.standard.cx.CnotGate object at 0x119457898>\n",
    ">>> shingle = qc.to_instruction()\n",
    ">>> qc = qk.QuantumCircuit(5)\n",
    ">>> qr = qc.qregs[0]\n",
    ">>> qc.append(shingle, [qr[0],qr[1],qr[2]])\n",
    "<qiskit.circuit.instruction.Instruction object at 0x10c441240>\n",
    ">>> qc.append(shingle, qr[1:4])\n",
    "<qiskit.circuit.instruction.Instruction object at 0x10c441240>\n",
    ">>> qc.append(shingle, qr[2:5])\n",
    "<qiskit.circuit.instruction.Instruction object at 0x10c441240>\n",
    ">>> print(qc)\n",
    "        ┌────────────┐\n",
    "q_0: |0>┤0           ├────────────────────────────\n",
    "        │            │┌────────────┐\n",
    "q_1: |0>┤1 circuit13 ├┤0           ├──────────────\n",
    "        │            ││            │┌────────────┐\n",
    "q_2: |0>┤2           ├┤1 circuit13 ├┤0           ├\n",
    "        └────────────┘│            ││            │\n",
    "q_3: |0>──────────────┤2           ├┤1 circuit13 ├\n",
    "                      └────────────┘│            │\n",
    "q_4: |0>────────────────────────────┤2           ├\n",
    "                                    └────────────┘\n",
    "                        \n",
    "\n",
    "adv register indexing would be better here, qr[1:], qr[:-1]"
   ]
  },
  {
   "cell_type": "code",
   "execution_count": null,
   "metadata": {},
   "outputs": [],
   "source": []
  }
 ],
 "metadata": {
  "kernelspec": {
   "display_name": "qiskit-terra",
   "language": "python",
   "name": "qiskit-terra"
  },
  "language_info": {
   "codemirror_mode": {
    "name": "ipython",
    "version": 3
   },
   "file_extension": ".py",
   "mimetype": "text/x-python",
   "name": "python",
   "nbconvert_exporter": "python",
   "pygments_lexer": "ipython3",
   "version": "3.5.6"
  }
 },
 "nbformat": 4,
 "nbformat_minor": 2
}
