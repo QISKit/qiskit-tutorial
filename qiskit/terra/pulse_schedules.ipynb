{
 "cells": [
  {
   "cell_type": "markdown",
   "metadata": {},
   "source": [
    "<img src=\"../../images/qiskit-heading.gif\" alt=\"Note: In order for images to show up in this jupyter notebook you need to select File => Trusted Notebook\" width=\"500 px\" align=\"left\">"
   ]
  },
  {
   "cell_type": "markdown",
   "metadata": {},
   "source": [
    "# Pulse Schedules\n",
    "\n",
    "The `pulse` module allows quantum experiments to be described at the level of pulses. For IBMQ devices these are microwave pulses applied to our superconducting qubits. \n",
    "\n",
    "The pulse `Schedule`, `Instruction`, `Command` and `Channel` are the main objects of the pulse module. \n",
    "\n",
    "\n",
    "\n",
    "All instances of these objects are **immutable**, which results in:\n",
    "- An API that is easier to reason about\n",
    "- Objects that may be reused many times as components of parent objects without the problem of child object guruantees changing"
   ]
  },
  {
   "cell_type": "code",
   "execution_count": 2,
   "metadata": {},
   "outputs": [],
   "source": [
    "import numpy as np\n",
    "from qiskit import pulse\n",
    "from qiskit.pulse import pulse_lib"
   ]
  },
  {
   "cell_type": "markdown",
   "metadata": {},
   "source": [
    "# Channels\n",
    "\n",
    "Channels correspond to physical channels on the backend. Channels are combined with Commands to form an Instruction. Channels have a notion of unitless time, and only a single command may be scheduled on any given time interval. \n",
    "\n",
    "As all channels correspond to physical channels on a device, they have an index which specifies their corresponding device channel and a buffer, which is the buffering time between commands.\n",
    "\n",
    "The fundamental channel types are: \n",
    "- `DriveChannel`: Qubit drive channel\n",
    "- `MeasureChannel`: Qubit stimulus channel\n",
    "- `ControlChannel`: Arbitrary control channel with action specified by Hamiltonian provided by device.\n",
    "- `AcquireChannel`: Qubit acquisition channel\n",
    "- `MemorySlot`: Channel for storage of qubit results for measurement levels 0,1 and 2\n",
    "- `RegisterSlot`: Channel for storage of qubit results for use with conditional commands\n",
    "- `Snapshot`: Channel for snapshots (for use with simulators only)\n",
    "\n",
    "Channels may be declared using the following commands"
   ]
  },
  {
   "cell_type": "code",
   "execution_count": 3,
   "metadata": {},
   "outputs": [],
   "source": [
    "drive_ch0 = pulse.DriveChannel(0, buffer=2)\n",
    "meas_ch0 = pulse.MeasureChannel(0, buffer=2)\n",
    "control_ch0 = pulse.ControlChannel(0, buffer=2)\n",
    "acquire_ch0 = pulse.AcquireChannel(0, buffer=0)\n",
    "memory_slot0 = pulse.MemorySlot(0)\n",
    "\n",
    "drive_ch1 = pulse.DriveChannel(1, buffer=2)\n",
    "meas_ch1 = pulse.MeasureChannel(1, buffer=2)\n",
    "control_ch1 = pulse.ControlChannel(1, buffer=2)\n",
    "acquire_ch1 = pulse.AcquireChannel(1, buffer=0)\n",
    "memory_slot0 = pulse.MemorySlot(1)"
   ]
  },
  {
   "cell_type": "markdown",
   "metadata": {},
   "source": [
    "The buffer parameter is optional and both index and buffer may be accessed."
   ]
  },
  {
   "cell_type": "code",
   "execution_count": 4,
   "metadata": {},
   "outputs": [
    {
     "name": "stdout",
     "output_type": "stream",
     "text": [
      "0\n",
      "2\n"
     ]
    }
   ],
   "source": [
    "print(drive_ch0.index)\n",
    "print(drive_ch0.buffer)"
   ]
  },
  {
   "cell_type": "markdown",
   "metadata": {},
   "source": [
    "Channels can be checked for equivalency. This check is based on the channel index as every channel corresponds to a unique device channel and as a consequence so are pulse schedules."
   ]
  },
  {
   "cell_type": "code",
   "execution_count": 5,
   "metadata": {},
   "outputs": [
    {
     "data": {
      "text/plain": [
       "True"
      ]
     },
     "execution_count": 5,
     "metadata": {},
     "output_type": "execute_result"
    }
   ],
   "source": [
    "drive_ch0 == drive_ch0"
   ]
  },
  {
   "cell_type": "code",
   "execution_count": 6,
   "metadata": {},
   "outputs": [
    {
     "data": {
      "text/plain": [
       "True"
      ]
     },
     "execution_count": 6,
     "metadata": {},
     "output_type": "execute_result"
    }
   ],
   "source": [
    "drive_ch0 == pulse.DriveChannel(0)"
   ]
  },
  {
   "cell_type": "code",
   "execution_count": 7,
   "metadata": {},
   "outputs": [
    {
     "data": {
      "text/plain": [
       "False"
      ]
     },
     "execution_count": 7,
     "metadata": {},
     "output_type": "execute_result"
    }
   ],
   "source": [
    "drive_ch0 == drive_ch1"
   ]
  },
  {
   "cell_type": "code",
   "execution_count": null,
   "metadata": {},
   "outputs": [],
   "source": []
  }
 ],
 "metadata": {
  "kernelspec": {
   "display_name": "Python 3",
   "language": "python",
   "name": "python3"
  },
  "language_info": {
   "codemirror_mode": {
    "name": "ipython",
    "version": 3
   },
   "file_extension": ".py",
   "mimetype": "text/x-python",
   "name": "python",
   "nbconvert_exporter": "python",
   "pygments_lexer": "ipython3",
   "version": "3.7.3"
  }
 },
 "nbformat": 4,
 "nbformat_minor": 2
}
