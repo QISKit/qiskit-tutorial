{
 "cells": [
  {
   "cell_type": "markdown",
   "metadata": {},
   "source": [
    "<img src=\"../../images/qiskit-heading.gif\" alt=\"Note: In order for images to show up in this jupyter notebook you need to select File => Trusted Notebook\" width=\"500 px\" align=\"left\">"
   ]
  },
  {
   "cell_type": "markdown",
   "metadata": {},
   "source": [
    "## _*Quantum Teleportation and Superdense Coding*_ \n",
    "\n",
    "\n",
    "The latest version of this notebook is available on https://github.com/qiskit/qiskit-tutorial.\n",
    "\n",
    "***\n",
    "### Contributors\n",
    "Anna Phan, Jay Gambetta, Takashi Imamichi"
   ]
  },
  {
   "cell_type": "markdown",
   "metadata": {},
   "source": [
    "## Introduction\n",
    "\n",
    "In [superposition and entanglement](superposition_and_entanglement.ipynb), we introduced you to the quantum concept of entanglement, in particular, the maximally entangled quantum state $|\\psi\\rangle = (|00\\rangle + |11\\rangle)$. In [entanglement revisited](entanglement_revisited.ipynb), we explored this state in detail, running various experiments to compare quantum mechanics to hidden variable models. In this notebook, we will explore how this state can be used in two quantum communication protocols:\n",
    "* [Teleportation](#teleportation), where a qubit state is transmitted using two classical bits; and\n",
    "* [Superdense Coding](#superdensecoding), where two classical bits are transmitted using one qubit. "
   ]
  },
  {
   "cell_type": "code",
   "execution_count": 2,
   "metadata": {
    "ExecuteTime": {
     "end_time": "2018-09-29T01:23:57.423948Z",
     "start_time": "2018-09-29T01:23:57.186244Z"
    },
    "collapsed": true
   },
   "outputs": [],
   "source": [
    "# useful additional packages \n",
    "import matplotlib.pyplot as plt\n",
    "%matplotlib inline\n",
    "import numpy as np\n",
    "from pprint import pprint\n",
    "\n",
    "# importing Qiskit\n",
    "from qiskit import QuantumCircuit, QuantumRegister, ClassicalRegister\n",
    "from qiskit import execute, register\n",
    "\n",
    "# import basic plot tools\n",
    "from qiskit.tools.visualization import plot_histogram, circuit_drawer"
   ]
  },
  {
   "cell_type": "code",
   "execution_count": 1,
   "metadata": {
    "ExecuteTime": {
     "end_time": "2018-09-29T01:23:54.858565Z",
     "start_time": "2018-09-29T01:23:54.850358Z"
    },
    "collapsed": true
   },
   "outputs": [],
   "source": [
    "from qiskit import Aer, IBMQ"
   ]
  },
  {
   "cell_type": "code",
   "execution_count": 4,
   "metadata": {
    "ExecuteTime": {
     "end_time": "2018-09-29T01:25:46.168529Z",
     "start_time": "2018-09-29T01:25:46.165068Z"
    },
    "collapsed": true
   },
   "outputs": [],
   "source": [
    "backend = Aer.get_backend('qasm_simulator') # run on local simulator by default \n",
    "\n",
    "# Uncomment the following lines to run on a real device\n",
    "# IBMQ.load_accounts()\n",
    "# from qiskit.backends.ibmq import least_busy\n",
    "# backend = least_busy(IBMQ.backends(filters=lambda x: not x.configuration()['simulator']))\n",
    "# print(\"the best backend is \" + backend.name)"
   ]
  },
  {
   "cell_type": "markdown",
   "metadata": {},
   "source": [
    "## _Quantum Teleportation_<a id='teleportation'></a>\n",
    "\n",
    "Quantum teleportation is a protocol to transmit quantum states from one location to another, assisted by a previously shared entangled state and a classical communication channel. It was devised by Charles H. Bennett (IBM), Gilles Brassard, Claude Crépeau, Richard Jozsa, Asher Peres, and William K. Wootters in [1993](https://journals.aps.org/prl/abstract/10.1103/PhysRevLett.70.1895). It was first demonstrated with photons in [1997](http://www.nature.com/nature/journal/v390/n6660/abs/390575a0.html), and has since been realised in [atoms](http://www.nature.com/nphys/journal/v9/n7/abs/nphys2631.html), [ions](http://www.nature.com/nature/journal/v429/n6993/full/nature02570.html, http://www.nature.com/nature/journal/v429/n6993/full/nature02608.html), [electrons](http://science.sciencemag.org/content/345/6196/532) and [superconducting circuits](http://www.nature.com/nature/journal/v500/n7462/full/nature12422.html). The [record](http://www.nature.com/nature/journal/v489/n7415/full/nature11472.html) distance for quantum teleportation is 143 km via satellite, set in 2012.\n",
    "\n",
    "<img src=\"../../images/teleportation.png\" alt=\"Note: In order for images to show up in this jupyter notebook you need to select File => Trusted Notebook\" width=\"600 px\" align=\"center\">\n",
    "\n",
    "As illustrated above, the protocol starts out with a shared entangled state between the sender (Alice) and the receiver (Bob):\n",
    "$$|\\psi\\rangle_{AB} = \\frac{1}{\\sqrt{2}}(|0\\rangle_A \\otimes |0\\rangle_B + |1\\rangle_A \\otimes |1\\rangle_B)$$\n",
    "The first qubit, denoted by subscript $A$, belongs to Alice, and the second qubit, $B$, belongs to Bob.\n",
    "\n",
    "Alice has a quantum state that she wants to convey to Bob:\n",
    "$$|\\psi\\rangle_{C} = \\alpha|0\\rangle_C + \\beta|1\\rangle_C$$\n",
    "\n",
    "At this point, Alice has two quantum states ($C$, the one she wants to teleport, and $A$, one of the entangled pair), and Bob has one quantum state. The total state of the system is given by:\n",
    "$$|\\psi\\rangle_{AB} \\otimes |\\psi\\rangle_C = \\frac{1}{\\sqrt{2}}(|0\\rangle_A \\otimes |0\\rangle_B + |1\\rangle_A \\otimes |1\\rangle_B) \\otimes (\\alpha|0_C\\rangle + \\beta|1_C\\rangle)$$\n",
    "or, in the Bell basis:\n",
    "$$|\\psi\\rangle_{AB} \\otimes |\\psi\\rangle_C = \\frac{1}{2}[\n",
    "|\\Phi^+\\rangle_{AC}\\otimes(\\alpha|0\\rangle_B + \\beta|1\\rangle_B) + \n",
    "|\\Phi^-\\rangle_{AC}\\otimes(\\alpha|0\\rangle_B - \\beta|1\\rangle_B) + \\\\\n",
    "|\\Psi^+\\rangle_{AC}\\otimes(\\alpha|0\\rangle_B + \\beta|1\\rangle_B) + \n",
    "|\\Psi^-\\rangle_{AC}\\otimes(\\alpha|0\\rangle_B - \\beta|1\\rangle_B) ]$$\n",
    "where:\n",
    "$$|0\\rangle \\otimes |0\\rangle = \\frac{1}{\\sqrt{2}}(|\\Phi^+\\rangle + |\\Phi^-\\rangle), \n",
    "|0\\rangle \\otimes |1\\rangle = \\frac{1}{\\sqrt{2}}(|\\Psi^+\\rangle + |\\Psi^-\\rangle)\\\\\n",
    "|1\\rangle \\otimes |0\\rangle = \\frac{1}{\\sqrt{2}}(|\\Psi^+\\rangle - |\\Psi^-\\rangle), \n",
    "|1\\rangle \\otimes |1\\rangle = \\frac{1}{\\sqrt{2}}(|\\Phi^+\\rangle - |\\Phi^-\\rangle).$$\n",
    "\n",
    "Alice now measures her two quantum states, $A$ and $C$, in the Bell basis. This will collapse the three state system into the one of the following four states with equal probability, with the corresponding measurement outcomes:\n",
    "- **00**: $|\\Phi^+\\rangle_{AC}\\otimes(\\alpha|0\\rangle_B + \\beta|1\\rangle_B)$\n",
    "- **01**: $|\\Phi^-\\rangle_{AC}\\otimes(\\alpha|0\\rangle_B - \\beta|1\\rangle_B)$\n",
    "- **10**: $|\\Psi^+\\rangle_{AC}\\otimes(\\alpha|1\\rangle_B + \\beta|0\\rangle_B)$ \n",
    "- **11**: $|\\Psi^-\\rangle_{AC}\\otimes(-\\alpha|1\\rangle_B + \\beta|0\\rangle_B)$\n",
    "\n",
    "Alice now sends the results of her measurements to Bob. Using this information, he performs one of the following transformations on his quantum state to transform it to the desired state $\\alpha|0\\rangle_B - \\beta|1\\rangle_B$:\n",
    "- If he receives **00**, he applies $I = \\begin{pmatrix} 1 & 0 \\\\ 0 & 1 \\end{pmatrix}$\n",
    "- If he receives **01**, he applies $Z = \\begin{pmatrix} 1 & 0 \\\\ 0 & -1 \\end{pmatrix}$\n",
    "- If he receives **10**, he applies $X = \\begin{pmatrix} 0 & 1 \\\\ 1 & 0 \\end{pmatrix}$ \n",
    "- If he receives **11**, he applies $XZ = \\begin{pmatrix} 0 & -1 \\\\ 1 & 0 \\end{pmatrix}$ \n",
    "\n",
    "Transmission (teleportation) of $|\\psi\\rangle = \\alpha|0\\rangle + \\beta|1\\rangle$ is thus achieved. "
   ]
  },
  {
   "cell_type": "markdown",
   "metadata": {},
   "source": [
    "Recall from [superposition and entanglement](superposition_and_entanglement.ipynb) and [entanglement revisited](entanglement_revisited.ipynb) that the steps to make the shared entangled state $|\\psi\\rangle = \\frac{1}{\\sqrt{2}}(|0_A 0_B\\rangle + |1_A 1_B\\rangle)$ are:\n",
    "1. Start with an initial state $|0_A 0_B\\rangle$\n",
    "2. Apply $H = \\frac{1}{\\sqrt{2}}\\begin{pmatrix} 1 & 1 \\\\ 1 & -1 \\end{pmatrix}$ on $q_A$ \n",
    "3. Then a $CNOT = \\begin{pmatrix} 1 & 0 & 0 & 0\\\\ 0 & 0 & 0 & 1\\\\0& 0& 1 & 0\\\\0 & 1 & 0 & 0 \\end{pmatrix}$ from $q_A$ to $q_B$\n",
    "\n",
    "With $q_A = q_1$ and $q_B = q_2$, this looks like:"
   ]
  },
  {
   "cell_type": "code",
   "execution_count": 5,
   "metadata": {
    "ExecuteTime": {
     "end_time": "2018-09-29T01:25:49.119614Z",
     "start_time": "2018-09-29T01:25:49.111487Z"
    }
   },
   "outputs": [
    {
     "data": {
      "text/plain": [
       "<qiskit.extensions.standard.cx.CnotGate at 0xa1b7a2828>"
      ]
     },
     "execution_count": 5,
     "metadata": {},
     "output_type": "execute_result"
    }
   ],
   "source": [
    "# Creating registers\n",
    "tq = QuantumRegister(3)\n",
    "tc0 = ClassicalRegister(1)\n",
    "tc1 = ClassicalRegister(1)\n",
    "tc2 = ClassicalRegister(1)\n",
    "\n",
    "# Quantum circuit to make the shared entangled state \n",
    "teleport = QuantumCircuit(tq, tc0,tc1,tc2)\n",
    "teleport.h(tq[1])\n",
    "teleport.cx(tq[1], tq[2])"
   ]
  },
  {
   "cell_type": "markdown",
   "metadata": {},
   "source": [
    "Alice then prepares her quantum state to be teleported, $|\\psi\\rangle_{C} = \\alpha|0\\rangle_C + \\beta|1\\rangle_C$. In this experiment, $\\alpha = \\cos(\\frac{\\theta}{2})$ and $\\beta = \\sin(\\frac{\\theta}{2})$ where $\\theta = \\frac{\\pi}{4}$. This state can be created by applying a rotation around the y axis:\n",
    "$R_y(\\theta)$ on $q_C$\n",
    "\n",
    "With $q_C = q_0$, this looks like:"
   ]
  },
  {
   "cell_type": "code",
   "execution_count": 6,
   "metadata": {
    "ExecuteTime": {
     "end_time": "2018-09-29T01:25:49.690746Z",
     "start_time": "2018-09-29T01:25:49.684872Z"
    }
   },
   "outputs": [
    {
     "data": {
      "text/plain": [
       "<qiskit.extensions.standard.ry.RYGate at 0xa1ac6c8d0>"
      ]
     },
     "execution_count": 6,
     "metadata": {},
     "output_type": "execute_result"
    }
   ],
   "source": [
    "teleport.ry(np.pi/4,tq[0])"
   ]
  },
  {
   "cell_type": "markdown",
   "metadata": {},
   "source": [
    "Alice now applies $CNOT$ to her two quantum states $q_A(q_1)$ and $q_C(q_0)$, followed by an $H$, to entangle them and project them into the Bell basis:"
   ]
  },
  {
   "cell_type": "code",
   "execution_count": 7,
   "metadata": {
    "ExecuteTime": {
     "end_time": "2018-09-29T01:25:50.340964Z",
     "start_time": "2018-09-29T01:25:50.335022Z"
    }
   },
   "outputs": [
    {
     "data": {
      "text/plain": [
       "<qiskit.extensions.standard.barrier.Barrier at 0xa1bb52550>"
      ]
     },
     "execution_count": 7,
     "metadata": {},
     "output_type": "execute_result"
    }
   ],
   "source": [
    "teleport.cx(tq[0], tq[1])\n",
    "teleport.h(tq[0])\n",
    "teleport.barrier()"
   ]
  },
  {
   "cell_type": "markdown",
   "metadata": {},
   "source": [
    "She now measures her two quantum states $q_A(q_1)$ and $q_C(q_0)$:"
   ]
  },
  {
   "cell_type": "code",
   "execution_count": 8,
   "metadata": {
    "ExecuteTime": {
     "end_time": "2018-09-29T01:25:50.803157Z",
     "start_time": "2018-09-29T01:25:50.794385Z"
    }
   },
   "outputs": [
    {
     "data": {
      "text/plain": [
       "<qiskit._measure.Measure at 0xa1bb525c0>"
      ]
     },
     "execution_count": 8,
     "metadata": {},
     "output_type": "execute_result"
    }
   ],
   "source": [
    "teleport.measure(tq[0], tc0[0])\n",
    "teleport.measure(tq[1], tc1[0])"
   ]
  },
  {
   "cell_type": "markdown",
   "metadata": {},
   "source": [
    "Depending on the results of these measurements, Bob has to apply an $X$ or $Z$, or both, to his quantum state $q_B(q_2)$:"
   ]
  },
  {
   "cell_type": "code",
   "execution_count": 9,
   "metadata": {
    "ExecuteTime": {
     "end_time": "2018-09-29T01:25:51.189309Z",
     "start_time": "2018-09-29T01:25:51.182122Z"
    }
   },
   "outputs": [
    {
     "data": {
      "text/plain": [
       "<qiskit.extensions.standard.x.XGate at 0xa1bb527f0>"
      ]
     },
     "execution_count": 9,
     "metadata": {},
     "output_type": "execute_result"
    }
   ],
   "source": [
    "teleport.z(tq[2]).c_if(tc0, 1)\n",
    "teleport.x(tq[2]).c_if(tc1, 1)"
   ]
  },
  {
   "cell_type": "markdown",
   "metadata": {},
   "source": [
    "His state is now the same as the state Alice prepared earlier, which can be verified by measurement:"
   ]
  },
  {
   "cell_type": "code",
   "execution_count": 10,
   "metadata": {
    "ExecuteTime": {
     "end_time": "2018-09-29T01:25:51.759153Z",
     "start_time": "2018-09-29T01:25:51.752995Z"
    }
   },
   "outputs": [
    {
     "data": {
      "text/plain": [
       "<qiskit._measure.Measure at 0xa1ac6c710>"
      ]
     },
     "execution_count": 10,
     "metadata": {},
     "output_type": "execute_result"
    }
   ],
   "source": [
    "teleport.measure(tq[2], tc2[0])"
   ]
  },
  {
   "cell_type": "code",
   "execution_count": 11,
   "metadata": {
    "ExecuteTime": {
     "end_time": "2018-09-29T01:25:53.317500Z",
     "start_time": "2018-09-29T01:25:51.914340Z"
    }
   },
   "outputs": [
    {
     "data": {
      "image/png": "[encoded data removed]",
      "text/plain": [
       "<PIL.Image.Image image mode=RGB size=803x339 at 0xA1E7EAB00>"
      ]
     },
     "execution_count": 11,
     "metadata": {},
     "output_type": "execute_result"
    }
   ],
   "source": [
    "circuit_drawer(teleport)"
   ]
  },
  {
   "cell_type": "markdown",
   "metadata": {},
   "source": [
    "Let's now create and execute the quantum circuits and plot the results:"
   ]
  },
  {
   "cell_type": "code",
   "execution_count": 12,
   "metadata": {
    "ExecuteTime": {
     "end_time": "2018-09-29T01:25:53.362137Z",
     "start_time": "2018-09-29T01:25:53.325011Z"
    },
    "collapsed": true
   },
   "outputs": [],
   "source": [
    "local_backend = Aer.get_backend('qasm_simulator')\n",
    "teleport_job = execute(teleport, local_backend) # note that this circuit doesn't run on a real device\n",
    "teleport_result = teleport_job.result()"
   ]
  },
  {
   "cell_type": "markdown",
   "metadata": {},
   "source": [
    "We must manipulate the data to understand the results better, first only plotting the results of Alice's measurement:  \n",
    "\n",
    "Note each classical register is seperated by a space, and the order is c2 c1 c0."
   ]
  },
  {
   "cell_type": "code",
   "execution_count": 13,
   "metadata": {
    "ExecuteTime": {
     "end_time": "2018-09-29T01:25:53.600182Z",
     "start_time": "2018-09-29T01:25:53.364736Z"
    }
   },
   "outputs": [
    {
     "data": {
      "image/png": "[encoded data removed]",
      "text/plain": [
       "<Figure size 432x288 with 1 Axes>"
      ]
     },
     "metadata": {
      "needs_background": "light"
     },
     "output_type": "display_data"
    }
   ],
   "source": [
    "data = teleport_result.get_counts(teleport)\n",
    "alice = {}\n",
    "alice['00'] = data['0 0 0'] + data['1 0 0']\n",
    "alice['10'] = data['0 1 0'] + data['1 1 0']\n",
    "alice['01'] = data['0 0 1'] + data['1 0 1']\n",
    "alice['11'] = data['0 1 1'] + data['1 1 1']\n",
    "plot_histogram(alice)"
   ]
  },
  {
   "cell_type": "markdown",
   "metadata": {},
   "source": [
    "As expected, the probabilities are roughly equal.  \n",
    "\n",
    "Now, manipulate the data to plot the result of Bob's measurement:"
   ]
  },
  {
   "cell_type": "code",
   "execution_count": 14,
   "metadata": {
    "ExecuteTime": {
     "end_time": "2018-09-29T01:25:53.945920Z",
     "start_time": "2018-09-29T01:25:53.606228Z"
    }
   },
   "outputs": [
    {
     "data": {
      "image/png": "[encoded data removed]",
      "text/plain": [
       "<Figure size 432x288 with 1 Axes>"
      ]
     },
     "metadata": {
      "needs_background": "light"
     },
     "output_type": "display_data"
    }
   ],
   "source": [
    "bob = {}\n",
    "bob['0'] = data['0 0 0'] + data['0 1 0'] +  data['0 0 1'] + data['0 1 1']\n",
    "bob['1'] = data['1 0 0'] + data['1 1 0'] +  data['1 0 1'] + data['1 1 1']\n",
    "plot_histogram(bob)"
   ]
  },
  {
   "cell_type": "markdown",
   "metadata": {},
   "source": [
    "As expected, $|\\alpha|^2 = |\\cos(\\frac{\\pi}{8})|^2 \\approx 0.854$ (the probability of measuring 0) and $|\\beta|^2 = |\\sin(\\frac{\\pi}{8})|^2 \\approx 0.146$ (the probability of measuring 1)."
   ]
  },
  {
   "cell_type": "markdown",
   "metadata": {},
   "source": [
    "## _Quantum Superdense Coding_<a id='superdensecoding'></a>\n",
    "\n",
    "Quantum superdense coding is the dual protocol of quantum teleportation, whereby two classical bits of information are transmitted using only one qubit and a previously shared entangled state. It was devised by Charles Bennett (IBM) and Stephen Wiesner in [1992](https://journals.aps.org/prl/abstract/10.1103/PhysRevLett.69.2881). \n",
    "\n",
    "<img src=\"../../images/superdensecoding.png\" alt=\"Note: In order for images to show up in this jupyter notebook you need to select File => Trusted Notebook\" width=\"600 px\" align=\"center\">\n",
    "\n",
    "As illustrated above, and as in quantum teleportation, the protocol starts out with a shared entangled state between the sender (Alice) and the receiver (Bob):\n",
    "$$|\\psi\\rangle_{AB} = \\frac{1}{\\sqrt{2}}(|0\\rangle_A \\otimes |0\\rangle_B + |1\\rangle_A \\otimes |1\\rangle_B)$$\n",
    "The first qubit, denoted by subscript $A$, belongs to Alice, and the second qubit, $B$, belongs to Bob.\n",
    "\n",
    "Alice wants to send a two bit message to Bob, 00, 01, 10, or 11.  She performs a single qubit operation on her qubit which transforms the entangled state according to which message she wants to send:\n",
    "- For a message of **00**: Alice applies $I = \\begin{pmatrix} 1 & 0 \\\\ 0 & 1 \\end{pmatrix}$. The resultant state would be $|\\psi_{00}\\rangle = \\frac{1}{\\sqrt{2}}(|0_A 0_B\\rangle + |1_A 1_B\\rangle)$\n",
    "- For a message of **01**: Alice applies $X = \\begin{pmatrix} 0 & 1 \\\\ 1 & 0 \\end{pmatrix}$. The resultant state would be $|\\psi_{01}\\rangle = \\frac{1}{\\sqrt{2}}(|1_A 0_B\\rangle + |0_A 1_B\\rangle)$  \n",
    "- For a message of **10**: Alice applies $Z = \\begin{pmatrix} 1 & 0 \\\\ 0 & -1 \\end{pmatrix}$. The resultant state would be $|\\psi_{10}\\rangle = \\frac{1}{\\sqrt{2}}(|0_A 0_B\\rangle - |1_A 1_B\\rangle)$ \n",
    "- For a message of **11**: Alice applies $XZ = \\begin{pmatrix} 0 & -1 \\\\ 1 & 0 \\end{pmatrix}$. The resultant state would be $|\\psi_{11}\\rangle = \\frac{1}{\\sqrt{2}}(- |1_A 0_B\\rangle + |0_A 1_B\\rangle $\n",
    "\n",
    "The key to superdense coding is that these four states, $|\\psi_{00}\\rangle, |\\psi_{01}\\rangle, |\\psi_{10}\\rangle, |\\psi_{11}\\rangle$ (otherwise known as the [Bell states](https://en.wikipedia.org/wiki/Bell_state)), are orthonormal and are hence distinguishable by a quantum measurement."
   ]
  },
  {
   "cell_type": "code",
   "execution_count": 15,
   "metadata": {
    "ExecuteTime": {
     "end_time": "2018-09-29T01:25:53.953827Z",
     "start_time": "2018-09-29T01:25:53.947814Z"
    }
   },
   "outputs": [
    {
     "data": {
      "text/plain": [
       "<qiskit.extensions.standard.cx.CnotGate at 0xa1f35cc18>"
      ]
     },
     "execution_count": 15,
     "metadata": {},
     "output_type": "execute_result"
    }
   ],
   "source": [
    "# Creating registers\n",
    "sdq = QuantumRegister(2)\n",
    "sdc = ClassicalRegister(2)\n",
    "\n",
    "# Quantum circuit to make the shared entangled state \n",
    "superdense = QuantumCircuit(sdq, sdc)\n",
    "superdense.h(sdq[0])\n",
    "superdense.cx(sdq[0], sdq[1])"
   ]
  },
  {
   "cell_type": "markdown",
   "metadata": {},
   "source": [
    "Alice now needs to decide what two bit message she wants to transmit to Bob, ($00$, $01$, $10$, or $11$), and perform the corresponding to transformation ($I$, $X$, $Z$ or $XZ$ respectively) to her qubit $q_A$ ($q_0$). In this case, she encodes $11$:"
   ]
  },
  {
   "cell_type": "code",
   "execution_count": 16,
   "metadata": {
    "ExecuteTime": {
     "end_time": "2018-09-29T01:25:54.598839Z",
     "start_time": "2018-09-29T01:25:54.591683Z"
    }
   },
   "outputs": [
    {
     "data": {
      "text/plain": [
       "<qiskit.extensions.standard.barrier.Barrier at 0xa1f35c668>"
      ]
     },
     "execution_count": 16,
     "metadata": {},
     "output_type": "execute_result"
    }
   ],
   "source": [
    "# For 00, do nothing\n",
    "\n",
    "# For 01, apply $X$\n",
    "#shared.x(q[0])\n",
    "\n",
    "# For 01, apply $Z$\n",
    "#shared.z(q[0])\n",
    "\n",
    "# For 11, apply $XZ$\n",
    "superdense.z(sdq[0]) \n",
    "superdense.x(sdq[0])\n",
    "superdense.barrier()"
   ]
  },
  {
   "cell_type": "markdown",
   "metadata": {},
   "source": [
    "Bob now needs to 'decode' the message that Alice sent him. Since measurement in Qiskit is only possible in the standard computational basis, he does this by:\n",
    "1. Applying a $CNOT$ from $q_A$ to $q_B$\n",
    "2. Then a $H$ on $q_A$ \n",
    "3. And measuring $q_A$ and $q_B$\n",
    "\n",
    "Recalling that $q_A = q_0$ and $q_B = q_1$, this looks like:"
   ]
  },
  {
   "cell_type": "code",
   "execution_count": 17,
   "metadata": {
    "ExecuteTime": {
     "end_time": "2018-09-29T01:25:55.121279Z",
     "start_time": "2018-09-29T01:25:55.113311Z"
    }
   },
   "outputs": [
    {
     "data": {
      "text/plain": [
       "<qiskit._measure.Measure at 0xa1f5ee710>"
      ]
     },
     "execution_count": 17,
     "metadata": {},
     "output_type": "execute_result"
    }
   ],
   "source": [
    "superdense.cx(sdq[0], sdq[1])\n",
    "superdense.h(sdq[0])\n",
    "superdense.measure(sdq[0], sdc[0])\n",
    "superdense.measure(sdq[1], sdc[1])"
   ]
  },
  {
   "cell_type": "code",
   "execution_count": 18,
   "metadata": {
    "ExecuteTime": {
     "end_time": "2018-09-29T01:25:56.638472Z",
     "start_time": "2018-09-29T01:25:55.342841Z"
    }
   },
   "outputs": [
    {
     "data": {
      "image/png": "[encoded data removed]",
      "text/plain": [
       "<PIL.Image.Image image mode=RGB size=608x192 at 0xA1F623FD0>"
      ]
     },
     "execution_count": 18,
     "metadata": {},
     "output_type": "execute_result"
    }
   ],
   "source": [
    "circuit_drawer(superdense)"
   ]
  },
  {
   "cell_type": "markdown",
   "metadata": {},
   "source": [
    "Let's now create, execute the quantum circuits, and plot the results:"
   ]
  },
  {
   "cell_type": "code",
   "execution_count": 19,
   "metadata": {
    "ExecuteTime": {
     "end_time": "2018-09-29T01:25:56.845494Z",
     "start_time": "2018-09-29T01:25:56.640356Z"
    }
   },
   "outputs": [
    {
     "data": {
      "image/png": "[encoded data removed]",
      "text/plain": [
       "<Figure size 432x288 with 1 Axes>"
      ]
     },
     "metadata": {
      "needs_background": "light"
     },
     "output_type": "display_data"
    }
   ],
   "source": [
    "superdense_job = execute(superdense, backend)\n",
    "superdense_result = superdense_job.result()\n",
    "\n",
    "plot_histogram(superdense_result.get_counts(superdense))"
   ]
  },
  {
   "cell_type": "markdown",
   "metadata": {},
   "source": [
    "The state with the highest probability should match the message that Alice encoded earlier ($11$). Mathematically:\n",
    "- For a message of **00**: Bob received $|\\psi_{00}\\rangle = \\frac{1}{\\sqrt{2}}(|0_A 0_B\\rangle + |1_A 1_B\\rangle)$. Applying $CNOT$ gives: $\\frac{1}{\\sqrt{2}}(|0_A 0_B\\rangle + |1_A 0_B\\rangle)$. Applying $H$ on $q_A$ results in: $\\frac{1}{\\sqrt{2}}\\frac{1}{\\sqrt{2}}[(|0_A\\rangle + |1_A\\rangle)|0_B\\rangle + (|0_A\\rangle - |1_A\\rangle)|0_B\\rangle] = |0_A 0_B\\rangle$ \n",
    "- For a message of **01**: Bob received $|\\psi_{01}\\rangle = \\frac{1}{\\sqrt{2}}(|1_A 0_B\\rangle + |0_A 1_B\\rangle)$. Applying $CNOT$ gives: $\\frac{1}{\\sqrt{2}}(|0_A 1_B\\rangle)+ |1_A 1_B\\rangle$. Applying $H$ on $q_A$ results in: $\\frac{1}{\\sqrt{2}}\\frac{1}{\\sqrt{2}}[(|0_A\\rangle + |1_A\\rangle)|1_B\\rangle + (|0_A\\rangle - |1_A\\rangle)|1_B\\rangle + (|0_A\\rangle + |1_A\\rangle)|1_B\\rangle] = |0_A 1_B\\rangle$ \n",
    "- For a message of **10**: Bob received $|\\psi_{10}\\rangle = \\frac{1}{\\sqrt{2}}(|0_A 0_B\\rangle - |1_A 1_B\\rangle)$. Applying $CNOT$ gives: $\\frac{1}{\\sqrt{2}}(|0_A 0_B\\rangle - |1_A 0_B\\rangle)$. Applying $H$ on $q_A$ results in: $\\frac{1}{\\sqrt{2}}\\frac{1}{\\sqrt{2}}[(|0_A\\rangle + |1_A\\rangle)|0_B\\rangle - (|0_A\\rangle - |1_A\\rangle)|0_B\\rangle] = |1_A 0_B\\rangle$ \n",
    "- For a message of **11**: Bob received $|\\psi_{11}\\rangle = \\frac{1}{\\sqrt{2}}(- |1_A 0_B\\rangle + |0_A 1_B\\rangle $. Applying $CNOT$ gives: $\\frac{1}{\\sqrt{2}}(|0_A 1_B\\rangle - |1_A 1_B\\rangle)$. Applying $H$ on $q_A$ results in: $\\frac{1}{\\sqrt{2}}\\frac{1}{\\sqrt{2}}[(|0_A\\rangle + |1_A\\rangle)|1_B\\rangle - (|0_A\\rangle - |1_A\\rangle)|1_B\\rangle] = |1_A 1_B\\rangle$ "
   ]
  },
  {
   "cell_type": "code",
   "execution_count": null,
   "metadata": {
    "collapsed": true
   },
   "outputs": [],
   "source": []
  }
 ],
 "metadata": {
  "kernelspec": {
   "display_name": "Python 3",
   "language": "python",
   "name": "python3"
  },
  "language_info": {
   "codemirror_mode": {
    "name": "ipython",
    "version": 3
   },
   "file_extension": ".py",
   "mimetype": "text/x-python",
   "name": "python",
   "nbconvert_exporter": "python",
   "pygments_lexer": "ipython3",
   "version": "3.6.3"
  }
 },
 "nbformat": 4,
 "nbformat_minor": 2
}
