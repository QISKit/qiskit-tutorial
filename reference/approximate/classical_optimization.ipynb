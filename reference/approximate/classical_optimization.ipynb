{
 "cells": [
  {
   "cell_type": "markdown",
   "metadata": {},
   "source": [
    "<img src=\"../../images/qiskit-heading.gif\" alt=\"Note: In order for images to show up in this jupyter notebook you need to select File => Trusted Notebook\" width=\"500 px\" align=\"left\">"
   ]
  },
  {
   "cell_type": "markdown",
   "metadata": {},
   "source": [
    "## _*VQE algorithm: application to optimization problems*_ \n",
    "\n",
    "The latest version of this notebook is available on https://github.com/QISKit/qiskit-tutorial.\n",
    "\n",
    "***\n",
    "### Contributors\n",
    "Antonio Mezzacapo, Jay Gambetta, Kristan Temme, Ramis Movassagh, Albert Frisch, Takashi Imamichi"
   ]
  },
  {
   "cell_type": "markdown",
   "metadata": {},
   "source": [
    "## Introduction\n",
    "\n",
    "Many problems in quantitative fields such as finance and engineering are optimization problems. Optimization problems lay at the core of complex decision-making and definition of strategies. \n",
    "\n",
    "Optimization (or combinatorial optimization) means searching for an optimal solution in a finite or countably infinite set of potential solutions. Optimality is defined with respect to some criterion function, which is to be minimized or maximized. This is typically called cost function or objective function. \n",
    "\n",
    "**Typical optimization problems**\n",
    "\n",
    "Minimization: cost, distance, length of a traversal, weight, processing time, material, energy consumption, number of objects\n",
    "\n",
    "Maximization: profit, value, output, return, yield, utility, efficiency, capacity, number of objects \n",
    "\n",
    "We consider here two problems of practical interest in many fields, and show how they can mapped and solved on quantum computers.\n",
    "\n",
    "\n",
    "### Weighted MaxCut\n",
    "\n",
    "MaxCut is an NP-complete problem, with applications in clustering, network science, and statistical physics. To grasp how practical applications are mapped into given MaxCut instances, consider a system of many people that can interact and influence each other. Individuals can be represented by vertices of a graph, and their interactions seen as pairwise connections between vertices of the graph, or edges. With this representation in mind, it is easy to model typical marketing problems. For example, suppose that it is assumed that individuals will influence each other's buying decisions, and knowledge is given about how strong they will influence each other. The influence can be modeled by weights assigned on each edge of the graph. It is possible then to predict the outcome of a marketing strategy in which products are offered for free to some individuals, and then ask which is the optimal subset of individuals that should get the free products, in order to maximize revenues.\n",
    "\n",
    "The formal definition of this problem is the following:\n",
    "\n",
    "Consider an $n$-node non-directed graph *G = (V, E)* where *|V| = n* with edge weights $w_{ij}>0$, $w_{ij}=w_{ji}$, for $(i, j)\\in E$. A cut is defined as a partition of the original set V into two subsets. The cost function to be optimized is in this case the sum of weights of edges connecting points in the two different subsets, *crossing* the cut. By assigning $x_i=0$ or $x_i=1$ to each node $i$, one tries to maximize the global profit function (here and in the following summations run over indices 0,1,...n-1)\n",
    "\n",
    "$$C(\\textbf{x}) = \\sum_{i,j} w_{ij} x_i (1-x_j).$$\n",
    "\n",
    "In our simple marketing model, $w_{ij}$ represents the probability that the person $j$ will buy a product after $i$ gets a free one. Note that the weights $w_{ij}$ can in principle be greater than $1$, corresponding to the case where the individual $j$ will buy more than one product. Maximizing the total buying probability corresponds to maximizing the total future revenues. In the case where the profit probability will be greater than the cost of the initial free samples, the strategy is a convenient one. An extension to this model has the nodes themselves carry weights, which can be regarded, in our marketing model, as the likelihood that a person granted with a free sample of the product will buy it again in the future. With this additional information in our model, the objective function to maximize becomes \n",
    "\n",
    "$$C(\\textbf{x}) = \\sum_{i,j} w_{ij} x_i (1-x_j)+\\sum_i w_i x_i. $$\n",
    " \n",
    "In order to find a solution to this problem on a quantum computer, one needs first to map it to an Ising Hamiltonian. This can be done with the assignment $x_i\\rightarrow (1-Z_i)/2$, where $Z_i$ is the Pauli Z operator that has eigenvalues $\\pm 1$. Doing this we find that \n",
    "\n",
    "$$C(\\textbf{Z}) = \\sum_{i,j} \\frac{w_{ij}}{4} (1-Z_i)(1+Z_j) + \\sum_i \\frac{w_i}{2} (1-Z_i) = -\\frac{1}{2}\\left( \\sum_{i<j} w_{ij} Z_i Z_j +\\sum_i w_i Z_i\\right)+\\mathrm{const},$$\n",
    "\n",
    "where const = $\\sum_{i<j}w_{ij}/2+\\sum_i w_i/2 $. In other terms, the weighted MaxCut problem is equivalent to minimizing the Ising Hamiltonian \n",
    "\n",
    "$$ H = \\sum_i w_i Z_i + \\sum_{i<j} w_{ij} Z_iZ_j.$$\n",
    "\n",
    "### Traveling Salesman Problem\n",
    "\n",
    "In addition to being a notorious NP-complete problem that has drawn the attention of computer scientists and mathematicians for over two centuries, the Traveling Salesman Problem (TSP) has important bearings on finance and marketing, as its name suggests. Colloquially speaking, the traveling salesman is a person that goes from city to city to sell merchandise. The objective in this case is to find the shortest path that would enable the salesman to visit all the cities and return to its hometown, i.e. the city where he started traveling. By doing this, the salesman gets to maximize potential sales in the least amount of time. \n",
    "\n",
    "The problem derives its importance from its \"hardness\" and ubiquitous equivalence to other relevant combinatorial optimization problems that arise in practice.\n",
    " \n",
    "The mathematical formulation with some early analysis was proposed by W.R. Hamilton in the early 19th century. Mathematically the problem is, as in the case of MaxCut, best abstracted in terms of graphs. The TSP on the nodes of a graph asks for the shortest *Hamiltonian cycle* that can be taken through each of the nodes. A Hamilton cycle is a closed path that uses every vertex of a graph once. The general solution is unknown and an algorithm that finds it efficiently (e.g., in polynomial time) is not expected to exist.\n",
    "\n",
    "Find the shortest Hamiltonian cycle in a graph $G=(V,E)$ with $n=|V|$ nodes and distances, $w_{ij}$ (distance from vertex $i$ to vertex $j$). A Hamiltonian cycle is described by $N^2$ variables $x_{i,p}$, where $i$ represents the node and $p$ represents its order in a prospective cycle. The decision variable takes the value 1 if the solution occurs at node $i$ at time order $p$. We require that every node can only appear once in the cycle, and for each time a node has to occur. This amounts to the two constraints (here and in the following, whenever not specified, the summands run over 0,1,...N-1)\n",
    "\n",
    "$$\\sum_{i} x_{i,p} = 1 ~~\\forall p$$\n",
    "$$\\sum_{p} x_{i,p} = 1 ~~\\forall i.$$\n",
    "\n",
    "For nodes in our prospective ordering, if $x_{i,p}$ and $x_{j,p+1}$ are both 1, then there should be an energy penalty if $(i,j) \\notin E$ (not connected in the graph). The form of this penalty is \n",
    "\n",
    "$$\\sum_{i,j\\notin E}\\sum_{p} x_{i,p}x_{j,p+1}>0,$$ \n",
    "\n",
    "where it is assumed the boundary condition of the Hamiltonian cycle $(p=N)\\equiv (p=0)$. However, here it will be assumed a fully connected graph and not include this term. The distance that needs to be minimized is \n",
    "\n",
    "$$C(\\textbf{x})=\\sum_{i,j}w_{ij}\\sum_{p} x_{i,p}x_{j,p+1}.$$\n",
    "\n",
    "Putting this all together in a single objective function to be minimized, we get the following:\n",
    "\n",
    "$$C(\\textbf{x})=\\sum_{i,j}w_{ij}\\sum_{p} x_{i,p}x_{j,p+1}+ A\\sum_p\\left(1- \\sum_i x_{i,p}\\right)^2+A\\sum_i\\left(1- \\sum_p x_{i,p}\\right)^2,$$\n",
    "\n",
    "where $A$ is a free parameter. One needs to ensure that $A$ is large enough so that these constraints are respected. One way to do this is to choose $A$ such that $A > \\mathrm{max}(w_{ij})$. Furthermore, since the problem has the salesperson returning to the original city, it is possible, without loss of generality, to set $x_{00} = 1$, $x_{i0} = 0 \\; \\forall i\\neq 0$, and $x_{0p} = 0 \\;\\forall p\\neq 0$. Doing this, the objective functions becomes \n",
    "\n",
    "$$C(\\textbf{x})=\\sum_{i,j=1}^{N-1}w_{ij}\\sum_{p=1}^{N-1} x_{i,p}x_{j,p+1}+\\sum_{j=1}^{N-1}w_{0j} x_{j,1}+\\sum_{i=1}^{N-1}w_{i0} x_{i,N-1}+ A\\sum_{p=1}^{N-1}\\left(1- \\sum_{i=1}^{N-1} x_{i,p}\\right)^2+A\\sum_{i=1}^{N-1}\\left(1- \\sum_{p=1}^{N-1} x_{i,p}\\right)^2.$$\n",
    "\n",
    "Once again, it is easy to map the problem in this form to a quantum computer, and the solution will be found by minimizing a Ising Hamiltonian. \n",
    "\n",
    "\n",
    "\n",
    "### Approximate Universal Quantum Computing for Optimization Problems\n",
    "\n",
    "There has been a considerable amount of interest in recent times about the use of quantum computers to find a solution to combinatorial problems. It is important to say that, given the classical nature of combinatorial problems, exponential speedup in using quantum computers compared to the best classical algorithms is not guaranteed. However, due to the nature and importance of the target problems, it is worth investigating heuristic approaches on a quantum computer that could indeed speed up some problem instances. Here we demonstrate an approach that is based on the Quantum Approximate Optimization Algorithm by Farhi, Goldstone, and Gutman (2014). We frame the algorithm in the context of *approximate quantum computing*, given its heuristic nature. \n",
    "\n",
    "The Algorithm works as follows:\n",
    "1. Choose the $w_i$ and $w_{ij}$ in the target Ising problem. In principle, even higher powers of Z are allowed.\n",
    "2. Choose the depth of the quantum circuit $m$. Note that the depth can be modified adaptively.\n",
    "3. Choose a set of controls $\\theta$ and make a trial function $|\\psi(\\boldsymbol\\theta)\\rangle$, built using a quantum circuit made of C-Phase gates and single-qubit Y rotations, parameterized by the components of $\\boldsymbol\\theta$. \n",
    "4. Evaluate $C(\\boldsymbol\\theta) = \\langle\\psi(\\boldsymbol\\theta)~|H|~\\psi(\\boldsymbol\\theta)\\rangle = \\sum_i w_i \\langle\\psi(\\boldsymbol\\theta)~|Z_i|~\\psi(\\boldsymbol\\theta)\\rangle+ \\sum_{i<j} w_{ij} \\langle\\psi(\\boldsymbol\\theta)~|Z_iZ_j|~\\psi(\\boldsymbol\\theta)\\rangle$ by sampling the outcome of the circuit in the Z-basis and adding the expectation values of the individual Ising terms together. In general, different control points around $\\boldsymbol\\theta$ have to be estimated, depending on the classical optimizer chosen. \n",
    "5. Use a classical optimizer to choose a new set of controls.\n",
    "6. Continue until $C(\\boldsymbol\\theta)$ reaches a minimum, close enough to the solution $\\boldsymbol\\theta^*$.\n",
    "7. Use the last $\\boldsymbol\\theta$ to generate a final set of samples from the distribution $|\\langle z_i~|\\psi(\\boldsymbol\\theta)\\rangle|^2\\;\\forall i$ to obtain the answer.\n",
    "    \n",
    "It is our belief the difficulty of finding good heuristic algorithms will come down to the choice of an appropriate trial wavefunction. For example, one could consider a trial function whose entanglement best aligns with the target problem, or simply make the amount of entanglement a variable. In this tutorial, we will consider a simple trial function of the form\n",
    "\n",
    "$$|\\psi(\\theta)\\rangle  = [U_\\mathrm{single}(\\boldsymbol\\theta) U_\\mathrm{entangler}]^m |+\\rangle$$\n",
    "\n",
    "where $U_\\mathrm{entangler}$ is a collection of C-Phase gates (fully entangling gates), and $U_\\mathrm{single}(\\theta) = \\prod_{i=1}^n Y(\\theta_{i})$, where $n$ is the number of qubits and $m$ is the depth of the quantum circuit. The motivation for this choice is that for these classical problems this choice allows us to search over the space of quantum states that have only real coefficients, still exploiting the entanglement to potentially converge faster to the solution.\n",
    "\n",
    "One advantage of using this sampling method compared to adiabatic approaches is that the target Ising Hamiltonian does not have to be implemented directly on hardware, allowing this algorithm not to be limited to the connectivity of the device. Furthermore, higher-order terms in the cost function, such as $Z_iZ_jZ_k$, can also be sampled efficiently, whereas in adiabatic or annealing approaches they are generally impractical to deal with. \n",
    "\n",
    "\n",
    "References:\n",
    "- A. Lucas, Frontiers in Physics 2, 5 (2014)\n",
    "- E. Farhi, J. Goldstone, S. Gutmann e-print arXiv 1411.4028 (2014)\n",
    "- D. Wecker, M. B. Hastings, M. Troyer Phys. Rev. A 94, 022309 (2016)\n",
    "- E. Farhi, J. Goldstone, S. Gutmann, H. Neven e-print arXiv 1703.06199 (2017)"
   ]
  },
  {
   "cell_type": "code",
   "execution_count": 1,
   "metadata": {},
   "outputs": [],
   "source": [
    "# import useful scientific packages \n",
    "%matplotlib inline\n",
    "import matplotlib.pyplot as plt\n",
    "import matplotlib.axes as axes\n",
    "import numpy as np\n",
    "from scipy import linalg as la\n",
    "from functools import partial\n",
    "from itertools import permutations \n",
    "import networkx as nx\n",
    "\n",
    "# import QISKit\n",
    "from qiskit import QuantumCircuit, register, execute\n",
    "\n",
    "# import Qconfig, set APIToken and API url\n",
    "try:\n",
    "    import sys\n",
    "    sys.path.append(\"../../\") # go to parent dir\n",
    "    import Qconfig\n",
    "    qx_config = {\n",
    "        \"APItoken\": Qconfig.APItoken,\n",
    "        \"url\": Qconfig.config['url']}\n",
    "except Exception as e:\n",
    "    print(e)\n",
    "    qx_config = {\n",
    "        \"APItoken\":\"YOUR_TOKEN_HERE\",\n",
    "        \"url\":\"https://quantumexperience.ng.bluemix.net/api\"}\n",
    "\n",
    "register(qx_config['APItoken'], qx_config['url'])\n",
    "\n",
    "# import basic plot tools\n",
    "from qiskit.tools.visualization import plot_histogram\n",
    "\n",
    "# import optimization tools\n",
    "from qiskit.tools.apps.optimization import trial_circuit_ry, SPSA_optimization, SPSA_calibration\n",
    "from qiskit.tools.apps.optimization import energy_estimate, make_hamiltonian, eval_hamiltonian, group_paulis\n",
    "from qiskit.tools.qi.pauli import Pauli"
   ]
  },
  {
   "cell_type": "code",
   "execution_count": 2,
   "metadata": {},
   "outputs": [],
   "source": [
    "def obj_funct(pauli_list, entangler_map, coupling_map, initial_layout, n, m, backend, shots, theta):\n",
    "    \"\"\" Evaluate the objective function for a classical optimization problem.\n",
    "\n",
    "    pauli_list defines the cost function as list of ising terms with weights\n",
    "    theta are the control parameters \n",
    "    n is the number of qubits\n",
    "    m is the depth of the trial function \n",
    "    backend is the type of backend to run it on\n",
    "    shots is the number of shots to run. Taking shots = 1 only works in simulation\n",
    "    and computes an exact average of the cost function on the quantum state\n",
    "    \"\"\"\n",
    "    std_cost=0 # to add later\n",
    "   \n",
    "    if shots==1:  \n",
    "        trial_circuit = trial_circuit_ry(n, m, theta, entangler_map, None, False)\n",
    "        job = execute([trial_circuit], backend=backend, coupling_map=coupling_map, initial_layout=initial_layout, shots=shots)\n",
    "        result = job.result()\n",
    "        state = result.get_data(trial_circuit)['quantum_state']       \n",
    "        cost = energy_estimate_exact(state,pauli_list,True)\n",
    "       \n",
    "    else:\n",
    "        trial_circuit = trial_circuit_ry(n, m, theta, entangler_map, None, True)\n",
    "        job = execute([trial_circuit], backend=backend, coupling_map=coupling_map, initial_layout=initial_layout, shots=shots)\n",
    "        result = job.result()\n",
    "        data = result.get_counts(trial_circuit)\n",
    "        cost = energy_estimate(data, pauli_list)\n",
    "    \n",
    "    return cost, std_cost"
   ]
  },
  {
   "cell_type": "markdown",
   "metadata": {},
   "source": [
    "## MaxCut on 4 Qubits"
   ]
  },
  {
   "cell_type": "code",
   "execution_count": 3,
   "metadata": {},
   "outputs": [
    {
     "data": {
      "image/png": "[encoded data removed]",
      "text/plain": [
       "<matplotlib.figure.Figure at 0x1088739e8>"
      ]
     },
     "metadata": {},
     "output_type": "display_data"
    }
   ],
   "source": [
    "# Generating a graph of 4 nodes \n",
    "\n",
    "n =4 # Number of nodes in graph\n",
    "\n",
    "G=nx.Graph()\n",
    "G.add_nodes_from(np.arange(0,n,1))\n",
    "elist=[(0,1,1.0),(0,2,1.0),(0,3,1.0),(1,2,1.0),(2,3,1.0)]\n",
    "# tuple is (i,j,weight) where (i,j) is the edge\n",
    "G.add_weighted_edges_from(elist)\n",
    "\n",
    "colors = ['r' for node in G.nodes()]\n",
    "default_axes = plt.axes(frameon=True)\n",
    "pos = nx.spring_layout(G)\n",
    "nx.draw_networkx(G, node_color=colors, node_size=600, alpha=.8, ax=default_axes, pos=pos)"
   ]
  },
  {
   "cell_type": "code",
   "execution_count": 4,
   "metadata": {},
   "outputs": [
    {
     "name": "stdout",
     "output_type": "stream",
     "text": [
      "[[0. 1. 1. 1.]\n",
      " [1. 0. 1. 0.]\n",
      " [1. 1. 0. 1.]\n",
      " [1. 0. 1. 0.]]\n"
     ]
    }
   ],
   "source": [
    "# Computing the weight matrix from the random graph\n",
    "\n",
    "w = np.zeros([n,n])\n",
    "for i in range(n):\n",
    "    for j in range(n):\n",
    "        temp = G.get_edge_data(i,j,default=0)\n",
    "        if temp != 0:\n",
    "            w[i,j] = temp['weight'] \n",
    "print(w)"
   ]
  },
  {
   "cell_type": "markdown",
   "metadata": {},
   "source": [
    "### Brute force approach\n",
    "\n",
    "Try all possible $2^n$ combinations. For $n = 4$, as in this example, one deals with only 16 combinations, but for n = 1000, one has 1.071509e+30 combinations, which is impractical to deal with by using a brute force approach. "
   ]
  },
  {
   "cell_type": "code",
   "execution_count": 5,
   "metadata": {},
   "outputs": [
    {
     "name": "stdout",
     "output_type": "stream",
     "text": [
      "\n",
      "Best solution = [1, 0, 1, 0] cost = 4.0\n"
     ]
    },
    {
     "data": {
      "image/png": "[encoded data removed]",
      "text/plain": [
       "<matplotlib.figure.Figure at 0x10890d208>"
      ]
     },
     "metadata": {},
     "output_type": "display_data"
    }
   ],
   "source": [
    "best_cost_brute = 0\n",
    "for b in range(2**n):\n",
    "    x = [int(t) for t in reversed(list(bin(b)[2:].zfill(n)))]\n",
    "    cost = 0\n",
    "    for i in range(n):\n",
    "        for j in range(n):\n",
    "            cost = cost + w[i,j]*x[i]*(1-x[j])\n",
    "    if best_cost_brute < cost:\n",
    "        best_cost_brute = cost\n",
    "        xbest_brute = x \n",
    "    # print('case = ' + str(x)+ ' cost = ' + str(cost))\n",
    "\n",
    "colors = []\n",
    "for i in range(n):\n",
    "    if xbest_brute[i] == 0:\n",
    "        colors.append('r')\n",
    "    else:\n",
    "        colors.append('b')\n",
    "nx.draw_networkx(G, node_color=colors, node_size=600, alpha=.8, pos=pos)\n",
    "print('\\nBest solution = ' + str(xbest_brute) + ' cost = ' + str(best_cost_brute))    "
   ]
  },
  {
   "cell_type": "markdown",
   "metadata": {},
   "source": [
    "### Mapping to the Ising problem"
   ]
  },
  {
   "cell_type": "code",
   "execution_count": 6,
   "metadata": {},
   "outputs": [
    {
     "data": {
      "text/plain": [
       "5.0"
      ]
     },
     "execution_count": 6,
     "metadata": {},
     "output_type": "execute_result"
    }
   ],
   "source": [
    "# Determining the constant shift and initialize a pauli_list that contains the ZZ Ising terms\n",
    "\n",
    "pauli_list = []\n",
    "cost_shift = 0\n",
    "for i in range(n):\n",
    "    for j in range(i):\n",
    "        if w[i,j] != 0:\n",
    "            cost_shift = cost_shift + w[i,j]\n",
    "            wp = np.zeros(n)\n",
    "            vp = np.zeros(n)\n",
    "            vp[n-i-1] = 1\n",
    "            vp[n-j-1] = 1\n",
    "            pauli_list.append((w[i,j],Pauli(vp,wp)))\n",
    "cost_shift"
   ]
  },
  {
   "cell_type": "markdown",
   "metadata": {},
   "source": [
    "### Checking that the full Hamiltonian gives the right cost "
   ]
  },
  {
   "cell_type": "code",
   "execution_count": 7,
   "metadata": {},
   "outputs": [
    {
     "name": "stdout",
     "output_type": "stream",
     "text": [
      "4.0\n",
      "-3.0\n"
     ]
    }
   ],
   "source": [
    "#Making the Hamiltonian in its full form and getting the lowest eigenvalue and eigenvector\n",
    "\n",
    "H = make_hamiltonian(pauli_list)\n",
    "we, ve = la.eigh(H, eigvals=(0, 1))\n",
    "exact = we[0]\n",
    "exact_maxcut = -we[0]/2+cost_shift/2\n",
    "print(exact_maxcut)\n",
    "print(exact)\n",
    "H = np.diag(H)"
   ]
  },
  {
   "cell_type": "markdown",
   "metadata": {},
   "source": [
    "### Running it on quantum computer\n",
    "\n",
    "We run the optimization routine using a feedback loop with a quantum computer that uses trial functions built with Y single-qubit rotations, $U_\\mathrm{single}(\\theta) = \\prod_{i=1}^n Y(\\theta_{i})$, and entangler steps $U_\\mathrm{entangler}$."
   ]
  },
  {
   "cell_type": "code",
   "execution_count": 8,
   "metadata": {
    "scrolled": true
   },
   "outputs": [],
   "source": [
    "# Set up quantum circuit parameters\n",
    "\n",
    "# entangler map is made of two-qubit gates between a control and target qubit, control: [target]\n",
    "entangler_map = {0: [1], 1: [2], 2: [3]} \n",
    "# coupling_maps gates allowed on the device\n",
    "coupling_map = None\n",
    "# layout of the qubits \n",
    "initial_layout = None\n",
    "# backend used for the quantum computation\n",
    "backend = 'local_statevector_simulator' \n",
    "# total number of trial steps used in the optimization\n",
    "max_trials = 100; \n",
    "# number of qubits\n",
    "n = 4  \n",
    "# depth of the quantum circuit that prepares the trial state\n",
    "m = 3     \n",
    "# initial starting point for the control angles\n",
    "initial_theta=np.random.randn(m*n)   \n",
    "# number of shots for each evaluation of the cost function \n",
    "# (shots=1 corresponds to perfect evaluation, only available on the simulator)\n",
    "shots = 1\n",
    "# choose to plot the results of the optimizations every save_steps \n",
    "save_step = 1"
   ]
  },
  {
   "cell_type": "code",
   "execution_count": 9,
   "metadata": {},
   "outputs": [
    {
     "name": "stdout",
     "output_type": "stream",
     "text": [
      "calibration step # 0 of 25\n",
      "calibration step # 5 of 25\n",
      "calibration step # 10 of 25\n",
      "calibration step # 15 of 25\n",
      "calibration step # 20 of 25\n",
      "calibrated SPSA_parameters[0] is 0.2750129\n",
      "objective function at theta+ for step # 0\n",
      "2.3635861\n",
      "objective function at theta- for step # 0\n",
      "1.2500530\n",
      "objective function at theta+ for step # 1\n",
      "-0.9212945\n",
      "objective function at theta- for step # 1\n",
      "-0.5712810\n",
      "objective function at theta+ for step # 2\n",
      "-0.6177737\n",
      "objective function at theta- for step # 2\n",
      "-0.5644377\n",
      "objective function at theta+ for step # 3\n",
      "-0.5287551\n",
      "objective function at theta- for step # 3\n",
      "-0.7936336\n",
      "objective function at theta+ for step # 4\n",
      "-0.7343595\n",
      "objective function at theta- for step # 4\n",
      "-1.0125117\n",
      "objective function at theta+ for step # 5\n",
      "-0.7570888\n",
      "objective function at theta- for step # 5\n",
      "-1.0811531\n",
      "objective function at theta+ for step # 6\n",
      "-1.2953987\n",
      "objective function at theta- for step # 6\n",
      "-1.0613987\n",
      "objective function at theta+ for step # 7\n",
      "-1.1793963\n",
      "objective function at theta- for step # 7\n",
      "-1.3408258\n",
      "objective function at theta+ for step # 8\n",
      "-1.5916001\n",
      "objective function at theta- for step # 8\n",
      "-1.0591997\n",
      "objective function at theta+ for step # 9\n",
      "-1.9465919\n",
      "objective function at theta- for step # 9\n",
      "-1.8028405\n",
      "objective function at theta+ for step # 10\n",
      "-1.7855163\n",
      "objective function at theta- for step # 10\n",
      "-2.0490823\n",
      "objective function at theta+ for step # 11\n",
      "-2.1132051\n",
      "objective function at theta- for step # 11\n",
      "-1.9692542\n",
      "objective function at theta+ for step # 12\n",
      "-1.8452034\n",
      "objective function at theta- for step # 12\n",
      "-2.2226582\n",
      "objective function at theta+ for step # 13\n",
      "-2.1752398\n",
      "objective function at theta- for step # 13\n",
      "-2.1311160\n",
      "objective function at theta+ for step # 14\n",
      "-2.0642876\n",
      "objective function at theta- for step # 14\n",
      "-2.1865499\n",
      "objective function at theta+ for step # 15\n",
      "-2.1918798\n",
      "objective function at theta- for step # 15\n",
      "-2.1247229\n",
      "objective function at theta+ for step # 16\n",
      "-2.1052965\n",
      "objective function at theta- for step # 16\n",
      "-2.2122427\n",
      "objective function at theta+ for step # 17\n",
      "-2.1628349\n",
      "objective function at theta- for step # 17\n",
      "-2.1559195\n",
      "objective function at theta+ for step # 18\n",
      "-2.2675625\n",
      "objective function at theta- for step # 18\n",
      "-2.1671301\n",
      "objective function at theta+ for step # 19\n",
      "-2.2488833\n",
      "objective function at theta- for step # 19\n",
      "-2.1525700\n",
      "objective function at theta+ for step # 20\n",
      "-2.2868745\n",
      "objective function at theta- for step # 20\n",
      "-2.1737396\n",
      "objective function at theta+ for step # 21\n",
      "-2.1712028\n",
      "objective function at theta- for step # 21\n",
      "-2.3264923\n",
      "objective function at theta+ for step # 22\n",
      "-2.3195813\n",
      "objective function at theta- for step # 22\n",
      "-2.2368550\n",
      "objective function at theta+ for step # 23\n",
      "-2.3873802\n",
      "objective function at theta- for step # 23\n",
      "-2.2294016\n",
      "objective function at theta+ for step # 24\n",
      "-2.2160149\n",
      "objective function at theta- for step # 24\n",
      "-2.4427032\n",
      "objective function at theta+ for step # 25\n",
      "-2.4532249\n",
      "objective function at theta- for step # 25\n",
      "-2.3739506\n",
      "objective function at theta+ for step # 26\n",
      "-2.4948296\n",
      "objective function at theta- for step # 26\n",
      "-2.3614435\n",
      "objective function at theta+ for step # 27\n",
      "-2.4088042\n",
      "objective function at theta- for step # 27\n",
      "-2.4358398\n",
      "objective function at theta+ for step # 28\n",
      "-2.5186260\n",
      "objective function at theta- for step # 28\n",
      "-2.3868138\n",
      "objective function at theta+ for step # 29\n",
      "-2.5393737\n",
      "objective function at theta- for step # 29\n",
      "-2.4226106\n",
      "objective function at theta+ for step # 30\n",
      "-2.4171076\n",
      "objective function at theta- for step # 30\n",
      "-2.5706406\n",
      "objective function at theta+ for step # 31\n",
      "-2.5608119\n",
      "objective function at theta- for step # 31\n",
      "-2.4366318\n",
      "objective function at theta+ for step # 32\n",
      "-2.6005486\n",
      "objective function at theta- for step # 32\n",
      "-2.5507690\n",
      "objective function at theta+ for step # 33\n",
      "-2.5050221\n",
      "objective function at theta- for step # 33\n",
      "-2.5409207\n",
      "objective function at theta+ for step # 34\n",
      "-2.5054547\n",
      "objective function at theta- for step # 34\n",
      "-2.6025387\n",
      "objective function at theta+ for step # 35\n",
      "-2.5396457\n",
      "objective function at theta- for step # 35\n",
      "-2.6005394\n",
      "objective function at theta+ for step # 36\n",
      "-2.5020824\n",
      "objective function at theta- for step # 36\n",
      "-2.6225037\n",
      "objective function at theta+ for step # 37\n",
      "-2.5784989\n",
      "objective function at theta- for step # 37\n",
      "-2.5496219\n",
      "objective function at theta+ for step # 38\n",
      "-2.5544158\n",
      "objective function at theta- for step # 38\n",
      "-2.5770945\n",
      "objective function at theta+ for step # 39\n",
      "-2.5983911\n",
      "objective function at theta- for step # 39\n",
      "-2.5420907\n",
      "objective function at theta+ for step # 40\n",
      "-2.5271985\n",
      "objective function at theta- for step # 40\n",
      "-2.6378589\n",
      "objective function at theta+ for step # 41\n",
      "-2.5193060\n",
      "objective function at theta- for step # 41\n",
      "-2.6760879\n",
      "objective function at theta+ for step # 42\n",
      "-2.7029681\n",
      "objective function at theta- for step # 42\n",
      "-2.5976428\n",
      "objective function at theta+ for step # 43\n",
      "-2.5675887\n",
      "objective function at theta- for step # 43\n",
      "-2.7126171\n",
      "objective function at theta+ for step # 44\n",
      "-2.5968333\n",
      "objective function at theta- for step # 44\n",
      "-2.7623465\n",
      "objective function at theta+ for step # 45\n",
      "-2.6738762\n",
      "objective function at theta- for step # 45\n",
      "-2.7498733\n",
      "objective function at theta+ for step # 46\n",
      "-2.7165444\n",
      "objective function at theta- for step # 46\n",
      "-2.7294904\n",
      "objective function at theta+ for step # 47\n",
      "-2.6450195\n",
      "objective function at theta- for step # 47\n",
      "-2.8159173\n",
      "objective function at theta+ for step # 48\n",
      "-2.7982242\n",
      "objective function at theta- for step # 48\n",
      "-2.7307165\n",
      "objective function at theta+ for step # 49\n",
      "-2.7922594\n",
      "objective function at theta- for step # 49\n",
      "-2.7695075\n",
      "objective function at theta+ for step # 50\n",
      "-2.8343219\n",
      "objective function at theta- for step # 50\n",
      "-2.6949838\n",
      "objective function at theta+ for step # 51\n",
      "-2.7707591\n",
      "objective function at theta- for step # 51\n",
      "-2.7958753\n",
      "objective function at theta+ for step # 52\n",
      "-2.7985515\n",
      "objective function at theta- for step # 52\n",
      "-2.7428401\n",
      "objective function at theta+ for step # 53\n",
      "-2.8059686\n",
      "objective function at theta- for step # 53\n",
      "-2.7321099\n",
      "objective function at theta+ for step # 54\n",
      "-2.7661660\n",
      "objective function at theta- for step # 54\n",
      "-2.8484281\n",
      "objective function at theta+ for step # 55\n",
      "-2.7820047\n",
      "objective function at theta- for step # 55\n",
      "-2.8246029\n",
      "objective function at theta+ for step # 56\n",
      "-2.8200164\n",
      "objective function at theta- for step # 56\n",
      "-2.8148569\n",
      "objective function at theta+ for step # 57\n",
      "-2.8702876\n",
      "objective function at theta- for step # 57\n",
      "-2.7600176\n",
      "objective function at theta+ for step # 58\n",
      "-2.7838894\n",
      "objective function at theta- for step # 58\n",
      "-2.8591914\n",
      "objective function at theta+ for step # 59\n",
      "-2.7899135\n",
      "objective function at theta- for step # 59\n",
      "-2.8293818\n",
      "objective function at theta+ for step # 60\n",
      "-2.7710619\n",
      "objective function at theta- for step # 60\n",
      "-2.9046056\n",
      "objective function at theta+ for step # 61\n",
      "-2.8223970\n",
      "objective function at theta- for step # 61\n",
      "-2.8851859\n",
      "objective function at theta+ for step # 62\n",
      "-2.8337604\n",
      "objective function at theta- for step # 62\n",
      "-2.8438253\n",
      "objective function at theta+ for step # 63\n",
      "-2.8671138\n",
      "objective function at theta- for step # 63\n",
      "-2.8705963\n",
      "objective function at theta+ for step # 64\n",
      "-2.8356417\n",
      "objective function at theta- for step # 64\n",
      "-2.8723639\n",
      "objective function at theta+ for step # 65\n",
      "-2.8019000\n",
      "objective function at theta- for step # 65\n",
      "-2.9216587\n",
      "objective function at theta+ for step # 66\n",
      "-2.8470101\n",
      "objective function at theta- for step # 66\n",
      "-2.9256245\n",
      "objective function at theta+ for step # 67\n",
      "-2.8829190\n",
      "objective function at theta- for step # 67\n",
      "-2.8639698\n",
      "objective function at theta+ for step # 68\n",
      "-2.8301176\n",
      "objective function at theta- for step # 68\n",
      "-2.8668451\n",
      "objective function at theta+ for step # 69\n",
      "-2.8602545\n",
      "objective function at theta- for step # 69\n",
      "-2.8746287\n",
      "objective function at theta+ for step # 70\n",
      "-2.8921357\n",
      "objective function at theta- for step # 70\n",
      "-2.8671339\n",
      "objective function at theta+ for step # 71\n",
      "-2.9349514\n",
      "objective function at theta- for step # 71\n",
      "-2.8716365\n",
      "objective function at theta+ for step # 72\n",
      "-2.8264074\n",
      "objective function at theta- for step # 72\n",
      "-2.9507410\n",
      "objective function at theta+ for step # 73\n",
      "-2.9084683\n",
      "objective function at theta- for step # 73\n",
      "-2.8762516\n",
      "objective function at theta+ for step # 74\n",
      "-2.9141025\n",
      "objective function at theta- for step # 74\n",
      "-2.9105980\n"
     ]
    },
    {
     "name": "stdout",
     "output_type": "stream",
     "text": [
      "objective function at theta+ for step # 75\n",
      "-2.8702609\n",
      "objective function at theta- for step # 75\n",
      "-2.9075323\n",
      "objective function at theta+ for step # 76\n",
      "-2.9010879\n",
      "objective function at theta- for step # 76\n",
      "-2.9398761\n",
      "objective function at theta+ for step # 77\n",
      "-2.9181590\n",
      "objective function at theta- for step # 77\n",
      "-2.8619103\n",
      "objective function at theta+ for step # 78\n",
      "-2.8922592\n",
      "objective function at theta- for step # 78\n",
      "-2.9188603\n",
      "objective function at theta+ for step # 79\n",
      "-2.9528822\n",
      "objective function at theta- for step # 79\n",
      "-2.8630704\n",
      "objective function at theta+ for step # 80\n",
      "-2.9284869\n",
      "objective function at theta- for step # 80\n",
      "-2.9382504\n",
      "objective function at theta+ for step # 81\n",
      "-2.9377980\n",
      "objective function at theta- for step # 81\n",
      "-2.8914654\n",
      "objective function at theta+ for step # 82\n",
      "-2.8861733\n",
      "objective function at theta- for step # 82\n",
      "-2.9465743\n",
      "objective function at theta+ for step # 83\n",
      "-2.9290243\n",
      "objective function at theta- for step # 83\n",
      "-2.9046808\n",
      "objective function at theta+ for step # 84\n",
      "-2.9219100\n",
      "objective function at theta- for step # 84\n",
      "-2.9173948\n",
      "objective function at theta+ for step # 85\n",
      "-2.8877056\n",
      "objective function at theta- for step # 85\n",
      "-2.9373953\n",
      "objective function at theta+ for step # 86\n",
      "-2.9203176\n",
      "objective function at theta- for step # 86\n",
      "-2.9474021\n",
      "objective function at theta+ for step # 87\n",
      "-2.9409457\n",
      "objective function at theta- for step # 87\n",
      "-2.9285026\n",
      "objective function at theta+ for step # 88\n",
      "-2.9423399\n",
      "objective function at theta- for step # 88\n",
      "-2.9192413\n",
      "objective function at theta+ for step # 89\n",
      "-2.9262257\n",
      "objective function at theta- for step # 89\n",
      "-2.9712868\n",
      "objective function at theta+ for step # 90\n",
      "-2.9467715\n",
      "objective function at theta- for step # 90\n",
      "-2.8965103\n",
      "objective function at theta+ for step # 91\n",
      "-2.9418732\n",
      "objective function at theta- for step # 91\n",
      "-2.9381657\n",
      "objective function at theta+ for step # 92\n",
      "-2.9829354\n",
      "objective function at theta- for step # 92\n",
      "-2.9094807\n",
      "objective function at theta+ for step # 93\n",
      "-2.9338509\n",
      "objective function at theta- for step # 93\n",
      "-2.9492293\n",
      "objective function at theta+ for step # 94\n",
      "-2.9144909\n",
      "objective function at theta- for step # 94\n",
      "-2.9468354\n",
      "objective function at theta+ for step # 95\n",
      "-2.9260859\n",
      "objective function at theta- for step # 95\n",
      "-2.9521628\n",
      "objective function at theta+ for step # 96\n",
      "-2.9661344\n",
      "objective function at theta- for step # 96\n",
      "-2.9361175\n",
      "objective function at theta+ for step # 97\n",
      "-2.9182026\n",
      "objective function at theta- for step # 97\n",
      "-2.9474475\n",
      "objective function at theta+ for step # 98\n",
      "-2.9311611\n",
      "objective function at theta- for step # 98\n",
      "-2.9448801\n",
      "objective function at theta+ for step # 99\n",
      "-2.9384631\n",
      "objective function at theta- for step # 99\n",
      "-2.9682172\n",
      "Final objective function is: -2.9751651\n"
     ]
    }
   ],
   "source": [
    "# Run Optimization\n",
    "\n",
    "def cost_function(H,n,m,entangler_map,shots,device,theta):\n",
    "    return eval_hamiltonian(H,trial_circuit_ry(n,m,theta,entangler_map,None,False),shots,device).real\n",
    "\n",
    "initial_c=0.1\n",
    "target_update=2*np.pi*0.1\n",
    "save_step = 1\n",
    "\n",
    "if shots !=1:\n",
    "    H=group_paulis(pauli_list)\n",
    "    \n",
    "SPSA_params = SPSA_calibration(partial(cost_function,H,n,m,entangler_map,shots,backend), \\\n",
    "                               initial_theta,initial_c,target_update,25)\n",
    "            \n",
    "best_distance_quantum, best_theta, cost_plus, cost_minus, _, _ = \\\n",
    "    SPSA_optimization(partial(cost_function,H,n,m,entangler_map,shots,backend), \\\n",
    "                      initial_theta,SPSA_params,max_trials,save_step,1);"
   ]
  },
  {
   "cell_type": "code",
   "execution_count": 10,
   "metadata": {},
   "outputs": [
    {
     "data": {
      "text/plain": [
       "Text(0,0.5,'Cost')"
      ]
     },
     "execution_count": 10,
     "metadata": {},
     "output_type": "execute_result"
    },
    {
     "data": {
      "image/png": "[encoded data removed]",
      "text/plain": [
       "<matplotlib.figure.Figure at 0x1089fce80>"
      ]
     },
     "metadata": {},
     "output_type": "display_data"
    }
   ],
   "source": [
    "plt.plot(np.arange(0, max_trials,save_step),cost_plus,label='C(theta_plus)')\n",
    "plt.plot(np.arange(0, max_trials,save_step),cost_minus,label='C(theta_minus)')\n",
    "plt.plot(np.arange(0, max_trials,save_step),np.ones(max_trials//save_step)*best_distance_quantum, label='Final Optimized Cost')\n",
    "plt.plot(np.arange(0, max_trials,save_step),np.ones(max_trials//save_step)*exact, label='Exact Cost')\n",
    "plt.legend()\n",
    "plt.xlabel('Number of trials')\n",
    "plt.ylabel('Cost')"
   ]
  },
  {
   "cell_type": "code",
   "execution_count": 11,
   "metadata": {},
   "outputs": [
    {
     "data": {
      "image/png": "[encoded data removed]",
      "text/plain": [
       "<matplotlib.figure.Figure at 0x108ac5a20>"
      ]
     },
     "metadata": {},
     "output_type": "display_data"
    }
   ],
   "source": [
    "shots = 5000\n",
    "backend = 'local_qasm_simulator'\n",
    "final_circuit = trial_circuit_ry(n, m, best_theta, entangler_map, None, True) \n",
    "job = execute([final_circuit], backend=backend, shots=shots, coupling_map=coupling_map, initial_layout=initial_layout)\n",
    "result = job.result()\n",
    "data = result.get_counts(final_circuit)\n",
    "plot_histogram(data,5)"
   ]
  },
  {
   "cell_type": "code",
   "execution_count": 12,
   "metadata": {
    "scrolled": true
   },
   "outputs": [
    {
     "name": "stdout",
     "output_type": "stream",
     "text": [
      "Best solution from the quantum optimization is = [0. 1. 0. 1.] with cost = 4.0\n"
     ]
    },
    {
     "data": {
      "image/png": "[encoded data removed]",
      "text/plain": [
       "<matplotlib.figure.Figure at 0x108ac5630>"
      ]
     },
     "metadata": {},
     "output_type": "display_data"
    }
   ],
   "source": [
    "# Getting the solution and cost from the largest component of the optimal quantum state\n",
    "\n",
    "max_value = max(data.values())  # maximum value\n",
    "max_keys = [k for k, v in data.items() if v == max_value] # getting all keys containing the `maximum`\n",
    "\n",
    "x_quantum=np.zeros(n)\n",
    "for bit in range(n):\n",
    "    if max_keys[0][bit]=='1':\n",
    "        x_quantum[bit]=1\n",
    "        \n",
    "best_cost_quantum = 0\n",
    "for i in range(n):\n",
    "    for j in range(n):\n",
    "        best_cost_quantum+= w[i,j]*x_quantum[i]*(1-x_quantum[j])\n",
    "        \n",
    "        \n",
    "# Plot the quantum solution\n",
    "colors = []\n",
    "for i in range(n):\n",
    "    if x_quantum[i] == 0:\n",
    "        colors.append('r')\n",
    "    else:\n",
    "        colors.append('b')\n",
    "nx.draw_networkx(G, node_color=colors, node_size=600, alpha = .8, pos=pos)\n",
    "\n",
    "print('Best solution from the quantum optimization is = ' +str(x_quantum)+ ' with cost = ' + str(best_cost_quantum))    "
   ]
  },
  {
   "cell_type": "markdown",
   "metadata": {},
   "source": [
    "## Traveling Salesman for 4 cities (9 qubits)\n",
    "\n",
    "For the second problem we consider the traveling salesman problem on N=4 cities. In this case there are (N-1)! two different combinations."
   ]
  },
  {
   "cell_type": "code",
   "execution_count": 13,
   "metadata": {},
   "outputs": [
    {
     "data": {
      "image/png": "[encoded data removed]",
      "text/plain": [
       "<matplotlib.figure.Figure at 0x108a67438>"
      ]
     },
     "metadata": {},
     "output_type": "display_data"
    }
   ],
   "source": [
    "# Random choice of the cities/nodes \n",
    "N = 4\n",
    "xc = (np.random.rand(N)-0.5)*10\n",
    "yc = (np.random.rand(N)-0.5)*10\n",
    "\n",
    "plt.scatter(xc, yc, s=200)\n",
    "for i in range(len(xc)):\n",
    "    plt.annotate(i,(xc[i]+0.15,yc[i]),size=16,color='r')\n",
    "plt.show()"
   ]
  },
  {
   "cell_type": "code",
   "execution_count": 14,
   "metadata": {},
   "outputs": [],
   "source": [
    "# Getting the distances \n",
    "w = np.zeros([N,N])\n",
    "for i in range(N):\n",
    "    for j in range(N):\n",
    "        w[i,j]= np.sqrt((xc[i]-xc[j])**2+(yc[i]-yc[j])**2)"
   ]
  },
  {
   "cell_type": "markdown",
   "metadata": {},
   "source": [
    "### Brute force approach\n",
    "\n",
    "The brute force approach consists of trying all the paths given by all the permutations of cities/nodes. The number of permutations of N cities/nodes is (N-1)!, which gives for \n",
    "\n",
    "N = 4 # paths = 6\n",
    "\n",
    "N = 8 # paths = 5040\n",
    "\n",
    "N = 16 # paths = 1.3076744e+12"
   ]
  },
  {
   "cell_type": "code",
   "execution_count": 15,
   "metadata": {},
   "outputs": [
    {
     "name": "stdout",
     "output_type": "stream",
     "text": [
      "order = (0, 1, 2, 3) Distance = 28.569138779229533\n",
      "order = (0, 1, 3, 2) Distance = 19.968850522379814\n",
      "order = (0, 2, 1, 3) Distance = 20.237837451249632\n",
      "order = (0, 2, 3, 1) Distance = 19.968850522379817\n",
      "order = (0, 3, 1, 2) Distance = 20.237837451249636\n",
      "order = (0, 3, 2, 1) Distance = 28.569138779229533\n"
     ]
    },
    {
     "data": {
      "image/png": "[encoded data removed]",
      "text/plain": [
       "<matplotlib.figure.Figure at 0x108baaba8>"
      ]
     },
     "metadata": {},
     "output_type": "display_data"
    },
    {
     "name": "stdout",
     "output_type": "stream",
     "text": [
      "Best order from brute force = (0, 1, 3, 2) with total distance = 19.968850522379814\n"
     ]
    }
   ],
   "source": [
    "a=list(permutations(range(1,N)))\n",
    "last_best_distance = 10000000\n",
    "for i in a:\n",
    "    distance = 0 \n",
    "    pre_j = 0\n",
    "    for j in i:\n",
    "        distance = distance + w[j,pre_j]\n",
    "        pre_j = j\n",
    "    distance = distance + w[0,pre_j]\n",
    "    order = (0,) + i\n",
    "    if distance < last_best_distance:\n",
    "        best_order = order\n",
    "        last_best_distance = distance\n",
    "    print('order = ' + str(order) + ' Distance = ' + str(distance))\n",
    "\n",
    "best_distance_brute = last_best_distance\n",
    "best_order_brute = best_order\n",
    "\n",
    "plt.scatter(xc, yc)\n",
    "xbest = np.array([xc[i] for i in best_order_brute])\n",
    "xbest = np.append(xbest,xbest[0])\n",
    "ybest = np.array([yc[i] for i in best_order_brute])\n",
    "ybest = np.append(ybest,ybest[0])\n",
    "plt.plot(xbest, ybest, 'b.-', ms = 40)\n",
    "plt.plot(xc[0], yc[0], 'r*', ms = 20)\n",
    "for i in range(len(xc)):\n",
    "    plt.annotate(i,(xc[i]+0.2,yc[i]),size=16,color='r')\n",
    "plt.show()\n",
    "print('Best order from brute force = ' + str(best_order_brute) + ' with total distance = ' + str(best_distance_brute))"
   ]
  },
  {
   "cell_type": "markdown",
   "metadata": {},
   "source": [
    "### Mapping to binary variables and simulated annealing "
   ]
  },
  {
   "cell_type": "markdown",
   "metadata": {},
   "source": [
    "Recall from the introduction that the cost function of the TSP mapped to binary variables is of the form:\n",
    "\n",
    "$$C(\\textbf{x})=\\sum_{i,j=1}^{N-1}w_{ij}\\sum_{p=1}^{N-1} x_{i,p}x_{j,p+1}+\\sum_{j=1}^{N-1}w_{0j} x_{j,1}+\\sum_{i=1}^{N-1}w_{i0} x_{i,N-1}+ A\\sum_{p=1}^{N-1}\\left(1- \\sum_{i=1}^{N-1} x_{i,p}\\right)^2+A\\sum_{i=1}^{N-1}\\left(1- \\sum_{p=1}^{N-1} x_{i,p}\\right)^2.$$"
   ]
  },
  {
   "cell_type": "code",
   "execution_count": 16,
   "metadata": {
    "code_folding": []
   },
   "outputs": [],
   "source": [
    "n=(N-1)**2 # number of qubits\n",
    "A = np.max(w)*100 # A parameter of cost function\n",
    "\n",
    "# takes the part of w matrix excluding the 0-th point, which is the starting one \n",
    "wsave = w[1:N,1:N]\n",
    "# nearest-neighbor interaction matrix for the prospective cycle (p,p+1 interaction)\n",
    "shift = np.zeros([N-1,N-1])\n",
    "shift = la.toeplitz([0,1,0], [0,1,0])/2\n",
    "\n",
    "# the first and last point of the TSP problem are fixed by initial and final conditions \n",
    "firststep = np.zeros([N-1])\n",
    "firststep[0] = 1;\n",
    "laststep = np.zeros([N-1])\n",
    "laststep[N-2] = 1;\n",
    "\n",
    "# The binary variables that define a path live in a tensor product space of position and ordering indices\n",
    "\n",
    "# Q defines the interactions between variables \n",
    "Q = np.kron(shift,wsave) + np.kron(A*np.ones((N-1, N-1)), np.identity(N-1)) + np.kron(np.identity(N-1),A*np.ones((N-1, N-1)))\n",
    "# G defines the contribution from the individual variables \n",
    "G = np.kron(firststep,w[0,1:N]) + np.kron(laststep,w[1:N,0]) - 4*A*np.kron(np.ones(N-1),np.ones(N-1))\n",
    "# M is the constant offset \n",
    "M = 2*A*(N-1)\n",
    "\n",
    "# Evaluates the cost distance from a binary representation of a path \n",
    "fun = lambda x: np.dot(np.around(x),np.dot(Q,np.around(x)))+np.dot(G,np.around(x))+M\n",
    "\n",
    "def get_order_tsp(x):\n",
    "    # This function takes in a TSP state, an array of (N-1)^2 binary variables, and returns the \n",
    "    # corresponding travelling path associated to it \n",
    "    order = [0]\n",
    "    for p in range(N-1):\n",
    "        for j in range(N-1):\n",
    "            if x[(N-1)*p+j]==1:\n",
    "                order.append(j+1)\n",
    "    return order\n",
    "\n",
    "def get_x_tsp(order):\n",
    "    # This function takes in a traveling path and returns a TSP state, in the form of an array of (N-1)^2 \n",
    "    # binary variables \n",
    "    x = np.zeros((len(order)-1)**2)\n",
    "    for j in range(1,len(order)):\n",
    "        p=order[j]\n",
    "        x[(N-1)*(j-1)+(p-1)]=1\n",
    "    return x\n"
   ]
  },
  {
   "cell_type": "code",
   "execution_count": 17,
   "metadata": {},
   "outputs": [
    {
     "name": "stdout",
     "output_type": "stream",
     "text": [
      "Best path from brute force mapped to binary variables: \n",
      "\n",
      "[1. 0. 0. 0. 0. 1. 0. 1. 0.]\n",
      "\n",
      "Check with 10^5 random solutions: the brute-force solution mapped to binary variables is correct.\n",
      "\n",
      "Shortest path evaluated with binary variables: \n",
      "19.968850522380308\n"
     ]
    }
   ],
   "source": [
    "# Checking if the best results from the brute force approach are correct for the mapped system of binary variables\n",
    "\n",
    "# Conversion from a path to a binary variable array\n",
    "xopt_brute =get_x_tsp(best_order_brute)\n",
    "\n",
    "print('Best path from brute force mapped to binary variables: \\n')\n",
    "print(xopt_brute)\n",
    "\n",
    "flag=False\n",
    "for i in range(100000):\n",
    "    rd =  np.random.randint(2, size=n)\n",
    "    if fun(rd) < (best_distance_brute-0.0001):\n",
    "        print('\\n A random solution is better than the brute-force one. The path measures')\n",
    "        print(fun(rd))\n",
    "        flag=True\n",
    "\n",
    "if flag==False:\n",
    "    print('\\nCheck with 10^5 random solutions: the brute-force solution mapped to binary variables is correct.\\n')\n",
    "    \n",
    "print('Shortest path evaluated with binary variables: ')\n",
    "print(fun(xopt_brute))"
   ]
  },
  {
   "cell_type": "code",
   "execution_count": 18,
   "metadata": {},
   "outputs": [
    {
     "name": "stdout",
     "output_type": "stream",
     "text": [
      "distance = 20.237837451250016 x_solution = [0 1 0 1 0 0 0 0 1], final temperature= 0.00045173345977048254\n"
     ]
    },
    {
     "data": {
      "image/png": "[encoded data removed]",
      "text/plain": [
       "<matplotlib.figure.Figure at 0x108baaf28>"
      ]
     },
     "metadata": {},
     "output_type": "display_data"
    },
    {
     "name": "stdout",
     "output_type": "stream",
     "text": [
      "Best order from simulated annealing = [0, 2, 1, 3] with total distance = 20.237837451250016\n"
     ]
    }
   ],
   "source": [
    "# Optimization with simulated annealing \n",
    "\n",
    "initial_x = np.random.randint(2, size=n)\n",
    "\n",
    "cost = fun(initial_x)\n",
    "x = np.copy(initial_x)\n",
    "alpha = 0.999\n",
    "temp = 10\n",
    "for j in range(10000):\n",
    "    \n",
    "    # pick a random index and flip the bit associated with it  \n",
    "    flip=np.random.randint(len(x))\n",
    "    new_x = np.copy(x)\n",
    "    new_x[flip]=(x[flip]+1)%2\n",
    "    \n",
    "    # compute cost function with flipped bit \n",
    "    new_cost=fun(new_x)\n",
    "    if np.exp(-(new_cost-cost)/temp) > np.random.rand():\n",
    "        x = np.copy(new_x)\n",
    "        cost = new_cost\n",
    "    temp= temp*alpha\n",
    "print('distance = ' + str(cost) + ' x_solution = ' + str(x) + ', final temperature= ' + str(temp))\n",
    "\n",
    "best_order_sim_ann=get_order_tsp(x)\n",
    "\n",
    "plt.scatter(xc, yc)\n",
    "xbest = np.array([xc[i] for i in best_order_sim_ann])\n",
    "xbest=np.append(xbest,xbest[0])\n",
    "ybest = np.array([yc[i] for i in best_order_sim_ann])\n",
    "ybest=np.append(ybest,ybest[0])\n",
    "plt.plot(xbest, ybest, 'b.-', ms = 40)\n",
    "plt.plot(xc[0], yc[0], 'r*', ms = 20)\n",
    "for i in range(len(xc)):\n",
    "    plt.annotate(i,(xc[i]+0.15,yc[i]),size=16,color='r')\n",
    "plt.show()\n",
    "print('Best order from simulated annealing = ' + str(best_order_sim_ann) + ' with total distance = ' + str(cost))"
   ]
  },
  {
   "cell_type": "markdown",
   "metadata": {},
   "source": [
    "### Mapping to Z variables and simulation on a quantum computer"
   ]
  },
  {
   "cell_type": "code",
   "execution_count": 19,
   "metadata": {},
   "outputs": [],
   "source": [
    "# Defining the new matrices in the Z-basis \n",
    "\n",
    "Iv=np.ones((N-1)**2)\n",
    "Qz = (Q/4)\n",
    "Gz =( -G/2-np.dot(Iv,Q/4)-np.dot(Q/4,Iv))\n",
    "Mz = (M+np.dot(G/2,Iv)+np.dot(Iv,np.dot(Q/4,Iv)))\n",
    "\n",
    "Mz = Mz + np.trace(Qz)\n",
    "Qz = Qz - np.diag(np.diag(Qz))\n",
    "\n",
    "# Recall the change of variables is \n",
    "# x = (1-z)/2\n",
    "# z = -2x+1\n",
    "z= -(2*xopt_brute)+Iv\n",
    "\n",
    "for i in range(1000):\n",
    "    rd =  1-2*np.random.randint(2, size=n)\n",
    "    if np.dot(rd,np.dot(Qz,rd))+np.dot(Gz,rd)+Mz < (best_distance_brute-0.0001):\n",
    "        print(np.dot(rd,np.dot(Qz,rd))+np.dot(Gz,rd)+Mz)"
   ]
  },
  {
   "cell_type": "code",
   "execution_count": 20,
   "metadata": {},
   "outputs": [],
   "source": [
    "# Getting the Hamiltonian in the form of a list of Pauli terms \n",
    "\n",
    "pauli_list = []\n",
    "for i in range(n):\n",
    "    if Gz[i] != 0:\n",
    "        wp = np.zeros(n)\n",
    "        vp = np.zeros(n)\n",
    "        vp[i] = 1\n",
    "        pauli_list.append((Gz[i],Pauli(vp,wp)))\n",
    "for i in range(n):\n",
    "    for j in range(i):\n",
    "        if Qz[i,j] != 0:\n",
    "            wp = np.zeros(n)\n",
    "            vp = np.zeros(n)\n",
    "            vp[i] = 1\n",
    "            vp[j] = 1\n",
    "            pauli_list.append((2*Qz[i,j],Pauli(vp,wp)))\n",
    "            \n",
    "pauli_list.append((Mz,Pauli(np.zeros(n),np.zeros(n))))"
   ]
  },
  {
   "cell_type": "code",
   "execution_count": 21,
   "metadata": {},
   "outputs": [
    {
     "name": "stdout",
     "output_type": "stream",
     "text": [
      "19.968850522379398\n"
     ]
    }
   ],
   "source": [
    "# Making the Hamiltonian as a full matrix and finding its lowest eigenvalue\n",
    "\n",
    "H = make_hamiltonian(pauli_list)\n",
    "we, v = la.eigh(H, eigvals=(0,0))\n",
    "exact = we[0]\n",
    "print(exact)\n",
    "H=np.diag(H)"
   ]
  },
  {
   "cell_type": "code",
   "execution_count": 22,
   "metadata": {},
   "outputs": [],
   "source": [
    "# Set up quantum circuit parameters\n",
    "\n",
    "# entangler step is made of two-qubit gates between a control and target qubit, control: [target]\n",
    "coupling_map = None\n",
    "# coupling_maps gates allowed on the device\n",
    "entangler_map = {0: [1], 1: [2], 2: [3], 3: [4], 4: [5], 5: [6], 6: [7], 7: [8]}\n",
    "# layout of the qubits \n",
    "initial_layout = None \n",
    "# backend used for the quantum computation\n",
    "backend = 'local_statevector_simulator' \n",
    "# total number of trial steps used in the optimization\n",
    "max_trials = 200; \n",
    "# number of qubits \n",
    "n = 9 \n",
    "# depth of the quantum circuit that prepares the trial state\n",
    "m = 5     \n",
    "# initial starting point for the control angles\n",
    "initial_theta=np.random.randn(m*n)   \n",
    "# number of shots for each evaluation of the cost function \n",
    "# (shots=1 corresponds to perfect evaluation, only available on the simulator)\n",
    "shots = 1\n",
    "# choose to plot the results of the optimizations every save_steps \n",
    "save_step = 1"
   ]
  },
  {
   "cell_type": "code",
   "execution_count": 23,
   "metadata": {},
   "outputs": [
    {
     "name": "stdout",
     "output_type": "stream",
     "text": [
      "calibration step # 0 of 25\n",
      "calibration step # 5 of 25\n",
      "calibration step # 10 of 25\n",
      "calibration step # 15 of 25\n",
      "calibration step # 20 of 25\n",
      "calibrated SPSA_parameters[0] is 0.0002468\n",
      "objective function at theta+ for step # 0\n",
      "5822.8160013\n",
      "objective function at theta- for step # 0\n",
      "5602.7670305\n",
      "objective function at theta+ for step # 10\n",
      "4067.5189188\n",
      "objective function at theta- for step # 10\n",
      "3849.5615136\n",
      "objective function at theta+ for step # 20\n",
      "3007.6835552\n",
      "objective function at theta- for step # 20\n",
      "3008.5401244\n",
      "objective function at theta+ for step # 30\n",
      "2886.0750072\n",
      "objective function at theta- for step # 30\n",
      "2597.7606464\n",
      "objective function at theta+ for step # 40\n",
      "2542.6639218\n",
      "objective function at theta- for step # 40\n",
      "2448.1266842\n",
      "objective function at theta+ for step # 50\n",
      "2228.9809965\n",
      "objective function at theta- for step # 50\n",
      "2357.7914685\n",
      "objective function at theta+ for step # 60\n",
      "2127.0568814\n",
      "objective function at theta- for step # 60\n",
      "1913.2449930\n",
      "objective function at theta+ for step # 70\n",
      "1920.8844495\n",
      "objective function at theta- for step # 70\n",
      "1950.1550573\n",
      "objective function at theta+ for step # 80\n",
      "1681.5913553\n",
      "objective function at theta- for step # 80\n",
      "2007.9444012\n",
      "objective function at theta+ for step # 90\n",
      "1701.8888247\n",
      "objective function at theta- for step # 90\n",
      "1696.2880905\n",
      "objective function at theta+ for step # 100\n",
      "1710.3825071\n",
      "objective function at theta- for step # 100\n",
      "1612.7602581\n",
      "objective function at theta+ for step # 110\n",
      "1469.0038728\n",
      "objective function at theta- for step # 110\n",
      "1613.1183187\n",
      "objective function at theta+ for step # 120\n",
      "1500.5377821\n",
      "objective function at theta- for step # 120\n",
      "1511.6169820\n",
      "objective function at theta+ for step # 130\n",
      "1257.1315069\n",
      "objective function at theta- for step # 130\n",
      "1419.4059080\n",
      "objective function at theta+ for step # 140\n",
      "1321.1080236\n",
      "objective function at theta- for step # 140\n",
      "1291.3277207\n",
      "objective function at theta+ for step # 150\n",
      "1299.5833817\n",
      "objective function at theta- for step # 150\n",
      "1158.2119544\n",
      "objective function at theta+ for step # 160\n",
      "1016.8677380\n",
      "objective function at theta- for step # 160\n",
      "1217.3438287\n",
      "objective function at theta+ for step # 170\n",
      "974.1392937\n",
      "objective function at theta- for step # 170\n",
      "953.0046385\n",
      "objective function at theta+ for step # 180\n",
      "940.2202000\n",
      "objective function at theta- for step # 180\n",
      "914.0837230\n",
      "objective function at theta+ for step # 190\n",
      "888.4738036\n",
      "objective function at theta- for step # 190\n",
      "712.3746376\n",
      "Final objective function is: 678.2181065\n"
     ]
    }
   ],
   "source": [
    "# Run optimization \n",
    "\n",
    "def cost_function(H,n,m,entangler_map,shots,device,theta):\n",
    "    return eval_hamiltonian(H,trial_circuit_ry(n,m,theta,entangler_map,None,False),shots,device).real\n",
    "\n",
    "initial_c=0.1\n",
    "target_update=2*np.pi*0.1\n",
    "save_step = 10\n",
    "\n",
    "if shots !=1:\n",
    "    H=group_paulis(pauli_list)\n",
    "    \n",
    "SPSA_params = SPSA_calibration(partial(cost_function,H,n,m,entangler_map,shots,backend),\n",
    "                               initial_theta,initial_c,target_update,25)\n",
    "            \n",
    "best_distance_quantum, best_theta, cost_plus, cost_minus, _, _ = \\\n",
    "    SPSA_optimization(partial(cost_function,H,n,m,entangler_map,shots,backend), \\\n",
    "                      initial_theta,SPSA_params,max_trials,save_step,1);"
   ]
  },
  {
   "cell_type": "code",
   "execution_count": 24,
   "metadata": {},
   "outputs": [
    {
     "data": {
      "text/plain": [
       "Text(0,0.5,'Cost')"
      ]
     },
     "execution_count": 24,
     "metadata": {},
     "output_type": "execute_result"
    },
    {
     "data": {
      "image/png": "[encoded data removed]",
      "text/plain": [
       "<matplotlib.figure.Figure at 0x108d8e668>"
      ]
     },
     "metadata": {},
     "output_type": "display_data"
    }
   ],
   "source": [
    "plt.plot(np.arange(0, max_trials,save_step),cost_plus,label='C(theta_plus)')\n",
    "plt.plot(np.arange(0, max_trials,save_step),cost_minus,label='C(theta_minus)')\n",
    "plt.plot(np.arange(0, max_trials,save_step),(np.ones(max_trials//save_step)*best_distance_quantum), label='Final Cost')\n",
    "plt.plot(np.arange(0, max_trials,save_step),np.ones(max_trials//save_step)*exact, label='Exact Cost')\n",
    "plt.legend()\n",
    "plt.xlabel('Number of trials')\n",
    "plt.ylabel('Cost')"
   ]
  },
  {
   "cell_type": "code",
   "execution_count": 25,
   "metadata": {},
   "outputs": [
    {
     "data": {
      "image/png": "[encoded data removed]",
      "text/plain": [
       "<matplotlib.figure.Figure at 0x108a6e048>"
      ]
     },
     "metadata": {},
     "output_type": "display_data"
    }
   ],
   "source": [
    "shots = 100\n",
    "backend = 'local_qasm_simulator'\n",
    "final_circuit = trial_circuit_ry(n, m, best_theta, entangler_map,None,True)\n",
    "job = execute([final_circuit], backend=backend, shots=shots, coupling_map=coupling_map, initial_layout=initial_layout)\n",
    "result = job.result()\n",
    "data = result.get_counts(final_circuit)\n",
    "plot_histogram(data,5)"
   ]
  },
  {
   "cell_type": "code",
   "execution_count": 26,
   "metadata": {},
   "outputs": [],
   "source": [
    "# Getting path and total distance from the largest component of the quantum state\n",
    "\n",
    "max_value = max(data.values())  # maximum value\n",
    "max_keys = [k for k, v in data.items() if v == max_value] # getting all keys containing the `maximum`\n",
    "\n",
    "x_quantum=np.zeros(n)\n",
    "for bit in range(n):\n",
    "    if max_keys[0][bit]=='1':\n",
    "        x_quantum[bit]=1\n",
    "    \n",
    "quantum_order = get_order_tsp(list(map(int, x_quantum)))\n",
    "best_distance_quantum_amp=fun(x_quantum)"
   ]
  },
  {
   "cell_type": "code",
   "execution_count": 27,
   "metadata": {},
   "outputs": [
    {
     "data": {
      "image/png": "[encoded data removed]",
      "text/plain": [
       "<matplotlib.figure.Figure at 0x108e50198>"
      ]
     },
     "metadata": {},
     "output_type": "display_data"
    },
    {
     "name": "stdout",
     "output_type": "stream",
     "text": [
      "Best order from quantum optimization is = [0, 3, 1, 2] with total distance = 20.237837451250016\n"
     ]
    }
   ],
   "source": [
    "plt.scatter(xc, yc)\n",
    "xbest = np.array([xc[i] for i in quantum_order])\n",
    "xbest = np.append(xbest,xbest[0])\n",
    "ybest = np.array([yc[i] for i in quantum_order])\n",
    "ybest = np.append(ybest,ybest[0])\n",
    "plt.plot(xbest, ybest, 'b.-', ms = 40)\n",
    "plt.plot(xc[0], yc[0], 'r*', ms = 20)\n",
    "for i in range(len(xc)):\n",
    "    plt.annotate(i,(xc[i]+0.15,yc[i]),size=14,color='r')\n",
    "plt.show()\n",
    "print('Best order from quantum optimization is = ' + str(quantum_order) + ' with total distance = ' + str(best_distance_quantum_amp))"
   ]
  },
  {
   "cell_type": "code",
   "execution_count": null,
   "metadata": {},
   "outputs": [],
   "source": []
  }
 ],
 "metadata": {
  "anaconda-cloud": {},
  "kernelspec": {
   "display_name": "Python [conda env:QISKitcore]",
   "language": "python",
   "name": "conda-env-QISKitcore-py"
  },
  "language_info": {
   "codemirror_mode": {
    "name": "ipython",
    "version": 3
   },
   "file_extension": ".py",
   "mimetype": "text/x-python",
   "name": "python",
   "nbconvert_exporter": "python",
   "pygments_lexer": "ipython3",
   "version": "3.6.5"
  }
 },
 "nbformat": 4,
 "nbformat_minor": 1
}
