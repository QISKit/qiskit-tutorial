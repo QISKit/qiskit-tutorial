{
 "cells": [
  {
   "cell_type": "markdown",
   "metadata": {},
   "source": [
    "<img src=\"../../images/qiskit-heading.gif\" alt=\"Note: In order for images to show up in this jupyter notebook you need to select File => Trusted Notebook\" width=\"500 px\" align=\"left\">"
   ]
  },
  {
   "cell_type": "markdown",
   "metadata": {},
   "source": [
    "# _*Working with Different Backends*_ \n",
    "\n",
    "In this tutorial, we will first describe the various [backends](#backends) available in Qiskit and how to find out more information about each of them, then we will explore how Qiskit allows you to compile and run the same quantum circuit on different backends with different topology. \n",
    "\n",
    "The latest version of this notebook is available on https://github.com/qiskit/qiskit-tutorial.\n",
    "\n",
    "***\n",
    "### Contributors\n",
    "Jay Gambetta, Joe Hellmers, Anna Phan, Ali Javadi"
   ]
  },
  {
   "cell_type": "markdown",
   "metadata": {},
   "source": [
    "## Qiskit's Backend Architecture<a id='backends'></a>\n",
    "\n",
    "At the core of Qiskit is the ability to access different backends to run your quantum programs. These backends are real devices, online simulators, and local simulators. As we continue to increase the flexibility of Qiskit we expect there to be many different backends. These will include new hardware with different number of qubits, connectivity, different gate sets, and simulators with different properties. \n",
    "\n",
    "Current devices can be found on the (devices page)[https://quantumexperience.ng.bluemix.net/qx/devices] of the IBM Q Experience.\n",
    "\n",
    "The simulators are grouped by functionality:\n",
    "* QASM simulators - these simulate a quantum circuit and predict the outcomes of a quantum experiment. \n",
    "* Unitary simulators – predicts the unitary of a quantum circuit without measurement and conditional operations.\n",
    "* Statevector simulators - predicts the statevector output resulting from the evolution of the zero state through a quantum circuit, without measurement and conditional operations.\n",
    "\n",
    "The three important parts defining Qiskit's backends are: the `provider`, the `backend`, and the `job` object. \n",
    "\n",
    "* The *provider* is responsible for providing access to some backends. Qiskit comes with a `LocalProvider` by default, giving you access to local simualtors. Using a simple `register` command, you are able to access the backends available from IBMQ, including its devices and online simulators. Once the correct authentication with a provider is performed, all of its backends are available for running jobs.\n",
    "* The *backend* is responsible for running a `Qobj` (compiled program), and reporting a result.\n",
    "* The *job* is the result of an execution. Jobs in Qiskit are launched asynchronously, meaning you get control of your Python program after you launch an execution, with a handle to the job that was submitted. You may then continue to inquire about the status of a job, or once complete, see the result from a job."
   ]
  },
  {
   "cell_type": "code",
   "execution_count": 1,
   "metadata": {
    "ExecuteTime": {
     "end_time": "2018-09-26T14:36:44.769429Z",
     "start_time": "2018-09-26T14:36:44.755877Z"
    }
   },
   "outputs": [
    {
     "name": "stdout",
     "output_type": "stream",
     "text": [
      "Qconfig loaded from ../../Qconfig.py.\n"
     ]
    }
   ],
   "source": [
    "try:\n",
    "    import sys\n",
    "    sys.path.append(\"../../\") # go to parent dir\n",
    "    import Qconfig\n",
    "    qx_config = {\n",
    "        \"APItoken\": Qconfig.APItoken,\n",
    "        \"url\": Qconfig.config['url']}\n",
    "    print('Qconfig loaded from %s.' % Qconfig.__file__)\n",
    "except Exception as e:\n",
    "    print(e)"
   ]
  },
  {
   "cell_type": "code",
   "execution_count": 34,
   "metadata": {
    "ExecuteTime": {
     "end_time": "2018-09-26T14:40:05.666668Z",
     "start_time": "2018-09-26T14:40:05.652194Z"
    }
   },
   "outputs": [],
   "source": [
    "from qiskit import QuantumCircuit, ClassicalRegister, QuantumRegister\n",
    "from qiskit import available_backends, execute, register, get_backend, compile\n",
    "from qiskit.wrapper.jupyter import *\n",
    "from qiskit.tools.visualization import plot_histogram\n",
    "from pprint import pprint"
   ]
  },
  {
   "cell_type": "markdown",
   "metadata": {},
   "source": [
    "### The Local and IBMQ providers\n",
    "\n",
    "A provider must be registered and it must support three funtions: `available_backends()` and `get_backend()` and a method to register the provider.\n",
    "\n",
    "```\n",
    "available_backends() - list all the backends of the resistered backends\n",
    "```\n",
    "```\n",
    "get_backend('name') - get a backend instance from a name \n",
    "```\n",
    "\n",
    "Lets start with the  `available_backends()` command"
   ]
  },
  {
   "cell_type": "code",
   "execution_count": 4,
   "metadata": {
    "ExecuteTime": {
     "end_time": "2018-09-26T14:37:11.095096Z",
     "start_time": "2018-09-26T14:37:11.086950Z"
    }
   },
   "outputs": [
    {
     "data": {
      "text/plain": [
       "['local_qasm_simulator',\n",
       " 'local_statevector_simulator',\n",
       " 'local_unitary_simulator']"
      ]
     },
     "execution_count": 4,
     "metadata": {},
     "output_type": "execute_result"
    }
   ],
   "source": [
    "available_backends()"
   ]
  },
  {
   "cell_type": "markdown",
   "metadata": {},
   "source": [
    "This list is compact and picks the best of the diffent types. To list all the backends not just group names, you can use:"
   ]
  },
  {
   "cell_type": "code",
   "execution_count": 5,
   "metadata": {
    "ExecuteTime": {
     "end_time": "2018-09-26T14:37:12.816645Z",
     "start_time": "2018-09-26T14:37:12.812374Z"
    }
   },
   "outputs": [
    {
     "data": {
      "text/plain": [
       "['local_qasm_simulator_py',\n",
       " 'local_statevector_simulator_py',\n",
       " 'local_unitary_simulator_py']"
      ]
     },
     "execution_count": 5,
     "metadata": {},
     "output_type": "execute_result"
    }
   ],
   "source": [
    "available_backends(compact=False)"
   ]
  },
  {
   "cell_type": "markdown",
   "metadata": {},
   "source": [
    "To add the IBMQ provider you need to register it using\n",
    "\n",
    "```\n",
    "register(arg,...)\n",
    "```"
   ]
  },
  {
   "cell_type": "code",
   "execution_count": 6,
   "metadata": {
    "ExecuteTime": {
     "end_time": "2018-09-26T14:37:20.271269Z",
     "start_time": "2018-09-26T14:37:19.216168Z"
    }
   },
   "outputs": [
    {
     "data": {
      "text/plain": [
       "['ibmq_16_melbourne',\n",
       " 'ibmq_16_rueschlikon',\n",
       " 'ibmq_5_tenerife',\n",
       " 'ibmq_5_yorktown',\n",
       " 'ibmq_qasm_simulator',\n",
       " 'local_qasm_simulator',\n",
       " 'local_statevector_simulator',\n",
       " 'local_unitary_simulator']"
      ]
     },
     "execution_count": 6,
     "metadata": {},
     "output_type": "execute_result"
    }
   ],
   "source": [
    "register(qx_config['APItoken'], qx_config['url'])\n",
    "available_backends()"
   ]
  },
  {
   "cell_type": "markdown",
   "metadata": {},
   "source": [
    "The `available_backends` function can also use filters.\n",
    "\n",
    "Filter: show remote backends only"
   ]
  },
  {
   "cell_type": "code",
   "execution_count": 7,
   "metadata": {
    "ExecuteTime": {
     "end_time": "2018-09-26T14:37:22.098819Z",
     "start_time": "2018-09-26T14:37:22.092167Z"
    }
   },
   "outputs": [
    {
     "data": {
      "text/plain": [
       "['ibmq_16_melbourne',\n",
       " 'ibmq_16_rueschlikon',\n",
       " 'ibmq_5_tenerife',\n",
       " 'ibmq_5_yorktown',\n",
       " 'ibmq_qasm_simulator']"
      ]
     },
     "execution_count": 7,
     "metadata": {},
     "output_type": "execute_result"
    }
   ],
   "source": [
    "available_backends({'local': False})"
   ]
  },
  {
   "cell_type": "markdown",
   "metadata": {},
   "source": [
    "Filter: show only local backends"
   ]
  },
  {
   "cell_type": "code",
   "execution_count": 8,
   "metadata": {
    "ExecuteTime": {
     "end_time": "2018-09-26T14:37:27.906466Z",
     "start_time": "2018-09-26T14:37:23.565546Z"
    }
   },
   "outputs": [
    {
     "data": {
      "text/plain": [
       "['local_qasm_simulator',\n",
       " 'local_statevector_simulator',\n",
       " 'local_unitary_simulator']"
      ]
     },
     "execution_count": 8,
     "metadata": {},
     "output_type": "execute_result"
    }
   ],
   "source": [
    "available_backends({'local': True})"
   ]
  },
  {
   "cell_type": "markdown",
   "metadata": {},
   "source": [
    "Filer: show only simulators"
   ]
  },
  {
   "cell_type": "code",
   "execution_count": 9,
   "metadata": {
    "ExecuteTime": {
     "end_time": "2018-09-26T14:37:31.858711Z",
     "start_time": "2018-09-26T14:37:27.908569Z"
    }
   },
   "outputs": [
    {
     "data": {
      "text/plain": [
       "['ibmq_qasm_simulator',\n",
       " 'local_qasm_simulator',\n",
       " 'local_statevector_simulator',\n",
       " 'local_unitary_simulator']"
      ]
     },
     "execution_count": 9,
     "metadata": {},
     "output_type": "execute_result"
    }
   ],
   "source": [
    "available_backends({'simulator': True})"
   ]
  },
  {
   "cell_type": "markdown",
   "metadata": {},
   "source": [
    "Fileter: show only real devices"
   ]
  },
  {
   "cell_type": "code",
   "execution_count": 10,
   "metadata": {
    "ExecuteTime": {
     "end_time": "2018-09-26T14:37:32.809635Z",
     "start_time": "2018-09-26T14:37:31.860635Z"
    }
   },
   "outputs": [
    {
     "data": {
      "text/plain": [
       "['ibmq_16_melbourne',\n",
       " 'ibmq_16_rueschlikon',\n",
       " 'ibmq_5_tenerife',\n",
       " 'ibmq_5_yorktown']"
      ]
     },
     "execution_count": 10,
     "metadata": {},
     "output_type": "execute_result"
    }
   ],
   "source": [
    "available_backends({'simulator': False})"
   ]
  },
  {
   "cell_type": "markdown",
   "metadata": {},
   "source": [
    "Filter: show both a remote backend and a simulator backend"
   ]
  },
  {
   "cell_type": "code",
   "execution_count": 11,
   "metadata": {
    "ExecuteTime": {
     "end_time": "2018-09-26T14:37:37.917020Z",
     "start_time": "2018-09-26T14:37:34.259279Z"
    }
   },
   "outputs": [
    {
     "data": {
      "text/plain": [
       "['ibmq_qasm_simulator']"
      ]
     },
     "execution_count": 11,
     "metadata": {},
     "output_type": "execute_result"
    }
   ],
   "source": [
    "available_backends({'local': False, 'simulator': True})"
   ]
  },
  {
   "cell_type": "markdown",
   "metadata": {},
   "source": [
    "Filter: show currently operational devices (devices that are actively running jobs)"
   ]
  },
  {
   "cell_type": "code",
   "execution_count": 12,
   "metadata": {
    "ExecuteTime": {
     "end_time": "2018-09-26T14:37:43.209708Z",
     "start_time": "2018-09-26T14:37:37.921600Z"
    }
   },
   "outputs": [
    {
     "data": {
      "text/plain": [
       "['ibmq_16_melbourne', 'ibmq_16_rueschlikon', 'ibmq_5_tenerife']"
      ]
     },
     "execution_count": 12,
     "metadata": {},
     "output_type": "execute_result"
    }
   ],
   "source": [
    "available_backends({'operational': True, 'simulator': False})"
   ]
  },
  {
   "cell_type": "markdown",
   "metadata": {},
   "source": [
    "Filter: show devices with more than 10 qubits"
   ]
  },
  {
   "cell_type": "code",
   "execution_count": 15,
   "metadata": {
    "ExecuteTime": {
     "end_time": "2018-09-26T14:38:10.307611Z",
     "start_time": "2018-09-26T14:38:10.303381Z"
    }
   },
   "outputs": [
    {
     "data": {
      "text/plain": [
       "['ibmq_16_melbourne', 'ibmq_16_rueschlikon']"
      ]
     },
     "execution_count": 15,
     "metadata": {},
     "output_type": "execute_result"
    }
   ],
   "source": [
    "available_backends(lambda x: x.configuration()['n_qubits'] > 10 and not x.configuration()['simulator'])"
   ]
  },
  {
   "cell_type": "markdown",
   "metadata": {},
   "source": [
    "Filter: show the least busy device (in terms of pending jobs in the queue)"
   ]
  },
  {
   "cell_type": "code",
   "execution_count": 16,
   "metadata": {
    "ExecuteTime": {
     "end_time": "2018-09-26T14:38:24.032519Z",
     "start_time": "2018-09-26T14:38:13.357111Z"
    }
   },
   "outputs": [
    {
     "data": {
      "text/plain": [
       "'ibmq_16_melbourne'"
      ]
     },
     "execution_count": 16,
     "metadata": {},
     "output_type": "execute_result"
    }
   ],
   "source": [
    "from qiskit import least_busy\n",
    "least_busy(available_backends({'simulator': False}))"
   ]
  },
  {
   "cell_type": "markdown",
   "metadata": {},
   "source": [
    "The above filters can be combined as desired.\n",
    "\n",
    "The second function `get_backend()` allows you to make a backend instance"
   ]
  },
  {
   "cell_type": "code",
   "execution_count": 17,
   "metadata": {
    "ExecuteTime": {
     "end_time": "2018-09-26T14:38:25.165185Z",
     "start_time": "2018-09-26T14:38:25.159963Z"
    }
   },
   "outputs": [
    {
     "data": {
      "text/plain": [
       "[<qiskit.backends.ibmq.ibmqbackend.IBMQBackend at 0xa221e9e10>,\n",
       " <qiskit.backends.ibmq.ibmqbackend.IBMQBackend at 0xa1f5ccbe0>,\n",
       " <qiskit.backends.ibmq.ibmqbackend.IBMQBackend at 0xa1f5cceb8>,\n",
       " <qiskit.backends.ibmq.ibmqbackend.IBMQBackend at 0xa1f5ccdd8>,\n",
       " <qiskit.backends.ibmq.ibmqbackend.IBMQBackend at 0xa221e9630>,\n",
       " <qiskit.backends.local.qasm_simulator_py.QasmSimulatorPy at 0xa1e6e8048>,\n",
       " <qiskit.backends.local.statevector_simulator_py.StatevectorSimulatorPy at 0xa1e6e81d0>,\n",
       " <qiskit.backends.local.unitary_simulator_py.UnitarySimulatorPy at 0xa1e6e8390>]"
      ]
     },
     "execution_count": 17,
     "metadata": {},
     "output_type": "execute_result"
    }
   ],
   "source": [
    "backends = []\n",
    "for backend in available_backends():\n",
    "    backends.append(get_backend(backend))\n",
    "backends"
   ]
  },
  {
   "cell_type": "markdown",
   "metadata": {},
   "source": [
    "### The Backends\n",
    "\n",
    "The next part is the backend instances. These backends must support the following functions:\n",
    "\n",
    "```\n",
    "configuration - gets the configuration of the backend.\n",
    "```\n",
    "```\n",
    "properties -  gets the properties of the backend (currently calibrations and parameters, but will be combined).\n",
    "```\n",
    "```\n",
    "schema -  returns the schema for the qobj object supported by this backend (not implemented yet).\n",
    "```\n",
    "```\n",
    "status - gets the status of the backend.\n",
    "```\n",
    "```\n",
    "jobs  -  returns a list of previous jobs executed by this user on this backend.\n",
    "```\n",
    "```\n",
    "run  - runs a qobj on the backend.\n",
    "```\n"
   ]
  },
  {
   "cell_type": "markdown",
   "metadata": {},
   "source": [
    "Lets start with the `status`:\n",
    "\n",
    "    `available` lets us know that the backend is taking jobs\n",
    "\n",
    "    `pending_jobs` lets you know how many jobs are in the queue"
   ]
  },
  {
   "cell_type": "code",
   "execution_count": 19,
   "metadata": {
    "ExecuteTime": {
     "end_time": "2018-09-26T14:38:36.351979Z",
     "start_time": "2018-09-26T14:38:31.735501Z"
    }
   },
   "outputs": [
    {
     "name": "stdout",
     "output_type": "stream",
     "text": [
      "{'pending_jobs': 0, 'name': 'ibmq_16_melbourne', 'operational': True}\n",
      "{'pending_jobs': 10, 'name': 'ibmqx5', 'operational': True}\n",
      "{'pending_jobs': 25, 'name': 'ibmqx4', 'operational': True}\n",
      "{'pending_jobs': 0, 'name': 'ibmqx2', 'operational': False}\n",
      "{'pending_jobs': 0, 'name': 'ibmq_qasm_simulator', 'operational': True}\n",
      "{'name': 'local_qasm_simulator_py', 'operational': True, 'pending_jobs': 0}\n",
      "{'name': 'local_statevector_simulator_py',\n",
      " 'operational': True,\n",
      " 'pending_jobs': 0}\n",
      "{'name': 'local_unitary_simulator_py', 'operational': True, 'pending_jobs': 0}\n"
     ]
    }
   ],
   "source": [
    "for backend in backends:\n",
    "    pprint(backend.status())"
   ]
  },
  {
   "cell_type": "markdown",
   "metadata": {},
   "source": [
    "The next is `configuration`"
   ]
  },
  {
   "cell_type": "code",
   "execution_count": 21,
   "metadata": {
    "ExecuteTime": {
     "end_time": "2018-09-26T14:38:43.707148Z",
     "start_time": "2018-09-26T14:38:43.696135Z"
    }
   },
   "outputs": [
    {
     "name": "stdout",
     "output_type": "stream",
     "text": [
      "{'allow_q_object': False,\n",
      " 'basis_gates': 'u1,u2,u3,cx,id',\n",
      " 'chip_name': 'Albatross',\n",
      " 'coupling_map': [[1, 0],\n",
      "                  [1, 2],\n",
      "                  [2, 3],\n",
      "                  [4, 3],\n",
      "                  [4, 10],\n",
      "                  [5, 4],\n",
      "                  [5, 6],\n",
      "                  [5, 9],\n",
      "                  [6, 8],\n",
      "                  [7, 8],\n",
      "                  [9, 8],\n",
      "                  [9, 10],\n",
      "                  [11, 3],\n",
      "                  [11, 10],\n",
      "                  [11, 12],\n",
      "                  [12, 2],\n",
      "                  [13, 1],\n",
      "                  [13, 12]],\n",
      " 'deleted': False,\n",
      " 'description': '16 transmon 2x8 ladder',\n",
      " 'internal_id': '5ba502d0986f16003ea56c87',\n",
      " 'local': False,\n",
      " 'n_qubits': 14,\n",
      " 'name': 'ibmq_16_melbourne',\n",
      " 'online_date': '2018-09-07T00:00:00.000Z',\n",
      " 'simulator': False,\n",
      " 'url': 'https://ibm.biz/qiskit-ibmq_16_melbourne',\n",
      " 'version': '1.0.0'}\n",
      "{'allow_q_object': False,\n",
      " 'basis_gates': 'u1,u2,u3,cx,id',\n",
      " 'chip_name': 'Albatross',\n",
      " 'coupling_map': [[1, 0],\n",
      "                  [1, 2],\n",
      "                  [2, 3],\n",
      "                  [3, 4],\n",
      "                  [3, 14],\n",
      "                  [5, 4],\n",
      "                  [6, 5],\n",
      "                  [6, 7],\n",
      "                  [6, 11],\n",
      "                  [7, 10],\n",
      "                  [8, 7],\n",
      "                  [9, 8],\n",
      "                  [9, 10],\n",
      "                  [11, 10],\n",
      "                  [12, 5],\n",
      "                  [12, 11],\n",
      "                  [12, 13],\n",
      "                  [13, 4],\n",
      "                  [13, 14],\n",
      "                  [15, 0],\n",
      "                  [15, 2],\n",
      "                  [15, 14]],\n",
      " 'deleted': False,\n",
      " 'description': '16 transmon 2x8 ladder',\n",
      " 'gate_set': 'SU2+CNOT',\n",
      " 'internal_id': '5ae875670f020500393162b6',\n",
      " 'local': False,\n",
      " 'n_qubits': 16,\n",
      " 'name': 'ibmqx5',\n",
      " 'online_date': '2017-09-21T00:00:00.000Z',\n",
      " 'simulator': False,\n",
      " 'url': 'https://ibm.biz/qiskit-ibmqx5',\n",
      " 'version': '1.1.0'}\n",
      "{'allow_q_object': False,\n",
      " 'basis_gates': 'u1,u2,u3,cx,id',\n",
      " 'chip_name': 'Raven',\n",
      " 'coupling_map': [[1, 0], [2, 0], [2, 1], [3, 2], [3, 4], [4, 2]],\n",
      " 'deleted': False,\n",
      " 'description': '5 qubit transmon bowtie chip 3',\n",
      " 'gate_set': 'SU2+CNOT',\n",
      " 'internal_id': '5ae875670f020500393162b3',\n",
      " 'local': False,\n",
      " 'n_qubits': 5,\n",
      " 'name': 'ibmqx4',\n",
      " 'online_date': '2017-09-18T00:00:00.000Z',\n",
      " 'simulator': False,\n",
      " 'url': 'https://ibm.biz/qiskit-ibmqx4',\n",
      " 'version': '1.2.0'}\n",
      "{'allow_q_object': False,\n",
      " 'basis_gates': 'u1,u2,u3,cx,id',\n",
      " 'chip_name': 'Sparrow',\n",
      " 'coupling_map': [[0, 1], [0, 2], [1, 2], [3, 2], [3, 4], [4, 2]],\n",
      " 'deleted': False,\n",
      " 'description': '5 qubit transmon bowtie chip 2',\n",
      " 'gate_set': 'SU2+CNOT',\n",
      " 'internal_id': '5ae875670f020500393162da',\n",
      " 'local': False,\n",
      " 'n_qubits': 5,\n",
      " 'name': 'ibmqx2',\n",
      " 'online_date': '2017-01-10T00:00:00.000Z',\n",
      " 'simulator': False,\n",
      " 'url': 'https://ibm.biz/qiskit-ibmqx2',\n",
      " 'version': '1.1.0'}\n",
      "{'allow_q_object': False,\n",
      " 'basis_gates': 'u1,u2,u3,cx,id',\n",
      " 'coupling_map': 'all-to-all',\n",
      " 'deleted': False,\n",
      " 'description': 'online qasm simulator',\n",
      " 'internal_id': '5ae875670f020500393162ad',\n",
      " 'local': False,\n",
      " 'n_qubits': 32,\n",
      " 'name': 'ibmq_qasm_simulator',\n",
      " 'online_date': '2017-12-09T12:00:00.000Z',\n",
      " 'simulator': True}\n",
      "{'basis_gates': 'u1,u2,u3,cx,id,snapshot',\n",
      " 'coupling_map': 'all-to-all',\n",
      " 'description': 'A python simulator for qasm files',\n",
      " 'local': True,\n",
      " 'name': 'local_qasm_simulator_py',\n",
      " 'simulator': True,\n",
      " 'url': 'https://github.com/QISKit/qiskit-terra'}\n",
      "{'basis_gates': 'u1,u2,u3,cx,id,snapshot',\n",
      " 'coupling_map': 'all-to-all',\n",
      " 'description': 'A Python statevector simulator for qobj files',\n",
      " 'local': True,\n",
      " 'name': 'local_statevector_simulator_py',\n",
      " 'simulator': True,\n",
      " 'url': 'https://github.com/QISKit/qiskit-terra'}\n",
      "{'basis_gates': 'u1,u2,u3,cx,id',\n",
      " 'coupling_map': 'all-to-all',\n",
      " 'description': 'A python simulator for unitary matrix',\n",
      " 'local': True,\n",
      " 'name': 'local_unitary_simulator_py',\n",
      " 'simulator': True,\n",
      " 'url': 'https://github.com/QISKit/qiskit-terra'}\n"
     ]
    }
   ],
   "source": [
    "for backend in backends:\n",
    "    pprint(backend.configuration())"
   ]
  },
  {
   "cell_type": "code",
   "execution_count": 23,
   "metadata": {
    "ExecuteTime": {
     "end_time": "2018-09-26T14:39:02.682614Z",
     "start_time": "2018-09-26T14:38:54.191129Z"
    }
   },
   "outputs": [
    {
     "name": "stdout",
     "output_type": "stream",
     "text": [
      "{'backend': 'ibmq_16_melbourne',\n",
      " 'fridge_parameters': {'Temperature': {'date': '2018-09-26T08:30:58Z',\n",
      "                                       'unit': 'K',\n",
      "                                       'value': 0.0253386},\n",
      "                       'cooldownDate': '2018-07-10'},\n",
      " 'last_update_date': '2018-09-26T06:25:08.000Z',\n",
      " 'multi_qubit_gates': [{'gateError': {'date': '2018-09-26T07:20:09Z',\n",
      "                                      'value': 0.033870972524724485},\n",
      "                        'name': 'CX1_0',\n",
      "                        'qubits': [1, 0],\n",
      "                        'type': 'CX'},\n",
      "                       {'gateError': {'date': '2018-09-26T07:20:09Z',\n",
      "                                      'value': 0.02749613986309893},\n",
      "                        'name': 'CX1_2',\n",
      "                        'qubits': [1, 2],\n",
      "                        'type': 'CX'},\n",
      "                       {'gateError': {'date': '2018-09-26T07:20:09Z',\n",
      "                                      'value': 0.04341724801257407},\n",
      "                        'name': 'CX2_3',\n",
      "                        'qubits': [2, 3],\n",
      "                        'type': 'CX'},\n",
      "                       {'gateError': {'date': '2018-09-26T07:20:09Z',\n",
      "                                      'value': 0.031361136929549116},\n",
      "                        'name': 'CX4_3',\n",
      "                        'qubits': [4, 3],\n",
      "                        'type': 'CX'},\n",
      "                       {'gateError': {'date': '2018-09-26T07:20:09Z',\n",
      "                                      'value': 0.03953004422912537},\n",
      "                        'name': 'CX4_10',\n",
      "                        'qubits': [4, 10],\n",
      "                        'type': 'CX'},\n",
      "                       {'gateError': {'date': '2018-09-26T07:20:09Z',\n",
      "                                      'value': 0.04475639253427008},\n",
      "                        'name': 'CX5_4',\n",
      "                        'qubits': [5, 4],\n",
      "                        'type': 'CX'},\n",
      "                       {'gateError': {'date': '2018-09-26T07:20:09Z',\n",
      "                                      'value': 0.05293594474081606},\n",
      "                        'name': 'CX5_6',\n",
      "                        'qubits': [5, 6],\n",
      "                        'type': 'CX'},\n",
      "                       {'gateError': {'date': '2018-09-26T07:20:09Z',\n",
      "                                      'value': 0.05853864067722489},\n",
      "                        'name': 'CX5_9',\n",
      "                        'qubits': [5, 9],\n",
      "                        'type': 'CX'},\n",
      "                       {'gateError': {'date': '2018-09-26T07:20:09Z',\n",
      "                                      'value': 0.019207767340138793},\n",
      "                        'name': 'CX6_8',\n",
      "                        'qubits': [6, 8],\n",
      "                        'type': 'CX'},\n",
      "                       {'gateError': {'date': '2018-09-26T07:20:09Z',\n",
      "                                      'value': 0.0251531510233782},\n",
      "                        'name': 'CX7_8',\n",
      "                        'qubits': [7, 8],\n",
      "                        'type': 'CX'},\n",
      "                       {'gateError': {'date': '2018-09-26T07:20:09Z',\n",
      "                                      'value': 0.042085016966264155},\n",
      "                        'name': 'CX9_8',\n",
      "                        'qubits': [9, 8],\n",
      "                        'type': 'CX'},\n",
      "                       {'gateError': {'date': '2018-09-26T07:20:09Z',\n",
      "                                      'value': 0.060150806224036485},\n",
      "                        'name': 'CX9_10',\n",
      "                        'qubits': [9, 10],\n",
      "                        'type': 'CX'},\n",
      "                       {'gateError': {'date': '2018-09-26T07:20:09Z',\n",
      "                                      'value': 0.036699252782765535},\n",
      "                        'name': 'CX11_10',\n",
      "                        'qubits': [11, 10],\n",
      "                        'type': 'CX'},\n",
      "                       {'gateError': {'date': '2018-09-26T07:20:09Z',\n",
      "                                      'value': 0.04822957971992989},\n",
      "                        'name': 'CX11_12',\n",
      "                        'qubits': [11, 12],\n",
      "                        'type': 'CX'},\n",
      "                       {'gateError': {'date': '2018-09-26T07:20:09Z',\n",
      "                                      'value': 0.03347107350570136},\n",
      "                        'name': 'CX11_3',\n",
      "                        'qubits': [11, 3],\n",
      "                        'type': 'CX'},\n",
      "                       {'gateError': {'date': '2018-09-26T07:20:09Z',\n",
      "                                      'value': 0.09080355188209602},\n",
      "                        'name': 'CX12_2',\n",
      "                        'qubits': [12, 2],\n",
      "                        'type': 'CX'},\n",
      "                       {'gateError': {'date': '2018-09-26T07:20:09Z',\n",
      "                                      'value': 0.09058183432120556},\n",
      "                        'name': 'CX13_1',\n",
      "                        'qubits': [13, 1],\n",
      "                        'type': 'CX'},\n",
      "                       {'gateError': {'date': '2018-09-26T07:20:09Z',\n",
      "                                      'value': 0.0480411935158756},\n",
      "                        'name': 'CX13_12',\n",
      "                        'qubits': [13, 12],\n",
      "                        'type': 'CX'}],\n",
      " 'qubits': [{'T1': {'date': '2018-09-26T06:23:46Z',\n",
      "                    'unit': 'µs',\n",
      "                    'value': 69.8},\n",
      "             'T2': {'date': '2018-09-26T06:25:08Z',\n",
      "                    'unit': 'µs',\n",
      "                    'value': 17.1},\n",
      "             'buffer': {'date': '2018-09-26T06:05:09Z',\n",
      "                        'unit': 'ns',\n",
      "                        'value': 10},\n",
      "             'frequency': {'date': '2018-09-26T06:05:09Z',\n",
      "                           'units': 'GHz',\n",
      "                           'value': 5.1000644},\n",
      "             'gateError': {'date': '2018-09-26T06:29:14Z',\n",
      "                           'value': 0.0017490654264684102},\n",
      "             'gateTime': {'date': '2018-09-26T06:05:09Z',\n",
      "                          'unit': 'ns',\n",
      "                          'value': 100},\n",
      "             'name': 'Q0',\n",
      "             'readoutError': {'date': '2018-09-26T06:23:21Z',\n",
      "                              'value': 0.03839999999999999}},\n",
      "            {'T1': {'date': '2018-09-26T06:23:46Z',\n",
      "                    'unit': 'µs',\n",
      "                    'value': 59.6},\n",
      "             'T2': {'date': '2018-09-26T06:25:08Z',\n",
      "                    'unit': 'µs',\n",
      "                    'value': 105.2},\n",
      "             'buffer': {'date': '2018-09-26T06:05:09Z',\n",
      "                        'unit': 'ns',\n",
      "                        'value': 10},\n",
      "             'frequency': {'date': '2018-09-26T06:05:09Z',\n",
      "                           'units': 'GHz',\n",
      "                           'value': 5.2383847},\n",
      "             'gateError': {'date': '2018-09-26T06:29:14Z',\n",
      "                           'value': 0.00786135586745268},\n",
      "             'gateTime': {'date': '2018-09-26T06:05:09Z',\n",
      "                          'unit': 'ns',\n",
      "                          'value': 100},\n",
      "             'name': 'Q1',\n",
      "             'readoutError': {'date': '2018-09-26T06:23:21Z',\n",
      "                              'value': 0.08460000000000001}},\n",
      "            {'T1': {'date': '2018-09-26T06:23:46Z',\n",
      "                    'unit': 'µs',\n",
      "                    'value': 57.5},\n",
      "             'T2': {'date': '2018-09-26T06:25:08Z',\n",
      "                    'unit': 'µs',\n",
      "                    'value': 87.4},\n",
      "             'buffer': {'date': '2018-09-26T06:05:09Z',\n",
      "                        'unit': 'ns',\n",
      "                        'value': 10},\n",
      "             'frequency': {'date': '2018-09-26T06:05:09Z',\n",
      "                           'units': 'GHz',\n",
      "                           'value': 5.0328781},\n",
      "             'gateError': {'date': '2018-09-26T06:29:14Z',\n",
      "                           'value': 0.004025386497488015},\n",
      "             'gateTime': {'date': '2018-09-26T06:05:09Z',\n",
      "                          'unit': 'ns',\n",
      "                          'value': 100},\n",
      "             'name': 'Q2',\n",
      "             'readoutError': {'date': '2018-09-26T06:23:21Z',\n",
      "                              'value': 0.03069999999999995}},\n",
      "            {'T1': {'date': '2018-09-26T06:23:46Z',\n",
      "                    'unit': 'µs',\n",
      "                    'value': 81.8},\n",
      "             'T2': {'date': '2018-09-26T06:25:08Z',\n",
      "                    'unit': 'µs',\n",
      "                    'value': 149.3},\n",
      "             'buffer': {'date': '2018-09-26T06:05:09Z',\n",
      "                        'unit': 'ns',\n",
      "                        'value': 10},\n",
      "             'frequency': {'date': '2018-09-26T06:05:09Z',\n",
      "                           'units': 'GHz',\n",
      "                           'value': 4.8961463},\n",
      "             'gateError': {'date': '2018-09-26T06:29:14Z',\n",
      "                           'value': 0.0013609184676025565},\n",
      "             'gateTime': {'date': '2018-09-26T06:05:09Z',\n",
      "                          'unit': 'ns',\n",
      "                          'value': 100},\n",
      "             'name': 'Q3',\n",
      "             'readoutError': {'date': '2018-09-26T06:23:21Z',\n",
      "                              'value': 0.06380000000000008}},\n",
      "            {'T1': {'date': '2018-09-26T06:23:46Z',\n",
      "                    'unit': 'µs',\n",
      "                    'value': 67.6},\n",
      "             'T2': {'date': '2018-09-26T06:25:08Z',\n",
      "                    'unit': 'µs',\n",
      "                    'value': 27.4},\n",
      "             'buffer': {'date': '2018-09-26T06:05:09Z',\n",
      "                        'unit': 'ns',\n",
      "                        'value': 10},\n",
      "             'frequency': {'date': '2018-09-26T06:05:09Z',\n",
      "                           'units': 'GHz',\n",
      "                           'value': 5.0262441},\n",
      "             'gateError': {'date': '2018-09-26T06:29:14Z',\n",
      "                           'value': 0.002102122151853847},\n",
      "             'gateTime': {'date': '2018-09-26T06:05:09Z',\n",
      "                          'unit': 'ns',\n",
      "                          'value': 100},\n",
      "             'name': 'Q4',\n",
      "             'readoutError': {'date': '2018-09-26T06:23:21Z',\n",
      "                              'value': 0.22799999999999998}},\n",
      "            {'T1': {'date': '2018-09-26T06:23:46Z',\n",
      "                    'unit': 'µs',\n",
      "                    'value': 20.4},\n",
      "             'T2': {'date': '2018-09-26T06:25:08Z',\n",
      "                    'unit': 'µs',\n",
      "                    'value': 26.1},\n",
      "             'buffer': {'date': '2018-09-26T06:05:09Z',\n",
      "                        'unit': 'ns',\n",
      "                        'value': 10},\n",
      "             'frequency': {'date': '2018-09-26T06:05:09Z',\n",
      "                           'units': 'GHz',\n",
      "                           'value': 5.0670374},\n",
      "             'gateError': {'date': '2018-09-26T06:29:14Z',\n",
      "                           'value': 0.0024648978919838416},\n",
      "             'gateTime': {'date': '2018-09-26T06:05:09Z',\n",
      "                          'unit': 'ns',\n",
      "                          'value': 100},\n",
      "             'name': 'Q5',\n",
      "             'readoutError': {'date': '2018-09-26T06:23:21Z',\n",
      "                              'value': 0.03859999999999997}},\n",
      "            {'T1': {'date': '2018-09-26T06:23:46Z',\n",
      "                    'unit': 'µs',\n",
      "                    'value': 69.3},\n",
      "             'T2': {'date': '2018-09-26T06:25:08Z', 'unit': 'µs', 'value': 63},\n",
      "             'buffer': {'date': '2018-09-26T06:05:09Z',\n",
      "                        'unit': 'ns',\n",
      "                        'value': 10},\n",
      "             'frequency': {'date': '2018-09-26T06:05:09Z',\n",
      "                           'units': 'GHz',\n",
      "                           'value': 4.9237503},\n",
      "             'gateError': {'date': '2018-09-26T06:29:14Z',\n",
      "                           'value': 0.0011564266941694878},\n",
      "             'gateTime': {'date': '2018-09-26T06:05:09Z',\n",
      "                          'unit': 'ns',\n",
      "                          'value': 100},\n",
      "             'name': 'Q6',\n",
      "             'readoutError': {'date': '2018-09-26T06:23:21Z',\n",
      "                              'value': 0.033299999999999996}},\n",
      "            {'T1': {'date': '2018-09-26T06:23:46Z',\n",
      "                    'unit': 'µs',\n",
      "                    'value': 47.5},\n",
      "             'T2': {'date': '2018-09-26T06:25:08Z',\n",
      "                    'unit': 'µs',\n",
      "                    'value': 69.6},\n",
      "             'buffer': {'date': '2018-09-26T06:05:09Z',\n",
      "                        'unit': 'ns',\n",
      "                        'value': 10},\n",
      "             'frequency': {'date': '2018-09-26T06:05:09Z',\n",
      "                           'units': 'GHz',\n",
      "                           'value': 4.9744311},\n",
      "             'gateError': {'date': '2018-09-26T06:29:14Z',\n",
      "                           'value': 0.001371397779535266},\n",
      "             'gateTime': {'date': '2018-09-26T06:05:09Z',\n",
      "                          'unit': 'ns',\n",
      "                          'value': 100},\n",
      "             'name': 'Q7',\n",
      "             'readoutError': {'date': '2018-09-26T06:23:21Z',\n",
      "                              'value': 0.05049999999999999}},\n",
      "            {'T1': {'date': '2018-09-26T06:23:46Z',\n",
      "                    'unit': 'µs',\n",
      "                    'value': 87.7},\n",
      "             'T2': {'date': '2018-09-26T06:25:08Z',\n",
      "                    'unit': 'µs',\n",
      "                    'value': 150.2},\n",
      "             'buffer': {'date': '2018-09-26T06:05:09Z',\n",
      "                        'unit': 'ns',\n",
      "                        'value': 10},\n",
      "             'frequency': {'date': '2018-09-26T06:05:09Z',\n",
      "                           'units': 'GHz',\n",
      "                           'value': 4.7381208},\n",
      "             'gateError': {'date': '2018-09-26T06:29:14Z',\n",
      "                           'value': 0.0012938707807138572},\n",
      "             'gateTime': {'date': '2018-09-26T06:05:09Z',\n",
      "                          'unit': 'ns',\n",
      "                          'value': 100},\n",
      "             'name': 'Q8',\n",
      "             'readoutError': {'date': '2018-09-26T06:23:21Z', 'value': 0.0494}},\n",
      "            {'T1': {'date': '2018-09-26T06:23:46Z', 'unit': 'µs', 'value': 37},\n",
      "             'T2': {'date': '2018-09-26T06:25:08Z', 'unit': 'µs', 'value': 61},\n",
      "             'buffer': {'date': '2018-09-26T06:05:09Z',\n",
      "                        'unit': 'ns',\n",
      "                        'value': 10},\n",
      "             'frequency': {'date': '2018-09-26T06:05:09Z',\n",
      "                           'units': 'GHz',\n",
      "                           'value': 4.9633083},\n",
      "             'gateError': {'date': '2018-09-26T06:29:14Z',\n",
      "                           'value': 0.002590531297855081},\n",
      "             'gateTime': {'date': '2018-09-26T06:05:09Z',\n",
      "                          'unit': 'ns',\n",
      "                          'value': 100},\n",
      "             'name': 'Q9',\n",
      "             'readoutError': {'date': '2018-09-26T06:23:21Z',\n",
      "                              'value': 0.03170000000000006}},\n",
      "            {'T1': {'date': '2018-09-26T06:23:46Z',\n",
      "                    'unit': 'µs',\n",
      "                    'value': 53.6},\n",
      "             'T2': {'date': '2018-09-26T06:25:08Z',\n",
      "                    'unit': 'µs',\n",
      "                    'value': 68.1},\n",
      "             'buffer': {'date': '2018-09-26T06:05:09Z',\n",
      "                        'unit': 'ns',\n",
      "                        'value': 10},\n",
      "             'frequency': {'date': '2018-09-26T06:05:09Z',\n",
      "                           'units': 'GHz',\n",
      "                           'value': 4.9449753},\n",
      "             'gateError': {'date': '2018-09-26T06:29:14Z',\n",
      "                           'value': 0.0019130978589093628},\n",
      "             'gateTime': {'date': '2018-09-26T06:05:09Z',\n",
      "                          'unit': 'ns',\n",
      "                          'value': 100},\n",
      "             'name': 'Q10',\n",
      "             'readoutError': {'date': '2018-09-26T06:23:21Z',\n",
      "                              'value': 0.04810000000000003}},\n",
      "            {'T1': {'date': '2018-09-26T06:23:46Z',\n",
      "                    'unit': 'µs',\n",
      "                    'value': 60.2},\n",
      "             'T2': {'date': '2018-09-26T06:25:08Z', 'unit': 'µs', 'value': 82},\n",
      "             'buffer': {'date': '2018-09-26T06:05:09Z',\n",
      "                        'unit': 'ns',\n",
      "                        'value': 10},\n",
      "             'frequency': {'date': '2018-09-26T06:05:09Z',\n",
      "                           'units': 'GHz',\n",
      "                           'value': 5.004685},\n",
      "             'gateError': {'date': '2018-09-26T06:29:14Z',\n",
      "                           'value': 0.0014832113993470397},\n",
      "             'gateTime': {'date': '2018-09-26T06:05:09Z',\n",
      "                          'unit': 'ns',\n",
      "                          'value': 100},\n",
      "             'name': 'Q11',\n",
      "             'readoutError': {'date': '2018-09-26T06:23:21Z',\n",
      "                              'value': 0.030899999999999928}},\n",
      "            {'T1': {'date': '2018-09-26T06:23:46Z',\n",
      "                    'unit': 'µs',\n",
      "                    'value': 73.5},\n",
      "             'T2': {'date': '2018-09-26T06:25:08Z',\n",
      "                    'unit': 'µs',\n",
      "                    'value': 123.1},\n",
      "             'buffer': {'date': '2018-09-26T06:05:09Z',\n",
      "                        'unit': 'ns',\n",
      "                        'value': 10},\n",
      "             'frequency': {'date': '2018-09-26T06:05:09Z',\n",
      "                           'units': 'GHz',\n",
      "                           'value': 4.7598385},\n",
      "             'gateError': {'date': '2018-09-26T06:29:14Z',\n",
      "                           'value': 0.003712112844718063},\n",
      "             'gateTime': {'date': '2018-09-26T06:05:09Z',\n",
      "                          'unit': 'ns',\n",
      "                          'value': 100},\n",
      "             'name': 'Q12',\n",
      "             'readoutError': {'date': '2018-09-26T06:23:21Z',\n",
      "                              'value': 0.14470000000000005}},\n",
      "            {'T1': {'date': '2018-09-26T06:23:46Z',\n",
      "                    'unit': 'µs',\n",
      "                    'value': 30.1},\n",
      "             'T2': {'date': '2018-09-26T06:25:08Z',\n",
      "                    'unit': 'µs',\n",
      "                    'value': 48.6},\n",
      "             'buffer': {'date': '2018-09-26T06:05:09Z',\n",
      "                        'unit': 'ns',\n",
      "                        'value': 10},\n",
      "             'frequency': {'date': '2018-09-26T06:05:09Z',\n",
      "                           'units': 'GHz',\n",
      "                           'value': 4.9685382},\n",
      "             'gateError': {'date': '2018-09-26T06:29:14Z',\n",
      "                           'value': 0.004665379901579558},\n",
      "             'gateTime': {'date': '2018-09-26T06:05:09Z',\n",
      "                          'unit': 'ns',\n",
      "                          'value': 100},\n",
      "             'name': 'Q13',\n",
      "             'readoutError': {'date': '2018-09-26T06:23:21Z',\n",
      "                              'value': 0.05279999999999996}}]}\n"
     ]
    },
    {
     "name": "stdout",
     "output_type": "stream",
     "text": [
      "{'backend': 'ibmqx5',\n",
      " 'fridge_parameters': {'Temperature': {'date': '2018-09-26T04:11:46Z',\n",
      "                                       'unit': 'K',\n",
      "                                       'value': 0.0143814},\n",
      "                       'cooldownDate': '2017-09-15'},\n",
      " 'last_update_date': '2018-09-26T10:29:51.000Z',\n",
      " 'multi_qubit_gates': [{'gateError': {'date': '2018-09-26T11:13:32Z',\n",
      "                                      'value': 0.0382188674023784},\n",
      "                        'name': 'CX1_0',\n",
      "                        'qubits': [1, 0],\n",
      "                        'type': 'CX'},\n",
      "                       {'gateError': {'date': '2018-09-26T11:13:32Z',\n",
      "                                      'value': 0.039472320566802915},\n",
      "                        'name': 'CX1_2',\n",
      "                        'qubits': [1, 2],\n",
      "                        'type': 'CX'},\n",
      "                       {'gateError': {'date': '2018-09-26T11:49:22Z',\n",
      "                                      'value': 0.05402839723969577},\n",
      "                        'name': 'CX2_3',\n",
      "                        'qubits': [2, 3],\n",
      "                        'type': 'CX'},\n",
      "                       {'gateError': {'date': '2018-09-26T11:49:22Z',\n",
      "                                      'value': 0.0489936628065242},\n",
      "                        'name': 'CX3_4',\n",
      "                        'qubits': [3, 4],\n",
      "                        'type': 'CX'},\n",
      "                       {'gateError': {'date': '2018-09-26T11:49:22Z',\n",
      "                                      'value': 0.056353833812310905},\n",
      "                        'name': 'CX3_14',\n",
      "                        'qubits': [3, 14],\n",
      "                        'type': 'CX'},\n",
      "                       {'gateError': {'date': '2018-09-26T11:13:32Z',\n",
      "                                      'value': 0.035952039524115714},\n",
      "                        'name': 'CX5_4',\n",
      "                        'qubits': [5, 4],\n",
      "                        'type': 'CX'},\n",
      "                       {'gateError': {'date': '2018-09-26T11:13:32Z',\n",
      "                                      'value': 0.04314769536650795},\n",
      "                        'name': 'CX6_5',\n",
      "                        'qubits': [6, 5],\n",
      "                        'type': 'CX'},\n",
      "                       {'gateError': {'date': '2018-09-26T11:13:32Z',\n",
      "                                      'value': 0.02856154108547948},\n",
      "                        'name': 'CX6_7',\n",
      "                        'qubits': [6, 7],\n",
      "                        'type': 'CX'},\n",
      "                       {'gateError': {'date': '2018-09-26T11:13:32Z',\n",
      "                                      'value': 0.024963053591434775},\n",
      "                        'name': 'CX6_11',\n",
      "                        'qubits': [6, 11],\n",
      "                        'type': 'CX'},\n",
      "                       {'gateError': {'date': '2018-09-26T11:49:22Z',\n",
      "                                      'value': 0.04309977386932756},\n",
      "                        'name': 'CX7_10',\n",
      "                        'qubits': [7, 10],\n",
      "                        'type': 'CX'},\n",
      "                       {'gateError': {'date': '2018-09-26T11:13:32Z',\n",
      "                                      'value': 0.04236769261665141},\n",
      "                        'name': 'CX8_7',\n",
      "                        'qubits': [8, 7],\n",
      "                        'type': 'CX'},\n",
      "                       {'gateError': {'date': '2018-09-26T11:13:32Z',\n",
      "                                      'value': 0.029488360647307504},\n",
      "                        'name': 'CX9_8',\n",
      "                        'qubits': [9, 8],\n",
      "                        'type': 'CX'},\n",
      "                       {'gateError': {'date': '2018-09-26T11:49:22Z',\n",
      "                                      'value': 0.03195953115696615},\n",
      "                        'name': 'CX9_10',\n",
      "                        'qubits': [9, 10],\n",
      "                        'type': 'CX'},\n",
      "                       {'gateError': {'date': '2018-09-26T11:13:32Z',\n",
      "                                      'value': 0.039300789277491366},\n",
      "                        'name': 'CX11_10',\n",
      "                        'qubits': [11, 10],\n",
      "                        'type': 'CX'},\n",
      "                       {'gateError': {'date': '2018-09-26T11:49:22Z',\n",
      "                                      'value': 0.04504929990651926},\n",
      "                        'name': 'CX12_5',\n",
      "                        'qubits': [12, 5],\n",
      "                        'type': 'CX'},\n",
      "                       {'gateError': {'date': '2018-09-26T11:13:32Z',\n",
      "                                      'value': 0.042585231589457984},\n",
      "                        'name': 'CX12_11',\n",
      "                        'qubits': [12, 11],\n",
      "                        'type': 'CX'},\n",
      "                       {'gateError': {'date': '2018-09-26T11:13:32Z',\n",
      "                                      'value': 0.03671446327158484},\n",
      "                        'name': 'CX12_13',\n",
      "                        'qubits': [12, 13],\n",
      "                        'type': 'CX'},\n",
      "                       {'gateError': {'date': '2018-09-26T11:13:32Z',\n",
      "                                      'value': 0.03483954160112332},\n",
      "                        'name': 'CX13_4',\n",
      "                        'qubits': [13, 4],\n",
      "                        'type': 'CX'},\n",
      "                       {'gateError': {'date': '2018-09-26T11:13:32Z',\n",
      "                                      'value': 0.04752095298204684},\n",
      "                        'name': 'CX13_14',\n",
      "                        'qubits': [13, 14],\n",
      "                        'type': 'CX'},\n",
      "                       {'gateError': {'date': '2018-09-26T11:49:22Z',\n",
      "                                      'value': 0.08349980716649905},\n",
      "                        'name': 'CX15_0',\n",
      "                        'qubits': [15, 0],\n",
      "                        'type': 'CX'},\n",
      "                       {'gateError': {'date': '2018-09-26T11:49:22Z',\n",
      "                                      'value': 0.052001274503483935},\n",
      "                        'name': 'CX15_2',\n",
      "                        'qubits': [15, 2],\n",
      "                        'type': 'CX'},\n",
      "                       {'gateError': {'date': '2018-09-26T11:49:22Z',\n",
      "                                      'value': 0.05922012926449796},\n",
      "                        'name': 'CX15_14',\n",
      "                        'qubits': [15, 14],\n",
      "                        'type': 'CX'}],\n",
      " 'qubits': [{'T1': {'date': '2018-09-26T10:28:46Z',\n",
      "                    'unit': 'µs',\n",
      "                    'value': 44.6},\n",
      "             'T2': {'date': '2018-09-26T10:29:51Z',\n",
      "                    'unit': 'µs',\n",
      "                    'value': 21.4},\n",
      "             'buffer': {'date': '2018-09-26T10:05:10Z',\n",
      "                        'unit': 'ns',\n",
      "                        'value': 10},\n",
      "             'frequency': {'date': '2018-09-26T10:05:10Z',\n",
      "                           'units': 'GHz',\n",
      "                           'value': 5.2559422},\n",
      "             'gateError': {'date': '2018-09-26T10:35:59Z',\n",
      "                           'value': 0.0022144612767176497},\n",
      "             'gateTime': {'date': '2018-09-26T10:05:10Z',\n",
      "                          'unit': 'ns',\n",
      "                          'value': 80},\n",
      "             'name': 'Q0',\n",
      "             'readoutError': {'date': '2018-09-26T10:28:16Z',\n",
      "                              'value': 0.057599999999999985}},\n",
      "            {'T1': {'date': '2018-09-26T10:28:46Z',\n",
      "                    'unit': 'µs',\n",
      "                    'value': 34.7},\n",
      "             'T2': {'date': '2018-09-26T10:29:51Z',\n",
      "                    'unit': 'µs',\n",
      "                    'value': 46.1},\n",
      "             'buffer': {'date': '2018-09-26T10:05:10Z',\n",
      "                        'unit': 'ns',\n",
      "                        'value': 10},\n",
      "             'frequency': {'date': '2018-09-26T10:05:10Z',\n",
      "                           'units': 'GHz',\n",
      "                           'value': 5.3960513},\n",
      "             'gateError': {'date': '2018-09-26T10:35:59Z',\n",
      "                           'value': 0.003689223478283099},\n",
      "             'gateTime': {'date': '2018-09-26T10:05:10Z',\n",
      "                          'unit': 'ns',\n",
      "                          'value': 80},\n",
      "             'name': 'Q1',\n",
      "             'readoutError': {'date': '2018-09-26T10:28:16Z', 'value': 0.0625}},\n",
      "            {'T1': {'date': '2018-09-26T10:28:46Z',\n",
      "                    'unit': 'µs',\n",
      "                    'value': 45.2},\n",
      "             'T2': {'date': '2018-09-26T10:29:51Z',\n",
      "                    'unit': 'µs',\n",
      "                    'value': 55.9},\n",
      "             'buffer': {'date': '2018-09-26T10:05:10Z',\n",
      "                        'unit': 'ns',\n",
      "                        'value': 10},\n",
      "             'frequency': {'date': '2018-09-26T10:05:10Z',\n",
      "                           'units': 'GHz',\n",
      "                           'value': 5.2757198},\n",
      "             'gateError': {'date': '2018-09-26T10:35:59Z',\n",
      "                           'value': 0.003924364754672172},\n",
      "             'gateTime': {'date': '2018-09-26T10:05:10Z',\n",
      "                          'unit': 'ns',\n",
      "                          'value': 80},\n",
      "             'name': 'Q2',\n",
      "             'readoutError': {'date': '2018-09-26T10:28:16Z',\n",
      "                              'value': 0.17079999999999995}},\n",
      "            {'T1': {'date': '2018-09-26T10:28:46Z',\n",
      "                    'unit': 'µs',\n",
      "                    'value': 22.4},\n",
      "             'T2': {'date': '2018-09-26T10:29:51Z',\n",
      "                    'unit': 'µs',\n",
      "                    'value': 28.4},\n",
      "             'buffer': {'date': '2018-09-26T10:05:10Z',\n",
      "                        'unit': 'ns',\n",
      "                        'value': 10},\n",
      "             'frequency': {'date': '2018-09-26T10:05:10Z',\n",
      "                           'units': 'GHz',\n",
      "                           'value': 5.0830883},\n",
      "             'gateError': {'date': '2018-09-26T10:35:59Z',\n",
      "                           'value': 0.0034167999553882944},\n",
      "             'gateTime': {'date': '2018-09-26T10:05:10Z',\n",
      "                          'unit': 'ns',\n",
      "                          'value': 80},\n",
      "             'name': 'Q3',\n",
      "             'readoutError': {'date': '2018-09-26T10:28:16Z',\n",
      "                              'value': 0.06919999999999993}},\n",
      "            {'T1': {'date': '2018-09-26T10:28:46Z',\n",
      "                    'unit': 'µs',\n",
      "                    'value': 39.5},\n",
      "             'T2': {'date': '2018-09-26T10:29:51Z',\n",
      "                    'unit': 'µs',\n",
      "                    'value': 69.3},\n",
      "             'buffer': {'date': '2018-09-26T10:05:10Z',\n",
      "                        'unit': 'ns',\n",
      "                        'value': 10},\n",
      "             'frequency': {'date': '2018-09-26T10:05:10Z',\n",
      "                           'units': 'GHz',\n",
      "                           'value': 4.9791939},\n",
      "             'gateError': {'date': '2018-09-26T10:35:59Z',\n",
      "                           'value': 0.0015949641629435796},\n",
      "             'gateTime': {'date': '2018-09-26T10:05:10Z',\n",
      "                          'unit': 'ns',\n",
      "                          'value': 80},\n",
      "             'name': 'Q4',\n",
      "             'readoutError': {'date': '2018-09-26T10:28:16Z',\n",
      "                              'value': 0.06899999999999995}},\n",
      "            {'T1': {'date': '2018-09-26T10:28:46Z',\n",
      "                    'unit': 'µs',\n",
      "                    'value': 68.2},\n",
      "             'T2': {'date': '2018-09-26T10:29:51Z',\n",
      "                    'unit': 'µs',\n",
      "                    'value': 54.9},\n",
      "             'buffer': {'date': '2018-09-26T10:05:10Z',\n",
      "                        'unit': 'ns',\n",
      "                        'value': 10},\n",
      "             'frequency': {'date': '2018-09-26T10:05:10Z',\n",
      "                           'units': 'GHz',\n",
      "                           'value': 5.1514925},\n",
      "             'gateError': {'date': '2018-09-26T10:35:59Z',\n",
      "                           'value': 0.0018457980526141449},\n",
      "             'gateTime': {'date': '2018-09-26T10:05:10Z',\n",
      "                          'unit': 'ns',\n",
      "                          'value': 80},\n",
      "             'name': 'Q5',\n",
      "             'readoutError': {'date': '2018-09-26T10:28:16Z',\n",
      "                              'value': 0.05579999999999996}},\n",
      "            {'T1': {'date': '2018-09-26T10:28:46Z',\n",
      "                    'unit': 'µs',\n",
      "                    'value': 46.9},\n",
      "             'T2': {'date': '2018-09-26T10:29:51Z',\n",
      "                    'unit': 'µs',\n",
      "                    'value': 54.8},\n",
      "             'buffer': {'date': '2018-09-26T10:05:10Z',\n",
      "                        'unit': 'ns',\n",
      "                        'value': 10},\n",
      "             'frequency': {'date': '2018-09-26T10:05:10Z',\n",
      "                           'units': 'GHz',\n",
      "                           'value': 5.3058106},\n",
      "             'gateError': {'date': '2018-09-26T10:35:59Z',\n",
      "                           'value': 0.0017713812589367772},\n",
      "             'gateTime': {'date': '2018-09-26T10:05:10Z',\n",
      "                          'unit': 'ns',\n",
      "                          'value': 80},\n",
      "             'name': 'Q6',\n",
      "             'readoutError': {'date': '2018-09-26T10:28:16Z',\n",
      "                              'value': 0.04360000000000008}},\n",
      "            {'T1': {'date': '2018-09-26T10:28:46Z',\n",
      "                    'unit': 'µs',\n",
      "                    'value': 43.4},\n",
      "             'T2': {'date': '2018-09-26T10:29:51Z',\n",
      "                    'unit': 'µs',\n",
      "                    'value': 70.5},\n",
      "             'buffer': {'date': '2018-09-26T10:05:10Z',\n",
      "                        'unit': 'ns',\n",
      "                        'value': 10},\n",
      "             'frequency': {'date': '2018-09-26T10:05:10Z',\n",
      "                           'units': 'GHz',\n",
      "                           'value': 5.2523746},\n",
      "             'gateError': {'date': '2018-09-26T10:35:59Z',\n",
      "                           'value': 0.002426658132244186},\n",
      "             'gateTime': {'date': '2018-09-26T10:05:10Z',\n",
      "                          'unit': 'ns',\n",
      "                          'value': 80},\n",
      "             'name': 'Q7',\n",
      "             'readoutError': {'date': '2018-09-26T10:28:16Z',\n",
      "                              'value': 0.03510000000000002}},\n",
      "            {'T1': {'date': '2018-09-26T10:28:46Z',\n",
      "                    'unit': 'µs',\n",
      "                    'value': 24.7},\n",
      "             'T2': {'date': '2018-09-26T10:29:51Z',\n",
      "                    'unit': 'µs',\n",
      "                    'value': 81.6},\n",
      "             'buffer': {'date': '2018-09-26T10:05:10Z',\n",
      "                        'unit': 'ns',\n",
      "                        'value': 10},\n",
      "             'frequency': {'date': '2018-09-26T10:05:10Z',\n",
      "                           'units': 'GHz',\n",
      "                           'value': 5.1152016},\n",
      "             'gateError': {'date': '2018-09-26T10:35:59Z',\n",
      "                           'value': 0.0017349240609222938},\n",
      "             'gateTime': {'date': '2018-09-26T10:05:10Z',\n",
      "                          'unit': 'ns',\n",
      "                          'value': 80},\n",
      "             'name': 'Q8',\n",
      "             'readoutError': {'date': '2018-09-26T10:28:16Z',\n",
      "                              'value': 0.038799999999999946}},\n",
      "            {'T1': {'date': '2018-09-26T10:28:46Z', 'unit': 'µs', 'value': 47},\n",
      "             'T2': {'date': '2018-09-26T10:29:51Z',\n",
      "                    'unit': 'µs',\n",
      "                    'value': 88.3},\n",
      "             'buffer': {'date': '2018-09-26T10:05:10Z',\n",
      "                        'unit': 'ns',\n",
      "                        'value': 10},\n",
      "             'frequency': {'date': '2018-09-26T10:05:10Z',\n",
      "                           'units': 'GHz',\n",
      "                           'value': 5.1554163},\n",
      "             'gateError': {'date': '2018-09-26T10:35:59Z',\n",
      "                           'value': 0.0009695142045068605},\n",
      "             'gateTime': {'date': '2018-09-26T10:05:10Z',\n",
      "                          'unit': 'ns',\n",
      "                          'value': 80},\n",
      "             'name': 'Q9',\n",
      "             'readoutError': {'date': '2018-09-26T10:28:16Z',\n",
      "                              'value': 0.10699999999999998}},\n",
      "            {'T1': {'date': '2018-09-26T10:28:46Z',\n",
      "                    'unit': 'µs',\n",
      "                    'value': 51.2},\n",
      "             'T2': {'date': '2018-09-26T10:29:51Z',\n",
      "                    'unit': 'µs',\n",
      "                    'value': 89.1},\n",
      "             'buffer': {'date': '2018-09-26T10:05:10Z',\n",
      "                        'unit': 'ns',\n",
      "                        'value': 10},\n",
      "             'frequency': {'date': '2018-09-26T10:05:10Z',\n",
      "                           'units': 'GHz',\n",
      "                           'value': 5.0425353},\n",
      "             'gateError': {'date': '2018-09-26T10:35:59Z',\n",
      "                           'value': 0.002701937969481094},\n",
      "             'gateTime': {'date': '2018-09-26T10:05:10Z',\n",
      "                          'unit': 'ns',\n",
      "                          'value': 80},\n",
      "             'name': 'Q10',\n",
      "             'readoutError': {'date': '2018-09-26T10:28:16Z',\n",
      "                              'value': 0.07879999999999998}},\n",
      "            {'T1': {'date': '2018-09-26T10:28:46Z',\n",
      "                    'unit': 'µs',\n",
      "                    'value': 58.1},\n",
      "             'T2': {'date': '2018-09-26T10:29:51Z',\n",
      "                    'unit': 'µs',\n",
      "                    'value': 104.4},\n",
      "             'buffer': {'date': '2018-09-26T10:05:10Z',\n",
      "                        'unit': 'ns',\n",
      "                        'value': 10},\n",
      "             'frequency': {'date': '2018-09-26T10:05:10Z',\n",
      "                           'units': 'GHz',\n",
      "                           'value': 5.1108736},\n",
      "             'gateError': {'date': '2018-09-26T10:35:59Z',\n",
      "                           'value': 0.001960262678372404},\n",
      "             'gateTime': {'date': '2018-09-26T10:05:10Z',\n",
      "                          'unit': 'ns',\n",
      "                          'value': 80},\n",
      "             'name': 'Q11',\n",
      "             'readoutError': {'date': '2018-09-26T10:28:16Z',\n",
      "                              'value': 0.04919999999999991}},\n",
      "            {'T1': {'date': '2018-09-26T10:28:46Z',\n",
      "                    'unit': 'µs',\n",
      "                    'value': 33.2},\n",
      "             'T2': {'date': '2018-09-26T10:29:51Z',\n",
      "                    'unit': 'µs',\n",
      "                    'value': 31.1},\n",
      "             'buffer': {'date': '2018-09-26T10:05:10Z',\n",
      "                        'unit': 'ns',\n",
      "                        'value': 10},\n",
      "             'frequency': {'date': '2018-09-26T10:05:10Z',\n",
      "                           'units': 'GHz',\n",
      "                           'value': 4.9468255},\n",
      "             'gateError': {'date': '2018-09-26T10:35:59Z',\n",
      "                           'value': 0.002640082299054103},\n",
      "             'gateTime': {'date': '2018-09-26T10:05:10Z',\n",
      "                          'unit': 'ns',\n",
      "                          'value': 80},\n",
      "             'name': 'Q12',\n",
      "             'readoutError': {'date': '2018-09-26T10:28:16Z', 'value': 0.1159}},\n",
      "            {'T1': {'date': '2018-09-26T10:28:46Z', 'unit': 'µs', 'value': 46},\n",
      "             'T2': {'date': '2018-09-26T10:29:51Z',\n",
      "                    'unit': 'µs',\n",
      "                    'value': 86.8},\n",
      "             'buffer': {'date': '2018-09-26T10:05:10Z',\n",
      "                        'unit': 'ns',\n",
      "                        'value': 10},\n",
      "             'frequency': {'date': '2018-09-26T10:05:10Z',\n",
      "                           'units': 'GHz',\n",
      "                           'value': 5.0882581},\n",
      "             'gateError': {'date': '2018-09-26T10:35:59Z',\n",
      "                           'value': 0.001941760442921936},\n",
      "             'gateTime': {'date': '2018-09-26T10:05:10Z',\n",
      "                          'unit': 'ns',\n",
      "                          'value': 80},\n",
      "             'name': 'Q13',\n",
      "             'readoutError': {'date': '2018-09-26T10:28:16Z',\n",
      "                              'value': 0.03490000000000004}},\n",
      "            {'T1': {'date': '2018-09-26T10:28:46Z',\n",
      "                    'unit': 'µs',\n",
      "                    'value': 34.3},\n",
      "             'T2': {'date': '2018-09-26T10:29:51Z',\n",
      "                    'unit': 'µs',\n",
      "                    'value': 57.2},\n",
      "             'buffer': {'date': '2018-09-26T10:05:10Z',\n",
      "                        'unit': 'ns',\n",
      "                        'value': 10},\n",
      "             'frequency': {'date': '2018-09-26T10:05:10Z',\n",
      "                           'units': 'GHz',\n",
      "                           'value': 4.870491},\n",
      "             'gateError': {'date': '2018-09-26T10:35:59Z',\n",
      "                           'value': 0.0022723568005368344},\n",
      "             'gateTime': {'date': '2018-09-26T10:05:10Z',\n",
      "                          'unit': 'ns',\n",
      "                          'value': 80},\n",
      "             'name': 'Q14',\n",
      "             'readoutError': {'date': '2018-09-26T10:28:16Z',\n",
      "                              'value': 0.057700000000000085}},\n",
      "            {'T1': {'date': '2018-09-26T10:28:46Z',\n",
      "                    'unit': 'µs',\n",
      "                    'value': 23.7},\n",
      "             'T2': {'date': '2018-09-26T10:29:51Z',\n",
      "                    'unit': 'µs',\n",
      "                    'value': 35.4},\n",
      "             'buffer': {'date': '2018-09-26T10:05:10Z',\n",
      "                        'unit': 'ns',\n",
      "                        'value': 10},\n",
      "             'frequency': {'date': '2018-09-26T10:05:10Z',\n",
      "                           'units': 'GHz',\n",
      "                           'value': 5.1047438},\n",
      "             'gateError': {'date': '2018-09-26T10:35:59Z',\n",
      "                           'value': 0.006471887194796577},\n",
      "             'gateTime': {'date': '2018-09-26T10:05:10Z',\n",
      "                          'unit': 'ns',\n",
      "                          'value': 80},\n",
      "             'name': 'Q15',\n",
      "             'readoutError': {'date': '2018-09-26T10:28:16Z',\n",
      "                              'value': 0.11650000000000005}}]}\n"
     ]
    },
    {
     "name": "stdout",
     "output_type": "stream",
     "text": [
      "{'backend': 'ibmqx4',\n",
      " 'fridge_parameters': {'Temperature': {'date': '-', 'unit': '-', 'value': []},\n",
      "                       'cooldownDate': '2017-09-07'},\n",
      " 'last_update_date': '2018-09-26T09:58:55.000Z',\n",
      " 'multi_qubit_gates': [{'gateError': {'date': '2018-09-26T09:58:55Z',\n",
      "                                      'value': 0.0369249505432544},\n",
      "                        'name': 'CX1_0',\n",
      "                        'qubits': [1, 0],\n",
      "                        'type': 'CX'},\n",
      "                       {'gateError': {'date': '2018-09-26T09:58:55Z',\n",
      "                                      'value': 0.026162842309928852},\n",
      "                        'name': 'CX2_0',\n",
      "                        'qubits': [2, 0],\n",
      "                        'type': 'CX'},\n",
      "                       {'gateError': {'date': '2018-09-26T09:58:55Z',\n",
      "                                      'value': 0.0479756016953789},\n",
      "                        'name': 'CX2_1',\n",
      "                        'qubits': [2, 1],\n",
      "                        'type': 'CX'},\n",
      "                       {'gateError': {'date': '2018-09-26T09:58:55Z',\n",
      "                                      'value': 0.06600771186151136},\n",
      "                        'name': 'CX3_2',\n",
      "                        'qubits': [3, 2],\n",
      "                        'type': 'CX'},\n",
      "                       {'gateError': {'date': '2018-09-26T09:58:55Z',\n",
      "                                      'value': 0.03699332315395412},\n",
      "                        'name': 'CX3_4',\n",
      "                        'qubits': [3, 4],\n",
      "                        'type': 'CX'},\n",
      "                       {'gateError': {'date': '2018-09-26T09:58:55Z',\n",
      "                                      'value': 0.05758664344750855},\n",
      "                        'name': 'CX4_2',\n",
      "                        'qubits': [4, 2],\n",
      "                        'type': 'CX'}],\n",
      " 'qubits': [{'T1': {'date': '2018-09-26T09:58:55Z',\n",
      "                    'unit': 'µs',\n",
      "                    'value': 48.9},\n",
      "             'T2': {'date': '2018-09-26T09:58:55Z',\n",
      "                    'unit': 'µs',\n",
      "                    'value': 36.4},\n",
      "             'buffer': {'date': '2018-09-26T09:58:55Z',\n",
      "                        'unit': 'ns',\n",
      "                        'value': 10},\n",
      "             'frequency': {'date': '2018-09-26T09:58:55Z',\n",
      "                           'unit': 'GHz',\n",
      "                           'value': 5.24986},\n",
      "             'gateError': {'date': '2018-09-26T09:58:55Z',\n",
      "                           'value': 0.000858490762927322},\n",
      "             'gateTime': {'date': '2018-09-26T09:58:55Z',\n",
      "                          'unit': 'ns',\n",
      "                          'value': 60},\n",
      "             'name': 'Q0',\n",
      "             'readoutError': {'date': '2018-09-26T09:58:55Z', 'value': 0.074}},\n",
      "            {'T1': {'date': '2018-09-26T09:58:55Z',\n",
      "                    'unit': 'µs',\n",
      "                    'value': 48.4},\n",
      "             'T2': {'date': '2018-09-26T09:58:55Z',\n",
      "                    'unit': 'µs',\n",
      "                    'value': 17.3},\n",
      "             'buffer': {'date': '2018-09-26T09:58:55Z',\n",
      "                        'unit': 'ns',\n",
      "                        'value': 10},\n",
      "             'frequency': {'date': '2018-09-26T09:58:55Z',\n",
      "                           'unit': 'GHz',\n",
      "                           'value': 5.29578},\n",
      "             'gateError': {'date': '2018-09-26T09:58:55Z',\n",
      "                           'value': 0.0052405963209970485},\n",
      "             'gateTime': {'date': '2018-09-26T09:58:55Z',\n",
      "                          'unit': 'ns',\n",
      "                          'value': 60},\n",
      "             'name': 'Q1',\n",
      "             'readoutError': {'date': '2018-09-26T09:58:55Z', 'value': 0.066}},\n",
      "            {'T1': {'date': '2018-09-26T09:58:55Z',\n",
      "                    'unit': 'µs',\n",
      "                    'value': 47.4},\n",
      "             'T2': {'date': '2018-09-26T09:58:55Z',\n",
      "                    'unit': 'µs',\n",
      "                    'value': 28.3},\n",
      "             'buffer': {'date': '2018-09-26T09:58:55Z',\n",
      "                        'unit': 'ns',\n",
      "                        'value': 10},\n",
      "             'frequency': {'date': '2018-09-26T09:58:55Z',\n",
      "                           'unit': 'GHz',\n",
      "                           'value': 5.35322},\n",
      "             'gateError': {'date': '2018-09-26T09:58:55Z',\n",
      "                           'value': 0.0012019552727863259},\n",
      "             'gateTime': {'date': '2018-09-26T09:58:55Z',\n",
      "                          'unit': 'ns',\n",
      "                          'value': 60},\n",
      "             'name': 'Q2',\n",
      "             'readoutError': {'date': '2018-09-26T09:58:55Z', 'value': 0.026}},\n",
      "            {'T1': {'date': '2018-09-26T09:58:55Z',\n",
      "                    'unit': 'µs',\n",
      "                    'value': 62.7},\n",
      "             'T2': {'date': '2018-09-26T09:58:55Z',\n",
      "                    'unit': 'µs',\n",
      "                    'value': 16.2},\n",
      "             'buffer': {'date': '2018-09-26T09:58:55Z',\n",
      "                        'unit': 'ns',\n",
      "                        'value': 10},\n",
      "             'frequency': {'date': '2018-09-26T09:58:55Z',\n",
      "                           'unit': 'GHz',\n",
      "                           'value': 5.43497},\n",
      "             'gateError': {'date': '2018-09-26T09:58:55Z',\n",
      "                           'value': 0.001545458810288558},\n",
      "             'gateTime': {'date': '2018-09-26T09:58:55Z',\n",
      "                          'unit': 'ns',\n",
      "                          'value': 60},\n",
      "             'name': 'Q3',\n",
      "             'readoutError': {'date': '2018-09-26T09:58:55Z', 'value': 0.024}},\n",
      "            {'T1': {'date': '2018-09-26T09:58:55Z',\n",
      "                    'unit': 'µs',\n",
      "                    'value': 61.7},\n",
      "             'T2': {'date': '2018-09-26T09:58:55Z',\n",
      "                    'unit': 'µs',\n",
      "                    'value': 13.2},\n",
      "             'buffer': {'date': '2018-09-26T09:58:55Z',\n",
      "                        'unit': 'ns',\n",
      "                        'value': 10},\n",
      "             'frequency': {'date': '2018-09-26T09:58:55Z',\n",
      "                           'unit': 'GHz',\n",
      "                           'value': 5.17582},\n",
      "             'gateError': {'date': '2018-09-26T09:58:55Z',\n",
      "                           'value': 0.0012019552727863259},\n",
      "             'gateTime': {'date': '2018-09-26T09:58:55Z',\n",
      "                          'unit': 'ns',\n",
      "                          'value': 60},\n",
      "             'name': 'Q4',\n",
      "             'readoutError': {'date': '2018-09-26T09:58:55Z', 'value': 0.053}}]}\n",
      "{'backend': 'ibmqx2',\n",
      " 'fridge_parameters': {'Temperature': {'date': '2018-04-13T15:53:48Z',\n",
      "                                       'unit': 'K',\n",
      "                                       'value': 0.0159},\n",
      "                       'cooldownDate': '2017-05-07'},\n",
      " 'last_update_date': '2018-04-13T15:53:48.000Z',\n",
      " 'multi_qubit_gates': [{'gateError': {'date': '2018-04-13T15:53:48Z',\n",
      "                                      'value': 0.02724902259050041},\n",
      "                        'name': 'CX0_1',\n",
      "                        'qubits': [0, 1],\n",
      "                        'type': 'CX'},\n",
      "                       {'gateError': {'date': '2018-04-13T15:53:48Z',\n",
      "                                      'value': 0.041787588869506564},\n",
      "                        'name': 'CX0_2',\n",
      "                        'qubits': [0, 2],\n",
      "                        'type': 'CX'},\n",
      "                       {'gateError': {'date': '2018-04-13T15:53:48Z',\n",
      "                                      'value': 0.03767722967662601},\n",
      "                        'name': 'CX1_2',\n",
      "                        'qubits': [1, 2],\n",
      "                        'type': 'CX'},\n",
      "                       {'gateError': {'date': '2018-04-13T15:53:48Z',\n",
      "                                      'value': 0.039730922592824625},\n",
      "                        'name': 'CX3_2',\n",
      "                        'qubits': [3, 2],\n",
      "                        'type': 'CX'},\n",
      "                       {'gateError': {'date': '2018-04-13T15:53:48Z',\n",
      "                                      'value': 0.03624140460989725},\n",
      "                        'name': 'CX3_4',\n",
      "                        'qubits': [3, 4],\n",
      "                        'type': 'CX'},\n",
      "                       {'gateError': {'date': '2018-04-13T15:53:48Z',\n",
      "                                      'value': 0.03508012699633578},\n",
      "                        'name': 'CX4_2',\n",
      "                        'qubits': [4, 2],\n",
      "                        'type': 'CX'}],\n",
      " 'qubits': [{'T1': {'date': '2018-04-13T15:53:48Z',\n",
      "                    'unit': 'µs',\n",
      "                    'value': 62.4},\n",
      "             'T2': {'date': '2018-04-13T15:53:48Z',\n",
      "                    'unit': 'µs',\n",
      "                    'value': 77.5},\n",
      "             'buffer': {'date': '2018-04-13T15:53:48Z',\n",
      "                        'unit': 'ns',\n",
      "                        'value': 6.7},\n",
      "             'frequency': {'date': '2018-04-13T15:53:48Z',\n",
      "                           'unit': 'GHz',\n",
      "                           'value': 5.27603},\n",
      "             'gateError': {'date': '2018-04-13T15:53:48Z',\n",
      "                           'value': 0.0013737021608475342},\n",
      "             'gateTime': {'date': '2018-04-13T15:53:48Z',\n",
      "                          'unit': 'ns',\n",
      "                          'value': 83.3},\n",
      "             'name': 'Q0',\n",
      "             'readoutError': {'date': '2018-04-13T15:53:48Z', 'value': 0.024}},\n",
      "            {'T1': {'date': '2018-04-13T15:53:48Z',\n",
      "                    'unit': 'µs',\n",
      "                    'value': 55.1},\n",
      "             'T2': {'date': '2018-04-13T15:53:48Z', 'unit': 'µs', 'value': 64},\n",
      "             'buffer': {'date': '2018-04-13T15:53:48Z',\n",
      "                        'unit': 'ns',\n",
      "                        'value': 6.7},\n",
      "             'frequency': {'date': '2018-04-13T15:53:48Z',\n",
      "                           'unit': 'GHz',\n",
      "                           'value': 5.21223},\n",
      "             'gateError': {'date': '2018-04-13T15:53:48Z',\n",
      "                           'value': 0.0013737021608475342},\n",
      "             'gateTime': {'date': '2018-04-13T15:53:48Z',\n",
      "                          'unit': 'ns',\n",
      "                          'value': 83.3},\n",
      "             'name': 'Q1',\n",
      "             'readoutError': {'date': '2018-04-13T15:53:48Z', 'value': 0.026}},\n",
      "            {'T1': {'date': '2018-04-13T15:53:48Z',\n",
      "                    'unit': 'µs',\n",
      "                    'value': 48.4},\n",
      "             'T2': {'date': '2018-04-13T15:53:48Z',\n",
      "                    'unit': 'µs',\n",
      "                    'value': 54.7},\n",
      "             'buffer': {'date': '2018-04-13T15:53:48Z',\n",
      "                        'unit': 'ns',\n",
      "                        'value': 6.7},\n",
      "             'frequency': {'date': '2018-04-13T15:53:48Z',\n",
      "                           'unit': 'GHz',\n",
      "                           'value': 5.01542},\n",
      "             'gateError': {'date': '2018-04-13T15:53:48Z',\n",
      "                           'value': 0.002232583111384412},\n",
      "             'gateTime': {'date': '2018-04-13T15:53:48Z',\n",
      "                          'unit': 'ns',\n",
      "                          'value': 83.3},\n",
      "             'name': 'Q2',\n",
      "             'readoutError': {'date': '2018-04-13T15:53:48Z', 'value': 0.03}},\n",
      "            {'T1': {'date': '2018-04-13T15:53:48Z', 'unit': 'µs', 'value': 59},\n",
      "             'T2': {'date': '2018-04-13T15:53:48Z',\n",
      "                    'unit': 'µs',\n",
      "                    'value': 57.3},\n",
      "             'buffer': {'date': '2018-04-13T15:53:48Z',\n",
      "                        'unit': 'ns',\n",
      "                        'value': 6.7},\n",
      "             'frequency': {'date': '2018-04-13T15:53:48Z',\n",
      "                           'unit': 'GHz',\n",
      "                           'value': 5.28059},\n",
      "             'gateError': {'date': '2018-04-13T15:53:48Z',\n",
      "                           'value': 0.0017172252255832077},\n",
      "             'gateTime': {'date': '2018-04-13T15:53:48Z',\n",
      "                          'unit': 'ns',\n",
      "                          'value': 83.3},\n",
      "             'name': 'Q3',\n",
      "             'readoutError': {'date': '2018-04-13T15:53:48Z', 'value': 0.022}},\n",
      "            {'T1': {'date': '2018-04-13T15:53:48Z',\n",
      "                    'unit': 'µs',\n",
      "                    'value': 53.3},\n",
      "             'T2': {'date': '2018-04-13T15:53:48Z',\n",
      "                    'unit': 'µs',\n",
      "                    'value': 36.4},\n",
      "             'buffer': {'date': '2018-04-13T15:53:48Z',\n",
      "                        'unit': 'ns',\n",
      "                        'value': 6.7},\n",
      "             'frequency': {'date': '2018-04-13T15:53:48Z',\n",
      "                           'unit': 'GHz',\n",
      "                           'value': 5.07116},\n",
      "             'gateError': {'date': '2018-04-13T15:53:48Z',\n",
      "                           'value': 0.0009443532335046134},\n",
      "             'gateTime': {'date': '2018-04-13T15:53:48Z',\n",
      "                          'unit': 'ns',\n",
      "                          'value': 83.3},\n",
      "             'name': 'Q4',\n",
      "             'readoutError': {'date': '2018-04-13T15:53:48Z', 'value': 0.045}}]}\n"
     ]
    },
    {
     "name": "stdout",
     "output_type": "stream",
     "text": [
      "{}\n",
      "{}\n",
      "{}\n",
      "{}\n"
     ]
    }
   ],
   "source": [
    "for backend in backends:\n",
    "    pprint(backend.properties())"
   ]
  },
  {
   "cell_type": "markdown",
   "metadata": {},
   "source": [
    "### The Job object\n",
    "\n",
    "To get a job first we must get a `qobj` (quantum object code). This is a list of circuits compiled to a backend. To get this we have made a `compile` funtion that converts an array of circuits into a `qobj`. The reason this is an array is for current hardware lists of circuits are loaded onto the equipment at once and it is much more efficent to run this in a batch mode. The methods of the jobs object are:\n",
    "\n",
    "```\n",
    "status - returns the status.\n",
    "```\n",
    "```\n",
    "done - returns a bool true if done.\n",
    "```\n",
    "```\n",
    "id  - gets the job_id (not supported in the local provider yet).\n",
    "```\n",
    "```\n",
    "cancel - cancels the job (not supported on remote-public or local. Only supported on IBM Q premium devices).\n",
    "```\n",
    "```\n",
    "result - gets the results from the circuit run.\n",
    "```"
   ]
  },
  {
   "cell_type": "code",
   "execution_count": 25,
   "metadata": {
    "ExecuteTime": {
     "end_time": "2018-09-26T14:39:13.343626Z",
     "start_time": "2018-09-26T14:39:13.334395Z"
    }
   },
   "outputs": [
    {
     "data": {
      "text/plain": [
       "<qiskit._instructionset.InstructionSet at 0xa2222d390>"
      ]
     },
     "execution_count": 25,
     "metadata": {},
     "output_type": "execute_result"
    }
   ],
   "source": [
    "qr = QuantumRegister(3)\n",
    "cr = ClassicalRegister(3)\n",
    "circuit = QuantumCircuit(qr, cr)\n",
    "circuit.x(qr[0])\n",
    "circuit.x(qr[1])\n",
    "circuit.ccx(qr[0], qr[1], qr[2])\n",
    "circuit.cx(qr[0], qr[1])\n",
    "circuit.measure(qr, cr)"
   ]
  },
  {
   "cell_type": "code",
   "execution_count": 26,
   "metadata": {
    "ExecuteTime": {
     "end_time": "2018-09-26T14:39:14.902205Z",
     "start_time": "2018-09-26T14:39:14.898287Z"
    }
   },
   "outputs": [],
   "source": [
    "my_backend = get_backend('local_qasm_simulator')"
   ]
  },
  {
   "cell_type": "code",
   "execution_count": 27,
   "metadata": {
    "ExecuteTime": {
     "end_time": "2018-09-26T14:39:17.025599Z",
     "start_time": "2018-09-26T14:39:16.621012Z"
    }
   },
   "outputs": [],
   "source": [
    "qobj = compile(circuit, backend=my_backend, shots=1024)\n",
    "job = my_backend.run(qobj)"
   ]
  },
  {
   "cell_type": "code",
   "execution_count": 28,
   "metadata": {
    "ExecuteTime": {
     "end_time": "2018-09-26T14:39:18.695125Z",
     "start_time": "2018-09-26T14:39:18.688766Z"
    }
   },
   "outputs": [
    {
     "data": {
      "text/plain": [
       "<JobStatus.DONE: 'job has successfully run'>"
      ]
     },
     "execution_count": 28,
     "metadata": {},
     "output_type": "execute_result"
    }
   ],
   "source": [
    "job.status()"
   ]
  },
  {
   "cell_type": "code",
   "execution_count": 31,
   "metadata": {
    "ExecuteTime": {
     "end_time": "2018-09-26T14:39:33.776381Z",
     "start_time": "2018-09-26T14:39:33.768962Z"
    }
   },
   "outputs": [
    {
     "name": "stdout",
     "output_type": "stream",
     "text": [
      "{'101': 1024}\n"
     ]
    }
   ],
   "source": [
    "result = job.result()\n",
    "counts = result.get_counts()\n",
    "print(counts)"
   ]
  },
  {
   "cell_type": "code",
   "execution_count": 32,
   "metadata": {
    "ExecuteTime": {
     "end_time": "2018-09-26T14:39:46.349451Z",
     "start_time": "2018-09-26T14:39:35.269655Z"
    }
   },
   "outputs": [],
   "source": [
    "device_name = least_busy(available_backends({'simulator': False}))\n",
    "my_backend = get_backend(device_name)"
   ]
  },
  {
   "cell_type": "code",
   "execution_count": 35,
   "metadata": {
    "ExecuteTime": {
     "end_time": "2018-09-26T14:40:19.154210Z",
     "start_time": "2018-09-26T14:40:18.755831Z"
    }
   },
   "outputs": [
    {
     "data": {
      "application/vnd.jupyter.widget-view+json": {
       "model_id": "665921b5082747aea3ce16247f5ad95f",
       "version_major": 2,
       "version_minor": 0
      },
      "text/plain": [
       "VBox(children=(HTML(value=\"<p style='font-size:16px;'>Job Status : job is being initialized </p>\"),))"
      ]
     },
     "metadata": {},
     "output_type": "display_data"
    }
   ],
   "source": [
    "%%qiskit_job_status\n",
    "qobj = compile(circuit, backend=my_backend, shots=1024)\n",
    "job = my_backend.run(qobj)"
   ]
  },
  {
   "cell_type": "code",
   "execution_count": 36,
   "metadata": {
    "ExecuteTime": {
     "end_time": "2018-09-26T14:40:57.543212Z",
     "start_time": "2018-09-26T14:40:57.536507Z"
    }
   },
   "outputs": [
    {
     "data": {
      "text/plain": [
       "'5bab9a54a68fe1003a8f2281'"
      ]
     },
     "execution_count": 36,
     "metadata": {},
     "output_type": "execute_result"
    }
   ],
   "source": [
    "job.id()"
   ]
  },
  {
   "cell_type": "code",
   "execution_count": 37,
   "metadata": {
    "ExecuteTime": {
     "end_time": "2018-09-26T14:40:59.410310Z",
     "start_time": "2018-09-26T14:40:59.043072Z"
    }
   },
   "outputs": [
    {
     "name": "stdout",
     "output_type": "stream",
     "text": [
      "{'000': 75, '001': 372, '010': 101, '011': 111, '100': 33, '101': 178, '110': 30, '111': 124}\n"
     ]
    }
   ],
   "source": [
    "result = job.result()\n",
    "counts = result.get_counts()\n",
    "print(counts)"
   ]
  },
  {
   "cell_type": "code",
   "execution_count": 38,
   "metadata": {
    "ExecuteTime": {
     "end_time": "2018-09-26T14:41:01.073837Z",
     "start_time": "2018-09-26T14:41:00.901817Z"
    }
   },
   "outputs": [
    {
     "data": {
      "image/png": "[encoded data removed]",
      "text/plain": [
       "<Figure size 432x288 with 1 Axes>"
      ]
     },
     "metadata": {
      "needs_background": "light"
     },
     "output_type": "display_data"
    }
   ],
   "source": [
    "plot_histogram(counts)"
   ]
  },
  {
   "cell_type": "code",
   "execution_count": null,
   "metadata": {},
   "outputs": [],
   "source": []
  }
 ],
 "metadata": {
  "anaconda-cloud": {},
  "kernelspec": {
   "display_name": "Python 3",
   "language": "python",
   "name": "python3"
  },
  "language_info": {
   "codemirror_mode": {
    "name": "ipython",
    "version": 3
   },
   "file_extension": ".py",
   "mimetype": "text/x-python",
   "name": "python",
   "nbconvert_exporter": "python",
   "pygments_lexer": "ipython3",
   "version": "3.7.0"
  }
 },
 "nbformat": 4,
 "nbformat_minor": 1
}
