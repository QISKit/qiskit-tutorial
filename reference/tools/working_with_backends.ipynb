{
 "cells": [
  {
   "cell_type": "markdown",
   "metadata": {},
   "source": [
    "<img src=\"../../images/QISKit.gif\" alt=\"Note: In order for images to show up in this jupyter notebook you need to select File => Trusted Notebook\" width=\"250 px\" align=\"left\">"
   ]
  },
  {
   "cell_type": "markdown",
   "metadata": {},
   "source": [
    "# _*Working with Different Backends*_ \n",
    "\n",
    "In this tutorial, we will first describe the various [backends](#backends) available in QISKit and how to find out more information about each of them, then we will explore how QISKit allows you to [compile and run](#compile) the same quantum circuit on different backends with different connectivities. \n",
    "\n",
    "The latest version of this notebook is available on https://github.com/QISKit/qiskit-tutorial.\n",
    "\n",
    "***\n",
    "### Contributors\n",
    "Jay Gambetta, Joe Hellmers, Anna Phan"
   ]
  },
  {
   "cell_type": "markdown",
   "metadata": {},
   "source": [
    "## The Backends<a id='backends'></a>\n",
    "\n",
    "At the core of QISKit is the ability to access different backends to run your quantum programs. These backends are real devices, online simulators, and local simulations. As we continue to increase the flexibility of QISKit we expect there to be many different backends. These will include new hardware with different number of qubits, connectivity, different gate sets, and simulators with different properties. \n",
    "\n",
    "Current devices: \n",
    "* [IBMQX2](https://github.com/IBM/qiskit-qx-info/tree/master/backends/ibmqx2) - a 5 qubit transmon bowtie chip.\n",
    "* [IBMQX4](https://github.com/IBM/qiskit-qx-info/tree/master/backends/ibmqx4) - a 5 qubit transmon bowtie chip.\n",
    "* [IBMQX5](https://github.com/IBM/qiskit-qx-info/tree/master/backends/ibmqx5) - a 16 qubit ladder chip.\n",
    "\n",
    "Current simulators:\n",
    "* QASM simulators - these simulate a quantum circuit and predict the outcomes of a quantum experiment.\n",
    "    * Online QASM simulator – this runs online and can be used for up to 20 qubits with conditionals. \n",
    "    * Online HPC QASM simulator – this runs online and can be used for up to 32 qubits without conditionals. \n",
    "    * Local QASM simulator - this runs on your local machine, and should only be used for less than 10 qubits. \n",
    "* Local unitary simulator – predicts the unitary of a quantum circuit, ignoring measurement and conditional operations."
   ]
  },
  {
   "cell_type": "code",
   "execution_count": 1,
   "metadata": {},
   "outputs": [],
   "source": [
    "# Checking the version of PYTHON; we only support > 3.5\n",
    "import sys\n",
    "if sys.version_info < (3,5):\n",
    "    raise Exception('Please use Python version 3.5 or greater.')\n",
    "    \n",
    "try:\n",
    "    sys.path.append(\"../../\") # go to parent dir\n",
    "    import Qconfig\n",
    "    qx_config = {\n",
    "        \"APItoken\": Qconfig.APItoken,\n",
    "        \"url\": Qconfig.config['url']}\n",
    "except:\n",
    "    qx_config = {\n",
    "        \"APItoken\":\"YOUR_TOKEN_HERE\",\n",
    "        \"url\":\"https://quantumexperience.ng.bluemix.net/api\"}"
   ]
  },
  {
   "cell_type": "code",
   "execution_count": 2,
   "metadata": {},
   "outputs": [],
   "source": [
    "from qiskit import QuantumProgram\n",
    "from qiskit.tools.visualization import plot_histogram\n",
    "from pprint import pprint"
   ]
  },
  {
   "cell_type": "code",
   "execution_count": 3,
   "metadata": {},
   "outputs": [
    {
     "name": "stderr",
     "output_type": "stream",
     "text": [
      "/Users/jaygambetta/miniconda3/envs/QISKitenv/lib/python3.6/site-packages/qiskit/_quantumprogram.py:710: DeprecationWarning: set_api() will be deprecated in upcoming versions (>0.5.0). Using the API object instead is recommended.\n",
      "  \"Using the API object instead is recommended.\", DeprecationWarning)\n"
     ]
    }
   ],
   "source": [
    "Q_program = QuantumProgram()\n",
    "Q_program.set_api(Qconfig.APItoken, Qconfig.config['url']) # set the APIToken and API url"
   ]
  },
  {
   "cell_type": "markdown",
   "metadata": {},
   "source": [
    "### List and status \n",
    "\n",
    "To list all the backends that can be used we have provided the command: `Q_program.available_backends()`"
   ]
  },
  {
   "cell_type": "code",
   "execution_count": 4,
   "metadata": {},
   "outputs": [
    {
     "name": "stderr",
     "output_type": "stream",
     "text": [
      "/Users/jaygambetta/miniconda3/envs/QISKitenv/lib/python3.6/site-packages/qiskit/_quantumprogram.py:797: DeprecationWarning: available_backends() will be deprecated in upcoming versions (>0.5.0). Using qiskit.backends.local_backends() and qiskit.backends.remote_backends() instead is recommended.\n",
      "  DeprecationWarning)\n"
     ]
    },
    {
     "name": "stdout",
     "output_type": "stream",
     "text": [
      "['local_qasm_simulator',\n",
      " 'local_clifford_simulator',\n",
      " 'local_qiskit_simulator',\n",
      " 'local_sympy_qasm_simulator',\n",
      " 'local_sympy_unitary_simulator',\n",
      " 'local_unitary_simulator',\n",
      " 'ibmqx2',\n",
      " 'ibmqx5',\n",
      " 'ibmqx_hpc_qasm_simulator',\n",
      " 'ibmqx4',\n",
      " 'ibmqx_qasm_simulator']\n"
     ]
    }
   ],
   "source": [
    "pprint(Q_program.available_backends())"
   ]
  },
  {
   "cell_type": "markdown",
   "metadata": {},
   "source": [
    "The status can be obtained using the function `Q_program.get_backend_status()`:"
   ]
  },
  {
   "cell_type": "code",
   "execution_count": 5,
   "metadata": {},
   "outputs": [
    {
     "name": "stderr",
     "output_type": "stream",
     "text": [
      "/Users/jaygambetta/miniconda3/envs/QISKitenv/lib/python3.6/site-packages/qiskit/_quantumprogram.py:911: DeprecationWarning: get_backend_status() will be deprecated in upcoming versions (>0.5.0). Using qiskit.backends.get_backend_instance('name').status instead is recommended.\n",
      "  \"instead is recommended.\", DeprecationWarning)\n"
     ]
    },
    {
     "name": "stdout",
     "output_type": "stream",
     "text": [
      "{'available': True, 'backend': 'ibmqx5', 'busy': False, 'pending_jobs': 0}\n"
     ]
    }
   ],
   "source": [
    "pprint(Q_program.get_backend_status('ibmqx5'))"
   ]
  },
  {
   "cell_type": "markdown",
   "metadata": {},
   "source": [
    "If the backend system is under maintenance it will be listed as unavailable:"
   ]
  },
  {
   "cell_type": "code",
   "execution_count": 6,
   "metadata": {},
   "outputs": [
    {
     "name": "stderr",
     "output_type": "stream",
     "text": [
      "/Users/jaygambetta/miniconda3/envs/QISKitenv/lib/python3.6/site-packages/qiskit/_quantumprogram.py:911: DeprecationWarning: get_backend_status() will be deprecated in upcoming versions (>0.5.0). Using qiskit.backends.get_backend_instance('name').status instead is recommended.\n",
      "  \"instead is recommended.\", DeprecationWarning)\n"
     ]
    },
    {
     "name": "stdout",
     "output_type": "stream",
     "text": [
      "{'available': True, 'backend': 'ibmqx2', 'busy': False, 'pending_jobs': 0}\n"
     ]
    }
   ],
   "source": [
    "pprint(Q_program.get_backend_status('ibmqx2'))"
   ]
  },
  {
   "cell_type": "markdown",
   "metadata": {},
   "source": [
    "### Configuration\n",
    "\n",
    "To get more information about a backend use this function: `Q_program.get_backend_configuration()`. This will return a subset of the following information, depending on backend: \n",
    "- `name` - backend name\n",
    "- `description` - human readable description of the backend\n",
    "- `simulator` - flag for labeling if the backend is simulator or not\n",
    "- `n_qubits` - number of qubits in the backend\n",
    "- `coupling_map` - device connectivity map where `i:[j]` represents that control qubit `i` is connected to target qubit(s) `j`\n",
    "- `basis_gates` - gate set of the backend\n",
    "- `online_date` - date the backend went online\n",
    "- `chip_name` - code name for the backend\n",
    "- `url` - url address to find more information about the backend\n",
    "- `version` - version number that will iterate when changes are made to the backend"
   ]
  },
  {
   "cell_type": "code",
   "execution_count": 7,
   "metadata": {},
   "outputs": [
    {
     "name": "stderr",
     "output_type": "stream",
     "text": [
      "/Users/jaygambetta/miniconda3/envs/QISKitenv/lib/python3.6/site-packages/qiskit/_quantumprogram.py:941: DeprecationWarning: get_backend_configuration() will be deprecated in upcoming versions (>0.5.0). Using qiskit.backends.get_backend_instance('name').configuration instead is recommended.\n",
      "  \"instead is recommended.\", DeprecationWarning)\n"
     ]
    },
    {
     "name": "stdout",
     "output_type": "stream",
     "text": [
      "{'basis_gates': 'u1,u2,u3,cx,id',\n",
      " 'chip_name': 'Sparrow',\n",
      " 'coupling_map': [[0, 1], [0, 2], [1, 2], [3, 2], [3, 4], [4, 2]],\n",
      " 'description': '5 transmon bowtie',\n",
      " 'local': False,\n",
      " 'n_qubits': 5,\n",
      " 'name': 'ibmqx2',\n",
      " 'online_date': '2017-01-10T12:00:00.000Z',\n",
      " 'simulator': False,\n",
      " 'url': 'https://ibm.biz/qiskit-ibmqx2',\n",
      " 'version': '1'}\n"
     ]
    }
   ],
   "source": [
    "pprint(Q_program.get_backend_configuration('ibmqx2'))"
   ]
  },
  {
   "cell_type": "code",
   "execution_count": 8,
   "metadata": {},
   "outputs": [
    {
     "name": "stderr",
     "output_type": "stream",
     "text": [
      "/Users/jaygambetta/miniconda3/envs/QISKitenv/lib/python3.6/site-packages/qiskit/_quantumprogram.py:941: DeprecationWarning: get_backend_configuration() will be deprecated in upcoming versions (>0.5.0). Using qiskit.backends.get_backend_instance('name').configuration instead is recommended.\n",
      "  \"instead is recommended.\", DeprecationWarning)\n"
     ]
    },
    {
     "name": "stdout",
     "output_type": "stream",
     "text": [
      "{'basis_gates': 'u1,u2,u3,cx,id',\n",
      " 'coupling_map': 'all-to-all',\n",
      " 'description': 'A python simulator for qasm files',\n",
      " 'local': True,\n",
      " 'name': 'local_qasm_simulator',\n",
      " 'simulator': True,\n",
      " 'url': 'https://github.com/IBM/qiskit-sdk-py'}\n"
     ]
    }
   ],
   "source": [
    "pprint(Q_program.get_backend_configuration('local_qasm_simulator'))"
   ]
  },
  {
   "cell_type": "markdown",
   "metadata": {},
   "source": [
    "### Additional Device Information\n",
    "\n",
    "For the devices, you can find out lots more information, such as parameter and calibration data using `Q_program.get_backend_calibration()` and `Q_program.get_backend_parameters()`:"
   ]
  },
  {
   "cell_type": "code",
   "execution_count": 9,
   "metadata": {},
   "outputs": [
    {
     "name": "stderr",
     "output_type": "stream",
     "text": [
      "/Users/jaygambetta/miniconda3/envs/QISKitenv/lib/python3.6/site-packages/qiskit/_quantumprogram.py:970: DeprecationWarning: get_backend_calibration() will be deprecated in upcoming versions (>0.5.0). Using qiskit.backends.get_backend_instance('name').calibration instead is recommended.\n",
      "  \"instead is recommended.\", DeprecationWarning)\n"
     ]
    },
    {
     "name": "stdout",
     "output_type": "stream",
     "text": [
      "{'last_update_date': '2018-04-15T10:47:03.000Z', 'qubits': [{'gateError': {'date': '2018-04-15T10:47:03Z', 'value': 0.0012019552727863259}, 'name': 'Q0', 'readoutError': {'date': '2018-04-15T10:47:03Z', 'value': 0.049}}, {'gateError': {'date': '2018-04-15T10:47:03Z', 'value': 0.0006867731322012238}, 'name': 'Q1', 'readoutError': {'date': '2018-04-15T10:47:03Z', 'value': 0.032}}, {'gateError': {'date': '2018-04-15T10:47:03Z', 'value': 0.0014595792651160289}, 'name': 'Q2', 'readoutError': {'date': '2018-04-15T10:47:03Z', 'value': 0.051}}, {'gateError': {'date': '2018-04-15T10:47:03Z', 'value': 0.003779185579426747}, 'name': 'Q3', 'readoutError': {'date': '2018-04-15T10:47:03Z', 'value': 0.318}}, {'gateError': {'date': '2018-04-15T10:47:03Z', 'value': 0.002662115274625232}, 'name': 'Q4', 'readoutError': {'date': '2018-04-15T10:47:03Z', 'value': 0.058}}], 'multi_qubit_gates': [{'qubits': [1, 0], 'type': 'CX', 'gateError': {'date': '2018-04-15T10:47:03Z', 'value': 0.03024023736391171}, 'name': 'CX1_0'}, {'qubits': [2, 0], 'type': 'CX', 'gateError': {'date': '2018-04-15T10:47:03Z', 'value': 0.039456925451956476}, 'name': 'CX2_0'}, {'qubits': [2, 1], 'type': 'CX', 'gateError': {'date': '2018-04-15T10:47:03Z', 'value': 0.031533820743726626}, 'name': 'CX2_1'}, {'qubits': [3, 2], 'type': 'CX', 'gateError': {'date': '2018-04-15T10:47:03Z', 'value': 0.07034276934905859}, 'name': 'CX3_2'}, {'qubits': [3, 4], 'type': 'CX', 'gateError': {'date': '2018-04-15T10:47:03Z', 'value': 0.07835000865792408}, 'name': 'CX3_4'}], 'backend': 'ibmqx4'}\n"
     ]
    }
   ],
   "source": [
    "print(Q_program.get_backend_calibration('ibmqx4'))"
   ]
  },
  {
   "cell_type": "code",
   "execution_count": 10,
   "metadata": {},
   "outputs": [
    {
     "name": "stderr",
     "output_type": "stream",
     "text": [
      "/Users/jaygambetta/miniconda3/envs/QISKitenv/lib/python3.6/site-packages/qiskit/_quantumprogram.py:1000: DeprecationWarning: get_backend_parameters() will be deprecated in upcoming versions (>0.5.0). Using qiskit.backends.get_backend_instance('name').parametersinstead is recommended.\n",
      "  \"instead is recommended.\", DeprecationWarning)\n"
     ]
    },
    {
     "name": "stdout",
     "output_type": "stream",
     "text": [
      "{'last_update_date': '2018-04-15T10:47:03.000Z', 'fridge_parameters': {'cooldownDate': '2017-09-07', 'Temperature': {'date': '2018-04-15T10:47:03Z', 'value': 0.021, 'unit': 'K'}}, 'qubits': [{'name': 'Q0', 'buffer': {'date': '2018-04-15T10:47:03Z', 'value': 10, 'unit': 'ns'}, 'gateTime': {'date': '2018-04-15T10:47:03Z', 'value': 50, 'unit': 'ns'}, 'T2': {'date': '2018-04-15T10:47:03Z', 'value': 16.5, 'unit': 'µs'}, 'T1': {'date': '2018-04-15T10:47:03Z', 'value': 45.2, 'unit': 'µs'}, 'frequency': {'date': '2018-04-15T10:47:03Z', 'value': 5.24208, 'unit': 'GHz'}}, {'name': 'Q1', 'buffer': {'date': '2018-04-15T10:47:03Z', 'value': 10, 'unit': 'ns'}, 'gateTime': {'date': '2018-04-15T10:47:03Z', 'value': 50, 'unit': 'ns'}, 'T2': {'date': '2018-04-15T10:47:03Z', 'value': 58.3, 'unit': 'µs'}, 'T1': {'date': '2018-04-15T10:47:03Z', 'value': 48.7, 'unit': 'µs'}, 'frequency': {'date': '2018-04-15T10:47:03Z', 'value': 5.30743, 'unit': 'GHz'}}, {'name': 'Q2', 'buffer': {'date': '2018-04-15T10:47:03Z', 'value': 10, 'unit': 'ns'}, 'gateTime': {'date': '2018-04-15T10:47:03Z', 'value': 50, 'unit': 'ns'}, 'T2': {'date': '2018-04-15T10:47:03Z', 'value': 64.5, 'unit': 'µs'}, 'T1': {'date': '2018-04-15T10:47:03Z', 'value': 39.6, 'unit': 'µs'}, 'frequency': {'date': '2018-04-15T10:47:03Z', 'value': 5.35152, 'unit': 'GHz'}}, {'name': 'Q3', 'buffer': {'date': '2018-04-15T10:47:03Z', 'value': 10, 'unit': 'ns'}, 'gateTime': {'date': '2018-04-15T10:47:03Z', 'value': 50, 'unit': 'ns'}, 'T2': {'date': '2018-04-15T10:47:03Z', 'value': 19.8, 'unit': 'µs'}, 'T1': {'date': '2018-04-15T10:47:03Z', 'value': 34.7, 'unit': 'µs'}, 'frequency': {'date': '2018-04-15T10:47:03Z', 'value': 5.41313, 'unit': 'GHz'}}, {'name': 'Q4', 'buffer': {'date': '2018-04-15T10:47:03Z', 'value': 10, 'unit': 'ns'}, 'gateTime': {'date': '2018-04-15T10:47:03Z', 'value': 50, 'unit': 'ns'}, 'T2': {'date': '2018-04-15T10:47:03Z', 'value': 25.7, 'unit': 'µs'}, 'T1': {'date': '2018-04-15T10:47:03Z', 'value': 47.3, 'unit': 'µs'}, 'frequency': {'date': '2018-04-15T10:47:03Z', 'value': 5.18919, 'unit': 'GHz'}}], 'backend': 'ibmqx4'}\n"
     ]
    }
   ],
   "source": [
    "print(Q_program.get_backend_parameters('ibmqx4'))"
   ]
  },
  {
   "cell_type": "markdown",
   "metadata": {},
   "source": [
    "## Compiling and Running on Different Devices <a id='compile'></a>\n",
    "\n",
    "Each of the hardware devices has a different configuration, in terms of number of qubits and their connectivity. For example, even though both `ibmqx2` and `ibmqx4` have 5 qubits in a `bowtie` layout, their connectivity, in terms of what `CNOT` gates are available, is different. This means that circuits written for one device may not run on another device without modification. \n",
    "\n",
    "In QISKit, we provide a `compile` function to rewrite circuits so they can be run with a particular configuration. This is done through specifying a `coupling map`. Let's go through a simple example of creating an entangled Bell state on `ibmqx2`, then on `ibmqx4` using qubits `0` and `1`. More information about the `compile` function with a more complex example can be found in the [appendix](../../appendix/advanced_qiskit/compiling_and_running.ipynb).\n",
    "\n",
    "First let's write the code for creating this state and measuring it, using a `CNOT` from qubit `0` to qubit `1`, and look at the created QASM:"
   ]
  },
  {
   "cell_type": "code",
   "execution_count": 11,
   "metadata": {},
   "outputs": [
    {
     "name": "stdout",
     "output_type": "stream",
     "text": [
      "OPENQASM 2.0;\n",
      "include \"qelib1.inc\";\n",
      "qreg q2[2];\n",
      "creg c2[2];\n",
      "h q2[0];\n",
      "cx q2[0],q2[1];\n",
      "measure q2[0] -> c2[0];\n",
      "measure q2[1] -> c2[1];\n",
      "\n"
     ]
    }
   ],
   "source": [
    "# Creating registers\n",
    "q2 = Q_program.create_quantum_register(\"q2\", 2)\n",
    "c2 = Q_program.create_classical_register(\"c2\", 2)\n",
    "\n",
    "# quantum circuit to make an entangled state \n",
    "bell = Q_program.create_circuit(\"bell\", [q2], [c2])\n",
    "bell.h(q2[0])\n",
    "bell.cx(q2[0], q2[1])\n",
    "bell.measure(q2[0], c2[0])\n",
    "bell.measure(q2[1], c2[1])\n",
    "print(Q_program.get_qasm('bell'))"
   ]
  },
  {
   "cell_type": "markdown",
   "metadata": {},
   "source": [
    "Now let's get the coupling map for `ibmqx2`, compile the circuit to run on that device and look at the created QASM:"
   ]
  },
  {
   "cell_type": "code",
   "execution_count": 12,
   "metadata": {},
   "outputs": [
    {
     "name": "stderr",
     "output_type": "stream",
     "text": [
      "/Users/jaygambetta/miniconda3/envs/QISKitenv/lib/python3.6/site-packages/qiskit/_quantumprogram.py:941: DeprecationWarning: get_backend_configuration() will be deprecated in upcoming versions (>0.5.0). Using qiskit.backends.get_backend_instance('name').configuration instead is recommended.\n",
      "  \"instead is recommended.\", DeprecationWarning)\n"
     ]
    },
    {
     "name": "stdout",
     "output_type": "stream",
     "text": [
      "OPENQASM 2.0;\n",
      "include \"qelib1.inc\";\n",
      "qreg q[2];\n",
      "creg c2[2];\n",
      "u2(0,3.14159265358979) q[0];\n",
      "cx q[0],q[1];\n",
      "barrier q[1];\n",
      "barrier q[0];\n",
      "measure q[1] -> c2[1];\n",
      "measure q[0] -> c2[0];\n",
      "\n"
     ]
    }
   ],
   "source": [
    "ibmqx2_backend = Q_program.get_backend_configuration('ibmqx2')\n",
    "ibmqx2_coupling = ibmqx2_backend['coupling_map']\n",
    "\n",
    "compile_ibmqx2 = Q_program.compile(['bell'], backend='ibmqx2', coupling_map=ibmqx2_coupling)\n",
    "print(Q_program.get_compiled_qasm(compile_ibmqx2, 'bell'))"
   ]
  },
  {
   "cell_type": "markdown",
   "metadata": {},
   "source": [
    "Note that while the `compile` function has replaced the `h` gate with an equivalent `u2` gate, it hasn't changed anything else. This is because a `CNOT` from qubit `0` to qubit `1` is possible on `ibmqx2`.\n",
    "\n",
    "Now let's get the coupling map for `ibmqx4`, compile the circuit to run on that device and look at the created QASM:"
   ]
  },
  {
   "cell_type": "code",
   "execution_count": 13,
   "metadata": {},
   "outputs": [
    {
     "name": "stderr",
     "output_type": "stream",
     "text": [
      "/Users/jaygambetta/miniconda3/envs/QISKitenv/lib/python3.6/site-packages/qiskit/_quantumprogram.py:941: DeprecationWarning: get_backend_configuration() will be deprecated in upcoming versions (>0.5.0). Using qiskit.backends.get_backend_instance('name').configuration instead is recommended.\n",
      "  \"instead is recommended.\", DeprecationWarning)\n"
     ]
    },
    {
     "name": "stdout",
     "output_type": "stream",
     "text": [
      "OPENQASM 2.0;\n",
      "include \"qelib1.inc\";\n",
      "qreg q[2];\n",
      "creg c2[2];\n",
      "u2(0,3.14159265358979) q[1];\n",
      "cx q[1],q[0];\n",
      "u2(0,3.14159265358979) q[0];\n",
      "barrier q[0];\n",
      "barrier q[0];\n",
      "measure q[0] -> c2[0];\n",
      "u2(0,3.14159265358979) q[1];\n",
      "barrier q[1];\n",
      "barrier q[1];\n",
      "measure q[1] -> c2[1];\n",
      "\n"
     ]
    }
   ],
   "source": [
    "ibmqx4_backend = Q_program.get_backend_configuration('ibmqx4')\n",
    "ibmqx4_coupling = ibmqx4_backend['coupling_map']\n",
    "\n",
    "compile_ibmqx4 = Q_program.compile(['bell'], backend='ibmqx4', coupling_map=ibmqx4_coupling)\n",
    "print(Q_program.get_compiled_qasm(compile_ibmqx4, 'bell'))"
   ]
  },
  {
   "cell_type": "markdown",
   "metadata": {},
   "source": [
    "Note this time the `compile` function ended with a final circuit containing a `h` gate on qubit `1` and a `CNOT` from qubit `1` to qubit `0` to create an equivalent entangled bell state.\n",
    "\n",
    "This `compile` functionality also exists in the `execute` function, where you can specify a `coupling_map`, and your circuit will be modified for that configuration, then executed on the specified backend. \n",
    "\n",
    "Below is the same circuit compiled using different configurations, but run on the local simulator backend. Try running them yourself on the devices (checking that they are available first)!"
   ]
  },
  {
   "cell_type": "code",
   "execution_count": 14,
   "metadata": {},
   "outputs": [
    {
     "data": {
      "image/png": "[encoded data removed]",
      "text/plain": [
       "<matplotlib.figure.Figure at 0x111f2e908>"
      ]
     },
     "metadata": {},
     "output_type": "display_data"
    }
   ],
   "source": [
    "run_ibmqx2 = Q_program.execute([\"bell\"], backend=\"local_qasm_simulator\", coupling_map=ibmqx2_coupling)\n",
    "plot_histogram(run_ibmqx2.get_counts(\"bell\"))"
   ]
  },
  {
   "cell_type": "code",
   "execution_count": 15,
   "metadata": {},
   "outputs": [
    {
     "data": {
      "image/png": "[encoded data removed]",
      "text/plain": [
       "<matplotlib.figure.Figure at 0x111f2f908>"
      ]
     },
     "metadata": {},
     "output_type": "display_data"
    }
   ],
   "source": [
    "run_ibmqx4 = Q_program.execute([\"bell\"], backend=\"local_qasm_simulator\", coupling_map=ibmqx4_coupling)\n",
    "plot_histogram(run_ibmqx4.get_counts(\"bell\"))"
   ]
  },
  {
   "cell_type": "code",
   "execution_count": 16,
   "metadata": {},
   "outputs": [
    {
     "data": {
      "text/html": [
       "<h2>Version information</h2>\n",
       "<p>Please note that this tutorial is targeted to the <b>stable</b> version of the QISKit. The following versions of the packages are recommended:</p>\n",
       "<table>\n",
       "<tr><th>Package</th><th colspan=\"2\">Version</th></tr>\n",
       "<tr><td>QISKit</td><td> 0.4.10</td></tr>\n",
       "<tr><td>IBMQuantumExperience</td><td>&gt;= 1.8.26</td></tr>\n",
       "<tr><td>numpy</td><td>&gt;= 1.13, &lt; 1.14</td></tr>\n",
       "<tr><td>scipy</td><td>&gt;= 0.19, &lt; 0.20</td></tr>\n",
       "<tr><td>matplotlib</td><td>&gt;= 2.0, &lt; 2.1</td></tr>\n",
       "</table>"
      ],
      "text/plain": [
       "<IPython.core.display.HTML object>"
      ]
     },
     "metadata": {},
     "output_type": "display_data"
    }
   ],
   "source": [
    "%run \"../../version.ipynb\""
   ]
  }
 ],
 "metadata": {
  "anaconda-cloud": {},
  "kernelspec": {
   "display_name": "Python 3",
   "language": "python",
   "name": "python3"
  },
  "language_info": {
   "codemirror_mode": {
    "name": "ipython",
    "version": 3
   },
   "file_extension": ".py",
   "mimetype": "text/x-python",
   "name": "python",
   "nbconvert_exporter": "python",
   "pygments_lexer": "ipython3",
   "version": "3.6.4"
  }
 },
 "nbformat": 4,
 "nbformat_minor": 1
}
