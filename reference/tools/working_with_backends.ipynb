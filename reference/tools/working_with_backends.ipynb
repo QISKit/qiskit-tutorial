{
 "cells": [
  {
   "cell_type": "markdown",
   "metadata": {},
   "source": [
    "<img src=\"../../images/qiskit-heading.gif\" alt=\"Note: In order for images to show up in this jupyter notebook you need to select File => Trusted Notebook\" width=\"500 px\" align=\"left\">"
   ]
  },
  {
   "cell_type": "markdown",
   "metadata": {},
   "source": [
    "# _*Working with Different Backends*_ \n",
    "\n",
    "In this tutorial, we will first describe the various [backends](#backends) available in QISKit and how to find out more information about each of them, then we will explore how QISKit allows you to compile and run the same quantum circuit on different backends with different topology. \n",
    "\n",
    "The latest version of this notebook is available on https://github.com/QISKit/qiskit-tutorial.\n",
    "\n",
    "***\n",
    "### Contributors\n",
    "Jay Gambetta, Joe Hellmers, Anna Phan"
   ]
  },
  {
   "cell_type": "markdown",
   "metadata": {},
   "source": [
    "## The Backends<a id='backends'></a>\n",
    "\n",
    "At the core of QISKit is the ability to access different backends to run your quantum programs. These backends are real devices, online simulators, and local simulations. As we continue to increase the flexibility of QISKit we expect there to be many different backends. These will include new hardware with different number of qubits, connectivity, different gate sets, and simulators with different properties. \n",
    "\n",
    "Current devices can be found on the devices page of the IBM Q Experience\n",
    "\n",
    "Current simulators:\n",
    "* QASM simulators - these simulate a quantum circuit and predict the outcomes of a quantum experiment.\n",
    "    * Online QASM simulator – this runs online and can be used for up to 20 qubits with conditionals. \n",
    "    * Online HPC QASM simulator – this runs online and can be used for up to 32 qubits without conditionals. \n",
    "    * Local QASM simulator - this runs on your local machine, and should only be used for less than 10 qubits. \n",
    "* Local unitary simulator – predicts the unitary of a quantum circuit without measurement and conditional operations.\n",
    "* Local statevector simulator - predicts the statevector of a quantum circuit without measurement and conditional operations.\n",
    "\n",
    "The three important parts of our backends are: a provider, a backend, and a job object. The provider allows local and remote providers to be registered. QISkit comes with the default local provider which is a collection of simulators and it is simple to register the remote IBMQ provider. Each provider will give you access to different backends, which allow you to submit jobs to be run on the providers backends.\n",
    "\n",
    "NOTE THIS IS WORK IN PROGRESS WHILE WE PUT THE SCHEMAS INTO THE BACKENDS"
   ]
  },
  {
   "cell_type": "code",
   "execution_count": 1,
   "metadata": {},
   "outputs": [
    {
     "name": "stdout",
     "output_type": "stream",
     "text": [
      "Qconfig loaded from ../../Qconfig.py.\n"
     ]
    }
   ],
   "source": [
    "import sys, time, getpass\n",
    "try:\n",
    "    sys.path.append(\"../../\") # go to parent dir\n",
    "    import Qconfig\n",
    "    qx_config = {\n",
    "        \"APItoken\": Qconfig.APItoken,\n",
    "        \"url\": Qconfig.config['url']}\n",
    "    print('Qconfig loaded from %s.' % Qconfig.__file__)\n",
    "except:\n",
    "    APItoken = getpass.getpass('Please input your token and hit enter: ')\n",
    "    qx_config = {\n",
    "        \"APItoken\": APItoken,\n",
    "        \"url\":\"https://quantumexperience.ng.bluemix.net/api\"}\n",
    "    print('Qconfig.py not found in qiskit-tutorial directory; Qconfig loaded using user input.')"
   ]
  },
  {
   "cell_type": "code",
   "execution_count": 2,
   "metadata": {},
   "outputs": [],
   "source": [
    "from qiskit import QuantumCircuit, ClassicalRegister, QuantumRegister, QISKitError\n",
    "from qiskit import available_backends, execute, register, get_backend, compile\n",
    "\n",
    "from qiskit.tools.visualization import plot_histogram\n",
    "from pprint import pprint"
   ]
  },
  {
   "cell_type": "markdown",
   "metadata": {},
   "source": [
    "### The Local and IBMQ providers\n",
    "\n",
    "A provider must be registered and it must support three funtions: `available_backends()` and `get_backend()` and a method to register the provider.\n",
    "\n",
    "```\n",
    "available_backends() - list all the backends of the resistered backends\n",
    "```\n",
    "```\n",
    "get_backend('name') - get a backend instance from a name \n",
    "```\n",
    "\n",
    "Lets start with the  `available_backends()` command"
   ]
  },
  {
   "cell_type": "code",
   "execution_count": 3,
   "metadata": {},
   "outputs": [
    {
     "data": {
      "text/plain": [
       "['local_qasm_simulator',\n",
       " 'local_statevector_simulator',\n",
       " 'local_unitary_simulator']"
      ]
     },
     "execution_count": 3,
     "metadata": {},
     "output_type": "execute_result"
    }
   ],
   "source": [
    "available_backends()"
   ]
  },
  {
   "cell_type": "markdown",
   "metadata": {},
   "source": [
    "This list is compact and picks the best of the diffent types. To list all the backends not just alias you can use:"
   ]
  },
  {
   "cell_type": "code",
   "execution_count": 4,
   "metadata": {},
   "outputs": [
    {
     "data": {
      "text/plain": [
       "['local_clifford_simulator_cpp',\n",
       " 'local_qasm_simulator_cpp',\n",
       " 'local_qasm_simulator_py',\n",
       " 'local_statevector_simulator_cpp',\n",
       " 'local_statevector_simulator_py',\n",
       " 'local_unitary_simulator_py']"
      ]
     },
     "execution_count": 4,
     "metadata": {},
     "output_type": "execute_result"
    }
   ],
   "source": [
    "available_backends(compact=False)"
   ]
  },
  {
   "cell_type": "markdown",
   "metadata": {},
   "source": [
    "To add the IBMQ provider you need to register it using\n",
    "\n",
    "```\n",
    "register(arg,...)\n",
    "```"
   ]
  },
  {
   "cell_type": "code",
   "execution_count": 5,
   "metadata": {},
   "outputs": [
    {
     "data": {
      "text/plain": [
       "['ibmq_16_rueschlikon',\n",
       " 'ibmq_5_tenerife',\n",
       " 'ibmq_5_yorktown',\n",
       " 'ibmq_qasm_simulator',\n",
       " 'local_qasm_simulator',\n",
       " 'local_statevector_simulator',\n",
       " 'local_unitary_simulator']"
      ]
     },
     "execution_count": 5,
     "metadata": {},
     "output_type": "execute_result"
    }
   ],
   "source": [
    "register(qx_config['APItoken'], qx_config['url'])\n",
    "available_backends()"
   ]
  },
  {
   "cell_type": "markdown",
   "metadata": {},
   "source": [
    "The `available_backends` function can also use filters.\n",
    "\n",
    "Filter: show remote backends only"
   ]
  },
  {
   "cell_type": "code",
   "execution_count": 6,
   "metadata": {},
   "outputs": [
    {
     "data": {
      "text/plain": [
       "['ibmq_16_rueschlikon',\n",
       " 'ibmq_5_tenerife',\n",
       " 'ibmq_5_yorktown',\n",
       " 'ibmq_qasm_simulator']"
      ]
     },
     "execution_count": 6,
     "metadata": {},
     "output_type": "execute_result"
    }
   ],
   "source": [
    "available_backends({'local': False})"
   ]
  },
  {
   "cell_type": "markdown",
   "metadata": {},
   "source": [
    "Filter: show only local backends"
   ]
  },
  {
   "cell_type": "code",
   "execution_count": 7,
   "metadata": {},
   "outputs": [
    {
     "data": {
      "text/plain": [
       "['local_qasm_simulator',\n",
       " 'local_statevector_simulator',\n",
       " 'local_unitary_simulator']"
      ]
     },
     "execution_count": 7,
     "metadata": {},
     "output_type": "execute_result"
    }
   ],
   "source": [
    "available_backends({'local': True})"
   ]
  },
  {
   "cell_type": "markdown",
   "metadata": {},
   "source": [
    "Filer: show only simulators"
   ]
  },
  {
   "cell_type": "code",
   "execution_count": 8,
   "metadata": {},
   "outputs": [
    {
     "data": {
      "text/plain": [
       "['ibmq_qasm_simulator',\n",
       " 'local_qasm_simulator',\n",
       " 'local_statevector_simulator',\n",
       " 'local_unitary_simulator']"
      ]
     },
     "execution_count": 8,
     "metadata": {},
     "output_type": "execute_result"
    }
   ],
   "source": [
    "available_backends({'simulator': True})"
   ]
  },
  {
   "cell_type": "markdown",
   "metadata": {},
   "source": [
    "Fileter: show only real devices"
   ]
  },
  {
   "cell_type": "code",
   "execution_count": 9,
   "metadata": {},
   "outputs": [
    {
     "data": {
      "text/plain": [
       "['ibmq_16_rueschlikon', 'ibmq_5_tenerife', 'ibmq_5_yorktown']"
      ]
     },
     "execution_count": 9,
     "metadata": {},
     "output_type": "execute_result"
    }
   ],
   "source": [
    "available_backends({'simulator': False})"
   ]
  },
  {
   "cell_type": "markdown",
   "metadata": {},
   "source": [
    "Filter: show both a remote backend and a simulator backend"
   ]
  },
  {
   "cell_type": "code",
   "execution_count": 10,
   "metadata": {},
   "outputs": [
    {
     "data": {
      "text/plain": [
       "['ibmq_qasm_simulator']"
      ]
     },
     "execution_count": 10,
     "metadata": {},
     "output_type": "execute_result"
    }
   ],
   "source": [
    "available_backends({'local': False, 'simulator': True})"
   ]
  },
  {
   "cell_type": "markdown",
   "metadata": {},
   "source": [
    "The second function `get_backend()` allows you to make a backend instance"
   ]
  },
  {
   "cell_type": "code",
   "execution_count": 11,
   "metadata": {},
   "outputs": [
    {
     "data": {
      "text/plain": [
       "[<qiskit.backends.ibmq.ibmqbackend.IBMQBackend at 0xa11f01cf8>,\n",
       " <qiskit.backends.ibmq.ibmqbackend.IBMQBackend at 0xa11f015c0>,\n",
       " <qiskit.backends.ibmq.ibmqbackend.IBMQBackend at 0xa11f01518>,\n",
       " <qiskit.backends.ibmq.ibmqbackend.IBMQBackend at 0xa11f14588>,\n",
       " <qiskit.backends.local.qasm_simulator_cpp.QasmSimulatorCpp at 0xa109e9630>,\n",
       " <qiskit.backends.local.statevector_simulator_cpp.StatevectorSimulatorCpp at 0xa10a0b7f0>,\n",
       " <qiskit.backends.local.unitary_simulator_py.UnitarySimulatorPy at 0xa10a0b860>]"
      ]
     },
     "execution_count": 11,
     "metadata": {},
     "output_type": "execute_result"
    }
   ],
   "source": [
    "backends = []\n",
    "for backend in available_backends():\n",
    "    backends.append(get_backend(backend))\n",
    "backends"
   ]
  },
  {
   "cell_type": "markdown",
   "metadata": {},
   "source": [
    "### The Backends\n",
    "\n",
    "The next part is the backend instances. These backends must support the following functions:\n",
    "\n",
    "```\n",
    "configuration - gets the configuration of the backend.\n",
    "```\n",
    "```\n",
    "properties -  gets the properties of the backend (calibrations and parameters are going to be combined).\n",
    "```\n",
    "```\n",
    "schema -  returns the schema for the qobj object supported by this backend (not implemented yet).\n",
    "```\n",
    "```\n",
    "status - gets the status of the backend.\n",
    "```\n",
    "```\n",
    "jobs  -  returns a list of the job id’s (not implemented yet).\n",
    "```\n",
    "```\n",
    "retrieve_job - gets the data in the job (not implemented yet).\n",
    "```\n",
    "```\n",
    "run  - runs a qobj on the backend.\n",
    "```\n"
   ]
  },
  {
   "cell_type": "markdown",
   "metadata": {},
   "source": [
    "Lets start with the `status`:\n",
    "\n",
    "    `available` lets us know that the backend is taking jobs\n",
    "\n",
    "    `pending_jobs` lets you know how many jobs are in the queue"
   ]
  },
  {
   "cell_type": "code",
   "execution_count": 12,
   "metadata": {},
   "outputs": [
    {
     "name": "stdout",
     "output_type": "stream",
     "text": [
      "{'pending_jobs': 3, 'name': 'ibmqx5', 'operational': True}\n",
      "{'pending_jobs': 0, 'name': 'ibmqx4', 'operational': True}\n",
      "{'pending_jobs': 330, 'name': 'ibmqx2', 'operational': False}\n",
      "{'pending_jobs': 0, 'name': 'ibmq_qasm_simulator', 'operational': True}\n",
      "{'name': 'local_qasm_simulator_cpp', 'operational': True, 'pending_jobs': 0}\n",
      "{'name': 'local_statevector_simulator_cpp',\n",
      " 'operational': True,\n",
      " 'pending_jobs': 0}\n",
      "{'name': 'local_unitary_simulator_py', 'operational': True, 'pending_jobs': 0}\n"
     ]
    }
   ],
   "source": [
    "for backend in backends:\n",
    "    pprint(backend.status)"
   ]
  },
  {
   "cell_type": "markdown",
   "metadata": {},
   "source": [
    "The next is `configuration`"
   ]
  },
  {
   "cell_type": "code",
   "execution_count": 13,
   "metadata": {},
   "outputs": [
    {
     "name": "stdout",
     "output_type": "stream",
     "text": [
      "{'allow_q_object': False,\n",
      " 'basis_gates': 'u1,u2,u3,cx,id',\n",
      " 'chip_name': 'Albatross',\n",
      " 'coupling_map': [[1, 0],\n",
      "                  [1, 2],\n",
      "                  [2, 3],\n",
      "                  [3, 4],\n",
      "                  [3, 14],\n",
      "                  [5, 4],\n",
      "                  [6, 5],\n",
      "                  [6, 7],\n",
      "                  [6, 11],\n",
      "                  [7, 10],\n",
      "                  [8, 7],\n",
      "                  [9, 8],\n",
      "                  [9, 10],\n",
      "                  [11, 10],\n",
      "                  [12, 5],\n",
      "                  [12, 11],\n",
      "                  [12, 13],\n",
      "                  [13, 4],\n",
      "                  [13, 14],\n",
      "                  [15, 0],\n",
      "                  [15, 2],\n",
      "                  [15, 14]],\n",
      " 'description': '16 transmon 2x8 ladder',\n",
      " 'gate_set': 'SU2+CNOT',\n",
      " 'local': False,\n",
      " 'n_qubits': 16,\n",
      " 'name': 'ibmqx5',\n",
      " 'online_date': '2017-09-21T00:00:00.000Z',\n",
      " 'simulator': False,\n",
      " 'url': 'https://ibm.biz/qiskit-ibmqx5',\n",
      " 'version': '1.1.0'}\n",
      "{'allow_q_object': False,\n",
      " 'basis_gates': 'u1,u2,u3,cx,id',\n",
      " 'chip_name': 'Raven',\n",
      " 'coupling_map': [[1, 0], [2, 0], [2, 1], [3, 2], [3, 4], [4, 2]],\n",
      " 'description': '5 qubit transmon bowtie chip 3',\n",
      " 'gate_set': 'SU2+CNOT',\n",
      " 'local': False,\n",
      " 'n_qubits': 5,\n",
      " 'name': 'ibmqx4',\n",
      " 'online_date': '2017-09-18T00:00:00.000Z',\n",
      " 'simulator': False,\n",
      " 'url': 'https://ibm.biz/qiskit-ibmqx4',\n",
      " 'version': '1.2.0'}\n",
      "{'allow_q_object': False,\n",
      " 'basis_gates': 'u1,u2,u3,cx,id',\n",
      " 'chip_name': 'Sparrow',\n",
      " 'coupling_map': [[0, 1], [0, 2], [1, 2], [3, 2], [3, 4], [4, 2]],\n",
      " 'description': '5 qubit transmon bowtie chip 2',\n",
      " 'gate_set': 'SU2+CNOT',\n",
      " 'local': False,\n",
      " 'n_qubits': 5,\n",
      " 'name': 'ibmqx2',\n",
      " 'online_date': '2017-01-10T00:00:00.000Z',\n",
      " 'simulator': False,\n",
      " 'url': 'https://ibm.biz/qiskit-ibmqx2',\n",
      " 'version': '1'}\n",
      "{'allow_q_object': False,\n",
      " 'basis_gates': 'u1,u2,u3,cx,id',\n",
      " 'coupling_map': 'all-to-all',\n",
      " 'description': 'online qasm simulator',\n",
      " 'local': False,\n",
      " 'n_qubits': 32,\n",
      " 'name': 'ibmq_qasm_simulator',\n",
      " 'online_date': '2017-12-09T12:00:00.000Z',\n",
      " 'simulator': True}\n",
      "{'basis_gates': 'u0,u1,u2,u3,cx,cz,id,x,y,z,h,s,sdg,t,tdg,rzz,snapshot,wait,noise,save,load',\n",
      " 'coupling_map': 'all-to-all',\n",
      " 'description': 'A C++ realistic noise simulator for qobj files',\n",
      " 'exe': '/anaconda3/envs/QISKitenv/lib/python3.6/site-packages/qiskit/backends/local/qasm_simulator_cpp',\n",
      " 'local': True,\n",
      " 'name': 'local_qasm_simulator_cpp',\n",
      " 'simulator': True,\n",
      " 'url': 'https://github.com/QISKit/qiskit-terra/src/qasm-simulator-cpp'}\n",
      "{'basis_gates': 'u1,u2,u3,cx,cz,id,x,y,z,h,s,sdg,t,tdg,rzz,load,save,snapshot',\n",
      " 'coupling_map': 'all-to-all',\n",
      " 'description': 'A C++ statevector simulator for qobj files',\n",
      " 'exe': '/anaconda3/envs/QISKitenv/lib/python3.6/site-packages/qiskit/backends/local/qasm_simulator_cpp',\n",
      " 'local': True,\n",
      " 'name': 'local_statevector_simulator_cpp',\n",
      " 'simulator': True,\n",
      " 'url': 'https://github.com/QISKit/qiskit-terra/src/qasm-simulator-cpp'}\n",
      "{'basis_gates': 'u1,u2,u3,cx,id',\n",
      " 'coupling_map': 'all-to-all',\n",
      " 'description': 'A python simulator for unitary matrix',\n",
      " 'local': True,\n",
      " 'name': 'local_unitary_simulator_py',\n",
      " 'simulator': True,\n",
      " 'url': 'https://github.com/QISKit/qiskit-terra'}\n"
     ]
    }
   ],
   "source": [
    "for backend in backends:\n",
    "    pprint(backend.configuration)"
   ]
  },
  {
   "cell_type": "code",
   "execution_count": 14,
   "metadata": {},
   "outputs": [
    {
     "name": "stdout",
     "output_type": "stream",
     "text": [
      "{'backend': 'ibmqx5',\n",
      " 'fridge_parameters': {'Temperature': {'date': '2018-07-08T03:43:21Z',\n",
      "                                       'unit': 'K',\n",
      "                                       'value': 0.0141844},\n",
      "                       'cooldownDate': '2017-09-15'},\n",
      " 'last_update_date': '2018-07-08T10:31:12.000Z',\n",
      " 'qubits': [{'T1': {'date': '2018-07-08T10:30:11Z',\n",
      "                    'unit': 'µs',\n",
      "                    'value': 41.2},\n",
      "             'T2': {'date': '2018-07-08T10:31:12Z',\n",
      "                    'unit': 'µs',\n",
      "                    'value': 23.9},\n",
      "             'buffer': {'date': '2018-07-08T10:05:31Z',\n",
      "                        'unit': 'ns',\n",
      "                        'value': 10},\n",
      "             'frequency': {'date': '2018-07-08T10:05:31Z',\n",
      "                           'units': 'GHz',\n",
      "                           'value': 5.2559226},\n",
      "             'gateTime': {'date': '2018-07-08T10:05:31Z',\n",
      "                          'unit': 'ns',\n",
      "                          'value': 80},\n",
      "             'name': 'Q0'},\n",
      "            {'T1': {'date': '2018-07-08T10:30:11Z',\n",
      "                    'unit': 'µs',\n",
      "                    'value': 38.8},\n",
      "             'T2': {'date': '2018-07-08T10:31:12Z',\n",
      "                    'unit': 'µs',\n",
      "                    'value': 59.1},\n",
      "             'buffer': {'date': '2018-07-08T10:05:31Z',\n",
      "                        'unit': 'ns',\n",
      "                        'value': 10},\n",
      "             'frequency': {'date': '2018-07-08T10:05:31Z',\n",
      "                           'units': 'GHz',\n",
      "                           'value': 5.3960072},\n",
      "             'gateTime': {'date': '2018-07-08T10:05:31Z',\n",
      "                          'unit': 'ns',\n",
      "                          'value': 80},\n",
      "             'name': 'Q1'},\n",
      "            {'T1': {'date': '2018-07-08T10:30:11Z',\n",
      "                    'unit': 'µs',\n",
      "                    'value': 42.2},\n",
      "             'T2': {'date': '2018-07-08T10:31:12Z', 'unit': 'µs', 'value': 62},\n",
      "             'buffer': {'date': '2018-07-08T10:05:31Z',\n",
      "                        'unit': 'ns',\n",
      "                        'value': 10},\n",
      "             'frequency': {'date': '2018-07-08T10:05:31Z',\n",
      "                           'units': 'GHz',\n",
      "                           'value': 5.275583},\n",
      "             'gateTime': {'date': '2018-07-08T10:05:31Z',\n",
      "                          'unit': 'ns',\n",
      "                          'value': 80},\n",
      "             'name': 'Q2'},\n",
      "            {'T1': {'date': '2018-07-08T10:30:11Z',\n",
      "                    'unit': 'µs',\n",
      "                    'value': 46.9},\n",
      "             'T2': {'date': '2018-07-08T10:31:12Z',\n",
      "                    'unit': 'µs',\n",
      "                    'value': 85.2},\n",
      "             'buffer': {'date': '2018-07-08T10:05:31Z',\n",
      "                        'unit': 'ns',\n",
      "                        'value': 10},\n",
      "             'frequency': {'date': '2018-07-08T10:05:31Z',\n",
      "                           'units': 'GHz',\n",
      "                           'value': 5.0830864},\n",
      "             'gateTime': {'date': '2018-07-08T10:05:31Z',\n",
      "                          'unit': 'ns',\n",
      "                          'value': 80},\n",
      "             'name': 'Q3'},\n",
      "            {'T1': {'date': '2018-07-08T10:30:11Z',\n",
      "                    'unit': 'µs',\n",
      "                    'value': 41.2},\n",
      "             'T2': {'date': '2018-07-08T10:31:12Z',\n",
      "                    'unit': 'µs',\n",
      "                    'value': 63.6},\n",
      "             'buffer': {'date': '2018-07-08T10:05:31Z',\n",
      "                        'unit': 'ns',\n",
      "                        'value': 10},\n",
      "             'frequency': {'date': '2018-07-08T10:05:31Z',\n",
      "                           'units': 'GHz',\n",
      "                           'value': 4.9792009},\n",
      "             'gateTime': {'date': '2018-07-08T10:05:31Z',\n",
      "                          'unit': 'ns',\n",
      "                          'value': 80},\n",
      "             'name': 'Q4'},\n",
      "            {'T1': {'date': '2018-07-08T10:30:11Z',\n",
      "                    'unit': 'µs',\n",
      "                    'value': 40.9},\n",
      "             'T2': {'date': '2018-07-08T10:31:12Z',\n",
      "                    'unit': 'µs',\n",
      "                    'value': 45.1},\n",
      "             'buffer': {'date': '2018-07-08T10:05:31Z',\n",
      "                        'unit': 'ns',\n",
      "                        'value': 10},\n",
      "             'frequency': {'date': '2018-07-08T10:05:31Z',\n",
      "                           'units': 'GHz',\n",
      "                           'value': 5.1515121},\n",
      "             'gateTime': {'date': '2018-07-08T10:05:31Z',\n",
      "                          'unit': 'ns',\n",
      "                          'value': 80},\n",
      "             'name': 'Q5'},\n",
      "            {'T1': {'date': '2018-07-08T10:30:11Z',\n",
      "                    'unit': 'µs',\n",
      "                    'value': 49.6},\n",
      "             'T2': {'date': '2018-07-08T10:31:12Z',\n",
      "                    'unit': 'µs',\n",
      "                    'value': 80.4},\n",
      "             'buffer': {'date': '2018-07-08T10:05:31Z',\n",
      "                        'unit': 'ns',\n",
      "                        'value': 10},\n",
      "             'frequency': {'date': '2018-07-08T10:05:31Z',\n",
      "                           'units': 'GHz',\n",
      "                           'value': 5.3058072},\n",
      "             'gateTime': {'date': '2018-07-08T10:05:31Z',\n",
      "                          'unit': 'ns',\n",
      "                          'value': 80},\n",
      "             'name': 'Q6'},\n",
      "            {'T1': {'date': '2018-07-08T10:30:11Z',\n",
      "                    'unit': 'µs',\n",
      "                    'value': 34.2},\n",
      "             'T2': {'date': '2018-07-08T10:31:12Z',\n",
      "                    'unit': 'µs',\n",
      "                    'value': 46.7},\n",
      "             'buffer': {'date': '2018-07-08T10:05:31Z',\n",
      "                        'unit': 'ns',\n",
      "                        'value': 10},\n",
      "             'frequency': {'date': '2018-07-08T10:05:31Z',\n",
      "                           'units': 'GHz',\n",
      "                           'value': 5.2523221},\n",
      "             'gateTime': {'date': '2018-07-08T10:05:31Z',\n",
      "                          'unit': 'ns',\n",
      "                          'value': 80},\n",
      "             'name': 'Q7'},\n",
      "            {'T1': {'date': '2018-07-08T10:30:11Z',\n",
      "                    'unit': 'µs',\n",
      "                    'value': 52.1},\n",
      "             'T2': {'date': '2018-07-08T10:31:12Z',\n",
      "                    'unit': 'µs',\n",
      "                    'value': 76.9},\n",
      "             'buffer': {'date': '2018-07-08T10:05:31Z',\n",
      "                        'unit': 'ns',\n",
      "                        'value': 10},\n",
      "             'frequency': {'date': '2018-07-08T10:05:31Z',\n",
      "                           'units': 'GHz',\n",
      "                           'value': 5.1152048},\n",
      "             'gateTime': {'date': '2018-07-08T10:05:31Z',\n",
      "                          'unit': 'ns',\n",
      "                          'value': 80},\n",
      "             'name': 'Q8'},\n",
      "            {'T1': {'date': '2018-07-08T10:30:11Z',\n",
      "                    'unit': 'µs',\n",
      "                    'value': 40.6},\n",
      "             'T2': {'date': '2018-07-08T10:31:12Z',\n",
      "                    'unit': 'µs',\n",
      "                    'value': 41.5},\n",
      "             'buffer': {'date': '2018-07-08T10:05:31Z',\n",
      "                        'unit': 'ns',\n",
      "                        'value': 10},\n",
      "             'frequency': {'date': '2018-07-08T10:05:31Z',\n",
      "                           'units': 'GHz',\n",
      "                           'value': 5.1554215},\n",
      "             'gateTime': {'date': '2018-07-08T10:05:31Z',\n",
      "                          'unit': 'ns',\n",
      "                          'value': 80},\n",
      "             'name': 'Q9'},\n",
      "            {'T1': {'date': '2018-07-08T10:30:11Z',\n",
      "                    'unit': 'µs',\n",
      "                    'value': 37.3},\n",
      "             'T2': {'date': '2018-07-08T10:31:12Z',\n",
      "                    'unit': 'µs',\n",
      "                    'value': 49.5},\n",
      "             'buffer': {'date': '2018-07-08T10:05:31Z',\n",
      "                        'unit': 'ns',\n",
      "                        'value': 10},\n",
      "             'frequency': {'date': '2018-07-08T10:05:31Z',\n",
      "                           'units': 'GHz',\n",
      "                           'value': 5.0425591},\n",
      "             'gateTime': {'date': '2018-07-08T10:05:31Z',\n",
      "                          'unit': 'ns',\n",
      "                          'value': 80},\n",
      "             'name': 'Q10'},\n",
      "            {'T1': {'date': '2018-07-08T10:30:11Z', 'unit': 'µs', 'value': 60},\n",
      "             'T2': {'date': '2018-07-08T10:31:12Z',\n",
      "                    'unit': 'µs',\n",
      "                    'value': 108.8},\n",
      "             'buffer': {'date': '2018-07-08T10:05:31Z',\n",
      "                        'unit': 'ns',\n",
      "                        'value': 10},\n",
      "             'frequency': {'date': '2018-07-08T10:05:31Z',\n",
      "                           'units': 'GHz',\n",
      "                           'value': 5.110877},\n",
      "             'gateTime': {'date': '2018-07-08T10:05:31Z',\n",
      "                          'unit': 'ns',\n",
      "                          'value': 80},\n",
      "             'name': 'Q11'},\n",
      "            {'T1': {'date': '2018-07-08T10:30:11Z',\n",
      "                    'unit': 'µs',\n",
      "                    'value': 48.6},\n",
      "             'T2': {'date': '2018-07-08T10:31:12Z',\n",
      "                    'unit': 'µs',\n",
      "                    'value': 52.6},\n",
      "             'buffer': {'date': '2018-07-08T10:05:31Z',\n",
      "                        'unit': 'ns',\n",
      "                        'value': 10},\n",
      "             'frequency': {'date': '2018-07-08T10:05:31Z',\n",
      "                           'units': 'GHz',\n",
      "                           'value': 4.9468345},\n",
      "             'gateTime': {'date': '2018-07-08T10:05:31Z',\n",
      "                          'unit': 'ns',\n",
      "                          'value': 80},\n",
      "             'name': 'Q12'},\n",
      "            {'T1': {'date': '2018-07-08T10:30:11Z',\n",
      "                    'unit': 'µs',\n",
      "                    'value': 53.7},\n",
      "             'T2': {'date': '2018-07-08T10:31:12Z',\n",
      "                    'unit': 'µs',\n",
      "                    'value': 89.4},\n",
      "             'buffer': {'date': '2018-07-08T10:05:31Z',\n",
      "                        'unit': 'ns',\n",
      "                        'value': 10},\n",
      "             'frequency': {'date': '2018-07-08T10:05:31Z',\n",
      "                           'units': 'GHz',\n",
      "                           'value': 5.0882581},\n",
      "             'gateTime': {'date': '2018-07-08T10:05:31Z',\n",
      "                          'unit': 'ns',\n",
      "                          'value': 80},\n",
      "             'name': 'Q13'},\n",
      "            {'T1': {'date': '2018-07-08T10:30:11Z',\n",
      "                    'unit': 'µs',\n",
      "                    'value': 38.3},\n",
      "             'T2': {'date': '2018-07-08T10:31:12Z',\n",
      "                    'unit': 'µs',\n",
      "                    'value': 69.6},\n",
      "             'buffer': {'date': '2018-07-08T10:05:31Z',\n",
      "                        'unit': 'ns',\n",
      "                        'value': 10},\n",
      "             'frequency': {'date': '2018-07-08T10:05:31Z',\n",
      "                           'units': 'GHz',\n",
      "                           'value': 4.8704862},\n",
      "             'gateTime': {'date': '2018-07-08T10:05:31Z',\n",
      "                          'unit': 'ns',\n",
      "                          'value': 80},\n",
      "             'name': 'Q14'},\n",
      "            {'T1': {'date': '2018-07-08T10:30:11Z',\n",
      "                    'unit': 'µs',\n",
      "                    'value': 50.2},\n",
      "             'T2': {'date': '2018-07-08T10:31:12Z',\n",
      "                    'unit': 'µs',\n",
      "                    'value': 85.4},\n",
      "             'buffer': {'date': '2018-07-08T10:05:31Z',\n",
      "                        'unit': 'ns',\n",
      "                        'value': 10},\n",
      "             'frequency': {'date': '2018-07-08T10:05:31Z',\n",
      "                           'units': 'GHz',\n",
      "                           'value': 5.1047401},\n",
      "             'gateTime': {'date': '2018-07-08T10:05:31Z',\n",
      "                          'unit': 'ns',\n",
      "                          'value': 80},\n",
      "             'name': 'Q15'}]}\n"
     ]
    },
    {
     "name": "stdout",
     "output_type": "stream",
     "text": [
      "{'backend': 'ibmqx4',\n",
      " 'fridge_parameters': {'Temperature': {'date': '-', 'unit': '-', 'value': []},\n",
      "                       'cooldownDate': '2017-09-07'},\n",
      " 'last_update_date': '2018-07-09T01:56:39.000Z',\n",
      " 'qubits': [{'T1': {'date': '2018-07-09T01:56:39Z',\n",
      "                    'unit': 'µs',\n",
      "                    'value': 52.7},\n",
      "             'T2': {'date': '2018-07-09T01:56:39Z',\n",
      "                    'unit': 'µs',\n",
      "                    'value': 48.3},\n",
      "             'buffer': {'date': '2018-07-09T01:56:39Z',\n",
      "                        'unit': 'ns',\n",
      "                        'value': 10},\n",
      "             'frequency': {'date': '2018-07-09T01:56:39Z',\n",
      "                           'unit': 'GHz',\n",
      "                           'value': 5.24991},\n",
      "             'gateTime': {'date': '2018-07-09T01:56:39Z',\n",
      "                          'unit': 'ns',\n",
      "                          'value': 60},\n",
      "             'name': 'Q0'},\n",
      "            {'T1': {'date': '2018-07-09T01:56:39Z',\n",
      "                    'unit': 'µs',\n",
      "                    'value': 40.8},\n",
      "             'T2': {'date': '2018-07-09T01:56:39Z',\n",
      "                    'unit': 'µs',\n",
      "                    'value': 10.7},\n",
      "             'buffer': {'date': '2018-07-09T01:56:39Z',\n",
      "                        'unit': 'ns',\n",
      "                        'value': 10},\n",
      "             'frequency': {'date': '2018-07-09T01:56:39Z',\n",
      "                           'unit': 'GHz',\n",
      "                           'value': 5.29574},\n",
      "             'gateTime': {'date': '2018-07-09T01:56:39Z',\n",
      "                          'unit': 'ns',\n",
      "                          'value': 60},\n",
      "             'name': 'Q1'},\n",
      "            {'T1': {'date': '2018-07-09T01:56:39Z',\n",
      "                    'unit': 'µs',\n",
      "                    'value': 38.6},\n",
      "             'T2': {'date': '2018-07-09T01:56:39Z',\n",
      "                    'unit': 'µs',\n",
      "                    'value': 47.1},\n",
      "             'buffer': {'date': '2018-07-09T01:56:39Z',\n",
      "                        'unit': 'ns',\n",
      "                        'value': 10},\n",
      "             'frequency': {'date': '2018-07-09T01:56:39Z',\n",
      "                           'unit': 'GHz',\n",
      "                           'value': 5.35319},\n",
      "             'gateTime': {'date': '2018-07-09T01:56:39Z',\n",
      "                          'unit': 'ns',\n",
      "                          'value': 60},\n",
      "             'name': 'Q2'},\n",
      "            {'T1': {'date': '2018-07-09T01:56:39Z',\n",
      "                    'unit': 'µs',\n",
      "                    'value': 46.2},\n",
      "             'T2': {'date': '2018-07-09T01:56:39Z',\n",
      "                    'unit': 'µs',\n",
      "                    'value': 31.6},\n",
      "             'buffer': {'date': '2018-07-09T01:56:39Z',\n",
      "                        'unit': 'ns',\n",
      "                        'value': 10},\n",
      "             'frequency': {'date': '2018-07-09T01:56:39Z',\n",
      "                           'unit': 'GHz',\n",
      "                           'value': 5.43498},\n",
      "             'gateTime': {'date': '2018-07-09T01:56:39Z',\n",
      "                          'unit': 'ns',\n",
      "                          'value': 60},\n",
      "             'name': 'Q3'},\n",
      "            {'T1': {'date': '2018-07-09T01:56:39Z',\n",
      "                    'unit': 'µs',\n",
      "                    'value': 51.7},\n",
      "             'T2': {'date': '2018-07-09T01:56:39Z', 'unit': 'µs', 'value': 16},\n",
      "             'buffer': {'date': '2018-07-09T01:56:39Z',\n",
      "                        'unit': 'ns',\n",
      "                        'value': 10},\n",
      "             'frequency': {'date': '2018-07-09T01:56:39Z',\n",
      "                           'unit': 'GHz',\n",
      "                           'value': 5.17585},\n",
      "             'gateTime': {'date': '2018-07-09T01:56:39Z',\n",
      "                          'unit': 'ns',\n",
      "                          'value': 60},\n",
      "             'name': 'Q4'}]}\n",
      "{'backend': 'ibmqx2',\n",
      " 'fridge_parameters': {'Temperature': {'date': '2018-04-13T15:53:48Z',\n",
      "                                       'unit': 'K',\n",
      "                                       'value': 0.0159},\n",
      "                       'cooldownDate': '2017-05-07'},\n",
      " 'last_update_date': '2018-04-13T15:53:48.000Z',\n",
      " 'qubits': [{'T1': {'date': '2018-04-13T15:53:48Z',\n",
      "                    'unit': 'µs',\n",
      "                    'value': 62.4},\n",
      "             'T2': {'date': '2018-04-13T15:53:48Z',\n",
      "                    'unit': 'µs',\n",
      "                    'value': 77.5},\n",
      "             'buffer': {'date': '2018-04-13T15:53:48Z',\n",
      "                        'unit': 'ns',\n",
      "                        'value': 6.7},\n",
      "             'frequency': {'date': '2018-04-13T15:53:48Z',\n",
      "                           'unit': 'GHz',\n",
      "                           'value': 5.27603},\n",
      "             'gateTime': {'date': '2018-04-13T15:53:48Z',\n",
      "                          'unit': 'ns',\n",
      "                          'value': 83.3},\n",
      "             'name': 'Q0'},\n",
      "            {'T1': {'date': '2018-04-13T15:53:48Z',\n",
      "                    'unit': 'µs',\n",
      "                    'value': 55.1},\n",
      "             'T2': {'date': '2018-04-13T15:53:48Z', 'unit': 'µs', 'value': 64},\n",
      "             'buffer': {'date': '2018-04-13T15:53:48Z',\n",
      "                        'unit': 'ns',\n",
      "                        'value': 6.7},\n",
      "             'frequency': {'date': '2018-04-13T15:53:48Z',\n",
      "                           'unit': 'GHz',\n",
      "                           'value': 5.21223},\n",
      "             'gateTime': {'date': '2018-04-13T15:53:48Z',\n",
      "                          'unit': 'ns',\n",
      "                          'value': 83.3},\n",
      "             'name': 'Q1'},\n",
      "            {'T1': {'date': '2018-04-13T15:53:48Z',\n",
      "                    'unit': 'µs',\n",
      "                    'value': 48.4},\n",
      "             'T2': {'date': '2018-04-13T15:53:48Z',\n",
      "                    'unit': 'µs',\n",
      "                    'value': 54.7},\n",
      "             'buffer': {'date': '2018-04-13T15:53:48Z',\n",
      "                        'unit': 'ns',\n",
      "                        'value': 6.7},\n",
      "             'frequency': {'date': '2018-04-13T15:53:48Z',\n",
      "                           'unit': 'GHz',\n",
      "                           'value': 5.01542},\n",
      "             'gateTime': {'date': '2018-04-13T15:53:48Z',\n",
      "                          'unit': 'ns',\n",
      "                          'value': 83.3},\n",
      "             'name': 'Q2'},\n",
      "            {'T1': {'date': '2018-04-13T15:53:48Z', 'unit': 'µs', 'value': 59},\n",
      "             'T2': {'date': '2018-04-13T15:53:48Z',\n",
      "                    'unit': 'µs',\n",
      "                    'value': 57.3},\n",
      "             'buffer': {'date': '2018-04-13T15:53:48Z',\n",
      "                        'unit': 'ns',\n",
      "                        'value': 6.7},\n",
      "             'frequency': {'date': '2018-04-13T15:53:48Z',\n",
      "                           'unit': 'GHz',\n",
      "                           'value': 5.28059},\n",
      "             'gateTime': {'date': '2018-04-13T15:53:48Z',\n",
      "                          'unit': 'ns',\n",
      "                          'value': 83.3},\n",
      "             'name': 'Q3'},\n",
      "            {'T1': {'date': '2018-04-13T15:53:48Z',\n",
      "                    'unit': 'µs',\n",
      "                    'value': 53.3},\n",
      "             'T2': {'date': '2018-04-13T15:53:48Z',\n",
      "                    'unit': 'µs',\n",
      "                    'value': 36.4},\n",
      "             'buffer': {'date': '2018-04-13T15:53:48Z',\n",
      "                        'unit': 'ns',\n",
      "                        'value': 6.7},\n",
      "             'frequency': {'date': '2018-04-13T15:53:48Z',\n",
      "                           'unit': 'GHz',\n",
      "                           'value': 5.07116},\n",
      "             'gateTime': {'date': '2018-04-13T15:53:48Z',\n",
      "                          'unit': 'ns',\n",
      "                          'value': 83.3},\n",
      "             'name': 'Q4'}]}\n",
      "{}\n",
      "{}\n",
      "{}\n",
      "{}\n"
     ]
    }
   ],
   "source": [
    "for backend in backends:\n",
    "    pprint(backend.parameters)"
   ]
  },
  {
   "cell_type": "code",
   "execution_count": 15,
   "metadata": {},
   "outputs": [
    {
     "name": "stdout",
     "output_type": "stream",
     "text": [
      "{'backend': 'ibmqx5',\n",
      " 'last_update_date': '2018-07-08T11:44:49.000Z',\n",
      " 'multi_qubit_gates': [{'gateError': {'date': '2018-07-08T11:12:10Z',\n",
      "                                      'value': 0.04744202981165879},\n",
      "                        'name': 'CX1_0',\n",
      "                        'qubits': [1, 0],\n",
      "                        'type': 'CX'},\n",
      "                       {'gateError': {'date': '2018-07-08T11:44:49Z',\n",
      "                                      'value': 0.0457248442740415},\n",
      "                        'name': 'CX1_2',\n",
      "                        'qubits': [1, 2],\n",
      "                        'type': 'CX'},\n",
      "                       {'gateError': {'date': '2018-07-08T11:12:10Z',\n",
      "                                      'value': 0.03860667353420849},\n",
      "                        'name': 'CX2_3',\n",
      "                        'qubits': [2, 3],\n",
      "                        'type': 'CX'},\n",
      "                       {'gateError': {'date': '2018-07-08T11:44:49Z',\n",
      "                                      'value': 0.05156382596359482},\n",
      "                        'name': 'CX3_4',\n",
      "                        'qubits': [3, 4],\n",
      "                        'type': 'CX'},\n",
      "                       {'gateError': {'date': '2018-07-08T11:12:10Z',\n",
      "                                      'value': 0.0437613555591371},\n",
      "                        'name': 'CX3_14',\n",
      "                        'qubits': [3, 14],\n",
      "                        'type': 'CX'},\n",
      "                       {'gateError': {'date': '2018-07-08T11:44:49Z',\n",
      "                                      'value': 0.06248613226571936},\n",
      "                        'name': 'CX5_4',\n",
      "                        'qubits': [5, 4],\n",
      "                        'type': 'CX'},\n",
      "                       {'gateError': {'date': '2018-07-08T11:12:10Z',\n",
      "                                      'value': 0.04040179994926227},\n",
      "                        'name': 'CX6_5',\n",
      "                        'qubits': [6, 5],\n",
      "                        'type': 'CX'},\n",
      "                       {'gateError': {'date': '2018-07-08T11:12:10Z',\n",
      "                                      'value': 0.02842643373642062},\n",
      "                        'name': 'CX6_7',\n",
      "                        'qubits': [6, 7],\n",
      "                        'type': 'CX'},\n",
      "                       {'gateError': {'date': '2018-07-08T11:12:10Z',\n",
      "                                      'value': 0.029583289625483705},\n",
      "                        'name': 'CX6_11',\n",
      "                        'qubits': [6, 11],\n",
      "                        'type': 'CX'},\n",
      "                       {'gateError': {'date': '2018-07-08T11:44:49Z',\n",
      "                                      'value': 0.04596918578651468},\n",
      "                        'name': 'CX7_10',\n",
      "                        'qubits': [7, 10],\n",
      "                        'type': 'CX'},\n",
      "                       {'gateError': {'date': '2018-07-08T11:12:10Z',\n",
      "                                      'value': 0.0387732912613474},\n",
      "                        'name': 'CX8_7',\n",
      "                        'qubits': [8, 7],\n",
      "                        'type': 'CX'},\n",
      "                       {'gateError': {'date': '2018-07-08T11:12:10Z',\n",
      "                                      'value': 0.036720669086040575},\n",
      "                        'name': 'CX9_8',\n",
      "                        'qubits': [9, 8],\n",
      "                        'type': 'CX'},\n",
      "                       {'gateError': {'date': '2018-07-08T11:12:10Z',\n",
      "                                      'value': 0.044576979746190404},\n",
      "                        'name': 'CX9_10',\n",
      "                        'qubits': [9, 10],\n",
      "                        'type': 'CX'},\n",
      "                       {'gateError': {'date': '2018-07-08T11:12:10Z',\n",
      "                                      'value': 0.0427262119533916},\n",
      "                        'name': 'CX11_10',\n",
      "                        'qubits': [11, 10],\n",
      "                        'type': 'CX'},\n",
      "                       {'gateError': {'date': '2018-07-08T11:12:10Z',\n",
      "                                      'value': 0.049333696151656004},\n",
      "                        'name': 'CX12_5',\n",
      "                        'qubits': [12, 5],\n",
      "                        'type': 'CX'},\n",
      "                       {'gateError': {'date': '2018-07-08T11:12:10Z',\n",
      "                                      'value': 0.032502916762836426},\n",
      "                        'name': 'CX12_11',\n",
      "                        'qubits': [12, 11],\n",
      "                        'type': 'CX'},\n",
      "                       {'gateError': {'date': '2018-07-08T11:12:10Z',\n",
      "                                      'value': 0.030839263183030013},\n",
      "                        'name': 'CX12_13',\n",
      "                        'qubits': [12, 13],\n",
      "                        'type': 'CX'},\n",
      "                       {'gateError': {'date': '2018-07-08T11:12:10Z',\n",
      "                                      'value': 0.04418169133052738},\n",
      "                        'name': 'CX13_4',\n",
      "                        'qubits': [13, 4],\n",
      "                        'type': 'CX'},\n",
      "                       {'gateError': {'date': '2018-07-08T11:12:10Z',\n",
      "                                      'value': 0.04618814159195356},\n",
      "                        'name': 'CX13_14',\n",
      "                        'qubits': [13, 14],\n",
      "                        'type': 'CX'},\n",
      "                       {'gateError': {'date': '2018-07-08T11:12:10Z',\n",
      "                                      'value': 0.035893606500985414},\n",
      "                        'name': 'CX15_0',\n",
      "                        'qubits': [15, 0],\n",
      "                        'type': 'CX'},\n",
      "                       {'gateError': {'date': '2018-07-08T11:12:10Z',\n",
      "                                      'value': 0.038031033568150324},\n",
      "                        'name': 'CX15_2',\n",
      "                        'qubits': [15, 2],\n",
      "                        'type': 'CX'},\n",
      "                       {'gateError': {'date': '2018-07-08T11:12:10Z',\n",
      "                                      'value': 0.02948792581329096},\n",
      "                        'name': 'CX15_14',\n",
      "                        'qubits': [15, 14],\n",
      "                        'type': 'CX'}],\n",
      " 'qubits': [{'gateError': {'date': '2018-07-08T10:37:14Z',\n",
      "                           'value': 0.00215190169495999},\n",
      "             'name': 'Q0',\n",
      "             'readoutError': {'date': '2018-07-08T10:29:43Z',\n",
      "                              'value': 0.058499999999999996}},\n",
      "            {'gateError': {'date': '2018-07-08T10:37:14Z',\n",
      "                           'value': 0.0035888497168609645},\n",
      "             'name': 'Q1',\n",
      "             'readoutError': {'date': '2018-07-08T10:29:43Z', 'value': 0.0675}},\n",
      "            {'gateError': {'date': '2018-07-08T10:37:14Z',\n",
      "                           'value': 0.0031730262769800177},\n",
      "             'name': 'Q2',\n",
      "             'readoutError': {'date': '2018-07-08T10:29:43Z', 'value': 0.1452}},\n",
      "            {'gateError': {'date': '2018-07-08T10:37:14Z',\n",
      "                           'value': 0.002054963048636782},\n",
      "             'name': 'Q3',\n",
      "             'readoutError': {'date': '2018-07-08T10:29:43Z',\n",
      "                              'value': 0.04390000000000005}},\n",
      "            {'gateError': {'date': '2018-07-08T10:37:14Z',\n",
      "                           'value': 0.0025987128931648784},\n",
      "             'name': 'Q4',\n",
      "             'readoutError': {'date': '2018-07-08T10:29:43Z',\n",
      "                              'value': 0.07709999999999995}},\n",
      "            {'gateError': {'date': '2018-07-08T10:37:14Z',\n",
      "                           'value': 0.001952357268713123},\n",
      "             'name': 'Q5',\n",
      "             'readoutError': {'date': '2018-07-08T10:29:43Z', 'value': 0.0605}},\n",
      "            {'gateError': {'date': '2018-07-08T10:37:14Z',\n",
      "                           'value': 0.001655804495257318},\n",
      "             'name': 'Q6',\n",
      "             'readoutError': {'date': '2018-07-08T10:29:43Z',\n",
      "                              'value': 0.040899999999999936}},\n",
      "            {'gateError': {'date': '2018-07-08T10:37:14Z',\n",
      "                           'value': 0.0016987766517713165},\n",
      "             'name': 'Q7',\n",
      "             'readoutError': {'date': '2018-07-08T10:29:43Z',\n",
      "                              'value': 0.035599999999999965}},\n",
      "            {'gateError': {'date': '2018-07-08T10:37:14Z',\n",
      "                           'value': 0.001132404381390506},\n",
      "             'name': 'Q8',\n",
      "             'readoutError': {'date': '2018-07-08T10:29:43Z',\n",
      "                              'value': 0.056599999999999984}},\n",
      "            {'gateError': {'date': '2018-07-08T10:37:14Z',\n",
      "                           'value': 0.00339602097208902},\n",
      "             'name': 'Q9',\n",
      "             'readoutError': {'date': '2018-07-08T10:29:43Z',\n",
      "                              'value': 0.19290000000000007}},\n",
      "            {'gateError': {'date': '2018-07-08T10:37:14Z',\n",
      "                           'value': 0.0014613527166634777},\n",
      "             'name': 'Q10',\n",
      "             'readoutError': {'date': '2018-07-08T10:29:43Z',\n",
      "                              'value': 0.07279999999999998}},\n",
      "            {'gateError': {'date': '2018-07-08T10:37:14Z',\n",
      "                           'value': 0.0017172017080036017},\n",
      "             'name': 'Q11',\n",
      "             'readoutError': {'date': '2018-07-08T10:29:43Z',\n",
      "                              'value': 0.05400000000000005}},\n",
      "            {'gateError': {'date': '2018-07-08T10:37:14Z',\n",
      "                           'value': 0.0015757036684410086},\n",
      "             'name': 'Q12',\n",
      "             'readoutError': {'date': '2018-07-08T10:29:43Z',\n",
      "                              'value': 0.10370000000000001}},\n",
      "            {'gateError': {'date': '2018-07-08T10:37:14Z',\n",
      "                           'value': 0.0020954804069595045},\n",
      "             'name': 'Q13',\n",
      "             'readoutError': {'date': '2018-07-08T10:29:43Z', 'value': 0.0383}},\n",
      "            {'gateError': {'date': '2018-07-08T10:37:14Z',\n",
      "                           'value': 0.001607549296190336},\n",
      "             'name': 'Q14',\n",
      "             'readoutError': {'date': '2018-07-08T10:29:43Z',\n",
      "                              'value': 0.04920000000000002}},\n",
      "            {'gateError': {'date': '2018-07-08T10:37:14Z',\n",
      "                           'value': 0.0027305503138150833},\n",
      "             'name': 'Q15',\n",
      "             'readoutError': {'date': '2018-07-08T10:29:43Z',\n",
      "                              'value': 0.10189999999999999}}]}\n"
     ]
    },
    {
     "name": "stdout",
     "output_type": "stream",
     "text": [
      "{'backend': 'ibmqx4',\n",
      " 'last_update_date': '2018-07-09T01:56:39.000Z',\n",
      " 'multi_qubit_gates': [{'gateError': {'date': '2018-07-09T01:56:39Z',\n",
      "                                      'value': 0.03282856970898512},\n",
      "                        'name': 'CX1_0',\n",
      "                        'qubits': [1, 0],\n",
      "                        'type': 'CX'},\n",
      "                       {'gateError': {'date': '2018-07-09T01:56:39Z',\n",
      "                                      'value': 0.023654165328270943},\n",
      "                        'name': 'CX2_0',\n",
      "                        'qubits': [2, 0],\n",
      "                        'type': 'CX'},\n",
      "                       {'gateError': {'date': '2018-07-09T01:56:39Z',\n",
      "                                      'value': 0.06001720269731553},\n",
      "                        'name': 'CX2_1',\n",
      "                        'qubits': [2, 1],\n",
      "                        'type': 'CX'},\n",
      "                       {'gateError': {'date': '2018-07-09T01:56:39Z',\n",
      "                                      'value': 0.053153184044521934},\n",
      "                        'name': 'CX3_2',\n",
      "                        'qubits': [3, 2],\n",
      "                        'type': 'CX'},\n",
      "                       {'gateError': {'date': '2018-07-09T01:56:39Z',\n",
      "                                      'value': 0.036378087604557685},\n",
      "                        'name': 'CX3_4',\n",
      "                        'qubits': [3, 4],\n",
      "                        'type': 'CX'},\n",
      "                       {'gateError': {'date': '2018-07-09T01:56:39Z',\n",
      "                                      'value': 0.04357245145736044},\n",
      "                        'name': 'CX4_2',\n",
      "                        'qubits': [4, 2],\n",
      "                        'type': 'CX'}],\n",
      " 'qubits': [{'gateError': {'date': '2018-07-09T01:56:39Z',\n",
      "                           'value': 0.0006867731322012238},\n",
      "             'name': 'Q0',\n",
      "             'readoutError': {'date': '2018-07-09T01:56:39Z', 'value': 0.046}},\n",
      "            {'gateError': {'date': '2018-07-09T01:56:39Z',\n",
      "                           'value': 0.003177634685695707},\n",
      "             'name': 'Q1',\n",
      "             'readoutError': {'date': '2018-07-09T01:56:39Z', 'value': 0.066}},\n",
      "            {'gateError': {'date': '2018-07-09T01:56:39Z',\n",
      "                           'value': 0.0009443532335046134},\n",
      "             'name': 'Q2',\n",
      "             'readoutError': {'date': '2018-07-09T01:56:39Z', 'value': 0.021}},\n",
      "            {'gateError': {'date': '2018-07-09T01:56:39Z',\n",
      "                           'value': 0.001631340796924452},\n",
      "             'name': 'Q3',\n",
      "             'readoutError': {'date': '2018-07-09T01:56:39Z', 'value': 0.025}},\n",
      "            {'gateError': {'date': '2018-07-09T01:56:39Z',\n",
      "                           'value': 0.0014595792651160289},\n",
      "             'name': 'Q4',\n",
      "             'readoutError': {'date': '2018-07-09T01:56:39Z', 'value': 0.049}}]}\n",
      "{'backend': 'ibmqx2',\n",
      " 'last_update_date': '2018-04-13T15:53:48.000Z',\n",
      " 'multi_qubit_gates': [{'gateError': {'date': '2018-04-13T15:53:48Z',\n",
      "                                      'value': 0.02724902259050041},\n",
      "                        'name': 'CX0_1',\n",
      "                        'qubits': [0, 1],\n",
      "                        'type': 'CX'},\n",
      "                       {'gateError': {'date': '2018-04-13T15:53:48Z',\n",
      "                                      'value': 0.041787588869506564},\n",
      "                        'name': 'CX0_2',\n",
      "                        'qubits': [0, 2],\n",
      "                        'type': 'CX'},\n",
      "                       {'gateError': {'date': '2018-04-13T15:53:48Z',\n",
      "                                      'value': 0.03767722967662601},\n",
      "                        'name': 'CX1_2',\n",
      "                        'qubits': [1, 2],\n",
      "                        'type': 'CX'},\n",
      "                       {'gateError': {'date': '2018-04-13T15:53:48Z',\n",
      "                                      'value': 0.039730922592824625},\n",
      "                        'name': 'CX3_2',\n",
      "                        'qubits': [3, 2],\n",
      "                        'type': 'CX'},\n",
      "                       {'gateError': {'date': '2018-04-13T15:53:48Z',\n",
      "                                      'value': 0.03624140460989725},\n",
      "                        'name': 'CX3_4',\n",
      "                        'qubits': [3, 4],\n",
      "                        'type': 'CX'},\n",
      "                       {'gateError': {'date': '2018-04-13T15:53:48Z',\n",
      "                                      'value': 0.03508012699633578},\n",
      "                        'name': 'CX4_2',\n",
      "                        'qubits': [4, 2],\n",
      "                        'type': 'CX'}],\n",
      " 'qubits': [{'gateError': {'date': '2018-04-13T15:53:48Z',\n",
      "                           'value': 0.0013737021608475342},\n",
      "             'name': 'Q0',\n",
      "             'readoutError': {'date': '2018-04-13T15:53:48Z', 'value': 0.024}},\n",
      "            {'gateError': {'date': '2018-04-13T15:53:48Z',\n",
      "                           'value': 0.0013737021608475342},\n",
      "             'name': 'Q1',\n",
      "             'readoutError': {'date': '2018-04-13T15:53:48Z', 'value': 0.026}},\n",
      "            {'gateError': {'date': '2018-04-13T15:53:48Z',\n",
      "                           'value': 0.002232583111384412},\n",
      "             'name': 'Q2',\n",
      "             'readoutError': {'date': '2018-04-13T15:53:48Z', 'value': 0.03}},\n",
      "            {'gateError': {'date': '2018-04-13T15:53:48Z',\n",
      "                           'value': 0.0017172252255832077},\n",
      "             'name': 'Q3',\n",
      "             'readoutError': {'date': '2018-04-13T15:53:48Z', 'value': 0.022}},\n",
      "            {'gateError': {'date': '2018-04-13T15:53:48Z',\n",
      "                           'value': 0.0009443532335046134},\n",
      "             'name': 'Q4',\n",
      "             'readoutError': {'date': '2018-04-13T15:53:48Z', 'value': 0.045}}]}\n",
      "{}\n",
      "{}\n",
      "{}\n",
      "{}\n"
     ]
    }
   ],
   "source": [
    "for backend in backends:\n",
    "    pprint(backend.calibration)"
   ]
  },
  {
   "cell_type": "markdown",
   "metadata": {},
   "source": [
    "### The Jobs object\n",
    "\n",
    "To get a job first we must get a qobj which is a quantum object. This is a list of circuits compiled to a backend. To get this we have made a `compile` funtion that converts an array of circuits into a `qobj`. The reason this is an array is for current hardware lists of circuits are loaded onto the equipment at once and it is much more efficent to run this in a batch mode. The methods of the jobs object are:\n",
    "\n",
    "```\n",
    "status - returns the status.\n",
    "```\n",
    "```\n",
    "done - returns a bool true if done.\n",
    "```\n",
    "```\n",
    "id  - gets the job_id (not supported in the local provider yet).\n",
    "```\n",
    "```\n",
    "cancel - cancels the job (not supported on remote-public or local. Only supported on IBM Q premium devices).\n",
    "```\n",
    "```\n",
    "result - gets the results from the circuit run.\n",
    "```"
   ]
  },
  {
   "cell_type": "code",
   "execution_count": 16,
   "metadata": {},
   "outputs": [
    {
     "data": {
      "text/plain": [
       "<qiskit._instructionset.InstructionSet at 0xa11eb4ba8>"
      ]
     },
     "execution_count": 16,
     "metadata": {},
     "output_type": "execute_result"
    }
   ],
   "source": [
    "qr = QuantumRegister(3)\n",
    "cr = ClassicalRegister(3)\n",
    "circuit = QuantumCircuit(qr, cr)\n",
    "circuit.x(qr[0])\n",
    "circuit.x(qr[1])\n",
    "circuit.ccx(qr[0], qr[1], qr[2])\n",
    "circuit.cx(qr[0], qr[1])\n",
    "circuit.measure(qr, cr)"
   ]
  },
  {
   "cell_type": "code",
   "execution_count": 17,
   "metadata": {},
   "outputs": [],
   "source": [
    "my_backend = get_backend('local_qasm_simulator')"
   ]
  },
  {
   "cell_type": "code",
   "execution_count": 18,
   "metadata": {},
   "outputs": [],
   "source": [
    "qobj = compile(circuit, backend=my_backend, shots=1024)\n",
    "job = my_backend.run(qobj)"
   ]
  },
  {
   "cell_type": "code",
   "execution_count": 19,
   "metadata": {},
   "outputs": [
    {
     "data": {
      "text/plain": [
       "{'status': <JobStatus.RUNNING: 'job is actively running'>, 'status_msg': None}"
      ]
     },
     "execution_count": 19,
     "metadata": {},
     "output_type": "execute_result"
    }
   ],
   "source": [
    "job.status"
   ]
  },
  {
   "cell_type": "code",
   "execution_count": 20,
   "metadata": {},
   "outputs": [
    {
     "data": {
      "text/plain": [
       "True"
      ]
     },
     "execution_count": 20,
     "metadata": {},
     "output_type": "execute_result"
    }
   ],
   "source": [
    "job.done"
   ]
  },
  {
   "cell_type": "code",
   "execution_count": 21,
   "metadata": {},
   "outputs": [
    {
     "name": "stdout",
     "output_type": "stream",
     "text": [
      "{'101': 1024}\n"
     ]
    }
   ],
   "source": [
    "result = job.result()\n",
    "counts = result.get_counts()\n",
    "print(counts)"
   ]
  },
  {
   "cell_type": "code",
   "execution_count": 22,
   "metadata": {},
   "outputs": [],
   "source": [
    "my_backend = get_backend('ibmqx4')"
   ]
  },
  {
   "cell_type": "code",
   "execution_count": 23,
   "metadata": {},
   "outputs": [],
   "source": [
    "qobj = compile(circuit, backend=my_backend, shots=1024)\n",
    "job = my_backend.run(qobj)"
   ]
  },
  {
   "cell_type": "code",
   "execution_count": 24,
   "metadata": {},
   "outputs": [
    {
     "name": "stdout",
     "output_type": "stream",
     "text": [
      "Status @ 0 seconds\n",
      "{'job_id': None, 'status': <JobStatus.INITIALIZING: 'job is being initialized'>, 'status_msg': 'Job is initializing. Please, wait a moment.'}\n",
      "Status @ 10 seconds\n",
      "{'job_id': '5b42c4142dddcd00395845dd', 'status': <JobStatus.RUNNING: 'job is actively running'>, 'status_msg': 'job is actively running'}\n",
      "Status @ 20 seconds\n",
      "{'job_id': '5b42c4142dddcd00395845dd', 'status': <JobStatus.RUNNING: 'job is actively running'>, 'status_msg': 'job is actively running'}\n",
      "{'job_id': '5b42c4142dddcd00395845dd', 'status': <JobStatus.DONE: 'job has successfully run'>, 'status_msg': 'job has successfully run'}\n"
     ]
    }
   ],
   "source": [
    "lapse = 0\n",
    "interval = 10\n",
    "while not job.done:\n",
    "    print('Status @ {} seconds'.format(interval * lapse))\n",
    "    print(job.status)\n",
    "    time.sleep(interval)\n",
    "    lapse += 1\n",
    "print(job.status)"
   ]
  },
  {
   "cell_type": "code",
   "execution_count": 25,
   "metadata": {},
   "outputs": [
    {
     "data": {
      "text/plain": [
       "'5b42c4142dddcd00395845dd'"
      ]
     },
     "execution_count": 25,
     "metadata": {},
     "output_type": "execute_result"
    }
   ],
   "source": [
    "job.id"
   ]
  },
  {
   "cell_type": "code",
   "execution_count": 26,
   "metadata": {},
   "outputs": [
    {
     "name": "stdout",
     "output_type": "stream",
     "text": [
      "{'000': 25, '001': 115, '010': 25, '011': 48, '100': 57, '101': 668, '110': 31, '111': 55}\n"
     ]
    }
   ],
   "source": [
    "result = job.result()\n",
    "counts = result.get_counts()\n",
    "print(counts)"
   ]
  },
  {
   "cell_type": "code",
   "execution_count": 27,
   "metadata": {},
   "outputs": [
    {
     "data": {
      "image/png": "[encoded data removed]",
      "text/plain": [
       "<matplotlib.figure.Figure at 0xa11f47710>"
      ]
     },
     "metadata": {},
     "output_type": "display_data"
    }
   ],
   "source": [
    "plot_histogram(counts)"
   ]
  },
  {
   "cell_type": "code",
   "execution_count": null,
   "metadata": {},
   "outputs": [],
   "source": []
  }
 ],
 "metadata": {
  "anaconda-cloud": {},
  "kernelspec": {
   "display_name": "Python (QISKitenv)",
   "language": "python",
   "name": "qiskitenv"
  },
  "language_info": {
   "codemirror_mode": {
    "name": "ipython",
    "version": 3
   },
   "file_extension": ".py",
   "mimetype": "text/x-python",
   "name": "python",
   "nbconvert_exporter": "python",
   "pygments_lexer": "ipython3",
   "version": "3.6.5"
  }
 },
 "nbformat": 4,
 "nbformat_minor": 1
}
