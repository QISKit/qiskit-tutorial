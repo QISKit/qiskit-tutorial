{
 "cells": [
  {
   "cell_type": "markdown",
   "metadata": {},
   "source": [
    "<img src=\"../../images/QISKit.gif\" alt=\"Note: In order for images to show up in this jupyter notebook you need to select File => Trusted Notebook\" width=\"250 px\" align=\"left\">"
   ]
  },
  {
   "cell_type": "markdown",
   "metadata": {},
   "source": [
    "## _*Getting Started with QISKit*_ \n",
    "\n",
    "The latest version of this notebook is available on https://github.com/QISKit/qiskit-tutorial.\n",
    "\n",
    "***\n",
    "### Contributors\n",
    "Jay Gambetta, Ismael Faro, Andrew Cross, Ali Javadi"
   ]
  },
  {
   "cell_type": "markdown",
   "metadata": {},
   "source": [
    "## QISKit (Quantum Information Software developer Kit)\n",
    "\n",
    "This tutorial aims to explain how to use QISKit. We assume you have installed QISKit if not please look at [qiskit.org](http://www.qiskit.org) or the install [documentation](../INSTALL.md). \n",
    "\n",
    "QISKit is a Python software development kit that you can use to create your quantum computing programs based on circuits defined through the [OpenQASM 2.0](https://github.com/QISKit/qiskit-openqasm) specification, compile them, and execute them on several backends (real quantum processors online, simulators online, and simulators on local). For the online backends conects to the [IBM Q experience project](http://quantumexperience.ng.bluemix.net/).\n",
    "\n",
    "In addition to this tutorial, we have other tutorials that introduce you to more complex concepts directly related to quantum computing.\n",
    "\n",
    "More examples:\n",
    "- Familiarize yourself with the important concepts of [superposition and entanglement](../qis/superposition_and_entanglement.ipynb)."
   ]
  },
  {
   "cell_type": "markdown",
   "metadata": {},
   "source": [
    "## Basic Concept\n",
    "\n",
    "The basic concept of our quantum program is an array of quantum circuits. The program workflow consists of three stages: [Build](#sectionB), [Compile](#sectionC), and [Run](#sectionR). Build allows you to make different quantum circuits that represent the problem you are solving; Compile allows you to rewrite them to run on different backends (simulators/real chips of different [quantum volumes](http://ibm.biz/qiskit-quantum-volume), sizes, fidelity, etc); and Run launches the jobs.  After the jobs have been run, the data is collected. There are methods for putting this data together, depending on the program. This either gives you the answer you wanted, or allows you to make a better program for the next instance.\n",
    "\n",
    "### Building your program: Create it  <a id='sectionB'></a>\n",
    "\n",
    "First you need to import the QuantumProgram package from QISKit."
   ]
  },
  {
   "cell_type": "code",
   "execution_count": 1,
   "metadata": {
    "collapsed": true
   },
   "outputs": [],
   "source": [
    "# Checking the version of PYTHON; we only support > 3.5\n",
    "import sys\n",
    "if sys.version_info < (3,5):\n",
    "    raise Exception('Please use Python version 3.5 or greater.')\n",
    "    \n",
    "from qiskit import QuantumProgram\n",
    "\n",
    "try:\n",
    "    import Qconfig\n"
   ]
  },
  {
   "cell_type": "markdown",
   "metadata": {},
   "source": [
    "The basic elements needed for your first program are the QuantumProgram, a Circuit, a Quantum Register, and a Classical Register."
   ]
  },
  {
   "cell_type": "code",
   "execution_count": 2,
   "metadata": {
    "collapsed": true
   },
   "outputs": [],
   "source": [
    "# Creating Programs\n",
    "# create your first QuantumProgram object instance.\n",
    "qp = QuantumProgram()\n",
    "\n",
    "# Creating Registers\n",
    "# create your first Quantum Register called \"qr\" with 2 qubits \n",
    "qr = qp.create_quantum_register('q', 2)\n",
    "# create your first Classical Register  called \"cr\" with 2 bits\n",
    "cr = qp.create_classical_register('c', 2)\n",
    "\n",
    "# Creating Circuits\n",
    "# create your first Quantum Circuit called \"qc\" involving your Quantum Register \"qr\"\n",
    "# and your Classical Register \"cr\"\n",
    "qc = qp.create_circuit('Circuit', [qr], [cr])"
   ]
  },
  {
   "cell_type": "markdown",
   "metadata": {},
   "source": [
    "Another option for creating your QuantumProgram instance is to define a dictionary with all the necessary components of your program."
   ]
  },
  {
   "cell_type": "code",
   "execution_count": 3,
   "metadata": {
    "collapsed": true
   },
   "outputs": [],
   "source": [
    "Q_SPECS = {\n",
    "    'circuits': [{\n",
    "        'name': 'Circuit',\n",
    "        'quantum_registers': [{\n",
    "            'name': 'q',\n",
    "            'size': 4\n",
    "        }],\n",
    "        'classical_registers': [{\n",
    "            'name': 'c',\n",
    "            'size': 4\n",
    "        }]}],\n",
    "}"
   ]
  },
  {
   "cell_type": "markdown",
   "metadata": {},
   "source": [
    "The required element for a Program is a \"circuits\" array. Within \"circuits\", the required field is \"name\"; it can have several Quantum Registers and Classical Registers. Every register must have a name and the number of each element (qubits or bits).\n",
    "\n",
    "After that, you can use this dictionary definition as the specs of one QuantumProgram object to initialize it."
   ]
  },
  {
   "cell_type": "code",
   "execution_count": 4,
   "metadata": {
    "collapsed": true
   },
   "outputs": [],
   "source": [
    "qp = QuantumProgram(specs=Q_SPECS)"
   ]
  },
  {
   "cell_type": "markdown",
   "metadata": {},
   "source": [
    "You can also get every component from your new qp to use."
   ]
  },
  {
   "cell_type": "code",
   "execution_count": 5,
   "metadata": {
    "collapsed": true
   },
   "outputs": [],
   "source": [
    "# Get the components.\n",
    "\n",
    "# get the circuit by Name\n",
    "circuit = qp.get_circuit('Circuit')\n",
    "\n",
    "# get the Quantum Register by Name\n",
    "quantum_r = qp.get_quantum_register('q')\n",
    "\n",
    "# get the Classical Register by Name\n",
    "classical_r = qp.get_classical_register('c')"
   ]
  },
  {
   "cell_type": "markdown",
   "metadata": {},
   "source": [
    "### Building your program: Add Gates to your Circuit\n",
    "After you create the circuit with its registers, you can add gates to manipulate the registers. Below is a list of the gates you can use in the QX.\n",
    "\n",
    "You can find extensive information about these gates and how use them in our [Quantum Experience User Guide](https://quantumexperience.ng.bluemix.net/qstage/#/tutorial?sectionId=71972f437b08e12d1f465a8857f4514c&pageIndex=2). "
   ]
  },
  {
   "cell_type": "code",
   "execution_count": 6,
   "metadata": {},
   "outputs": [
    {
     "data": {
      "text/plain": [
       "<qiskit._instructionset.InstructionSet at 0x107d64198>"
      ]
     },
     "execution_count": 6,
     "metadata": {},
     "output_type": "execute_result"
    }
   ],
   "source": [
    "#Pauli gates\n",
    "\n",
    "# identity gate to qubit 0 in the Quantum Register \"qr\" \n",
    "circuit.iden(quantum_r[0])\n",
    "\n",
    "#Pauli X gate to qubit 1 in the Quantum Register \"qr\" \n",
    "circuit.x(quantum_r[1])\n",
    "\n",
    "# Pauli Y gate to qubit 2 in the Quantum Register \"qr\" \n",
    "circuit.y(quantum_r[2])\n",
    "\n",
    "# Pauli Z gate to qubit 3 in the Quantum Register \"qr\" \n",
    "circuit.z(quantum_r[3])\n",
    "\n",
    "# add a barrier to your circuit\n",
    "circuit.barrier()\n",
    "\n",
    "#Clifford gates\n",
    "\n",
    "# H (Hadamard) gate to the Quantum Register \"qr\" \n",
    "circuit.h(quantum_r)\n",
    "\n",
    "# S Phase gate to qubit 0\n",
    "circuit.s(quantum_r[0])\n",
    "\n",
    "# S^dagger Phase gate to qubit 1\n",
    "circuit.s(quantum_r[1]).inverse()\n",
    "\n",
    "# T Phase gate to qubit 2\n",
    "circuit.t(quantum_r[2])\n",
    "\n",
    "# T^dagger Phase gate to qubit 3\n",
    "circuit.t(quantum_r[3]).inverse()\n",
    "\n",
    "# Parameterized gates \n",
    "\n",
    "# first physical gate: u0(lambda) to qubit 0\n",
    "circuit.u0(0.3, quantum_r[0])\n",
    "\n",
    "# first physical gate: u1(lambda) to qubit 1\n",
    "circuit.u1(0.3, quantum_r[1])\n",
    "\n",
    "# second physical gate: u2(phi,lambda) to qubit 2\n",
    "circuit.u2(0.3, 0.2, quantum_r[2])\n",
    "\n",
    "# second physical gate: u3(theta,phi,lambda) to qubit 3\n",
    "circuit.u3(0.3, 0.2, 0.1, quantum_r[3])\n",
    "\n",
    "# rotation around the x-axis to qubit 0\n",
    "circuit.rx(0.2, quantum_r[0])\n",
    "\n",
    "# rotation around the y-axis to qubit 1\n",
    "circuit.ry(0.2, quantum_r[1])\n",
    "\n",
    "# rotation around the z-axis to qubit 2\n",
    "circuit.rz(0.2, quantum_r[2])\n",
    "\n",
    "# Multi-qubit gates\n",
    "\n",
    "# CNOT (Controlled-NOT) gate from qubit 0 to qubit 1\n",
    "circuit.cx(quantum_r[0], quantum_r[1])\n",
    "\n",
    "# Controlled-Z gate from qubit 2 to qubit 3\n",
    "circuit.cz(quantum_r[2], quantum_r[3])\n",
    "\n",
    "# Controlled-Y gate from qubit 0 to qubit 1\n",
    "circuit.cy(quantum_r[0], quantum_r[1])\n",
    "\n",
    "# SWAP gate from qubit 2 to qubit 3\n",
    "circuit.swap(quantum_r[2], quantum_r[3])\n",
    "\n",
    "# Controlled-H gate from qubit 0 to qubit 1\n",
    "circuit.ch(quantum_r[0], quantum_r[1])\n",
    "\n",
    "# Controlled-RZ gate from qubit 2 to qubit 3\n",
    "circuit.crz(0.1,quantum_r[2], quantum_r[3])\n",
    "\n",
    "# Controlled-U1 gate from qubit 0 to qubit 1\n",
    "circuit.cu1(0.1,quantum_r[0], quantum_r[1])\n",
    "\n",
    "# Controlled-U3 gate from qubit 2 to qubit 3\n",
    "circuit.cu3(0.1,0.2,0.3,quantum_r[2], quantum_r[3])\n",
    "\n",
    "# Toffoli gate from qubit 0,1 to qubit 2\n",
    "circuit.ccx(quantum_r[0], quantum_r[1], quantum_r[2])\n",
    "\n",
    "# Classical if, from qubit2 gate Z to classical bit 1\n",
    "circuit.z(quantum_r[2]).c_if(classical_r, 0)\n",
    "\n",
    "# measure gate from qr to cr\n",
    "circuit.measure(quantum_r, classical_r)"
   ]
  },
  {
   "cell_type": "markdown",
   "metadata": {},
   "source": [
    "If you want to see what circuits are in your program you can use the get_circuit_names()"
   ]
  },
  {
   "cell_type": "code",
   "execution_count": 7,
   "metadata": {},
   "outputs": [
    {
     "data": {
      "text/plain": [
       "dict_keys(['Circuit'])"
      ]
     },
     "execution_count": 7,
     "metadata": {},
     "output_type": "execute_result"
    }
   ],
   "source": [
    "qp.get_circuit_names()"
   ]
  },
  {
   "cell_type": "markdown",
   "metadata": {},
   "source": [
    "### Extract QASM\n",
    "\n",
    "You can obtain a QASM representation of your code."
   ]
  },
  {
   "cell_type": "code",
   "execution_count": 8,
   "metadata": {},
   "outputs": [
    {
     "name": "stdout",
     "output_type": "stream",
     "text": [
      "OPENQASM 2.0;\n",
      "include \"qelib1.inc\";\n",
      "qreg q[4];\n",
      "creg c[4];\n",
      "id q[0];\n",
      "x q[1];\n",
      "y q[2];\n",
      "z q[3];\n",
      "barrier q[0],q[1],q[2],q[3];\n",
      "h q[0];\n",
      "h q[1];\n",
      "h q[2];\n",
      "h q[3];\n",
      "s q[0];\n",
      "sdg q[1];\n",
      "t q[2];\n",
      "tdg q[3];\n",
      "u0(0.300000) q[0];\n",
      "u1(0.300000000000000) q[1];\n",
      "u2(0.300000000000000,0.200000000000000) q[2];\n",
      "u3(0.300000000000000,0.200000000000000,0.100000000000000) q[3];\n",
      "rx(0.200000000000000) q[0];\n",
      "ry(0.200000000000000) q[1];\n",
      "rz(0.200000000000000) q[2];\n",
      "cx q[0],q[1];\n",
      "cz q[2],q[3];\n",
      "cy q[0],q[1];\n",
      "swap q[2],q[3];\n",
      "ch q[0],q[1];\n",
      "crz(0.100000000000000) q[2],q[3];\n",
      "cu1(0.100000000000000) q[0],q[1];\n",
      "cu3(0.100000000000000,0.200000000000000,0.300000000000000) q[2],q[3];\n",
      "ccx q[0],q[1],q[2];\n",
      "if(c==0) z q[2];\n",
      "measure q[0] -> c[0];\n",
      "measure q[1] -> c[1];\n",
      "measure q[2] -> c[2];\n",
      "measure q[3] -> c[3];\n",
      "\n"
     ]
    }
   ],
   "source": [
    "# QASM from a program\n",
    "\n",
    "QASM_source = qp.get_qasm('Circuit')\n",
    "\n",
    "print(QASM_source)"
   ]
  },
  {
   "cell_type": "markdown",
   "metadata": {},
   "source": [
    "### Visualize Circuit\n",
    "\n",
    "You can visualize your circuit using QISKit's `circuit_drawer`, which plots the unrolled circuit in the specified basis.\n",
    "\n",
    "NOTE: To get this to work you need to make sure poppler is installed. A futrue addtions will be to have a all python version. "
   ]
  },
  {
   "cell_type": "code",
   "execution_count": 10,
   "metadata": {
    "scrolled": true
   },
   "outputs": [
    {
     "data": {
      "image/png": "[encoded data removed]",
      "text/plain": [
       "<PIL.Image.Image image mode=RGB size=2803x646 at 0x1037E9DA0>"
      ]
     },
     "execution_count": 10,
     "metadata": {},
     "output_type": "execute_result"
    }
   ],
   "source": [
    "from qiskit.tools.visualization import circuit_drawer\n",
    "circuit_drawer(circuit)"
   ]
  },
  {
   "cell_type": "markdown",
   "metadata": {},
   "source": [
    "### Compile and Run or Execute <a id='sectionC'></a>"
   ]
  },
  {
   "cell_type": "markdown",
   "metadata": {},
   "source": [
    "First we need to choose the backend. Lets start with the local simulator "
   ]
  },
  {
   "cell_type": "code",
   "execution_count": 11,
   "metadata": {
    "collapsed": true
   },
   "outputs": [],
   "source": [
    "backend = 'local_qasm_simulator' \n",
    "circuits = ['Circuit']  # Group of circuits to execute"
   ]
  },
  {
   "cell_type": "markdown",
   "metadata": {},
   "source": [
    "Next we need to compile the circuits into a quantum object which we call qobj"
   ]
  },
  {
   "cell_type": "code",
   "execution_count": 12,
   "metadata": {
    "collapsed": true
   },
   "outputs": [],
   "source": [
    "qobj=qp.compile(circuits, backend) # Compile your program"
   ]
  },
  {
   "cell_type": "markdown",
   "metadata": {},
   "source": [
    "Then you can run your program. Using wait and timeout we can check the execution result every 2 seconds and timeout if the job is not run in 240 seconds. "
   ]
  },
  {
   "cell_type": "code",
   "execution_count": 14,
   "metadata": {},
   "outputs": [
    {
     "name": "stdout",
     "output_type": "stream",
     "text": [
      "COMPLETED\n"
     ]
    }
   ],
   "source": [
    "result = qp.run(qobj, wait=2, timeout=240)\n",
    "print(result)"
   ]
  },
  {
   "cell_type": "markdown",
   "metadata": {},
   "source": [
    "When you run a program, the result will be a new object that contains the data, status, and a copy of the qobj. The status of the results can be obtained using print and will one of the follow:\n",
    "\n",
    "```\n",
    "JOB_STATUS = {\n",
    "    inProgress: 'RUNNING',\n",
    "    errorOnCreate: 'ERROR_CREATING_JOB',\n",
    "    errorExecuting: 'ERROR_RUNNING_JOB',\n",
    "    completed: 'COMPLETED'\n",
    "  };\n",
    "``` "
   ]
  },
  {
   "cell_type": "markdown",
   "metadata": {},
   "source": [
    "### Result\n",
    "You can access the result via the function \n",
    "\n",
    "```get_counts('name')```. "
   ]
  },
  {
   "cell_type": "code",
   "execution_count": 15,
   "metadata": {},
   "outputs": [
    {
     "data": {
      "text/plain": [
       "{'0000': 114,\n",
       " '0001': 81,\n",
       " '0010': 84,\n",
       " '0011': 74,\n",
       " '0100': 157,\n",
       " '0101': 124,\n",
       " '0110': 141,\n",
       " '0111': 35,\n",
       " '1000': 29,\n",
       " '1001': 25,\n",
       " '1010': 25,\n",
       " '1011': 15,\n",
       " '1100': 41,\n",
       " '1101': 33,\n",
       " '1110': 31,\n",
       " '1111': 15}"
      ]
     },
     "execution_count": 15,
     "metadata": {},
     "output_type": "execute_result"
    }
   ],
   "source": [
    "result.get_counts('Circuit')"
   ]
  },
  {
   "cell_type": "markdown",
   "metadata": {},
   "source": [
    "In addition to getting the number of times each output was seen, you can get the circuit which was run in QASM format.\n",
    "For this simulation, the compiled circuit is not much different from the input circuit. Each single-qubit gate has been expressed as a u1, u2, or u3 gate."
   ]
  },
  {
   "cell_type": "code",
   "execution_count": 16,
   "metadata": {},
   "outputs": [
    {
     "name": "stdout",
     "output_type": "stream",
     "text": [
      "OPENQASM 2.0;\n",
      "include \"qelib1.inc\";\n",
      "qreg q[4];\n",
      "creg c[4];\n",
      "id q[0];\n",
      "u3(3.14159265358979,0,3.14159265358979) q[1];\n",
      "u3(3.14159265358979,1.57079632679490,1.57079632679490) q[2];\n",
      "u1(3.14159265358979) q[3];\n",
      "barrier q[0],q[1],q[2],q[3];\n",
      "u2(0,3.14159265358979) q[0];\n",
      "u2(0,3.14159265358979) q[1];\n",
      "u2(0,3.14159265358979) q[2];\n",
      "u2(0,3.14159265358979) q[3];\n",
      "u1(1.57079632679490) q[0];\n",
      "u1(-1.57079632679490) q[1];\n",
      "u1(0.785398163397448) q[2];\n",
      "u1(-0.785398163397448) q[3];\n",
      "U(0,0,0) q[0];\n",
      "u1(0.300000000000000) q[1];\n",
      "u2(0.300000000000000,0.200000000000000) q[2];\n",
      "u3(0.300000000000000,0.200000000000000,0.100000000000000) q[3];\n",
      "u3(0.200000000000000,-1.57079632679490,1.57079632679490) q[0];\n",
      "u3(0.200000000000000,0,0) q[1];\n",
      "u1(0.200000000000000) q[2];\n",
      "cx q[0],q[1];\n",
      "u2(0,3.14159265358979) q[3];\n",
      "cx q[2],q[3];\n",
      "u2(0,3.14159265358979) q[3];\n",
      "u1(-1.57079632679490) q[1];\n",
      "cx q[0],q[1];\n",
      "u1(1.57079632679490) q[1];\n",
      "cx q[2],q[3];\n",
      "cx q[3],q[2];\n",
      "cx q[2],q[3];\n",
      "u2(0,3.14159265358979) q[1];\n",
      "u1(-1.57079632679490) q[1];\n",
      "cx q[0],q[1];\n",
      "u2(0,3.14159265358979) q[1];\n",
      "u1(0.785398163397448) q[1];\n",
      "cx q[0],q[1];\n",
      "u1(0.785398163397448) q[1];\n",
      "u2(0,3.14159265358979) q[1];\n",
      "u1(1.57079632679490) q[1];\n",
      "u3(3.14159265358979,0,3.14159265358979) q[1];\n",
      "u1(1.57079632679490) q[0];\n",
      "u1(0.0500000000000000) q[3];\n",
      "cx q[2],q[3];\n",
      "u1(-0.0500000000000000) q[3];\n",
      "cx q[2],q[3];\n",
      "u1(0.0500000000000000) q[0];\n",
      "cx q[0],q[1];\n",
      "u1(-0.0500000000000000) q[1];\n",
      "cx q[0],q[1];\n",
      "u1(0.0500000000000000) q[1];\n",
      "u1(0.0500000000000000) q[3];\n",
      "cx q[2],q[3];\n",
      "u3(-0.0500000000000000,0,-0.250000000000000) q[3];\n",
      "cx q[2],q[3];\n",
      "u3(0.0500000000000000,0.200000000000000,0) q[3];\n",
      "u2(0,3.14159265358979) q[2];\n",
      "cx q[1],q[2];\n",
      "u1(-0.785398163397448) q[2];\n",
      "cx q[0],q[2];\n",
      "u1(0.785398163397448) q[2];\n",
      "cx q[1],q[2];\n",
      "u1(-0.785398163397448) q[2];\n",
      "cx q[0],q[2];\n",
      "u1(0.785398163397448) q[1];\n",
      "u1(0.785398163397448) q[2];\n",
      "u2(0,3.14159265358979) q[2];\n",
      "cx q[0],q[1];\n",
      "u1(0.785398163397448) q[0];\n",
      "u1(-0.785398163397448) q[1];\n",
      "cx q[0],q[1];\n",
      "if(c==0) u1(3.14159265358979) q[2];\n",
      "measure q[0] -> c[0];\n",
      "measure q[1] -> c[1];\n",
      "measure q[2] -> c[2];\n",
      "measure q[3] -> c[3];\n",
      "\n"
     ]
    }
   ],
   "source": [
    "ran_qasm = result.get_ran_qasm('Circuit')\n",
    "\n",
    "print(ran_qasm)"
   ]
  },
  {
   "cell_type": "markdown",
   "metadata": {},
   "source": [
    "You can use \n",
    "\n",
    "```qp.execute(circuits)```\n",
    "\n",
    "to combine the compile and run in a single step."
   ]
  },
  {
   "cell_type": "code",
   "execution_count": 17,
   "metadata": {},
   "outputs": [
    {
     "name": "stdout",
     "output_type": "stream",
     "text": [
      "COMPLETED\n"
     ]
    }
   ],
   "source": [
    "out = qp.execute(circuits, backend, wait=2, timeout=240)\n",
    "print(out)"
   ]
  },
  {
   "cell_type": "markdown",
   "metadata": {},
   "source": [
    "#### Compile Parameters\n",
    "```qp.compile(name_of_circuits, backend='local_qasm_simulator', config=None, basis_gates=None, coupling_map=None, initial_layout=None, shots=1024, max_credits=10, seed=None, qobj_id=None, hpc=None)```\n",
    "\n",
    "    - name_of_circuits (list[str]): circuit names to be compiled.\n",
    "    - backend (str): a string representing the backend to compile to\n",
    "    - config (dict): a dictionary of configurations parameters for the\n",
    "        compiler\n",
    "    - basis_gates (str): a comma seperated string and are the base gates,\n",
    "                       which by default are provided by the backend\n",
    "    - coupling_map (dict): A directed graph of coupling:\n",
    "    - initial_layout (dict): A mapping of qubit to qubit:\n",
    "    - shots (int): the number of shots \n",
    "    - max_credits (int): the max credits to use 3, or 5\n",
    "    - seed (int): the intial seed the simulatros use\n",
    "    - qobj_id (str): identifier of the qobj.\n",
    "    - hpc (dict): This will setup some parameter for\n",
    "                ibmqx_hpc_qasm_simulator, using a JSON-like format like:\n",
    "#### Run Parameters\n",
    "```qp.run(qobj, wait=5, timeout=60)```\n",
    "     - qobj (dict): the dictionary of the quantum object to run.\n",
    "     - wait (int): Time interval to wait between requests for results\n",
    "     - timeout (int): Total time to wait until the execution stops     \n",
    "#### Execute Parameters \n",
    "Execute has the combined parameters of compile and run.\n",
    "\n",
    "```qp.execute(name_of_circuits, backend='local_qasm_simulator', config=None, wait=5, timeout=60, basis_gates=None, coupling_map=None, initial_layout=None, shots=1024, max_credits=3, seed=None, hpc=None)\n",
    "```\n",
    "\n",
    "(**Tip**: You can obtain the above parameters in Jupyter. Simply place the text cursor on a function and press Shift+Tab)"
   ]
  },
  {
   "cell_type": "markdown",
   "metadata": {},
   "source": [
    "### Execute on a Real Device<a id='sectionR'></a>"
   ]
  },
  {
   "cell_type": "code",
   "execution_count": 17,
   "metadata": {},
   "outputs": [
    {
     "ename": "NameError",
     "evalue": "name 'Qconfig' is not defined",
     "output_type": "error",
     "traceback": [
      "\u001b[0;31m---------------------------------------------------------------------------\u001b[0m",
      "\u001b[0;31mNameError\u001b[0m                                 Traceback (most recent call last)",
      "\u001b[0;32m<ipython-input-17-cc81c3f9e2f2>\u001b[0m in \u001b[0;36m<module>\u001b[0;34m()\u001b[0m\n\u001b[0;32m----> 1\u001b[0;31m \u001b[0mqp\u001b[0m\u001b[0;34m.\u001b[0m\u001b[0mset_api\u001b[0m\u001b[0;34m(\u001b[0m\u001b[0mQconfig\u001b[0m\u001b[0;34m.\u001b[0m\u001b[0mAPItoken\u001b[0m\u001b[0;34m,\u001b[0m \u001b[0mQconfig\u001b[0m\u001b[0;34m.\u001b[0m\u001b[0mconfig\u001b[0m\u001b[0;34m[\u001b[0m\u001b[0;34m'url'\u001b[0m\u001b[0;34m]\u001b[0m\u001b[0;34m)\u001b[0m \u001b[0;31m# set the APIToken and API url\u001b[0m\u001b[0;34m\u001b[0m\u001b[0m\n\u001b[0m\u001b[1;32m      2\u001b[0m \u001b[0mreal_device_backend\u001b[0m \u001b[0;34m=\u001b[0m \u001b[0;34m[\u001b[0m\u001b[0mbackend\u001b[0m \u001b[0;32mfor\u001b[0m \u001b[0mbackend\u001b[0m \u001b[0;32min\u001b[0m \u001b[0mqp\u001b[0m\u001b[0;34m.\u001b[0m\u001b[0monline_devices\u001b[0m\u001b[0;34m(\u001b[0m\u001b[0;34m)\u001b[0m \u001b[0;32mif\u001b[0m \u001b[0mqp\u001b[0m\u001b[0;34m.\u001b[0m\u001b[0mget_backend_configuration\u001b[0m\u001b[0;34m(\u001b[0m\u001b[0mbackend\u001b[0m\u001b[0;34m)\u001b[0m\u001b[0;34m[\u001b[0m\u001b[0;34m'n_qubits'\u001b[0m\u001b[0;34m]\u001b[0m \u001b[0;34m==\u001b[0m \u001b[0;36m5\u001b[0m \u001b[0;32mand\u001b[0m \u001b[0mqp\u001b[0m\u001b[0;34m.\u001b[0m\u001b[0mget_backend_status\u001b[0m\u001b[0;34m(\u001b[0m\u001b[0mbackend\u001b[0m\u001b[0;34m)\u001b[0m\u001b[0;34m[\u001b[0m\u001b[0;34m'available'\u001b[0m\u001b[0;34m]\u001b[0m \u001b[0;34m==\u001b[0m \u001b[0;32mTrue\u001b[0m\u001b[0;34m]\u001b[0m\u001b[0;34m\u001b[0m\u001b[0m\n\u001b[1;32m      3\u001b[0m \u001b[0;31m# find an appropriate real device backend that your APIToken has access to run that has 5 qubits and is available\u001b[0m\u001b[0;34m\u001b[0m\u001b[0;34m\u001b[0m\u001b[0m\n",
      "\u001b[0;31mNameError\u001b[0m: name 'Qconfig' is not defined"
     ]
    }
   ],
   "source": [
    "qp.set_api(Qconfig.APItoken, Qconfig.config['url']) # set the APIToken and API url\n",
    "real_device_backend = [backend for backend in qp.online_devices() if qp.get_backend_configuration(backend)['n_qubits'] == 5 and qp.get_backend_status(backend)['available'] == True]\n",
    "# find an appropriate real device backend that your APIToken has access to run that has 5 qubits and is available"
   ]
  },
  {
   "cell_type": "code",
   "execution_count": 21,
   "metadata": {
    "collapsed": true
   },
   "outputs": [],
   "source": [
    "backend = real_device_backend[0]  # Backend where you execute your program; in this case, on the real Quantum Chip online \n",
    "circuits = ['Circuit']   # Group of circuits to execute\n",
    "shots = 1024           # Number of shots to run the program (experiment); maximum is 8192 shots.\n",
    "max_credits = 3          # Maximum number of credits to spend on executions. \n",
    "\n",
    "result_real = qp.execute(circuits, backend=backend, shots=shots, max_credits=max_credits, wait=10, timeout=240)"
   ]
  },
  {
   "cell_type": "markdown",
   "metadata": {},
   "source": [
    "Like before, the counts from the execution can be obtained using ```get_counts('name')``` "
   ]
  },
  {
   "cell_type": "code",
   "execution_count": 19,
   "metadata": {},
   "outputs": [
    {
     "data": {
      "text/plain": [
       "{'00000': 46,\n",
       " '00001': 23,\n",
       " '00010': 12,\n",
       " '00011': 20,\n",
       " '00100': 336,\n",
       " '00101': 229,\n",
       " '00110': 242,\n",
       " '00111': 116}"
      ]
     },
     "execution_count": 19,
     "metadata": {},
     "output_type": "execute_result"
    }
   ],
   "source": [
    "result_real.get_counts('Circuit')"
   ]
  },
  {
   "cell_type": "code",
   "execution_count": 44,
   "metadata": {},
   "outputs": [
    {
     "ename": "FileNotFoundError",
     "evalue": "[Errno 2] No such file or directory: '../requirements.txt'",
     "output_type": "error",
     "traceback": [
      "\u001b[0;31m---------------------------------------------------------------------------\u001b[0m",
      "\u001b[0;31mFileNotFoundError\u001b[0m                         Traceback (most recent call last)",
      "\u001b[0;32m~/gitshare/qiskit-tutorial/version.ipynb\u001b[0m in \u001b[0;36m<module>\u001b[0;34m()\u001b[0m\n\u001b[0;32m----> 1\u001b[0;31m \u001b[0;32mfrom\u001b[0m \u001b[0mutils\u001b[0m \u001b[0;32mimport\u001b[0m \u001b[0mversion\u001b[0m\u001b[0;34m;\u001b[0m \u001b[0mversion\u001b[0m\u001b[0;34m.\u001b[0m\u001b[0mversion_information\u001b[0m\u001b[0;34m(\u001b[0m\u001b[0;34m)\u001b[0m\u001b[0;34m\u001b[0m\u001b[0m\n\u001b[0m",
      "\u001b[0;32m~/gitshare/qiskit-tutorial/utils/version.py\u001b[0m in \u001b[0;36mversion_information\u001b[0;34m(sdk_develop)\u001b[0m\n\u001b[1;32m     52\u001b[0m         \u001b[0mfilename\u001b[0m \u001b[0;34m=\u001b[0m \u001b[0;34m'../../requirements.txt'\u001b[0m\u001b[0;34m\u001b[0m\u001b[0m\n\u001b[1;32m     53\u001b[0m     \u001b[0mprint\u001b[0m\u001b[0;34m(\u001b[0m\u001b[0mfilename\u001b[0m\u001b[0;34m)\u001b[0m\u001b[0;34m\u001b[0m\u001b[0m\n\u001b[0;32m---> 54\u001b[0;31m     \u001b[0;32mwith\u001b[0m \u001b[0mopen\u001b[0m\u001b[0;34m(\u001b[0m\u001b[0mfilename\u001b[0m\u001b[0;34m,\u001b[0m \u001b[0;34m'r'\u001b[0m\u001b[0;34m)\u001b[0m \u001b[0;32mas\u001b[0m \u001b[0mrequirements_file\u001b[0m\u001b[0;34m:\u001b[0m\u001b[0;34m\u001b[0m\u001b[0m\n\u001b[0m\u001b[1;32m     55\u001b[0m \u001b[0;34m\u001b[0m\u001b[0m\n\u001b[1;32m     56\u001b[0m         \u001b[0mstr_requirements\u001b[0m \u001b[0;34m=\u001b[0m \u001b[0mrequirements_file\u001b[0m\u001b[0;34m.\u001b[0m\u001b[0mreadlines\u001b[0m\u001b[0;34m(\u001b[0m\u001b[0;34m)\u001b[0m\u001b[0;34m\u001b[0m\u001b[0m\n",
      "\u001b[0;31mFileNotFoundError\u001b[0m: [Errno 2] No such file or directory: '../requirements.txt'"
     ]
    }
   ],
   "source": [
    "%run \"../../version.ipynb\""
   ]
  },
  {
   "cell_type": "code",
   "execution_count": 45,
   "metadata": {},
   "outputs": [
    {
     "ename": "FileNotFoundError",
     "evalue": "[Errno 2] No such file or directory: '../requirements.txt'",
     "output_type": "error",
     "traceback": [
      "\u001b[0;31m---------------------------------------------------------------------------\u001b[0m",
      "\u001b[0;31mFileNotFoundError\u001b[0m                         Traceback (most recent call last)",
      "\u001b[0;32m<ipython-input-45-a1a6aaf0b50b>\u001b[0m in \u001b[0;36m<module>\u001b[0;34m()\u001b[0m\n\u001b[0;32m----> 1\u001b[0;31m \u001b[0;32mfrom\u001b[0m \u001b[0mutils\u001b[0m \u001b[0;32mimport\u001b[0m \u001b[0mversion\u001b[0m\u001b[0;34m;\u001b[0m \u001b[0mversion\u001b[0m\u001b[0;34m.\u001b[0m\u001b[0mversion_information\u001b[0m\u001b[0;34m(\u001b[0m\u001b[0;34m)\u001b[0m\u001b[0;34m\u001b[0m\u001b[0m\n\u001b[0m",
      "\u001b[0;32m~/gitshare/qiskit-tutorial/utils/version.py\u001b[0m in \u001b[0;36mversion_information\u001b[0;34m(sdk_develop)\u001b[0m\n\u001b[1;32m     52\u001b[0m         \u001b[0mfilename\u001b[0m \u001b[0;34m=\u001b[0m \u001b[0;34m'../../requirements.txt'\u001b[0m\u001b[0;34m\u001b[0m\u001b[0m\n\u001b[1;32m     53\u001b[0m \u001b[0;34m\u001b[0m\u001b[0m\n\u001b[0;32m---> 54\u001b[0;31m     \u001b[0;32mwith\u001b[0m \u001b[0mopen\u001b[0m\u001b[0;34m(\u001b[0m\u001b[0mfilename\u001b[0m\u001b[0;34m,\u001b[0m \u001b[0;34m'r'\u001b[0m\u001b[0;34m)\u001b[0m \u001b[0;32mas\u001b[0m \u001b[0mrequirements_file\u001b[0m\u001b[0;34m:\u001b[0m\u001b[0;34m\u001b[0m\u001b[0m\n\u001b[0m\u001b[1;32m     55\u001b[0m \u001b[0;34m\u001b[0m\u001b[0m\n\u001b[1;32m     56\u001b[0m         \u001b[0mstr_requirements\u001b[0m \u001b[0;34m=\u001b[0m \u001b[0mrequirements_file\u001b[0m\u001b[0;34m.\u001b[0m\u001b[0mreadlines\u001b[0m\u001b[0;34m(\u001b[0m\u001b[0;34m)\u001b[0m\u001b[0;34m\u001b[0m\u001b[0m\n",
      "\u001b[0;31mFileNotFoundError\u001b[0m: [Errno 2] No such file or directory: '../requirements.txt'"
     ]
    }
   ],
   "source": [
    "from utils import version; version.version_information()"
   ]
  },
  {
   "cell_type": "code",
   "execution_count": 31,
   "metadata": {},
   "outputs": [
    {
     "data": {
      "text/plain": [
       "'/Users/jaygambetta/gitshare/qiskit-tutorial/reference/tools'"
      ]
     },
     "execution_count": 31,
     "metadata": {},
     "output_type": "execute_result"
    }
   ],
   "source": [
    "pwd"
   ]
  },
  {
   "cell_type": "code",
   "execution_count": 34,
   "metadata": {},
   "outputs": [
    {
     "name": "stdout",
     "output_type": "stream",
     "text": [
      "../../requirements.txt\n"
     ]
    }
   ],
   "source": [
    "filename = '../../requirements.txt'\n",
    "print(filename)"
   ]
  },
  {
   "cell_type": "code",
   "execution_count": 35,
   "metadata": {},
   "outputs": [
    {
     "data": {
      "text/plain": [
       "<_io.TextIOWrapper name='../../requirements.txt' mode='r' encoding='UTF-8'>"
      ]
     },
     "execution_count": 35,
     "metadata": {},
     "output_type": "execute_result"
    }
   ],
   "source": [
    "open(filename, 'r')"
   ]
  },
  {
   "cell_type": "code",
   "execution_count": 37,
   "metadata": {},
   "outputs": [
    {
     "name": "stdout",
     "output_type": "stream",
     "text": [
      "['QISKit==0.4.10\\n', 'IBMQuantumExperience>=1.8.26\\n', 'numpy>=1.13,<1.14\\n', 'scipy>=0.19,<0.20\\n', 'matplotlib>=2.0,<2.1\\n']\n"
     ]
    }
   ],
   "source": [
    "with open(filename, 'r') as requirements_file:\n",
    "    print(requirements_file.readlines())"
   ]
  },
  {
   "cell_type": "code",
   "execution_count": 41,
   "metadata": {},
   "outputs": [
    {
     "name": "stdout",
     "output_type": "stream",
     "text": [
      "requirements.txt\n"
     ]
    }
   ],
   "source": [
    "from os import path\n",
    "filename = 'requirements.txt'\n",
    "if not path.exists(filename):\n",
    "    print(filename)"
   ]
  },
  {
   "cell_type": "code",
   "execution_count": null,
   "metadata": {
    "collapsed": true
   },
   "outputs": [],
   "source": []
  }
 ],
 "metadata": {
  "anaconda-cloud": {},
  "kernelspec": {
   "display_name": "Python 3",
   "language": "python",
   "name": "python3"
  },
  "language_info": {
   "codemirror_mode": {
    "name": "ipython",
    "version": 3
   },
   "file_extension": ".py",
   "mimetype": "text/x-python",
   "name": "python",
   "nbconvert_exporter": "python",
   "pygments_lexer": "ipython3",
   "version": "3.6.3"
  }
 },
 "nbformat": 4,
 "nbformat_minor": 1
}
