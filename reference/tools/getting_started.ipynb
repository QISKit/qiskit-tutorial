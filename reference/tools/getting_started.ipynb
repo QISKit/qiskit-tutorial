{
 "cells": [
  {
   "cell_type": "markdown",
   "metadata": {},
   "source": [
    "<img src=\"../../images/qiskit-heading.gif\" alt=\"Note: In order for images to show up in this jupyter notebook you need to select File => Trusted Notebook\" width=\"500 px\" align=\"left\">"
   ]
  },
  {
   "cell_type": "markdown",
   "metadata": {},
   "source": [
    "## _*Getting Started with QISKit*_ \n",
    "\n",
    "The latest version of this notebook is available on https://github.com/QISKit/qiskit-tutorial.\n",
    "\n",
    "***\n",
    "### Contributors\n",
    "Jay Gambetta, Ismael Faro, Andrew Cross, Ali Javadi"
   ]
  },
  {
   "cell_type": "markdown",
   "metadata": {},
   "source": [
    "## QISKit (Quantum Information Science Kit)\n",
    "\n",
    "This tutorial aims to explain how to use QISKit. We assume you have installed QISKit if not please look at [qiskit.org](http://www.qiskit.org) or the install [documentation](https://github.com/QISKit/qiskit-tutorial/blob/master/INSTALL.md). \n",
    "\n",
    "QISKit is a Python software development kit that you can use to create your quantum computing programs based on circuits defined through the [OpenQASM](https://github.com/QISKit/qiskit-openqasm) specification and execute them on several backends (real quantum processors online, simulators online, and simulators on local). For the online backends conects to the [IBM Q Experience project](http://quantumexperience.ng.bluemix.net/).\n",
    "\n",
    "In addition to this tutorial, we have other tutorials that introduce you to more complex concepts directly related to quantum computing.\n",
    "\n",
    "More examples:\n",
    "- Familiarize yourself with the important concepts of [superposition and entanglement](../qis/superposition_and_entanglement.ipynb)."
   ]
  },
  {
   "cell_type": "code",
   "execution_count": null,
   "metadata": {},
   "outputs": [],
   "source": [
    "import sys, time\n",
    "import getpass\n",
    "try:\n",
    "    sys.path.append(\"../../\") # go to parent dir\n",
    "    import Qconfig\n",
    "    qx_config = {\n",
    "        \"APItoken\": Qconfig.APItoken,\n",
    "        \"url\": Qconfig.config['url']}\n",
    "except:\n",
    "    APItoken = getpass.getpass('please enter your token: ')\n",
    "    qx_config = {\n",
    "        \"APItoken\": APItoken,\n",
    "        \"url\":\"https://quantumexperience.ng.bluemix.net/api\"}"
   ]
  },
  {
   "cell_type": "code",
   "execution_count": null,
   "metadata": {},
   "outputs": [],
   "source": [
    "from qiskit import QuantumCircuit, ClassicalRegister, QuantumRegister, QISKitError\n",
    "from qiskit import available_backends, execute, register, get_backend"
   ]
  },
  {
   "cell_type": "markdown",
   "metadata": {},
   "source": [
    "## Basic Concept\n",
    "\n",
    "The basic concept of our QISKit core is an array of quantum circuits. The workflow consists of three stages: [Build](#sectionB), [Compile](#sectionC), and [Run](#sectionR). Build allows you to make different quantum circuits that represent the problem you are solving; Compile allows you to rewrite them to run on different backends (simulators/real chips of different [quantum volumes](http://ibm.biz/qiskit-quantum-volume), sizes, fidelity, etc); and Run launches the jobs.  After the jobs have been run, the data is collected. There are methods for putting this data together, depending on the program. This either gives you the answer you wanted, or allows you to make a better program for the next instance.\n",
    "\n",
    "### Building your circuit: Create it  <a id='sectionB'></a>"
   ]
  },
  {
   "cell_type": "markdown",
   "metadata": {},
   "source": [
    "The basic elements needed for your first program are the QuantumCircuit, QuantumRegister, and ClassicalRegister."
   ]
  },
  {
   "cell_type": "code",
   "execution_count": null,
   "metadata": {},
   "outputs": [],
   "source": [
    "# Create a Quantum Register called \"q\" with 3 qubits\n",
    "qr = QuantumRegister(3)\n",
    "\n",
    "# Create a Classical Register called \"c\" with 3 bits\n",
    "cr = ClassicalRegister(3)\n",
    "\n",
    "# Create a Quantum Circuit called involving \"qr\" and \"cr\"\n",
    "circuit = QuantumCircuit(qr, cr)"
   ]
  },
  {
   "cell_type": "markdown",
   "metadata": {},
   "source": [
    "After you create the circuit with its registers, you can add gates to manipulate the registers. As you proceed though the tutorial you will find more quantum gates and circuits but the below is an example of the quantum half adder."
   ]
  },
  {
   "cell_type": "code",
   "execution_count": null,
   "metadata": {},
   "outputs": [],
   "source": [
    "# Not gate on qubit 0\n",
    "circuit.x(qr[0])\n",
    "\n",
    "# Not gate on qubit 1\n",
    "circuit.x(qr[1])\n",
    "\n",
    "# Barrier to seperator the input from the circuit\n",
    "circuit.barrier(qr[0])\n",
    "circuit.barrier(qr[1])\n",
    "circuit.barrier(qr[2])\n",
    "\n",
    "# Toffoli gate from qubit 0,1 to qubit 2\n",
    "circuit.ccx(qr[0], qr[1], qr[2])\n",
    "\n",
    "# CNOT (Controlled-NOT) gate from qubit 0 to qubit 1\n",
    "circuit.cx(qr[0], qr[1])\n",
    "\n",
    "# measure gate from qr to cr\n",
    "circuit.measure(qr, cr)"
   ]
  },
  {
   "cell_type": "markdown",
   "metadata": {},
   "source": [
    "### Extract OpenQASM\n",
    "\n",
    "You can obtain a OpenQASM representation of your code."
   ]
  },
  {
   "cell_type": "code",
   "execution_count": null,
   "metadata": {},
   "outputs": [],
   "source": [
    "# QASM from a program\n",
    "\n",
    "QASM_source = circuit.qasm()\n",
    "\n",
    "print(QASM_source)"
   ]
  },
  {
   "cell_type": "markdown",
   "metadata": {},
   "source": [
    "### Visualize Circuit\n",
    "\n",
    "You can visualize your circuit using QISKit's `circuit_drawer`, which plots the unrolled circuit in the specified basis.\n",
    "\n",
    "NOTE: To get this to work you need to make sure poppler is installed."
   ]
  },
  {
   "cell_type": "code",
   "execution_count": null,
   "metadata": {
    "scrolled": true
   },
   "outputs": [],
   "source": [
    "from qiskit.tools.visualization import circuit_drawer\n",
    "circuit_drawer(circuit)"
   ]
  },
  {
   "cell_type": "markdown",
   "metadata": {},
   "source": [
    "### Execute <a id='sectionC'></a>"
   ]
  },
  {
   "cell_type": "markdown",
   "metadata": {},
   "source": [
    "First we need to choose the backend. Lets start with the local simulator "
   ]
  },
  {
   "cell_type": "code",
   "execution_count": null,
   "metadata": {},
   "outputs": [],
   "source": [
    "backend = 'local_qasm_simulator' "
   ]
  },
  {
   "cell_type": "markdown",
   "metadata": {},
   "source": [
    "Next we need to run the circuit"
   ]
  },
  {
   "cell_type": "code",
   "execution_count": null,
   "metadata": {},
   "outputs": [],
   "source": [
    "# Create a Quantum Program for execution \n",
    "job = execute(circuit, backend)"
   ]
  },
  {
   "cell_type": "markdown",
   "metadata": {},
   "source": [
    "Execute compiles and runs the circuits\n",
    "\n",
    "```\n",
    "execute(name_of_circuits=None, backend='local_qasm_simulator', config=None, basis_gates=None, coupling_map=None, initial_layout=None, shots=1024, max_credits=3, seed=None, qobj_id=None, hpc=None, skip_translation=False)\n",
    "```\n",
    "\n",
    "(**Tip**: You can obtain the above parameters in Jupyter. Simply place the text cursor on a function and press Shift+Tab)\n",
    "\n",
    "When you run a program a job object is made\n",
    "\n",
    "```\n",
    "job.status\n",
    "```\n",
    "returns the status of the job\n",
    "\n",
    "```\n",
    "job.done\n",
    "``` \n",
    "is a bool the returns the Ture if the job is done\n",
    "\n",
    "```\n",
    "job.cancel\n",
    "``` \n",
    "cancels the job\n",
    "\n",
    "```\n",
    "job.result()\n",
    "``` \n",
    "returns the job result object"
   ]
  },
  {
   "cell_type": "code",
   "execution_count": null,
   "metadata": {},
   "outputs": [],
   "source": [
    "job.status"
   ]
  },
  {
   "cell_type": "code",
   "execution_count": null,
   "metadata": {},
   "outputs": [],
   "source": [
    "result = job.result()"
   ]
  },
  {
   "cell_type": "markdown",
   "metadata": {},
   "source": [
    "### Result\n",
    "You can access the result via the function \n",
    "\n",
    "```get_counts(circuit)```. "
   ]
  },
  {
   "cell_type": "code",
   "execution_count": null,
   "metadata": {},
   "outputs": [],
   "source": [
    "result.get_counts(circuit)"
   ]
  },
  {
   "cell_type": "markdown",
   "metadata": {},
   "source": [
    "### Execute on a Real Device<a id='sectionR'></a>\n",
    "\n",
    "To run it on a real device we need to register the IBMQ backends. For the public devices this can be done using \n",
    "\n",
    "```\n",
    "register(args,...)\n",
    "```"
   ]
  },
  {
   "cell_type": "code",
   "execution_count": null,
   "metadata": {},
   "outputs": [],
   "source": [
    "register(qx_config['APItoken'], qx_config['url'])"
   ]
  },
  {
   "cell_type": "code",
   "execution_count": null,
   "metadata": {},
   "outputs": [],
   "source": [
    "def lowest_pending_jobs():\n",
    "    \"\"\"Returns the backend with lowest pending jobs.\"\"\"\n",
    "    list_of_backends = available_backends(\n",
    "        {'local': False, 'simulator': False})\n",
    "    device_status = [get_backend(backend).status\n",
    "                     for backend in list_of_backends]\n",
    "\n",
    "    best = min([x for x in device_status if x['available'] is True],\n",
    "               key=lambda x: x['pending_jobs'])\n",
    "    return best['name']"
   ]
  },
  {
   "cell_type": "code",
   "execution_count": null,
   "metadata": {},
   "outputs": [],
   "source": [
    "backend = lowest_pending_jobs()\n",
    "print(\"the best backend is \" + backend)"
   ]
  },
  {
   "cell_type": "code",
   "execution_count": null,
   "metadata": {
    "scrolled": true
   },
   "outputs": [],
   "source": [
    "shots = 1024           # Number of shots to run the program (experiment); maximum is 8192 shots.\n",
    "max_credits = 3          # Maximum number of credits to spend on executions. \n",
    "\n",
    "job_exp = execute(circuit, backend=backend, shots=shots, max_credits=max_credits)"
   ]
  },
  {
   "cell_type": "code",
   "execution_count": null,
   "metadata": {},
   "outputs": [],
   "source": [
    "lapse = 0\n",
    "interval = 10\n",
    "while not job_exp.done:\n",
    "    print('Status @ {} seconds'.format(interval * lapse))\n",
    "    print(job_exp.status)\n",
    "    time.sleep(interval)\n",
    "    lapse += 1\n",
    "print(job_exp.status)"
   ]
  },
  {
   "cell_type": "code",
   "execution_count": null,
   "metadata": {},
   "outputs": [],
   "source": [
    "result_real = job_exp.result()"
   ]
  },
  {
   "cell_type": "markdown",
   "metadata": {},
   "source": [
    "Like before, the counts from the execution can be obtained using ```get_counts('name')``` "
   ]
  },
  {
   "cell_type": "code",
   "execution_count": null,
   "metadata": {},
   "outputs": [],
   "source": [
    "result_real.get_counts(circuit)"
   ]
  },
  {
   "cell_type": "markdown",
   "metadata": {},
   "source": [
    "The job ID can be obtained using the following which you can use later to get the job if your experiment takes longer to run then you have time to wait around."
   ]
  },
  {
   "cell_type": "code",
   "execution_count": null,
   "metadata": {},
   "outputs": [],
   "source": [
    "jobID = job_exp.job_id\n",
    "\n",
    "print('JOB ID: {}'.format(jobID))        "
   ]
  },
  {
   "cell_type": "code",
   "execution_count": null,
   "metadata": {},
   "outputs": [],
   "source": [
    "jobID"
   ]
  },
  {
   "cell_type": "code",
   "execution_count": null,
   "metadata": {},
   "outputs": [],
   "source": []
  }
 ],
 "metadata": {
  "anaconda-cloud": {},
  "kernelspec": {
   "display_name": "Python 3",
   "language": "python",
   "name": "python3"
  },
  "language_info": {
   "codemirror_mode": {
    "name": "ipython",
    "version": 3
   },
   "file_extension": ".py",
   "mimetype": "text/x-python",
   "name": "python",
   "nbconvert_exporter": "python",
   "pygments_lexer": "ipython3",
   "version": "3.6.4"
  }
 },
 "nbformat": 4,
 "nbformat_minor": 1
}
