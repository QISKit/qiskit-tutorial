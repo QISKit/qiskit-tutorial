{
 "cells": [
  {
   "cell_type": "markdown",
   "metadata": {},
   "source": [
    "<img src=\"../../images/QISKit.gif\" alt=\"Note: In order for images to show up in this jupyter notebook you need to select File => Trusted Notebook\" width=\"250 px\" align=\"left\">"
   ]
  },
  {
   "cell_type": "markdown",
   "metadata": {},
   "source": [
    "## _*Getting Started with QISKit*_ \n",
    "\n",
    "The latest version of this notebook is available on https://github.com/QISKit/qiskit-tutorial.\n",
    "\n",
    "***\n",
    "### Contributors\n",
    "Jay Gambetta, Ismael Faro, Andrew Cross, Ali Javadi"
   ]
  },
  {
   "cell_type": "markdown",
   "metadata": {},
   "source": [
    "## QISKit (Quantum Information Software developer Kit)\n",
    "\n",
    "This tutorial aims to explain how to use QISKit. We assume you have installed QISKit if not please look at [qiskit.org](http://www.qiskit.org) or the install [documentation](../INSTALL.md). \n",
    "\n",
    "QISKit is a Python software development kit that you can use to create your quantum computing programs based on circuits defined through the [OpenQASM 2.0](https://github.com/QISKit/qiskit-openqasm) specification, compile them, and execute them on several backends (real quantum processors online, simulators online, and simulators on local). For the online backends conects to the [IBM Q experience project](http://quantumexperience.ng.bluemix.net/).\n",
    "\n",
    "In addition to this tutorial, we have other tutorials that introduce you to more complex concepts directly related to quantum computing.\n",
    "\n",
    "More examples:\n",
    "- Familiarize yourself with the important concepts of [superposition and entanglement](../qis/superposition_and_entanglement.ipynb)."
   ]
  },
  {
   "cell_type": "markdown",
   "metadata": {},
   "source": [
    "## Basic Concept\n",
    "\n",
    "The basic concept of our quantum program is an array of quantum circuits. The program workflow consists of three stages: [Build](#sectionB), [Compile](#sectionC), and [Run](#sectionR). Build allows you to make different quantum circuits that represent the problem you are solving; Compile allows you to rewrite them to run on different backends (simulators/real chips of different [quantum volumes](http://ibm.biz/qiskit-quantum-volume), sizes, fidelity, etc); and Run launches the jobs.  After the jobs have been run, the data is collected. There are methods for putting this data together, depending on the program. This either gives you the answer you wanted, or allows you to make a better program for the next instance.\n",
    "\n",
    "### Building your program: Create it  <a id='sectionB'></a>\n",
    "\n",
    "First you need to import the QuantumProgram package from QISKit."
   ]
  },
  {
   "cell_type": "code",
   "execution_count": 59,
   "metadata": {},
   "outputs": [],
   "source": [
    "# Checking the version of PYTHON; we only support > 3.5\n",
    "import sys\n",
    "if sys.version_info < (3,5):\n",
    "    raise Exception('Please use Python version 3.5 or greater.')\n",
    "    \n",
    "import qiskit\n",
    "\n",
    "try:\n",
    "    sys.path.append(\"../../\") # go to parent dir\n",
    "    import Qconfig\n",
    "    qx_config = {\n",
    "        \"APItoken\": Qconfig.APItoken,\n",
    "        \"url\": Qconfig.url}\n",
    "except:\n",
    "    qx_config = {\n",
    "        \"APItoken\":\"YOUR_TOKEN_HERE\",\n",
    "        \"url\":\"https://quantumexperience.ng.bluemix.net/api\"}"
   ]
  },
  {
   "cell_type": "markdown",
   "metadata": {},
   "source": [
    "The basic elements needed for your first program are the QuantumProgram, a Circuit, a Quantum Register, and a Classical Register."
   ]
  },
  {
   "cell_type": "code",
   "execution_count": 60,
   "metadata": {},
   "outputs": [],
   "source": [
    "# Create a Quantum Register called \"q\" with 2 qubits\n",
    "qr = qiskit.QuantumRegister(\"q\", 2)\n",
    "# Create a Classical Register called \"c\" with 2 bits\n",
    "cr = qiskit.ClassicalRegister(\"cr\", 2)\n",
    "# Create a Quantum Circuit called involving \"qr\" and \"cr\"\n",
    "qc = qiskit.QuantumCircuit(qr, cr)\n",
    "\n",
    "\n",
    "# Create a Quantum Program for execution \n",
    "qp = qiskit.QuantumProgram()\n",
    "# Add the circuit you created to it, and call it the \"bell\" circuit.\n",
    "# (You can add multiple circuits to the same program, for batch execution)\n",
    "qp.add_circuit(\"Circuit\", qc)"
   ]
  },
  {
   "cell_type": "markdown",
   "metadata": {},
   "source": [
    "Another option for creating your QuantumProgram instance is to define a dictionary with all the necessary components of your program."
   ]
  },
  {
   "cell_type": "code",
   "execution_count": 61,
   "metadata": {},
   "outputs": [],
   "source": [
    "Q_SPECS = {\n",
    "    'circuits': [{\n",
    "        'name': 'Circuit',\n",
    "        'quantum_registers': [{\n",
    "            'name': 'q',\n",
    "            'size': 4\n",
    "        }],\n",
    "        'classical_registers': [{\n",
    "            'name': 'c',\n",
    "            'size': 4\n",
    "        }]}],\n",
    "}"
   ]
  },
  {
   "cell_type": "markdown",
   "metadata": {},
   "source": [
    "The required element for a Program is a \"circuits\" array. Within \"circuits\", the required field is \"name\"; it can have several Quantum Registers and Classical Registers. Every register must have a name and the number of each element (qubits or bits).\n",
    "\n",
    "After that, you can use this dictionary definition as the specs of one QuantumProgram object to initialize it."
   ]
  },
  {
   "cell_type": "code",
   "execution_count": 62,
   "metadata": {},
   "outputs": [],
   "source": [
    "qp = qiskit.QuantumProgram(specs=Q_SPECS)"
   ]
  },
  {
   "cell_type": "markdown",
   "metadata": {},
   "source": [
    "You can also get every component from your new qp to use."
   ]
  },
  {
   "cell_type": "code",
   "execution_count": 63,
   "metadata": {},
   "outputs": [],
   "source": [
    "# Get the components.\n",
    "\n",
    "# get the circuit by Name\n",
    "circuit = qp.get_circuit('Circuit')\n",
    "\n",
    "# get the Quantum Register by Name\n",
    "quantum_r = qp.get_quantum_register('q')\n",
    "\n",
    "# get the Classical Register by Name\n",
    "classical_r = qp.get_classical_register('c')"
   ]
  },
  {
   "cell_type": "markdown",
   "metadata": {},
   "source": [
    "### Building your program: Add Gates to your Circuit\n",
    "After you create the circuit with its registers, you can add gates to manipulate the registers. Below is a list of the gates you can use in the QX.\n",
    "\n",
    "You can find extensive information about these gates and how use them in our [Quantum Experience User Guide](https://quantumexperience.ng.bluemix.net/qstage/#/tutorial?sectionId=71972f437b08e12d1f465a8857f4514c&pageIndex=2). "
   ]
  },
  {
   "cell_type": "code",
   "execution_count": 64,
   "metadata": {},
   "outputs": [
    {
     "data": {
      "text/plain": [
       "<qiskit._instructionset.InstructionSet at 0x10eca9b38>"
      ]
     },
     "execution_count": 64,
     "metadata": {},
     "output_type": "execute_result"
    }
   ],
   "source": [
    "#Pauli gates\n",
    "\n",
    "# identity gate to qubit 0 in the Quantum Register \"qr\" \n",
    "circuit.iden(quantum_r[0])\n",
    "\n",
    "#Pauli X gate to qubit 1 in the Quantum Register \"qr\" \n",
    "circuit.x(quantum_r[1])\n",
    "\n",
    "# Pauli Y gate to qubit 2 in the Quantum Register \"qr\" \n",
    "circuit.y(quantum_r[2])\n",
    "\n",
    "# Pauli Z gate to qubit 3 in the Quantum Register \"qr\" \n",
    "circuit.z(quantum_r[3])\n",
    "\n",
    "# add a barrier to your circuit\n",
    "circuit.barrier()\n",
    "\n",
    "#Clifford gates\n",
    "\n",
    "# H (Hadamard) gate to the Quantum Register \"qr\" \n",
    "circuit.h(quantum_r)\n",
    "\n",
    "# S Phase gate to qubit 0\n",
    "circuit.s(quantum_r[0])\n",
    "\n",
    "# S^dagger Phase gate to qubit 1\n",
    "circuit.s(quantum_r[1]).inverse()\n",
    "\n",
    "# T Phase gate to qubit 2\n",
    "circuit.t(quantum_r[2])\n",
    "\n",
    "# T^dagger Phase gate to qubit 3\n",
    "circuit.t(quantum_r[3]).inverse()\n",
    "\n",
    "# Parameterized gates \n",
    "\n",
    "# first physical gate: u0(lambda) to qubit 0\n",
    "#circuit.u0(0.3, quantum_r[0])\n",
    "\n",
    "# first physical gate: u1(lambda) to qubit 1\n",
    "circuit.u1(0.3, quantum_r[1])\n",
    "\n",
    "# second physical gate: u2(phi,lambda) to qubit 2\n",
    "circuit.u2(0.3, 0.2, quantum_r[2])\n",
    "\n",
    "# second physical gate: u3(theta,phi,lambda) to qubit 3\n",
    "circuit.u3(0.3, 0.2, 0.1, quantum_r[3])\n",
    "\n",
    "# rotation around the x-axis to qubit 0\n",
    "circuit.rx(0.2, quantum_r[0])\n",
    "\n",
    "# rotation around the y-axis to qubit 1\n",
    "circuit.ry(0.2, quantum_r[1])\n",
    "\n",
    "# rotation around the z-axis to qubit 2\n",
    "circuit.rz(0.2, quantum_r[2])\n",
    "\n",
    "# Multi-qubit gates\n",
    "\n",
    "# CNOT (Controlled-NOT) gate from qubit 0 to qubit 1\n",
    "circuit.cx(quantum_r[0], quantum_r[1])\n",
    "\n",
    "# Controlled-Z gate from qubit 2 to qubit 3\n",
    "circuit.cz(quantum_r[2], quantum_r[3])\n",
    "\n",
    "# Controlled-Y gate from qubit 0 to qubit 1\n",
    "circuit.cy(quantum_r[0], quantum_r[1])\n",
    "\n",
    "# SWAP gate from qubit 2 to qubit 3\n",
    "circuit.swap(quantum_r[2], quantum_r[3])\n",
    "\n",
    "# Controlled-H gate from qubit 0 to qubit 1\n",
    "circuit.ch(quantum_r[0], quantum_r[1])\n",
    "\n",
    "# Controlled-RZ gate from qubit 2 to qubit 3\n",
    "circuit.crz(0.1,quantum_r[2], quantum_r[3])\n",
    "\n",
    "# Controlled-U1 gate from qubit 0 to qubit 1\n",
    "circuit.cu1(0.1,quantum_r[0], quantum_r[1])\n",
    "\n",
    "# Controlled-U3 gate from qubit 2 to qubit 3\n",
    "circuit.cu3(0.1,0.2,0.3,quantum_r[2], quantum_r[3])\n",
    "\n",
    "# Toffoli gate from qubit 0,1 to qubit 2\n",
    "circuit.ccx(quantum_r[0], quantum_r[1], quantum_r[2])\n",
    "\n",
    "# measure gate from qr to cr\n",
    "circuit.measure(quantum_r, classical_r)"
   ]
  },
  {
   "cell_type": "markdown",
   "metadata": {},
   "source": [
    "If you want to see what circuits are in your program you can use the get_circuit_names()"
   ]
  },
  {
   "cell_type": "code",
   "execution_count": 65,
   "metadata": {},
   "outputs": [
    {
     "data": {
      "text/plain": [
       "dict_keys(['Circuit'])"
      ]
     },
     "execution_count": 65,
     "metadata": {},
     "output_type": "execute_result"
    }
   ],
   "source": [
    "qp.get_circuit_names()"
   ]
  },
  {
   "cell_type": "markdown",
   "metadata": {},
   "source": [
    "### Extract QASM\n",
    "\n",
    "You can obtain a QASM representation of your code."
   ]
  },
  {
   "cell_type": "code",
   "execution_count": 66,
   "metadata": {},
   "outputs": [
    {
     "name": "stdout",
     "output_type": "stream",
     "text": [
      "OPENQASM 2.0;\n",
      "include \"qelib1.inc\";\n",
      "qreg q[4];\n",
      "creg c[4];\n",
      "id q[0];\n",
      "x q[1];\n",
      "y q[2];\n",
      "z q[3];\n",
      "barrier q[0],q[1],q[2],q[3];\n",
      "h q[0];\n",
      "h q[1];\n",
      "h q[2];\n",
      "h q[3];\n",
      "s q[0];\n",
      "sdg q[1];\n",
      "t q[2];\n",
      "tdg q[3];\n",
      "u1(0.300000000000000) q[1];\n",
      "u2(0.300000000000000,0.200000000000000) q[2];\n",
      "u3(0.300000000000000,0.200000000000000,0.100000000000000) q[3];\n",
      "rx(0.200000000000000) q[0];\n",
      "ry(0.200000000000000) q[1];\n",
      "rz(0.200000000000000) q[2];\n",
      "cx q[0],q[1];\n",
      "cz q[2],q[3];\n",
      "cy q[0],q[1];\n",
      "swap q[2],q[3];\n",
      "ch q[0],q[1];\n",
      "crz(0.100000000000000) q[2],q[3];\n",
      "cu1(0.100000000000000) q[0],q[1];\n",
      "cu3(0.100000000000000,0.200000000000000,0.300000000000000) q[2],q[3];\n",
      "ccx q[0],q[1],q[2];\n",
      "measure q[0] -> c[0];\n",
      "measure q[1] -> c[1];\n",
      "measure q[2] -> c[2];\n",
      "measure q[3] -> c[3];\n",
      "\n"
     ]
    }
   ],
   "source": [
    "# QASM from a program\n",
    "\n",
    "QASM_source = qp.get_qasm('Circuit')\n",
    "\n",
    "print(QASM_source)"
   ]
  },
  {
   "cell_type": "markdown",
   "metadata": {},
   "source": [
    "### Visualize Circuit\n",
    "\n",
    "You can visualize your circuit using QISKit's `circuit_drawer`, which plots the unrolled circuit in the specified basis.\n",
    "\n",
    "NOTE: To get this to work you need to make sure poppler is installed."
   ]
  },
  {
   "cell_type": "code",
   "execution_count": 67,
   "metadata": {
    "scrolled": true
   },
   "outputs": [
    {
     "data": {
      "image/png": "[encoded data removed]",
      "text/plain": [
       "<PIL.Image.Image image mode=RGB size=2689x646 at 0x15199EEF60>"
      ]
     },
     "execution_count": 67,
     "metadata": {},
     "output_type": "execute_result"
    }
   ],
   "source": [
    "from qiskit.tools.visualization import circuit_drawer\n",
    "circuit_drawer(circuit)"
   ]
  },
  {
   "cell_type": "markdown",
   "metadata": {},
   "source": [
    "### Compile and Run or Execute <a id='sectionC'></a>"
   ]
  },
  {
   "cell_type": "markdown",
   "metadata": {},
   "source": [
    "First we need to choose the backend. Lets start with the local simulator "
   ]
  },
  {
   "cell_type": "code",
   "execution_count": 68,
   "metadata": {},
   "outputs": [
    {
     "name": "stdout",
     "output_type": "stream",
     "text": [
      "(Local Backends)\n",
      "local_qasm_simulator\n",
      "local_unitary_simulator\n"
     ]
    }
   ],
   "source": [
    "local_backends = qiskit.backends.discover_local_backends()\n",
    "print(\"(Local Backends)\")\n",
    "for backend in local_backends:\n",
    "    print(backend)"
   ]
  },
  {
   "cell_type": "code",
   "execution_count": 69,
   "metadata": {},
   "outputs": [],
   "source": [
    "backend = 'local_qasm_simulator' \n",
    "circuits = ['Circuit']  # Group of circuits to execute"
   ]
  },
  {
   "cell_type": "markdown",
   "metadata": {},
   "source": [
    "Next we need to compile the circuits into a quantum object which we call qobj"
   ]
  },
  {
   "cell_type": "code",
   "execution_count": 70,
   "metadata": {},
   "outputs": [],
   "source": [
    "qobj=qp.compile(circuits, backend) # Compile your program"
   ]
  },
  {
   "cell_type": "markdown",
   "metadata": {},
   "source": [
    "Then you can run your program. Using wait and timeout we can check the execution result every 2 seconds and timeout if the job is not run in 240 seconds. "
   ]
  },
  {
   "cell_type": "code",
   "execution_count": 71,
   "metadata": {},
   "outputs": [
    {
     "name": "stdout",
     "output_type": "stream",
     "text": [
      "COMPLETED\n"
     ]
    }
   ],
   "source": [
    "result = qp.run(qobj, wait=2, timeout=240)\n",
    "print(result)"
   ]
  },
  {
   "cell_type": "markdown",
   "metadata": {},
   "source": [
    "When you run a program, the result will be a new object that contains the data, status, and a copy of the qobj. The status of the results can be obtained using print and will one of the follow:\n",
    "\n",
    "```\n",
    "JOB_STATUS = {\n",
    "    inProgress: 'RUNNING',\n",
    "    errorOnCreate: 'ERROR_CREATING_JOB',\n",
    "    errorExecuting: 'ERROR_RUNNING_JOB',\n",
    "    completed: 'COMPLETED'\n",
    "  };\n",
    "``` "
   ]
  },
  {
   "cell_type": "markdown",
   "metadata": {},
   "source": [
    "### Result\n",
    "You can access the result via the function \n",
    "\n",
    "```get_counts('name')```. "
   ]
  },
  {
   "cell_type": "code",
   "execution_count": 72,
   "metadata": {},
   "outputs": [
    {
     "data": {
      "text/plain": [
       "{'0000': 86,\n",
       " '0001': 75,\n",
       " '0010': 81,\n",
       " '0011': 79,\n",
       " '0100': 181,\n",
       " '0101': 116,\n",
       " '0110': 165,\n",
       " '0111': 37,\n",
       " '1000': 33,\n",
       " '1001': 28,\n",
       " '1010': 27,\n",
       " '1011': 7,\n",
       " '1100': 40,\n",
       " '1101': 32,\n",
       " '1110': 31,\n",
       " '1111': 6}"
      ]
     },
     "execution_count": 72,
     "metadata": {},
     "output_type": "execute_result"
    }
   ],
   "source": [
    "result.get_counts('Circuit')"
   ]
  },
  {
   "cell_type": "markdown",
   "metadata": {},
   "source": [
    "In addition to getting the number of times each output was seen, you can get the circuit which was run in QASM format.\n",
    "For this simulation, the compiled circuit is not much different from the input circuit. Each single-qubit gate has been expressed as a u1, u2, or u3 gate."
   ]
  },
  {
   "cell_type": "code",
   "execution_count": 73,
   "metadata": {},
   "outputs": [
    {
     "name": "stdout",
     "output_type": "stream",
     "text": [
      "OPENQASM 2.0;\n",
      "include \"qelib1.inc\";\n",
      "qreg q[4];\n",
      "creg c[4];\n",
      "id q[0];\n",
      "u3(3.14159265358979,0,3.14159265358979) q[1];\n",
      "u3(3.14159265358979,1.57079632679490,1.57079632679490) q[2];\n",
      "u1(3.14159265358979) q[3];\n",
      "barrier q[0],q[1],q[2],q[3];\n",
      "u2(0,3.14159265358979) q[0];\n",
      "u2(0,3.14159265358979) q[1];\n",
      "u2(0,3.14159265358979) q[2];\n",
      "u2(0,3.14159265358979) q[3];\n",
      "u1(1.57079632679490) q[0];\n",
      "u1(-1.57079632679490) q[1];\n",
      "u1(0.785398163397448) q[2];\n",
      "u1(-0.785398163397448) q[3];\n",
      "u1(0.300000000000000) q[1];\n",
      "u2(0.300000000000000,0.200000000000000) q[2];\n",
      "u3(0.300000000000000,0.200000000000000,0.100000000000000) q[3];\n",
      "u3(0.200000000000000,-1.57079632679490,1.57079632679490) q[0];\n",
      "u3(0.200000000000000,0,0) q[1];\n",
      "u1(0.200000000000000) q[2];\n",
      "cx q[0],q[1];\n",
      "u2(0,3.14159265358979) q[3];\n",
      "cx q[2],q[3];\n",
      "u2(0,3.14159265358979) q[3];\n",
      "u1(-1.57079632679490) q[1];\n",
      "cx q[0],q[1];\n",
      "u1(1.57079632679490) q[1];\n",
      "cx q[2],q[3];\n",
      "cx q[3],q[2];\n",
      "cx q[2],q[3];\n",
      "u2(0,3.14159265358979) q[1];\n",
      "u1(-1.57079632679490) q[1];\n",
      "cx q[0],q[1];\n",
      "u2(0,3.14159265358979) q[1];\n",
      "u1(0.785398163397448) q[1];\n",
      "cx q[0],q[1];\n",
      "u1(0.785398163397448) q[1];\n",
      "u2(0,3.14159265358979) q[1];\n",
      "u1(1.57079632679490) q[1];\n",
      "u3(3.14159265358979,0,3.14159265358979) q[1];\n",
      "u1(1.57079632679490) q[0];\n",
      "u1(0.0500000000000000) q[3];\n",
      "cx q[2],q[3];\n",
      "u1(-0.0500000000000000) q[3];\n",
      "cx q[2],q[3];\n",
      "u1(0.0500000000000000) q[0];\n",
      "cx q[0],q[1];\n",
      "u1(-0.0500000000000000) q[1];\n",
      "cx q[0],q[1];\n",
      "u1(0.0500000000000000) q[1];\n",
      "u1(0.0500000000000000) q[3];\n",
      "cx q[2],q[3];\n",
      "u3(-0.0500000000000000,0,-0.250000000000000) q[3];\n",
      "cx q[2],q[3];\n",
      "u3(0.0500000000000000,0.200000000000000,0) q[3];\n",
      "u2(0,3.14159265358979) q[2];\n",
      "cx q[1],q[2];\n",
      "u1(-0.785398163397448) q[2];\n",
      "cx q[0],q[2];\n",
      "u1(0.785398163397448) q[2];\n",
      "cx q[1],q[2];\n",
      "u1(-0.785398163397448) q[2];\n",
      "cx q[0],q[2];\n",
      "u1(0.785398163397448) q[1];\n",
      "u1(0.785398163397448) q[2];\n",
      "u2(0,3.14159265358979) q[2];\n",
      "cx q[0],q[1];\n",
      "u1(0.785398163397448) q[0];\n",
      "u1(-0.785398163397448) q[1];\n",
      "cx q[0],q[1];\n",
      "measure q[0] -> c[0];\n",
      "measure q[1] -> c[1];\n",
      "measure q[2] -> c[2];\n",
      "measure q[3] -> c[3];\n",
      "\n"
     ]
    }
   ],
   "source": [
    "ran_qasm = result.get_ran_qasm('Circuit')\n",
    "\n",
    "print(ran_qasm)"
   ]
  },
  {
   "cell_type": "markdown",
   "metadata": {},
   "source": [
    "You can use \n",
    "\n",
    "```qp.execute(circuits)```\n",
    "\n",
    "to combine the compile and run in a single step."
   ]
  },
  {
   "cell_type": "code",
   "execution_count": 74,
   "metadata": {},
   "outputs": [
    {
     "name": "stdout",
     "output_type": "stream",
     "text": [
      "COMPLETED\n"
     ]
    }
   ],
   "source": [
    "out = qp.execute(circuits, backend, wait=2, timeout=240)\n",
    "print(out)"
   ]
  },
  {
   "cell_type": "markdown",
   "metadata": {},
   "source": [
    "#### Compile Parameters\n",
    "```qp.compile(name_of_circuits, backend='local_qasm_simulator', config=None, basis_gates=None, coupling_map=None, initial_layout=None, shots=1024, max_credits=10, seed=None, qobj_id=None, hpc=None)```\n",
    "\n",
    "    - name_of_circuits (list[str]): circuit names to be compiled.\n",
    "    - backend (str): a string representing the backend to compile to\n",
    "    - config (dict): a dictionary of configurations parameters for the\n",
    "        compiler\n",
    "    - basis_gates (str): a comma seperated string and are the base gates,\n",
    "                       which by default are provided by the backend\n",
    "    - coupling_map (dict): A directed graph of coupling:\n",
    "    - initial_layout (dict): A mapping of qubit to qubit:\n",
    "    - shots (int): the number of shots \n",
    "    - max_credits (int): the max credits to use 3, or 5\n",
    "    - seed (int): the intial seed the simulatros use\n",
    "    - qobj_id (str): identifier of the qobj.\n",
    "    - hpc (dict): This will setup some parameter for\n",
    "                ibmqx_hpc_qasm_simulator, using a JSON-like format like:\n",
    "#### Run Parameters\n",
    "```qp.run(qobj, wait=5, timeout=60)```\n",
    "     - qobj (dict): the dictionary of the quantum object to run.\n",
    "     - wait (int): Time interval to wait between requests for results\n",
    "     - timeout (int): Total time to wait until the execution stops     \n",
    "#### Execute Parameters \n",
    "Execute has the combined parameters of compile and run.\n",
    "\n",
    "```qp.execute(name_of_circuits, backend='local_qasm_simulator', config=None, wait=5, timeout=60, basis_gates=None, coupling_map=None, initial_layout=None, shots=1024, max_credits=3, seed=None, hpc=None)\n",
    "```\n",
    "\n",
    "(**Tip**: You can obtain the above parameters in Jupyter. Simply place the text cursor on a function and press Shift+Tab)"
   ]
  },
  {
   "cell_type": "markdown",
   "metadata": {},
   "source": [
    "### Execute on a Real Device<a id='sectionR'></a>"
   ]
  },
  {
   "cell_type": "code",
   "execution_count": 75,
   "metadata": {},
   "outputs": [],
   "source": [
    "from IBMQuantumExperience import IBMQuantumExperience\n",
    "api = IBMQuantumExperience(token=qx_config['APItoken'], config={'url': qx_config['url']})"
   ]
  },
  {
   "cell_type": "code",
   "execution_count": 76,
   "metadata": {},
   "outputs": [
    {
     "name": "stdout",
     "output_type": "stream",
     "text": [
      "\n",
      "(Remote Backends)\n",
      "ibmqx2 {'available': False, 'busy': False, 'pending_jobs': 165, 'backend': 'ibmqx2'}\n",
      "ibmqx5 {'available': True, 'busy': False, 'pending_jobs': 0, 'backend': 'ibmqx5'}\n",
      "ibmqx4 {'available': True, 'busy': False, 'pending_jobs': 21, 'backend': 'ibmqx4'}\n",
      "ibmqx_hpc_qasm_simulator {'backend': 'ibmqx_hpc_qasm_simulator'}\n",
      "ibmqx_qasm_simulator {'available': False, 'busy': False, 'pending_jobs': 165, 'backend': 'ibmqx_qasm_simulator'}\n"
     ]
    }
   ],
   "source": [
    "remote_backends = qiskit.backends.discover_remote_backends(api)\n",
    "# see a list of available remote backends\n",
    "print(\"\\n(Remote Backends)\")\n",
    "for backend in remote_backends:\n",
    "    backend_status = api.backend_status(backend)\n",
    "    print(backend, backend_status)"
   ]
  },
  {
   "cell_type": "code",
   "execution_count": 77,
   "metadata": {
    "scrolled": true
   },
   "outputs": [],
   "source": [
    "backend = 'ibmqx4'  # Backend where you execute your program; in this case, on the real Quantum Chip online \n",
    "circuits = ['Circuit']   # Group of circuits to execute\n",
    "shots = 1024           # Number of shots to run the program (experiment); maximum is 8192 shots.\n",
    "max_credits = 3          # Maximum number of credits to spend on executions. \n",
    "\n",
    "result_real = qp.execute(circuits, backend=backend, shots=shots, max_credits=max_credits, wait=10, timeout=240)"
   ]
  },
  {
   "cell_type": "code",
   "execution_count": 82,
   "metadata": {},
   "outputs": [
    {
     "data": {
      "text/plain": [
       "{'basis_gates': 'u1,u2,u3,cx,id',\n",
       " 'coupling_map': 'all-to-all',\n",
       " 'description': 'A python simulator for qasm files',\n",
       " 'local': True,\n",
       " 'name': 'local_qasm_simulator',\n",
       " 'simulator': True,\n",
       " 'url': 'https://github.com/IBM/qiskit-sdk-py'}"
      ]
     },
     "execution_count": 82,
     "metadata": {},
     "output_type": "execute_result"
    }
   ],
   "source": [
    "qiskit.backends.get_backend_configuration('local_qasm_simulator')"
   ]
  },
  {
   "cell_type": "markdown",
   "metadata": {},
   "source": [
    "Like before, the counts from the execution can be obtained using ```get_counts('name')``` "
   ]
  },
  {
   "cell_type": "code",
   "execution_count": 78,
   "metadata": {},
   "outputs": [
    {
     "data": {
      "text/plain": [
       "{'00000': 113,\n",
       " '00001': 72,\n",
       " '00010': 56,\n",
       " '00011': 38,\n",
       " '00100': 114,\n",
       " '00101': 70,\n",
       " '00110': 71,\n",
       " '00111': 87,\n",
       " '10000': 46,\n",
       " '10001': 55,\n",
       " '10010': 38,\n",
       " '10011': 31,\n",
       " '10100': 69,\n",
       " '10101': 45,\n",
       " '10110': 48,\n",
       " '10111': 71}"
      ]
     },
     "execution_count": 78,
     "metadata": {},
     "output_type": "execute_result"
    }
   ],
   "source": [
    "result_real.get_counts('Circuit')"
   ]
  },
  {
   "cell_type": "code",
   "execution_count": 79,
   "metadata": {},
   "outputs": [
    {
     "data": {
      "text/html": [
       "<h2>Version information</h2>\n",
       "<p>Please note that this tutorial is targeted to the <b>stable</b> version of the QISKit. The following versions of the packages are recommended:</p>\n",
       "<table>\n",
       "<tr><th>Package</th><th colspan=\"2\">Version</th></tr>\n",
       "<tr><td>QISKit</td><td> 0.4.10</td></tr>\n",
       "<tr><td>IBMQuantumExperience</td><td>&gt;= 1.8.26</td></tr>\n",
       "<tr><td>numpy</td><td>&gt;= 1.13, &lt; 1.14</td></tr>\n",
       "<tr><td>scipy</td><td>&gt;= 0.19, &lt; 0.20</td></tr>\n",
       "<tr><td>matplotlib</td><td>&gt;= 2.0, &lt; 2.1</td></tr>\n",
       "</table>"
      ],
      "text/plain": [
       "<IPython.core.display.HTML object>"
      ]
     },
     "metadata": {},
     "output_type": "display_data"
    }
   ],
   "source": [
    "%run \"../../version.ipynb\""
   ]
  }
 ],
 "metadata": {
  "anaconda-cloud": {},
  "kernelspec": {
   "display_name": "Python 3",
   "language": "python",
   "name": "python3"
  },
  "language_info": {
   "codemirror_mode": {
    "name": "ipython",
    "version": 3
   },
   "file_extension": ".py",
   "mimetype": "text/x-python",
   "name": "python",
   "nbconvert_exporter": "python",
   "pygments_lexer": "ipython3",
   "version": "3.6.4"
  }
 },
 "nbformat": 4,
 "nbformat_minor": 1
}
