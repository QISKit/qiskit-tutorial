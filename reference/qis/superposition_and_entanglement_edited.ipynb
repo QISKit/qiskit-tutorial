{
 "cells": [
  {
   "cell_type": "markdown",
   "metadata": {},
   "source": [
    "<img src=\"../../images/QISKit.gif\" alt=\"Note: In order for images to show up in this jupyter notebook you need to select File => Trusted Notebook\" width=\"250 px\" align=\"left\">"
   ]
  },
  {
   "cell_type": "markdown",
   "metadata": {},
   "source": [
    "## _*Superposition and Entanglement*_ \n",
    "\n",
    "\n",
    "The latest version of this notebook is available on https://github.com/QISKit/qiskit-tutorial.\n",
    "\n",
    "***\n",
    "### Contributors\n",
    "Jay Gambetta, Antonio Córcoles, Andrew Cross, Anna Phan"
   ]
  },
  {
   "cell_type": "markdown",
   "metadata": {},
   "source": [
    "## Introduction\n",
    "Many people tend to think quantum physics is hard math, but this is not actually true. Quantum concepts are very similar to those seen in the linear algebra classes you may have taken as a freshman in college, or even in high school. The challenge of quantum physics is the necessity to accept counter-intuitive ideas, and its lack of a simple underlying theory. We believe that if you can grasp the following two Principles, you will have a good start: \n",
    "1. [A physical system in a perfectly definite state can still behave randomly.](#section1)\n",
    "2. [Two systems that are too far apart to influence each other can nevertheless behave in ways that, though individually random, are somehow strongly correlated.](#section2)"
   ]
  },
  {
   "cell_type": "markdown",
   "metadata": {},
   "source": [
    "## Getting Started\n",
    "Please see [Getting Started with QISKit](../tools/getting_started.ipynb) if you would like to understand how to get started with QISKit. This tutorial will be giving an introduction to superposition and entanglement. Note that all the examples will be run on a simulator to avoid the queues for running on a quantum processor, however, all examples can be run on `ibmqx2` and comments will be included to allow you to do so. "
   ]
  },
  {
   "cell_type": "code",
   "execution_count": 1,
   "metadata": {
    "collapsed": true
   },
   "outputs": [],
   "source": [
    "# Checking the version of PYTHON; we only support > 3.5\n",
    "import sys\n",
    "if sys.version_info < (3,5):\n",
    "    raise Exception('Please use Python version 3.5 or greater.')\n",
    "    \n",
    "# useful additional packages \n",
    "import matplotlib.pyplot as plt\n",
    "%matplotlib inline\n",
    "import numpy as np\n",
    "from pprint import pprint\n",
    "\n",
    "# importing the QISKit\n",
    "from qiskit import QuantumProgram\n",
    "\n",
    "# include if running on ibmqx2\n",
    "#import Qconfig\n",
    "\n",
    "# import basic plot tools\n",
    "from qiskit.tools.visualization import plot_histogram"
   ]
  },
  {
   "cell_type": "markdown",
   "metadata": {},
   "source": [
    "## Quantum States - Basis States and Superpositions<a id='section1'></a>\n",
    "\n",
    "The first Principle above tells us that the results of measuring a quantum state may be random or deterministic, depending on what basis is used. To demonstrate, we will first introduce the computational (or standard) basis for a qubit. \n",
    "\n",
    "The computational basis is the set containing the ground and excited state $\\{|0\\rangle,|1\\rangle\\}$, which also corresponds to the following vectors: \n",
    "\n",
    "$$|0\\rangle =\\begin{pmatrix} 1 \\\\ 0 \\end{pmatrix}$$\n",
    "$$|1\\rangle =\\begin{pmatrix} 0 \\\\ 1 \\end{pmatrix}$$\n",
    "\n",
    "In Python these are represented by"
   ]
  },
  {
   "cell_type": "code",
   "execution_count": 2,
   "metadata": {
    "collapsed": true
   },
   "outputs": [],
   "source": [
    "zero = np.array([[1],[0]])\n",
    "one = np.array([[0],[1]])"
   ]
  },
  {
   "cell_type": "markdown",
   "metadata": {},
   "source": [
    "In our quantum processor system (and many other physical quantum processors) it is natural for all qubits to start in the $|0\\rangle$ state, known as the ground state. To make the $|1\\rangle$ (or excited) state, we use the operator \n",
    "\n",
    "$$ X =\\begin{pmatrix} 0 & 1 \\\\ 1 & 0 \\end{pmatrix}.$$\n",
    "\n",
    "This $X$ operator is often called a bit-flip because it exactly implements the following:\n",
    "\n",
    "$$X: |0\\rangle  \\rightarrow  |1\\rangle$$\n",
    "$$X: |1\\rangle \\rightarrow |0\\rangle.$$\n",
    "\n",
    "In Python this can be represented by the following:"
   ]
  },
  {
   "cell_type": "code",
   "execution_count": 3,
   "metadata": {},
   "outputs": [
    {
     "name": "stdout",
     "output_type": "stream",
     "text": [
      "[[0]\n",
      " [1]]\n",
      "[[1]\n",
      " [0]]\n"
     ]
    }
   ],
   "source": [
    "X = np.array([[0,1],[1,0]])\n",
    "print(np.dot(X,zero))\n",
    "print(np.dot(X,one))"
   ]
  },
  {
   "cell_type": "markdown",
   "metadata": {},
   "source": [
    "Next, we give the two quantum circuits for preparing and measuring a single qubit in the ground and excited states using QISKit."
   ]
  },
  {
   "cell_type": "code",
   "execution_count": 4,
   "metadata": {},
   "outputs": [
    {
     "data": {
      "text/plain": [
       "['OPENQASM 2.0;\\ninclude \"qelib1.inc\";\\nqreg qr[1];\\ncreg cr[1];\\nmeasure qr[0] -> cr[0];\\n',\n",
       " 'OPENQASM 2.0;\\ninclude \"qelib1.inc\";\\nqreg qr[1];\\ncreg cr[1];\\nx qr[0];\\nmeasure qr[0] -> cr[0];\\n']"
      ]
     },
     "execution_count": 4,
     "metadata": {},
     "output_type": "execute_result"
    }
   ],
   "source": [
    "backend = 'local_qasm_simulator' # the backend to run on, \n",
    "#backend = 'ibmqx2' # include if running on ibmqx2\n",
    "shots = 1024    # the number of shots in the experiment \n",
    "\n",
    "Q_program = QuantumProgram()\n",
    "#Q_program.set_api(Qconfig.APItoken, Qconfig.config['url']) # include if running on ibmqx2\n",
    "\n",
    "# Creating registers\n",
    "qr = Q_program.create_quantum_register('qr', 1)\n",
    "cr = Q_program.create_classical_register('cr', 1)\n",
    "\n",
    "# Quantum circuit ground \n",
    "qc_ground = Q_program.create_circuit('ground', [qr], [cr])\n",
    "qc_ground.measure(qr[0], cr[0])\n",
    "\n",
    "# Quantum circuit excited \n",
    "qc_excited = Q_program.create_circuit('excited', [qr], [cr])\n",
    "qc_excited.x(qr)\n",
    "qc_excited.measure(qr[0], cr[0])\n",
    "\n",
    "circuits = ['ground', 'excited']\n",
    "\n",
    "Q_program.get_qasms(circuits)"
   ]
  },
  {
   "cell_type": "markdown",
   "metadata": {},
   "source": [
    "Here we have created two jobs with different quantum circuits; the first to prepare the ground state, and the second to prepare the excited state. Now we can run the prepared jobs."
   ]
  },
  {
   "cell_type": "code",
   "execution_count": 5,
   "metadata": {
    "collapsed": true,
    "scrolled": true
   },
   "outputs": [],
   "source": [
    "result = Q_program.execute(circuits, backend=backend, shots=shots, max_credits=3, wait=10, timeout=240)"
   ]
  },
  {
   "cell_type": "markdown",
   "metadata": {},
   "source": [
    "After the run has been completed, the data can be extracted from the API output and plotted."
   ]
  },
  {
   "cell_type": "code",
   "execution_count": 6,
   "metadata": {
    "scrolled": true
   },
   "outputs": [
    {
     "data": {
      "image/png": "[encoded data removed]",
      "text/plain": [
       "<matplotlib.figure.Figure at 0x10e6869e8>"
      ]
     },
     "metadata": {},
     "output_type": "display_data"
    }
   ],
   "source": [
    "plot_histogram(result.get_counts('ground'))"
   ]
  },
  {
   "cell_type": "code",
   "execution_count": 7,
   "metadata": {},
   "outputs": [
    {
     "data": {
      "image/png": "[encoded data removed]",
      "text/plain": [
       "<matplotlib.figure.Figure at 0x10e68d1d0>"
      ]
     },
     "metadata": {},
     "output_type": "display_data"
    }
   ],
   "source": [
    "plot_histogram(result.get_counts('excited'))"
   ]
  },
  {
   "cell_type": "markdown",
   "metadata": {},
   "source": [
    "Here we see that the qubit is in the $|0\\rangle$ state with 100% probability for the first circuit and in the $|1\\rangle$ state with 100% probability for the second circuit. If we had run on a quantum processor rather than the simulator, there would be a difference from the ideal perfect answer due to a combination of measurement error, preparation error, and gate error (for the $|1\\rangle$ state). \n",
    "\n",
    "Up to this point, nothing is different from a classical system of a bit. To go beyond, we must explore what it means to make a superposition. The operation in the quantum circuit language for generating a superposition is the Hadamard gate, $H$. Let's assume for now that this gate is like flipping a fair coin. The result of a flip has two possible outcomes, heads or tails, each occurring with equal probability. If we repeat this simple thought experiment many times, we would expect that on average we will measure as many heads as we do tails. Let heads be $|0\\rangle$ and tails be $|1\\rangle$. \n",
    "\n",
    "Let's run the quantum version of this experiment. First we prepare the qubit in the ground state $|0\\rangle$. We then apply the Hadamard gate (coin flip). Finally, we measure the state of the qubit. Repeat the experiment 1024 times (shots). As you likely predicted, half the outcomes will be in the $|0\\rangle$ state and half will be in the $|1\\rangle$ state.\n",
    "\n",
    "Try the program below."
   ]
  },
  {
   "cell_type": "code",
   "execution_count": 8,
   "metadata": {},
   "outputs": [
    {
     "data": {
      "image/png": "[encoded data removed]",
      "text/plain": [
       "<matplotlib.figure.Figure at 0x10eaee828>"
      ]
     },
     "metadata": {},
     "output_type": "display_data"
    }
   ],
   "source": [
    "# Quantum circuit superposition \n",
    "qc_superposition = Q_program.create_circuit('superposition', [qr], [cr])\n",
    "qc_superposition.h(qr)\n",
    "qc_superposition.measure(qr[0], cr[0])\n",
    "\n",
    "circuits = ['superposition']\n",
    "result = Q_program.execute(circuits, backend=backend, shots=shots, max_credits=3, wait=10, timeout=240)\n",
    "\n",
    "plot_histogram(result.get_counts('superposition'))"
   ]
  },
  {
   "cell_type": "markdown",
   "metadata": {},
   "source": [
    "Indeed, much like a coin flip, the results are close to 50/50 with some non-ideality due to sampling (due to not enough trials and thus seen in simulation) and errors (if run on a quantum processes, again due to state preparation, measurement, and gate errors). So far, this is still not unexpected. Let's run the experiment again, but this time with two $H$ gates in succession. If we consider the $H$ gate to be analog to a coin flip, here we would be flipping it twice, and still expecting a 50/50 distribution. "
   ]
  },
  {
   "cell_type": "code",
   "execution_count": 9,
   "metadata": {},
   "outputs": [
    {
     "data": {
      "image/png": "[encoded data removed]",
      "text/plain": [
       "<matplotlib.figure.Figure at 0x10e991748>"
      ]
     },
     "metadata": {},
     "output_type": "display_data"
    }
   ],
   "source": [
    "# Quantum circuit two Hadamards \n",
    "qc_twohadamard = Q_program.create_circuit('twohadamard', [qr], [cr])\n",
    "qc_twohadamard.h(qr)\n",
    "qc_twohadamard.barrier()\n",
    "qc_twohadamard.h(qr)\n",
    "qc_twohadamard.measure(qr[0], cr[0])\n",
    "\n",
    "circuits = ['twohadamard']\n",
    "result= Q_program.execute(circuits, backend=backend, shots=shots, max_credits=3, wait=10, timeout=240)\n",
    "\n",
    "plot_histogram(result.get_counts('twohadamard'))"
   ]
  },
  {
   "cell_type": "markdown",
   "metadata": {},
   "source": [
    "This time, the results are surprising. Unlike the classical case, with high probability the outcome is not random, but in the $|0\\rangle$ state. *Quantum randomness* is not simply like a classical random coin flip. In both of the above experiments, the system (without noise) is in a definite state, but only in the first case does it behave randomly. This is because, in the first case, via the $H$ gate, we make a uniform superposition of the ground and excited state, $(|0\\rangle+|1\\rangle)/\\sqrt{2}$, but then follow it with a measurement in the computational basis. The act of measurement in the computational basis forces the system to be in either the $|0\\rangle$ state or the $|1\\rangle$ state with an equal probability (due to the uniformity of the superposition). In the second case, we can think of the second $H$ gate as being a part of the final measurement operation; it changes the measurement basis from the computational basis to a *superposition* basis. The following equations illustrate the action of the $H$ gate on the computational basis states:\n",
    "$$H: |0\\rangle  \\rightarrow  |+\\rangle=\\frac{|0\\rangle+|1\\rangle}{\\sqrt{2}}$$\n",
    "$$H: |1\\rangle \\rightarrow |-\\rangle=\\frac{|0\\rangle-|1\\rangle}{\\sqrt{2}}.$$\n",
    "We can redefine this new transformed basis, the superposition basis, as the set {$|+\\rangle$, $|-\\rangle$}. We now have a different way of looking at the second experiment above. The first $H$ gate prepares the system into a superposition state, namely the $|+\\rangle$ state. The second $H$ gate followed by the standard measurement changes it into a measurement in the superposition basis. If the measurement gives 0, we can conclude that the system was in the $|+\\rangle$ state before the second $H$ gate, and if we obtain 1, it means the system was in the $|-\\rangle$ state. In the above experiment we see that the outcome is mainly 0, suggesting that our system was in the $|+\\rangle$ superposition state before the second $H$ gate. \n",
    "\n",
    "\n",
    "The math is best understood if we represent the quantum superposition state $|+\\rangle$ and $|-\\rangle$ by: \n",
    "\n",
    "$$|+\\rangle =\\frac{1}{\\sqrt{2}}\\begin{pmatrix} 1 \\\\ 1 \\end{pmatrix}$$\n",
    "$$|-\\rangle =\\frac{1}{\\sqrt{2}}\\begin{pmatrix} 1 \\\\ -1 \\end{pmatrix}$$\n",
    "\n",
    "A standard measurement, known in quantum mechanics as a projective or von Neumann measurement, takes any superposition state of the qubit and projects it to either the state $|0\\rangle$ or the state $|1\\rangle$ with a probability determined by:\n",
    "\n",
    "$$P(i|\\psi) = |\\langle i|\\psi\\rangle|^2$$ \n",
    "\n",
    "where $P(i|\\psi)$ is the probability of measuring the system in state $i$ given preparation $\\psi$.\n",
    "\n",
    "We have written the Python function ```state_overlap``` to return this: "
   ]
  },
  {
   "cell_type": "code",
   "execution_count": 10,
   "metadata": {
    "collapsed": true
   },
   "outputs": [],
   "source": [
    "state_overlap = lambda state1, state2: np.absolute(np.dot(state1.conj().T,state2))**2"
   ]
  },
  {
   "cell_type": "markdown",
   "metadata": {},
   "source": [
    "Now that we have a simple way of going from a state to the probability distribution of a standard measurement, we can go back to the case of a superposition made from the Hadamard gate. The Hadamard gate is defined by the matrix:\n",
    "\n",
    "$$ H =\\frac{1}{\\sqrt{2}}\\begin{pmatrix} 1 & 1 \\\\ 1 & -1 \\end{pmatrix}$$\n",
    "\n",
    "The $H$ gate acting on the state $|0\\rangle$ gives:"
   ]
  },
  {
   "cell_type": "code",
   "execution_count": 11,
   "metadata": {},
   "outputs": [
    {
     "data": {
      "image/png": "[encoded data removed]",
      "text/plain": [
       "<matplotlib.figure.Figure at 0x10ebe97b8>"
      ]
     },
     "metadata": {},
     "output_type": "display_data"
    }
   ],
   "source": [
    "Hadamard = np.array([[1,1],[1,-1]],dtype=complex)/np.sqrt(2)\n",
    "psi1 = np.dot(Hadamard,zero)\n",
    "P0 = state_overlap(zero,psi1)\n",
    "P1 = state_overlap(one,psi1)\n",
    "plot_histogram({'0' : P0, '1' : P1})"
   ]
  },
  {
   "cell_type": "markdown",
   "metadata": {},
   "source": [
    "which is the ideal version of the first superposition experiment. \n",
    "\n",
    "The second experiment involves applying the Hadamard gate twice. While matrix multiplication shows that the product of two Hadamards is the identity operator (meaning that the state $|0\\rangle$ remains unchanged), here (as previously mentioned) we prefer to interpret this as doing a measurement in the superposition basis. Using the above definitions, you can show that $H$ transforms the computational basis to the superposition basis."
   ]
  },
  {
   "cell_type": "code",
   "execution_count": 12,
   "metadata": {},
   "outputs": [
    {
     "name": "stdout",
     "output_type": "stream",
     "text": [
      "[[ 0.70710678+0.j]\n",
      " [ 0.70710678+0.j]]\n",
      "[[ 0.70710678+0.j]\n",
      " [-0.70710678+0.j]]\n"
     ]
    }
   ],
   "source": [
    "print(np.dot(Hadamard,zero))\n",
    "print(np.dot(Hadamard,one))"
   ]
  },
  {
   "cell_type": "markdown",
   "metadata": {},
   "source": [
    "## Entanglement<a id='section2'></a>\n",
    "\n",
    "The core idea behind the second Principle is *entanglement*. Upon reading the Principle, one might be inclined to think that entanglement is simply strong correlation between two entitities -- but entanglement goes well beyond mere perfect (classical) correlation. If you and I read the same paper, we will have learned the same information. If a third person comes along and reads the same paper they <i>also</i> will have learned this information. All three persons in this case are perfectly correlated, and they will remain correlated even if they are separated from each other. \n",
    "\n",
    "The situation with quantum entanglement is a bit more subtle. In the quantum world, you and I could read the same quantum paper, and yet we will not learn what information is actually contained in the paper until we get together and share our information. However, when we are together, we find that we can unlock more information from the paper than we initially thought possible. Thus, quantum entanglement goes much further than perfect correlation.\n",
    "\n",
    "To demonstrate this, we will define the controlled-NOT (CNOT) gate and the composition of two systems. The convention we use in the Quantum Experience is to label states by writing the first qubit's name in the rightmost position, thereby allowing us to easily convert from binary to decimal. As a result, we define the tensor product between operators $q_0$ and $q_1$ by $q_1\\otimes q_0$. \n",
    "\n",
    "Taking $q_0$ as the control and $q_1$ as the target, the CNOT with this representation is given by\n",
    "\n",
    "$$ CNOT =\\begin{pmatrix} 1 & 0 & 0 & 0\\\\ 0 & 0 & 0 & 1\\\\0& 0& 1 & 0\\\\0 & 1 & 0 & 0 \\end{pmatrix},$$\n",
    "\n",
    "which is non-standard in the quantum community, but more easily connects to classical computing, where the least significant bit (LSB) is typically on the right. An entangled state of the two qubits can be made via an $H$ gate on the control qubit, followed by the CNOT gate. This generates a particular maximally entangled two-qubit state known as a Bell state, named after John Stewart Bell ([learn more about Bell and his contributions to quantum physics and entanglement](https://en.wikipedia.org/wiki/John_Stewart_Bell)). \n"
   ]
  },
  {
   "cell_type": "markdown",
   "metadata": {},
   "source": [
    "To explore this, we can prepare an entangled state of two qubits, and then ask questions about the qubit states. The questions we can ask are:\n",
    "* What is the state of the first qubit in the standard basis?\n",
    "* What is the state of the first qubit in the superposition basis?\n",
    "* What is the state of the second qubit in the standard basis?\n",
    "* What is the state of the second qubit in the superposition basis?\n",
    "* What is the state of both qubits in the standard basis?\n",
    "* what is the state of both qubits in the superposition basis?\n",
    "\n",
    "Below is a program with six such circuits for these six questions."
   ]
  },
  {
   "cell_type": "code",
   "execution_count": 13,
   "metadata": {},
   "outputs": [
    {
     "data": {
      "text/plain": [
       "<qiskit._measure.Measure at 0x10ec3bf98>"
      ]
     },
     "execution_count": 13,
     "metadata": {},
     "output_type": "execute_result"
    }
   ],
   "source": [
    "backend = 'local_qasm_simulator' # the backend to run on, \n",
    "#backend = 'ibmqx2' # include if running on ibmqx2\n",
    "shots = 1024    # the number of shots in the experiment \n",
    "\n",
    "Q_program = QuantumProgram()\n",
    "#Q_program.set_api(Qconfig.APItoken, Qconfig.config['url']) # include if running on ibmqx2\n",
    "\n",
    "# Creating registers\n",
    "q2 = Q_program.create_quantum_register(\"q2\", 2)\n",
    "c2 = Q_program.create_classical_register(\"c2\", 2)\n",
    "\n",
    "# quantum circuit to make an entangled bell state \n",
    "bell = Q_program.create_circuit(\"bell\", [q2], [c2])\n",
    "bell.h(q2[0])\n",
    "bell.cx(q2[0], q2[1])\n",
    "\n",
    "# quantum circuit to measure q0 in the standard basis\n",
    "measureIZ = Q_program.create_circuit(\"measureIZ\", [q2], [c2])\n",
    "measureIZ.measure(q2[0], c2[0])\n",
    "\n",
    "# quantum circuit to measure q0 in the superposition basis \n",
    "measureIX = Q_program.create_circuit(\"measureIX\", [q2], [c2])\n",
    "measureIX.h(q2[0])\n",
    "measureIX.measure(q2[0], c2[0])\n",
    "\n",
    "# quantum circuit to measure q1 in the standard basis\n",
    "measureZI = Q_program.create_circuit(\"measureZI\", [q2], [c2])\n",
    "measureZI.measure(q2[1], c2[1])\n",
    "\n",
    "# quantum circuit to measure q1 in the superposition basis \n",
    "measureXI = Q_program.create_circuit(\"measureXI\", [q2], [c2])\n",
    "measureXI.h(q2[1])\n",
    "measureXI.measure(q2[1], c2[1])\n",
    "\n",
    "# quantum circuit to measure q in the standard basis \n",
    "measureZZ = Q_program.create_circuit(\"measureZZ\", [q2], [c2])\n",
    "measureZZ.measure(q2[0], c2[0])\n",
    "measureZZ.measure(q2[1], c2[1])\n",
    "\n",
    "# quantum circuit to measure q in the superposition basis \n",
    "measureXX = Q_program.create_circuit(\"measureXX\", [q2], [c2])\n",
    "measureXX.h(q2[0])\n",
    "measureXX.h(q2[1])\n",
    "measureXX.measure(q2[0], c2[0])\n",
    "measureXX.measure(q2[1], c2[1])"
   ]
  },
  {
   "cell_type": "code",
   "execution_count": 14,
   "metadata": {},
   "outputs": [
    {
     "data": {
      "text/plain": [
       "['OPENQASM 2.0;\\ninclude \"qelib1.inc\";\\nqreg q2[2];\\ncreg c2[2];\\nh q2[0];\\ncx q2[0],q2[1];\\nmeasure q2[0] -> c2[0];\\n',\n",
       " 'OPENQASM 2.0;\\ninclude \"qelib1.inc\";\\nqreg q2[2];\\ncreg c2[2];\\nh q2[0];\\ncx q2[0],q2[1];\\nh q2[0];\\nmeasure q2[0] -> c2[0];\\n',\n",
       " 'OPENQASM 2.0;\\ninclude \"qelib1.inc\";\\nqreg q2[2];\\ncreg c2[2];\\nh q2[0];\\ncx q2[0],q2[1];\\nmeasure q2[1] -> c2[1];\\n',\n",
       " 'OPENQASM 2.0;\\ninclude \"qelib1.inc\";\\nqreg q2[2];\\ncreg c2[2];\\nh q2[0];\\ncx q2[0],q2[1];\\nh q2[1];\\nmeasure q2[1] -> c2[1];\\n',\n",
       " 'OPENQASM 2.0;\\ninclude \"qelib1.inc\";\\nqreg q2[2];\\ncreg c2[2];\\nh q2[0];\\ncx q2[0],q2[1];\\nmeasure q2[0] -> c2[0];\\nmeasure q2[1] -> c2[1];\\n',\n",
       " 'OPENQASM 2.0;\\ninclude \"qelib1.inc\";\\nqreg q2[2];\\ncreg c2[2];\\nh q2[0];\\ncx q2[0],q2[1];\\nh q2[0];\\nh q2[1];\\nmeasure q2[0] -> c2[0];\\nmeasure q2[1] -> c2[1];\\n']"
      ]
     },
     "execution_count": 14,
     "metadata": {},
     "output_type": "execute_result"
    }
   ],
   "source": [
    "Q_program.add_circuit(\"bell_measureIZ\", bell+measureIZ )\n",
    "Q_program.add_circuit(\"bell_measureIX\", bell+measureIX )\n",
    "Q_program.add_circuit(\"bell_measureZI\", bell+measureZI )\n",
    "Q_program.add_circuit(\"bell_measureXI\", bell+measureXI )\n",
    "Q_program.add_circuit(\"bell_measureZZ\", bell+measureZZ )\n",
    "Q_program.add_circuit(\"bell_measureXX\", bell+measureXX )\n",
    "\n",
    "circuits = [\"bell_measureIZ\", \"bell_measureIX\", \"bell_measureZI\", \"bell_measureXI\", \"bell_measureZZ\", \"bell_measureXX\"]\n",
    "Q_program.get_qasms(circuits)"
   ]
  },
  {
   "cell_type": "markdown",
   "metadata": {},
   "source": [
    "Let's begin by running just the first two questions, looking at the results of the first qubit ($q_0$) using a computational and then a superposition measurement."
   ]
  },
  {
   "cell_type": "code",
   "execution_count": 15,
   "metadata": {},
   "outputs": [
    {
     "data": {
      "image/png": "[encoded data removed]",
      "text/plain": [
       "<matplotlib.figure.Figure at 0x10e555f60>"
      ]
     },
     "metadata": {},
     "output_type": "display_data"
    }
   ],
   "source": [
    "result = Q_program.execute(circuits[0:2], backend=backend, shots=shots, max_credits=3, wait=10, timeout=240)\n",
    "plot_histogram(result.get_counts(\"bell_measureIZ\"))"
   ]
  },
  {
   "cell_type": "code",
   "execution_count": 16,
   "metadata": {},
   "outputs": [
    {
     "data": {
      "text/plain": [
       "{'counts': {'00': 538, '01': 486}}"
      ]
     },
     "execution_count": 16,
     "metadata": {},
     "output_type": "execute_result"
    }
   ],
   "source": [
    "result.get_data(\"bell_measureIZ\")"
   ]
  },
  {
   "cell_type": "markdown",
   "metadata": {},
   "source": [
    "We find that the result is random. Half the time $q_0$ is in  $|0\\rangle$, and the other half it is in the $|1\\rangle$ state. You may wonder whether this is like the superposition from earlier in the tutorial. Maybe the qubit has a perfectly definite state, and we are simply measuring in another basis.  What would you expect if you did the experiment and measured in the superposition basis? Recall we do this by adding an $H$ gate before the measurement...which is exactly what we have checked with the second question."
   ]
  },
  {
   "cell_type": "code",
   "execution_count": 17,
   "metadata": {},
   "outputs": [
    {
     "data": {
      "image/png": "[encoded data removed]",
      "text/plain": [
       "<matplotlib.figure.Figure at 0x10ebf07f0>"
      ]
     },
     "metadata": {},
     "output_type": "display_data"
    }
   ],
   "source": [
    "plot_histogram(result.get_counts(\"bell_measureIX\"))"
   ]
  },
  {
   "cell_type": "markdown",
   "metadata": {},
   "source": [
    "In this case, we see that the result is still random, regardless of whether we measure in the computational or the superposition basis. This tells us that we actually know nothing about the first qubit. What about the second qubit, $q_1$? The next lines will run experiments measuring the second qubit in both the computational and superposition bases."
   ]
  },
  {
   "cell_type": "code",
   "execution_count": 18,
   "metadata": {},
   "outputs": [
    {
     "data": {
      "image/png": "[encoded data removed]",
      "text/plain": [
       "<matplotlib.figure.Figure at 0x10e4e6c88>"
      ]
     },
     "metadata": {},
     "output_type": "display_data"
    },
    {
     "data": {
      "image/png": "[encoded data removed]",
      "text/plain": [
       "<matplotlib.figure.Figure at 0x10e4c6e80>"
      ]
     },
     "metadata": {},
     "output_type": "display_data"
    }
   ],
   "source": [
    "result = Q_program.execute(circuits[2:4], backend=backend, shots=shots, max_credits=3, wait=10, timeout=240)\n",
    "plot_histogram(result.get_counts(\"bell_measureZI\"))\n",
    "plot_histogram(result.get_counts(\"bell_measureXI\"))"
   ]
  },
  {
   "cell_type": "markdown",
   "metadata": {},
   "source": [
    "Once again, all the experiments give random outcomes. It seems we know nothing about either qubit in our system! In our previous analogy, this is equivalent to two readers separately reading a quantum paper and extracting no information whatsoever from it on their own.\n",
    "\n",
    "What do you expect, however, when the readers get together?  Below we will measure both in the joint computational basis. "
   ]
  },
  {
   "cell_type": "code",
   "execution_count": 19,
   "metadata": {
    "collapsed": true
   },
   "outputs": [],
   "source": [
    "result = Q_program.execute(circuits[4:6], backend=backend, shots=shots, max_credits=3, wait=10, timeout=240)"
   ]
  },
  {
   "cell_type": "code",
   "execution_count": 20,
   "metadata": {},
   "outputs": [
    {
     "data": {
      "image/png": "[encoded data removed]",
      "text/plain": [
       "<matplotlib.figure.Figure at 0x10ec3b400>"
      ]
     },
     "metadata": {},
     "output_type": "display_data"
    }
   ],
   "source": [
    "plot_histogram(result.get_counts(\"bell_measureZZ\"))"
   ]
  },
  {
   "cell_type": "markdown",
   "metadata": {},
   "source": [
    "Here we see that with high probability, if $q_0$ is in state 0, $q_1$ will be in 0 as well; the same goes if $q_0$ is in state 1. They are perfectly correlated.\n",
    "\n",
    "What about if we measure both in the superposition basis?  "
   ]
  },
  {
   "cell_type": "code",
   "execution_count": 21,
   "metadata": {},
   "outputs": [
    {
     "data": {
      "image/png": "[encoded data removed]",
      "text/plain": [
       "<matplotlib.figure.Figure at 0x10ee310f0>"
      ]
     },
     "metadata": {},
     "output_type": "display_data"
    }
   ],
   "source": [
    "plot_histogram(result.get_counts(\"bell_measureXX\"))"
   ]
  },
  {
   "cell_type": "markdown",
   "metadata": {},
   "source": [
    "Here we see that the system **also** has perfect correlations (accounting for experimental noise). Therefore, if $q_0$ is measured in state $|0\\rangle$, we know $q_1$ is in this state as well; likewise, if $q_0$ is measured in state $|+\\rangle$, we know $q_1$ is also in this state. These correlations have led to much confusion in science, because any attempt to relate the unusual behavior of quantum entanglement to our everyday experiences is a fruitless endeavor. \n",
    "\n",
    "Finally, we need to point out that having correlated outcomes does not necessarily imply that what we are observing is an entangled state. What would we observe, for example, if we prepared half of our shots in the $|00\\rangle$ state and half of the shots in the $|11\\rangle$ state? Let's have a look"
   ]
  },
  {
   "cell_type": "code",
   "execution_count": 22,
   "metadata": {},
   "outputs": [
    {
     "data": {
      "image/png": "[encoded data removed]",
      "text/plain": [
       "<matplotlib.figure.Figure at 0x10ebf4fd0>"
      ]
     },
     "metadata": {},
     "output_type": "display_data"
    }
   ],
   "source": [
    "# Creating registers\n",
    "q2 = Q_program.create_quantum_register(\"q2\", 2)\n",
    "c2 = Q_program.create_classical_register(\"c2\", 2)\n",
    "\n",
    "# quantum circuit to make a mixed state \n",
    "mixed1 = Q_program.create_circuit(\"mixed1\", [q2], [c2])\n",
    "mixed2 = Q_program.create_circuit(\"mixed2\", [q2], [c2])\n",
    "mixed2.x(q2)\n",
    "mixed1.measure(q2[0], c2[0])\n",
    "mixed1.measure(q2[1], c2[1])\n",
    "mixed2.measure(q2[0], c2[0])\n",
    "mixed2.measure(q2[1], c2[1])\n",
    "mixed_state = [\"mixed1\", \"mixed2\"]\n",
    "result = Q_program.execute(mixed_state, backend=backend, shots=shots, max_credits=3, wait=10, timeout=240)\n",
    "counts1 = result.get_counts(mixed_state[0])\n",
    "counts2 = result.get_counts(mixed_state[1])\n",
    "from collections import Counter\n",
    "ground = Counter(counts1)\n",
    "excited = Counter(counts2)\n",
    "plot_histogram(ground+excited)"
   ]
  },
  {
   "cell_type": "markdown",
   "metadata": {},
   "source": [
    "We do see the same kind of correlation indeed as we observed in the \"bell_measureZZ\" circuit. But we know this is not an entangled state! All we have done is leave the qubits in their ground state for some of the shots and flip both qubits for some of the shots. This is called a mixed state and it is a classical state. Now, would we observe a similar outcome if we measured this mixed state in the superposition basis? We will leave this for the reader to try.\n",
    "\n",
    "This is just a taste of what happens in the quantum world. Please continue to [Entanglement revisited](entanglement_revisited.ipynb) to explore further!"
   ]
  },
  {
   "cell_type": "code",
   "execution_count": 23,
   "metadata": {
    "collapsed": true
   },
   "outputs": [],
   "source": [
    "#%run \"../../version.ipynb\""
   ]
  },
  {
   "cell_type": "code",
   "execution_count": null,
   "metadata": {
    "collapsed": true
   },
   "outputs": [],
   "source": []
  }
 ],
 "metadata": {
  "anaconda-cloud": {},
  "kernelspec": {
   "display_name": "Python 3",
   "language": "python",
   "name": "python3"
  },
  "language_info": {
   "codemirror_mode": {
    "name": "ipython",
    "version": 3
   },
   "file_extension": ".py",
   "mimetype": "text/x-python",
   "name": "python",
   "nbconvert_exporter": "python",
   "pygments_lexer": "ipython3",
   "version": "3.6.1"
  }
 },
 "nbformat": 4,
 "nbformat_minor": 1
}
