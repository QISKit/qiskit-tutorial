{
 "cells": [
  {
   "cell_type": "markdown",
   "metadata": {},
   "source": [
    "<img src=\"../../images/QISKit.gif\" alt=\"Note: In order for images to show up in this jupyter notebook you need to select File => Trusted Notebook\" width=\"250 px\" align=\"left\">"
   ]
  },
  {
   "cell_type": "markdown",
   "metadata": {},
   "source": [
    "## Iterative Phase Estimation Algorithm\n",
    "\n",
    "\n",
    "The latest version of this notebook is available on https://github.com/QISKit/qiskit-tutorial.\n",
    "\n",
    "For more information about how to use the IBM Q experience (QX), consult the [tutorials](https://quantumexperience.ng.bluemix.net/qstage/#/tutorial?sectionId=c59b3710b928891a1420190148a72cce&pageIndex=0), or check out the [community](https://quantumexperience.ng.bluemix.net/qstage/#/community).\n",
    "\n",
    "***\n",
    "### Contributors\n",
    "Antonio Córcoles, Jay Gambetta, Rudy Raymond"
   ]
  },
  {
   "cell_type": "markdown",
   "metadata": {},
   "source": [
    "## Quantum Phase Estimation (QPE)\n",
    "\n",
    "The Quantum Phase Estimation (QPE) algorithm solves the problem of finding unknown eigenvalues of a unitary operator. The attractiveness of the QPE algorithm lies in no small part in the fact that it is a key ingredient of some other very powerful algorithms like order finding and Shor's. \n",
    "\n",
    "In a standard textbook such as described in Nielsen & Chuang <i>Quantum Computation and Quantum Information</i>, in the QPE each bit of the phase is encoded in a different qubit on a register by using the phase kickback property of controlled-Unitary operations. This is followed by an inverse Quantum Fourier Transform operation which yields an n-bit approximation to the phase by reading the n-qubit register."
   ]
  },
  {
   "cell_type": "markdown",
   "metadata": {},
   "source": [
    "## Iterative Phase Estimation Algorithm (IPEA)\n",
    "The QPE algorithm can however be realized in a much smaller qubit system by iterating the steps on a system of just two qubits. This is called the Iterative Phase Estimation Algorithm (IPEA).\n",
    "\n",
    "Consider the problem of finding $\\varphi$ given $|\\Psi\\rangle$ and $U$ in $U |\\Psi\\rangle = e^{i \\phi} | \\Psi \\rangle$, with $\\phi = 2 \\pi \\varphi$. Let's assume for now that $\\varphi$ can be written as $\\varphi = \\varphi_1/2 + \\varphi_2/4 + ... + \\varphi_m/2^m = 0.\\varphi_1 \\varphi_2 ... \\varphi_m$, where we have defined the notation $0.\\varphi_1 \\varphi_2 ... \\varphi_m$. Now, if we have two qubits, $q_0$ and $q_1$, and we initialize them as $q_0 \\rightarrow |+\\rangle$ and $q_1 \\rightarrow |\\Psi \\rangle$, then, after applying a control-U between $q_0$ and $q_1$ $2^t$ times the state of $q_0$ can be written as $|0\\rangle + e^{i 2 \\pi 2^{t} \\varphi} | 1 \\rangle$. That is, the phase of $U$ has been kicked back into $q_0$ as many times as the control operation has been performed.\n",
    "\n",
    "For $t=0$, we have a total phase in $q_0$ of $e^{i 2 \\pi 2^{0} \\varphi} = e^{i 2 \\pi \\varphi} = e^{i 2 \\pi 0.\\varphi_1 \\varphi_2 ... \\varphi_m}$\n",
    "\n",
    "For $t=1$, the phase would be $e^{i 2 \\pi 2^{1} \\varphi} = e^{i 2 \\pi \\varphi_1} e^{i 2 \\pi 0.\\varphi_2 \\varphi_3 ... \\varphi_m}$\n",
    "\n",
    "For $t=2$, $e^{i 2 \\pi 2^{2} \\varphi} = e^{i 2 \\pi 2 \\varphi_1} e^{i 2 \\pi \\varphi_2} e^{i 2 \\pi 0.\\varphi_3 \\varphi_4 ... \\varphi_m}$\n",
    "\n",
    "And for $t=m-1$, $e^{i 2 \\pi 2^{m-1} \\varphi} = e^{i 2 \\pi 2^{m-2} \\varphi_1} e^{i 2 \\pi 2^{m-3} \\varphi_2} ... e^{i 2 \\pi 2^{-1} \\varphi_m} = e^{i 2 \\pi 0.\\varphi_m}$. Now, note that if we perform a Hadamard operation on the state $|0\\rangle + e^{i 2 \\pi 0.\\varphi_m}|1\\rangle$ and perform a measurement in the standard basis, we obtain $|0\\rangle$ if $\\varphi_m = 0$ and $|1\\rangle$ if $\\varphi_m = 1$. \n",
    "\n",
    "So, in the first step of the IPEA we directly measure the least significant bit of the phase $\\varphi$, $\\varphi_m$, by initializing the 2-qubit register as described above, performing $2^{m-1}$ control-$U$ operations between the qubits, and measuring $q_0$ in the diagonal basis.\n",
    "\n",
    "For the second step, we initialize the register in the same way and apply $2^{m-2}$ control-$U$ operations. The phase in $q_0$ after these operations is now $e^{i 2 \\pi 0.\\varphi_{m-1}\\varphi_{m}}= e^{i 2 \\pi 0.\\varphi_{m-1}} e^{i 2 \\pi \\varphi_m/4}$. We see that prior to extracting the phase bit $\\varphi_{m-1}$, we need to perform a phase correction of $\\varphi_m /2$. This is equivalent to a rotation around the $Z-$axis of angle $-\\varphi_m /4$.\n",
    "\n",
    "Therefore, the $k$th step of the IPEA, giving $\\varphi_{m-k+1}$, consists of the register initialization ($q_0$ in $|+\\rangle$, $q_1$ in $|\\Psi\\rangle$), the application of control-$U$ $2^{m-k}$ times, a rotation around $Z$ of angle $\\omega_k = -2 \\pi 0.0\\varphi_{k+1} ... \\varphi_m$, a Hadamard transform to $q_0$ and a measurement of $q_0$ in the standard basis. Note that $q_1$ remains in the state $|\\Psi\\rangle$ throughout the algorithm."
   ]
  },
  {
   "cell_type": "markdown",
   "metadata": {},
   "source": [
    "## IPEA circuit\n",
    "\n",
    "Let's first initialize the API and import the necessary packages"
   ]
  },
  {
   "cell_type": "code",
   "execution_count": 1,
   "metadata": {},
   "outputs": [],
   "source": [
    "import sys\n",
    "import matplotlib.pyplot as plt\n",
    "import numpy as np\n",
    "import scipy as sp\n",
    "\n",
    "from qiskit import QuantumProgram\n",
    "from qiskit.tools.visualization import plot_histogram\n",
    "\n",
    "# importing the QISKit\n",
    "from qiskit import QuantumProgram\n",
    "try:\n",
    "    sys.path.append(\"../../\") # go to parent dir\n",
    "    import Qconfig\n",
    "    qx_config = {\n",
    "        \"APItoken\": Qconfig.APItoken,\n",
    "        \"url\": Qconfig.config['url']}\n",
    "except:\n",
    "    qx_config = {\n",
    "        \"APItoken\":\"YOUR_TOKEN_HERE\",\n",
    "        \"url\":\"https://quantumexperience.ng.bluemix.net/api\"}\n",
    "\n",
    "Q_program = QuantumProgram()\n",
    "Q_program.set_api(qx_config['APItoken'], qx_config['url']) # set the APIToken and API url"
   ]
  },
  {
   "cell_type": "markdown",
   "metadata": {},
   "source": [
    "Now you can try the following circuit in the quantum simulator for a phase of $-5\\pi/8 = 2 \\pi \\varphi$ and $m=4$. Note that the IPEA cannot be run in the real device in this form due to the current lack of feedback capability."
   ]
  },
  {
   "cell_type": "code",
   "execution_count": 2,
   "metadata": {},
   "outputs": [
    {
     "data": {
      "image/png": "[encoded data removed]",
      "text/plain": [
       "<matplotlib.figure.Figure at 0x10a925208>"
      ]
     },
     "metadata": {},
     "output_type": "display_data"
    }
   ],
   "source": [
    "#we first define controlled gates used in the IPEA\n",
    "from math import pi\n",
    "def cu1fixed(qProg, c, t, a):\n",
    "    qProg.u1(-a, t)\n",
    "    qProg.cx(c, t)\n",
    "    qProg.u1(a, t)\n",
    "    qProg.cx(c, t)\n",
    "\n",
    "def cu5pi8(qProg, c, t):\n",
    "    cu1fixed(qProg, c, t, -5.0*pi/8.0)\n",
    "\n",
    "#we then prepare quantum and classical registers and the circuit\n",
    "qr = Q_program.create_quantum_register(\"qr\", 2)\n",
    "cr = Q_program.create_classical_register(\"cr\", 4)\n",
    "circuitName=\"IPEAonSimulator\"\n",
    "ipeaCircuit = Q_program.create_circuit(circuitName, [qr], [cr])\n",
    "\n",
    "#apply IPEA\n",
    "ipeaCircuit.h(qr[0])\n",
    "for i in range(8):\n",
    "    cu5pi8(ipeaCircuit, qr[0], qr[1])\n",
    "ipeaCircuit.h(qr[0])\n",
    "ipeaCircuit.measure(qr[0], cr[0])\n",
    "\n",
    "ipeaCircuit.reset(qr[0])\n",
    "\n",
    "ipeaCircuit.h(qr[0])\n",
    "for i in range(4):\n",
    "    cu5pi8(ipeaCircuit, qr[0], qr[1])\n",
    "ipeaCircuit.u1(-pi/2, qr[0]).c_if(cr, 1)\n",
    "ipeaCircuit.h(qr[0])\n",
    "ipeaCircuit.measure(qr[0], cr[1])\n",
    "\n",
    "ipeaCircuit.reset(qr[0])\n",
    "\n",
    "ipeaCircuit.h(qr[0])\n",
    "for i in range(2):\n",
    "    cu5pi8(ipeaCircuit, qr[0], qr[1])\n",
    "ipeaCircuit.u1(-pi/4, qr[0]).c_if(cr, 1)\n",
    "ipeaCircuit.u1(-pi/2, qr[0]).c_if(cr, 2)\n",
    "ipeaCircuit.u1(-3*pi/4, qr[0]).c_if(cr, 3)\n",
    "ipeaCircuit.h(qr[0])\n",
    "ipeaCircuit.measure(qr[0], cr[2])\n",
    "\n",
    "ipeaCircuit.reset(qr[0])\n",
    "\n",
    "ipeaCircuit.h(qr[0])\n",
    "cu5pi8(ipeaCircuit, qr[0], qr[1])\n",
    "ipeaCircuit.u1(-pi/8, qr[0]).c_if(cr, 1)\n",
    "ipeaCircuit.u1(-2*pi/8, qr[0]).c_if(cr, 2)\n",
    "ipeaCircuit.u1(-3*pi/8, qr[0]).c_if(cr, 3)\n",
    "ipeaCircuit.u1(-4*pi/8, qr[0]).c_if(cr, 4)\n",
    "ipeaCircuit.u1(-5*pi/8, qr[0]).c_if(cr, 5)\n",
    "ipeaCircuit.u1(-6*pi/8, qr[0]).c_if(cr, 6)\n",
    "ipeaCircuit.u1(-7*pi/8, qr[0]).c_if(cr, 7)\n",
    "ipeaCircuit.h(qr[0])\n",
    "ipeaCircuit.measure(qr[0], cr[3])\n",
    "\n",
    "backend = \"local_qasm_simulator\"\n",
    "shots = 1000\n",
    "results = Q_program.execute([circuitName], backend=backend, shots=shots)\n",
    "plot_histogram(results.get_counts(circuitName))\n",
    "    "
   ]
  },
  {
   "cell_type": "markdown",
   "metadata": {},
   "source": [
    "The results are given in terms of $\\varphi = 0.\\varphi_1 \\varphi_2 \\varphi_3 \\varphi_4$, with the least significant digit ($\\varphi_4$) as the leftmost bit in the classical register. The result is $\\varphi = 11/16$, from which $\\phi = 2\\pi \\varphi = 11 \\pi/8 = 2 \\pi - 5\\pi/8$, as encoded in the circuit. "
   ]
  },
  {
   "cell_type": "markdown",
   "metadata": {},
   "source": [
    "## IPEA in the real device\n",
    "\n",
    "As we have mentioned before, we currently lack the ability of using measurement feedback or feedforward, along with qubit resetting, on the real device in the Quantum Experience. However, we still can implement a segmentized version of the IPEA by extracting the information about the phase one bit at a time.\n",
    "\n",
    "Try the following four circuits in the real device. They estimate the same phase as in the previous example (-5$\\pi/8$), one bit at a time, from least ($\\varphi_4$) to most ($\\varphi_1$) significant bit."
   ]
  },
  {
   "cell_type": "code",
   "execution_count": 3,
   "metadata": {},
   "outputs": [
    {
     "data": {
      "image/png": "[encoded data removed]",
      "text/plain": [
       "<matplotlib.figure.Figure at 0x10a91a160>"
      ]
     },
     "metadata": {},
     "output_type": "display_data"
    }
   ],
   "source": [
    "Q_program = QuantumProgram()\n",
    "Q_program.set_api(qx_config['APItoken'], qx_config['url']) # set the APIToken and API url\n",
    "\n",
    "circuitName = \"IPEAonReal_Step1\"\n",
    "#we then prepare quantum and classical registers and the circuit\n",
    "qr = Q_program.create_quantum_register(\"qr\", 5)\n",
    "cr = Q_program.create_classical_register(\"cr\", 5)\n",
    "realStep1Circuit = Q_program.create_circuit(circuitName, [qr], [cr])\n",
    "\n",
    "#apply IPEA\n",
    "realStep1Circuit.h(qr[0])\n",
    "for i in range(8):\n",
    "    cu5pi8(realStep1Circuit, qr[0], qr[1])\n",
    "realStep1Circuit.h(qr[0])\n",
    "realStep1Circuit.measure(qr[0], cr[0])\n",
    "\n",
    "backend = \"ibmqx4\"\n",
    "backend_config = Q_program.get_backend_configuration(backend) #we get the config of backend to get its coupling map\n",
    "shots = 1000\n",
    "results = Q_program.execute([circuitName], backend=backend, shots=shots, coupling_map=backend_config[\"coupling_map\"])\n",
    "plot_histogram(results.get_counts(circuitName))"
   ]
  },
  {
   "cell_type": "markdown",
   "metadata": {},
   "source": [
    "In the first step of IPEA as above, we obtained the bit \"1\" with probability close to one. We then proceed to the second step of IPEA assuming that we have identified the result of the first step correctly, as below. "
   ]
  },
  {
   "cell_type": "code",
   "execution_count": 4,
   "metadata": {
    "scrolled": true
   },
   "outputs": [
    {
     "data": {
      "image/png": "[encoded data removed]",
      "text/plain": [
       "<matplotlib.figure.Figure at 0x10b125e10>"
      ]
     },
     "metadata": {},
     "output_type": "display_data"
    }
   ],
   "source": [
    "circuitName = \"IPEAonReal_Step2\"\n",
    "realStep2Circuit = Q_program.create_circuit(circuitName, [qr], [cr])\n",
    "\n",
    "#apply IPEA\n",
    "realStep2Circuit.h(qr[0])\n",
    "for i in range(4):\n",
    "    cu5pi8(realStep2Circuit, qr[0], qr[1])\n",
    "realStep2Circuit.u1(-pi/2, qr[0]) #assuming the value of the measurement on Step 1\n",
    "realStep2Circuit.h(qr[0])\n",
    "realStep2Circuit.measure(qr[0], cr[0])\n",
    "\n",
    "results = Q_program.execute([circuitName], backend=backend, shots=shots, coupling_map=backend_config[\"coupling_map\"])\n",
    "plot_histogram(results.get_counts(circuitName))"
   ]
  },
  {
   "cell_type": "markdown",
   "metadata": {},
   "source": [
    "In the second step of IPEA as above, we obtained the bit \"1\" with probability close to one. We then proceed to the third step of IPEA assuming that we have identified the result of the first and second steps correctly, as below."
   ]
  },
  {
   "cell_type": "code",
   "execution_count": 5,
   "metadata": {},
   "outputs": [
    {
     "data": {
      "image/png": "[encoded data removed]",
      "text/plain": [
       "<matplotlib.figure.Figure at 0x10aa56a58>"
      ]
     },
     "metadata": {},
     "output_type": "display_data"
    }
   ],
   "source": [
    "circuitName = \"IPEAonReal_Step3\"\n",
    "realStep3Circuit = Q_program.create_circuit(circuitName, [qr], [cr])\n",
    "\n",
    "#apply IPEA\n",
    "realStep3Circuit.h(qr[0])\n",
    "for i in range(2):\n",
    "    cu5pi8(realStep3Circuit, qr[0], qr[1])\n",
    "realStep3Circuit.u1(-3*pi/4, qr[0]) #assuming the value of the measurement on Step 1 and Step 2\n",
    "realStep3Circuit.h(qr[0])\n",
    "realStep3Circuit.measure(qr[0], cr[0])\n",
    "\n",
    "results = Q_program.execute([circuitName], backend=backend, shots=shots, coupling_map=backend_config[\"coupling_map\"])\n",
    "plot_histogram(results.get_counts(circuitName))"
   ]
  },
  {
   "cell_type": "markdown",
   "metadata": {},
   "source": [
    "In the third step of IPEA as above, we obtained the bit \"0\" with probability close to one. We then proceed to the fourth step of IPEA assuming that we have identified the result of the first, second, and third steps correctly, as below."
   ]
  },
  {
   "cell_type": "code",
   "execution_count": 6,
   "metadata": {},
   "outputs": [
    {
     "data": {
      "image/png": "[encoded data removed]",
      "text/plain": [
       "<matplotlib.figure.Figure at 0x10aa54080>"
      ]
     },
     "metadata": {},
     "output_type": "display_data"
    }
   ],
   "source": [
    "circuitName = \"IPEAonReal_Step4\"\n",
    "realStep4Circuit = Q_program.create_circuit(circuitName, [qr], [cr])\n",
    "\n",
    "#apply IPEA\n",
    "realStep4Circuit.h(qr[0])\n",
    "cu5pi8(realStep4Circuit, qr[0], qr[1])\n",
    "realStep4Circuit.u1(-3*pi/8, qr[0]) #assuming the value of the measurement on Step 1, 2, and 3\n",
    "realStep4Circuit.h(qr[0])\n",
    "realStep4Circuit.measure(qr[0], cr[0])\n",
    "\n",
    "results = Q_program.execute([circuitName], backend=backend, shots=shots, coupling_map=backend_config[\"coupling_map\"])\n",
    "plot_histogram(results.get_counts(circuitName))"
   ]
  },
  {
   "cell_type": "markdown",
   "metadata": {},
   "source": [
    "In the fourt step of the IPEA, we identified the bit \"1\" with high probability. In summary, we can conclude with high probability that the binary string of the phase is \"1011\", that is eleven in the decimal.  \n",
    "\n",
    "We have left aside the case when $\\varphi$ does not accept a decomposition of the form $\\varphi = \\varphi_1/2 + \\varphi_2/4 + ... + \\varphi_m/2^m$. In that case, it can be shown that we can still use the IPEA to obtain $\\varphi$ to an accuracy of $2^{-m}$ with greater than a constant probability independent of $m$ (around $81\\%$ [1])."
   ]
  },
  {
   "cell_type": "markdown",
   "metadata": {},
   "source": [
    "[1] M. Dobsicek *et al. Phys. Rev. A* **76**, 030306 (2007)"
   ]
  },
  {
   "cell_type": "code",
   "execution_count": 1,
   "metadata": {},
   "outputs": [
    {
     "data": {
      "text/html": [
       "<h2>Version information</h2>\n",
       "<p>Please note that this tutorial is targeted to the <b>stable</b> version of the QISKit. The following versions of the packages are recommended:</p>\n",
       "<table>\n",
       "<tr><th>Package</th><th colspan=\"2\">Version</th></tr>\n",
       "<tr><td>QISKit</td><td> 0.4.10</td></tr>\n",
       "<tr><td>IBMQuantumExperience</td><td>&gt;= 1.8.26</td></tr>\n",
       "<tr><td>numpy</td><td>&gt;= 1.13, &lt; 1.14</td></tr>\n",
       "<tr><td>scipy</td><td>&gt;= 0.19, &lt; 0.20</td></tr>\n",
       "<tr><td>matplotlib</td><td>&gt;= 2.0, &lt; 2.1</td></tr>\n",
       "</table>"
      ],
      "text/plain": [
       "<IPython.core.display.HTML object>"
      ]
     },
     "metadata": {},
     "output_type": "display_data"
    }
   ],
   "source": [
    "%run \"../../version.ipynb\""
   ]
  },
  {
   "cell_type": "code",
   "execution_count": null,
   "metadata": {},
   "outputs": [],
   "source": []
  }
 ],
 "metadata": {
  "anaconda-cloud": {},
  "kernelspec": {
   "display_name": "Python 3",
   "language": "python",
   "name": "python3"
  },
  "language_info": {
   "codemirror_mode": {
    "name": "ipython",
    "version": 3
   },
   "file_extension": ".py",
   "mimetype": "text/x-python",
   "name": "python",
   "nbconvert_exporter": "python",
   "pygments_lexer": "ipython3",
   "version": "3.6.4"
  },
  "latex_envs": {
   "bibliofile": "biblio.bib",
   "cite_by": "apalike",
   "current_citInitial": 1,
   "eqLabelWithNumbers": true,
   "eqNumInitial": 0
  },
  "nav_menu": {},
  "toc": {
   "navigate_menu": true,
   "number_sections": true,
   "sideBar": true,
   "threshold": 6,
   "toc_cell": false,
   "toc_section_display": "block",
   "toc_window_display": false
  }
 },
 "nbformat": 4,
 "nbformat_minor": 1
}
