{
 "cells": [
  {
   "cell_type": "markdown",
   "metadata": {},
   "source": [
    "<img src=\"../../images/QISKit.gif\" alt=\"Note: In order for images to show up in this jupyter notebook you need to select File => Trusted Notebook\" width=\"250 px\" align=\"left\">"
   ]
  },
  {
   "cell_type": "markdown",
   "metadata": {},
   "source": [
    "## _*The Bernstein-Vazirani Algorithm*_ \n",
    "\n",
    "In this tutorial, we introduce the [Bernstein-Vazirani algorithm](http://epubs.siam.org/doi/abs/10.1137/S0097539796300921), which is one of the earliest algorithms demonstrating the power of quantum computing. Despite its simplicity, it is often used and is the inspiration for many other quantum algorithms even today: it is the basis of the power of the short-depth quantum circuits as in [Bravyi et al.](https://arxiv.org/abs/1704.00690) that uses its non-oracular version, or in [Linke et al.](http://www.pnas.org/content/114/13/3305.full) that uses it to test the performance of the quantum processors (see also the [talk by Ken Brown](https://www.youtube.com/watch?v=eHV9LTiePrQ) at the ThinkQ 2017 conference). Here, we show the implementation of the Bernstein-Vazirani algorithm **without using entanglement** based on [Du et al.](https://arxiv.org/abs/quant-ph/0012114) on QISKit and test it on IBM Q systems. \n",
    "\n",
    "The latest version of this notebook is available on https://github.com/QISKit/qiskit-tutorial.\n",
    "\n",
    "***\n",
    "### Contributors\n",
    "Rudy Raymond"
   ]
  },
  {
   "cell_type": "markdown",
   "metadata": {},
   "source": [
    "## Introduction <a id='introduction'></a>\n",
    "\n",
    "The Bernstein-Vazirani algorithm deals with finding a hidden integer $a \\in \\{0,1\\}^n$ from an oracle $f_a$ that returns a bit $a \\cdot x \\equiv \\sum_i a_i x_i \\mod 2$ upon receiving an input $x \\in \\{0,1\\}^n$. A classical oracle returns $f_a(x) = a \\cdot x \\mod 2$ given an input $x$. Meanwhile, a quantum oracle behaves similarly but can be queried with superposition of input $x$'s. \n",
    "\n",
    "Classically, the hidden integer $a$ can be revealed by querying the oracle with $x = 1, 2, \\ldots, 2^i, \\ldots, 2^{n-1}$, where each query reveals the $i$-th bit of $a$ (or, $a_i$). For example, with $x=1$ one can obtain the least significant bit of $a$, and so on. This turns out to be an optimal strategy: any classical algorithm that finds the hidden integer with high probability must query the oracle for $\\Omega(n)$ times. However, given a corresponding quantum oracle, the hidden integer can be found with only $1$ query using the Bernstein-Vazirani algorithm. "
   ]
  },
  {
   "cell_type": "markdown",
   "metadata": {},
   "source": [
    "## The Algorithm\n",
    "\n",
    "The Bernstein-Vazirani algorithm to find the hidden integer is very simple: start from a $|0\\rangle$ state, apply Hadamard gates, query the oracle, apply Hadamard gates and measure. The correctness of the algorithm is best explained by looking at the transformation of a quantum register $|a \\rangle$ by $n$ Hadamard gates each applied to the qubit of the register. It can be shown that\n",
    "\n",
    "$$\n",
    "|a\\rangle \\xrightarrow{H^{\\otimes n}} \\frac{1}{\\sqrt{2^n}} \\sum_{x\\in \\{0,1\\}^n} (-1)^{a\\cdot x}|x\\rangle.\n",
    "$$\n",
    "\n",
    "In particular, when we start with a quantum register $|0\\rangle$ and apply $n$ Hadamard gates to it, we have the familiar quantum superposition as below\n",
    "\n",
    "$$\n",
    "|0\\rangle \\xrightarrow{H^{\\otimes n}} \\frac{1}{\\sqrt{2^n}} \\sum_{x\\in \\{0,1\\}^n} |x\\rangle,\n",
    "$$\n",
    "\n",
    "which is slightly different from the Hadamard transform of the reqister $|a \\rangle$ by the phase $(-1)^{a\\cdot x}$. \n",
    "\n",
    "Now, the quantum oracle $f_a$ returns $1$ on input $x$ such that $a \\cdot x \\equiv 1 \\mod 2$, and returns $0$ otherwise. This means, we have the following transformation\n",
    "\n",
    "$$\n",
    "|x \\rangle \\left(|0\\rangle - |1\\rangle \\right) \\xrightarrow{f_a} | x \\rangle \\left(|0 \\oplus f_a(x) \\rangle - |1 \\oplus f_a(x) \\rangle \\right) = (-1)^{a\\cdot x} |x \\rangle \\left(|0\\rangle - |1\\rangle \\right). \n",
    "$$\n",
    "\n",
    "Notice that the second register $|0\\rangle - |1\\rangle$ in the above does not change and can be omitted for simplicity. In short, the oracle can be used to create $(-1)^{a\\cdot x}|x\\rangle$ from the input $|x \\rangle$. In this tutorial, we follow [Du et al.](https://arxiv.org/abs/quant-ph/0012114) to generate a circuit for a quantum oracle without the need of an ancilla qubit (that is often used in the standard quantum oracle). \n",
    "\n",
    "The algorithm to reveal the hidden integer follows naturally by querying the quantum oracle $f_a$ with the quantum superposition obtained from the Hadamard transformation of $|0\\rangle$. Namely,\n",
    "\n",
    "$$\n",
    "|0\\rangle \\xrightarrow{H^{\\otimes n}} \\frac{1}{\\sqrt{2^n}} \\sum_{x\\in \\{0,1\\}^n} |x\\rangle \\xrightarrow{f_a} \\frac{1}{\\sqrt{2^n}} \\sum_{x\\in \\{0,1\\}^n} (-1)^{a\\cdot x}|x\\rangle.\n",
    "$$\n",
    "\n",
    "Because the inverse of the $n$ Hadamard gates is again the $n$ Hadamard gates, we can obtain $a$ by\n",
    "\n",
    "$$\n",
    "\\frac{1}{\\sqrt{2^n}} \\sum_{x\\in \\{0,1\\}^n} (-1)^{a\\cdot x}|x\\rangle \\xrightarrow{H^{\\otimes n}} |a\\rangle.\n",
    "$$\n"
   ]
  },
  {
   "cell_type": "markdown",
   "metadata": {},
   "source": [
    "## The (Inner-Product) Oracle <a id='oracle'></a>\n",
    "\n",
    "Here, we describe how to build the oracle used in the Bernstein-Vazirani algorithm. The oracle is also referred to as the [inner-product oracle](https://arxiv.org/pdf/quant-ph/0108095.pdf) (while the oracle of the Grover search is known as the Equivalence, or EQ, oracle). Notice that it transforms $|x\\rangle$ into $(-1)^{a\\cdot x} |x\\rangle$. Clearly, we can observe that\n",
    "\n",
    "$$\n",
    "(-1)^{a\\cdot x} = (-1)^{a_1 x_1} \\ldots (-1)^{a_ix_i} \\ldots (-1)^{a_nx_n} = \\prod_{i: a_i = 1} (-1)^{x_i}. \n",
    "$$\n",
    "\n",
    "Therefore, the inner-product oracle can be realized by the following unitary transformation that is decomposable as single-qubit unitaries. \n",
    "\n",
    "$$\n",
    "O_{f_a} = O^1 \\otimes O^2 \\otimes \\ldots \\otimes O^i \\otimes \\ldots \\otimes O^n, \n",
    "$$\n",
    "where $O^i = (1 - a_i)I + a_i Z$, where $Z$ is the Pauli $Z$ matrix and $I$ is the identity matrix for $a_i \\in \\{0,1\\}$. \n",
    "\n",
    "Notice that we start from a separable quantum state $|0\\rangle$ and apply a series of transformations that are separable (i.e., can be described by unitaries acting on a single qubit): Hadamard gates to each qubit followed by the call to the *decomposable* quantum oracle as [Du et al.](https://arxiv.org/abs/quant-ph/0012114), and another Hadamard gate. Hence, there is no entanglement created during the computation. This is in contrast with the circuit at [Linke et al.](http://www.pnas.org/content/114/13/3305.full) that used CNOT gates to realize the oracle and an ancilla qubit to store the answer of the oracle. "
   ]
  },
  {
   "cell_type": "markdown",
   "metadata": {},
   "source": [
    "## The Circuit <a id=\"circuit\"></a>\n",
    "\n",
    "We now implement the Bernstein-Vazirani algorithm with QISKit by first preparing the environment."
   ]
  },
  {
   "cell_type": "code",
   "execution_count": 1,
   "metadata": {
    "collapsed": true
   },
   "outputs": [],
   "source": [
    "# useful additional packages \n",
    "import sys\n",
    "import matplotlib.pyplot as plt\n",
    "%matplotlib inline\n",
    "import numpy as np\n",
    "\n",
    "# importing the QISKit\n",
    "from qiskit import QuantumProgram\n",
    "try:\n",
    "    sys.path.append(\"../../\") # go to parent dir\n",
    "    import Qconfig\n",
    "    qx_config = {\n",
    "        \"APItoken\": Qconfig.APItoken,\n",
    "        \"url\": Qconfig.config['url']}\n",
    "except:\n",
    "    qx_config = {\n",
    "        \"APItoken\":\"YOUR_TOKEN_HERE\",\n",
    "        \"url\":\"https://quantumexperience.ng.bluemix.net/api\"}\n",
    "    \n",
    "# import basic plot tools\n",
    "from qiskit.tools.visualization import plot_histogram"
   ]
  },
  {
   "cell_type": "markdown",
   "metadata": {},
   "source": [
    "We first set the number of qubits used in the experiment and the hidden integer $a$ to be found by the Bernstein-Vazirani algorithm. The hidden integer $a$ determines the circuit for the quantum oracle. "
   ]
  },
  {
   "cell_type": "code",
   "execution_count": 2,
   "metadata": {
    "collapsed": true
   },
   "outputs": [],
   "source": [
    "nQubits = 16 #number of physical qubits\n",
    "a = 101      #the hidden integer whose bitstring is 1100101\n",
    "\n",
    "#make sure that a can represented with nQubits\n",
    "a = a % 2**(nQubits)"
   ]
  },
  {
   "cell_type": "markdown",
   "metadata": {},
   "source": [
    "We then use QISKit to program the Bernstein-Vazirani algorithm."
   ]
  },
  {
   "cell_type": "code",
   "execution_count": 3,
   "metadata": {},
   "outputs": [
    {
     "name": "stderr",
     "output_type": "stream",
     "text": [
      "/Users/rraymondhp/miniconda3/envs/QISKitenv/lib/python3.6/site-packages/qiskit/_quantumprogram.py:710: DeprecationWarning: set_api() will be deprecated in upcoming versions (>0.5.0). Using the API object instead is recommended.\n",
      "  \"Using the API object instead is recommended.\", DeprecationWarning)\n"
     ]
    }
   ],
   "source": [
    "Q_program = QuantumProgram()\n",
    "Q_program.set_api(qx_config['APItoken'], qx_config['url']) # set the APIToken and API url\n",
    "\n",
    "# Creating registers\n",
    "# qubits for querying the oracle and finding the hidden integer\n",
    "qr = Q_program.create_quantum_register(\"qr\", nQubits)\n",
    "# for recording the measurement on qr\n",
    "cr = Q_program.create_classical_register(\"cr\", nQubits)\n",
    "\n",
    "circuitName = \"BernsteinVazirani\"\n",
    "bvCircuit = Q_program.create_circuit(circuitName, [qr], [cr])\n",
    "\n",
    "#Apply Hadamard gates before querying the oracle\n",
    "for i in range(nQubits):\n",
    "    bvCircuit.h(qr[i])\n",
    "    \n",
    "#Apply barrier so that it is not optimized by the compiler\n",
    "bvCircuit.barrier()\n",
    "\n",
    "#Apply the inner-product oracle\n",
    "for i in range(nQubits):\n",
    "    if (a & (1 << i)):\n",
    "        bvCircuit.z(qr[i])\n",
    "    else:\n",
    "        bvCircuit.iden(qr[i])\n",
    "        \n",
    "#Apply barrier \n",
    "bvCircuit.barrier()\n",
    "\n",
    "#Apply Hadamard gates after querying the oracle\n",
    "for i in range(nQubits):\n",
    "    bvCircuit.h(qr[i])\n",
    "    \n",
    "#Measurement\n",
    "for i in range(nQubits):\n",
    "    bvCircuit.measure(qr[i], cr[i])"
   ]
  },
  {
   "cell_type": "markdown",
   "metadata": {},
   "source": [
    "## Experiment with Simulators\n",
    "\n",
    "We can run the above circuit on the simulator. "
   ]
  },
  {
   "cell_type": "code",
   "execution_count": 4,
   "metadata": {},
   "outputs": [
    {
     "name": "stdout",
     "output_type": "stream",
     "text": [
      "Available backends:\n"
     ]
    },
    {
     "name": "stderr",
     "output_type": "stream",
     "text": [
      "/Users/rraymondhp/miniconda3/envs/QISKitenv/lib/python3.6/site-packages/qiskit/_quantumprogram.py:797: DeprecationWarning: available_backends() will be deprecated in upcoming versions (>0.5.0). Using qiskit.backends.local_backends() and qiskit.backends.remote_backends() instead is recommended.\n",
      "  DeprecationWarning)\n"
     ]
    },
    {
     "name": "stdout",
     "output_type": "stream",
     "text": [
      "['local_qasm_simulator',\n",
      " 'local_clifford_simulator',\n",
      " 'local_qiskit_simulator',\n",
      " 'local_sympy_qasm_simulator',\n",
      " 'local_sympy_unitary_simulator',\n",
      " 'local_unitary_simulator',\n",
      " 'ibmqx5',\n",
      " 'ibmqx_hpc_qasm_simulator',\n",
      " 'ibmqx4',\n",
      " 'ibmqx2',\n",
      " 'ibmqx_qasm_simulator']\n"
     ]
    },
    {
     "data": {
      "image/png": "[encoded data removed]",
      "text/plain": [
       "<matplotlib.figure.Figure at 0x10c0fef28>"
      ]
     },
     "metadata": {},
     "output_type": "display_data"
    }
   ],
   "source": [
    "from pprint import pprint\n",
    "\n",
    "#get available backends\n",
    "print(\"Available backends:\")\n",
    "pprint(Q_program.available_backends())\n",
    "\n",
    "#use remote hpc simulator\n",
    "backend = \"ibmqx_hpc_qasm_simulator\"\n",
    "shots = 1000\n",
    "results = Q_program.execute([circuitName], backend=backend, shots=shots)\n",
    "answer = results.get_counts(circuitName)\n",
    "\n",
    "plot_histogram(answer)"
   ]
  },
  {
   "cell_type": "markdown",
   "metadata": {},
   "source": [
    "We can see that the result of the measurement is the binary representation of the hidden integer $a$. \n",
    "\n",
    "## Experiment with Real Devices\n",
    "\n",
    "We can run the circuit on the real device as below."
   ]
  },
  {
   "cell_type": "code",
   "execution_count": 5,
   "metadata": {},
   "outputs": [
    {
     "name": "stdout",
     "output_type": "stream",
     "text": [
      "Availability of backend:\n"
     ]
    },
    {
     "name": "stderr",
     "output_type": "stream",
     "text": [
      "/Users/rraymondhp/miniconda3/envs/QISKitenv/lib/python3.6/site-packages/qiskit/_quantumprogram.py:911: DeprecationWarning: get_backend_status() will be deprecated in upcoming versions (>0.5.0). Using qiskit.backends.get_backend_instance('name').status instead is recommended.\n",
      "  \"instead is recommended.\", DeprecationWarning)\n"
     ]
    },
    {
     "name": "stdout",
     "output_type": "stream",
     "text": [
      "{'available': True, 'backend': 'ibmqx5', 'busy': False, 'pending_jobs': 0}\n"
     ]
    },
    {
     "name": "stderr",
     "output_type": "stream",
     "text": [
      "/Users/rraymondhp/miniconda3/envs/QISKitenv/lib/python3.6/site-packages/qiskit/_quantumprogram.py:911: DeprecationWarning: get_backend_status() will be deprecated in upcoming versions (>0.5.0). Using qiskit.backends.get_backend_instance('name').status instead is recommended.\n",
      "  \"instead is recommended.\", DeprecationWarning)\n"
     ]
    },
    {
     "data": {
      "image/png": "[encoded data removed]",
      "text/plain": [
       "<matplotlib.figure.Figure at 0x106ac8a58>"
      ]
     },
     "metadata": {},
     "output_type": "display_data"
    },
    {
     "name": "stdout",
     "output_type": "stream",
     "text": [
      "{'0000000000100101': 65, '0000000001000101': 45, '0000000001100001': 45, '0000000001100100': 37, '0000000001100101': 389, '0001000001100101': 30, 'other_bitstring': 389}\n"
     ]
    }
   ],
   "source": [
    "#show the status of the backend\n",
    "backend = \"ibmqx5\"\n",
    "print(\"Availability of backend:\")\n",
    "pprint(Q_program.get_backend_status(backend))\n",
    "\n",
    "#if the \"available\" status is True, the codes below can be executed\n",
    "\n",
    "shots = 1000 \n",
    "if Q_program.get_backend_status(backend)['available'] == True:\n",
    "    results = Q_program.execute([circuitName], backend=backend, shots=shots, timeout=240)\n",
    "    answer = results.get_counts(circuitName)\n",
    "\n",
    "    threshold = int(0.03 * shots) #the threshold of plotting significant measurements\n",
    "    filteredAnswer = {k: v for k,v in answer.items() if v >= threshold} #filter the answer for better view of plots\n",
    "\n",
    "    removedCounts = np.sum([ v for k,v in answer.items() if v < threshold ]) #number of counts removed \n",
    "    filteredAnswer['other_bitstring'] = removedCounts  #the removed counts is assigned to a new index\n",
    "\n",
    "    plot_histogram(filteredAnswer)\n",
    "\n",
    "    print(filteredAnswer)"
   ]
  },
  {
   "cell_type": "markdown",
   "metadata": {},
   "source": [
    "We indeed see that the outcome is the binary representation of the hidden integer $a$ with high probability. "
   ]
  },
  {
   "cell_type": "code",
   "execution_count": null,
   "metadata": {},
   "outputs": [],
   "source": [
    "##Uncomment the lines below to output versions of important packages used for DEBUGGING AND REPORTING ERROR\n",
    "#!python --version\n",
    "#print()\n",
    "#!pip show qiskit\n",
    "#print()\n",
    "#!pip show IBMQuantumExperience\n",
    "#print()\n",
    "#!pip show numpy\n",
    "#print()\n",
    "#!pip show scipy\n",
    "#print()\n",
    "#!pip show matplotlib"
   ]
  },
  {
   "cell_type": "code",
   "execution_count": null,
   "metadata": {
    "collapsed": true
   },
   "outputs": [],
   "source": []
  }
 ],
 "metadata": {
  "kernelspec": {
   "display_name": "QISKitenv",
   "language": "python",
   "name": "qiskitenv"
  },
  "language_info": {
   "codemirror_mode": {
    "name": "ipython",
    "version": 3
   },
   "file_extension": ".py",
   "mimetype": "text/x-python",
   "name": "python",
   "nbconvert_exporter": "python",
   "pygments_lexer": "ipython3",
   "version": "3.6.2"
  }
 },
 "nbformat": 4,
 "nbformat_minor": 2
}
