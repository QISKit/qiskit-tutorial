{
 "cells": [
  {
   "cell_type": "markdown",
   "metadata": {},
   "source": [
    "<img src=\"../../images/QISKit.gif\" alt=\"Note: In order for images to show up in this jupyter notebook you need to select File => Trusted Notebook\" width=\"250 px\" align=\"left\">"
   ]
  },
  {
   "cell_type": "markdown",
   "metadata": {},
   "source": [
    "## _*The Simon Algorithm*_ \n",
    "\n",
    "The latest version of this notebook is available on https://github.com/QISKit/qiskit-tutorial.\n",
    "\n",
    "The Simon algorithm is an example that shows a quantum algorithm can solve a problem exponentially efficient than any classical algorithms. Like the Grover search, it depends on the existence of a blackbox (or, oracle) function that returns a predefined output over specific input or query. In the query-complexity setting, one cares only about how many queries are required to solve a speficic problem, but does not care how the blackbox is realized. However, in this tutorial we have to implement it using the unit gates available in QISKit, just like we have done with the Grover search.\n",
    "\n",
    "We first describe the problam addressed by the Simon algorithm, show the steps of the algorithm and the construction of the blackbox function, and present the experimental results on simulators and real devices. \n",
    "\n",
    "***\n",
    "### Contributors\n",
    "Rudy Raymond"
   ]
  },
  {
   "cell_type": "markdown",
   "metadata": {},
   "source": [
    "## The Problem <a id='introduction'></a>\n",
    "\n",
    "The Simon algorithm deals with finding a hidden integer $s \\in \\{0,1\\}^n$ from an oracle $f_s$ that satisfies $f_s(x) = f_s(y)$ if and only if $y = x \\oplus s$ for all $x \\in \\{0,1\\}^n$.  Here, the $\\oplus$ is the bitwise XOR operation. Thus, if $s = 0\\ldots 0$, i.e., the all-zero bitstring, then $f_s$ is a 1-to-1 (or, permutation) function. Otherwise, if $s \\neq 0\\ldots 0$, then $f_s$ is a 2-to-1 function. \n",
    "\n",
    "The Simon algorithm can find the hidden integer using only $O(n)$ queries to the blackbox function, while any classical algorithms require $\\Omega(\\sqrt{2^n})$ queries. "
   ]
  },
  {
   "cell_type": "markdown",
   "metadata": {},
   "source": [
    "## The Algorithm to Find the Hidden Integer\n",
    "\n",
    "The Simon algorithm finds the hidden integer by combining quantum algorithm with postprocessing on classical computers as below. \n",
    "\n",
    "1. Prepare two quantum registers each of length $n$ that are initialized to all-zero bitstring: the first one as input and the second one as output of the blackbox function.\n",
    "$$\n",
    "|0\\rangle |0\\rangle\n",
    "$$\n",
    "\n",
    "2. Apply Hadamard gates to the first register to create superposition of all possible inputs. \n",
    "$$\n",
    "H^{\\otimes n} |0\\rangle |0\\rangle = \\frac{1}{\\sqrt{2^n}} \\sum_{x=0}^{2^n-1} |x\\rangle |0\\rangle\n",
    "$$\n",
    "\n",
    "3. Query the blackbox function to obtain the answer to queries on the second register.\n",
    "$$\n",
    "\\frac{1}{\\sqrt{2^n}} \\sum_{x=0}^{2^n-1} U_{f_s}|x\\rangle |0\\rangle = \\frac{1}{\\sqrt{2^n}} \\sum_{x=0}^{2^n-1} |x\\rangle |f_s(x)\\rangle\n",
    "$$\n",
    "\n",
    "4. Apply Hadamard gates to the second register. \n",
    "$$\n",
    "\\frac{1}{\\sqrt{2^n}} \\sum_{x=0}^{2^n-1} H^{\\otimes n}|x\\rangle |f_s(x)\\rangle = \\frac{1}{2^n} \\sum_{y=0}^{2^n-1}\\sum_{x=0}^{2^n-1} (-1)^{x \\cdot y}|y\\rangle |f_s(x)\\rangle = \\frac{1}{2^n} \\sum_{y=0}^{2^n-1} |y\\rangle \\sum_{x=0}^{2^n-1} ( (-1)^{x \\cdot y} + (-1)^{(x\\oplus s) \\cdot y} )  |f_s(x)\\rangle\n",
    "$$\n",
    "\n",
    "    Notice that at the right-hand side of the above equation, because $(-1)^{(x\\oplus s) \\cdot y} = (-1)^{(x\\cdot y) +  s \\cdot y}$ we can conclude that the probability amplitude of the basis state $|y\\rangle |f_s(x)\\rangle$ is $(-1)^{x\\cdot y} ((-1) + (-1)^{s \\cdot y}  )$, which is zero if and only if $s \\cdot y = 1$. Thus, measuring the first register will always give $y$ such that $s \\cdot y = 0$. Moreover, we can obtain many different $y$'s by repeating Step 1 to 4. \n",
    "\n",
    "5. Repeat Step 1 to 4 for $m$ times to obtain $y_1, y_2, \\ldots, y_m$. \n",
    "\n",
    "6. **(Classical post-processing)** Let $\\mathbf{Y}$ be an $m\\times n$ matrix whose $i$-th row is $y_i$ in Step 5, and $\\vec{s}$ be the column vector whose $j$-th element is the $j$-th bit of $s$. Solve the following system of linear equations to obtain $s$. \n",
    "$$\n",
    "\\mathbf{Y} \\vec{s} = 0 \n",
    "$$"
   ]
  },
  {
   "cell_type": "markdown",
   "metadata": {},
   "source": [
    "## The Circuit <a id=\"circuit\"></a>\n",
    "\n",
    "We now implement the Simon algorithm with QISKit by first preparing the environment."
   ]
  },
  {
   "cell_type": "code",
   "execution_count": 1,
   "metadata": {
    "collapsed": true
   },
   "outputs": [],
   "source": [
    "#initialization\n",
    "import sys\n",
    "import matplotlib.pyplot as plt\n",
    "%matplotlib inline\n",
    "import numpy as np\n",
    "\n",
    "# importing the QISKit\n",
    "from qiskit import QuantumProgram\n",
    "try:\n",
    "    sys.path.append(\"../../\") # go to parent dir\n",
    "    import Qconfig\n",
    "    qx_config = {\n",
    "        \"APItoken\": Qconfig.APItoken,\n",
    "        \"url\": Qconfig.config['url']}\n",
    "except:\n",
    "    qx_config = {\n",
    "        \"APItoken\":\"YOUR_TOKEN_HERE\",\n",
    "        \"url\":\"https://quantumexperience.ng.bluemix.net/api\"}\n",
    "    \n",
    "# import basic plot tools\n",
    "from qiskit.tools.visualization import plot_histogram\n",
    "\n",
    "#set api\n",
    "from IBMQuantumExperience import IBMQuantumExperience\n",
    "api = IBMQuantumExperience(token=qx_config['APItoken'], config={'url': qx_config['url']})\n",
    "\n",
    "#prepare backends\n",
    "from qiskit.backends import discover_local_backends, discover_remote_backends, get_backend_instance\n",
    "remote_backends = discover_remote_backends(api) #we have to call this to connect to remote backends\n",
    "local_backends = discover_local_backends()"
   ]
  },
  {
   "cell_type": "markdown",
   "metadata": {},
   "source": [
    "We then set the hidden bitstring $s$ that will be used to construct the circuit of the blackbox function (whose details will be given later). The number of qubits used in the experiment is twice the length of the bitstring $s$."
   ]
  },
  {
   "cell_type": "code",
   "execution_count": 2,
   "metadata": {
    "collapsed": true
   },
   "outputs": [],
   "source": [
    "s = \"01100\" # the hidden bitstring\n",
    "\n",
    "assert 1 < len(s) < 20, \"The length of s must be between 2 and 19\"\n",
    "\n",
    "for c in s:\n",
    "    assert c == \"0\" or c == \"1\", \"s must be a bitstring of '0' and '1'\"\n",
    "    \n",
    "n = len(s) #the length of the bitstring"
   ]
  },
  {
   "cell_type": "markdown",
   "metadata": {},
   "source": [
    "We then use QISKit to create the circuit of the Simon algorithm prior the querying the blackbox function."
   ]
  },
  {
   "cell_type": "code",
   "execution_count": 3,
   "metadata": {},
   "outputs": [
    {
     "data": {
      "text/plain": [
       "<qiskit.extensions.standard.barrier.Barrier at 0x117850358>"
      ]
     },
     "execution_count": 3,
     "metadata": {},
     "output_type": "execute_result"
    }
   ],
   "source": [
    "Q_program = QuantumProgram()\n",
    "\n",
    "# Step 1\n",
    "# Creating registers\n",
    "# qubits for querying the oracle and recording its output\n",
    "qr = Q_program.create_quantum_register(\"qr\", 2*n)\n",
    "# for recording the measurement on the first register of qr\n",
    "cr = Q_program.create_classical_register(\"cr\", n)\n",
    "\n",
    "circuitName = \"Simon\"\n",
    "simonCircuit = Q_program.create_circuit(circuitName, [qr], [cr])\n",
    "\n",
    "# Step 2\n",
    "# Apply Hadamard gates before querying the oracle\n",
    "for i in range(n):\n",
    "    simonCircuit.h(qr[i])\n",
    "\n",
    "# Apply barrier to mark the beginning of the blackbox function\n",
    "simonCircuit.barrier()"
   ]
  },
  {
   "cell_type": "markdown",
   "metadata": {},
   "source": [
    "### Constructing a Circuit for the Blackbox Function\n",
    "\n",
    "We now details the construction of 1-to-1 and 2-to-1 permutation circuit of the blackbox function. Let us assume the blackbox function receive $|x\\rangle|0\\rangle$ as input. With regards to a predetermined $s$, the blackbox function writes its output to the second register so that it transforms the input to $|x\\rangle|f_s(x)\\rangle$ such that $f(x) = f(x\\oplus s)$ for all $x \\in \\{0,1\\}^n$. \n",
    "\n",
    "Such a blackbox function can be realized by the following procedures.\n",
    "\n",
    "-  Copy the content of the first register to the second register.\n",
    "$$\n",
    "|x\\rangle|0\\rangle \\rightarrow |x\\rangle|x\\rangle\n",
    "$$\n",
    "\n",
    "-  **(Creating 1-to-1 or 2-to-1 mapping)** If $s$ is not all-zero, then there is the least index $j$ so that $s_j = 1$. If $x_j = 0$, then XOR the second register with $s$. Otherwise, do not change the second register.\n",
    "$$\n",
    "|x\\rangle|x\\rangle \\rightarrow |x\\rangle|x \\oplus s\\rangle~\\mbox{if}~x_j = 0~\\mbox{for the least index j}\n",
    "$$\n",
    "\n",
    "-  **(Creating random permutation)** Randomly permute and flip the qubits of the second register.\n",
    "$$\n",
    "|x\\rangle|y\\rangle \\rightarrow |x\\rangle|f_s(y)\\rangle\n",
    "$$\n",
    "\n",
    "Below is the circuit of the blacbox function based on the above procedures."
   ]
  },
  {
   "cell_type": "code",
   "execution_count": 4,
   "metadata": {},
   "outputs": [
    {
     "data": {
      "text/plain": [
       "<qiskit.extensions.standard.barrier.Barrier at 0x117850eb8>"
      ]
     },
     "execution_count": 4,
     "metadata": {},
     "output_type": "execute_result"
    }
   ],
   "source": [
    "# Step 3 query the blackbox function\n",
    "# copy the content of the first register to the second register\n",
    "for i in range(n):\n",
    "    simonCircuit.cx(qr[i], qr[n+i])\n",
    "\n",
    "# get the least index j such that s_j is \"1\"\n",
    "j = -1\n",
    "for i, c in enumerate(s):\n",
    "    if c == \"1\":\n",
    "        j = i\n",
    "        break\n",
    "\n",
    "# Creating 1-to-1 or 2-to-1 mapping with the j-th qubit of x as control to XOR the second register with s\n",
    "for i, c in enumerate(s):\n",
    "    if c == \"1\":\n",
    "        simonCircuit.cx(qr[j], qr[n+i]) #the i-th qubit is flipped if s_i is 1\n",
    "\n",
    "# get random permutation of n qubits\n",
    "perm = list(np.random.permutation(n))\n",
    "# swap qubits according to permutation\n",
    "for i,k in enumerate(perm):\n",
    "    if i != k:\n",
    "        simonCircuit.swap(qr[n+i], qr[n+int(k)])\n",
    "\n",
    "# randomly flip the qubit\n",
    "for i in range(n):\n",
    "    if np.random.random() > 0.5:\n",
    "        simonCircuit.x(qr[n+i])\n",
    "\n",
    "# Apply the barrier to mark the end of the blackbox function\n",
    "simonCircuit.barrier()"
   ]
  },
  {
   "cell_type": "markdown",
   "metadata": {},
   "source": [
    "Now we can continue with the steps of the Simon algorithm: applying the Hadamard gates to the first register and measure."
   ]
  },
  {
   "cell_type": "code",
   "execution_count": 5,
   "metadata": {
    "collapsed": true
   },
   "outputs": [],
   "source": [
    "# Step 4 apply Hadamard gates to the first register\n",
    "for i in range(n):\n",
    "    simonCircuit.h(qr[i])\n",
    "    \n",
    "# Step 5 perform measurement on the first register\n",
    "for i in range(n):\n",
    "    simonCircuit.measure(qr[i], cr[i])"
   ]
  },
  {
   "cell_type": "markdown",
   "metadata": {},
   "source": [
    "## Experimenting with Simulators\n",
    "\n",
    "We show the experiments of finding the hidden integer with simulators."
   ]
  },
  {
   "cell_type": "code",
   "execution_count": 6,
   "metadata": {},
   "outputs": [
    {
     "data": {
      "image/png": "[encoded data removed]",
      "text/plain": [
       "<matplotlib.figure.Figure at 0x1123dcac8>"
      ]
     },
     "metadata": {},
     "output_type": "display_data"
    }
   ],
   "source": [
    "# use local simulator\n",
    "backend = \"local_qiskit_simulator\"\n",
    "# the number of shots is twice the length of the bitstring\n",
    "shots = 2*n\n",
    "results = Q_program.execute([circuitName], backend=backend, shots=shots)\n",
    "answer = results.get_counts(circuitName)\n",
    "\n",
    "plot_histogram(answer)"
   ]
  },
  {
   "cell_type": "markdown",
   "metadata": {},
   "source": [
    "We can see that the results of the measurements are the basis whose inner product with the hidden string $s$ are zero. \n",
    "\n",
    "*(Notice that the basis on the label of the x-axis in the above plot are numbered from right to left instead of from left to right that we used for $s$* "
   ]
  },
  {
   "cell_type": "code",
   "execution_count": 7,
   "metadata": {},
   "outputs": [
    {
     "name": "stdout",
     "output_type": "stream",
     "text": [
      "The hidden bistring s[ 0 ], s[ 1 ]....s[ 4 ] is the one satisfying the following system of linear equations:\n",
      "s[ 0 ] = 0\n",
      "s[ 1 ] + s[ 2 ] = 0\n",
      "s[ 3 ] = 0\n",
      "s[ 4 ] = 0\n"
     ]
    }
   ],
   "source": [
    "# Constructing the system of linear equations Y s = 0\n",
    "# By k[::-1], we reverse the order of the bitstring\n",
    "lAnswer = [ (k[::-1],v) for k,v in answer.items() if k != \"0\"*n  ] #excluding the trivial all-zero\n",
    "#Sort the basis by their probabilities\n",
    "lAnswer.sort(key = lambda x: x[1], reverse=True)\n",
    "\n",
    "Y = []\n",
    "for k, v in lAnswer:\n",
    "    Y.append( [ int(c) for c in k ] )\n",
    "\n",
    "\n",
    "#import tools from sympy\n",
    "from sympy import Matrix, pprint, MatrixSymbol, expand\n",
    "\n",
    "Y = Matrix(Y)\n",
    "\n",
    "#Perform Gaussian elimination on Y\n",
    "Y_transformed = Y.rref(iszerofunc=lambda x: x % 2==0) # linear algebra on GF(2) \n",
    "\n",
    "print(\"The hidden bistring s[ 0 ], s[ 1 ]....s[\",n-1,\"] is the one satisfying the following system of linear equations:\")\n",
    "rows, cols = Y_transformed[0].shape\n",
    "for r in range(rows):\n",
    "    Yr = [ \"s[ \"+str(i)+\" ]\" for i, v in enumerate(list(Y_transformed[0][r,:])) if v == 1 ]\n",
    "    if len(Yr) > 0:\n",
    "        tStr = \" + \".join(Yr)\n",
    "        print(tStr, \"= 0\")\n"
   ]
  },
  {
   "cell_type": "markdown",
   "metadata": {},
   "source": [
    "As seen above, the system of linear equations is satisfied by the hidden integer $s$. Notice that there can be more than one solutions to the system, but by having more samples one can narrow down the candidates of the solution, and then test the solution by querying the blackbock in the classical manner.\n",
    "\n",
    "## Experimenting with Real Devices\n",
    "\n",
    "We see how one can still find out the hidden integer by running the Simon algorithm on real devices. Due to imperfect quantum computers, obtaining the conclusion is not as easy as done with the simulator of perfect quantum computers."
   ]
  },
  {
   "cell_type": "code",
   "execution_count": null,
   "metadata": {},
   "outputs": [
    {
     "name": "stdout",
     "output_type": "stream",
     "text": [
      "{'available': True, 'pending_jobs': 46, 'backend': 'ibmqx5'}\n"
     ]
    },
    {
     "name": "stderr",
     "output_type": "stream",
     "text": [
      "WARNING:IBMQuantumExperience.IBMQuantumExperience:Got a 502 code response to https://quantumexperience.ng.bluemix.net/api/Backends?access_token=4nBJER8yUpBC6lanIt8NdtBsoRMsQZqKu5bDGwFpGHl6Sku02H9ejJarDwNBSmQi: 502 Bad Gateway: Registered endpoint failed to handle the request.\n",
      "\n"
     ]
    }
   ],
   "source": [
    "#import tools from sympy\n",
    "from sympy import Matrix, pprint, MatrixSymbol, expand\n",
    "backend = \"ibmqx5\"\n",
    "\n",
    "# show the status of the backend\n",
    "print(get_backend_instance(backend).status)\n",
    "\n",
    "shots = 4*n #run more experiments to be certain\n",
    "\n",
    "if get_backend_instance(backend).status[\"available\"] is True:\n",
    "    results = Q_program.execute([circuitName], backend=backend, shots=shots, timeout=2400)\n",
    "    answer = results.get_counts(circuitName)\n",
    "\n",
    "    plot_histogram(answer)\n",
    "    \n",
    "    # Constructing the system of linear equations Y s = 0\n",
    "    # By k[::-1], we reverse the order of the bitstring\n",
    "    lAnswer = [ (k[::-1],v) for k,v in answer.items() if k != \"0\"*n  ] #excluding the trivial all-zero\n",
    "    #Sort the basis by their probabilities\n",
    "    lAnswer.sort(key = lambda x: x[1], reverse=True)\n",
    "\n",
    "    Y = []\n",
    "    for k, v in lAnswer:\n",
    "        Y.append( [ int(c) for c in k ] )\n",
    "\n",
    "    Y = Matrix(Y)\n",
    "\n",
    "    #Perform Gaussian elimination on Y\n",
    "    Y_transformed = Y.rref(iszerofunc=lambda x: x % 2==0) # linear algebra on GF(2) \n",
    "\n",
    "    print(\"The hidden bistring s[ 0 ], s[ 1 ]....s[\",n-1,\"] is the one satisfying the following system of linear equations:\")\n",
    "    rows, cols = Y_transformed[0].shape\n",
    "    for r in range(rows):\n",
    "        Yr = [ \"s[ \"+str(i)+\" ]\" for i, v in enumerate(list(Y_transformed[0][r,:])) if v == 1 ]\n",
    "        if len(Yr) > 0:\n",
    "            tStr = \" + \".join(Yr)\n",
    "            print(tStr, \"= 0\")\n"
   ]
  },
  {
   "cell_type": "markdown",
   "metadata": {},
   "source": [
    "We indeed see that the outcome is the binary representation of the hidden integer $s$ with high probability. "
   ]
  },
  {
   "cell_type": "markdown",
   "metadata": {
    "collapsed": true
   },
   "source": [
    "## References\n",
    "\n",
    "[1] \"[On the power of quantum computation](https://epubs.siam.org/doi/abs/10.1137/S0097539796298637)\", Daniel R. Simon, SIAM J. Comput., 26(5), 1474–1483 (1997) "
   ]
  },
  {
   "cell_type": "code",
   "execution_count": null,
   "metadata": {
    "collapsed": true
   },
   "outputs": [],
   "source": []
  }
 ],
 "metadata": {
  "kernelspec": {
   "display_name": "QISKitenv",
   "language": "python",
   "name": "qiskitenv"
  },
  "language_info": {
   "codemirror_mode": {
    "name": "ipython",
    "version": 3
   },
   "file_extension": ".py",
   "mimetype": "text/x-python",
   "name": "python",
   "nbconvert_exporter": "python",
   "pygments_lexer": "ipython3",
   "version": "3.6.2"
  }
 },
 "nbformat": 4,
 "nbformat_minor": 2
}
