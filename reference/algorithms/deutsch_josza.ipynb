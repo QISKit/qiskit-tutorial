{
 "cells": [
  {
   "cell_type": "markdown",
   "metadata": {},
   "source": [
    "<img src=\"../../images/QISKit.gif\" alt=\"Note: In order for images to show up in this jupyter notebook you need to select File => Trusted Notebook\" width=\"250 px\" align=\"left\">"
   ]
  },
  {
   "cell_type": "markdown",
   "metadata": {},
   "source": [
    "## _*The Deutsch-Josza Algorithm*_ \n",
    "\n",
    "The [Deutsch-Josza algorithm](http://rspa.royalsocietypublishing.org/content/439/1907/553) is one of the earliest examples demonstrating the power of quantum computers. The algorithm deals with guessing the type of a hidden Boolean function given as an oracle. The Boolean function is promised to be either balanced, i.e., whose values are $0$ on half of its inputs, or constant, i.e., whose values are the same on all inputs. \n",
    "\n",
    "Classically, in the best case two queries to the oracle can determine if the hidden Boolean function is balanced. But in the worst case at least half of the inputs must be queried to determine if the hidden Boolean function is constant for all inputs. On the other hand, the Deutsch-Josza algorithm can determine the Boolean function with one quantum query.   \n",
    "\n",
    "The latest version of this notebook is available on https://github.com/QISKit/qiskit-tutorial.\n",
    "\n",
    "***\n",
    "### Contributors\n",
    "Rudy Raymond"
   ]
  },
  {
   "cell_type": "markdown",
   "metadata": {},
   "source": [
    "## Introduction <a id='introduction'></a>\n",
    "\n",
    "The algorithm in this notebook follows that in [Cleve et al.1997](https://arxiv.org/pdf/quant-ph/9708016.pdf). We assume that the input to the oracle $f$ is a $n$-bit string. Namely, for each $x \\in \\{0,1\\}^n$ the value of $f(x)$ is promised to be either constant, i.e., the same for all $x$, or balanced, i.e., there are exactly half of $n$-bit string whose $f(x) = 0$. "
   ]
  },
  {
   "cell_type": "markdown",
   "metadata": {},
   "source": [
    "## The Algorithm\n",
    "\n",
    "The algorithm is quite simple as follows.\n",
    "1. Prepare two quantum registers initialized to zero. The first is a $n$-qubit reqister for querying the oracle and the second is a one-qubit register for storing the answer of the oracle\n",
    "\n",
    "2. Create the superposition of all input queries in the first register by applying the Hadamard gate to each qubit.\n",
    "\n",
    "3. Flip the second register and apply the Hadamard gate. This is to store the answer of the oracle in the phase.\n",
    "\n",
    "4. Query the oracle\n",
    "\n",
    "5. Apply the Hadamard gate to the first register\n",
    "\n",
    "6. Measure the first register. If it is non-zero, then conclude that the hidden Boolean function is balanced. Otherwise, conclude that it is constant. "
   ]
  },
  {
   "cell_type": "markdown",
   "metadata": {},
   "source": [
    "## The Circuit <a id=\"circuit\"></a>\n",
    "\n",
    "We now implement the Deutsch-Josza algorithm with QISKit by first preparing the environment."
   ]
  },
  {
   "cell_type": "code",
   "execution_count": 1,
   "metadata": {},
   "outputs": [],
   "source": [
    "# useful additional packages \n",
    "import sys\n",
    "import matplotlib.pyplot as plt\n",
    "%matplotlib inline\n",
    "import numpy as np\n",
    "\n",
    "# importing the QISKit\n",
    "from qiskit import QuantumProgram\n",
    "try:\n",
    "    sys.path.append(\"../../\") # go to parent dir\n",
    "    import Qconfig\n",
    "    qx_config = {\n",
    "        \"APItoken\": Qconfig.APItoken,\n",
    "        \"url\": Qconfig.config['url']}\n",
    "except:\n",
    "    qx_config = {\n",
    "        \"APItoken\":\"YOUR_TOKEN_HERE\",\n",
    "        \"url\":\"https://quantumexperience.ng.bluemix.net/api\"}\n",
    "\n",
    "# import basic plot tools\n",
    "from qiskit.tools.visualization import plot_histogram"
   ]
  },
  {
   "cell_type": "markdown",
   "metadata": {},
   "source": [
    "We first set the length of the $n$-bit string. "
   ]
  },
  {
   "cell_type": "code",
   "execution_count": 2,
   "metadata": {},
   "outputs": [],
   "source": [
    "n = 15 #the length of the first register for querying the oracle "
   ]
  },
  {
   "cell_type": "markdown",
   "metadata": {},
   "source": [
    "We then use QISKit to program the Bernstein-Vazirani algorithm."
   ]
  },
  {
   "cell_type": "code",
   "execution_count": 3,
   "metadata": {},
   "outputs": [
    {
     "name": "stdout",
     "output_type": "stream",
     "text": [
      "The oracle returns a constant value  0\n"
     ]
    }
   ],
   "source": [
    "Q_program = QuantumProgram()\n",
    "Q_program.set_api(qx_config['APItoken'], qx_config['url']) # set the APIToken and API url\n",
    "\n",
    "#Choose a type of oracle at random. With probability half it is constant, \n",
    "#and with the same probability it is balanced\n",
    "oracleType, oracleValue = np.random.randint(2), np.random.randint(2)\n",
    "\n",
    "if oracleType == 0:\n",
    "    print(\"The oracle returns a constant value \", oracleValue)\n",
    "else:\n",
    "    print(\"The oracle returns a balanced function\")\n",
    "    a = np.random.randint(1,2**n) #this is a hidden parameter for balanced oracle. \n",
    "\n",
    "# Creating registers\n",
    "# n qubits for querying the oracle and one qubit for storing the answer\n",
    "qr = Q_program.create_quantum_register(\"qr\", n+1) #all qubits are initialized to zero\n",
    "# for recording the measurement on the first register\n",
    "cr = Q_program.create_classical_register(\"cr\", n)\n",
    "\n",
    "circuitName = \"DeutschJosza\"\n",
    "djCircuit = Q_program.create_circuit(circuitName, [qr], [cr])\n",
    "\n",
    "#Create the superposition of all input queries in the first register by applying the Hadamard gate to each qubit.\n",
    "for i in range(n):\n",
    "    djCircuit.h(qr[i])\n",
    "\n",
    "#Flip the second register and apply the Hadamard gate.\n",
    "djCircuit.x(qr[n])\n",
    "djCircuit.h(qr[n])\n",
    "    \n",
    "#Apply barrier to mark the beginning of the oracle\n",
    "djCircuit.barrier()\n",
    "\n",
    "if oracleType == 0:#If the oracleType is \"0\", the oracle returns oracleValue for all input. \n",
    "    if oracleValue == 1:\n",
    "        djCircuit.x(qr[n])\n",
    "    else:\n",
    "        djCircuit.iden(qr[n])\n",
    "else: #Otherwise, it returns the inner product of the input with a (non-zero bitstring) \n",
    "    for i in range(n):\n",
    "        if (a & (1 << i)):\n",
    "            djCircuit.cx(qr[i], qr[n])\n",
    "        \n",
    "#Apply barrier to mark the end of the oracle\n",
    "djCircuit.barrier()\n",
    "\n",
    "#Apply Hadamard gates after querying the oracle\n",
    "for i in range(n):\n",
    "    djCircuit.h(qr[i])\n",
    "    \n",
    "#Measurement\n",
    "for i in range(n):\n",
    "    djCircuit.measure(qr[i], cr[i])"
   ]
  },
  {
   "cell_type": "markdown",
   "metadata": {},
   "source": [
    "## Experiment with Simulators\n",
    "\n",
    "We can run the above circuit on the simulator. "
   ]
  },
  {
   "cell_type": "code",
   "execution_count": 4,
   "metadata": {},
   "outputs": [
    {
     "data": {
      "image/png": "[encoded data removed]",
      "text/plain": [
       "<matplotlib.figure.Figure at 0x1162d3e10>"
      ]
     },
     "metadata": {},
     "output_type": "display_data"
    }
   ],
   "source": [
    "backend = \"ibmqx_hpc_qasm_simulator\"\n",
    "shots = 1000\n",
    "results = Q_program.execute([circuitName], backend=backend, shots=shots)\n",
    "answer = results.get_counts(circuitName)\n",
    "\n",
    "plot_histogram(answer)"
   ]
  },
  {
   "cell_type": "markdown",
   "metadata": {},
   "source": [
    "Repeating the above experiments, we can see that the result of the measurement is all-zero bitstring if the oracle returns a constant value, or non-zero bitstring otherwise.\n",
    "\n",
    "## Experiment with Real Devices\n",
    "\n",
    "We can run the circuit on the real device as below. However, notice that because the real devices are noisy, we cannot obtain the type of oracles with certainty unlike when running the experiments with simulators. The Deutsch-Josza algorithm only shows the superiority of quantum computers against exact classical algorithms: when allowing some error, classically we can determine the type of the hidden Boolean function with constant number of queries. This is asymptotically the same as the case with quantum computers. "
   ]
  },
  {
   "cell_type": "code",
   "execution_count": 5,
   "metadata": {},
   "outputs": [
    {
     "data": {
      "image/png": "[encoded data removed]",
      "text/plain": [
       "<matplotlib.figure.Figure at 0x117c44860>"
      ]
     },
     "metadata": {},
     "output_type": "display_data"
    },
    {
     "name": "stdout",
     "output_type": "stream",
     "text": [
      "{'0000000000000000': 617, '0000000000010000': 34, '0000001000000000': 45, '0001000000000000': 45, '0100000000000000': 30, 'other_bitstring': 229}\n"
     ]
    }
   ],
   "source": [
    "backend = \"ibmqx5\"\n",
    "shots = 1000 \n",
    "if Q_program.get_backend_status('ibmqx5')['available'] == True:\n",
    "    results = Q_program.execute([circuitName], backend=backend, shots=shots, timeout=480)\n",
    "    answer = results.get_counts(circuitName)\n",
    "\n",
    "    threshold = int(0.03 * shots) #the threshold of plotting significant measurements\n",
    "    filteredAnswer = {k: v for k,v in answer.items() if v >= threshold} #filter the answer for better view of plots\n",
    "\n",
    "    removedCounts = np.sum([ v for k,v in answer.items() if v < threshold ]) #number of counts removed \n",
    "    filteredAnswer['other_bitstring'] = removedCounts  #the removed counts is assigned to a new index\n",
    "\n",
    "    plot_histogram(filteredAnswer)\n",
    "\n",
    "    print(filteredAnswer)"
   ]
  },
  {
   "cell_type": "code",
   "execution_count": 1,
   "metadata": {},
   "outputs": [
    {
     "data": {
      "text/html": [
       "<h2>Version information</h2>\n",
       "<p>Please note that this tutorial is targeted to the <b>stable</b> version of the QISKit. The following versions of the packages are recommended:</p>\n",
       "<table>\n",
       "<tr><th>Package</th><th colspan=\"2\">Version</th></tr>\n",
       "<tr><td>QISKit</td><td> 0.4.10</td></tr>\n",
       "<tr><td>IBMQuantumExperience</td><td>&gt;= 1.8.26</td></tr>\n",
       "<tr><td>numpy</td><td>&gt;= 1.13, &lt; 1.14</td></tr>\n",
       "<tr><td>scipy</td><td>&gt;= 0.19, &lt; 0.20</td></tr>\n",
       "<tr><td>matplotlib</td><td>&gt;= 2.0, &lt; 2.1</td></tr>\n",
       "</table>"
      ],
      "text/plain": [
       "<IPython.core.display.HTML object>"
      ]
     },
     "metadata": {},
     "output_type": "display_data"
    }
   ],
   "source": [
    "%run \"../../version.ipynb\""
   ]
  },
  {
   "cell_type": "code",
   "execution_count": null,
   "metadata": {},
   "outputs": [],
   "source": []
  }
 ],
 "metadata": {
  "kernelspec": {
   "display_name": "Python 3",
   "language": "python",
   "name": "python3"
  },
  "language_info": {
   "codemirror_mode": {
    "name": "ipython",
    "version": 3
   },
   "file_extension": ".py",
   "mimetype": "text/x-python",
   "name": "python",
   "nbconvert_exporter": "python",
   "pygments_lexer": "ipython3",
   "version": "3.6.4"
  }
 },
 "nbformat": 4,
 "nbformat_minor": 2
}
