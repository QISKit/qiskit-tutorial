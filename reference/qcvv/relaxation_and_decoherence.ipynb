{
 "cells": [
  {
   "cell_type": "markdown",
   "metadata": {},
   "source": [
    "<img src=\"../../images/QISKit.gif\" alt=\"Note: In order for images to show up in this jupyter notebook you need to select File => Trusted Notebook\" width=\"250 px\" align=\"left\">"
   ]
  },
  {
   "cell_type": "markdown",
   "metadata": {},
   "source": [
    "## _*Relaxation and Decoherence*_ \n",
    "\n",
    "The latest version of this notebook is available on https://github.com/QISKit/qiskit-tutorial.\n",
    "\n",
    "***\n",
    "### Contributors\n",
    "Martin Sandberg, Hanhee Paik, Antonio Córcoles, and Jay Gambetta"
   ]
  },
  {
   "cell_type": "markdown",
   "metadata": {},
   "source": [
    "## Introduction\n",
    "\n",
    "The interaction of quantum systems with their environment imposes certain limits and constraints on the study of their dynamics. The level of isolation of a quantum system dictates the rate at which it can exchange energy with its environment. This means that a quantum system will not hold a particular state for an arbitrary time, but will in general exchange energy with its environment and relax (or excite) to another state with different energy. This brings a trade-off in terms of controllability: a system that does not exchange much energy with the environment will keep its state for longer, but it will be more difficult to access and manipulate. \n",
    "\n",
    "Interaction with the environment can also result in decoherence, a process that does not result in energy exchange but that transforms quantum coherent states into classical mixed states.\n",
    "\n",
    "These processes, energy relaxation and decoherence, are typically described by timescales referred to as $T_1$ and $T_2$, respectively.     "
   ]
  },
  {
   "cell_type": "code",
   "execution_count": 1,
   "metadata": {
    "collapsed": true
   },
   "outputs": [],
   "source": [
    "from qiskit import QuantumProgram\n",
    "import Qconfig\n",
    "import numpy as np\n",
    "from scipy.optimize import curve_fit\n",
    "from qiskit.tools.qcvv.fitters import exp_fit_fun, osc_fit_fun, plot_coherence"
   ]
  },
  {
   "cell_type": "code",
   "execution_count": 2,
   "metadata": {
    "collapsed": true
   },
   "outputs": [],
   "source": [
    "# function for padding with QId gates\n",
    "def pad_QId(circuit,N,qr):\n",
    "    # circuit to add to, N = number of QId gates to add, qr = qubit reg\n",
    "    for ii in range(N):\n",
    "        circuit.barrier(qr)\n",
    "        circuit.iden(qr)\n",
    "    return circuit    "
   ]
  },
  {
   "cell_type": "code",
   "execution_count": 3,
   "metadata": {
    "collapsed": true
   },
   "outputs": [],
   "source": [
    "# backend and token settings\n",
    "backend = 'ibmqx4' # the device to run on\n",
    "# device = 'simulator'\n",
    "shots = 1024    # the number of shots in the experiment \n",
    "\n",
    "Q_program = QuantumProgram()\n",
    "Q_program.set_api(Qconfig.APItoken, Qconfig.config['url']) # set the APIToken and API url"
   ]
  },
  {
   "cell_type": "markdown",
   "metadata": {},
   "source": [
    "# Measurement of $T_1$\n",
    "\n",
    "Let's measure the relaxation time ($T_1$ time) of one of our qubits. To do this, we simply run a series of experiments in which we place the qubit in the excited state ($|1\\rangle$) and measure its state after a delay time that is varied across the set of experiments. The probability of obtaining the state $|1\\rangle$ decays exponentially as the delay time is increased; the characteristic time of this exponential is defined as $T_1$.\n",
    "\n",
    "The IBM Q Experience does not currently support delays of arbitrary length, so for now, we just append a series of identity operations after the initial excitation pulse. Each identity operation has the same duration of a single-qubit gate and is followed by a -shorter- buffer time. These parameters are backend-dependent."
   ]
  },
  {
   "cell_type": "code",
   "execution_count": 4,
   "metadata": {
    "collapsed": true
   },
   "outputs": [],
   "source": [
    "# Select qubit whose T1 is to be measured\n",
    "qubit=3\n",
    "\n",
    "# Creating registers\n",
    "qr = Q_program.create_quantum_register('qr', 5)\n",
    "cr = Q_program.create_classical_register('cr', 5)\n",
    "\n",
    "# the delay times are all set in terms of single-qubit gates\n",
    "# so we need to calculate the time from these parameters\n",
    "\n",
    "params = Q_program.get_backend_parameters(backend)['qubits'][qubit]\n",
    "pulse_length=params['gateTime']['value'] # single-qubit gate time \n",
    "buffer_length=params['buffer']['value'] # spacing between pulses\n",
    "unit = params['gateTime']['unit']\n",
    "\n",
    "steps=10\n",
    "gates_per_step=80\n",
    "max_gates=(steps-1)*gates_per_step+1\n",
    "tot_length=buffer_length+pulse_length\n",
    "time_per_step=gates_per_step*tot_length\n",
    "qc_dict={}\n",
    "for ii in range(steps):\n",
    "    step_num='step_%s'%(str(ii))\n",
    "    qc_dict.update({step_num:Q_program.create_circuit(step_num, [qr], [cr])})\n",
    "    qc_dict[step_num].x(qr[qubit])\n",
    "    qc_dict[step_num]=pad_QId(qc_dict[step_num],gates_per_step*ii,qr[qubit])\n",
    "    qc_dict[step_num].barrier(qr[qubit])\n",
    "    qc_dict[step_num].measure(qr[qubit], cr[qubit])\n",
    "\n",
    "circuits=list(qc_dict)    \n",
    "# print(Q_program.get_qasms(circuits))"
   ]
  },
  {
   "cell_type": "code",
   "execution_count": null,
   "metadata": {
    "collapsed": true
   },
   "outputs": [],
   "source": [
    "# run the program\n",
    "result=Q_program.execute(circuits, backend=backend, shots=shots, wait=20, timeout=600)"
   ]
  },
  {
   "cell_type": "code",
   "execution_count": null,
   "metadata": {
    "collapsed": true
   },
   "outputs": [],
   "source": [
    "# arrange the data from the run\n",
    "\n",
    "keys_0_1=list(result.get_counts('step_0').keys())# get the key of the excited state '00001' \n",
    "\n",
    "data=np.zeros(len(qc_dict.keys())) # numpy array for data\n",
    "sigma_data = np.zeros(len(qc_dict.keys()))\n",
    "\n",
    "# change unit from ns to microseconds\n",
    "plot_factor=1\n",
    "if unit.find('ns')>-1:\n",
    "    plot_factor=1000\n",
    "    punit='$\\mu$s'\n",
    "xvals=time_per_step*np.linspace(0,len(qc_dict.keys()),len(qc_dict.keys()))/plot_factor # calculate the time steps in microseconds \n",
    "\n",
    "for ii,key in enumerate(qc_dict.keys()):\n",
    "    # get the data in terms of counts for the excited state normalized to the total number of counts\n",
    "    data[ii]=float(result.get_counts(key)[keys_0_1[1]])/shots\n",
    "    sigma_data[ii] = np.sqrt(data[ii]*(1-data[ii]))/np.sqrt(shots)\n",
    "\n",
    "# fit the data to an exponential    \n",
    "fitT1, fcov = curve_fit(exp_fit_fun, xvals, data, bounds=([-1,2,0], [1., 500, 1])) \n",
    "ferr = np.sqrt(np.diag(fcov))\n",
    "\n",
    "plot_coherence(xvals, data, sigma_data, fitT1, exp_fit_fun, punit, 'T$_1$ ', qubit)\n",
    "\n",
    "print(\"a: \" + str(round(fitT1[0],2)) + u\" \\u00B1 \" + str(round(ferr[0],2)))\n",
    "print(\"T1: \" + str(round(fitT1[1],2))+ \" µs\" + u\" \\u00B1 \" + str(round(ferr[1],2)) + ' µs')\n",
    "print(\"c: \" + str(round(fitT1[2],2)) + u\" \\u00B1 \" + str(round(ferr[2],2)))"
   ]
  },
  {
   "cell_type": "markdown",
   "metadata": {},
   "source": [
    "The last calibration of $T_1$ was measured to be"
   ]
  },
  {
   "cell_type": "code",
   "execution_count": null,
   "metadata": {
    "collapsed": true
   },
   "outputs": [],
   "source": [
    "str(params['T1']['value']) +' ' + params['T1']['unit']"
   ]
  },
  {
   "cell_type": "markdown",
   "metadata": {},
   "source": [
    "# Measurement of $T_2^*$\n",
    "\n",
    "We can also measure the coherence time of our qubits. In order to do this, we place the qubit in a superposition state and let it evolve before measuring in the $X$-basis. We will see that as time increases, the qubit evolves from a pure superposition state $|\\Psi_s\\rangle = |0 + 1\\rangle$ to a mixture state $|\\Psi_m\\rangle = |0\\rangle + |1\\rangle$ with no phase information. \n",
    "\n",
    "In the actual experiment, we change the phase of the pulse before the measurement in order to create oscillations in the observed dynamics. If we just did two Hadamard gates separated by a delay, we would observe a decay of characteristic time $T^*_2$, but with a strong dependence on any deviation of the calibrated qubit frequency from the actual one. By implementing the qubit pulses with different phases, we shift the frequency dependence into the oscillating feature of the dynamics, and can fit the decaying envelope for a more faithful measure of the coherence time."
   ]
  },
  {
   "cell_type": "code",
   "execution_count": null,
   "metadata": {
    "collapsed": true
   },
   "outputs": [],
   "source": [
    "# Select qubit on which to measure T2*\n",
    "qubit=0\n",
    "\n",
    "# Creating registers\n",
    "qr = Q_program.create_quantum_register('qr', 5)\n",
    "cr = Q_program.create_classical_register('cr', 5)\n",
    "\n",
    "params = Q_program.get_backend_parameters(backend)['qubits'][qubit]\n",
    "pulse_length=params['gateTime']['value'] # single-qubit gate time \n",
    "buffer_length=params['buffer']['value'] # spacing between pulses\n",
    "unit = params['gateTime']['unit']\n",
    "\n",
    "steps=40\n",
    "gates_per_step=5\n",
    "max_gates=(steps-1)*gates_per_step+2\n",
    "\n",
    "num_osc=4\n",
    "tot_length=buffer_length+pulse_length\n",
    "time_per_step=gates_per_step*tot_length\n",
    "f_set=(4.0/(steps*time_per_step)) # set frequency in MHz\n",
    "qc_dict={}\n",
    "for ii in range(steps):\n",
    "    step_num='step_%s'%(str(ii))\n",
    "    qc_dict.update({step_num:Q_program.create_circuit(step_num, [qr], [cr])})\n",
    "    qc_dict[step_num].h(qr[qubit])\n",
    "    qc_dict[step_num]=pad_QId(qc_dict[step_num],gates_per_step*ii,qr[qubit])\n",
    "    qc_dict[step_num].u1(2*np.pi*num_osc*ii/(steps-1),qr[qubit])\n",
    "    qc_dict[step_num].h(qr[qubit])\n",
    "    qc_dict[step_num].barrier(qr[qubit])\n",
    "    qc_dict[step_num].measure(qr[qubit], cr[qubit])\n",
    "circuits=list(qc_dict)    \n",
    "# print(Q_program.get_qasms(circuits))"
   ]
  },
  {
   "cell_type": "code",
   "execution_count": null,
   "metadata": {
    "collapsed": true
   },
   "outputs": [],
   "source": [
    "result=Q_program.execute(circuits, backend=backend, shots=shots, wait=20, timeout=600)"
   ]
  },
  {
   "cell_type": "code",
   "execution_count": null,
   "metadata": {
    "collapsed": true
   },
   "outputs": [],
   "source": [
    "# arrange the data from the run\n",
    "\n",
    "\n",
    "keys_0_1=list(result.get_counts('step_0').keys())# get the key of the excited state '00001' \n",
    "\n",
    "# change unit from ns to microseconds\n",
    "plot_factor=1\n",
    "if unit.find('ns')>-1:\n",
    "    plot_factor=1000\n",
    "    punit='$\\mu$s'\n",
    "xvals=time_per_step*np.linspace(0,len(qc_dict.keys()),len(qc_dict.keys()))/plot_factor # calculate the time steps \n",
    "\n",
    "\n",
    "data=np.zeros(len(qc_dict.keys())) # numpy array for data\n",
    "sigma_data = np.zeros(len(qc_dict.keys()))\n",
    "\n",
    "for ii,key in enumerate(qc_dict.keys()):\n",
    "    # get the data in terms of counts for the excited state normalized to the total number of counts\n",
    "    data[ii]=float(result.get_counts(key)[keys_0_1[1]])/shots\n",
    "    sigma_data[ii] = np.sqrt(data[ii]*(1-data[ii]))/np.sqrt(shots)\n",
    "    \n",
    "fitT2s, fcov = curve_fit(osc_fit_fun, xvals, data, p0=[0.5, 100, 1/10, np.pi, 0], bounds=([0.3,0,0,0,0], [0.5, 200, 1/2,2*np.pi,1]))\n",
    "ferr = np.sqrt(np.diag(fcov))\n",
    "\n",
    "plot_coherence(xvals, data, sigma_data, fitT2s, osc_fit_fun, punit, '$T_2^*$ ', qubit)\n",
    "\n",
    "print(\"a: \" + str(round(fitT2s[0],2)) + u\" \\u00B1 \" + str(round(ferr[0],2)))\n",
    "print(\"T2*: \" + str(round(fitT2s[1],2))+ \" µs\"+ u\" \\u00B1 \" + str(round(ferr[1],2)) + ' µs')\n",
    "print(\"f: \" + str(round(10**3*fitT2s[2],3)) + 'kHz' + u\" \\u00B1 \" + str(round(10**6*ferr[2],3)) + 'kHz')\n",
    "print(\"phi: \" + str(round(fitT2s[3],2)) + u\" \\u00B1 \" + str(round(ferr[3],2)))\n",
    "print(\"c: \" + str(round(fitT2s[4],2)) + u\" \\u00B1 \" + str(round(ferr[4],2)))"
   ]
  },
  {
   "cell_type": "markdown",
   "metadata": {},
   "source": [
    "# Measurement of $T_2$ Echo\n",
    "\n",
    "We have referred to the previous experiment's characteristic time as $T^*_2$ and not $T_2$ by analogy to nuclear magnetic resonance (NMR). Indeed, one can isolate different frequency components to the decoherence process by devising increasingly elaborated pulse sequences. To illustrate the analogy with NMR, one can think about an ensemble of nuclear spins precessing in an external DC magnetic field. Due to field inhomogeneities, each spin might precess with a slightly different Larmoor frequency. This certainly will affect the observed coherence time of the ensemble. However, it is possible to echo away this low-frequency decoherence process by applying a pi-pulse to the system halfway through the delay. The effect of this pi-pulse is to reverse the direction of the precession of each individual spin due to field inhomogeneities. Thus, the spins that had precessed more now start precessing in the opposite direction faster than the spins that had precessed less, and after an equal delay, all the spins in the system recover the initial coherence, except for other, higher-frequency, decoherence mechanisms.\n",
    "\n",
    "Here, we are measuring only a single qubit rather than an ensemble of spins, but coherence measurements require averaging an ensemble of measurements in order to eliminate projection noise, and run-to-run fluctuations in the qubit's frequency will similarly manifest themselves as decoherence if they are not canceled out. By running this $T_2$ echo sequence, we can therefore remove low-frequency components of the decoherence."
   ]
  },
  {
   "cell_type": "code",
   "execution_count": null,
   "metadata": {
    "collapsed": true
   },
   "outputs": [],
   "source": [
    "# Select qubit to measure T2 echo on\n",
    "qubit=3\n",
    "\n",
    "# Creating registers\n",
    "qr = Q_program.create_quantum_register('qr', 5)\n",
    "cr = Q_program.create_classical_register('cr', 5)\n",
    "\n",
    "params = Q_program.get_backend_parameters(backend)['qubits'][qubit]\n",
    "pulse_length=params['gateTime']['value'] # single-qubit gate time \n",
    "buffer_length=params['buffer']['value'] # spacing between pulses\n",
    "unit = params['gateTime']['unit']\n",
    "\n",
    "steps=20\n",
    "gates_per_step=20\n",
    "tot_length=buffer_length+pulse_length\n",
    "max_gates=(steps-1)*2*gates_per_step+3\n",
    "time_per_step=(2*gates_per_step)*tot_length\n",
    "qc_dict={}\n",
    "for ii in range(steps):\n",
    "    step_num='step_%s'%(str(ii))\n",
    "    qc_dict.update({step_num:Q_program.create_circuit(step_num, [qr], [cr])})\n",
    "    qc_dict[step_num].h(qr[qubit])\n",
    "    qc_dict[step_num]=pad_QId(qc_dict[step_num],gates_per_step*ii,qr[qubit])\n",
    "    qc_dict[step_num].x(qr[qubit])\n",
    "    qc_dict[step_num]=pad_QId(qc_dict[step_num],gates_per_step*ii,qr[qubit])\n",
    "    qc_dict[step_num].h(qr[qubit])\n",
    "    qc_dict[step_num].barrier(qr[qubit])\n",
    "    qc_dict[step_num].measure(qr[qubit], cr[qubit])\n",
    "circuits=list(qc_dict)    \n",
    "# print(Q_program.get_qasms(circuits))"
   ]
  },
  {
   "cell_type": "code",
   "execution_count": null,
   "metadata": {
    "collapsed": true
   },
   "outputs": [],
   "source": [
    "# run the program\n",
    "result=Q_program.execute(circuits, backend=backend, shots=shots, wait=20, timeout=600)"
   ]
  },
  {
   "cell_type": "code",
   "execution_count": null,
   "metadata": {
    "collapsed": true
   },
   "outputs": [],
   "source": [
    "# arrange the data from the run\n",
    "\n",
    "keys_0_1=list(result.get_counts('step_0').keys())# get the key of the excited state '00001' \n",
    "\n",
    "\n",
    "# change unit from ns to microseconds\n",
    "plot_factor=1\n",
    "if unit.find('ns')>-1:\n",
    "    plot_factor=1000\n",
    "    punit='$\\mu$s'\n",
    "xvals=time_per_step*np.linspace(0,len(qc_dict.keys()),len(qc_dict.keys()))/plot_factor # calculate the time steps \n",
    "\n",
    "\n",
    "data=np.zeros(len(qc_dict.keys())) # numpy array for data\n",
    "sigma_data = np.zeros(len(qc_dict.keys()))\n",
    "\n",
    "\n",
    "for ii,key in enumerate(qc_dict.keys()):\n",
    "    # get the data in terms of counts for the excited state normalized to the total number of counts\n",
    "    data[ii]=float(result.get_counts(key)[keys_0_1[1]])/shots\n",
    "    sigma_data[ii] = np.sqrt(data[ii]*(1-data[ii]))/np.sqrt(shots)\n",
    "    \n",
    "fitT2e, fcov = curve_fit(exp_fit_fun, xvals, data, bounds=([-1,10,0], [1, 150, 1])) \n",
    "ferr = np.sqrt(np.diag(fcov))\n",
    "\n",
    "plot_coherence(xvals, data, sigma_data, fitT2e, exp_fit_fun, punit, '$T_{2echo}$ ', qubit)\n",
    "\n",
    "print(\"a: \" + str(round(fitT2e[0],2)) + u\" \\u00B1 \" + str(round(ferr[0],2)))\n",
    "print(\"T2: \" + str(round(fitT2e[1],2))+ ' µs' + u\" \\u00B1 \" + str(round(ferr[1],2)) + ' µs')\n",
    "print(\"c: \" + str(round(fitT2e[2],2)) + u\" \\u00B1 \" + str(round(ferr[2],2)))"
   ]
  },
  {
   "cell_type": "markdown",
   "metadata": {},
   "source": [
    "The last calibration of $T_2$ was measured to be"
   ]
  },
  {
   "cell_type": "code",
   "execution_count": null,
   "metadata": {
    "collapsed": true
   },
   "outputs": [],
   "source": [
    "str(params['T2']['value']) +' ' + params['T2']['unit']"
   ]
  },
  {
   "cell_type": "markdown",
   "metadata": {},
   "source": [
    "## CPMG measurement\n",
    " \n",
    "As explained above, the echo sequence removes low-frequency decoherence mechanisms. This noise-filtering procedure can be extended with increased number of pi-pulses within the delay. In the following experiment, we implement an echo experiment with seven pi-pulses during the delay between the initial and final pulses. This kind of echo with several pi-pulses is referred to as a CPMG experiment, after Carr, Purcell, Meiboom, and Gill.  "
   ]
  },
  {
   "cell_type": "code",
   "execution_count": null,
   "metadata": {
    "collapsed": true
   },
   "outputs": [],
   "source": [
    "# Select qubit to measure T2 echo on\n",
    "qubit=3\n",
    "\n",
    "# Creating registers\n",
    "qr = Q_program.create_quantum_register('qr', 5)\n",
    "cr = Q_program.create_classical_register('cr', 5)\n",
    "\n",
    "params = Q_program.get_backend_parameters(backend)['qubits'][qubit]\n",
    "pulse_length=params['gateTime']['value'] # single-qubit gate time \n",
    "buffer_length=params['buffer']['value'] # spacing between pulses\n",
    "unit = params['gateTime']['unit']\n",
    "\n",
    "steps=17\n",
    "gates_per_step=6\n",
    "num_echo=7 # has to be odd number to end up in ground state at the end\n",
    "tot_length=buffer_length+pulse_length\n",
    "time_per_step=((num_echo+1)*gates_per_step+num_echo)*tot_length\n",
    "max_gates=num_echo*(steps-1)*gates_per_step+num_echo+2\n",
    "qc_dict={}\n",
    "for ii in range(steps):\n",
    "    step_num='step_%s'%(str(ii))\n",
    "    qc_dict.update({step_num:Q_program.create_circuit(step_num, [qr], [cr])})\n",
    "    qc_dict[step_num].h(qr[qubit])\n",
    "    for iii in range(num_echo):\n",
    "        qc_dict[step_num]=pad_QId(qc_dict[step_num], gates_per_step*ii, qr[qubit])\n",
    "        qc_dict[step_num].x(qr[qubit])\n",
    "    qc_dict[step_num]=pad_QId(qc_dict[step_num], gates_per_step*ii, qr[qubit])\n",
    "    qc_dict[step_num].h(qr[qubit])\n",
    "    qc_dict[step_num].barrier(qr[qubit])\n",
    "    qc_dict[step_num].measure(qr[qubit], cr[qubit])\n",
    "circuits=list(qc_dict)    \n",
    "# print(Q_program.get_qasms(circuits))"
   ]
  },
  {
   "cell_type": "code",
   "execution_count": null,
   "metadata": {
    "collapsed": true
   },
   "outputs": [],
   "source": [
    "# run the program\n",
    "result=Q_program.execute(circuits, backend=backend, shots=shots, wait=20, timeout=600)"
   ]
  },
  {
   "cell_type": "code",
   "execution_count": null,
   "metadata": {
    "collapsed": true
   },
   "outputs": [],
   "source": [
    "# arrange the data from the run\n",
    "\n",
    "keys_0_1=list(result.get_counts('step_0').keys())# get the key of the excited state '00001' \n",
    "\n",
    "\n",
    "# change unit from ns to microseconds\n",
    "plot_factor=1\n",
    "if unit.find('ns')>-1:\n",
    "    plot_factor=1000\n",
    "    punit='$\\mu$s'\n",
    "xvals=time_per_step*np.linspace(0,len(qc_dict.keys()),len(qc_dict.keys()))/plot_factor # calculate the time steps \n",
    "\n",
    "\n",
    "data=np.zeros(len(qc_dict.keys())) # numpy array for data\n",
    "sigma_data = np.zeros(len(qc_dict.keys()))\n",
    "\n",
    "for ii,key in enumerate(qc_dict.keys()):\n",
    "    # get the data in terms of counts for the excited state normalized to the total number of counts\n",
    "    data[ii]=float(result.get_counts(key)[keys_0_1[1]])/shots\n",
    "    sigma_data[ii] = np.sqrt(data[ii]*(1-data[ii]))/np.sqrt(shots)\n",
    "    \n",
    "fitT2cpmg, fcov = curve_fit(exp_fit_fun, xvals, data, bounds=([-1,10,0], [1, 150, 1])) \n",
    "ferr = np.sqrt(np.diag(fcov))\n",
    "\n",
    "plot_coherence(xvals, data, sigma_data, fitT2cpmg, exp_fit_fun, punit, '$T_{2cpmg}$ ', qubit)\n",
    "\n",
    "print(\"a: \" + str(round(fitT2cpmg[0],2)) + u\" \\u00B1 \" + str(round(ferr[0],2)))\n",
    "print(\"T2: \" + str(round(fitT2cpmg[1],2))+ ' µs' + u\" \\u00B1 \" + str(round(ferr[1],2)) + ' µs')\n",
    "print(\"c: \" + str(round(fitT2cpmg[2],2)) + u\" \\u00B1 \" + str(round(ferr[2],2)))"
   ]
  },
  {
   "cell_type": "code",
   "execution_count": 7,
   "metadata": {},
   "outputs": [
    {
     "ename": "FileNotFoundError",
     "evalue": "[Errno 2] No such file or directory: '../requirements.txt'",
     "output_type": "error",
     "traceback": [
      "\u001b[1;31m---------------------------------------------------------------------------\u001b[0m",
      "\u001b[1;31mFileNotFoundError\u001b[0m                         Traceback (most recent call last)",
      "\u001b[1;32m~\\Documents\\Quantum Experience\\jay-qiskit-tutorial\\qiskit-tutorial\\version.ipynb\u001b[0m in \u001b[0;36m<module>\u001b[1;34m()\u001b[0m\n\u001b[1;32m----> 1\u001b[1;33m \u001b[1;32mfrom\u001b[0m \u001b[0mutils\u001b[0m \u001b[1;32mimport\u001b[0m \u001b[0mversion\u001b[0m\u001b[1;33m;\u001b[0m \u001b[0mversion\u001b[0m\u001b[1;33m.\u001b[0m\u001b[0mversion_information\u001b[0m\u001b[1;33m(\u001b[0m\u001b[1;33m)\u001b[0m\u001b[1;33m\u001b[0m\u001b[0m\n\u001b[0m",
      "\u001b[1;32m~\\Documents\\Quantum Experience\\jay-qiskit-tutorial\\qiskit-tutorial\\utils\\version.py\u001b[0m in \u001b[0;36mversion_information\u001b[1;34m(sdk_develop)\u001b[0m\n\u001b[0;32m     52\u001b[0m         \u001b[0mfilename\u001b[0m \u001b[1;33m=\u001b[0m \u001b[1;34m'../requirements.txt'\u001b[0m\u001b[1;33m\u001b[0m\u001b[0m\n\u001b[0;32m     53\u001b[0m \u001b[1;33m\u001b[0m\u001b[0m\n\u001b[1;32m---> 54\u001b[1;33m     \u001b[1;32mwith\u001b[0m \u001b[0mopen\u001b[0m\u001b[1;33m(\u001b[0m\u001b[0mfilename\u001b[0m\u001b[1;33m,\u001b[0m \u001b[1;34m'r'\u001b[0m\u001b[1;33m)\u001b[0m \u001b[1;32mas\u001b[0m \u001b[0mrequirements_file\u001b[0m\u001b[1;33m:\u001b[0m\u001b[1;33m\u001b[0m\u001b[0m\n\u001b[0m\u001b[0;32m     55\u001b[0m         \u001b[0mstr_requirements\u001b[0m \u001b[1;33m=\u001b[0m \u001b[0mrequirements_file\u001b[0m\u001b[1;33m.\u001b[0m\u001b[0mreadlines\u001b[0m\u001b[1;33m(\u001b[0m\u001b[1;33m)\u001b[0m\u001b[1;33m\u001b[0m\u001b[0m\n\u001b[0;32m     56\u001b[0m         \u001b[0mrequirements\u001b[0m \u001b[1;33m=\u001b[0m \u001b[1;33m[\u001b[0m\u001b[0mRequirement\u001b[0m\u001b[1;33m(\u001b[0m\u001b[0mi\u001b[0m\u001b[1;33m)\u001b[0m \u001b[1;32mfor\u001b[0m \u001b[0mi\u001b[0m \u001b[1;32min\u001b[0m \u001b[0mstr_requirements\u001b[0m\u001b[1;33m]\u001b[0m\u001b[1;33m\u001b[0m\u001b[0m\n",
      "\u001b[1;31mFileNotFoundError\u001b[0m: [Errno 2] No such file or directory: '../requirements.txt'"
     ]
    }
   ],
   "source": [
    "%run \"../../version.ipynb\""
   ]
  },
  {
   "cell_type": "code",
   "execution_count": null,
   "metadata": {
    "collapsed": true
   },
   "outputs": [],
   "source": []
  }
 ],
 "metadata": {
  "anaconda-cloud": {},
  "kernelspec": {
   "display_name": "Python 3",
   "language": "python",
   "name": "python3"
  },
  "language_info": {
   "codemirror_mode": {
    "name": "ipython",
    "version": 3
   },
   "file_extension": ".py",
   "mimetype": "text/x-python",
   "name": "python",
   "nbconvert_exporter": "python",
   "pygments_lexer": "ipython3",
   "version": "3.6.3"
  }
 },
 "nbformat": 4,
 "nbformat_minor": 2
}
