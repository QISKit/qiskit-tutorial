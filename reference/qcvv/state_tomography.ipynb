{
 "cells": [
  {
   "cell_type": "markdown",
   "metadata": {},
   "source": [
    "<img src=\"../../images/QISKit.gif\" alt=\"Note: In order for images to show up in this jupyter notebook you need to select File => Trusted Notebook\" width=\"250 px\" align=\"left\">"
   ]
  },
  {
   "cell_type": "markdown",
   "metadata": {},
   "source": [
    "## _*Quantum State Tomography*_ \n",
    "\n",
    "The latest version of this notebook is available on https://github.com/QISKit/qiskit-tutorial.\n",
    "\n",
    "***\n",
    "### Contributors\n",
    "Christopher J. Wood$^{1}$ and Jay M. Gambetta$^{1}$\n",
    "\n",
    "1. IBM T.J. Watson Research Center, Yorktown Heights, NY, USA"
   ]
  },
  {
   "cell_type": "markdown",
   "metadata": {},
   "source": [
    "## Introduction\n",
    "\n",
    "In this notebook we demonstrate how to design and run experiments to perform quantum state tomography using QISKit, and demonstrate this using both simulators and the IBM Q Experience hardware. \n",
    "\n",
    "The functions used in this notebook to implement state tomography may be imported from the `tools.qcvv.tomography` module.\n",
    "\n",
    "#### Experiment Design\n",
    "\n",
    "The tomography experiments demonstrated in this notebook append a state preparation circuit with to perform measurements of all qubits in each of the X, Y, and Z Pauli bases. For $n$-qubits this gives a total of $3^n$ measurement circuits which must be run, and the resulting counts for the $6^n$ measurement outcomes across all circuits give a tomographically overcomplete basis for reconstruction of the quantum state.\n",
    "\n",
    "#### State Reconstruction Methods\n",
    "\n",
    "State reconstruction may be done using a variety of methods. In this notebook we implement two simple cases: \n",
    "* Linear Inversion\n",
    "* Fast maximum likelihood (*see [J Smolin, JM Gambetta, G Smith, Phys. Rev. Lett. 108, 070502](https://journals.aps.org/prl/abstract/10.1103/PhysRevLett.108.070502), open access: [arXiv:1106.5458](https://arxiv.org/abs/1106.5458)*)."
   ]
  },
  {
   "cell_type": "code",
   "execution_count": 2,
   "metadata": {
    "collapsed": true
   },
   "outputs": [],
   "source": [
    "import numpy as np\n",
    "    \n",
    "# importing the QISKit\n",
    "from qiskit import QuantumCircuit, QuantumProgram\n",
    "import Qconfig\n",
    "\n",
    "# import tomography libary\n",
    "import qiskit.tools.qcvv.tomography as tomo\n",
    "\n",
    "# useful additional packages \n",
    "from qiskit.tools.visualization import plot_state, plot_histogram\n",
    "from qiskit.tools.qi.qi import state_fidelity, concurrence, purity, outer"
   ]
  },
  {
   "cell_type": "markdown",
   "metadata": {},
   "source": [
    "## State tomography of an entangled Bell-state\n",
    "\n",
    "We will demonstrate preparation, measurement, and tomographic reconstruction of a 2-qubit Bell state $\\frac{1}{\\sqrt2}\\left(|00\\rangle+|11\\rangle\\right)$.\n",
    "\n",
    "### State preparation\n",
    "\n",
    "We begin with constructing a circuit to prepare the target state. This circuit requires a 2-qubit quantum register, and a 2-bit classical register to store measurement outcomes."
   ]
  },
  {
   "cell_type": "code",
   "execution_count": 3,
   "metadata": {},
   "outputs": [
    {
     "data": {
      "text/plain": [
       "<qiskit.extensions.standard.cx.CnotGate at 0xb8253c8>"
      ]
     },
     "execution_count": 3,
     "metadata": {},
     "output_type": "execute_result"
    }
   ],
   "source": [
    "Q_program = QuantumProgram()\n",
    "Q_program.set_api(Qconfig.APItoken, Qconfig.config['url']) # set the APIToken and API url\n",
    "\n",
    "# Creating registers\n",
    "qr = Q_program.create_quantum_register('qr', 2)\n",
    "cr = Q_program.create_classical_register('cr', 2)\n",
    "\n",
    "# quantum circuit to make an entangled bell state \n",
    "bell = Q_program.create_circuit('bell', [qr], [cr])\n",
    "bell.h(qr[0])\n",
    "bell.cx(qr[0], qr[1])"
   ]
  },
  {
   "cell_type": "markdown",
   "metadata": {},
   "source": [
    "#### Visualization of the ideal state\n",
    "\n",
    "Before we perform tomographic measurement, let's visualize the ideal output state from the preparation circuit. We may do this by executing the circuit on the `local_qasm_simulator` backend. Since this is a simulation, it gives us direct access to the final state vector if we only perform a single shot."
   ]
  },
  {
   "cell_type": "code",
   "execution_count": 4,
   "metadata": {
    "collapsed": true
   },
   "outputs": [],
   "source": [
    "bell_result = Q_program.execute(['bell'], backend='local_qasm_simulator', shots=1)\n",
    "bell_psi = bell_result.get_data('bell')['quantum_state']\n",
    "bell_rho = outer(bell_psi) # construct the density matrix from the state vector"
   ]
  },
  {
   "cell_type": "markdown",
   "metadata": {},
   "source": [
    "We may visualize the final state using the `plot_state` function. By default this creates a *city plot*, which is a 2D-bar plot of real and imaginary matrix elements of a density matrix $\\rho$. Here, we instead ask it to plot the Pauli state vector."
   ]
  },
  {
   "cell_type": "code",
   "execution_count": 5,
   "metadata": {},
   "outputs": [
    {
     "data": {
      "image/png": "[encoded data removed]",
      "text/plain": [
       "<matplotlib.figure.Figure at 0xbb16cf8>"
      ]
     },
     "metadata": {},
     "output_type": "display_data"
    }
   ],
   "source": [
    "# plot the state\n",
    "plot_state(bell_rho,'paulivec')"
   ]
  },
  {
   "cell_type": "markdown",
   "metadata": {},
   "source": [
    "We can compare the ideal entangled state to a non-entangled mixed state $\\frac{1}{2}(|00\\rangle\\langle00| +|11\\rangle\\langle11|)$:"
   ]
  },
  {
   "cell_type": "code",
   "execution_count": 6,
   "metadata": {},
   "outputs": [
    {
     "data": {
      "image/png": "[encoded data removed]",
      "text/plain": [
       "<matplotlib.figure.Figure at 0xbb0f898>"
      ]
     },
     "metadata": {},
     "output_type": "display_data"
    }
   ],
   "source": [
    "rho_mixed = np.array([[1,0,0,0],[0,0,0,0],[0,0,0,0],[0,0,0,1]])/2\n",
    "plot_state(rho_mixed, 'paulivec')"
   ]
  },
  {
   "cell_type": "markdown",
   "metadata": {},
   "source": [
    "### Building tomography measurement circuits\n",
    "\n",
    "Next we must construct a family of circuits which implement a tomographically complete set of measurements of the qubit. The **`tools.qcvv.tomography`** module contains functions to generate these measurement circuits for general n-qubit systems. \n",
    "\n",
    "#### Specifying the measured qubits and measurement basis\n",
    "\n",
    "A state tomography experiment is specified by a **`state_tomography_set`** object: \n",
    "```python\n",
    "tomo_set = tomo.state_tomography_set(qubits, meas_basis)\n",
    "```\n",
    "where\n",
    "- `qubits` is a list of the qubit indexes within a register (eg. [0, 1] for the first 2 qubits)\n",
    "- `meas_basis` is the basis to measure each qubit in. The default value is `meas_basis='Pauli'`.\n",
    "\n",
    "This contains information about which qubits are to be measured, and in what basis. The default option is to measure each single qubit in the X, Y, and Z bases.  This results in $3^n$ measurement circuits which must be executed to gather count statistics for the tomographic reconstruction.\n",
    "\n",
    "#### Adding measurement circuits to a Quantum Program\n",
    "\n",
    "Once a state tomography set has been defined the function to append the tomography circuits to a `QuantumProgram` is:\n",
    "```python\n",
    "tomo_labels = tomo.create_tomography_circuits(Q_program, 'name', qr, cr, state_tomo_set)\n",
    "```\n",
    "where \n",
    "- `Q_program` is the quantum program containing the preparation circuit `'name'`.\n",
    "- `'name'` is the name of the preparation circuit. \n",
    "- `qr` is the quantum register in `Q_program` to be measured.\n",
    "- `cr` is the classical register in `Q_program` to store the measurement results. \n",
    "- `state_tomo_set` is a `state_tomography_set`.\n",
    "\n",
    "The function output, `tomo_labels`, is a list of the strings for each of the tomography circuit names stored in the `Q_program`, which is used to execute the tomography experiments. The measures qubits will be `qr[j]`, with corresponding measurement outcomes stored in classical bits `cr[j]` where `j` corresponds to each qubit in the state tomography set."
   ]
  },
  {
   "cell_type": "code",
   "execution_count": 7,
   "metadata": {},
   "outputs": [
    {
     "name": "stdout",
     "output_type": "stream",
     "text": [
      "Created State tomography circuit labels:\n",
      "bell_meas_X(0)X(1)\n",
      "bell_meas_X(0)Y(1)\n",
      "bell_meas_X(0)Z(1)\n",
      "bell_meas_Y(0)X(1)\n",
      "bell_meas_Y(0)Y(1)\n",
      "bell_meas_Y(0)Z(1)\n",
      "bell_meas_Z(0)X(1)\n",
      "bell_meas_Z(0)Y(1)\n",
      "bell_meas_Z(0)Z(1)\n"
     ]
    }
   ],
   "source": [
    "# Construct state tomography set for measurement of qubits [0, 1] in the Pauli basis\n",
    "bell_tomo_set = tomo.state_tomography_set([0, 1])\n",
    "\n",
    "# Add the state tomography measurement circuits to the Quantum Program\n",
    "bell_tomo_circuits = tomo.create_tomography_circuits(Q_program, 'bell', qr, cr, bell_tomo_set)\n",
    "print('Created State tomography circuit labels:')\n",
    "for c in bell_tomo_circuits:\n",
    "    print(c)"
   ]
  },
  {
   "cell_type": "markdown",
   "metadata": {},
   "source": [
    "### Testing experiments on a simulator\n",
    "\n",
    "Now that we have prepared the required circuits for state preparation and measurement, we should test them on a simulator before trying to run them on the real device.\n",
    "\n",
    "We specify the device, and a number of experiment shots to perform to gather measurement statistics. The larger the number of shots, the more accurate our measurmeent probabilities will be compared to the *true* value."
   ]
  },
  {
   "cell_type": "code",
   "execution_count": 8,
   "metadata": {
    "scrolled": true
   },
   "outputs": [
    {
     "name": "stdout",
     "output_type": "stream",
     "text": [
      "COMPLETED\n"
     ]
    }
   ],
   "source": [
    "# Use the local simulator\n",
    "backend = 'local_qasm_simulator'\n",
    "\n",
    "# Take 5000 shots for each measurement basis\n",
    "shots = 5000\n",
    "\n",
    "# Run the simulation\n",
    "bell_tomo_result = Q_program.execute(bell_tomo_circuits, backend=backend, shots=shots)\n",
    "print(bell_tomo_result)"
   ]
  },
  {
   "cell_type": "markdown",
   "metadata": {},
   "source": [
    "### Extracting tomography data from results\n",
    "\n",
    "Next we extract the tomography data from the output results using:\n",
    "```python\n",
    "data = tomo.tomography_data(results, 'name', state_tomo_set)\n",
    "```\n",
    "where\n",
    "- `results` is the Result object returned from execution of `state_tomo_set` circuits.\n",
    "- `name` is the name of the original circuit used to generate tomography data\n",
    "- `state_tomo_set` is the tomography set used for generation of tomography data.\n",
    "\n",
    "This returns a dictionary which stores the measurement basis, and measured counts along with mesurement basis configuration corresponding to each outcome."
   ]
  },
  {
   "cell_type": "code",
   "execution_count": 9,
   "metadata": {
    "collapsed": true
   },
   "outputs": [],
   "source": [
    "bell_tomo_data = tomo.tomography_data(bell_tomo_result, 'bell', bell_tomo_set)"
   ]
  },
  {
   "cell_type": "markdown",
   "metadata": {},
   "source": [
    "### Reconstructing state from count data\n",
    "\n",
    "To reconstruct the maximum likelihod estimate of the measured quantum state we use the following function:\n",
    "```\n",
    "tomo.fit_tomography_data(tomo_data, method, options)\n",
    "```\n",
    "where\n",
    "- `QP` is the quantum program containing the measurement results\n",
    "- `circuits` is the array of tomographic measurement circuits measured\n",
    "- `shots` is the total number of shots for each measurement circuit\n",
    "- `total_qubits` is the total number of qubits in the system (the length of shot outcome bitstrings)\n",
    "- `meas_qubits` is an array of the measurement qubit indices"
   ]
  },
  {
   "cell_type": "code",
   "execution_count": 10,
   "metadata": {
    "collapsed": true
   },
   "outputs": [],
   "source": [
    "rho_fit = tomo.fit_tomography_data(bell_tomo_data)"
   ]
  },
  {
   "cell_type": "markdown",
   "metadata": {},
   "source": [
    "We can compare the reconstructed state to the target state vector. We use the Fidelity function, which for a comparing a density matrix $\\rho$ to a pure state $|\\psi\\rangle$ is given by $F = \\sqrt{\\langle \\psi| \\rho |\\psi\\rangle}$. This may be done by the function **`state_fidelity`** from the **`qiskit.tools.qi`** module."
   ]
  },
  {
   "cell_type": "code",
   "execution_count": 11,
   "metadata": {},
   "outputs": [
    {
     "data": {
      "image/png": "[encoded data removed]",
      "text/plain": [
       "<matplotlib.figure.Figure at 0xc9c6898>"
      ]
     },
     "metadata": {},
     "output_type": "display_data"
    },
    {
     "name": "stdout",
     "output_type": "stream",
     "text": [
      "Fidelity = 0.995445322017\n",
      "concurrence =  0.989891701317\n",
      "purity =  0.99097737006\n"
     ]
    }
   ],
   "source": [
    "# target state is (|00>+|11>)/sqrt(2)\n",
    "target = np.array([1., 0., 0., 1.]/np.sqrt(2.))\n",
    "\n",
    "# calculate fidelity, concurrence and purtity of fitted state\n",
    "F_fit = state_fidelity(rho_fit, [0.707107, 0, 0, 0.707107])\n",
    "con = concurrence(rho_fit)\n",
    "pur = purity(rho_fit)\n",
    "\n",
    "# plot \n",
    "plot_state(rho_fit, 'paulivec')\n",
    "print('Fidelity =', F_fit)\n",
    "print('concurrence = ', str(con))\n",
    "print('purity = ', str(pur))"
   ]
  },
  {
   "cell_type": "markdown",
   "metadata": {},
   "source": [
    "Note that since our simulator is *perfect* the output state should be *exactly* the Bell-state, so we should obtain F = 1. Why is it not in our case? Since we can never directly *see* the final state we must obtain information about it via measurements. We would only obtain the *true* probabilities for the state in the limit of infinite measurement shots. Hence we have statistical error in our reconstruction due to having imperfect information about the state itself. Try running with different number of shots on the simulator and see how it effects the fidelity of the reconstruction.\n",
    "\n",
    "### Running on a real device\n",
    "\n",
    "Now that we've checked our simple tomography experiment worked, lets try it out on the IBM Quantum Experience! To do this we must have attached our API key, and it is good practice to set a limit on the number of credits to use:"
   ]
  },
  {
   "cell_type": "code",
   "execution_count": 11,
   "metadata": {},
   "outputs": [
    {
     "name": "stdout",
     "output_type": "stream",
     "text": [
      "COMPLETED\n"
     ]
    }
   ],
   "source": [
    "# Use the IBM Quantum Experience\n",
    "backend = 'ibmqx2'\n",
    "# Take 1000 shots for each measurement basis\n",
    "# Note: reduce this number for larger number of qubits\n",
    "shots = 1000\n",
    "# set max credits\n",
    "max_credits = 8\n",
    "\n",
    "# Run the simulation\n",
    "bellqx_tomo_result = Q_program.execute(bell_tomo_circuits, backend=backend, shots=shots,\n",
    "                           max_credits=max_credits, wait=20, timeout=240)\n",
    "print(bellqx_tomo_result)"
   ]
  },
  {
   "cell_type": "markdown",
   "metadata": {},
   "source": [
    "As before we can extract the tomography data and reconstruct the measured density matrix for the 2-qubit Bell-state prepared by our test circuit"
   ]
  },
  {
   "cell_type": "code",
   "execution_count": 12,
   "metadata": {
    "collapsed": true
   },
   "outputs": [],
   "source": [
    "bellqx_tomo_data = tomo.tomography_data(bellqx_tomo_result, 'bell', bell_tomo_set)\n",
    "\n",
    "# Reconstruct experimentally measured density matrix \n",
    "rho_fit_real = tomo.fit_tomography_data(bellqx_tomo_data)"
   ]
  },
  {
   "cell_type": "markdown",
   "metadata": {},
   "source": [
    "Finally we compare the fidelity of the experimentally measued state to the ideal state. Noticed that the fidelity is lower than for the simulation. This is because in a real experiment there is not only the statistical error in the reconstruction, but also experimental error in the device when implementing the gates in the preparation and measurement circuits, and error in the measurements themselves."
   ]
  },
  {
   "cell_type": "code",
   "execution_count": 13,
   "metadata": {
    "scrolled": false
   },
   "outputs": [
    {
     "data": {
      "image/png": "[encoded data removed]",
      "text/plain": [
       "<matplotlib.figure.Figure at 0x119c03b70>"
      ]
     },
     "metadata": {},
     "output_type": "display_data"
    },
    {
     "name": "stdout",
     "output_type": "stream",
     "text": [
      "Fidelity with ideal state\n",
      "F = 0.937599059667\n",
      "concurrence =  0.63770779981\n",
      "purity =  0.784084198436\n"
     ]
    }
   ],
   "source": [
    "F_fit_real = state_fidelity(rho_fit_real, [0.707107, 0, 0, 0.707107])\n",
    "plot_state(rho_fit_real, 'paulivec')\n",
    "print('Fidelity with ideal state')\n",
    "print('F =', F_fit_real)\n",
    "\n",
    "# calculate concurrence and purity\n",
    "con = concurrence(rho_fit_real)\n",
    "pur = purity(rho_fit_real)\n",
    "print('concurrence = ', str(con))\n",
    "print('purity = ', str(pur))"
   ]
  },
  {
   "cell_type": "code",
   "execution_count": 13,
   "metadata": {},
   "outputs": [
    {
     "ename": "FileNotFoundError",
     "evalue": "[Errno 2] No such file or directory: '../requirements.txt'",
     "output_type": "error",
     "traceback": [
      "\u001b[1;31m---------------------------------------------------------------------------\u001b[0m",
      "\u001b[1;31mFileNotFoundError\u001b[0m                         Traceback (most recent call last)",
      "\u001b[1;32m~\\Documents\\Quantum Experience\\jay-qiskit-tutorial\\qiskit-tutorial\\version.ipynb\u001b[0m in \u001b[0;36m<module>\u001b[1;34m()\u001b[0m\n\u001b[1;32m----> 1\u001b[1;33m \u001b[1;32mfrom\u001b[0m \u001b[0mutils\u001b[0m \u001b[1;32mimport\u001b[0m \u001b[0mversion\u001b[0m\u001b[1;33m;\u001b[0m \u001b[0mversion\u001b[0m\u001b[1;33m.\u001b[0m\u001b[0mversion_information\u001b[0m\u001b[1;33m(\u001b[0m\u001b[1;33m)\u001b[0m\u001b[1;33m\u001b[0m\u001b[0m\n\u001b[0m",
      "\u001b[1;32m~\\Documents\\Quantum Experience\\jay-qiskit-tutorial\\qiskit-tutorial\\utils\\version.py\u001b[0m in \u001b[0;36mversion_information\u001b[1;34m(sdk_develop)\u001b[0m\n\u001b[0;32m     52\u001b[0m         \u001b[0mfilename\u001b[0m \u001b[1;33m=\u001b[0m \u001b[1;34m'../requirements.txt'\u001b[0m\u001b[1;33m\u001b[0m\u001b[0m\n\u001b[0;32m     53\u001b[0m \u001b[1;33m\u001b[0m\u001b[0m\n\u001b[1;32m---> 54\u001b[1;33m     \u001b[1;32mwith\u001b[0m \u001b[0mopen\u001b[0m\u001b[1;33m(\u001b[0m\u001b[0mfilename\u001b[0m\u001b[1;33m,\u001b[0m \u001b[1;34m'r'\u001b[0m\u001b[1;33m)\u001b[0m \u001b[1;32mas\u001b[0m \u001b[0mrequirements_file\u001b[0m\u001b[1;33m:\u001b[0m\u001b[1;33m\u001b[0m\u001b[0m\n\u001b[0m\u001b[0;32m     55\u001b[0m         \u001b[0mstr_requirements\u001b[0m \u001b[1;33m=\u001b[0m \u001b[0mrequirements_file\u001b[0m\u001b[1;33m.\u001b[0m\u001b[0mreadlines\u001b[0m\u001b[1;33m(\u001b[0m\u001b[1;33m)\u001b[0m\u001b[1;33m\u001b[0m\u001b[0m\n\u001b[0;32m     56\u001b[0m         \u001b[0mrequirements\u001b[0m \u001b[1;33m=\u001b[0m \u001b[1;33m[\u001b[0m\u001b[0mRequirement\u001b[0m\u001b[1;33m(\u001b[0m\u001b[0mi\u001b[0m\u001b[1;33m)\u001b[0m \u001b[1;32mfor\u001b[0m \u001b[0mi\u001b[0m \u001b[1;32min\u001b[0m \u001b[0mstr_requirements\u001b[0m\u001b[1;33m]\u001b[0m\u001b[1;33m\u001b[0m\u001b[0m\n",
      "\u001b[1;31mFileNotFoundError\u001b[0m: [Errno 2] No such file or directory: '../requirements.txt'"
     ]
    }
   ],
   "source": [
    "%run \"../../version.ipynb\""
   ]
  },
  {
   "cell_type": "code",
   "execution_count": null,
   "metadata": {
    "collapsed": true
   },
   "outputs": [],
   "source": []
  }
 ],
 "metadata": {
  "anaconda-cloud": {},
  "kernelspec": {
   "display_name": "Python 3",
   "language": "python",
   "name": "python3"
  },
  "language_info": {
   "codemirror_mode": {
    "name": "ipython",
    "version": 3
   },
   "file_extension": ".py",
   "mimetype": "text/x-python",
   "name": "python",
   "nbconvert_exporter": "python",
   "pygments_lexer": "ipython3",
   "version": "3.6.3"
  }
 },
 "nbformat": 4,
 "nbformat_minor": 1
}
