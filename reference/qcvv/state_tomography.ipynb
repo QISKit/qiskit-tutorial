{
 "cells": [
  {
   "cell_type": "markdown",
   "metadata": {},
   "source": [
    "<img src=\"../../images/qiskit-heading.gif\" alt=\"Note: In order for images to show up in this jupyter notebook you need to select File => Trusted Notebook\" width=\"500 px\" align=\"left\">"
   ]
  },
  {
   "cell_type": "markdown",
   "metadata": {},
   "source": [
    "## _*Quantum State Tomography*_ \n",
    "\n",
    "The latest version of this notebook is available on https://github.com/Qiskit/qiskit-tutorial.\n",
    "\n",
    "***\n",
    "### Contributors\n",
    "Christopher J. Wood$^{1}$ and Jay M. Gambetta$^{1}$\n",
    "\n",
    "1. IBM T.J. Watson Research Center, Yorktown Heights, NY, USA"
   ]
  },
  {
   "cell_type": "markdown",
   "metadata": {},
   "source": [
    "## Introduction\n",
    "\n",
    "In this notebook we demonstrate how to design and run experiments to perform quantum state tomography using Qiskit, and demonstrate this using both simulators and the IBM Q Experience hardware. \n",
    "\n",
    "The functions used in this notebook to implement state tomography may be imported from the `qiskit.tools.qcvv.tomography` module.\n",
    "\n",
    "#### Experiment Design\n",
    "\n",
    "The tomography experiments demonstrated in this notebook append a state preparation circuit with measurements of all qubits in each of the X, Y, and Z Pauli bases. For $n$-qubits this gives a total of $3^n$ measurement circuits which must be run, and the resulting counts for the $6^n$ measurement outcomes across all circuits give a tomographically overcomplete basis for reconstruction of the quantum state.\n",
    "\n",
    "#### State Reconstruction Methods\n",
    "\n",
    "State reconstruction may be done using a variety of methods. In this notebook we implement two simple cases: \n",
    "* Linear Inversion\n",
    "* Fast maximum likelihood (*see [J Smolin, JM Gambetta, G Smith, Phys. Rev. Lett. 108, 070502](https://journals.aps.org/prl/abstract/10.1103/PhysRevLett.108.070502), open access: [arXiv:1106.5458](https://arxiv.org/abs/1106.5458)*)."
   ]
  },
  {
   "cell_type": "code",
   "execution_count": 12,
   "metadata": {
    "ExecuteTime": {
     "end_time": "2018-09-28T17:49:10.809349Z",
     "start_time": "2018-09-28T17:49:10.790220Z"
    }
   },
   "outputs": [],
   "source": [
    "import numpy as np\n",
    "from time import sleep  # used for polling jobs\n",
    "    \n",
    "# importing the QISKit\n",
    "from qiskit import QuantumCircuit, QuantumRegister, ClassicalRegister\n",
    "from qiskit import register, execute, least_busy, available_backends, get_backend\n",
    "\n",
    "# import tomography library\n",
    "import qiskit.tools.qcvv.tomography as tomo\n",
    "\n",
    "# useful additional packages \n",
    "from qiskit.tools.visualization import plot_state, plot_histogram\n",
    "from qiskit.tools.qi.qi import state_fidelity, concurrence, purity, outer\n",
    "from qiskit.wrapper.jupyter import *"
   ]
  },
  {
   "cell_type": "code",
   "execution_count": 1,
   "metadata": {
    "ExecuteTime": {
     "end_time": "2018-09-28T17:48:03.299481Z",
     "start_time": "2018-09-28T17:48:03.285631Z"
    }
   },
   "outputs": [
    {
     "name": "stdout",
     "output_type": "stream",
     "text": [
      "Qconfig loaded from ../../Qconfig.py.\n"
     ]
    }
   ],
   "source": [
    "import sys, getpass\n",
    "try:\n",
    "    sys.path.append(\"../../\") # go to parent dir\n",
    "    import Qconfig\n",
    "    qx_config = {\n",
    "        \"APItoken\": Qconfig.APItoken,\n",
    "        \"url\": Qconfig.config['url']}\n",
    "    print('Qconfig loaded from %s.' % Qconfig.__file__)\n",
    "except:\n",
    "    APItoken = getpass.getpass('Please input your token and hit enter: ')\n",
    "    qx_config = {\n",
    "        \"APItoken\": APItoken,\n",
    "        \"url\":\"https://quantumexperience.ng.bluemix.net/api\"}\n",
    "    print('Qconfig.py not found in qiskit-tutorial directory; Qconfig loaded using user input.')"
   ]
  },
  {
   "cell_type": "markdown",
   "metadata": {},
   "source": [
    "## State tomography of an entangled Bell-state\n",
    "\n",
    "We will demonstrate preparation, measurement, and tomographic reconstruction of a 2-qubit Bell state $\\frac{1}{\\sqrt2}\\left(|00\\rangle+|11\\rangle\\right)$.\n",
    "\n",
    "### State preparation\n",
    "\n",
    "We begin with constructing a circuit to prepare the target state. This circuit requires a 2-qubit quantum register, and a 2-bit classical register to store measurement outcomes."
   ]
  },
  {
   "cell_type": "code",
   "execution_count": 3,
   "metadata": {
    "ExecuteTime": {
     "end_time": "2018-09-28T17:48:09.099805Z",
     "start_time": "2018-09-28T17:48:09.086795Z"
    }
   },
   "outputs": [
    {
     "data": {
      "text/plain": [
       "<qiskit.extensions.standard.cx.CnotGate at 0x1a28cb0208>"
      ]
     },
     "execution_count": 3,
     "metadata": {},
     "output_type": "execute_result"
    }
   ],
   "source": [
    "# Create a 2-qubit quantum register\n",
    "qr = QuantumRegister(2)\n",
    "cr = ClassicalRegister(2)\n",
    "\n",
    "# quantum circuit to make an entangled Bell state \n",
    "bell_circ = QuantumCircuit(qr, cr, name='bell')\n",
    "bell_circ.h(qr[1])\n",
    "bell_circ.cx(qr[1], qr[0])"
   ]
  },
  {
   "cell_type": "markdown",
   "metadata": {},
   "source": [
    "#### Visualization of the ideal state\n",
    "\n",
    "Before we perform tomographic measurement, we will visualize the ideal output state for the preparation circuit. We may obtain the final state-vector by executing the circuit on the `\"local_statevector_simulator\"` backend:"
   ]
  },
  {
   "cell_type": "code",
   "execution_count": 4,
   "metadata": {
    "ExecuteTime": {
     "end_time": "2018-09-28T17:48:11.241569Z",
     "start_time": "2018-09-28T17:48:11.133698Z"
    }
   },
   "outputs": [],
   "source": [
    "job = execute(bell_circ, backend='local_statevector_simulator')\n",
    "bell_psi = job.result().get_statevector(bell_circ)\n",
    "bell_rho = outer(bell_psi) # construct the density matrix from the state vector"
   ]
  },
  {
   "cell_type": "markdown",
   "metadata": {},
   "source": [
    "We may visualize the final state using the `plot_state` function. By default this creates a *city plot*, which is a 2D-bar plot of real and imaginary matrix elements of a density matrix $\\rho$. Here, we instead ask it to plot the Pauli state vector."
   ]
  },
  {
   "cell_type": "code",
   "execution_count": 5,
   "metadata": {
    "ExecuteTime": {
     "end_time": "2018-09-28T17:48:12.070981Z",
     "start_time": "2018-09-28T17:48:11.882162Z"
    }
   },
   "outputs": [
    {
     "data": {
      "image/png": "[encoded data removed]",
      "text/plain": [
       "<Figure size 432x288 with 1 Axes>"
      ]
     },
     "metadata": {
      "needs_background": "light"
     },
     "output_type": "display_data"
    }
   ],
   "source": [
    "# plot the state\n",
    "plot_state(bell_rho,'paulivec')"
   ]
  },
  {
   "cell_type": "markdown",
   "metadata": {},
   "source": [
    "We can compare the ideal entangled state to a non-entangled mixed state $\\frac{1}{2}(|00\\rangle\\langle00| +|11\\rangle\\langle11|)$:"
   ]
  },
  {
   "cell_type": "code",
   "execution_count": 6,
   "metadata": {
    "ExecuteTime": {
     "end_time": "2018-09-28T17:48:14.147560Z",
     "start_time": "2018-09-28T17:48:13.974305Z"
    }
   },
   "outputs": [
    {
     "data": {
      "image/png": "[encoded data removed]",
      "text/plain": [
       "<Figure size 432x288 with 1 Axes>"
      ]
     },
     "metadata": {
      "needs_background": "light"
     },
     "output_type": "display_data"
    }
   ],
   "source": [
    "rho_mixed = np.array([[1,0,0,0],[0,0,0,0],[0,0,0,0],[0,0,0,1]])/2\n",
    "plot_state(rho_mixed, 'paulivec')"
   ]
  },
  {
   "cell_type": "markdown",
   "metadata": {},
   "source": [
    "### Building tomography measurement circuits\n",
    "\n",
    "Next we must construct a family of circuits that implements a tomographically complete set of measurements of the qubit. The **`qiskit.tools.qcvv.tomography`** module contains functions to generate these measurement circuits for general n-qubit systems. \n",
    "\n",
    "#### Specifying the measured qubits and measurement basis\n",
    "\n",
    "A state tomography experiment is specified by a **`state_tomography_set`** object: \n",
    "```python\n",
    "tomo_set = tomo.state_tomography_set(qubits, meas_basis)\n",
    "```\n",
    "where\n",
    "- `qubits` is a list of the qubit indexes within a register (eg. [0, 1] for the first 2 qubits)\n",
    "- `meas_basis` is the basis to measure each qubit in. The default value is `meas_basis='Pauli'`.\n",
    "\n",
    "This contains information about which qubits are to be measured, and in what basis. The default option is to measure each single qubit in the X, Y, and Z bases.  This results in $3^n$ measurement circuits that must be executed to gather count statistics for the tomographic reconstruction.\n",
    "\n",
    "#### Adding measurement circuits to a Quantum Program\n",
    "\n",
    "Once a state tomography set has been defined, the function to append the tomography circuits to a `QuantumProgram` is:\n",
    "```python\n",
    "tomo_circuits = tomo.create_tomography_circuits(circuit, qr, cr, tomo_set)\n",
    "```\n",
    "where \n",
    "- `circuit` is the preparation circuit `'name'`, to be appended with measurements.\n",
    "- `qr` is the quantum register contained in `circuit` to be measured.\n",
    "- `cr` is the classical register in `circuit` to store the measurement results. \n",
    "- `tomo_set` is a `state_tomography_set`, the dict of tomography configurations.\n",
    "\n",
    "The function output `tomo_circuits` is a list of quantum tomography circuits used to execute the tomography experiments. The measured qubits will be `qr[j]`, with corresponding measurement outcomes stored in classical bits `cr[j]`, where `j` corresponds to each qubit in the state tomography set."
   ]
  },
  {
   "cell_type": "code",
   "execution_count": 7,
   "metadata": {
    "ExecuteTime": {
     "end_time": "2018-09-28T17:48:17.079595Z",
     "start_time": "2018-09-28T17:48:17.068060Z"
    }
   },
   "outputs": [
    {
     "name": "stdout",
     "output_type": "stream",
     "text": [
      "Created State tomography circuits:\n",
      "bell_meas_X(0)X(1)\n",
      "bell_meas_X(0)Y(1)\n",
      "bell_meas_X(0)Z(1)\n",
      "bell_meas_Y(0)X(1)\n",
      "bell_meas_Y(0)Y(1)\n",
      "bell_meas_Y(0)Z(1)\n",
      "bell_meas_Z(0)X(1)\n",
      "bell_meas_Z(0)Y(1)\n",
      "bell_meas_Z(0)Z(1)\n"
     ]
    }
   ],
   "source": [
    "# Construct state tomography set for measurement of qubits [0, 1] in the Pauli basis\n",
    "bell_tomo_set = tomo.state_tomography_set([0, 1])\n",
    "\n",
    "# Add the state tomography measurement circuits to the Quantum Program\n",
    "bell_tomo_circuits = tomo.create_tomography_circuits(bell_circ, qr, cr, bell_tomo_set)\n",
    "\n",
    "print('Created State tomography circuits:')\n",
    "for circ in bell_tomo_circuits:\n",
    "    print(circ.name)"
   ]
  },
  {
   "cell_type": "markdown",
   "metadata": {},
   "source": [
    "### Testing experiments on a simulator\n",
    "\n",
    "Now that we have prepared the required circuits for state preparation and measurement, we should test them on a simulator before trying to run them on the real device.\n",
    "\n",
    "We specify the device, and a number of experiment shots to perform to gather measurement statistics. The larger the number of shots, the more accurate our measurement probabilities will be compared to the *true* value."
   ]
  },
  {
   "cell_type": "code",
   "execution_count": 8,
   "metadata": {
    "ExecuteTime": {
     "end_time": "2018-09-28T17:48:19.635613Z",
     "start_time": "2018-09-28T17:48:19.328773Z"
    },
    "scrolled": true
   },
   "outputs": [
    {
     "name": "stdout",
     "output_type": "stream",
     "text": [
      "COMPLETED\n"
     ]
    }
   ],
   "source": [
    "# Use the local simulator\n",
    "backend = 'local_qasm_simulator'\n",
    "\n",
    "# Take 5000 shots for each measurement basis\n",
    "shots = 5000\n",
    "\n",
    "# Run the simulation\n",
    "bell_tomo_job = execute(bell_tomo_circuits, backend=backend, shots=shots)\n",
    "bell_tomo_result = bell_tomo_job.result()\n",
    "print(bell_tomo_result)"
   ]
  },
  {
   "cell_type": "markdown",
   "metadata": {},
   "source": [
    "### Extracting tomography data from results\n",
    "\n",
    "Next we extract the tomography data from the output results using:\n",
    "```python\n",
    "data = tomo.tomography_data(results, 'name', state_tomo_set)\n",
    "```\n",
    "where\n",
    "- `results` is the Result object returned from execution of `state_tomo_set` circuits.\n",
    "- `name` is the name of the original circuit used to generate tomography data.\n",
    "- `state_tomo_set` is the tomography set used for generation of tomography data.\n",
    "\n",
    "This returns a dictionary that stores the measurement basis, and measured counts along with measurement basis configuration corresponding to each outcome."
   ]
  },
  {
   "cell_type": "code",
   "execution_count": 9,
   "metadata": {
    "ExecuteTime": {
     "end_time": "2018-09-28T17:48:21.924411Z",
     "start_time": "2018-09-28T17:48:21.917505Z"
    }
   },
   "outputs": [],
   "source": [
    "bell_tomo_data = tomo.tomography_data(bell_tomo_result, bell_circ.name, bell_tomo_set)"
   ]
  },
  {
   "cell_type": "markdown",
   "metadata": {},
   "source": [
    "### Reconstructing state from count data\n",
    "\n",
    "To reconstruct the maximum likelihood estimate of the measured quantum state, we use the following function:\n",
    "```\n",
    "tomo.fit_tomography_data(tomo_data, method, options)\n",
    "```\n",
    "where\n",
    "- `QP` is the quantum program containing the measurement results\n",
    "- `circuits` is the array of tomographic measurement circuits measured\n",
    "- `shots` is the total number of shots for each measurement circuit\n",
    "- `total_qubits` is the total number of qubits in the system (the length of shot outcome bitstrings)\n",
    "- `meas_qubits` is an array of the measurement qubit indices"
   ]
  },
  {
   "cell_type": "code",
   "execution_count": 10,
   "metadata": {
    "ExecuteTime": {
     "end_time": "2018-09-28T17:48:24.260901Z",
     "start_time": "2018-09-28T17:48:24.243196Z"
    }
   },
   "outputs": [],
   "source": [
    "rho_fit = tomo.fit_tomography_data(bell_tomo_data)"
   ]
  },
  {
   "cell_type": "markdown",
   "metadata": {},
   "source": [
    "We can compare the reconstructed state to the target state vector. We use the Fidelity function, which for comparing a density matrix $\\rho$ to a pure state $|\\psi\\rangle$ is given by $F = \\sqrt{\\langle \\psi| \\rho |\\psi\\rangle}$. This may be done by the function **`state_fidelity`** from the **`qiskit.tools.qi`** module."
   ]
  },
  {
   "cell_type": "code",
   "execution_count": 11,
   "metadata": {
    "ExecuteTime": {
     "end_time": "2018-09-28T17:48:26.022505Z",
     "start_time": "2018-09-28T17:48:25.852958Z"
    }
   },
   "outputs": [
    {
     "data": {
      "image/png": "[encoded data removed]",
      "text/plain": [
       "<Figure size 432x288 with 1 Axes>"
      ]
     },
     "metadata": {
      "needs_background": "light"
     },
     "output_type": "display_data"
    },
    {
     "name": "stdout",
     "output_type": "stream",
     "text": [
      "Fidelity = 0.9975291228857819\n",
      "concurrence =  0.8805791360921791\n",
      "purity =  0.9955494990339162\n"
     ]
    }
   ],
   "source": [
    "# calculate fidelity, concurrence and purity of fitted state\n",
    "F_fit = state_fidelity(rho_fit, bell_psi)\n",
    "con = concurrence(rho_fit)\n",
    "pur = purity(rho_fit)\n",
    "\n",
    "# plot \n",
    "plot_state(rho_fit, 'paulivec')\n",
    "print('Fidelity =', F_fit)\n",
    "print('concurrence = ', str(con))\n",
    "print('purity = ', str(pur))"
   ]
  },
  {
   "cell_type": "markdown",
   "metadata": {},
   "source": [
    "Note that since our simulator is *perfect*, the output state should be *exactly* the Bell state, so we should obtain F = 1. Why is it not, in our case? Since we can never directly *see* the final state, we must obtain information about it via measurements. We would only obtain the *true* probabilities for the state in the limit of infinite measurement shots. Hence, we have statistical error in our reconstruction from imperfect information about the state itself. Try running with a different number of shots on the simulator and see how it affects the fidelity of the reconstruction.\n",
    "\n",
    "### Running on a real device\n",
    "\n",
    "Now that we've checked that our simple tomography experiment worked, let's try it out on the IBM Quantum Experience! To do this, we must attach our API key, and it is good practice to set a limit on the number of credits to use:"
   ]
  },
  {
   "cell_type": "code",
   "execution_count": 13,
   "metadata": {
    "ExecuteTime": {
     "end_time": "2018-09-28T17:49:30.883433Z",
     "start_time": "2018-09-28T17:49:17.265478Z"
    }
   },
   "outputs": [
    {
     "data": {
      "application/vnd.jupyter.widget-view+json": {
       "model_id": "9b9fcebcd127488c9e2c8de4cef21321",
       "version_major": 2,
       "version_minor": 0
      },
      "text/plain": [
       "VBox(children=(HTML(value=\"<p style='font-size:16px;'>Job Status : job is being initialized </p>\"),))"
      ]
     },
     "metadata": {},
     "output_type": "display_data"
    }
   ],
   "source": [
    "%%qiskit_job_status\n",
    "# Register API token for online backends\n",
    "register(qx_config['APItoken'], qx_config['url'])\n",
    "\n",
    "# Use the IBM Quantum Experience (choose least busy device)\n",
    "backend = least_busy(available_backends())\n",
    "\n",
    "# Take 1000 shots for each measurement basis\n",
    "# Note: reduce this number for larger number of qubits\n",
    "shots = 1000\n",
    "# set max credits to spend\n",
    "max_credits = 8\n",
    "\n",
    "# Run the experiment\n",
    "job_on_device = execute(bell_tomo_circuits, backend=backend, shots=shots, max_credits=max_credits)"
   ]
  },
  {
   "cell_type": "markdown",
   "metadata": {},
   "source": [
    "You can monitor the status of you job, and ask for the result.\n",
    "\n",
    "Note: a call to `job.result()` blocks until the job execution is done and result is available."
   ]
  },
  {
   "cell_type": "code",
   "execution_count": 14,
   "metadata": {
    "ExecuteTime": {
     "end_time": "2018-09-28T17:50:38.447581Z",
     "start_time": "2018-09-28T17:50:38.014193Z"
    }
   },
   "outputs": [],
   "source": [
    "# Wait for the result and get it when ready\n",
    "bell_tomo_result_device = job_on_device.result()"
   ]
  },
  {
   "cell_type": "markdown",
   "metadata": {},
   "source": [
    "As before, we can extract the tomography data and reconstruct the measured density matrix for the 2-qubit Bell state prepared by our test circuit"
   ]
  },
  {
   "cell_type": "code",
   "execution_count": 15,
   "metadata": {
    "ExecuteTime": {
     "end_time": "2018-09-28T17:50:39.554173Z",
     "start_time": "2018-09-28T17:50:39.541638Z"
    }
   },
   "outputs": [],
   "source": [
    "bell_tomo_data = tomo.tomography_data(bell_tomo_result_device, 'bell', bell_tomo_set)\n",
    "\n",
    "# Reconstruct experimentally measured density matrix \n",
    "rho_fit_real = tomo.fit_tomography_data(bell_tomo_data)"
   ]
  },
  {
   "cell_type": "markdown",
   "metadata": {},
   "source": [
    "Finally, we compare the fidelity of the experimentally measured state to the ideal state. Notice that the fidelity is lower than for the simulation. This is because in a real experiment, there is not only the statistical error in the reconstruction, but also experimental error in the device when implementing the gates in the preparation and measurement circuits, as well as error in the measurements themselves."
   ]
  },
  {
   "cell_type": "code",
   "execution_count": 16,
   "metadata": {
    "ExecuteTime": {
     "end_time": "2018-09-28T17:50:42.051555Z",
     "start_time": "2018-09-28T17:50:41.887294Z"
    },
    "scrolled": false
   },
   "outputs": [
    {
     "data": {
      "image/png": "[encoded data removed]",
      "text/plain": [
       "<Figure size 432x288 with 1 Axes>"
      ]
     },
     "metadata": {
      "needs_background": "light"
     },
     "output_type": "display_data"
    },
    {
     "name": "stdout",
     "output_type": "stream",
     "text": [
      "Fidelity with ideal state\n",
      "F = 0.7735592570691807\n",
      "concurrence =  0.4435698973682888\n",
      "purity =  0.6363623588488492\n"
     ]
    }
   ],
   "source": [
    "F_fit_real = state_fidelity(rho_fit_real, bell_psi)\n",
    "plot_state(rho_fit_real, 'paulivec')\n",
    "print('Fidelity with ideal state')\n",
    "print('F =', F_fit_real)\n",
    "\n",
    "# calculate concurrence and purity\n",
    "con = concurrence(rho_fit_real)\n",
    "pur = purity(rho_fit_real)\n",
    "print('concurrence = ', str(con))\n",
    "print('purity = ', str(pur))"
   ]
  },
  {
   "cell_type": "code",
   "execution_count": null,
   "metadata": {},
   "outputs": [],
   "source": []
  }
 ],
 "metadata": {
  "anaconda-cloud": {},
  "kernelspec": {
   "display_name": "Python 3",
   "language": "python",
   "name": "python3"
  },
  "language_info": {
   "codemirror_mode": {
    "name": "ipython",
    "version": 3
   },
   "file_extension": ".py",
   "mimetype": "text/x-python",
   "name": "python",
   "nbconvert_exporter": "python",
   "pygments_lexer": "ipython3",
   "version": "3.7.0"
  }
 },
 "nbformat": 4,
 "nbformat_minor": 2
}
