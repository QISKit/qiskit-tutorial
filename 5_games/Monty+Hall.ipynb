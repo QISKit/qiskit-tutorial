{
 "cells": [
  {
   "cell_type": "markdown",
   "metadata": {},
   "source": [
    "## _*Monty Hall*_ \n",
    "\n",
    "The latest version of this notebook is available on https://github.com/QISKit/qiskit-tutorial.\n",
    "\n",
    "For more information about how to use the IBM Q experience (QX), consult the [tutorials](https://quantumexperience.ng.bluemix.net/qstage/#/tutorial?sectionId=c59b3710b928891a1420190148a72cce&pageIndex=0), or check out the [community](https://quantumexperience.ng.bluemix.net/qstage/#/community).\n",
    "\n",
    "***\n",
    "### Contributors\n"
   ]
  },
  {
   "cell_type": "code",
   "execution_count": 42,
   "metadata": {
    "collapsed": true
   },
   "outputs": [],
   "source": [
    "# Checking the version of PYTHON; we only support 3 at the moment\n",
    "import sys\n",
    "if sys.version_info < (3,0):\n",
    "    raise Exception('Please use Python version 3 or greater.')\n",
    "    \n",
    "# useful additional packages \n",
    "import matplotlib.pyplot as plt\n",
    "%matplotlib inline\n",
    "import numpy as np\n",
    "import time\n",
    "\n",
    "import sys\n",
    "sys.path.append('C:/qiskit-sdk-py')\n",
    "sys.path.append('C:/qiskit-sdk-py/qiskit')\n",
    "# importing the QISKit\n",
    "from qiskit import QuantumCircuit, QuantumProgram\n",
    "import Qconfig\n",
    "\n",
    "# import basic plot tools\n",
    "from tools.visualization import plot_histogram"
   ]
  },
  {
   "cell_type": "code",
   "execution_count": 43,
   "metadata": {
    "collapsed": true
   },
   "outputs": [],
   "source": [
    "QPS_SPECS = {\n",
    "    'circuits': [{\n",
    "        'name': 'monty',\n",
    "        'quantum_registers': [{\n",
    "            'name':'q',\n",
    "            'size':5\n",
    "        }],\n",
    "        'classical_registers': [{\n",
    "            'name':'c',\n",
    "            'size':5\n",
    "        }]}],\n",
    "}\n",
    "\n"
   ]
  },
  {
   "cell_type": "code",
   "execution_count": 44,
   "metadata": {},
   "outputs": [
    {
     "name": "stdout",
     "output_type": "stream",
     "text": [
      "backend: make your choice by running one, and only one, of the TWO next cells\n"
     ]
    }
   ],
   "source": [
    "\"SETTING THE CIRCUIT\"\n",
    "\n",
    "Q_program = QuantumProgram(specs=QPS_SPECS)\n",
    "Q_program.set_api(Qconfig.APItoken, Qconfig.config['url'])\n",
    "monty = Q_program.get_circuit('monty') \n",
    "q = Q_program.get_quantum_register('q') \n",
    "c = Q_program.get_classical_register('c')\n",
    "\n",
    "monty.ry(1.911,q[2]);\n",
    "monty.cx(q[2],q[1]);\n",
    "monty.ry(-np.pi/4,q[2]);\n",
    "monty.h(q[1]);\n",
    "monty.h(q[2]);\n",
    "monty.cx(q[2],q[1]);\n",
    "monty.h(q[1]);\n",
    "monty.h(q[2]);\n",
    "monty.ry(np.pi/4,q[2])\n",
    "monty.x(q[0]);\n",
    "monty.cx(q[2],q[1]);\n",
    "monty.cx(q[1],q[0]);\n",
    "monty.cx(q[2],q[0]);\n",
    "monty.h(q[3]);\n",
    "monty.h(q[4]);\n",
    "monty.measure(q[0] , c[0]);\n",
    "monty.measure(q[1] , c[1]);\n",
    "monty.measure(q[2] , c[2]);\n",
    "monty.measure(q[3] , c[3]);\n",
    "monty.measure(q[4] , c[4]);\n",
    "\n",
    "circuits = ['monty']\n",
    "print('backend: make your choice by running one, and only one, of the TWO next cells')"
   ]
  },
  {
   "cell_type": "code",
   "execution_count": 45,
   "metadata": {
    "collapsed": true
   },
   "outputs": [],
   "source": [
    "\"REAL QUANTUM COMPUTER!\"\n",
    "backend = 'ibmqx4'"
   ]
  },
  {
   "cell_type": "code",
   "execution_count": 46,
   "metadata": {
    "collapsed": true
   },
   "outputs": [],
   "source": [
    "\"SIMULATOR\"\n",
    "backend = 'local_qasm_simulator'"
   ]
  },
  {
   "cell_type": "code",
   "execution_count": 77,
   "metadata": {},
   "outputs": [
    {
     "name": "stdout",
     "output_type": "stream",
     "text": [
      "running on backend: local_qasm_simulator\n",
      "Game Master: One cadillac and two goats are now hidden behind these doors.\n",
      "             Please make your choice by running one, and only one, of the THREE following cells.\n"
     ]
    }
   ],
   "source": [
    "\"HERE START THE GAME\"\n",
    "\"Hiding the Cadillac and the two goats behind the three doors\"\n",
    "shots = 1\n",
    "nb_of_cadillacs = 4\n",
    "\n",
    "while nb_of_cadillacs != 1:\n",
    "    result = Q_program.execute(circuits, backend=backend, shots=shots, max_credits=5, wait=5, timeout=600, silent=False)\n",
    "    time_exp = time.strftime('%d/%m/%Y %H:%M:%S')\n",
    "    c5str = str(result.get_counts('monty'))\n",
    "    nb_of_cadillacs = int(c5str[4]) + int(c5str[5]) + int(c5str[6])\n",
    "    if nb_of_cadillacs == 0:\n",
    "        print(\"They managed to hide three goats and no cadillac behind the doors! Restart of the hiding process...\")\n",
    "    if nb_of_cadillacs >= 2: \n",
    "        print(\"They managed to hide\", nb_of_cadillacs, \"cadillacs behind the doors! Restart of the hiding process...\")      \n",
    "print('Game Master: One cadillac and two goats are now hidden behind these doors.')\n",
    "print('             Please make your choice by running one, and only one, of the THREE following cells.')"
   ]
  },
  {
   "cell_type": "code",
   "execution_count": 78,
   "metadata": {
    "collapsed": true
   },
   "outputs": [],
   "source": [
    "\"Chosing the door that you see to your left\"\n",
    "Doorchosen = 1"
   ]
  },
  {
   "cell_type": "code",
   "execution_count": 79,
   "metadata": {
    "collapsed": true
   },
   "outputs": [],
   "source": [
    "\"Chosing the door that you see in front of you\"\n",
    "Doorchosen = 2"
   ]
  },
  {
   "cell_type": "code",
   "execution_count": 80,
   "metadata": {
    "collapsed": true
   },
   "outputs": [],
   "source": [
    "\"Chosing the door that you see to your right\"\n",
    "Doorchosen = 3"
   ]
  },
  {
   "cell_type": "code",
   "execution_count": 81,
   "metadata": {},
   "outputs": [
    {
     "name": "stdout",
     "output_type": "stream",
     "text": [
      "Game Master: I opened the left door and you see a goat \n",
      " Your choice was the right door\n",
      " You get now an opportunity to chance your choice!\n",
      " Do you want to switch for the central door? \n",
      "             Please make your choice by running one, and only one, of the TWO following cells.\n"
     ]
    }
   ],
   "source": [
    "\"AN OPPORTUNITY TO CHANGE YOUR MIND\"\n",
    "\n",
    "Label = [\"left\", \"central\", \"right\"]\n",
    "c5str = str(result.get_counts('monty'))\n",
    "\n",
    "randomnb = int(c5str[2]+c5str[3],2) #OK\n",
    "if randomnb > 1:\n",
    "    randomnb = randomnb - 2\n",
    "    \n",
    "if c5str[4] == \"1\":    \n",
    "    if Doorchosen == 1:\n",
    "        Dooropen = 2 + randomnb\n",
    "        Doorswitch = 3 - randomnb\n",
    "    if Doorchosen == 2:\n",
    "        Dooropen = 3\n",
    "        Doorswitch = 1\n",
    "    if Doorchosen == 3:\n",
    "        Dooropen = 2\n",
    "        Doorswitch = 1      \n",
    "               \n",
    "if c5str[5] == \"1\":\n",
    "    if Doorchosen == 2:\n",
    "        Dooropen = 1 + 2*randomnb\n",
    "        Doorswitch = 3 - 2*randomnb\n",
    "    if Doorchosen == 1: \n",
    "        Dooropen = 3\n",
    "        Doorswitch = 2\n",
    "    if Doorchosen == 3:   \n",
    "        Dooropen = 1\n",
    "        Doorswitch = 2\n",
    "        \n",
    "if c5str[6] == \"1\":\n",
    "    if Doorchosen == 3:\n",
    "        Dooropen = randomnb + 1\n",
    "        Doorswitch = 2 - randomnb\n",
    "    if Doorchosen == 1: \n",
    "        Dooropen = 2\n",
    "        Doorswitch = 3\n",
    "    if Doorchosen == 2:   \n",
    "        Dooropen = 1\n",
    "        Doorswitch = 3\n",
    "            \n",
    "print('Game Master: I opened the', Label[Dooropen-1], 'door and you see a goat ')\n",
    "print(' Your choice was the',Label[Doorchosen-1], \"door\")\n",
    "print(' You get now an opportunity to chance your choice!')\n",
    "print(' Do you want to switch for the',Label[Doorswitch-1], \"door?\"' ')\n",
    "print('             Please make your choice by running one, and only one, of the TWO following cells.')"
   ]
  },
  {
   "cell_type": "code",
   "execution_count": 91,
   "metadata": {},
   "outputs": [],
   "source": [
    "\"I STICK TO MY FIRST CHOICE!\"\n",
    "Doorfinal = Doorchosen"
   ]
  },
  {
   "cell_type": "code",
   "execution_count": 93,
   "metadata": {},
   "outputs": [],
   "source": [
    "\"I CHANGE MY MIND!\"\n",
    "Doorfinal = Doorswitch     "
   ]
  },
  {
   "cell_type": "code",
   "execution_count": 94,
   "metadata": {},
   "outputs": [
    {
     "name": "stdout",
     "output_type": "stream",
     "text": [
      "Game Master: You opened the central door and won the Cadillac! Congratulations!\n"
     ]
    }
   ],
   "source": [
    "\"FINAL ANNOUNCE\"\n",
    "if c5str[Doorfinal+3] == \"1\":\n",
    "    endmessage = 'won the Cadillac! Congratulations!'\n",
    "else:\n",
    "    endmessage = 'won a goat! Sorry!'\n",
    "print('Game Master: You opened the',Label[Doorfinal-1],'door and', endmessage)"
   ]
  },
  {
   "cell_type": "code",
   "execution_count": 95,
   "metadata": {},
   "outputs": [
    {
     "name": "stdout",
     "output_type": "stream",
     "text": [
      "30/10/2017 10:02:37 local_qasm_simulator {'10010': 1} 3 2\n"
     ]
    }
   ],
   "source": [
    "print(time_exp, backend, c5str, Doorchosen, Doorfinal) #check"
   ]
  },
  {
   "cell_type": "code",
   "execution_count": null,
   "metadata": {
    "collapsed": true
   },
   "outputs": [],
   "source": []
  }
 ],
 "metadata": {
  "anaconda-cloud": {},
  "kernelspec": {
   "display_name": "Python 3",
   "language": "python",
   "name": "python3"
  },
  "language_info": {
   "codemirror_mode": {
    "name": "ipython",
    "version": 3
   },
   "file_extension": ".py",
   "mimetype": "text/x-python",
   "name": "python",
   "nbconvert_exporter": "python",
   "pygments_lexer": "ipython3",
   "version": "3.6.1"
  }
 },
 "nbformat": 4,
 "nbformat_minor": 1
}
